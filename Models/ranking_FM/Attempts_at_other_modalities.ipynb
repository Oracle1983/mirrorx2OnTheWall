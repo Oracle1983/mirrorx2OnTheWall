{
  "nbformat": 4,
  "nbformat_minor": 0,
  "metadata": {
    "colab": {
      "name": "Attempts at other modalities.ipynb",
      "provenance": [],
      "toc_visible": true
    },
    "kernelspec": {
      "name": "python3",
      "display_name": "Python 3"
    },
    "accelerator": "GPU"
  },
  "cells": [
    {
      "cell_type": "code",
      "metadata": {
        "id": "D3EQBrEk1_UF",
        "colab_type": "code",
        "colab": {
          "base_uri": "https://localhost:8080/",
          "height": 55
        },
        "outputId": "2a634803-d693-4594-e4a7-9e2d5c6603b5"
      },
      "source": [
        "from google.colab import drive\n",
        "drive.mount('/content/drive')"
      ],
      "execution_count": null,
      "outputs": [
        {
          "output_type": "stream",
          "text": [
            "Drive already mounted at /content/drive; to attempt to forcibly remount, call drive.mount(\"/content/drive\", force_remount=True).\n"
          ],
          "name": "stdout"
        }
      ]
    },
    {
      "cell_type": "code",
      "metadata": {
        "id": "lHXfYsdD2F03",
        "colab_type": "code",
        "colab": {
          "base_uri": "https://localhost:8080/",
          "height": 35
        },
        "outputId": "36540fd7-49ed-4449-8363-38f305b208ce"
      },
      "source": [
        "%cd \"/content/drive/My Drive/Recommender Systems/Data\""
      ],
      "execution_count": null,
      "outputs": [
        {
          "output_type": "stream",
          "text": [
            "/content/drive/My Drive/Recommender Systems/Data\n"
          ],
          "name": "stdout"
        }
      ]
    },
    {
      "cell_type": "markdown",
      "metadata": {
        "id": "Nv_1ZQXk2j9P",
        "colab_type": "text"
      },
      "source": [
        "# Reading in  data from pickle to pandas df"
      ]
    },
    {
      "cell_type": "code",
      "metadata": {
        "id": "tx1-t4jj2ZmL",
        "colab_type": "code",
        "colab": {}
      },
      "source": [
        "import pandas as pd"
      ],
      "execution_count": null,
      "outputs": []
    },
    {
      "cell_type": "code",
      "metadata": {
        "id": "LEA5TN3s2HbY",
        "colab_type": "code",
        "colab": {}
      },
      "source": [
        "df = pd.read_pickle(\"final_dataset_merged_S2V.pkl\")"
      ],
      "execution_count": null,
      "outputs": []
    },
    {
      "cell_type": "code",
      "metadata": {
        "id": "RwrTmM7EkQvY",
        "colab_type": "code",
        "colab": {
          "base_uri": "https://localhost:8080/",
          "height": 1000
        },
        "outputId": "82ce2f8c-6ff9-4fe0-adb2-4b51cdf8a4ca"
      },
      "source": [
        "df.head(n=40)"
      ],
      "execution_count": null,
      "outputs": [
        {
          "output_type": "execute_result",
          "data": {
            "text/html": [
              "<div>\n",
              "<style scoped>\n",
              "    .dataframe tbody tr th:only-of-type {\n",
              "        vertical-align: middle;\n",
              "    }\n",
              "\n",
              "    .dataframe tbody tr th {\n",
              "        vertical-align: top;\n",
              "    }\n",
              "\n",
              "    .dataframe thead th {\n",
              "        text-align: right;\n",
              "    }\n",
              "</style>\n",
              "<table border=\"1\" class=\"dataframe\">\n",
              "  <thead>\n",
              "    <tr style=\"text-align: right;\">\n",
              "      <th></th>\n",
              "      <th>user_id</th>\n",
              "      <th>item_id</th>\n",
              "      <th>rating</th>\n",
              "      <th>categories</th>\n",
              "      <th>title</th>\n",
              "      <th>description</th>\n",
              "      <th>brand</th>\n",
              "      <th>price</th>\n",
              "      <th>embedding</th>\n",
              "    </tr>\n",
              "  </thead>\n",
              "  <tbody>\n",
              "    <tr>\n",
              "      <th>0</th>\n",
              "      <td>A1KLRMWW2FWPL4</td>\n",
              "      <td>0000031887</td>\n",
              "      <td>5.0</td>\n",
              "      <td>['Clothing', 'Shoes &amp; Jewelry', 'Girls', 'Acti...</td>\n",
              "      <td>Ballet Dress-Up Fairy Tutu</td>\n",
              "      <td>This adorable basic ballerina tutu is perfect ...</td>\n",
              "      <td>Boutique Cutie</td>\n",
              "      <td>6.79</td>\n",
              "      <td>[0.06690815, 0.0131465085, 0.00455577, 0.12448...</td>\n",
              "    </tr>\n",
              "    <tr>\n",
              "      <th>1</th>\n",
              "      <td>A2G5TCU2WDFZ65</td>\n",
              "      <td>0000031887</td>\n",
              "      <td>5.0</td>\n",
              "      <td>['Clothing', 'Shoes &amp; Jewelry', 'Girls', 'Acti...</td>\n",
              "      <td>Ballet Dress-Up Fairy Tutu</td>\n",
              "      <td>This adorable basic ballerina tutu is perfect ...</td>\n",
              "      <td>Boutique Cutie</td>\n",
              "      <td>6.79</td>\n",
              "      <td>[0.06690815, 0.0131465085, 0.00455577, 0.12448...</td>\n",
              "    </tr>\n",
              "    <tr>\n",
              "      <th>2</th>\n",
              "      <td>A1RLQXYNCMWRWN</td>\n",
              "      <td>0000031887</td>\n",
              "      <td>5.0</td>\n",
              "      <td>['Clothing', 'Shoes &amp; Jewelry', 'Girls', 'Acti...</td>\n",
              "      <td>Ballet Dress-Up Fairy Tutu</td>\n",
              "      <td>This adorable basic ballerina tutu is perfect ...</td>\n",
              "      <td>Boutique Cutie</td>\n",
              "      <td>6.79</td>\n",
              "      <td>[0.06690815, 0.0131465085, 0.00455577, 0.12448...</td>\n",
              "    </tr>\n",
              "    <tr>\n",
              "      <th>3</th>\n",
              "      <td>A8U3FAMSJVHS5</td>\n",
              "      <td>0000031887</td>\n",
              "      <td>5.0</td>\n",
              "      <td>['Clothing', 'Shoes &amp; Jewelry', 'Girls', 'Acti...</td>\n",
              "      <td>Ballet Dress-Up Fairy Tutu</td>\n",
              "      <td>This adorable basic ballerina tutu is perfect ...</td>\n",
              "      <td>Boutique Cutie</td>\n",
              "      <td>6.79</td>\n",
              "      <td>[0.06690815, 0.0131465085, 0.00455577, 0.12448...</td>\n",
              "    </tr>\n",
              "    <tr>\n",
              "      <th>4</th>\n",
              "      <td>A3GEOILWLK86XM</td>\n",
              "      <td>0000031887</td>\n",
              "      <td>5.0</td>\n",
              "      <td>['Clothing', 'Shoes &amp; Jewelry', 'Girls', 'Acti...</td>\n",
              "      <td>Ballet Dress-Up Fairy Tutu</td>\n",
              "      <td>This adorable basic ballerina tutu is perfect ...</td>\n",
              "      <td>Boutique Cutie</td>\n",
              "      <td>6.79</td>\n",
              "      <td>[0.06690815, 0.0131465085, 0.00455577, 0.12448...</td>\n",
              "    </tr>\n",
              "    <tr>\n",
              "      <th>5</th>\n",
              "      <td>A27UF1MSF3DB2</td>\n",
              "      <td>0000031887</td>\n",
              "      <td>4.0</td>\n",
              "      <td>['Clothing', 'Shoes &amp; Jewelry', 'Girls', 'Acti...</td>\n",
              "      <td>Ballet Dress-Up Fairy Tutu</td>\n",
              "      <td>This adorable basic ballerina tutu is perfect ...</td>\n",
              "      <td>Boutique Cutie</td>\n",
              "      <td>6.79</td>\n",
              "      <td>[0.06690815, 0.0131465085, 0.00455577, 0.12448...</td>\n",
              "    </tr>\n",
              "    <tr>\n",
              "      <th>6</th>\n",
              "      <td>A16GFPNVF4Y816</td>\n",
              "      <td>0000031887</td>\n",
              "      <td>5.0</td>\n",
              "      <td>['Clothing', 'Shoes &amp; Jewelry', 'Girls', 'Acti...</td>\n",
              "      <td>Ballet Dress-Up Fairy Tutu</td>\n",
              "      <td>This adorable basic ballerina tutu is perfect ...</td>\n",
              "      <td>Boutique Cutie</td>\n",
              "      <td>6.79</td>\n",
              "      <td>[0.06690815, 0.0131465085, 0.00455577, 0.12448...</td>\n",
              "    </tr>\n",
              "    <tr>\n",
              "      <th>7</th>\n",
              "      <td>A2M2APVYIB2U6K</td>\n",
              "      <td>0000031887</td>\n",
              "      <td>5.0</td>\n",
              "      <td>['Clothing', 'Shoes &amp; Jewelry', 'Girls', 'Acti...</td>\n",
              "      <td>Ballet Dress-Up Fairy Tutu</td>\n",
              "      <td>This adorable basic ballerina tutu is perfect ...</td>\n",
              "      <td>Boutique Cutie</td>\n",
              "      <td>6.79</td>\n",
              "      <td>[0.06690815, 0.0131465085, 0.00455577, 0.12448...</td>\n",
              "    </tr>\n",
              "    <tr>\n",
              "      <th>8</th>\n",
              "      <td>A1NJ71X3YPQNQ9</td>\n",
              "      <td>0000031887</td>\n",
              "      <td>4.0</td>\n",
              "      <td>['Clothing', 'Shoes &amp; Jewelry', 'Girls', 'Acti...</td>\n",
              "      <td>Ballet Dress-Up Fairy Tutu</td>\n",
              "      <td>This adorable basic ballerina tutu is perfect ...</td>\n",
              "      <td>Boutique Cutie</td>\n",
              "      <td>6.79</td>\n",
              "      <td>[0.06690815, 0.0131465085, 0.00455577, 0.12448...</td>\n",
              "    </tr>\n",
              "    <tr>\n",
              "      <th>9</th>\n",
              "      <td>A3EERSWHAI6SO</td>\n",
              "      <td>0000031887</td>\n",
              "      <td>5.0</td>\n",
              "      <td>['Clothing', 'Shoes &amp; Jewelry', 'Girls', 'Acti...</td>\n",
              "      <td>Ballet Dress-Up Fairy Tutu</td>\n",
              "      <td>This adorable basic ballerina tutu is perfect ...</td>\n",
              "      <td>Boutique Cutie</td>\n",
              "      <td>6.79</td>\n",
              "      <td>[0.06690815, 0.0131465085, 0.00455577, 0.12448...</td>\n",
              "    </tr>\n",
              "    <tr>\n",
              "      <th>10</th>\n",
              "      <td>AX1QE6IR7CHXM</td>\n",
              "      <td>0000031887</td>\n",
              "      <td>5.0</td>\n",
              "      <td>['Clothing', 'Shoes &amp; Jewelry', 'Girls', 'Acti...</td>\n",
              "      <td>Ballet Dress-Up Fairy Tutu</td>\n",
              "      <td>This adorable basic ballerina tutu is perfect ...</td>\n",
              "      <td>Boutique Cutie</td>\n",
              "      <td>6.79</td>\n",
              "      <td>[0.06690815, 0.0131465085, 0.00455577, 0.12448...</td>\n",
              "    </tr>\n",
              "    <tr>\n",
              "      <th>11</th>\n",
              "      <td>A2A2WZYLU528RO</td>\n",
              "      <td>0000031887</td>\n",
              "      <td>5.0</td>\n",
              "      <td>['Clothing', 'Shoes &amp; Jewelry', 'Girls', 'Acti...</td>\n",
              "      <td>Ballet Dress-Up Fairy Tutu</td>\n",
              "      <td>This adorable basic ballerina tutu is perfect ...</td>\n",
              "      <td>Boutique Cutie</td>\n",
              "      <td>6.79</td>\n",
              "      <td>[0.06690815, 0.0131465085, 0.00455577, 0.12448...</td>\n",
              "    </tr>\n",
              "    <tr>\n",
              "      <th>12</th>\n",
              "      <td>A391EXIT5TFP72</td>\n",
              "      <td>0000031887</td>\n",
              "      <td>5.0</td>\n",
              "      <td>['Clothing', 'Shoes &amp; Jewelry', 'Girls', 'Acti...</td>\n",
              "      <td>Ballet Dress-Up Fairy Tutu</td>\n",
              "      <td>This adorable basic ballerina tutu is perfect ...</td>\n",
              "      <td>Boutique Cutie</td>\n",
              "      <td>6.79</td>\n",
              "      <td>[0.06690815, 0.0131465085, 0.00455577, 0.12448...</td>\n",
              "    </tr>\n",
              "    <tr>\n",
              "      <th>13</th>\n",
              "      <td>A34ATJR9KFIXL9</td>\n",
              "      <td>0000031887</td>\n",
              "      <td>5.0</td>\n",
              "      <td>['Clothing', 'Shoes &amp; Jewelry', 'Girls', 'Acti...</td>\n",
              "      <td>Ballet Dress-Up Fairy Tutu</td>\n",
              "      <td>This adorable basic ballerina tutu is perfect ...</td>\n",
              "      <td>Boutique Cutie</td>\n",
              "      <td>6.79</td>\n",
              "      <td>[0.06690815, 0.0131465085, 0.00455577, 0.12448...</td>\n",
              "    </tr>\n",
              "    <tr>\n",
              "      <th>14</th>\n",
              "      <td>AJ6B83I4YJHYW</td>\n",
              "      <td>0000031887</td>\n",
              "      <td>5.0</td>\n",
              "      <td>['Clothing', 'Shoes &amp; Jewelry', 'Girls', 'Acti...</td>\n",
              "      <td>Ballet Dress-Up Fairy Tutu</td>\n",
              "      <td>This adorable basic ballerina tutu is perfect ...</td>\n",
              "      <td>Boutique Cutie</td>\n",
              "      <td>6.79</td>\n",
              "      <td>[0.06690815, 0.0131465085, 0.00455577, 0.12448...</td>\n",
              "    </tr>\n",
              "    <tr>\n",
              "      <th>15</th>\n",
              "      <td>A26A4KKLAVTMCC</td>\n",
              "      <td>0000031887</td>\n",
              "      <td>3.0</td>\n",
              "      <td>['Clothing', 'Shoes &amp; Jewelry', 'Girls', 'Acti...</td>\n",
              "      <td>Ballet Dress-Up Fairy Tutu</td>\n",
              "      <td>This adorable basic ballerina tutu is perfect ...</td>\n",
              "      <td>Boutique Cutie</td>\n",
              "      <td>6.79</td>\n",
              "      <td>[0.06690815, 0.0131465085, 0.00455577, 0.12448...</td>\n",
              "    </tr>\n",
              "    <tr>\n",
              "      <th>16</th>\n",
              "      <td>A1MXJVYXE2QU6H</td>\n",
              "      <td>0000031887</td>\n",
              "      <td>5.0</td>\n",
              "      <td>['Clothing', 'Shoes &amp; Jewelry', 'Girls', 'Acti...</td>\n",
              "      <td>Ballet Dress-Up Fairy Tutu</td>\n",
              "      <td>This adorable basic ballerina tutu is perfect ...</td>\n",
              "      <td>Boutique Cutie</td>\n",
              "      <td>6.79</td>\n",
              "      <td>[0.06690815, 0.0131465085, 0.00455577, 0.12448...</td>\n",
              "    </tr>\n",
              "    <tr>\n",
              "      <th>17</th>\n",
              "      <td>A2XJ13PIXVJFJH</td>\n",
              "      <td>0000031887</td>\n",
              "      <td>1.0</td>\n",
              "      <td>['Clothing', 'Shoes &amp; Jewelry', 'Girls', 'Acti...</td>\n",
              "      <td>Ballet Dress-Up Fairy Tutu</td>\n",
              "      <td>This adorable basic ballerina tutu is perfect ...</td>\n",
              "      <td>Boutique Cutie</td>\n",
              "      <td>6.79</td>\n",
              "      <td>[0.06690815, 0.0131465085, 0.00455577, 0.12448...</td>\n",
              "    </tr>\n",
              "    <tr>\n",
              "      <th>18</th>\n",
              "      <td>A287XY94U7JDM8</td>\n",
              "      <td>0000031887</td>\n",
              "      <td>5.0</td>\n",
              "      <td>['Clothing', 'Shoes &amp; Jewelry', 'Girls', 'Acti...</td>\n",
              "      <td>Ballet Dress-Up Fairy Tutu</td>\n",
              "      <td>This adorable basic ballerina tutu is perfect ...</td>\n",
              "      <td>Boutique Cutie</td>\n",
              "      <td>6.79</td>\n",
              "      <td>[0.06690815, 0.0131465085, 0.00455577, 0.12448...</td>\n",
              "    </tr>\n",
              "    <tr>\n",
              "      <th>19</th>\n",
              "      <td>A1JR9KKF6UKUWW</td>\n",
              "      <td>0000031887</td>\n",
              "      <td>5.0</td>\n",
              "      <td>['Clothing', 'Shoes &amp; Jewelry', 'Girls', 'Acti...</td>\n",
              "      <td>Ballet Dress-Up Fairy Tutu</td>\n",
              "      <td>This adorable basic ballerina tutu is perfect ...</td>\n",
              "      <td>Boutique Cutie</td>\n",
              "      <td>6.79</td>\n",
              "      <td>[0.06690815, 0.0131465085, 0.00455577, 0.12448...</td>\n",
              "    </tr>\n",
              "    <tr>\n",
              "      <th>20</th>\n",
              "      <td>A2SX7X8QGQVCJU</td>\n",
              "      <td>0000031887</td>\n",
              "      <td>5.0</td>\n",
              "      <td>['Clothing', 'Shoes &amp; Jewelry', 'Girls', 'Acti...</td>\n",
              "      <td>Ballet Dress-Up Fairy Tutu</td>\n",
              "      <td>This adorable basic ballerina tutu is perfect ...</td>\n",
              "      <td>Boutique Cutie</td>\n",
              "      <td>6.79</td>\n",
              "      <td>[0.06690815, 0.0131465085, 0.00455577, 0.12448...</td>\n",
              "    </tr>\n",
              "    <tr>\n",
              "      <th>21</th>\n",
              "      <td>A2Q6UWR5PBHTJS</td>\n",
              "      <td>0000031887</td>\n",
              "      <td>5.0</td>\n",
              "      <td>['Clothing', 'Shoes &amp; Jewelry', 'Girls', 'Acti...</td>\n",
              "      <td>Ballet Dress-Up Fairy Tutu</td>\n",
              "      <td>This adorable basic ballerina tutu is perfect ...</td>\n",
              "      <td>Boutique Cutie</td>\n",
              "      <td>6.79</td>\n",
              "      <td>[0.06690815, 0.0131465085, 0.00455577, 0.12448...</td>\n",
              "    </tr>\n",
              "    <tr>\n",
              "      <th>22</th>\n",
              "      <td>AJZPHJR944IBB</td>\n",
              "      <td>0000031887</td>\n",
              "      <td>4.0</td>\n",
              "      <td>['Clothing', 'Shoes &amp; Jewelry', 'Girls', 'Acti...</td>\n",
              "      <td>Ballet Dress-Up Fairy Tutu</td>\n",
              "      <td>This adorable basic ballerina tutu is perfect ...</td>\n",
              "      <td>Boutique Cutie</td>\n",
              "      <td>6.79</td>\n",
              "      <td>[0.06690815, 0.0131465085, 0.00455577, 0.12448...</td>\n",
              "    </tr>\n",
              "    <tr>\n",
              "      <th>23</th>\n",
              "      <td>A2WNN1DQVL4LH5</td>\n",
              "      <td>0123456479</td>\n",
              "      <td>5.0</td>\n",
              "      <td>['Clothing', 'Shoes &amp; Jewelry', 'Novelty', 'Co...</td>\n",
              "      <td>SHINING IMAGE HUGE PINK LEATHER JEWELRY BOX / ...</td>\n",
              "      <td>Elegance par excellence. Hand-crafted of the f...</td>\n",
              "      <td>NaN</td>\n",
              "      <td>64.98</td>\n",
              "      <td>[0.29664797, 0.009992434, 0.012275457, 0.14399...</td>\n",
              "    </tr>\n",
              "    <tr>\n",
              "      <th>24</th>\n",
              "      <td>A1ZPOCG2ST2CY3</td>\n",
              "      <td>0123456479</td>\n",
              "      <td>5.0</td>\n",
              "      <td>['Clothing', 'Shoes &amp; Jewelry', 'Novelty', 'Co...</td>\n",
              "      <td>SHINING IMAGE HUGE PINK LEATHER JEWELRY BOX / ...</td>\n",
              "      <td>Elegance par excellence. Hand-crafted of the f...</td>\n",
              "      <td>NaN</td>\n",
              "      <td>64.98</td>\n",
              "      <td>[0.29664797, 0.009992434, 0.012275457, 0.14399...</td>\n",
              "    </tr>\n",
              "    <tr>\n",
              "      <th>25</th>\n",
              "      <td>A1WDJIFL2F4QJA</td>\n",
              "      <td>0123456479</td>\n",
              "      <td>5.0</td>\n",
              "      <td>['Clothing', 'Shoes &amp; Jewelry', 'Novelty', 'Co...</td>\n",
              "      <td>SHINING IMAGE HUGE PINK LEATHER JEWELRY BOX / ...</td>\n",
              "      <td>Elegance par excellence. Hand-crafted of the f...</td>\n",
              "      <td>NaN</td>\n",
              "      <td>64.98</td>\n",
              "      <td>[0.29664797, 0.009992434, 0.012275457, 0.14399...</td>\n",
              "    </tr>\n",
              "    <tr>\n",
              "      <th>26</th>\n",
              "      <td>A3RB1JA72Z0TUN</td>\n",
              "      <td>0123456479</td>\n",
              "      <td>3.0</td>\n",
              "      <td>['Clothing', 'Shoes &amp; Jewelry', 'Novelty', 'Co...</td>\n",
              "      <td>SHINING IMAGE HUGE PINK LEATHER JEWELRY BOX / ...</td>\n",
              "      <td>Elegance par excellence. Hand-crafted of the f...</td>\n",
              "      <td>NaN</td>\n",
              "      <td>64.98</td>\n",
              "      <td>[0.29664797, 0.009992434, 0.012275457, 0.14399...</td>\n",
              "    </tr>\n",
              "    <tr>\n",
              "      <th>27</th>\n",
              "      <td>A1JC50F14SLAEV</td>\n",
              "      <td>0123456479</td>\n",
              "      <td>3.0</td>\n",
              "      <td>['Clothing', 'Shoes &amp; Jewelry', 'Novelty', 'Co...</td>\n",
              "      <td>SHINING IMAGE HUGE PINK LEATHER JEWELRY BOX / ...</td>\n",
              "      <td>Elegance par excellence. Hand-crafted of the f...</td>\n",
              "      <td>NaN</td>\n",
              "      <td>64.98</td>\n",
              "      <td>[0.29664797, 0.009992434, 0.012275457, 0.14399...</td>\n",
              "    </tr>\n",
              "    <tr>\n",
              "      <th>28</th>\n",
              "      <td>A8WD29DKN8ZC3</td>\n",
              "      <td>0123456479</td>\n",
              "      <td>4.0</td>\n",
              "      <td>['Clothing', 'Shoes &amp; Jewelry', 'Novelty', 'Co...</td>\n",
              "      <td>SHINING IMAGE HUGE PINK LEATHER JEWELRY BOX / ...</td>\n",
              "      <td>Elegance par excellence. Hand-crafted of the f...</td>\n",
              "      <td>NaN</td>\n",
              "      <td>64.98</td>\n",
              "      <td>[0.29664797, 0.009992434, 0.012275457, 0.14399...</td>\n",
              "    </tr>\n",
              "    <tr>\n",
              "      <th>29</th>\n",
              "      <td>A1F7YU6O5RU432</td>\n",
              "      <td>1608299953</td>\n",
              "      <td>5.0</td>\n",
              "      <td>['Clothing', 'Shoes &amp; Jewelry', 'Luggage &amp; Tra...</td>\n",
              "      <td>Learn French: Rosetta Stone French - Level 1</td>\n",
              "      <td>NaN</td>\n",
              "      <td>Rosetta Stone</td>\n",
              "      <td>179.00</td>\n",
              "      <td>[0.0037278542, 0.0, 0.020141818, 0.0, 0.0, 0.0...</td>\n",
              "    </tr>\n",
              "    <tr>\n",
              "      <th>30</th>\n",
              "      <td>A3INPLAFCMRI3I</td>\n",
              "      <td>1608299953</td>\n",
              "      <td>4.0</td>\n",
              "      <td>['Clothing', 'Shoes &amp; Jewelry', 'Luggage &amp; Tra...</td>\n",
              "      <td>Learn French: Rosetta Stone French - Level 1</td>\n",
              "      <td>NaN</td>\n",
              "      <td>Rosetta Stone</td>\n",
              "      <td>179.00</td>\n",
              "      <td>[0.0037278542, 0.0, 0.020141818, 0.0, 0.0, 0.0...</td>\n",
              "    </tr>\n",
              "    <tr>\n",
              "      <th>31</th>\n",
              "      <td>A3NHUQ33CFH3VM</td>\n",
              "      <td>1608299953</td>\n",
              "      <td>4.0</td>\n",
              "      <td>['Clothing', 'Shoes &amp; Jewelry', 'Luggage &amp; Tra...</td>\n",
              "      <td>Learn French: Rosetta Stone French - Level 1</td>\n",
              "      <td>NaN</td>\n",
              "      <td>Rosetta Stone</td>\n",
              "      <td>179.00</td>\n",
              "      <td>[0.0037278542, 0.0, 0.020141818, 0.0, 0.0, 0.0...</td>\n",
              "    </tr>\n",
              "    <tr>\n",
              "      <th>32</th>\n",
              "      <td>A253TILLU81VZK</td>\n",
              "      <td>1608299953</td>\n",
              "      <td>5.0</td>\n",
              "      <td>['Clothing', 'Shoes &amp; Jewelry', 'Luggage &amp; Tra...</td>\n",
              "      <td>Learn French: Rosetta Stone French - Level 1</td>\n",
              "      <td>NaN</td>\n",
              "      <td>Rosetta Stone</td>\n",
              "      <td>179.00</td>\n",
              "      <td>[0.0037278542, 0.0, 0.020141818, 0.0, 0.0, 0.0...</td>\n",
              "    </tr>\n",
              "    <tr>\n",
              "      <th>33</th>\n",
              "      <td>A28QH3KX709FFQ</td>\n",
              "      <td>1608299953</td>\n",
              "      <td>1.0</td>\n",
              "      <td>['Clothing', 'Shoes &amp; Jewelry', 'Luggage &amp; Tra...</td>\n",
              "      <td>Learn French: Rosetta Stone French - Level 1</td>\n",
              "      <td>NaN</td>\n",
              "      <td>Rosetta Stone</td>\n",
              "      <td>179.00</td>\n",
              "      <td>[0.0037278542, 0.0, 0.020141818, 0.0, 0.0, 0.0...</td>\n",
              "    </tr>\n",
              "    <tr>\n",
              "      <th>34</th>\n",
              "      <td>A1R377IPZOKLMM</td>\n",
              "      <td>1608299953</td>\n",
              "      <td>5.0</td>\n",
              "      <td>['Clothing', 'Shoes &amp; Jewelry', 'Luggage &amp; Tra...</td>\n",
              "      <td>Learn French: Rosetta Stone French - Level 1</td>\n",
              "      <td>NaN</td>\n",
              "      <td>Rosetta Stone</td>\n",
              "      <td>179.00</td>\n",
              "      <td>[0.0037278542, 0.0, 0.020141818, 0.0, 0.0, 0.0...</td>\n",
              "    </tr>\n",
              "    <tr>\n",
              "      <th>35</th>\n",
              "      <td>A3U6J0DLLDEWM2</td>\n",
              "      <td>1608299953</td>\n",
              "      <td>5.0</td>\n",
              "      <td>['Clothing', 'Shoes &amp; Jewelry', 'Luggage &amp; Tra...</td>\n",
              "      <td>Learn French: Rosetta Stone French - Level 1</td>\n",
              "      <td>NaN</td>\n",
              "      <td>Rosetta Stone</td>\n",
              "      <td>179.00</td>\n",
              "      <td>[0.0037278542, 0.0, 0.020141818, 0.0, 0.0, 0.0...</td>\n",
              "    </tr>\n",
              "    <tr>\n",
              "      <th>36</th>\n",
              "      <td>A1ZU55TM45Y2R8</td>\n",
              "      <td>1608299953</td>\n",
              "      <td>4.0</td>\n",
              "      <td>['Clothing', 'Shoes &amp; Jewelry', 'Luggage &amp; Tra...</td>\n",
              "      <td>Learn French: Rosetta Stone French - Level 1</td>\n",
              "      <td>NaN</td>\n",
              "      <td>Rosetta Stone</td>\n",
              "      <td>179.00</td>\n",
              "      <td>[0.0037278542, 0.0, 0.020141818, 0.0, 0.0, 0.0...</td>\n",
              "    </tr>\n",
              "    <tr>\n",
              "      <th>37</th>\n",
              "      <td>A1NIGUK4M2ST8</td>\n",
              "      <td>1608299953</td>\n",
              "      <td>4.0</td>\n",
              "      <td>['Clothing', 'Shoes &amp; Jewelry', 'Luggage &amp; Tra...</td>\n",
              "      <td>Learn French: Rosetta Stone French - Level 1</td>\n",
              "      <td>NaN</td>\n",
              "      <td>Rosetta Stone</td>\n",
              "      <td>179.00</td>\n",
              "      <td>[0.0037278542, 0.0, 0.020141818, 0.0, 0.0, 0.0...</td>\n",
              "    </tr>\n",
              "    <tr>\n",
              "      <th>38</th>\n",
              "      <td>AQY5XBYSENNZQ</td>\n",
              "      <td>1608299953</td>\n",
              "      <td>4.0</td>\n",
              "      <td>['Clothing', 'Shoes &amp; Jewelry', 'Luggage &amp; Tra...</td>\n",
              "      <td>Learn French: Rosetta Stone French - Level 1</td>\n",
              "      <td>NaN</td>\n",
              "      <td>Rosetta Stone</td>\n",
              "      <td>179.00</td>\n",
              "      <td>[0.0037278542, 0.0, 0.020141818, 0.0, 0.0, 0.0...</td>\n",
              "    </tr>\n",
              "    <tr>\n",
              "      <th>39</th>\n",
              "      <td>A1GNYV0RA0EQSS</td>\n",
              "      <td>1608299953</td>\n",
              "      <td>5.0</td>\n",
              "      <td>['Clothing', 'Shoes &amp; Jewelry', 'Luggage &amp; Tra...</td>\n",
              "      <td>Learn French: Rosetta Stone French - Level 1</td>\n",
              "      <td>NaN</td>\n",
              "      <td>Rosetta Stone</td>\n",
              "      <td>179.00</td>\n",
              "      <td>[0.0037278542, 0.0, 0.020141818, 0.0, 0.0, 0.0...</td>\n",
              "    </tr>\n",
              "  </tbody>\n",
              "</table>\n",
              "</div>"
            ],
            "text/plain": [
              "           user_id  ...                                          embedding\n",
              "0   A1KLRMWW2FWPL4  ...  [0.06690815, 0.0131465085, 0.00455577, 0.12448...\n",
              "1   A2G5TCU2WDFZ65  ...  [0.06690815, 0.0131465085, 0.00455577, 0.12448...\n",
              "2   A1RLQXYNCMWRWN  ...  [0.06690815, 0.0131465085, 0.00455577, 0.12448...\n",
              "3    A8U3FAMSJVHS5  ...  [0.06690815, 0.0131465085, 0.00455577, 0.12448...\n",
              "4   A3GEOILWLK86XM  ...  [0.06690815, 0.0131465085, 0.00455577, 0.12448...\n",
              "5    A27UF1MSF3DB2  ...  [0.06690815, 0.0131465085, 0.00455577, 0.12448...\n",
              "6   A16GFPNVF4Y816  ...  [0.06690815, 0.0131465085, 0.00455577, 0.12448...\n",
              "7   A2M2APVYIB2U6K  ...  [0.06690815, 0.0131465085, 0.00455577, 0.12448...\n",
              "8   A1NJ71X3YPQNQ9  ...  [0.06690815, 0.0131465085, 0.00455577, 0.12448...\n",
              "9    A3EERSWHAI6SO  ...  [0.06690815, 0.0131465085, 0.00455577, 0.12448...\n",
              "10   AX1QE6IR7CHXM  ...  [0.06690815, 0.0131465085, 0.00455577, 0.12448...\n",
              "11  A2A2WZYLU528RO  ...  [0.06690815, 0.0131465085, 0.00455577, 0.12448...\n",
              "12  A391EXIT5TFP72  ...  [0.06690815, 0.0131465085, 0.00455577, 0.12448...\n",
              "13  A34ATJR9KFIXL9  ...  [0.06690815, 0.0131465085, 0.00455577, 0.12448...\n",
              "14   AJ6B83I4YJHYW  ...  [0.06690815, 0.0131465085, 0.00455577, 0.12448...\n",
              "15  A26A4KKLAVTMCC  ...  [0.06690815, 0.0131465085, 0.00455577, 0.12448...\n",
              "16  A1MXJVYXE2QU6H  ...  [0.06690815, 0.0131465085, 0.00455577, 0.12448...\n",
              "17  A2XJ13PIXVJFJH  ...  [0.06690815, 0.0131465085, 0.00455577, 0.12448...\n",
              "18  A287XY94U7JDM8  ...  [0.06690815, 0.0131465085, 0.00455577, 0.12448...\n",
              "19  A1JR9KKF6UKUWW  ...  [0.06690815, 0.0131465085, 0.00455577, 0.12448...\n",
              "20  A2SX7X8QGQVCJU  ...  [0.06690815, 0.0131465085, 0.00455577, 0.12448...\n",
              "21  A2Q6UWR5PBHTJS  ...  [0.06690815, 0.0131465085, 0.00455577, 0.12448...\n",
              "22   AJZPHJR944IBB  ...  [0.06690815, 0.0131465085, 0.00455577, 0.12448...\n",
              "23  A2WNN1DQVL4LH5  ...  [0.29664797, 0.009992434, 0.012275457, 0.14399...\n",
              "24  A1ZPOCG2ST2CY3  ...  [0.29664797, 0.009992434, 0.012275457, 0.14399...\n",
              "25  A1WDJIFL2F4QJA  ...  [0.29664797, 0.009992434, 0.012275457, 0.14399...\n",
              "26  A3RB1JA72Z0TUN  ...  [0.29664797, 0.009992434, 0.012275457, 0.14399...\n",
              "27  A1JC50F14SLAEV  ...  [0.29664797, 0.009992434, 0.012275457, 0.14399...\n",
              "28   A8WD29DKN8ZC3  ...  [0.29664797, 0.009992434, 0.012275457, 0.14399...\n",
              "29  A1F7YU6O5RU432  ...  [0.0037278542, 0.0, 0.020141818, 0.0, 0.0, 0.0...\n",
              "30  A3INPLAFCMRI3I  ...  [0.0037278542, 0.0, 0.020141818, 0.0, 0.0, 0.0...\n",
              "31  A3NHUQ33CFH3VM  ...  [0.0037278542, 0.0, 0.020141818, 0.0, 0.0, 0.0...\n",
              "32  A253TILLU81VZK  ...  [0.0037278542, 0.0, 0.020141818, 0.0, 0.0, 0.0...\n",
              "33  A28QH3KX709FFQ  ...  [0.0037278542, 0.0, 0.020141818, 0.0, 0.0, 0.0...\n",
              "34  A1R377IPZOKLMM  ...  [0.0037278542, 0.0, 0.020141818, 0.0, 0.0, 0.0...\n",
              "35  A3U6J0DLLDEWM2  ...  [0.0037278542, 0.0, 0.020141818, 0.0, 0.0, 0.0...\n",
              "36  A1ZU55TM45Y2R8  ...  [0.0037278542, 0.0, 0.020141818, 0.0, 0.0, 0.0...\n",
              "37   A1NIGUK4M2ST8  ...  [0.0037278542, 0.0, 0.020141818, 0.0, 0.0, 0.0...\n",
              "38   AQY5XBYSENNZQ  ...  [0.0037278542, 0.0, 0.020141818, 0.0, 0.0, 0.0...\n",
              "39  A1GNYV0RA0EQSS  ...  [0.0037278542, 0.0, 0.020141818, 0.0, 0.0, 0.0...\n",
              "\n",
              "[40 rows x 9 columns]"
            ]
          },
          "metadata": {
            "tags": []
          },
          "execution_count": 11
        }
      ]
    },
    {
      "cell_type": "code",
      "metadata": {
        "id": "mjfCge7XqX2S",
        "colab_type": "code",
        "colab": {}
      },
      "source": [
        "tags = pd.read_csv(\"occasion_tags.csv\")"
      ],
      "execution_count": null,
      "outputs": []
    },
    {
      "cell_type": "code",
      "metadata": {
        "id": "9Pj79VdFqYM3",
        "colab_type": "code",
        "colab": {
          "base_uri": "https://localhost:8080/",
          "height": 355
        },
        "outputId": "2115623b-3d62-4fea-85d1-5bca8de5d712"
      },
      "source": [
        "tags.head(n=10)"
      ],
      "execution_count": null,
      "outputs": [
        {
          "output_type": "execute_result",
          "data": {
            "text/html": [
              "<div>\n",
              "<style scoped>\n",
              "    .dataframe tbody tr th:only-of-type {\n",
              "        vertical-align: middle;\n",
              "    }\n",
              "\n",
              "    .dataframe tbody tr th {\n",
              "        vertical-align: top;\n",
              "    }\n",
              "\n",
              "    .dataframe thead th {\n",
              "        text-align: right;\n",
              "    }\n",
              "</style>\n",
              "<table border=\"1\" class=\"dataframe\">\n",
              "  <thead>\n",
              "    <tr style=\"text-align: right;\">\n",
              "      <th></th>\n",
              "      <th>Unnamed: 0</th>\n",
              "      <th>occasion_tag</th>\n",
              "    </tr>\n",
              "  </thead>\n",
              "  <tbody>\n",
              "    <tr>\n",
              "      <th>0</th>\n",
              "      <td>21_Neutral_Casual_6</td>\n",
              "      <td>occasion_neutral_casual</td>\n",
              "    </tr>\n",
              "    <tr>\n",
              "      <th>1</th>\n",
              "      <td>21_Neutral_Casual_10</td>\n",
              "      <td>occasion_neutral_casual</td>\n",
              "    </tr>\n",
              "    <tr>\n",
              "      <th>2</th>\n",
              "      <td>21_Neutral_Casual_9</td>\n",
              "      <td>occasion_neutral_casual</td>\n",
              "    </tr>\n",
              "    <tr>\n",
              "      <th>3</th>\n",
              "      <td>21_Neutral_Casual_2</td>\n",
              "      <td>occasion_happy_casual</td>\n",
              "    </tr>\n",
              "    <tr>\n",
              "      <th>4</th>\n",
              "      <td>21_Neutral_Casual_7</td>\n",
              "      <td>occasion_neutral_casual</td>\n",
              "    </tr>\n",
              "    <tr>\n",
              "      <th>5</th>\n",
              "      <td>21_Neutral_Casual_5</td>\n",
              "      <td>occasion_neutral_casual</td>\n",
              "    </tr>\n",
              "    <tr>\n",
              "      <th>6</th>\n",
              "      <td>21_Neutral_Casual_8</td>\n",
              "      <td>occasion_happy_casual</td>\n",
              "    </tr>\n",
              "    <tr>\n",
              "      <th>7</th>\n",
              "      <td>21_Neutral_Casual_11</td>\n",
              "      <td>occasion_happy_casual</td>\n",
              "    </tr>\n",
              "    <tr>\n",
              "      <th>8</th>\n",
              "      <td>21_Neutral_Casual_3</td>\n",
              "      <td>occasion_sad_sports</td>\n",
              "    </tr>\n",
              "    <tr>\n",
              "      <th>9</th>\n",
              "      <td>11_Happy_Casual_2</td>\n",
              "      <td>occasion_happy_casual</td>\n",
              "    </tr>\n",
              "  </tbody>\n",
              "</table>\n",
              "</div>"
            ],
            "text/plain": [
              "             Unnamed: 0             occasion_tag\n",
              "0   21_Neutral_Casual_6  occasion_neutral_casual\n",
              "1  21_Neutral_Casual_10  occasion_neutral_casual\n",
              "2   21_Neutral_Casual_9  occasion_neutral_casual\n",
              "3   21_Neutral_Casual_2    occasion_happy_casual\n",
              "4   21_Neutral_Casual_7  occasion_neutral_casual\n",
              "5   21_Neutral_Casual_5  occasion_neutral_casual\n",
              "6   21_Neutral_Casual_8    occasion_happy_casual\n",
              "7  21_Neutral_Casual_11    occasion_happy_casual\n",
              "8   21_Neutral_Casual_3      occasion_sad_sports\n",
              "9     11_Happy_Casual_2    occasion_happy_casual"
            ]
          },
          "metadata": {
            "tags": []
          },
          "execution_count": 17
        }
      ]
    },
    {
      "cell_type": "code",
      "metadata": {
        "id": "NF-qJKP9kTls",
        "colab_type": "code",
        "colab": {
          "base_uri": "https://localhost:8080/",
          "height": 1000
        },
        "outputId": "37c731b4-3b96-4eb6-d08a-000cb24e23bb"
      },
      "source": [
        "df[df.user_id == \"A3NHUQ33CFH3VM\"]"
      ],
      "execution_count": null,
      "outputs": [
        {
          "output_type": "execute_result",
          "data": {
            "text/html": [
              "<div>\n",
              "<style scoped>\n",
              "    .dataframe tbody tr th:only-of-type {\n",
              "        vertical-align: middle;\n",
              "    }\n",
              "\n",
              "    .dataframe tbody tr th {\n",
              "        vertical-align: top;\n",
              "    }\n",
              "\n",
              "    .dataframe thead th {\n",
              "        text-align: right;\n",
              "    }\n",
              "</style>\n",
              "<table border=\"1\" class=\"dataframe\">\n",
              "  <thead>\n",
              "    <tr style=\"text-align: right;\">\n",
              "      <th></th>\n",
              "      <th>user_id</th>\n",
              "      <th>item_id</th>\n",
              "      <th>rating</th>\n",
              "      <th>categories</th>\n",
              "      <th>title</th>\n",
              "      <th>description</th>\n",
              "      <th>brand</th>\n",
              "      <th>price</th>\n",
              "      <th>embedding</th>\n",
              "    </tr>\n",
              "  </thead>\n",
              "  <tbody>\n",
              "    <tr>\n",
              "      <th>31</th>\n",
              "      <td>A3NHUQ33CFH3VM</td>\n",
              "      <td>1608299953</td>\n",
              "      <td>4.0</td>\n",
              "      <td>['Clothing', 'Shoes &amp; Jewelry', 'Luggage &amp; Tra...</td>\n",
              "      <td>Learn French: Rosetta Stone French - Level 1</td>\n",
              "      <td>NaN</td>\n",
              "      <td>Rosetta Stone</td>\n",
              "      <td>179.00</td>\n",
              "      <td>[0.0037278542, 0.0, 0.020141818, 0.0, 0.0, 0.0...</td>\n",
              "    </tr>\n",
              "    <tr>\n",
              "      <th>7003</th>\n",
              "      <td>A3NHUQ33CFH3VM</td>\n",
              "      <td>B0002TOZ1E</td>\n",
              "      <td>2.0</td>\n",
              "      <td>['Sports &amp; Outdoors', 'Clothing', 'Men', 'Sock...</td>\n",
              "      <td>Gold Toe Men's Cotton Crew Athletic Sock</td>\n",
              "      <td>NaN</td>\n",
              "      <td>NaN</td>\n",
              "      <td>NaN</td>\n",
              "      <td>[0.05288464, 0.061518572, 0.03010277, 0.110123...</td>\n",
              "    </tr>\n",
              "    <tr>\n",
              "      <th>17118</th>\n",
              "      <td>A3NHUQ33CFH3VM</td>\n",
              "      <td>B000AAI9MG</td>\n",
              "      <td>2.0</td>\n",
              "      <td>['Clothing', 'Shoes &amp; Jewelry', 'D', 'Dickies'...</td>\n",
              "      <td>Dickies Men's Utility Pant Relaxed Fit</td>\n",
              "      <td>NaN</td>\n",
              "      <td>Dickies</td>\n",
              "      <td>26.44</td>\n",
              "      <td>[0.005797105, 0.05608339, 0.02313577, 0.009789...</td>\n",
              "    </tr>\n",
              "    <tr>\n",
              "      <th>36662</th>\n",
              "      <td>A3NHUQ33CFH3VM</td>\n",
              "      <td>B000O32MLI</td>\n",
              "      <td>5.0</td>\n",
              "      <td>['Clothing', 'Shoes &amp; Jewelry', 'Shoes &amp; Acces...</td>\n",
              "      <td>Crocs Unisex Classic Clog</td>\n",
              "      <td>NaN</td>\n",
              "      <td>Crocs</td>\n",
              "      <td>NaN</td>\n",
              "      <td>[0.15825474, 0.011341655, 0.0046213055, 0.1472...</td>\n",
              "    </tr>\n",
              "    <tr>\n",
              "      <th>38583</th>\n",
              "      <td>A3NHUQ33CFH3VM</td>\n",
              "      <td>B000P50WS0</td>\n",
              "      <td>5.0</td>\n",
              "      <td>['Clothing', 'Shoes &amp; Jewelry', 'Novelty', 'Co...</td>\n",
              "      <td>Fruit of the Loom Men's Briefs</td>\n",
              "      <td>NaN</td>\n",
              "      <td>NaN</td>\n",
              "      <td>NaN</td>\n",
              "      <td>[0.092570804, 0.07300539, 0.0, 0.049537588, 0....</td>\n",
              "    </tr>\n",
              "    <tr>\n",
              "      <th>38823</th>\n",
              "      <td>A3NHUQ33CFH3VM</td>\n",
              "      <td>B000PAOHCW</td>\n",
              "      <td>1.0</td>\n",
              "      <td>['Clothing', 'Shoes &amp; Jewelry', 'Jewelry Outle...</td>\n",
              "      <td>Loving Family by Relios Sterling Silver Heart ...</td>\n",
              "      <td>Amazon Collection 925 Sterling Sterling silver...</td>\n",
              "      <td>Amazon Collection</td>\n",
              "      <td>39.95</td>\n",
              "      <td>[0.1340331, 0.0, 0.012338433, 0.04941105, 0.0,...</td>\n",
              "    </tr>\n",
              "    <tr>\n",
              "      <th>59201</th>\n",
              "      <td>A3NHUQ33CFH3VM</td>\n",
              "      <td>B001A3Y9PI</td>\n",
              "      <td>5.0</td>\n",
              "      <td>['Clothing', 'Shoes &amp; Jewelry', 'D', 'Dickies'...</td>\n",
              "      <td>Dickies Men's 8 3/4 Ounce Double Knee Painter'...</td>\n",
              "      <td>NaN</td>\n",
              "      <td>NaN</td>\n",
              "      <td>NaN</td>\n",
              "      <td>[0.061837003, 0.22051387, 0.049524765, 0.05978...</td>\n",
              "    </tr>\n",
              "    <tr>\n",
              "      <th>62233</th>\n",
              "      <td>A3NHUQ33CFH3VM</td>\n",
              "      <td>B001D75RRK</td>\n",
              "      <td>5.0</td>\n",
              "      <td>['Clothing', 'Shoes &amp; Jewelry', 'Shoes &amp; Acces...</td>\n",
              "      <td>Tamarac by Slippers International Men's Traile...</td>\n",
              "      <td>NaN</td>\n",
              "      <td>Tamarac by Slippers International</td>\n",
              "      <td>33.12</td>\n",
              "      <td>[0.07602434, 0.0029300256, 0.021212395, 0.0497...</td>\n",
              "    </tr>\n",
              "    <tr>\n",
              "      <th>64144</th>\n",
              "      <td>A3NHUQ33CFH3VM</td>\n",
              "      <td>B001FWZ06Q</td>\n",
              "      <td>5.0</td>\n",
              "      <td>['Clothing', 'Shoes &amp; Jewelry', 'Jewelry: Inte...</td>\n",
              "      <td>Platinum-Plated &amp;quot;100 Facets Collection&amp;qu...</td>\n",
              "      <td>Milla Jewelry Platinum plated silver Cubic zir...</td>\n",
              "      <td>Milla Jewelry</td>\n",
              "      <td>NaN</td>\n",
              "      <td>[0.12213354, 0.047206923, 0.0045713503, 0.0499...</td>\n",
              "    </tr>\n",
              "    <tr>\n",
              "      <th>64205</th>\n",
              "      <td>A3NHUQ33CFH3VM</td>\n",
              "      <td>B001FWZ098</td>\n",
              "      <td>5.0</td>\n",
              "      <td>['Clothing', 'Shoes &amp; Jewelry', 'New Arrivals'...</td>\n",
              "      <td>Platinum Plated Sterling Silver &amp;quot;100 Face...</td>\n",
              "      <td>NaN</td>\n",
              "      <td>NaN</td>\n",
              "      <td>23.04</td>\n",
              "      <td>[0.01224715, 0.011669101, 0.004466873, 0.01023...</td>\n",
              "    </tr>\n",
              "    <tr>\n",
              "      <th>64245</th>\n",
              "      <td>A3NHUQ33CFH3VM</td>\n",
              "      <td>B001FWZ0AM</td>\n",
              "      <td>3.0</td>\n",
              "      <td>['Clothing', 'Shoes &amp; Jewelry', 'New Arrivals'...</td>\n",
              "      <td>Platinum Plated Sterling Silver &amp;quot;100 Face...</td>\n",
              "      <td>Morgan &amp; Paige metal, gemstone Cubic zirconia ...</td>\n",
              "      <td>Morgan &amp; Paige</td>\n",
              "      <td>29.79</td>\n",
              "      <td>[0.24997222, 0.08225781, 0.044098936, 0.074155...</td>\n",
              "    </tr>\n",
              "    <tr>\n",
              "      <th>86912</th>\n",
              "      <td>A3NHUQ33CFH3VM</td>\n",
              "      <td>B002ON8YFY</td>\n",
              "      <td>4.0</td>\n",
              "      <td>['Clothing', 'Shoes &amp; Jewelry', 'Luggage &amp; Tra...</td>\n",
              "      <td>Northstar Sports 1050 HD Tuff Cloth Diamond Ri...</td>\n",
              "      <td>Made with 1050 Heavy Duty TUFF RipStop Cloth  ...</td>\n",
              "      <td>NorthStar</td>\n",
              "      <td>19.93</td>\n",
              "      <td>[0.078681454, 0.037560172, 0.0024480103, 0.033...</td>\n",
              "    </tr>\n",
              "    <tr>\n",
              "      <th>92497</th>\n",
              "      <td>A3NHUQ33CFH3VM</td>\n",
              "      <td>B002YYMSD2</td>\n",
              "      <td>5.0</td>\n",
              "      <td>['Clothing', 'Shoes &amp; Jewelry', 'Pearl Jewelry...</td>\n",
              "      <td>Sterling-Silver 8-8.5 MM White Freshwater Cult...</td>\n",
              "      <td>NaN</td>\n",
              "      <td>NaN</td>\n",
              "      <td>NaN</td>\n",
              "      <td>[0.26696414, 0.033246182, 0.05326499, 0.192305...</td>\n",
              "    </tr>\n",
              "    <tr>\n",
              "      <th>131154</th>\n",
              "      <td>A3NHUQ33CFH3VM</td>\n",
              "      <td>B004L7J7IO</td>\n",
              "      <td>5.0</td>\n",
              "      <td>['Clothing', 'Shoes &amp; Jewelry', 'Shoes &amp; Acces...</td>\n",
              "      <td>Isotoner Men's Microterry Slipper</td>\n",
              "      <td>NaN</td>\n",
              "      <td>NaN</td>\n",
              "      <td>NaN</td>\n",
              "      <td>[0.08616094, 0.002587226, 0.005488139, 0.05093...</td>\n",
              "    </tr>\n",
              "    <tr>\n",
              "      <th>132865</th>\n",
              "      <td>A3NHUQ33CFH3VM</td>\n",
              "      <td>B004MSU88K</td>\n",
              "      <td>3.0</td>\n",
              "      <td>['Sports &amp; Outdoors', 'Accessories', 'Clothing...</td>\n",
              "      <td>Invicta Women's 6895 &amp;quot;Pro-Diver&amp;quot; Sta...</td>\n",
              "      <td>Invicta 6895 6895 2011 Round Mineral Analog Pu...</td>\n",
              "      <td>Invicta</td>\n",
              "      <td>50.39</td>\n",
              "      <td>[0.14659242, 0.020840365, 0.00069138594, 0.067...</td>\n",
              "    </tr>\n",
              "    <tr>\n",
              "      <th>133797</th>\n",
              "      <td>A3NHUQ33CFH3VM</td>\n",
              "      <td>B004OA7QSG</td>\n",
              "      <td>5.0</td>\n",
              "      <td>['Clothing', 'Shoes &amp; Jewelry', 'Baby', 'Baby ...</td>\n",
              "      <td>Disney Cuddly Bodysuit 5 Pack, White, 0-3 Months</td>\n",
              "      <td>NaN</td>\n",
              "      <td>NaN</td>\n",
              "      <td>NaN</td>\n",
              "      <td>[0.09023768, 0.1787097, 0.0, 0.112435624, 0.00...</td>\n",
              "    </tr>\n",
              "    <tr>\n",
              "      <th>136935</th>\n",
              "      <td>A3NHUQ33CFH3VM</td>\n",
              "      <td>B004S79EWG</td>\n",
              "      <td>5.0</td>\n",
              "      <td>['Clothing', 'Shoes &amp; Jewelry', 'Women', 'Acce...</td>\n",
              "      <td>Solid Color Leather Adjustable Skinny Belt with</td>\n",
              "      <td>NaN</td>\n",
              "      <td>boxed-gifts</td>\n",
              "      <td>3.99</td>\n",
              "      <td>[0.09702221, 0.026361411, 0.020430755, 0.09231...</td>\n",
              "    </tr>\n",
              "    <tr>\n",
              "      <th>156518</th>\n",
              "      <td>A3NHUQ33CFH3VM</td>\n",
              "      <td>B005FMZZ9O</td>\n",
              "      <td>5.0</td>\n",
              "      <td>['Clothing', 'Shoes &amp; Jewelry', 'New Arrivals'...</td>\n",
              "      <td>Invicta Men's 1516 I Force Collection 18k Gold...</td>\n",
              "      <td>Invicta 1516 1516 2011 Round Mineral Analog Ta...</td>\n",
              "      <td>Invicta</td>\n",
              "      <td>78.98</td>\n",
              "      <td>[0.03692311, 0.009710175, 0.005912437, 0.01375...</td>\n",
              "    </tr>\n",
              "    <tr>\n",
              "      <th>170987</th>\n",
              "      <td>A3NHUQ33CFH3VM</td>\n",
              "      <td>B0068VM5T4</td>\n",
              "      <td>5.0</td>\n",
              "      <td>['Sports &amp; Outdoors', 'Exercise &amp; Fitness', 'R...</td>\n",
              "      <td>Tasc Performance Men's Carrollton Performance ...</td>\n",
              "      <td>NaN</td>\n",
              "      <td>tasc Performance</td>\n",
              "      <td>34.98</td>\n",
              "      <td>[0.13210818, 0.20681903, 0.0037519396, 0.04222...</td>\n",
              "    </tr>\n",
              "    <tr>\n",
              "      <th>265391</th>\n",
              "      <td>A3NHUQ33CFH3VM</td>\n",
              "      <td>B00DSEMUOY</td>\n",
              "      <td>5.0</td>\n",
              "      <td>['Clothing', 'Shoes &amp; Jewelry', 'Women', 'Acce...</td>\n",
              "      <td>Fiore(TM) Retro Vintage Style Wayfarer Clubmas...</td>\n",
              "      <td>NaN</td>\n",
              "      <td>Fiore</td>\n",
              "      <td>4.95</td>\n",
              "      <td>[0.055024877, 0.08902749, 0.03361868, 0.034915...</td>\n",
              "    </tr>\n",
              "    <tr>\n",
              "      <th>277485</th>\n",
              "      <td>A3NHUQ33CFH3VM</td>\n",
              "      <td>B00I16VXD8</td>\n",
              "      <td>5.0</td>\n",
              "      <td>['Clothing', 'Shoes &amp; Jewelry', 'Women', 'Legg...</td>\n",
              "      <td>Viosi Women's Full-Length Seamless Footless Le...</td>\n",
              "      <td>NaN</td>\n",
              "      <td>NaN</td>\n",
              "      <td>NaN</td>\n",
              "      <td>[0.056329437, 0.024901932, 0.059701897, 0.0217...</td>\n",
              "    </tr>\n",
              "    <tr>\n",
              "      <th>277539</th>\n",
              "      <td>A3NHUQ33CFH3VM</td>\n",
              "      <td>B00I2T5OXE</td>\n",
              "      <td>5.0</td>\n",
              "      <td>['Clothing', 'Shoes &amp; Jewelry', 'Boys', 'Novel...</td>\n",
              "      <td>Mato &amp;amp; Hash Children's Referee Shirt Ref C...</td>\n",
              "      <td>NaN</td>\n",
              "      <td>NaN</td>\n",
              "      <td>11.99</td>\n",
              "      <td>[0.043574877, 0.03693093, 0.010869432, 0.02327...</td>\n",
              "    </tr>\n",
              "  </tbody>\n",
              "</table>\n",
              "</div>"
            ],
            "text/plain": [
              "               user_id  ...                                          embedding\n",
              "31      A3NHUQ33CFH3VM  ...  [0.0037278542, 0.0, 0.020141818, 0.0, 0.0, 0.0...\n",
              "7003    A3NHUQ33CFH3VM  ...  [0.05288464, 0.061518572, 0.03010277, 0.110123...\n",
              "17118   A3NHUQ33CFH3VM  ...  [0.005797105, 0.05608339, 0.02313577, 0.009789...\n",
              "36662   A3NHUQ33CFH3VM  ...  [0.15825474, 0.011341655, 0.0046213055, 0.1472...\n",
              "38583   A3NHUQ33CFH3VM  ...  [0.092570804, 0.07300539, 0.0, 0.049537588, 0....\n",
              "38823   A3NHUQ33CFH3VM  ...  [0.1340331, 0.0, 0.012338433, 0.04941105, 0.0,...\n",
              "59201   A3NHUQ33CFH3VM  ...  [0.061837003, 0.22051387, 0.049524765, 0.05978...\n",
              "62233   A3NHUQ33CFH3VM  ...  [0.07602434, 0.0029300256, 0.021212395, 0.0497...\n",
              "64144   A3NHUQ33CFH3VM  ...  [0.12213354, 0.047206923, 0.0045713503, 0.0499...\n",
              "64205   A3NHUQ33CFH3VM  ...  [0.01224715, 0.011669101, 0.004466873, 0.01023...\n",
              "64245   A3NHUQ33CFH3VM  ...  [0.24997222, 0.08225781, 0.044098936, 0.074155...\n",
              "86912   A3NHUQ33CFH3VM  ...  [0.078681454, 0.037560172, 0.0024480103, 0.033...\n",
              "92497   A3NHUQ33CFH3VM  ...  [0.26696414, 0.033246182, 0.05326499, 0.192305...\n",
              "131154  A3NHUQ33CFH3VM  ...  [0.08616094, 0.002587226, 0.005488139, 0.05093...\n",
              "132865  A3NHUQ33CFH3VM  ...  [0.14659242, 0.020840365, 0.00069138594, 0.067...\n",
              "133797  A3NHUQ33CFH3VM  ...  [0.09023768, 0.1787097, 0.0, 0.112435624, 0.00...\n",
              "136935  A3NHUQ33CFH3VM  ...  [0.09702221, 0.026361411, 0.020430755, 0.09231...\n",
              "156518  A3NHUQ33CFH3VM  ...  [0.03692311, 0.009710175, 0.005912437, 0.01375...\n",
              "170987  A3NHUQ33CFH3VM  ...  [0.13210818, 0.20681903, 0.0037519396, 0.04222...\n",
              "265391  A3NHUQ33CFH3VM  ...  [0.055024877, 0.08902749, 0.03361868, 0.034915...\n",
              "277485  A3NHUQ33CFH3VM  ...  [0.056329437, 0.024901932, 0.059701897, 0.0217...\n",
              "277539  A3NHUQ33CFH3VM  ...  [0.043574877, 0.03693093, 0.010869432, 0.02327...\n",
              "\n",
              "[22 rows x 9 columns]"
            ]
          },
          "metadata": {
            "tags": []
          },
          "execution_count": 14
        }
      ]
    },
    {
      "cell_type": "code",
      "metadata": {
        "id": "o7pIrAB9kUX5",
        "colab_type": "code",
        "colab": {}
      },
      "source": [
        ""
      ],
      "execution_count": null,
      "outputs": []
    },
    {
      "cell_type": "code",
      "metadata": {
        "id": "kMubV7_c2eZW",
        "colab_type": "code",
        "colab": {}
      },
      "source": [
        "def transform_cat(x):\n",
        "  y = x.strip(\"['\").strip(\"]'\").split(\"', '\")\n",
        "  # print(x)\n",
        "  y.remove(\"Clothing\")\n",
        "  y.remove(\"Shoes & Jewelry\")\n",
        "  return y"
      ],
      "execution_count": null,
      "outputs": []
    },
    {
      "cell_type": "code",
      "metadata": {
        "id": "1Qr0NTCr2gO-",
        "colab_type": "code",
        "colab": {}
      },
      "source": [
        "df[\"categories\"] = df[\"categories\"].apply(transform_cat)"
      ],
      "execution_count": null,
      "outputs": []
    },
    {
      "cell_type": "code",
      "metadata": {
        "id": "C2yRkXALCGLX",
        "colab_type": "code",
        "colab": {}
      },
      "source": [
        "tags = pd.read_csv(\"occasion_tags.csv\")"
      ],
      "execution_count": null,
      "outputs": []
    },
    {
      "cell_type": "code",
      "metadata": {
        "id": "4hBQwa3gCell",
        "colab_type": "code",
        "colab": {}
      },
      "source": [
        "tags = tags.rename(columns={\"Unnamed: 0\": \"item_id\"})"
      ],
      "execution_count": null,
      "outputs": []
    },
    {
      "cell_type": "code",
      "metadata": {
        "id": "JK0FUQ9ACU0P",
        "colab_type": "code",
        "colab": {
          "base_uri": "https://localhost:8080/",
          "height": 202
        },
        "outputId": "06ceb285-2164-4d0a-ec80-e84a74f63b18"
      },
      "source": [
        "tags.head()"
      ],
      "execution_count": null,
      "outputs": [
        {
          "output_type": "execute_result",
          "data": {
            "text/html": [
              "<div>\n",
              "<style scoped>\n",
              "    .dataframe tbody tr th:only-of-type {\n",
              "        vertical-align: middle;\n",
              "    }\n",
              "\n",
              "    .dataframe tbody tr th {\n",
              "        vertical-align: top;\n",
              "    }\n",
              "\n",
              "    .dataframe thead th {\n",
              "        text-align: right;\n",
              "    }\n",
              "</style>\n",
              "<table border=\"1\" class=\"dataframe\">\n",
              "  <thead>\n",
              "    <tr style=\"text-align: right;\">\n",
              "      <th></th>\n",
              "      <th>item_id</th>\n",
              "      <th>occasion_tag</th>\n",
              "    </tr>\n",
              "  </thead>\n",
              "  <tbody>\n",
              "    <tr>\n",
              "      <th>0</th>\n",
              "      <td>21_Neutral_Casual_6</td>\n",
              "      <td>occasion_neutral_casual</td>\n",
              "    </tr>\n",
              "    <tr>\n",
              "      <th>1</th>\n",
              "      <td>21_Neutral_Casual_10</td>\n",
              "      <td>occasion_neutral_casual</td>\n",
              "    </tr>\n",
              "    <tr>\n",
              "      <th>2</th>\n",
              "      <td>21_Neutral_Casual_9</td>\n",
              "      <td>occasion_neutral_casual</td>\n",
              "    </tr>\n",
              "    <tr>\n",
              "      <th>3</th>\n",
              "      <td>21_Neutral_Casual_2</td>\n",
              "      <td>occasion_happy_casual</td>\n",
              "    </tr>\n",
              "    <tr>\n",
              "      <th>4</th>\n",
              "      <td>21_Neutral_Casual_7</td>\n",
              "      <td>occasion_neutral_casual</td>\n",
              "    </tr>\n",
              "  </tbody>\n",
              "</table>\n",
              "</div>"
            ],
            "text/plain": [
              "                item_id             occasion_tag\n",
              "0   21_Neutral_Casual_6  occasion_neutral_casual\n",
              "1  21_Neutral_Casual_10  occasion_neutral_casual\n",
              "2   21_Neutral_Casual_9  occasion_neutral_casual\n",
              "3   21_Neutral_Casual_2    occasion_happy_casual\n",
              "4   21_Neutral_Casual_7  occasion_neutral_casual"
            ]
          },
          "metadata": {
            "tags": []
          },
          "execution_count": 8
        }
      ]
    },
    {
      "cell_type": "code",
      "metadata": {
        "id": "_s3hwJU8CIhP",
        "colab_type": "code",
        "colab": {}
      },
      "source": [
        "df = pd.merge(df, tags, how=\"left\", on=\"item_id\")"
      ],
      "execution_count": null,
      "outputs": []
    },
    {
      "cell_type": "code",
      "metadata": {
        "id": "8tDl1cS0C37I",
        "colab_type": "code",
        "colab": {
          "base_uri": "https://localhost:8080/",
          "height": 208
        },
        "outputId": "60f62d8e-dc59-41ab-b113-61720f1498c3"
      },
      "source": [
        "merged.isnull().sum()"
      ],
      "execution_count": null,
      "outputs": [
        {
          "output_type": "execute_result",
          "data": {
            "text/plain": [
              "user_id              0\n",
              "item_id              0\n",
              "rating               0\n",
              "categories           0\n",
              "title              126\n",
              "description     239750\n",
              "brand            99643\n",
              "price           114005\n",
              "embedding            0\n",
              "occasion_tag    264232\n",
              "dtype: int64"
            ]
          },
          "metadata": {
            "tags": []
          },
          "execution_count": 12
        }
      ]
    },
    {
      "cell_type": "markdown",
      "metadata": {
        "id": "QG2v73IU2yXq",
        "colab_type": "text"
      },
      "source": [
        "# Importing of library"
      ]
    },
    {
      "cell_type": "code",
      "metadata": {
        "id": "_uqjHk-X2uDH",
        "colab_type": "code",
        "colab": {
          "base_uri": "https://localhost:8080/",
          "height": 1000
        },
        "outputId": "8c61c08e-aacf-4bb6-afae-bc4796723b14"
      },
      "source": [
        "!pip install turicreate"
      ],
      "execution_count": null,
      "outputs": [
        {
          "output_type": "stream",
          "text": [
            "Collecting turicreate\n",
            "\u001b[?25l  Downloading https://files.pythonhosted.org/packages/e4/76/76c624d7ae1116b22cd559288596a1f9aa7a50f8f43f4481033fc047f5e9/turicreate-6.3-cp36-cp36m-manylinux1_x86_64.whl (91.9MB)\n",
            "\u001b[K     |████████████████████████████████| 91.9MB 45kB/s \n",
            "\u001b[?25hRequirement already satisfied: six>=1.10.0 in /usr/local/lib/python3.6/dist-packages (from turicreate) (1.12.0)\n",
            "Requirement already satisfied: scipy>=1.1.0 in /usr/local/lib/python3.6/dist-packages (from turicreate) (1.4.1)\n",
            "Requirement already satisfied: pandas>=0.23.2 in /usr/local/lib/python3.6/dist-packages (from turicreate) (1.0.5)\n",
            "Requirement already satisfied: numpy in /usr/local/lib/python3.6/dist-packages (from turicreate) (1.18.5)\n",
            "Requirement already satisfied: requests>=2.9.1 in /usr/local/lib/python3.6/dist-packages (from turicreate) (2.23.0)\n",
            "Requirement already satisfied: pillow>=5.2.0 in /usr/local/lib/python3.6/dist-packages (from turicreate) (7.0.0)\n",
            "Collecting coremltools==3.3\n",
            "\u001b[?25l  Downloading https://files.pythonhosted.org/packages/77/19/611916d1ef326d38857d93af5ba184f6ad7491642e0fa4f9082e7d82f034/coremltools-3.3-cp36-none-manylinux1_x86_64.whl (3.4MB)\n",
            "\u001b[K     |████████████████████████████████| 3.4MB 57.4MB/s \n",
            "\u001b[?25hRequirement already satisfied: prettytable==0.7.2 in /usr/local/lib/python3.6/dist-packages (from turicreate) (0.7.2)\n",
            "Requirement already satisfied: decorator>=4.0.9 in /usr/local/lib/python3.6/dist-packages (from turicreate) (4.4.2)\n",
            "Collecting tensorflow<=2.0.1,>=2.0.0\n",
            "\u001b[?25l  Downloading https://files.pythonhosted.org/packages/43/16/b07e3f7a4a024b47918f7018967eb984b0c542458a6141d8c48515aa81d4/tensorflow-2.0.1-cp36-cp36m-manylinux2010_x86_64.whl (86.3MB)\n",
            "\u001b[K     |████████████████████████████████| 86.3MB 35kB/s \n",
            "\u001b[?25hCollecting resampy==0.2.1\n",
            "\u001b[?25l  Downloading https://files.pythonhosted.org/packages/14/b6/66a06d85474190b50aee1a6c09cdc95bb405ac47338b27e9b21409da1760/resampy-0.2.1.tar.gz (322kB)\n",
            "\u001b[K     |████████████████████████████████| 327kB 37.0MB/s \n",
            "\u001b[?25hRequirement already satisfied: python-dateutil>=2.6.1 in /usr/local/lib/python3.6/dist-packages (from pandas>=0.23.2->turicreate) (2.8.1)\n",
            "Requirement already satisfied: pytz>=2017.2 in /usr/local/lib/python3.6/dist-packages (from pandas>=0.23.2->turicreate) (2018.9)\n",
            "Requirement already satisfied: chardet<4,>=3.0.2 in /usr/local/lib/python3.6/dist-packages (from requests>=2.9.1->turicreate) (3.0.4)\n",
            "Requirement already satisfied: certifi>=2017.4.17 in /usr/local/lib/python3.6/dist-packages (from requests>=2.9.1->turicreate) (2020.6.20)\n",
            "Requirement already satisfied: idna<3,>=2.5 in /usr/local/lib/python3.6/dist-packages (from requests>=2.9.1->turicreate) (2.10)\n",
            "Requirement already satisfied: urllib3!=1.25.0,!=1.25.1,<1.26,>=1.21.1 in /usr/local/lib/python3.6/dist-packages (from requests>=2.9.1->turicreate) (1.24.3)\n",
            "Requirement already satisfied: protobuf>=3.1.0 in /usr/local/lib/python3.6/dist-packages (from coremltools==3.3->turicreate) (3.12.2)\n",
            "Requirement already satisfied: absl-py>=0.7.0 in /usr/local/lib/python3.6/dist-packages (from tensorflow<=2.0.1,>=2.0.0->turicreate) (0.9.0)\n",
            "Requirement already satisfied: google-pasta>=0.1.6 in /usr/local/lib/python3.6/dist-packages (from tensorflow<=2.0.1,>=2.0.0->turicreate) (0.2.0)\n",
            "Requirement already satisfied: termcolor>=1.1.0 in /usr/local/lib/python3.6/dist-packages (from tensorflow<=2.0.1,>=2.0.0->turicreate) (1.1.0)\n",
            "Requirement already satisfied: wrapt>=1.11.1 in /usr/local/lib/python3.6/dist-packages (from tensorflow<=2.0.1,>=2.0.0->turicreate) (1.12.1)\n",
            "Requirement already satisfied: keras-applications>=1.0.8 in /usr/local/lib/python3.6/dist-packages (from tensorflow<=2.0.1,>=2.0.0->turicreate) (1.0.8)\n",
            "Requirement already satisfied: astor>=0.6.0 in /usr/local/lib/python3.6/dist-packages (from tensorflow<=2.0.1,>=2.0.0->turicreate) (0.8.1)\n",
            "Requirement already satisfied: keras-preprocessing>=1.0.5 in /usr/local/lib/python3.6/dist-packages (from tensorflow<=2.0.1,>=2.0.0->turicreate) (1.1.2)\n",
            "Requirement already satisfied: opt-einsum>=2.3.2 in /usr/local/lib/python3.6/dist-packages (from tensorflow<=2.0.1,>=2.0.0->turicreate) (3.2.1)\n",
            "Collecting tensorboard<2.1.0,>=2.0.0\n",
            "\u001b[?25l  Downloading https://files.pythonhosted.org/packages/76/54/99b9d5d52d5cb732f099baaaf7740403e83fe6b0cedde940fabd2b13d75a/tensorboard-2.0.2-py3-none-any.whl (3.8MB)\n",
            "\u001b[K     |████████████████████████████████| 3.8MB 42.1MB/s \n",
            "\u001b[?25hRequirement already satisfied: grpcio>=1.8.6 in /usr/local/lib/python3.6/dist-packages (from tensorflow<=2.0.1,>=2.0.0->turicreate) (1.30.0)\n",
            "Collecting tensorflow-estimator<2.1.0,>=2.0.0\n",
            "\u001b[?25l  Downloading https://files.pythonhosted.org/packages/fc/08/8b927337b7019c374719145d1dceba21a8bb909b93b1ad6f8fb7d22c1ca1/tensorflow_estimator-2.0.1-py2.py3-none-any.whl (449kB)\n",
            "\u001b[K     |████████████████████████████████| 450kB 54.6MB/s \n",
            "\u001b[?25hRequirement already satisfied: wheel>=0.26; python_version >= \"3\" in /usr/local/lib/python3.6/dist-packages (from tensorflow<=2.0.1,>=2.0.0->turicreate) (0.34.2)\n",
            "Collecting gast==0.2.2\n",
            "  Downloading https://files.pythonhosted.org/packages/4e/35/11749bf99b2d4e3cceb4d55ca22590b0d7c2c62b9de38ac4a4a7f4687421/gast-0.2.2.tar.gz\n",
            "Requirement already satisfied: numba>=0.32 in /usr/local/lib/python3.6/dist-packages (from resampy==0.2.1->turicreate) (0.48.0)\n",
            "Requirement already satisfied: setuptools in /usr/local/lib/python3.6/dist-packages (from protobuf>=3.1.0->coremltools==3.3->turicreate) (49.1.0)\n",
            "Requirement already satisfied: h5py in /usr/local/lib/python3.6/dist-packages (from keras-applications>=1.0.8->tensorflow<=2.0.1,>=2.0.0->turicreate) (2.10.0)\n",
            "Requirement already satisfied: google-auth<2,>=1.6.3 in /usr/local/lib/python3.6/dist-packages (from tensorboard<2.1.0,>=2.0.0->tensorflow<=2.0.1,>=2.0.0->turicreate) (1.17.2)\n",
            "Requirement already satisfied: google-auth-oauthlib<0.5,>=0.4.1 in /usr/local/lib/python3.6/dist-packages (from tensorboard<2.1.0,>=2.0.0->tensorflow<=2.0.1,>=2.0.0->turicreate) (0.4.1)\n",
            "Requirement already satisfied: werkzeug>=0.11.15 in /usr/local/lib/python3.6/dist-packages (from tensorboard<2.1.0,>=2.0.0->tensorflow<=2.0.1,>=2.0.0->turicreate) (1.0.1)\n",
            "Requirement already satisfied: markdown>=2.6.8 in /usr/local/lib/python3.6/dist-packages (from tensorboard<2.1.0,>=2.0.0->tensorflow<=2.0.1,>=2.0.0->turicreate) (3.2.2)\n",
            "Requirement already satisfied: llvmlite<0.32.0,>=0.31.0dev0 in /usr/local/lib/python3.6/dist-packages (from numba>=0.32->resampy==0.2.1->turicreate) (0.31.0)\n",
            "Requirement already satisfied: rsa<5,>=3.1.4; python_version >= \"3\" in /usr/local/lib/python3.6/dist-packages (from google-auth<2,>=1.6.3->tensorboard<2.1.0,>=2.0.0->tensorflow<=2.0.1,>=2.0.0->turicreate) (4.6)\n",
            "Requirement already satisfied: cachetools<5.0,>=2.0.0 in /usr/local/lib/python3.6/dist-packages (from google-auth<2,>=1.6.3->tensorboard<2.1.0,>=2.0.0->tensorflow<=2.0.1,>=2.0.0->turicreate) (4.1.1)\n",
            "Requirement already satisfied: pyasn1-modules>=0.2.1 in /usr/local/lib/python3.6/dist-packages (from google-auth<2,>=1.6.3->tensorboard<2.1.0,>=2.0.0->tensorflow<=2.0.1,>=2.0.0->turicreate) (0.2.8)\n",
            "Requirement already satisfied: requests-oauthlib>=0.7.0 in /usr/local/lib/python3.6/dist-packages (from google-auth-oauthlib<0.5,>=0.4.1->tensorboard<2.1.0,>=2.0.0->tensorflow<=2.0.1,>=2.0.0->turicreate) (1.3.0)\n",
            "Requirement already satisfied: importlib-metadata; python_version < \"3.8\" in /usr/local/lib/python3.6/dist-packages (from markdown>=2.6.8->tensorboard<2.1.0,>=2.0.0->tensorflow<=2.0.1,>=2.0.0->turicreate) (1.7.0)\n",
            "Requirement already satisfied: pyasn1>=0.1.3 in /usr/local/lib/python3.6/dist-packages (from rsa<5,>=3.1.4; python_version >= \"3\"->google-auth<2,>=1.6.3->tensorboard<2.1.0,>=2.0.0->tensorflow<=2.0.1,>=2.0.0->turicreate) (0.4.8)\n",
            "Requirement already satisfied: oauthlib>=3.0.0 in /usr/local/lib/python3.6/dist-packages (from requests-oauthlib>=0.7.0->google-auth-oauthlib<0.5,>=0.4.1->tensorboard<2.1.0,>=2.0.0->tensorflow<=2.0.1,>=2.0.0->turicreate) (3.1.0)\n",
            "Requirement already satisfied: zipp>=0.5 in /usr/local/lib/python3.6/dist-packages (from importlib-metadata; python_version < \"3.8\"->markdown>=2.6.8->tensorboard<2.1.0,>=2.0.0->tensorflow<=2.0.1,>=2.0.0->turicreate) (3.1.0)\n",
            "Building wheels for collected packages: resampy, gast\n",
            "  Building wheel for resampy (setup.py) ... \u001b[?25l\u001b[?25hdone\n",
            "  Created wheel for resampy: filename=resampy-0.2.1-cp36-none-any.whl size=320850 sha256=c875cf1d8a6d887fb5a8eab4e2f557b4128e4d65beba467fd391619398e591fd\n",
            "  Stored in directory: /root/.cache/pip/wheels/ff/4f/ed/2e6c676c23efe5394bb40ade50662e90eb46e29b48324c5f9b\n",
            "  Building wheel for gast (setup.py) ... \u001b[?25l\u001b[?25hdone\n",
            "  Created wheel for gast: filename=gast-0.2.2-cp36-none-any.whl size=7540 sha256=fce208d9de53f42465039c335794570d0bf24b24bbdf6a7dac8d3c5ff32af44b\n",
            "  Stored in directory: /root/.cache/pip/wheels/5c/2e/7e/a1d4d4fcebe6c381f378ce7743a3ced3699feb89bcfbdadadd\n",
            "Successfully built resampy gast\n",
            "\u001b[31mERROR: tensorflow-probability 0.10.0 has requirement gast>=0.3.2, but you'll have gast 0.2.2 which is incompatible.\u001b[0m\n",
            "Installing collected packages: coremltools, tensorboard, tensorflow-estimator, gast, tensorflow, resampy, turicreate\n",
            "  Found existing installation: tensorboard 2.2.2\n",
            "    Uninstalling tensorboard-2.2.2:\n",
            "      Successfully uninstalled tensorboard-2.2.2\n",
            "  Found existing installation: tensorflow-estimator 2.2.0\n",
            "    Uninstalling tensorflow-estimator-2.2.0:\n",
            "      Successfully uninstalled tensorflow-estimator-2.2.0\n",
            "  Found existing installation: gast 0.3.3\n",
            "    Uninstalling gast-0.3.3:\n",
            "      Successfully uninstalled gast-0.3.3\n",
            "  Found existing installation: tensorflow 2.2.0\n",
            "    Uninstalling tensorflow-2.2.0:\n",
            "      Successfully uninstalled tensorflow-2.2.0\n",
            "  Found existing installation: resampy 0.2.2\n",
            "    Uninstalling resampy-0.2.2:\n",
            "      Successfully uninstalled resampy-0.2.2\n",
            "Successfully installed coremltools-3.3 gast-0.2.2 resampy-0.2.1 tensorboard-2.0.2 tensorflow-2.0.1 tensorflow-estimator-2.0.1 turicreate-6.3\n"
          ],
          "name": "stdout"
        }
      ]
    },
    {
      "cell_type": "code",
      "metadata": {
        "id": "UI0TCYro9WvI",
        "colab_type": "code",
        "colab": {}
      },
      "source": [
        "import turicreate as tc\n",
        "from turicreate import SFrame, SArray\n",
        "from turicreate import ranking_factorization_recommender"
      ],
      "execution_count": null,
      "outputs": []
    },
    {
      "cell_type": "markdown",
      "metadata": {
        "id": "bMbUWLC99orP",
        "colab_type": "text"
      },
      "source": [
        "# Trying PCA"
      ]
    },
    {
      "cell_type": "code",
      "metadata": {
        "id": "jqKfVOb19oaV",
        "colab_type": "code",
        "colab": {}
      },
      "source": [
        "import numpy as np\n",
        "from sklearn.decomposition import PCA"
      ],
      "execution_count": null,
      "outputs": []
    },
    {
      "cell_type": "code",
      "metadata": {
        "id": "WMPHfPUY9u8W",
        "colab_type": "code",
        "colab": {}
      },
      "source": [
        "e = df[\"embedding\"].values.tolist()\n",
        "e = np.array(e)"
      ],
      "execution_count": null,
      "outputs": []
    },
    {
      "cell_type": "code",
      "metadata": {
        "id": "2Q1zdlQD90qq",
        "colab_type": "code",
        "colab": {}
      },
      "source": [
        "pca = PCA(n_components=10, svd_solver='full')"
      ],
      "execution_count": null,
      "outputs": []
    },
    {
      "cell_type": "code",
      "metadata": {
        "id": "HvopZGtE-GRh",
        "colab_type": "code",
        "colab": {}
      },
      "source": [
        "e2 = pca.fit_transform(e)"
      ],
      "execution_count": null,
      "outputs": []
    },
    {
      "cell_type": "code",
      "metadata": {
        "id": "OoOKFKn-xRZb",
        "colab_type": "code",
        "colab": {
          "base_uri": "https://localhost:8080/",
          "height": 52
        },
        "outputId": "bb2873f7-0a2e-4198-9d95-48b07412bc55"
      },
      "source": [
        "pca.explained_variance_ratio_"
      ],
      "execution_count": null,
      "outputs": [
        {
          "output_type": "execute_result",
          "data": {
            "text/plain": [
              "array([0.427293  , 0.28379931, 0.09703933, 0.06096525, 0.02525084,\n",
              "       0.0127645 , 0.01105208, 0.00941576, 0.00804705, 0.00483095])"
            ]
          },
          "metadata": {
            "tags": []
          },
          "execution_count": 16
        }
      ]
    },
    {
      "cell_type": "code",
      "metadata": {
        "id": "qfovVo1Q9rH4",
        "colab_type": "code",
        "colab": {}
      },
      "source": [
        "temp = {}\n",
        "for row in e2:\n",
        "  for i in range(len(row)):\n",
        "    if i not in temp:\n",
        "      temp[i] = [row[i]]\n",
        "    else:\n",
        "      temp[i].append(row[i])"
      ],
      "execution_count": null,
      "outputs": []
    },
    {
      "cell_type": "code",
      "metadata": {
        "id": "xYilkmGzGwCm",
        "colab_type": "code",
        "colab": {}
      },
      "source": [
        "e = df[\"word2vec_title\"].values.tolist()\n",
        "e = np.array(e)"
      ],
      "execution_count": null,
      "outputs": []
    },
    {
      "cell_type": "code",
      "metadata": {
        "id": "9eHlOhCyG1G-",
        "colab_type": "code",
        "colab": {}
      },
      "source": [
        "pca = PCA(n_components=10, svd_solver='full')"
      ],
      "execution_count": null,
      "outputs": []
    },
    {
      "cell_type": "code",
      "metadata": {
        "id": "0NQzymNHG2nq",
        "colab_type": "code",
        "colab": {}
      },
      "source": [
        "e2 = pca.fit_transform(e)"
      ],
      "execution_count": null,
      "outputs": []
    },
    {
      "cell_type": "code",
      "metadata": {
        "id": "BvGtR7AAG5pO",
        "colab_type": "code",
        "colab": {
          "base_uri": "https://localhost:8080/",
          "height": 52
        },
        "outputId": "21a9c81a-7e3e-4e42-a45c-fd093201e04b"
      },
      "source": [
        "pca.explained_variance_ratio_"
      ],
      "execution_count": null,
      "outputs": [
        {
          "output_type": "execute_result",
          "data": {
            "text/plain": [
              "array([0.17403452, 0.1288888 , 0.07895822, 0.05638739, 0.04896305,\n",
              "       0.04360723, 0.03831312, 0.03163697, 0.02862578, 0.02436225])"
            ]
          },
          "metadata": {
            "tags": []
          },
          "execution_count": 36
        }
      ]
    },
    {
      "cell_type": "code",
      "metadata": {
        "id": "1Uk9qUjPG9UR",
        "colab_type": "code",
        "colab": {}
      },
      "source": [
        "temp = {}\n",
        "for row in e2:\n",
        "  for i in range(len(row)):\n",
        "    if i not in temp:\n",
        "      temp[i] = [row[i]]\n",
        "    else:\n",
        "      temp[i].append(row[i])"
      ],
      "execution_count": null,
      "outputs": []
    },
    {
      "cell_type": "markdown",
      "metadata": {
        "id": "b0dvL9bxFI1h",
        "colab_type": "text"
      },
      "source": [
        "# Word embeddings for description & title"
      ]
    },
    {
      "cell_type": "code",
      "metadata": {
        "id": "X9QsbRTlFLFE",
        "colab_type": "code",
        "colab": {
          "base_uri": "https://localhost:8080/",
          "height": 453
        },
        "outputId": "90f5a2c0-490d-49ba-bcc5-170bdc5eedce"
      },
      "source": [
        "!pip install --upgrade gensim"
      ],
      "execution_count": null,
      "outputs": [
        {
          "output_type": "stream",
          "text": [
            "Collecting gensim\n",
            "\u001b[?25l  Downloading https://files.pythonhosted.org/packages/2b/e0/fa6326251692056dc880a64eb22117e03269906ba55a6864864d24ec8b4e/gensim-3.8.3-cp36-cp36m-manylinux1_x86_64.whl (24.2MB)\n",
            "\u001b[K     |████████████████████████████████| 24.2MB 131kB/s \n",
            "\u001b[?25hRequirement already satisfied, skipping upgrade: smart-open>=1.8.1 in /usr/local/lib/python3.6/dist-packages (from gensim) (2.1.0)\n",
            "Requirement already satisfied, skipping upgrade: six>=1.5.0 in /usr/local/lib/python3.6/dist-packages (from gensim) (1.12.0)\n",
            "Requirement already satisfied, skipping upgrade: numpy>=1.11.3 in /usr/local/lib/python3.6/dist-packages (from gensim) (1.18.5)\n",
            "Requirement already satisfied, skipping upgrade: scipy>=0.18.1 in /usr/local/lib/python3.6/dist-packages (from gensim) (1.4.1)\n",
            "Requirement already satisfied, skipping upgrade: boto3 in /usr/local/lib/python3.6/dist-packages (from smart-open>=1.8.1->gensim) (1.14.20)\n",
            "Requirement already satisfied, skipping upgrade: boto in /usr/local/lib/python3.6/dist-packages (from smart-open>=1.8.1->gensim) (2.49.0)\n",
            "Requirement already satisfied, skipping upgrade: requests in /usr/local/lib/python3.6/dist-packages (from smart-open>=1.8.1->gensim) (2.23.0)\n",
            "Requirement already satisfied, skipping upgrade: s3transfer<0.4.0,>=0.3.0 in /usr/local/lib/python3.6/dist-packages (from boto3->smart-open>=1.8.1->gensim) (0.3.3)\n",
            "Requirement already satisfied, skipping upgrade: jmespath<1.0.0,>=0.7.1 in /usr/local/lib/python3.6/dist-packages (from boto3->smart-open>=1.8.1->gensim) (0.10.0)\n",
            "Requirement already satisfied, skipping upgrade: botocore<1.18.0,>=1.17.20 in /usr/local/lib/python3.6/dist-packages (from boto3->smart-open>=1.8.1->gensim) (1.17.20)\n",
            "Requirement already satisfied, skipping upgrade: idna<3,>=2.5 in /usr/local/lib/python3.6/dist-packages (from requests->smart-open>=1.8.1->gensim) (2.10)\n",
            "Requirement already satisfied, skipping upgrade: urllib3!=1.25.0,!=1.25.1,<1.26,>=1.21.1 in /usr/local/lib/python3.6/dist-packages (from requests->smart-open>=1.8.1->gensim) (1.24.3)\n",
            "Requirement already satisfied, skipping upgrade: certifi>=2017.4.17 in /usr/local/lib/python3.6/dist-packages (from requests->smart-open>=1.8.1->gensim) (2020.6.20)\n",
            "Requirement already satisfied, skipping upgrade: chardet<4,>=3.0.2 in /usr/local/lib/python3.6/dist-packages (from requests->smart-open>=1.8.1->gensim) (3.0.4)\n",
            "Requirement already satisfied, skipping upgrade: python-dateutil<3.0.0,>=2.1 in /usr/local/lib/python3.6/dist-packages (from botocore<1.18.0,>=1.17.20->boto3->smart-open>=1.8.1->gensim) (2.8.1)\n",
            "Requirement already satisfied, skipping upgrade: docutils<0.16,>=0.10 in /usr/local/lib/python3.6/dist-packages (from botocore<1.18.0,>=1.17.20->boto3->smart-open>=1.8.1->gensim) (0.15.2)\n",
            "Installing collected packages: gensim\n",
            "  Found existing installation: gensim 3.6.0\n",
            "    Uninstalling gensim-3.6.0:\n",
            "      Successfully uninstalled gensim-3.6.0\n",
            "Successfully installed gensim-3.8.3\n"
          ],
          "name": "stdout"
        }
      ]
    },
    {
      "cell_type": "code",
      "metadata": {
        "id": "9cjWiiDqFMnF",
        "colab_type": "code",
        "colab": {}
      },
      "source": [
        "import gensim\n",
        "from gensim.models import Word2Vec"
      ],
      "execution_count": null,
      "outputs": []
    },
    {
      "cell_type": "code",
      "metadata": {
        "id": "qJ9A4F5vFSYl",
        "colab_type": "code",
        "colab": {}
      },
      "source": [
        "title = df[\"title\"].values.tolist()"
      ],
      "execution_count": null,
      "outputs": []
    },
    {
      "cell_type": "code",
      "metadata": {
        "id": "Oc54MXsIFWGs",
        "colab_type": "code",
        "colab": {}
      },
      "source": [
        "tokenized_title = [i.split() for i in title]"
      ],
      "execution_count": null,
      "outputs": []
    },
    {
      "cell_type": "code",
      "metadata": {
        "id": "okzEwuhcFkRQ",
        "colab_type": "code",
        "colab": {}
      },
      "source": [
        "model = Word2Vec(tokenized_title, size=100, window=5, min_count=1, workers=4)"
      ],
      "execution_count": null,
      "outputs": []
    },
    {
      "cell_type": "code",
      "metadata": {
        "id": "vffdvcMRFwsu",
        "colab_type": "code",
        "colab": {
          "base_uri": "https://localhost:8080/",
          "height": 55
        },
        "outputId": "d4d09107-ba43-4e45-bf0b-29e577dee84b"
      },
      "source": [
        "words = list(model.wv.vocab)\n",
        "print(words)"
      ],
      "execution_count": null,
      "outputs": [
        {
          "output_type": "stream",
          "text": [
            "['Ballet', 'Dress-Up', 'Fairy', 'Tutu', 'SHINING', 'IMAGE', 'HUGE', 'PINK', 'LEATHER', 'JEWELRY', 'BOX', '/', 'CASE', 'STORAGE', 'ORGANIZER', 'WITH', 'TRAVEL', 'AND', 'LOCK', 'Learn', 'French:', 'Rosetta', 'Stone', 'French', '-', 'Level', '1', 'Italian:', 'Italian', 'Buzz', 'Lightyear', 'Deluxe', 'Size:', 'Child', 'S(4-6)', 'Toy', 'Story', '2:', 'Woody', 'Costume', 'Variation', 'Parent', 'Lewis', 'N.', 'Clark', 'Neck', 'Stash', 'Add-A-Bag', 'Luggage', 'Strap', 'Jet', 'Pack', 'Suunto', 'Vector', 'Wristop', 'Computer', 'with', 'Compass,', 'Altimeter', '&amp;', 'Barometer', 'X-Lander', 'Wrist-Top', 'Watch', 'Altimeter,', 'Barometer,', 'and', 'Chronograph', 'Spiderman,', 'Classic', 'Master', 'Lock', '1530DCM', 'X-treme', 'Combination', 'in', 'Assorted', 'Colors,', '1-Pack', 'Rubies', 'Co', \"Women's\", 'FourInOne', 'Nun', 'Kidoozie', 'My', 'First', 'Purse', 'Skagen', \"Men's\", '105LTX', 'Titanium', 'Grey', 'Dial', 'Dora', 'the', 'Explorer', 'Plush', 'Backpack', 'Bag', 'CASIO', 'F91W-1', 'Casual', 'Sport', 'Converse', 'Unisex', 'Chuck', 'Taylor', 'All', 'Star', 'Hi', 'Top', 'Black', 'Monochrome', 'Sneaker', 'Under', 'Armour', 'HeatGear&reg;', 'Compression', 'Short', 'Sleeve', 'T-Shirt', 'Colors', 'Enell', 'High', 'Impact', 'Sports', 'Bra', 'AmeriBag', 'X-Small', 'Distressed', 'Nylon', 'Healthy', 'Back', 'Tote', 'Kipling', 'Lancelot', 'Flap', 'Shoulder', 'Bag,', 'True', 'Blue,', 'One', 'Size', 'PalmBeach', 'Jewelry', 'Open', 'Weave', 'Decorative', 'Band', '14k', 'Gold-Plated', 'Buxton', 'Check', 'Clutch', 'Mini', 'On', 'A', 'String', 'Heiress', 'Organizer;', 'Convertible&reg;', 'Billfold', 'Double', 'CardexTM', 'Double-Flap', 'Mini-Bag', 'Total', 'Wallet', 'Organization', 'Ensemble', 'Braza', 'Adhesive', 'Playtex', 'Secrets', 'Luxurious', 'Lift', 'Underwire', 'Vanity', 'Fair', 'Rosette', 'Lace', 'Full', 'Slip', '#10103', 'Petal', 'Tops', 'Berkshire', 'Plus-Size', 'Queen', 'Silky', 'Sheer', 'Control', 'Pantyhose', '4489', 'Rago', 'Pull', 'Girdle', 'Happy', 'Straps', 'Shadowline', 'Long', 'Gown', 'Flower', 'Embroidery', 'Flutter', 'Sleeves', '(32280)', 'Kicks', 'Stockings', 'Sandalfoot', '1550', 'Day', 'Thigh', 'Sizes', '1590', 'Bali', '#0180', 'Satin', 'Tracings', 'Minimizer', '#3562', 'Fashion', 'Forms', '2001', 'Os', 'Wht', 'Connection', 'Crib', 'Shoe', 'Hanes', 'Toe', 'Silk', 'Reflections', 'Panty', 'Hose', 'Reinforced', 'Dkny', 'Opaque', 'Coverage', 'Tights', 'Felina', 'Harlow', 'Unlined', 'Demi', 'Skimp', 'Skamp', 'Brief', '#2633', 'Jockey', 'Underwear', 'Elance', '3', 'Pack,', 'grey', 'heather,', '6', 'Cut', 'deep', 'blue', 'dot,', '5', 'Bikini', 'white,', '4', 'OnGossamer', 'Mesh', 'Bump', 'It', 'Up', 'Push', 'Fantasie', 'Smoothing', 'Cup', 'Shimmers', 'SPANX', 'POWER', 'PANTIES', 'Style#', '004', '(3', 'Pack)', 'Softsposts', 'Stephanie', 'Leather', 'Pumps', 'Lollipop', 'Leg', 'Panties', 'Disguise', 'Marvels', 'Super', 'Hero', 'Squad', 'Hulk', 'Infant', 'Pouch', 'black,', 'M', 'Spiderman', 'Muscle', 'M(7-8)', 'Domke', 'F-2', 'Original', '(Black)', 'Timberland', 'Inch', 'Premium', 'Waterproof', 'Boot', '(Big', 'Kid)', 'Merrell', 'Jungle', 'Moc', 'Slip-On', 'K-Swiss', 'LX', 'Lace-Up', 'ST329', '201', 'Tennis', '(Infant/Toddler)', 'Superman', \"Child's\", 'Costume,', 'Small', 'Rainbow', 'Sandals', 'Single', 'Layer', 'Sandal', 'Reebok', 'Freestyle', 'Carhartt', 'Arctic-Quilt', 'Lined', 'Sandstone', 'Duck', 'Traditional', 'Coat', 'C26', 'Thorlo', 'Thick', 'Cushion', 'Hiking', 'Sock', 'Washed', 'Work', 'Dungaree', 'Pant', 'B11', 'Workwear', 'Henley', 'Shirt', 'Thin', 'Walking', 'Crew', 'Pocket', 'K87', 'Wool/Silk', 'Moderate', 'Light', 'Hiker', 'Active', 'Jacket', 'Quilted', 'Flannel', 'J130', 'Bib', 'Overall', 'R02', 'Champion', 'Elastic', 'Uniform', 'Belt', 'Relaxed', 'Fit', 'Jean', 'B17', 'Rockport', 'World', 'Tour', 'Columbia', 'BM4324', 'Techsun', 'H2O', 'Water-Friendly', 'Multi', 'Sandal,Mud/Dark', 'Adobe,11', 'Texsport', 'Zippered', 'Canvas', 'Duffel', 'Wrangler', 'Rugged', 'Wear', 'Woodland', 'Thermal', 'Scrusher', 'Brush', 'Gold', 'Emerald-Cut', 'Gemstone', 'Studs', 'Yellow', '7x5mm', 'Oval-Shaped', 'Garnet', 'Stud', 'Earrings', 'Duragold', 'Half-Round', 'Hoop', '(0.6&quot;', 'Diameter)', '(1&quot;', 'Earrings,', '(2&quot;', '4mm', 'Ball', '5mm', '6mm', '7mm', '8mm', 'White', '(0.85&quot;', 'Yellow,', 'White,', 'or', 'Two-Tone', 'Polished', 'Crossover', 'TYR', 'Goggles', 'Case', 'Danskin', 'Supplex', 'Capri', 'Ankle', 'Length', 'Legging', 'New', 'Balance', 'W801', 'Timex', \"Kids'\", 'T72881', '&quot;Lizards&quot;', 'Multi-Colored', 'Fabric', \"Levi's\", '501', '107SSSBD', 'Stainless', 'Steel', '233LTMN', '233LTTN', 'Blue', 'Face', 'Bracelet', '358SSSD', 'Freja', 'Quartz', '2', 'Hand', 'Silver', '430SSXD', 'Stine', 'Knee', 'Reinforce', 'Dominique', 'Longline', 'Torsolette', 'Household', 'Essentials', 'Hanging', 'Cosmetic', 'Grooming', 'Travel', 'Sperry', 'Top-Sider', 'Billfish', 'Boat', 'Custom', 'LeatherCraft', '110USA', 'Heavy', 'Duty', 'USA', 'Flag', 'Suspender', 'KEEN', 'Newport', 'Smartwool', 'Medium', 'Trekking', 'Heavy,', 'beige', 'Akona', 'Gear', 'Bags', 'Bermuda', 'Kiwi', 'Camp', 'Dry', 'Performance', 'Protector,', '10.5', 'oz', 'Terramar', 'Thermasilk', 'Scoop', 'Saucony', 'Originals', 'Jazz', 'Low', 'Pro', 'Vegan', 'Earring', 'Holder-Clear', 'Acrylic-Holds', '37', 'Pairs!', '(Clear)', '(10&quot;W', 'x', '7/8&quot;D', '1/2&quot;H)', 'Big-Tall', 'Artic', 'Quilt', 'T20011', '&quot;Easy', 'Reader&quot;', 'Brown', 'T20031', 'T20471', 'Easy', 'Reader', 'Gold-Tone', 'Expansion', 'T28071', 'T29271', 'Elevated', 'Classics', 'Dress', 'Chic', 'Silver-Tone', 'T29291', 'T40011', 'Expedition', 'Camper', 'Fast', 'Wrap', 'Velcro', 'T47042', 'Metal', 'Field', 'Olive/Brown', 'T479029J', 'Set', 'Alarm', 'T48042', 'Digital', 'Chrono', 'Pusher', 'Cat', \"Girls'\", 'T89022', '&quot;Time', 'Teacher&quot;', 'Floral', 'T21693', 'Burgundy', 'DryGuy', 'Thermanator', 'Dryer', 'Stocking', 'Front', 'B01', 'T21912', '&quot;Cavatina&quot;', 'T89001', 'Analog', 'Hearts', 'Butterflies', \"Children's\", 'Connoisseurs', 'Polishing', 'Cloth', 'Venice', 'H2', 'Extremes', 'Avenue', 'Crotchless', 'J131', 'Arctic', 'J33', 'Big', 'Tall', 'Zip-To-Waist', 'Biberall', 'Yukon', 'Coverall', 'Dickies', '874', 'Buster', '100%', 'Cotton', 'Socks,', '6-pk', 'National', 'Cardigan', 'Sweater', 'Seam', '#1101', 'Fishnet', '#9027Q', 'Leading', 'Lady', 'Plus', 'Sleep', 'Leisure', 'Wacoal', 'Close', 'T-Back', '#65124', 'No', 'Line', 'Promise', 'Tactel', 'Lacy', 'Feather', 'Figure', '#85121', 'Hip', \"9''\", 'Power', 'Liner', 'Style,', 'M-Birch', 'Heather', 'Smooth', '#3432', 'Perfectly', 'Yours', 'Ravissant', 'Tailored', '#15712', 'Cuff', 'Lunaire', 'Coolmax', 'Double-Support', 'Wire-Free', '#3820', 'Body', 'By', 'Sexyhose', '1361', 'Romantic', 'Highs', '1363', 'Garter', '4909', 'Maternity', 'Support', '5700', 'Non', 'FLA', 'Activa', '20-30', 'mmHg', 'Athletic', 'Over', 'Calf', 'Various', 'Wigwam', 'Hiking/Outdoor', '505', 'Regular-Fit', 'Enchanted', 'Bra,', '38D', 'Bodysuede', 'Ultra', 'Seamless', 'Waist', 'Cincher', 'Shaper', 'sports', 'bra', 'Helena', 'Balcony', 'AmeriLeather', 'Toiletry', 'Mizuno', 'Breath', 'Thermo', 'Run', 'Glove,', 'Black,', 'Large', 'Suede', 'Maidenform', 'Fabulous-Fit', '517', 'Sevilla', 'Scroll', 'Embroidered', 'Mens', 'Military', '#9027', 'Stay', '3-Inch', '#1022', 'Two', 'Tone', 'Thi', 'W', 'Backseam', 'Hanky', 'Panky', 'Signature', 'Low-Rise', 'Thong', '233STMB', '355SGSC', 'Ancher', 'Date', 'Panache', 'Tango', 'II', 'Balconette', '#3251', 'Bravado', 'Designs', 'Womens', 'Nursing', 'Style', '1011', 'Natori', 'Reflex', 'Reef', 'Slap', 'Flip', 'Flop', 'Brownie', 'Organizer', 'Money', 'Sugar', 'Handbag', 'Rothco', 'Map', 'Sole', 'Softec', 'Response', 'Footbed', 'The', '&quot;Original&quot;', 'Headache', 'Visor', 'Visor-Midsize', 'PROPPER', 'F545255', \"Adult's\", 'BDU', '2-Pocket', 'Anorak', 'Self', 'Packable', 'ROYAL', 'S', 'Casio', 'MQ24-9B', 'Strapless', '1J791', 'Sneakers', 'Shoes', 'Long-Sleeve', 'Regular', '5-Pocket', 'Loose', '13', 'Cargo', 'Occupational', 'C993RNB', '32x34', 'Denim', 'Industrial', 'Straight', 'Leg,', '32&quot;', 'Size,', '34&quot;', 'Inseam,', 'Indigo', 'Rigid', 'Overalls', 'Eisenhower', 'Snap', 'Fleece', 'Hooded', 'B18', 'B13', 'Marmot', 'Precip', 'ExOfficio', 'Give-N-Go', 'Boxer', 'GiveNGo', 'Munsingwear', 'Full-Rise', 'Comfort', 'Women&#65533;s', 'Featherweight', 'ORANGE', '5XL', 'Woodlore', 'Adjustable', 'Tree', '#T25771', 'T40091', 'T40131', 'T59201', 'Ironman', '50-Lap', 'Triathlon', 'Sleek', 'Resin', 'T5B721', 'Armour&reg;', 'Pants', 'Bottoms', 'by', 'Carbon', 'Ladies', 'Cardex', 'Gloria', 'Vanderbilt', 'Amanda', 'T56371', '42', 'Lap', 'Combo', 'VINTAGE', 'PARATROOPER', 'FATIGUE', 'Sterling', 'Multicolor', 'Amber', 'Teardrop', 'Ring', '2mm', '24&quot;', 'Diamond-cut', 'Rope', 'Chain', 'Necklace', '20&quot;', '22&quot;', 'Diamond-Cut', 'Celtic', 'Knot', 'Topaz', 'Hook', '1mm', 'Nickel', 'Free', 'Snake', 'Necklace(Lengths', '14&quot;,16&quot;,18&quot;,20&quot;,22&quot;,24&quot;,30&quot;,36&quot;)', 'Red', 'Ring(Sizes', '4,5,6,7,8,9)', 'Hickory', 'Stripe', '110', 'RED', 'Suspenders', 'U.W.Bra', 'Open-Cup', 'Ariat', 'Heritage', 'Western', 'R', 'Roper', 'Rainkist', 'Umbrellas', 'Automatic', 'Voguestrap', 'TX1802BK', 'Allstrap', '18mm', 'Adjustable-Length', 'Casuals', 'Solid', 'Nylon-Black', 'Watchband', 'TX22G3', '22mm', 'Regular-Length', 'Fits', 'Data', 'Bank', 'TX48320BK', '20mm', 'Padded', 'Genuine', 'TX877761', '16-20mm', 'Fast-Wrap-Expedition', 'Flat', 'Use', 'T-Shirts', 'Two-Pack', 'Cool-Lite', 'Navy,', 'Girls', '7-16', 'School', 'Metallica-Master', 'Of', 'Puppets', 'ColdGear&reg;', 'Force', 'Vintage', 'Camo', 'Boonie', 'Hat', 'Sherpa-lined', 'Zipper', 'Sweatshirts', 'Venturer', 'Excursion', 'Load', 'Duffle', 'Bags,', 'Soffe', 'Juniors', 'Earcuff', '9DSS', '9DGF', '14K', 'Gold-filled', 'Carpenter', 'Inseam', 'Messenger', 'Bag,8.5&quot;', '3.6&quot;', '14&quot;,Olive', 'Drab', 'Man', 'Tag-Free', 'T-Shirt-', 'XLT', 'Fatbaby', 'Floating', 'Heart', 'Flawless', 'Quality,', '3/4', 'inch', 'wide', '50321', 'Aqua', 'Miss', 'Elaine', 'Petals', '41&quot;', '77280X', 'Frosty', 'EMT', '652', 'Anvil', \"Ladies'\", 'V-Neck', 'Authentic', 'Pigment', '1941', 'Pigment-Dyed', 'Boxy', 'Fruit', 'of', 'Loom', '5.4', 'oz.Cotton', 'Oz.,', 'Hd&reg;', 'ComfortBlend', 'EcoSmart', 'Crewneck', 'Beefy-T', 'Molded', 'P&amp;P', 'Inc.', 'Retro', 'Mirror', 'Aviator', 'Sunglass', 'Skid', 'Socks', 'Hospital', 'Tri-Color', 'Desert', 'Paratrooper', 'Fatigues', 'Parrot', 'Hawaiian', 'Coaster', 'Armoire,', 'Ivory', 'Finish', 'Wood', 'Painted', 'Roses', 'Cuddl', 'Duds', 'Medallion', 'Camisole', 'Misses,', 'Shapewear', 'Pantie', '6101', 'Muk', 'Luks', 'Ragg', 'Wool', 'Slipper', 'Danner', 'Mountain', 'Outdoor', 'Plunging', 'Spirit', 'AP1', 'Weekender&reg;', 'Trader', 'Soft', 'Angel', 'Pump', 'Naturalizer', 'Lerato', 'Loafer', 'Skechers', 'Alley', 'Utility', 'Oxford', 'Van', 'Heusen', 'Poplin', 'Shirt,', '16.5', 'Dockers', 'Catalina', 'ROC', 'Bandolino', 'Mylah', 'Peep-Toe', 'Yaktrax', 'Walker', 'Traction', 'Cleats', 'for', 'Snow', 'Ice', 'LifeStride', 'Mimosa', '32', 'North', 'Stabilicers', 'IZOD', 'American', 'Chino', 'Pleated', 'Grasshoppers', 'Ashland', 'Jensen', '30', 'Milliimeter', 'Web', 'With', 'Logo', 'Buckle', 'Boys', 'T-shirt', '2138', 'Bahama', 'Short-Sleeve', 'Largo', 'Ultimate', 'Adult', 'Sweatshirt', 'Youth', '7.8', 'oz.', 'ComfortBlend&reg;', 'EcoSmart&reg;', '50/50', 'Comfortblend', '#', 'P160', 'Jerzees', '8', 'NuBlend', 'Pullover', 'Hood', 'oz.,', 'NuBlend&reg;', 'Port', 'Company', 'SP10', 'Value', 'Authority', 'Interlock', 'Mock', 'Turtleneck', '(K321)', 'Available', '10', 'Intimo', 'Boxers', 'Nurse', 'Mates', 'Dove', 'Quark', 'Quarky', 'Clog', '570204', 'Shimmery', 'Footed', 'Tight', 'Capezio', 'Transition', 'Pratt', 'Hart', 'Deerskin', 'Driving', 'Gloves', 'Motion', 'BEARPAW', 'Abigail', 'Professional', 'Show', '4-Pack', '550', 'Jr.', 'Footlight', 'Character', 'R07', 'HUE', 'Jeans', 'to', '3-Pack', 'Turn', 'Anklets', 'Metropolitan', 'Sock,', 'Weekend', 'Marathon', 'Quarter', 'Wimbledon', 'Turn-Cuff', 'Windsor', 'Fluffies', 'Heather,', '3-Pack,', '10-13', 'Six-Pack', '6-Pack', '3&quot;', 'Bar', 'And', 'UGG', 'Underworks', 'Post', 'Delivery', 'Belly', '8-20', '233XSSS', 'Grenen', 'Daisy', '205', '(Toddler/Little', '2030', 'Cobra', 'MARINES', \"''PAIN\", 'IS', \"WEAKNESS''\", 'T-SHIRT', 'Geoffrey', 'Beene', 'Point', 'Collar', 'Sateen', 'Woven', 'Betula', 'Licensed', 'Birkenstock', 'Taupe', '40', 'Russell', 'Basic', 'Tee', 'Zip', 'SafeTGard', '(Available', 'Colors)', 'Luvable', 'Friends', 'Unisex-baby', 'Feet', 'Half', 'Moon', 'Short,Fossil,Large', 'Bonehead', 'Fishing', 'Kangol', '504', 'Cap', 'Coldgear', 'Hood,', 'Pleaser', 'Electra-2042', 'Peridot,', 'Garnet,', 'Amethyst,', 'Citrine', 'Individually', 'Boxed', 'Ventair', 'Antiqued', 'Popcorn', '14&quot;,16&quot;,18&quot;,20&quot;,24&quot;,30&quot;)', 'Dr.', \"Scholl's\", 'Dance', 'Perry', 'End', '1/2', '(Tall', 'Available)', 'Products', 'SN200', 'Clip-On', '2-in', 'Beanie', 'Visored-Black', 'BLACKHAWK!', 'Universal', '(fits', 'up', '52-Inch)', 'CTM&reg;', 'Button', 'Y-back', 'Brilliant', 'Clear', 'Cubic', 'Zirconia', 'Solitaire', '3mm', '5,6,7,8,9,10', 'Propper', 'Bdu', 'Trouser', 'Prestige', 'Medical', 'Scrub', 'Calvin', 'Klein', 'Three-Pack', 'Crew-Neck', 'Tank', 'Sportswear', 'Fern', 'Creek', 'Vest,', 'Charcoal', 'L', 'Cathedral', 'Peak', 'Vest', 'Steens', 'Halo', 'Convertible', 'Ear', 'Muffs-Black', 'W20S35A', 'Guide', 'Microfleece', 'Robe,', 'FOREST', 'GREEN,', 'L/XL', 'MG', 'Sun', 'girl', 'lady', 'pop', 'women', 'Serratula', 'warm', 'bud', 'knitted', 'beret', 'wool', 'cap', 'hat', 'box1mm', 'Sturdy', 'Box', 'Link', '1MM', '14,', '16,', '18,', '20,', '22,', '24,', 'Hypnotic', 'Spiral', 'Shell', 'Pewter', 'Pendant', 'bike', 'shorts', 'cycling', 'comfort.', 'Goddess', 'MQ24-7E', 'Paul', 'Checkbook', 'Cover', 'Manzella', 'Stretch', 'Glove', 'Elle', 'Macpherson', 'Intimates', 'Maternelle', 'Nusing', 'UA', 'Polo', 'LoveFifi', 'Jezebel', 'Anklet', 'Ruffle', 'ASICS', 'Surf', 'Mocassin', 'Certified', 'Baltic', 'Designer', 'Ring,', '5,6,7,8,9,10,11,12', 'Sarongs', 'Hibiscus', 'Swimsuit', 'Sarong', 'your', 'choice', 'color', 'Cover-Up', 'Turkishtowels', 'Terry', 'Bathrobe,', 'Combed', 'Pure', 'Turkish', 'Robe', 'Seiko', 'SWZ054', 'SKX173', 'Polyurethane', 'Dive', 'SKX175', 'SNA411', 'Flight', 'Farr', 'West', '12', 'Rise', '(25712)', 'Invicta', '8926', 'Diver', 'Collection', 'Mako', '8927', 'Speedway', '9211', '9212', '8932', '&quot;Pro', 'Collection&quot;', 'Lily', 'France', 'In', 'Action', 'Hot', 'Chillys', 'Peach', 'Roll', 'T-Neck', 'Base', 'Crocheted', '(02)-Rasta', 'Minus33', 'Merino', 'Kancamagus', 'Midweight', 'Bottom', 'Costumes', 'Arwen', 'Lord', 'Rings', 'Puff', 'Cigarettes', \"Policeman's\", 'Badge', 'F0003', 'Reserve', 'Venom', 'Gunmetal', 'Ion-Plated', 'Daniel', 'Green', 'Dormie', 'Gryffindor', 'Scarf', 'Slytherin', 'Necktie', 'Junior', 'Astronaut', 'Suit', 'Orange', 'Pantyhose,', '3-pk', \"Sportswear's\", 'Benton', 'Springs', 'Sweater,Black,Large', 'Nouveau', '#13001', 'Shine', 'Illumination', 'Hi-Cut', 'Favorite', '#13109', '#18108', 'Cable', 'Knit', 'Spin', 'Tricot', 'Slit', 'Baggallini', 'Complete', 'Bagg', 'STR300', '60lap', 'Running', 'SKX779K3', '&quot;Black', 'Monster&quot;', 'Quidditch', 'Exquisite', 'Form', 'Posture', '#5100531', '(27014)', 'Dixie', 'Belle', 'Velrose', 'Snip-it', 'Pettipants', '(3362)', 'Silhouette', '53&quot;', '31737', 'Plisse', 'Velour', 'Lounger', 'Chambray', 'Indera', 'Rib', 'Camisole,', '2(x)ist', 'Essential', 'Contour', 'Brief,', 'Olga', 'Pretty', 'Cami', 'Shrink', 'To', 'Khaki', 'D3', 'Pant,Dusty', 'Khaki,31x32', 'Ribbed', 'Workout', 'Pitbull', '511', 'Slim', 'Cole', 'Haan', 'Pinch', 'Tassel', '32mm', 'Oil', 'Tan', 'Guatemalan', 'Air', 'Santa', 'Barbara', 'Anne', '104899SVTT', 'Hikini', '#2433', 'Isotoner', 'Ballerina', 'Trend', 'Core', 'Boots', 'Enzo', 'Angiolini', 'Liberty', 'Slip-on', 'Made', 'Apparel', 'Yoga', '8300', 'Dolfin-Ocean', 'Winner', 'HP', 'Foot', 'Stopperz', 'Speedo', 'Equipment', 'Swim', 'Short/Resistance', 'Durafast', 'Diamondback', 'ct.', 'I1', 'Round', 'Diamond', 'CZ', 'Dakota', 'Clip', 'Microlight', 'Cowboy', 'Stonewashed', '239B', 'Below', 'George', 'Strait', 'Covered', '54&quot;', '71737', 'Edge', '(non-skid)', 'JM', 'Skinz', 'Duke', 'Supporter', 'Stromgren', 'Square', 'Bathing', 'Jammer', 'Male', 'Lycra', 'Poly', 'Swatch', 'GS124', 'Plastic', '50s', 'Formal', 'Bridesmaid', 'Prom', 'Holiday', 'Buddy', 'Unisex-Adult', '5.6', 'BestTM', 'Citizen', 'BL8000-54L', 'Eco-Drive', 'Calibre', '8700', 'Perpetual', 'Calendar', 'BJ7000-52E', '&quot;Nighthawk&quot;', 'ADC', 'Aquafx', 'Jersey', 'Sweatpants', 'Thigh-High', 'Chiffon', 'Bow', 'SCER001', 'Cluster', 'Crystal', 'Swarovski', 'Elements', 'SCBR007', '7.5', 'Darth', 'Vader', 'Standard', '(Child', '4-6)', 'Earspiral', 'C361XSGF', 'Pull-On', 'Pull-Over', 'Hoodie', 'Zip-Front', 'Shorts', 'Dri-Power', 'Peformance', 'Jameson', 'Mary', 'Jane', 'SpotShieldTM', 'Olive', 'Garment', '5.2', 'STEDMAN', 'Blended', 'Ash', '7', 'Pique', 'GILDAN', 'Shirts', '8900', 'GD', '2XL', 'Hogwarts', 'Wipes', 'Leader', 'Cleaner', '1014-CON', 'Desire', 'Minnetonka', 'Sheepskin', 'Softsole', 'Moccasin', 'Exercise', 'Sandal,', '9', 'Malvina', 'MW600F-9AV', '10-Year', 'Battery', 'Rhinestone', 'Buttons', 'T26301', 'MW580BK', '4&quot;', 'Credit', 'Card', 'Holder', 'EW8464-52D', '&quot;Silhouette&quot;', 'Crystal-Accented', 'Wedding', '(Size', '14)', 'Cherokee', 'Scrubs', 'Drawstring', '#65149', 'Rubber', 'Divers', 'Model', 'Spec', 'Teez-Her', 'Skinny', 'Fanning', 'Bostonian', 'Evanston', 'Prescott', 'Clarks', 'Portland', 'Oxford,', 'Leather,', 'Trek', 'Akron', 'Merrimack', 'Wallabee', 'Henschel', 'Breezer', 'CoolMax', 'Rainbow-Stripe', 'House', 'Garden', 'Melodies', 'BOWTIE', 'WHITE', 'Tie', 'Tuxedo', 'Ties', 'BowTies', 'BOWTIE-Solid-Mens-red', 'Tuxedo-BowTies', 'SCER009', 'Tanzanite', 'Sapphire', 'SCER010', 'Simple', 'Beauty', 'Fabulous', '#7955', 'SCER013', '(01)-Khaki', 'W10S32F', '(02)-Beige', 'W10S30F', 'Schylling', 'Handcuffs', 'Wire', 'ivory,', '34A', 'BlendTM', 'adidas', 'adissage', 'Mid', 'Calissage', 'Slide', 'Samba', 'Soccer', 'Santiossage', 'JanSport', 'Driver', 'Series', 'Wheeled', 'Student', 'Daypack', 'SuperBreak', 'Pint', 'Bulova', 'Marine', 'Flexees', 'Instant-Slimmer', 'Nipper', '#6868', 'Instant', 'Slimmer', 'Firm-Control', '#6854', 'Lilyette', 'Microfiber', '#428', '#929', 'Boyshort', 'Maidenform&reg;', 'Firm', 'Waistshaper', 'Slimmer,', 'P/C', 'Nike', 'Revolution', 'Training', 'Touch', 'Spandex', 'Leggings', 'Rhodium', 'Plated', 'Polish', 'Wide', '5,', '6,', '7,', '8,', '9,', 'Thunderbird', '1429', 'Knee-High', 'Kilty', 'Soft-T', 'Hardsole', 'Pile', 'Florsheim', 'Lexington', 'Wingtip', 'Moosehide', 'Nubuck', 'Riva', 'Sebago', 'Docksides', 'Schooner', 'L.B.', 'Evans', 'Chicopee', 'TUCKER', 'VENETIAN', 'Loafers', 'Multi-Pocket', 'Energy', 'Afterburn', 'NubuckSneaker', 'Stride-Softie', 'Mephisto', 'Match', 'Castaway', 'Gordon', 'Caterpillar', 'Indiana', '8&quot;', 'Shelter', 'Plain', 'Haven', 'Glacier', '2nd', 'Shift', '6&quot;', 'Premier', 'Narrow', 'Prewashed', '2-Eye', 'Parris', 'Tex', 'Pistol', 'Willow', 'Keepsake', 'Hats', 'Beige', 'Hunting', 'Hat-Camo', 'W11S41D', 'Tanga', '(40319)', '8/Cream', 'Soda/PeachSorbet', '3-Layer', 'Fringe', 'Helen', 'SPIRA', 'Crinkle', 'Print', 'Sundress', 'scer018', 'Pink', 'Jade', 'Leverback', 'Dangle', 'ULTRA', 'FORCETM', 'LONGER', 'SHORTS', 'CITY', 'CAMO', '233XLSGS', 'Slimline', '233XLTTN', 'Gray', 'Watches,', '233XLTTM', '233XLTMB', 'Keds', 'X-Back', 'Brass', 'Hardware', 'Pima', 'Piqu&eacute;', 'SXD646', 'Tech&trade;', '18-Hour', 'Comfort-Strap', '#4693', '18', 'Hour', 'Wirefree', 'Clip-End', \"Traveler's\", 'Choice', 'Select', 'Amsterdam', 'Business', 'Rolling', 'Cross', 'Your', 'Lightly', '#655', 'Foam', 'Jacquard', 'Cottony', 'Gel', 'Shaping', '34D', 'Paisley', 'Bandanas', 'Eyeglass', 'Ray-Ban', 'RB3025', 'Sunglasses', '106739SVSV', 'Bangle', 'Non-Polarized', 'Tommy', 'Hilfiger', '1700161', 'Navy', 'Reversible', 'Club', 'C', 'Dopp', 'Regatta', '88', 'Getaway', 'HIGHER', '032', 'Giraffe', 'Trim', 'Color', 'Braided', 'Microterry', 'PillowStep', 'Slippers', 'Wonder', 'Button,', 'Expanders,', 'Extender', 'Totes', 'Footwear', '(', 'Overshoes', ')Sm', 'California', 'Toys', 'Gladiator', 'Adult-Ruby,', 'Pirate', '0070', '0072', '18k', '3-Stripes', '0126', 'Accented', '6.1', 'Heavyweight', 'Rabbit', 'Skins', 'Baby-boys', '3pk', 'M-65', 'Lee', 'Stain', 'Resistant', 'Twill', 'Hidden', 'Side-Elastic', 'Tremont', 'Kiltie', 'missing', 'Horse', 'Heath', 'Thigh-Highs', 'Hosiery', 'Bows', '#6255', 'T78141', 'T2E581', 'T5E231', '&quot;Ironman', 'Traditional&quot;', '100-Lap', '#T5E241', 'T5E511', '&quot;Ironman&quot;', 'ECCO', 'Seawalker', 'Jack', 'Rogers', 'Navajo', 'Hamptons', 'Kid/Big', 'Arizona', 'Milano', 'Boston', 'Arch', 'Giorgio', 'Brutini', '15063', 'SmartWool', 'Margarita', 'Moccasins', 'Starfish', 'Issue', 'Corps', 'Quick', 'Release', 'Belt,', 'Coquette', '5125', 'Shortsleeve', 'K84', '16130', 'Best', 'Badger', '7618', 'Windshirt', '215', 'COMFORTBLEND', 'Best?', 'Full-Zip', 'Best&#153;', 'Relax', 'Carolina', '29', 'Blend', 'Royal', '437ML', 'L-Sleeve', 'SpotShield', 'Bella', '+', 'Baby', 'Spaghetti', '3/4-Sleeve', 'Contrast', 'Raglan', '2X1', '9.5', 'Sweats&reg;', 'Pocketed', 'Beefy', 'T', 'BEEFY-T', 'ComfortSoft', 'Households', 'T-Shirt,', '(99/1),', 'COMFORTSOFT', 'HEAVYWEIGHT', '1x1', 'Cap-Sleeve', 'B1001', 'Pendant,', '16-18&quot;', 'Tingley', '1400', 'Pull-on', 'Overshoe', 'SCER020', '10mm', 'SCER024', 'Threader', 'Secret', 'Hug', 'Scoops', 'Halfpant', '#873', 'Tapestry', 'Bra,Black,40C', 'Pad', 'Bustier', 'Bra-llelujah', 'All-Hosiery', '013', 'Sakkas', '70&quot;', 'X', '28&quot;', 'Self-design', 'Pashmina', 'Shawl', 'Stole', 'Anita', 'Momentum', 'Birthstones', 'Loving', 'Family', \"Mother's\", 'Locket', 'Pile-Lined', 'Jambu', 'Velvet', 'Platform', 'Spasilk', 'Bodysuit', 'Sleeveless', '7-Pack', 'Wickers', 'Softsilk', 'Pearl', 'Sweats', '(50%', 'Cotton,', '50%', 'Polyester)', 'eBags', 'Pack-it-Flat', 'Kit', 'Toddler', 'Yoda', 'Wars', 'Princess', 'Leia', 'Weatherproof', 'Co.', '12mm', 'Bracelet,', '7.5&quot;', 'Teenee', 'Durango', \"Lil'\", 'Dusty', 'N', 'Chrome', 'Lizard', 'Halloween', 'Concepts', 'King', 'Teen', 'Titans', 'Robin', 'Franco', 'Sarto', 'Nolan', 'Fitness', 'Sock,White,', 'UnisexRunning', 'Rolltop', 'Mini-Crew', 'Wool/Thorlon', 'Lite', 'Micro-Mini', 'Low-Cut', 'Ankle-Cut', 'Lt', 'Combat', 'Overcalf', 'Thor-Lon', 'Hi-Knee', 'Snap-On', 'Tote.', '1904', 'Kids', 'T79081', '&quot;My', 'Bates', 'Inches', 'Lites', 'Comp', 'Bootie', '(Infant)', 'Enforcer', 'Ultralite', 'Oakley', 'Vault', 'BLACK', 'Wrap.', \"Woman's\", 'Scarf.', '9094', '9312', 'Diver&quot;', 'Rick', 'Steves', 'Wallet,', 'Natural', 'Devon', 'Jones', 'D650W', 'Noble', 'Captain', 'America', 'Shield', 'J.L.', 'Childress', 'Car', 'Seat', 'Duro-Med', '24', 'Handle', 'Horn', 'Disposable', 'Briefs', '30pk', '14', 'Natural,', 'FRYE', 'Belted', 'Harness', 'Mule', 'InCharacter', 'Witch', 'Revolver', 'Pulsar', 'Dan', 'Milwaukee', 'RoadPro', 'SEB-001BK', '17&quot;', '12&quot;', 'Leather-Like', 'Soft-Sided', 'Briefcase', 'Spa', 'Closure', '#3372', 'DS11', 'Fierce', 'Dansneaker', 'Everest', 'Tiny', 'Skull', '3/16', '11&quot;', 'Ultra-Lites', 'Tactical', 'Side', 'Knickers', '2-Pack', '2-6X', 'Riggs', 'Ripstop', 'RIGGS', 'WORKWEAR', 'Ranger', '30&quot;', 'Sportage', 'Barefoot', 'Dreamgirl', 'Shalimar', 'Charmeuse', 'Babydoll', 'Hanger', 'Chemise', 'padded', 'Candy', 'Starlet', 'Gangster', 'Doll', 'Logger', 'bda004', 'Plunge', 'Barely', 'There', 'Flex', 'Tarnish', '10,', '11,', '12,', 'NuBra', 'Nude', 'Glamorise', 'MagicLift', '#1005', 'Terrain', 'MuckBoots', 'Daily', '527', 'Sorel', 'Conquest', 'Paylak', 'TSLK3', 'Pin', 'Remover', 'Spring', 'Vans', 'Compartment', 'Layup', 'Pant,', 'Black/White,', 'Seduce-2000', 'WallyBags', 'Acorn', 'Accessory', '2028', 'Juliet', 'Duofold', 'Mid-Weight', 'Union', 'Bottom,Blue-Jean,X-Large', 'Proposal', 'Off', 'Argyle', 'Gypsylove', 'Seaside', 'Micro-Fiber', 'Hollywood', 'Makeup', 'Center', 'Dexter', 'Raquel', 'III', 'Bowling', 'Cold', 'Weather', 'Elita', 'Metropolis', 'Built', '(4553)', '12R', '569', 'Discs', 'Nipple', 'Covers', '410x', 'Tilley', 'Endurables', 'TH5', 'Hemp', 'Second', 'Sam', 'Edelman', 'Felicia', 'G.I.', 'Polypropylene', 'Balaclavas', 'Boutique', 'Vertical', 'Striped', 'Romper', 'Removable', 'Cape', '#1901', 'Ringo', 'Hole', 'Slvs', 'Bodystocking', 'Ace', 'Aerobics', 'Prissy', 'Spinnaker', 'AW81D-1AV', 'Ana-Digi', 'FE10-1A', 'GW1500A-1AV', 'G-Shock', 'Solar', 'Atomic', 'AW49HE-2AV', 'Dual', 'Time', 'DBC32-1A', 'F28W-1', 'W94HF-3AV', 'G100-1BV', 'AW81D-2AV', 'G2900F-1V', '625', 'At', 'Downforce', 'Premium-Premix', 'Timpa', 'Duet', '622', 'f1071', 'Mariner', 'Bikers-Step-Up', 'SKECHERS', 'Premium-Bright', 'Eyes', '(White', '5.5', 'W)', 'Tamarac', 'International', '7112MW-Cuffed', 'Bootie,All', 'Spice,9', 'Fluff', 'Scuffy', '8117', 'Eurelle', 'Dorm', 'Cody', 'Highlander', 'Shearling', 'Melissa', 'Doug', 'Chest', 'Never', 'Iron', '6351', 'NAVY', 'Dingo', 'Olivia', 'Slouch', 'Laredo', 'Haul', 'Diadora', 'Team', '(Navy,', '19-Inch', '11-Inch', '11-Inch)', '(Medium)', 'Australia', 'Ascot', 'Ninja', 'T5E931', '30-Lap', 'Black/Silver-Tone/Blue', 'T2H491', 'T2H341', 'T5E901', 'Gray/Black', 'T2H381', 'Easy-Reader', 'T2H351', 'T2H331', 'T5G891', '1440', 'T2H281', 'Read', 'Magic', 'Full-Figure', '#1000', 'Pilot', 'Adissage', 'Onitsuka', 'Tiger', 'Mexico', '66', 'Vandal', 'Bass', 'Margie', 'Hydraulic', 'Milla', 'Eye', 'Naya', 'Gazelle', 'T53151', 'Memory', 'Recall', 'Men', 'T77517', 'Atlantis', '100', 'T71912', 'Camouflage', 'T20461', 'T54281', 'Sleek&quot;', 'T47852', 'T77862', 'Compass', 'T78751', '&quot;Digital', 'Flames&quot;', 'T41711', '(03)-New', 'W15S46D', 'Rosary', 'Soil', 'From', 'Bethlehem', 'Cultured', 'SKX007K', \"Diver's\", 'SKX007K2', 'Ultrasoft', 'Baroque', 'Shape', 'Multifaceted', 'AB', 'Eternity', '18&quot;', 'scer033', '.925', '1.5', 'long', 'scer034', 'Swarovski&reg;', '0.8mm', 'Very', 'Free,', 'Necklaces', 'Bracelets', 'ZANheadgear', 'Urban', 'Balaclava', '(Camouflage)', 'stripes', 'White/Bright', 'X-Large', 'Tissot', 'T17151632', 'T-Sport', 'PRC200', '2-7', 'Gerber', 'Targhee', 'QT', 'Way', '(1103)', 'Scuffette', \"World's\", 'Softest', 'Campus', '14L', 'Bucket', 'Great', 'Golf', 'Chocorua', 'Gore-Tex', 'Haggar', 'Expandable', 'Tipping', 'Charles', 'River', 'Pack-N-Go', 'Windbreaker', 'scer053', 'scer055', 'Glass', 'Bead', 'SNP007', 'Coutura', 'Kinetic', 'cut', 'Ledge', 'ML574', '1/2&quot;', 'Bridle', 'w/', 'Mosquito', 'Netting', 'V-Leg', 'Cowhide', 'Quilt-Lined', 'Ellie', 'M-BROOK', '5&quot;', 'Heel', 'Mirage', 'Passcase', 'Backless', 'b800ls', 'RD4100', 'Perspective', 'ACORN', 'Bear', 'Straw', 'Ons-Natural', 'W36S36F', 'On-leopard', 'W36S36E', 'Uncle', 'Milty', 'Adirondack', 'Ii', 'LARGE', 'PURPLE', '5.11', '#41060', 'MW30170', '2.75&quot;', 'Different', 'Martens', '1460', '1919', 'mm', '1/4', 'cttw', 'Fringed', 'F(M)', 'UK', 'PVC', '15&quot;', 'Shine,', '2.5', 'Fluid', 'Ounce', 'Rose', 'Flair', 'Caribou', 'Goo', '(03)-Grey', 'Gildan', 'G182B', '(2', 'Poco', 'Carson', 'LSP10', 'Atlin', 'Apron', 'Pockets', 'TAGLESS', '0133', 'Wildflower', 'Cotton&reg;', 'Oz.', 'Warm', 'Fuzzy', 'Green,', 'Fuschia', 'HARRY', 'POTTER', 'collectable', 'WAND', 'Harry', 'Potter', 'Hermoine', \"Granger's\", 'Wand', \"Ollivander's\", 'LP79', 'R-Tek', 'Handkerchief', 'Umo', 'Lorenzo', 'Colortura', 'Pajama', 'Victorian', '4,5,6,7,8,9,10)', 'Hybrid', \"'Y'\", 'Maxpedition', 'Vulture-II', 'NuAngel', 'Extenders', '(Black,', 'Nude)', 'U.S.A.', '99299', 'Izod', 'Silk-Washed', 'Breaker', 'NapolineTM', 'Roman', 'RockTM', 'Design', 'STABILicers', 'Ranch', 'Music', 'Distance', '#6209', 'Surfwalker', 'Water', 'All-Purpose', '(Toddler)', '2135', 'Softwalk', 'Adora', 'Jupiter', 'Aura', 'Average', 'Trotters', 'Doris', \"Dumbledore's\", 'Ollivanders', 'Rochester', 'Tiedown,', 'Alternative', 'Tacks', 'Bars', 'Diablo', 'Cotton/Spandex', 'Shelf', 'Liz', '48?', 'extra-long', 'stirrup', 'leg/thigh', 'warmers', '-BLACK-1SIZ', 'Guardian', 'Gift', 'on', 'Ilusion', 'Low-rise', 'Boy', 'Versailles', 'Hi-cut', '2455', 'Merino/Silk', 'Storm', 'Le', 'Mystere', 'Dream', 'Tisha', \"Today's\", 'Extra', 'Dearfoams', 'DS626', 'Slipper,White,9', 'Scuff,Black,Large', '(US', '8-9', 'M)', 'Intrepid', 'Friendship', 'Curling', 'Firebird', 'Track', 'Maxback', 'Winder', 'Setting', 'Smart', 'Timer', 'Watchwinder', 'Scull', 'Sanuk', 'Beer', 'Cozy', 'Mat', 'Escalade', 'Touareg', 'Traveltime', 'Fully', '#5100532', '#5100565', '#5107565', 'Umbrella', 'Stroller', 'Klondike', 'Closed', 'colors', 'GI', 'Type,', 'Elila', 'full', 'coverage', 'jacquard', 'embroidered', 'Howland', 'Penny', 'Chief', 'F.D.U.S.A.', 'Rain', 'Fire', 'Only', 'Butterfly', 'TSA9005', 'Repair', 'Tool', 'Remover,', 'Sizing', 'Tool,', 'Storage', 'Cashmere', '(Salmon)', 'Toddlers', 'Loaf', 'B(M)', 'US', 'Orbit', \"Viper'\", 'water-resistant', 'soccer', 'warm-up', 'pants', 'HANES', 'Ride', 'Waistband', 'Pairs', '7820P5B', 'Butterscotch,', '42D', 'Filigree', 'Circle', '10110', 'LINCOLN', 'USMC', 'STAIN', 'WAX', 'SHOE', 'POLISH', 'NET', 'WT.', '1/8', 'OZS.', '(60', 'GRAMS)', 'FLUID', 'Bandana', 'Ski', 'Rescue', 'Insulated', 'Ammo', 'Engagement', 'K', 'Alexander', 'Fingerless', 'Glove-Black', '777', 'i', 'play.', 'Diaper', 'Micro', 'G-String', 'Warmers', 'Traffic', 'Portsmouth', 'M801', 'Valmont', '23057', 'ELEGANT', 'MOMENT', 'L9172', 'choker', 'No-pocket', 'Chaco', 'Z/1', 'Unaweep', 'Seoul', 'Laptop', 'Protection', 'SKX781K3', 'Monster', 'rubber', 'strap', 'TT', '8928', 'Escante', '21877', 'TuffRider', 'Schoolers', 'DS19', 'Fray', 'H07', 'footUndeez', 'Lyrical/Modern', 'SCER086', 'Freshwater', 'Rolo', '2.3mm', 'sizes', '6pk', 'Canoe', 'Cruz', 'Sahara', 'Honey', 'Bluefish', 'Disposable-', 'Anti-Skid', 'Large-', 'pcs', 'Anti', 'Lab', 'Safety', 'PPSB', 'pieces', 'size', 'XL', 'Ct.', 'Ursula', 'Corset', '2-Piece', 'Ginger', 'SKX781', '&quot;Orange', 'Flying', 'Fisherman', 'Viper', 'Polarized', '9884', 'Profile', 'Death', 'Spade', 'Baseball', 'Scarlet', 'Wedge', 'EW0620-52E', 'AT0200-05E', 'Canvass', 'BL8000-03A', 'BL5250-02L', 'BM8240-03E', '&quot;Eco-Drive&quot;', 'BM8180-03E', 'BN0000-04H', 'BM8242-08E', 'BJ8050-08E', 'Flapper', 'Opener', 'Wooden', 'Singapore', '11', 'Clasp', '1.5mm', 'Figaro', 'Breakthrough', 'Wolf', '380XSRR1', \"Kid's\", 'Luxury', 'Lining', 'Pants,', 'Army', '(Polyester/Cotton', 'Twill)', 'Bravery', 'Misplaced', 'Dragon', 'TEENS', 'ADULTS', 'Shirt,Black,XL', 'Teva', 'Olowahu', 'Laced', '299', 'Back-Zip', 'Sara', '#1-01-011', '1-1/8oz', 'Paste', 'Klogs', 'Sherpa', 'Northfield', 'Encounter', 'M7100', 'Margin', 'Slingback', 'Sandal-Unisex', 'Sunglasses-Air', 'Type', 'Frame', 'Acrylic', 'Lens', 'w/Case', '-Rothco', '10455', 'Cabo', 'Maverick', 'Savane', 'Deep-Dye', 'Gizeh', 'Birko-Flor', 'Porcelain', '3376', 'Paris', 'Juliana', '45', 'Aerosoles', 'Give', 'Blitz', 'Gem', 'Kenneth', 'REACTION', 'Luminox', '3001', 'SEAL', 'Six', 'Concentrate', '(8', 'Oz)', 'Shangri-La', 'Bandeau', 'GUESS', 'G12557L', 'Status-In-The-Round', 'Sling', 'S/S', 'Oval', 'Ticket', 'Gossamer', 'very', 'tiny', 'Nose', '(1/32', 'inch)', 'Key', 'Toysmith', 'Fireman', 'Play', 'ADULT', 'Vinyl', 'TOPS', 'For', 'Costumes,', 'Renaissance', 'More!', 'Carriage', 'C6A301', 'Midnight', 'Bike', 'Romy', '3-Stone', 'Moonstone', 'Juletta', 'Wideshaft', 'Riding', 'Carnival', 'a3', 'OutRunning', 'Vasque', 'Sundowner', 'GTX', 'Kylie', 'Zurich', '-7460P4', 'Everyday', '(EDS)', 'V-neck', 'RB2132', 'Wayfarer', 'RB4075', '853202', 'Jr', 'Flare', 'ShedRain', 'Windpro', 'Flatwear', 'Vented', 'Auto', 'Nine', 'Nuncio', 'Pump,Navy,7.5', 'Sleepwear', 'Pacsafe', 'Coversafe', '75', 'Slashproof', 'DC', 'Heroes', 'Child?s', 'Clone', 'Trooper', 'Batgirl', 'Woman', 'Supergirl', 'Batman', 'Gray,', 'Yellow.', 'Modal', 'Trunk', 'Forced', 'Entry', \"6''\", 'EMS', 'SWAT', 'Police', 'Tess', 'Washable', 'Slipper,Pink,6', 'SE', 'Replacement', 'Stitch', 'MIA', 'Uptown', 'Girl', 'Elegant', 'Moments', 'Dome', 'Thumb', 'Family&reg;', 'Live', '#3353', 'Grey/Black', 'T45171', 'Analog-Digital', 'T45181', 'T7B211', 'IronKids', 'Newsboy', 'Cap-Black', '7)', 'Aeromax', 'Cap,', '6/8', 'Treasure', 'Gourmet', 'Calcutta', 'Steelhead', 'Enzyme', 'Caps-Navy', 'W35S45D', 'Frayed', 'Caps-Denim', 'W35S44D', 'Sandy', 'Viking', 'Helmet', 'Wolverine', 'W08288', 'Meg', 'Denise', 'Fulton', '96R19', 'Stride', 'Rite', 'Angler', 'Austin', 'H&amp;L', 'Silver,', 'Gold,', 'Most', 'other', 'Metals,', '12&quot;x15&quot;', 'Largest', 'Altin', 'BOA', 'FEATHER', 'ANGEL', 'WINGS', '44', 'Magnum', 'Tight-End', 'Phantoms', 'City', 'Poncho', 'Blank', 'Oversized', 'Satin-Finish', 'Engraved', 'Locket,', 'Phiten', 'Necklace,', '26&quot;', 'Mundi', 'Suburban', 'Rio', 'G9000-1V', 'Mudman', 'Stacy', 'Adams', 'Madison', 'Pathfinder', 'Triple', 'Sensor', 'Altimeter/Barometer/Digital', '#PAG40-3V', 'PAG80-1V', 'Altimeter/Barometer/', 'G300-3AV', 'Street', 'Rider', 'Class', 'T101', 'Patent', 'Flexible', 'Tap', '(Little', 'Volatile', 'Sneaker,White/Pink,10', 'Fatigues,', 'Leighton', 'Executive', 'Lucky', 'Brand', 'Amazon', 'Exclusive', 'Sweet', 'Charlotte', 'Matching', '#888Q', '-1PK', 'Hello', 'Kitty', \"Junior's\", 'Comfy', \"N'\", '97B13', 'Tortoise', '3449', 'Corduba', '2-Tone', '3044', 'Grand', '3045', '&quot;Pro-Diver', 'Swiss', '8937', 'Crocs', 'Beach', 'Deer', 'Stags', 'Times', 'Footie,', 'Slipon', 'Gauze', 'Skirt', 'Crotch', 'Boyshorts', 'Coiled', 'Wirework', 'Pair', 'B136', 'B73', 'R01', 'Picnic', 'Turismo', 'Cooler', 'Trinity', '3,4,5,6,7,8,9,10,11,12,13,14,15)', 'Neil', 'Allyn', 'Poly/Cotton', 'Laydown', 'Pleat', 'Wing', '(Infant/Toddler/Little', 'Indexer', 'Defea', 'Icon', '3-Eye', 'Lug', 'Chukka', 'Nunn', 'Bush', 'Cameron', 'Clovehitch', 'Ealene', 'Bootie,Black', 'Leather,7', 'Spire', 'Downshifter', 'SNK803', '&quot;Seiko', 'S.W.A.T.', 'Metro', '9&quot;', 'Arctic-quilt', 'V01', 'Friend', 'S1780', '90/10', 'Max', 'P2170', 'Dri', 'Lasticity', 'Cinch', 'Worm', 'Stacked', 'Gather', 'A178WA-1A', 'Illuminator', 'AW80D-7A', 'Databank', 'AW80V-1BV', 'EF106SG-2AV', '&quot;Edifice&quot;', 'F91W', 'MTP3036A-2AV', 'W89HB-5AV', 'W93H-1AV', 'Multifunction', 'MQ24-1B3', 'MQ24-1E', 'A158W-1', 'AQ160WD-1BV', 'Electro-Luminescent', 'AW80D-1AVCB', 'DW5600E-1V', 'DW6900-1V', '&quot;G-Shock', 'Classic&quot;', 'DW9052-1V', 'EFA120D-1AV', 'Edifice', 'Thermometer', 'FT500WV-5BV', 'Forester', 'LTP1165A-1C', 'LTP1254D-1A', 'MQ24-7B3', '#W96H-1AV', 'MQ24-1B2', 'MQ24-7B', 'A168W-1', 'Electro', 'Luminescence', 'AQ150W-1EV', 'AW80-7AV', 'AW80D-2AV', 'AW80V-3BV', '10-Year-Battery', 'AW80V-5BV', 'EF305-1AV', 'LA670WA-1', 'LQ139A-1B3', 'LQ139B-1B', 'LQ139E-1A', 'LQ139E-9A', 'MQ24-7B2', 'AMW320D-9EV', 'AMW320R-1EV', 'AQF100WD-9BV', 'AW80-1AV', 'CA53W', 'Calculator', 'DW290-1V', 'Shock', 'EF106D-2AV', 'EFA119BK-1AV', '&quot;Ana-Digi', 'Edifice&quot;', 'LA11WB-1', 'LQ139A-9B3', 'W59-1V', 'MQ24-9B3', 'Hard', 'Tail', 'Down', 'Bootleg', 'Brian', 'Gabe', 'Arcopedico', '3-Punisher', 'BM6060-57F', '180', 'WR100', 'Seduce-3010', 'Whimsy', 'Barbados', 'Magicleg', 'Lightweight', 'Tagless', 'Montrail', 'Molokini', 'Molokai', 'K-Cliffs', '17', 'Polyester', 'Bookbag', 'Reflective', 'Strip', 'Whisker', 'Renegade', 'BT568', 'Ellingwood', 'Evander', 'B151', 'Loose-Fit', 'B159', 'Coat,', 'Textured', '#8888', '8537', 'SHEMAGH', 'TACTICAL', 'SCARF', 'Net', '#9003', 'Fence', '#9201', 'Sexy', 'Rex', 'Chinchilla', 'Muffs', 'Robeez', 'Cape,', 'Mask', 'Pre-Shrunk.', 'Adult-Cutthroat', '50N/50C', 'ACU', 'RB3183', '63', 'Pant,Stone,42x32', 'Wenger', '72900', '514', 'Jean,', 'Collar,', '36X29', 'Invisible', 'Look', '4104', 'Bust', 'Lingerie', '(S-L)', 'Strce', 'Xx', 'Nosleeve', 'Surgical', 'Band,', 'Display', 'Holds', '20', 'Watches', 'Caddy', 'Bay', 'Cleaning', '574', 'SN030DC', 'Maui', 'Jim', 'Stingray', 'Jedi', 'Knight', 'Channel', '3,4,5,6,7,8,9,10', 'MUNDI', 'Fat', '8935', 'SS', '8939', '8942', '8938', 'Lefty', '3330', 'Vietnam', 'Era', 'Wind-Up', 'Wrist', '9177', '9204', '9110', 'Sloggers', 'Insole', 'Insole,', 'Geisha', \"Wo's\", '260GB09', '4471GY', 'Wind', 'Lanyard', 'Rated', 'UPF', '50+', 'Maximum', 'Augusta', 'Moisture', 'Wicking', '5.8', 'Deep', 'Scary', 'Skeleton', 'HOBO', 'Lauren', 'Detail', 'Ocean', 'Bunch', 'Patroller', 'Fortress', 'Bikers', 'Jams', 'Unlimited', 'Allen', 'Edmonds', 'Park', 'Cap-Toe', '(965)', 'Cop', 'Cutthroat', 'Parade', '(Cotton)', 'Punchual', 'Eastland', 'Havaianas', 'Brasil', '(More', \"Rubie's\", 'Glamour', 'Wig', 'T5J131', 'T5H091', 'T5H591', 'T5J151', 'Black/Pink', 'Slot', '36', 'Lock-', 'Cbc36', 'Iridescent', 'Tale', 'Presidio', 'Sierra', 'Swerve', 'Access', 'Loop', 'Drop', 'Beads', '60&quot;', 'Storytime', 'Wishes', 'Cottage', 'Mobster', 'Spats', 'Justice', 'League', 'Flash', 'Speed', 'Jungle,', 'Breathable', 'Cedar', '2015-Cubic', '(Zebra,', 'Black)', 'line', 'bridal', 'petticoat', 'crinoline', 'wedding', 'slip', '(CH106DS)', 'Curvalicious', 'Twisted', 'Serpentine', '1.1mm', 'Tiger/Zebra/Leopard', 'Safari', 'Tip', 'Toes,', 'Endless', 'cartilage,', 'lips,', '3/8', 'round', 'FP052.001000', 'Heavenly', 'Heelz', 'Sarasota', 'totes', 'Journeyman', 'Safaris', 'Pins', 'Florida', '15904', \"Mn's\", 'sz', '261BK10', 'Wrench,', '15064', '80575', 'Fiebings', 'Dye', '8-15', 'Large,', 'Color:', 'Bela', '4170', 'Belt/', 'Color/', 'Gothic', 'Blousing', 'Garters', 'El', 'Naturalista', 'N096', 'Liners', 'Moulded', 'A-Shirt', 'P5', '5-Pack', 'Camo/Khaki', 'Thermal-Lined', 'J149', \"Boy's\", 'Transparent', 'Edition', 'Gaberdine', 'Bold', 'Curve', 'ID', 'Historic', 'Metallic', 'Tapered,', 'Teaberry,', '524', 'Tungsten', 'Carbide', 'Domed', 'Him', 'Her', 'Finish,', '15', 'GX-8', 'Bloch', 'Boost', 'Sim-Plicity', 'Seduce-3000', 'Aquatic', 'Conservative', 'Ultraback', 'A.', 'Byer', 'Tropical', 'Cambridge', 'Amour-03', 'Comics', 'Trio', 'Superhero', 'Foamtreads', 'Jewel', 'Ralph', 'T-Shirts-3', 'Funtasma', 'Gogo-50', 'Grid', 'Omni', 'Freeform', '#2142', 'Cushions', 'Plaid', '(MWCST)', 'Pacific', 'Legend', \"It's\", 'You', 'Babe', 'Cradle,', '(181-225', 'Pounds)', 'Wash,', '44x30', 'Sunblast,', '34x32', 'Polar', '(Men', 'Womens)', 'Millennium', 'Spherical', 'Contemporary', 'Cube', 'Soft-Fit', 'Rolled-Cuff', 'Thorogood', 'Non-Safety', '271SSLB', 'Kittens', 'Sensitive', 'Sunset', '406-Doll', 'ALEX&reg;', 'Bathtime', 'Fun', 'Flutes', '4005', 'Foldable', 'Screen', 'holds', '144', 'pairs', 'earrings', '7-drawer', 'Drawers', 'Hagerty', '12-by-15-inch', 'Cloth,', 'Balance&reg;', 'Bubble', 'Fe', 'Ridge', 'C61', 'Outfit', 'Suspenders,', 'Bowtie', 'Israeli', 'Medic', 'SMARTWOOL', 'Heathered', 'TAUPE', 'Wizard', 'Oz', 'Dorothy', 'Wig,', 'Gum', 'Bodyshaping', 'Elise', 'Magnetic', '3553', 'Chemise,', 'Ensign', 'Shaving', 'Slinky', 'Tube', 'Intimate', 'Out', 'Dyed', \"Boys'\", 'TB74AS', 'UNDER', 'ARMOUR', 'Duffle,Royal,10.5&quot;', 'Lucite', 'Window', 'Crochet', 'ToeSox', 'Grip', 'Yoga/Pilates', '#6242', 'Weight', 'Brawny', 'D2', 'Commando', 'Veronica', 'GasCan', '233XSRR', 'Mother', 'Copper', 'Fox', 'Four', 'Purple', 'Mitten', 'Aluminum', 'Tech', 'Coloratura', '#30807', 'Beltiscool', 'Tasman', 'Injinji', '2012', 'Elegance', 'P570CA', 'Bone', 'Bridal', '(CH130DS)', 'Bearpaw', '10&quot;', '405', 'Cushions-Black', 'Iris-3', 'pair', 'Panty-', 'Jessica', 'Simpson', 'Leve', '15507', '7-Ounce', 'Cleaner,', 'NFL', 'Worker', \"Juniors'\", 'Bull', 'Pant-School', 'Panty-Assorted', 'Sold', 'Rip', 'Stop', 'Fatigue', 'Polarmax', 'Sunday', 'Afternoons', 'Sea', 'Bamboo', 'Coral', 'Chip', 'Onyx', 'Turquoise', 'CTW', 'Carat', 'Emerald', 'simulated', 'cz', 'Lapis', 'Amethyst', 'Vampire', 'Russet', 'Rebel', '10000860', 'Sof', \"Potter's\", 'Glasses', 'Smoothy', 'Adventure', '8R', 'Front-Close', '#4695B', 'UltraSofts', 'Medela', '#36-98', '(1/3', 'cttw,', 'K-L', 'Color,', 'I3', 'Clarity)', 'Kinvara', 'NeckTie', 'Holly', 'Stephen', 'Joseph', 'Go', 'Acu', 'Coin', '8926OB', '8928C', \"G.G.WO'S\", 'FOOTY', 'PJ', 'Mush', 'Flop,Shirley', 'Wedgewood,5', \"Ryan's\", 'Room', 'Decked', 'Tecnica', '144/6', '978', 'Birkibuc', 'width', 'Soft-Footbed', '052871', 'Alpaca', 'Dark', 'Hipster', ',', 'Storybook', 'Cinderella', 'Diabetic', 'Extra-Roomy', 'Armitron', '753447BKSV', 'NOW', '75-2447BLK', '&quot;NOW&quot;', 'Diamond-Accented', '753248BKBK', 'Caps', 'fits', 'most', 'Head', 'Wraps-', 'W12S15F', 'Optical', 'Eyewear', '55mm', 'Bayonet', 'Temples', 'Trousers', 'Kola', 'Fur', 'WORK', 'CREW', 'Black/Grey,', '6-12', 'Over-The-Calf', 'G&amp;G', 'Mirrored', 'Special', 'Hinges', 'Plainview', 'VANS', 'AUTHENTIC', 'SKATE', 'SHOES', '22803', 'Tapered', 'Moab', 'Ventilator', '#1006', 'LEGO', '4250341', '&quot;Creator&quot;', 'Buildable', 'Single-Layer', '187', 'Non-Control', 'Shaped', 'Antique-Finish', 'Triple-Stone', 'Ring,size', '5701', '1325', 'Leotard', 'SCER120', 'Enchanting', 'Superfeet', 'Hush', 'Puppies', 'Gil', '2-6x', 'Hiding', 'Gaff', 'Crossdressing', '31&quot;', 'Handled', 'MADE', 'IN', 'THE', '31', 'Thunderlight', 'Construction', '(Design', 'may', 'vary)', 'CLASSIC', 'SLIP-ON', 'Vagabond', 'Capetown', 'Old', '441169', 'Scuff', '32737', 'Insoles', 'Coconut', 'MKCST', '19&quot;', '19', 'Khaki,', '34x34', '16X12mm', 'Agate', 'Cameo', 'w/18&quot;', 'Ros', 'Hommerson', 'Cathy', 'SVCK4032G', 'Byzantine', 'Berry', 'Multisport', 'Outback', 'Trading', 'Oilskin', 'Duster', 'Round,', '(1/2', 'J-K', 'I2-I3', 'Brushed', 'Twill,', 'SCER123', '13mm', 'Majestic', 'Blown', 'Recon', 'SeXy', 'Nightgown', 'Silicone', 'Reusable.', 'Valentine', 'T17158652', 'PRC', '200', 'CW-X', 'Expert', 'Drover', 'Garterbelt', 'pack', 'cushion', 'crew', '(Shoe', '6-12)', 'Brocade', 'RB2140', 'Marbea', '57mm', 'GO2BRAS', 'Marilyn', '1474142', 'Rosa', 'Faia', 'Twin', 'Extreme', 'Three-Quarter-Sleeve', 'Blouse', 'Athenian', 'Sassy', 'Panties,', 'Three', 'Wireless', 'Skid/Slip', 'Women', 'Apex', 'Cords', 'crocs', '10003', 'Relief', 'Sleeved', 'Crested', 'SNK805', 'XL-Rich', 'Unique', 'Shoekeeper', 'Stretcher', 'Spray', '(ACU)', 'Label', 'Fits-Over', 'Polycarbonate', 'SOLAR', 'SHIELD', 'AMBER', 'POLYCARBONATE', 'LENSES-29008AMBER', 'Lulianna', 'Smoke', 'Barnett', 'Piel', 'Travelers', 'Cut,', 'Tilt', '2247P', 'Tidal', 'WONDER', 'BALSAM', 'Dolly-50', 'Twist', 'Official', '*Intimates', 'Mademoiselle', 'Socks,Hosiery', 'BG85', 'Gym', '29&quot;', 'Blackhawk', 'Warrior', 'Ops', 'Hatch', 'WG1000S', '(White)', 'Forest,', 'Embassy', 'Shopping/Travel', 'SILVER', 'harp', 'RACK', 'stand', 'HOLDER', 'Bobster', 'Bugeye', 'Goggles,Black', 'Frame/Smoked', 'Lens,one', 'Godinger', 'SHANNON', 'RING', 'M-51', 'Engineers', '65P/35C', 'Wonderbra', 'Push-Up', '#7644', 'Dragonfly', '(1.2&quot;', 'Pave', 'TSA9007', 'Changing,', 'Opening,', 'Right', 'Naot', 'Kayla', 'Daytona', 'Plaza', 'Kamik', 'Stomp', 'Harp', 'Table', 'Marvel', 'Punisher', 'Sweat', 'Baseline', '4pk', 'Ringer', '10-6927SVSV', '10-7604CHRM', 'Charm', '1010R', '10-6419SVTT', 'DuraSole', 'Arroyo', 'Counter', 'Ray', 'Ban', 'RB3044', 'RB3026', '62', 'AVIATOR', 'Gold/Grey', '62mm', 'Diabetes', 'Circulatory', 'Ableware', '738242000', '&quot;T&quot;', 'Ruby', 'RB3136', 'Caravan', 'UB', 'Pouches', 'Makaha', 'Palm', '#3036', 'Poke', 'Body,', '36D', 'Tummy', 'Panel', 'Pk', 'X710', '#2144', 'Cool', 'Expandable-Waist', 'Plain-Front', 'Softspots', 'Tatianna', '7302302', 'Nathan', 'HPL', '020', 'Ultramarne', 'Blu,', \"Warner's\", 'Plushline', '#2009', 'Tubtune', 'Symphony', '4125', 'Naughty', 'Maxam', 'Barrel', 'WOODLAND', 'DIGITAL', 'LONG', 'SLEEVE', '4540', 'Arriva', 'Travel-Tec', 'Legwear', 'Technology', 'Be', 'Mine', 'OGIO', 'Crunch', '18600', 'Swtshrt', 'Galleria', 'Open/close', 'Super-mini', 'Monet', 'Lilies', 'Super-Mini', 'Stacking', 'All-Around', 'Bands', 'Peda', 'Toppers', 'Three-Stone', '(3.83', 'cttw)', 'Wishbone', 'Haflinger', 'AT', 'Turtle', 'Multi-Gemstone', 'Round-Cut', '7.25&quot;', 'T5J561', 'Love', 'Grandmother', 'Forever', 'Expressively', '380XSGS1', '60s', 'Yucatan', 'Interstate', '(X-Large)', 'adilette', 'Hunter', 'Welly', 'Fake', 'Moustaches', 'Shapes', 'Sizes!', 'Mustache', 'Unitard', 'Corp', 'Global', 'Vision', 'Outfitter', 'Motorcycle', '(Black', 'Frame/Smoke', 'Lens)', 'Humvee', 'XX', 'DR200', 'SNB', '513', 'Slim-Straight', 'System', '(600GBB)', 'Faux', 'Teddy', 'Criss', 'Maxam&reg;Italian', 'MosaicTM', 'Lambskin', 'Backpack/Purse', '2200', '471', 'Loki', '(8,', 'Chestnut)', 'BDES004', '0.6&quot;', 'Diameter', 'Divas', 'Grommet', 'Holes', 'Cloche', 'Cowl', 'Clamshell', 'McKlein', 'Winnetka', '15.4&quot;', 'Breathe', 'BraletteLarge/36,', 'XLJ', 'Iridium', 'Sunglasses,Rootbeer', 'Frame/Gold', 'Fisher-Price', 'Little', 'Superstar', 'Sing-Along', 'Stage', 'NYDJ', 'Five-Pocket', 'Bootcut', 'Petite', 'Sarah', '8053', 'DMM', 'Peace,', 'Hope,', 'Serenity', 'Live,', 'Love,', 'Laugh', 'Friend,', 'Item', 'Name', 'suspender', 'body', 'stocking', 'Dream,', 'Believe,', 'Achieve', 'Sister', 'XPY', 'Created', 'Devil', 'Accent,', 'Hortense', 'B.', 'Hewitt', 'Accessories', 'Set,', '10k', '(0.1', 'I-J', 'Clarity),', 'Wildkin', 'Sidekick', 'Headsweats', 'Race', 'Running/Outdoor', 'Waldorf', '1-1/2&quot;', 'BUTTERFLY', 'Wings', 'Box-Colors', 'vary', 'U-Turn', '1/4&quot;', 'TURTLE', 'shaped', 'Ladybug', 'LP710', '7-Stone', '(1/4', 'H-I', 'Siren', 'Agave', 'G.I', 'Sheriff', 'w/Star', 'Gabardine', 'Pak', 'Multi-Purpose', '(12x16x4)', 'TC', 'Fine', 'Converter', 'Necklaces,', 'small', '07-234', 'Road', 'Finger', 'Stretchy', \"Nature's\", 'Alchemy', 'Diffuser', 'SKX009K2', '9307', 'Comfortsoft', 'Stylish', 'Celebrity', 'Inspired', 'Tasmina', '2-pk', '(20', '203', 'Torselette', 'Young', 'Sized', 'Piers', 'Part', '8-19mm', 'Snaps', 'Radar', 'Path', 'Snappy', 'Movement', 'Pillow', 'Step', 'Powerback', 'Micromesh', 'Alligator', 'Embossed', 'Bible', 'InterDesign', 'Pebblz', 'Sink', 'Mat,', 'Graphite', 'Jello', 'Bison', '38mm', 'Last', 'Chance', 'Donny', 'B', 'Sidewalk', 'Surfer', 'McGonagall', 'Sinclair', 'Bubba', '(Charcoal,', 'Chipotle)', 'School-Uniform', 'Jumpsuit', 'T5K020', 'Sorting', 'Brim', 'iPlay', 'Just', 'Born', 'Sunhat', 'Bonded', 'Buckles', 'Dennison', 'Darn', 'Tough', 'Vermont', 'MENS/WOMENS', 'BELT', 'FOR', 'BUCKLES', 'BROWN', 'TO', '44&quot;', 'Snakeskin', 'Granddaughter', 'Pear', 'Dede', 'Cabernet', 'Tee,', 'Five-Pack', 'Four-Pack', 'Extended', 'Circus', 'Ali', 'Klipper', '180/10', 'TETON', 'Vb', 'Mama', 'Mid-Thigh', '163', 'Olympia', 'SCER155', '1.5&quot;', 'SCER154', 'Relios', 'Parents', 'Children', 'Mizpah', 'Medal', 'Chains,', 'Donna', 'Fraidy', 'Basics', 'Self-Adjusting', 'D1', 'JMS', '40D', '1220', 'Attitude', 'Peek', 'Concealer', '1973', 'Bites', 'Fangs', 'Planetcostume', 'Walletsafe', '4,5,6,7,8,9,10,11,12)', '4,5,6,7,8,9,10,11,12,13,14,15)', 'Carly', 'Akoya', '(6.5-7', 'mm)', 'Feel', 'Beautiful', 'Bare', 'NAPLES', 'ERA', 'Bocca', 'Babywear', 'MOM', 'Infinity', 'Frappacino', '(Pack', '4)', 'Multi-Color', 'Tartan', 'P4', '745P4', '1928', 'Crescent', 'Chandelier', '2.12&quot;', 'Lilac', 'Colored', 'Noir', 'Mini-Chandelier', 'Bill', 'Hat-Olive', 'W15S48B', 'Hat-KHAKI', \"80's\", 'Two-Way', 'FootFitter', 'Horns', 'Stretcher,', 'Trendy', 'Fitted', 'Cap-', 'W32S36D', 'Murietta', 'Mink', 'Polish,', '2-5/8', 'Nautica', 'N14536', 'NST', 'N14538G', 'Envy', 'SCER178', '10-5404CHGB', 'Blossom', '10-7977MPTT', 'Puffed', 'Drops', 'Summer', 'Dorfman', 'ATAC', 'Packing', 'Cube-', 'Solarweave', 'SPF', '4193356', '&quot;Soccer&quot;', 'Minifigure', 'Vegas', 'Signs', 'Shopper', 'Maid', 'Evil', 'Smiley', 'Face,', 'Trumpette', '#72157', 'Rayon', '2055S', 'Curley', 'Cue', 'Darren', 'Painters', 'Mysterious', 'Dazzling', '4,', 'Privo', 'Oso', 'Flat,Black,6.5', '23mm', 'Cute', 'Ivy', 'Leaf', 'Maker', '386', 'Marquise', 'ICM', 'Tea', 'Crinoline', 'Petticoat', 'Sz', 'Punter', 'Progrid', 'Medley', 'LWRS043', 'SilverIrish', 'Claddagh', 'Cell', 'Phone', 'B144', 'EmbassyTM', 'StoneTM', 'Personal', 'Ravenclaw', 'SI', 'Assault', 'LWPS001', '25mm', 'Triquetra', 'DS24', 'Rockit', 'Z/2', 'Yampa', 'Traveler', 'Piece', 'Carry-On', 'Twinkle', 'Hollow', 'LWES005', 'Wavy', 'hook', 'Halter', 'Arrival', 'ECWCS', 'Gaiters', 'Babysoy', 'Kimono', 'Racerback', '#F2564', 'SCER185', 'Assembled', 'Abalone', 'Squeem', '&quot;Perfect', 'Waist&quot;', 'Shapewear,', 'Miracle', 'Rubber,', 'Year', 'Proforce', 'Shemagh', '8770', 'Meredith', 'Bolle', 'Anaconda', 'Frame,', 'Axis', '10335', 'Jumping', 'Jacks', 'Cheerleader', 'Saddle', 'PUMA', 'GV', 'Kinsman', 'Isolation', 'Algonquin', '4338', 'Russian', '4342', 'Fullness', 'Shop', 'Dresses,', 'GOLD', 'Tux', 'Professional-Style', 'Valet', 'Powderbug', 'Winter', 'Snowflake', 'CR2016', 'Battery,', '25', 'batteries', 'total', 'Spanner', 'Rosewood', 'Stained', 'Jewelery', 'Boxes', 'Displays', '3.25&quot;', 'Detailed', '3,4,5,6,7,8,9,10)', 'Flocked', 'Neverending', 'Pinky', '3,4,5,6,7,8,9,10,11,12,13,14,15,16)', 'Zcargel', 'Reusable', 'Breast', 'Pads', 'Life', 'Art', 'Symbol', 'Gogo-300', 'Athens', 'SHAWL-PASHMINA', '(LARGE)', 'from', 'Group-', '56', 'vibrant', 'RLX1000', 'NY', 'JBMCM33', '14mm', 'Clad', 'an', 'Interesting', '6.5&quot;', '3-seam', 'Chemo', 'Turban', 'Cooper', 'Creston', 'Shapers', 'Matai', 'JP', 'Leatherworks', 'Sailor', 'Gob', 'T2H371', 'T2H391', 'T2H501', 'Xtra-Expansion', 'T27191', 'Betsey', 'Johnson', 'Eyelet', 'Section', '&quot;Shoe&quot;', 'PearlsOnly', '9.0-9.5mm', 'AA', 'Gate', 'Seats', 'Hi-Tec', 'Altitude', 'IV', 'Scarecrow', 'SMALL', 'Realistic', 'Crunk', 'Kanaha', 'La', 'Carte', 'Med', 'Sets', '1&quot;,', '2&quot;', 'Pcs', '~', '(FB212)', 'Missy', '18M', '(FB210)', 'SKP333', '5-10', '(6-Pack)', '925.', 'Flaming', 'Michael', 'Kors', 'MK5038', 'Ritz', '510', 'Chalk,', '36x34', 'Perfect', 'Flat-Front', 'Snowlion', 'Cheyanne', 'NM1404', 'Boot,Bruno,10.5', 'Cancer', 'Awareness', 'SNF672', 'GASC', 'Restores', 'Viscose', '28&quot;x78&quot;-42', 'Vibrants', 'Clearance', 'Collections', '6-pack', '(sz', '6-12)Black', 'sock', 'show', 'socks,', 'low', 'cut,', 'Crew,', 'Ankle,', 'Cheerleading', 'Trunks', 'crew,', '12-14', 'Show,', 'Baffin', 'Cush', 'Packers', 'TSA', '3982', 'Superior', 'Accent', 'Marcasite', 'Medallion,', 'Oxidized', '#2111349', 'Backs', '(Earnuts)', 'Clutches', '(20)', 'Flexibles', 'Generic', 'CD-3800', 'Ultrasonic', 'Jewelry,', 'Eyeglass,', 'Dentures', 'Fluffie', 'T26481', '&quot;Elevated', 'Classics&quot;', 'T78677', '&quot;Classics&quot;', 'Rockland', '22', 'Dots', 'Skate', 'Wheels', 'SGG711', 'T41181', 'Trees', 'Sir', 'James', 'Teacher', 'Wisdom', 'Inspire', 'T41091', 'TimerWatch', 'T40301', 'Lot', 'Jeweled', 'Navel', '14g', '7/16&quot;', 'Kidorable', 'Dinosaur', '6pack', 'T49261', 'T5G841', 'Silver-Tone/Black', 'T5G881', 'T5J571', 'T42351', 'T44921', 'Black/Brown', 'T49271', 'SHOCK', 'T5K007', 'Plum/Gray', 'T42571', 'T42591', 'Silver/Blue/Black', 'T79051', 'First&quot;', 'C1RCA', 'Lopez', '50', 'D-Ring', '85567', 'Highest', 'Slick', 'Ankle-Strap', 'Motherhood', 'Double-Strap', 'Sueded', 'Sections', 'Maria', 'Mele', '0054522M', 'Hottie', 'Stiletto', 'GGI', '16-piece', 'WTK-16', \"Men's/Women's\", 'Scout', '60', 'Over-the-Calf', 'Tetra', 'Launch', 'Hooks', '(50)', 'Pittsburgh', 'Steelers', 'Villain', 'Cocoons', 'Fitovers', 'Stream', '(SM)', 'Court', 'Graffik', 'Matrix-Knit', 'Bogs', 'Tillamook', 'Break', 'San', 'Francisco', '49ers', 'Spotlight', 'Seattle', 'Seahawks', '(0.05', 'Lizza', 'SADDLE-50', 'Desires', 'Baring', 'Chopper', 'Boobless', 'Irish', 'BB', '4600', 'Basketball', 'Diamond-Accent', 'Triangle', '(7100)', 'David', 'Hocus', 'Pump,Terra,9', 'Eztrip', 'Rotating', 'Anchors', 'Away', 'Clothing', 'Booty', 'Firefly', 'Browncoat', 'Magical', 'Mermaid', 'Stretch,', 'Europa', 'Swan', 'Uniforms', 'Alien', 'Wordlock', 'LL-207-SL', '4-Dial', 'Approved', 'Lock,', 'Meta', 'Consultation', 'Coats', '(XXS-5X)', 'Toast', 'Illuminating', '[Toy]', 'Dallas', 'Cowboys', 'Cord', 'high', 'Marbelle', '40Mm', 'Row', 'Edge,', 'black', '2.5oz', 'Thomas', 'Engine', 'Glow', '#7234', '(24)', 'Conway', 'Trail', 'Balder', 'Clara', 'Jordan', 'Hermione', 'Granger', '4718', '&quot;II', 'Limited', 'RB2027', 'Predator', 'T2J761', 'HQ', 'Warm-Up', 'Canadienne', 'Passion', 'Knox', 'Armory', 'Ma-1', 'Closed-Bottom', 'HIGH', 'WAISTED', 'BODY', 'SHAPING', '(XL)', '(LG)', '(MED)', 'Tanks', '(MS)', 'Quantum', 'Splice', 'Trump', 'Spread', 'Q', 'Recycled', 'Scarves', '25-6355PNK', '25/6369', 'Instalite', 'Adult-Caesar', 'Reaction', 'Columbian', 'Risky', 'Glitter', 'Coddels', 'Boudoir', '3644', 'Cougar', 'Travelsox', 'TSS', '6000', 'Patented', 'Graduated', 'DryStat', 'OTC', 'Hailey', 'Ups', 'Abby', 'Gene', 'Tignanello', 'Tote,Black,one', 'Studded', 'Snowflakes', 'Johnston', 'Murphy', 'Melton', 'Eva', 'Horses', 'GW9000A-1', 'Emblem', 'G-shock', 'G7700-1', 'Trainer', 'BlackSilver', 'Shuler', 'Bicycle', 'Aragon', 'Harding', 'TSUBO', 'Acrea', 'GW9100-1', 'Gulfman', 'Colmaster', 'V', 'Vendetta', 'Coloriffics', 'Andie', 'Arctic-Quilt-Lined', 'Fanny-tastic', 'Frou', 'Lugz', 'Drifter', 'Without', '(Leather)', 'wallet', 'hipster', 'type', \"''checkbook''\", 'style', 'leather', 'MOGA', 'Quality', 'Change', 'Twister', '36C', 'Soft-Cup', 'Wrap/Flare', 'Friendly', 'Wick', 'Steel-Toe', 'Mid-Calf', 'Sock,Set', 'Pine', 'Vita', 'Wow', 'SZ', 'Nex', 'Tec', 'Black,Large', '(90', 'Boho', 'Disc', 'Concho', 'Romeo', 'Potato', '9.5-10.0mm', '9.5-10.0', 'Bucasi', 'Benassi', 'Swoosh', 'BLUE', 'band', 'closure', 'Ages', '2-9', 'wrist', 'Bunny', 'Ave', 'Two-Piece', 'Gretchen', 'D4', 'Pleated-Cuffed', 'Ellis', 'Portfolio', 'Melange', \"Swashbucker's\", 'SCER168', 'Lavender', 'Duofold&reg;', 'Champion&reg;', 'Thermals', 'Bottom,', '2XL-Winter', '529', 'Curvy', 'n', \"Figs'\", '(8mm)', 'SWAROVSKI', 'ELEMENTS', 'Mammoth', 'Prima', 'Northern', 'Lab-Goddards', '707885', \"Goddard's\", 'MK5039', '(5.5-6mm)', '7.5-8mm', '(D22030)', '(5-5.5mm)', '(8-8.5mm)', '(AA', '6.5-7mm)', 'Multi-Card', 'Trifold', 'Samsonite', 'Five', 'Nested', \"Folter's\", 'Ribbon', 'Toggle', 'Links', 'Parties-Mate', 'Keepsakes', 'Postage', 'Vivian', 'N07578G', '#1265', '#1803', '#1003', '#1800', 'Stretch-Lace', 'Wonderwire', '#9245', 'support;full', '#9195', 'Folding', 'CP95', 'Knee-Length', 'Softie', 'Bootie,Black,9', 'Audrey', 'Scala', 'Classico', 'Crushable', 'Felt', '(One', 'Size)', 'Huggie', 'ful', 'Peabody', '51300R', 'Eagle', 'Undercover', 'Looks', 'Inserts', '4687DNKL', 'Alert', 'Accepted', 'Sof-T', \"King's\", 'Crown', 'WR1123', 'WW811', 'Lace-up', 'WW926', 'Shoe,White,8', 'Corax', 'W587', 'Adult-Hercules', 'M992', 'Shoe,Cool', 'Grey,12', 'D', 'MR1123', 'MW926', 'Shoe,Brown', 'Leather,11.5', 'EE', 'Corduroy', '40x30', 'Two-Layer', '#627A', 'Bottom,Camo,XX-Large', 'Altamont', 'M587', 'Lovesong', 'Party', 'Work-Dry', 'Workflex', 'Chinese', 'Laundry', 'Willy', '&quot;When', 'Have', 'Faith,', 'Anything', 'is', 'Possible&quot;', 'T.U.K.', 'D-ring', 'Interlace', 'Creeper', 'Arrow', 'Wrinkle', 'Pinpoint', 'Sleeve,', '17.5', '36/37', '15.5', '32/33', '100-Percent', 'Midway', 'pack,', 'Waistnipper,Beige,Small', 'Cookie', 'Two-Sided', 'Greenbay4', 'Boot,Black,9', 'Nationplus', 'Care', \"Men'\", 's', 'Fancy', 'Stone,', '34/35', 'Uni-Sex', 'Croakies', 'Retainer', 'South', 'Seas', 'Suiter', 'Floater', 'Sleigh', 'Emblem,', 'Football', 'Adventures', 'Cloak', '98E003', 'GZ', 'Sheep', 'AS', 'Apple', 'Auto-Open/Close', '59850', 'Wrinkle-Resistant', 'Judge', 'Gavel', 'Asian', '10+', 'Pillows', 'Larger', 'Cuffed', 'FitFlop', 'Walkstar', 'Sandal,Black,11', 'Ornate', 'Magnifying', 'RB3364', '(Unisex)', 'Cumberland', 'Ridgefield', 'Eureka', 'T1002', 'Brogue', 'Rocket', 'Dog', 'Crush', 'STEVEN', 'Steve', 'Madden', 'Intyce', 'Scribble', 'Smith', 'Optics', 'Serpico', 'Suncloud', 'Unstructured', 'Un.Bend', 'BaseTM', '2.0', \"Smiffy's\", 'Borat', 'Mankini', 'Tsa', 'Shuf', 'Slip-on,Heather', 'Gray,14', 'Rocawear', 'PAW1300T-7V', '&quot;Pathfinder&quot;', 'PAW1300-1V', 'Multi-Band', 'Fade', 'In/Out', 'Phantom', '(Medium', '(8-10))', 'Frost,', 'Underground', 'Doctor', 'Who', 'Talking', 'Voice', 'Keychain', 'SGG709', 'SGG707', 'Chore', 'Edgewater', 'Lucena', 'Fairview', 'Sandal,Brown,5', 'Clean', 'Slate', '3-Piece', 'Briolette', 'Un.Ravel', 'Leopard', '30mm', 'Gownies', 'FOWNES', 'Napa', 'Tiara', '42205', '5723L5', 'SC', 'Flowers', 'C5287', 'Karat', 'Venetian', '(18', '4688D', 'Assorte', 'Captains', 'Skipper', 'Own', 'Kon', 'Tiki', 'Raft', '!!!One', 'Three-Quarter', 'British', 'Arianne', 'Flora', 'Enhancement', '(1', 'Pair)', 'St', 'Moritz', '98H51', 'Un.Loop', 'Stuyak', 'MW30070-BR', \"2.75'\", 'MW30070', 'MW30070-BK', 'Compatible', 'I', 'Rest', 'History', 'Rasta', 'Imposta', 'Bacon', 'Eggs', 'Couples', 'Seal', 'ColorMark', '3051', 'cobian', 'Bounce', 'Industral', 'Bliss', '#2003', 'Cali', 'Established', 'short', 'Kid/Toddler/Big', 'SEI', 'Wall-Mount', 'Mirror,', 'Cherry', 'Bungalow360', 'Wallets', 'styles', 'in!', 'Brannock', 'Device', \"(children's)\", 'Walls', 'Nias', 'Filled', 'Pearl,', 'Enamel', 'Ahi', 'RB4105', 'Justin', 'Gypsy', 'T5H471', 'Slant', 'Attaching', '4.5', 'NANO-T', '4980', 'TOMS', \"Birki's\", 'Birki', 'Insert', 'Miles', 'Kimball', 'PRO', 'Titan', '26064', '26078', 'Safety-Toe', '26011', 'Direct', 'Attach', 'Soft-Toe', '26036', 'Pitboss', 'Killer', 'Kushionz', '3-Pair', '61009', 'Mudsill', '40008', '53534', '47015', '8-Inch', 'Harmonie', 'Legwarmer', 'Antistatic', 'Non-Cling', 'Rhonda', 'Espadrille', 'Midsized', 'MK5055', 'Absorber', '#4490', '#109', 'Chain!', 'Styles!', '(Sold', 'Individually)', 'FootGalaxy', 'Laces', 'Landing', 'Leathers', 'A-2', 'Bomber', 'Stitched', 'Gloves-Pair', 'Animals', 'Reggae-Rasta', 'Joey', 'Interior', '347SSX', 'Katja', 'Snob', 'Ryka', 'Studio', 'Marcella', 'TITAN', 'Hematite', '12269', 'Dea', 'pk-White', '6.5-7mm', 'Tri-Fold', 'Accordion', 'RV17', 'lens', 'Golf,', 'Cycling,', 'Running.', 'Blue)', 'Beyond', 'Earthkeepers', 'Laughter', 'Aunt', 'Speakup', 'Dritz', 'Bra-Back', 'Cycling', 'Biking', '1241-0008', 'Dozer', 'Sandal,Mocha,9.5', 'Welt', 'Dritz(R)', 'Extender-', '2-1/4', 'Rosemead', 'Aquatik', '(Women', 'Grey)', \"'Olive\", 'Rondelle', 'STORMTECH', 'PCX-1', 'Aerolite', 'AS20', 'Add-a-bag', '&nbsp;&nbsp;Exclusive', 'Orchid', '(100%', 'cotton)', 'Aloha', 'Safe', \"L'eggs\", 'ST', '39500', 'Lacer', '3370', 'Smooth-Cup', 'Lena', 'Jean,black,2/33', 'Wren', 'Open-Toe', 'PacSafe', 'CitySafe', '200,', 'Stick', 'Tape', 'Strips', '(36', 'Strips),', 'MK8077', 'Strike', 'Compound', 'Seduce-420', 'Seduce-425', 'Jogger', 'Xtra', '1&quot;', 'Surfrunner', 'Volley', 'Rally', 'Cuban', 'Kensie', 'Slub', 'Dress,', 'Rich', 'Red,', 'Wide-Black', 'Endurance+', 'Leaves', 'Marina', 'Watershorts', 'Taslan', 'Runner', '14&quot;', 'Outseam', 'Watershort', 'Swimsuit,', 'Instantly', 'Slimming', '52mm', 'Hose,', 'Black-PS', 'Full-Coverage', '216s', 'Engineer', 'Grecian', 'ZFCG001-W', 'KT', '0.6mm', 'ZFCG001-Y', 'Hailey-Super', 'Lolita', 'Adult,', 'Shoelaces', 'Sneakers,', 'Chose', 'Parka', 'Bon', 'Voyage', 'belt', 'Girlfriends', 'Put', 'Sided', 'Orb', 'Factory', 'Sticky', 'Mosaics:', \"River's\", 'sleeve', 'SCER197', 'Vitrial', 'Bistro', 'Specialist', \"'Encore\", \"Breeze'\", 'EW1170', '#EW8282-09P', 'MetroSafe', '(Grape', 'Wine)', 'BM6400-00E', 'JY0000-53E', '&quot;Skyhawk', 'A-T&quot;', 'BVD', 'Medium,', 'A-Shirt,', 'Small,', 'EW3030-50A', 'Corso', 'Cigarette', '(For', 'Only)', '#68', '0.8', 'Sharon', 'Cupcake', 'Figural', 'BLACK!', 'Canyon', 'Waffle', 'Wrap,', 'Slouchy', 'A|X', 'Armani', 'Exchange', '4868', 'Circa', 'Joan', 'Yavin', 'Peacock,', 'Pink,', 'Grey,', 'Chocolate', 'Larson', 'Mix', 'A-shirt', 'Dansko', 'Oiled', 'Berkley', 'Dabung', 'ZipWalker', 'Wave', 'SKX779K', 'Kahtoola', 'MICROspikes', 'PGA', 'Mario', 'Batali', 'SELECT', 'Horsehair', 'Emporio', 'Split', 'Wrestling', 'Furry', 'Cuffs', '#939', 'Mustaches', 'Count', '(Packs', '12)', 'Must', 'Solution', 'Purpose', 'Phase', 'Ears', 'Headband', 'Sag', 'Harbor', 'Flyaway', 'Cashmerlon', 'Pepsi-Cola', 'Navy/White', 'BANDOLINOBLU', 'Mandie', 'Shiny', '(Crystal', 'Clear)', 'Laurel', 'Burch', 'Felines', 'No-Poke', '1695', 'Trays', 'Showcase', '5.5&quot;', 'Christina', 'Lining,', '36DD', 'Cardy', 'Leche', 'Wedgies,', 'Worries', '#5639', 'Pinching.', 'Problems.', 'V-front', '5638', 'Fishing,', 'Lifestyles', 'Westwater', 'Jane,Black,5', 'Lunar', 'Ascend', 'Base&trade;', '3.0', 'Baselayer', 'Keystone', 'Moves', '#13091', '#13090', 'Sleeks', '#75263,', 'Damask', 'Neutral,', '34C', '#75371', 'Fedora', 'Pimp', '1691', 'Jacket,', 'WF', '5035', '#5041', 'Crispin', 'Glance', 'Toes', 'Roxy', 'Pier', 'Embrace', '65547', 'Botany', 'Broadcloth', '#5068', 'Ames', '167', '15-20mmHg-', 'w/Stayup', 'Top-', '120', '20-30mmHg', '140', '20-30mmHg-', 'modal', 'Panty,', 'Feeling', 'Double-Sided', 'Dungarees', 'TDEZ2030-C', 'Friction', 'TDEZ2040-C', 'TDEZ2050-C', 'T49658', 'T49660', 'Blue/Gray', 'T49659', 'Plum', 'T49661', '#GD0689', 'Recolor', 'Annie', 'Lola', 'All-Over', 'FS/NY', 'Sloop', 'Fundamentals', '(Assorted', 'XS-5X)', '9000', 'CottonTM', '5.3', \"D'Lites\", 'Ainsworth', 'Brooks', 'Addiction', 'Savvy', 'EW1270-06A', 'JY0010-50E', 'BM6555-54E', 'Scooter', 'Voyageur', 'Eldorado', 'Shoe,Black/Grey/Silver,9', 'Cradles', 'Caden', '40B', 'Downtime', 'Wire-free', '#3375', 'Open-Bottom', 'Compliments', '38B', 'Concealers', '#3411', '42B', 'Ultraclub', '8960', 'UC', 'L/S', 'Denm', '2000T', 'Journey', 'Swirl', 'SCBR114', 'adjustable', 'SCBR116', 'Press', 'Dies', 'Lounge', 'B7207', '8990', 'SupercottonTM', '70/30', 'Scoop-Neck', 'UltraClub', 'Wrinkle-Free', '8972', '331XLSL1', 'Jonas', 'Quartz/Multi', 'Plate', 'Moto', 'JACKET-', 'Xl', 'Compartments', 'Cross-body', '#4116', 'MW576', 'Barelythere', '6/7', 'Crop', '(Replaced', '103J)', '8/9', 'WW576', 'Rounded', 'Cecilia', 'F530238', 'Battle', 'Zuzu', 'Schampa', 'Coolskin', 'BLCLV015', 'Materna', 'Nightime', '4609', 'Classic-Birki', 'Dip', '508', 'Taper', '4415', 'Silverthorne', '2187S', 'LaCrosse', '16&quot;', 'Economy', 'Freedom', 'Nomad', 'Yippy', 'Boca', 'Puddles', 'TFX', 'Rough-Out', 'Logan', 'Layton', 'X-4ORCE', 'T180', 'MW645', 'Shoe,Brown,10', '4.25', 'Malindi', 'Deco', 'GW5600J-1', 'MDV102-1AV', 'LED', 'PAS400B-5V', 'GW330A-9V', 'MTG900DA-8V', 'MTP3050D-2AV', 'W201-1AV', 'WV58DA-1AV', '&quot;Waveceptor&quot;', 'AMW320RD-2AV', 'AQ47-1E', 'DB36-1AV', 'Multilingual', 'PAS410B-5V', 'ZIPPER', 'tote', 'trim', 'bottom', 'Crystals', 'GO', '5.5-6mm', 'Shirley', 'Scalloped', '(331)', 'Samoa', 'PASHMINA', 'SHAWL', 'Group', '55', 'Sparta', 'Principle', 'Plastics-Sloggers', 'Mantra', 'Shoe,Chocolate', 'Chip/Pale', 'Khaki,8.5', 'W550', '(8882)', 'Nano-T', 'Multipurpose', 'Book', 'Options', 'Footgalaxy', 'Curly', 'Aurora', 'Valentines', 'Lovers', 'Tonal', 'T5K085', 'T5K086', 'Greenbay', 'Boot,Black,11', 'Darque', 'Top!', 'Skirt!', \"Man's\", '2252X2', 'Cubes', '3pc', '(Titanium)', 'Terrace', 'Weekender', 'eTech', '(Burnt', 'Orange)', 'Piazza', '75-2967BLU', 'AMW330D-1AV', 'W756-1AVCR', 'AQ164W-7AV', 'AMW330-7AV', 'W756B-1AV', 'Kate', 'York', 'Licorice', 'Chard', 'Mobile', '40x32', 'Sneaker,Black/Charcoal,7.5', 'Nubra', 'Featherlite', 'Beige-', 'Non-Slip', 'Shoes,', '8675', 'PANT', 'Officer', 'Frisky', '|', 'Non-binding', '7-12', 'SUNBEAT', 'No.', 'White/Black,', 'Saber', 'Overplay', 'VII', 'Sportsbra', 'Built-Up', 'Soul', 'Mate', 'Cocktail', 'JR', '26', 'Dunham', 'Burlington', 'EMU', 'Stinger', 'Bronte', 'Boot,Black,12', 'Banz', 'Tredds', 'Interactive', '(Red,', 'Green)', 'Daung-', 'Animal', 'Prints', \"Shoe,Black,Men's\", \"M/Women's\", 'Store', 'Lapel', 'Longer', 'Pole', 'Intrigue', 'W280', 'Lo', 'pc', 'Four-Piece', 'Athlete', 'watch', '#DBC32D1A', 'Hook-and-loop', 'Heartthrob', 'HYP-16', 'Tote~Natural/Flamingo', 'STONE', 'Harriton', 'Staff', 'Pointelle', 'Woolrich', 'Elite', \"Women'ss\", 'Destroyed', 'Joni', 'Organic', 'Cropped', 'EW0890-58X', 'Footless', 'Grow', 'Onesie/Bodysuit', 'Iplay', 'MX622', 'Shoe,White/Navy,10.5', 'Polywatch', 'Scratch', 'Melody', 'Peridot', 'Shelk', 'Hey', 'Viv', '!', \"50's\", 'Fashions:', 'Peter', 'Pan', 'XS', '2X', 'Meltonian', 'Cream', 'Husled', 'Moc,Black,11.5', 'Sand', '1mm,', 'Brickhouse', '535', 'pediped', 'Isabella', 'Endure', '(A/B', 'Cup)', 'Crimson', 'Tie&quot;', 'Mr', 'Softee', 'Referee', 'Patriotic', 'Un.Coil', 'Know', 'T-Strap', 'Platinum', 'Pear-Shaped', 'Lever', '6.5', 'Princess-Cut', 'Cushion-Cut', 'Patty', 'Compact', 'Stitching', 'AVIA', 'A339M', 'Icebreaker', 'Ultraviolet', 'Inner', 'Dry&reg;', 'CH642', 'AG13/357A', 'Alkaline', 'Blaster', 'SG20P', 'Dura-Thin', 'Search', 'Memories', 'LK6-4', 'Assorted,', 'Balega', 'Enduro', 'Orthaheel', 'Dyeables', 'Runway', '&quot;Flip&quot;', '732', 'Blues', 'Tees', 'TR90', 'UV400', 'Unbreakable', 'Go-Go', 'Hobo', 'Sling/Backpack', 'Marines', 'TEVA', '(Mocha', '7.0', 'Wiz', 'Travelon', 'Tags', 'Lightning', 'Lo-Cut', 'AST,', 'Legs', 'KC2414-NY', 'SCER307', 'SCER303', 'Express', '16&quot;PC', 'MacBook', 'Jolie', 'Cuddles', 'Slipper,Chestnut,10', 'Boot,Chestnut,8', 'Boot,Chestnut,10', 'SD01', 'Flared', 'Chestnut', 'Hill', 'CH590W', 'SNQ121', \"Alki'i\", 'Misses', 'Achieve,', 'Success,', 'Believe', 'Fossil', 'ES1967', 'Stella', 'Day/Date', 'EJ1', 'E-Series', '&quot;Rubber', 'Look&quot;', 'Suit!', '(Large)', 'Firefighter', '(Set', 'College', 'Uni', 'Buttoned', 'Skirt-', 'Omnium', 'J', 'Sundance', 'Boot,Nutmeg,9', 'Ibiza', 'WOMENS', 'DREAM', \"10''\", 'SHEEPSKIN', 'LUG', 'SOLE', 'BOOTS', 'HICKORY', 'SIZE', 'elope', 'Grunge', 'JiMarti', 'AV5', 'Hing', 'Fiber', 'FX', 'Lightsaber', 'Rows', 'Championship', \"God's\", 'Socks:', 'Celestial', 'Ingrid', 'Isabel', 'Bellaband', 'EZ-On', 'Celso', 'London', 'Ms.', 'Spot', 'Lexiss', 'AM4141', 'Mother-Of-Pearl', 'Glitz', 'WR993', 'MR993', '1B60', '20-Eye', 'Phina', 'Alfred', 'Dunner', 'Pastel', 'Triumph', '1914', 'District', 'Threads', 'DT702', 'OSFA', '(6', 'UBAL', 'Pacificplex', 'Many', 'Hurricane', '(4-8mm),', '&quot;Simplicity&quot;', 'Hematite-Color', 'Sapphire-Color', 'Kayenta', 'EJ2', \"Dorothy's\", 'CW442', 'MOVE', 'Management', 'Backpack/', 'PAW1500-1V', '8400', 'Wig-Cap', 'F550238', 'Rip(R)', 'B2', 'Marena', '(F5', 'Garment)', 'DryBlendTM', '8965', 'B7217', 'Viewing', 'Blonde', 'BioFlex', 'Bioflex', 'Forum', 'Novelties', 'Roaring', \"20's\", 'Around', 'Town', 'Bagg,Tomato,One', 'Flyer', 'WV200A-1AV', 'SGW100-1V', 'SGW100B-3V', 'WVA470DJ-1ACF', 'Sable', 'Waveceptor', 'Roma', 'Multi-Pack', 'Polka', 'Dotted', 'Cutie', 'Seirus', 'Innovation', 'Masque', 'Clava', 'Neofleece', 'Travelsafe', 'Anti-Theft', 'Portable', 'Safe,', 'Bonanza', 'Shafted', 'Cash', '6-Inch', 'Beckman', 'Fusion', 'Dolly', 'Cordless', 'Sonic', 'XXS-5X)', 'Jansport', 'Sparrow', 'Sword', 'Sorbothane', 'Comfortable', 'Clogs', '11)', 'Envirosax', 'Monochromatic', 'Pouch,Black/White,one', 'CA33', 'ECOnscious', 'Brothers', 'GOGO-305', 'Kiki-350', 'Lust-2000', 'Juliet-209', 'Victorian-120', 'Riptide', 'Shoe,Black/Yellow,9', 'Tab', 'Baggy', 'Worn,', '38MM', 'Plaque', '40mm', 'Antique', '559', '560', 'Levis', 'Bandit,', '38W', '34L,', 'Bandit', '545', 'Dark,', '16', '515', 'Welder', '512', 'XE', 'Croton', 'CA401094TTBK', 'Watchand', 'WalkSmart', 'Vatican', 'Library', '590', 'Fuller', '580', 'Alignment', '(Small/Medium)', 'Husky', '518', 'Superlow', 'Too', '2-pocket', '528', 'Dark,29', 'Stopper,30', 'Kingdom', 'Whip', '(Asst', 'XS-3X)', 'Peace', 'Dot', 'Shark', 'Bite', 'Dimensional', \"(Women's\", '4-10)', 'Escort', 'over-prescription', 'Sunglasses,', 'Lens,', 'ANSI', 'Z87.1-200', 'B252P6', '8x6mm', 'Square-Cut', 'Shining', 'Image', 'ZR-8', 'B749B5', 'Infantry', '1611A', '(71280)', 'Hike', 'Printed', 'BM8430-59E', 'EW3140-51E', 'EW3144-51A', 'Gauntlet', '#71049', '#74273', 'TacLite', 'Indian', 'Selections', 'wither', 'bead', 'work', 'sleeves', 'Kurti', 'Holster', 'Tsukihoshi', 'CHILD01', 'Euro', 'Top,', 'Lead/Black,', '2X-Large', 'Heidi', 'Sac', 'Caress', '#13137', 'Fresh', '#10196', 'Snowkone', 'Tambour', \"Painter's\", 'Thunder', 'AWG100-1A', 'WV58A-1AV', 'GW9200-1', 'Riseman', 'Alti-Therm', 'A5020W', 'A5020M', '(XXS-5X,', 'Rubbertech', '(TM)', 'Deployment', 'CONVERSE', 'Pro-Core', 'KIWI&reg;', 'MILITARY', 'CARE', 'KIT', 'Carex', 'KAVU', 'Handles', 'Mossy', 'Oak', 'Pirate-100', '(sold', 'individually)', 'Vitalio', 'Vera', \"''Zane''\", 'Bookfold', 'Jerga/Baja', '(view', 'sizes)', '21&quot;', 'Urbantrack', 'Forward', 'Manhattan', 'Portage', 'Oblong', 'Southwestern', 'to11', 'Bottom,Blue', 'Jean,Large', 'Crew,Blue', '9162', 'Nakiska', 'Falcon', 'Manawan', 'Grab', 'Wild,', 'Strappy', 'Kint', 'Moving', 'Cara', 'Fiona', 'DAWGS', 'Z', 'Inlay', 'RB4115', 'Furious', 'Role', 'Chums', '6)', 'Size:8', 'Color:2', '(colors', 'Rambler', 'PCS', 'Sign', 'Exposed', 'B830BT', 'Cub', 'Coast', \"KD's\", 'Biker', 'Frame/Orange', 'Tunic', 'Birthstone', '4-Prong', 'Gus', 'Heaven', 'Mall', '35W', '30L', 'Ionic', 'Leverage', 'W800H-1AV', 'LTP1237D-7A', 'Bradley', 'Polkadot', 'Tropic', 'Player', '6371Bc', 'Flexfit', 'Alegria', 'Gigantic', 'Ame-comi', 'Heroine', 'Cleo', 'Patra', 'Slide,Khaki/Pearl', 'White,8', 'Sassari', 'Woolly', 'Clog,Black/Charcoal,13', 'M/Wo15', 'T21872', 'Cavatina', 'T73751', 'Tween', 'T53822', 'GW500A-1V', 'LTP1165A-2C', 'LTP1165A-4C', 'Thermal,', '#821C', 'Keeper', 'over', 'necklaces', 'Masterpiece', 'Boot,Mushroom,8.5', 'Unionbay', 'Survivor', 'Sugarlips', 'Maia', 'A6467L', 'Vulcanized', 'Nile-Deluxe', 'Cleopatra', 'Salt', 'Hoy', 'Pinnacle', 'Infamous', 'Slave', 'Sideways', 'NYL', 'TR15', 'Cycling-Unbreakable', 'One-Way', 'Snugpak', 'Cyprus', 'Sandal,Bronze/Bronze,6', 'Sonnet', 'Blinking', 'DV', 'Dolce', 'Raven', 'Midcalf', 'Nina', 'Electra', 'Un.Seal', 'Mom', 'Bling', 'Teething', '#17166', 'Utopia', 'Knots', 'Lucille', 'Heels', 'Wall', 'Closet', 'Rack', 'Stripes', '(Various', 'Belton', 'Lotsa', 'Christmas', 'Flashing', 'Bulbs', 'SKA366', 'SXGN42', '601-leather', 'Passport', 'Creations', 'Wherever', 'G', 'GWM850-7CR', 'Button-Down', '(Sizes', '2T', '20)', 'Shore', 'Heartwood', 'Nativity', 'Ornament,', '4-3/4', 'GZ65', 'Grizzly', '66014', 'Crushed', 'Loupe', 'Doublet,', 'Plated,', '30x,', '21mm,', 'Braces', 'Panties3', 'Adult-Gorilla', '6170', 'WEB', 'BELTS', 'W/', 'FLIP', 'BUCKLE', '#5P501B', 'Justify', 'McClintock', 'Rectangle', 'Catskill', 'Conair', 'Umbrella,', 'Darice', 'VL5863,', 'Adjust', 'Toss', 'Away,', 'iBungee', 'Pep', 'Classic+', 'Underoos', 'Multi,', 'Admiral', 'Twin-Gore', 'Caribbean', 'Wench', 'J.', 'Furmani', 'Petti', 'Tesa', 'Apprentice', '#90070', 'H07S', 'FootUndeez', 'FF01', 'Spanish', '5053', '4610', 'Longsleeve', 'Rocha', 'Freya', 'Organza', 'Dotty', 'Vixen', 'Sanita', 'SC80017A', 'Real', 'Boned', 'Android', 'TOOL', 'Rebecca', 'RFID', 'Blocking', 'Boarding', 'Pass', 'Multi-Bag', 'Stacker', 'Inflatable', 'Hangers', 'Messenger-Style', 'Underseat', 'Back-Up', 'Scale', 'Envelopes,', 'Roar', 'Cufflinks', '&quot;All', 'Tied', 'Up&quot;', 'Guess', 'Billfold,', 'Courtesan', 'prAna', 'Sabin', 'Racer', 'adi', 'brief', '1502', '001', 'Chippewa', 'Rehab', 'Singer', 'Sequined', 'Fuchsia', 'Feathered', 'Mardi', 'Gras', 'Frog', 'Comfort-Fit', 'Trailer', 'w/Bag!', '5249W', 'Stealth', '8.0', 'Mccomb', 'Weapon', 'OneSize', 'Me', 'Layette', 'GloWear', '8930', 'Headwear', 'Hi-Vis', 'Ancient', 'Monkey', 'Torsette,', 'XXL', 'Gun', 'Machine', 'WindPro', 'Jumbo', 'JR9760', 'Breeze', 'Boot,Taupe/Burnt', 'Orange,8', 'Clarion', 'Wasatch', 'Banded', 'Gauge', 'Un.Sheridan', 'Un.Kenneth', 'Wonder-130', 'Squeeze', 'Cabana', '8981-Wedgewood-XS', 'Condor-II', 'V0527', 'Bi-Stretch', 'SNDA65', 'We', 'Fight', 'What', 'Fear', 'Prong', 'T5K196', 'Full-Size', 'Defender', 'Poem', '(Oval)', '(F221)', 'Kamala', 'Boot,Black,8', 'Snogoose', 'Auburn/', '(Starlet)', 'SCER412', 'Cloisonne', 'Includes', 'Tikes', 'Pop', 'Tunes', 'Rocker', 'Guitar', 'Rinse,', '#U3280', '#U3284', 'T5K198', 'AGB', 'Teal,', 'Pants)', 'A03SET', 'UX02SET', 'Inc', '191-000', 'Applicator', \"6'\", 'Vibram', 'FiveFingers', 'Nickelodeon', 'F530138', 'Incantasia', 'F557149', 'Patrol', 'Seductive', 'Customized', 'lace', 'Pull-Up', 'Cabrio', 'Madrid', 'Mayari', 'Birko', 'Flor', 'Jacobson', 'PERMAFELT', 'DERBY', 'HAT', 'Woodstock', 'Evening', 'Peacoat,', 'Sursey', 'Pump,Black,9', 'Lion', 'Exofficio', 'Benefit', 'KC1514', 'Orient', 'CEM65001B', 'Mako&quot;', 'CEM65002D', \"'Blue\", \"Mako'\", 'CEM65001M', 'CEM65003D', 'Bezel', 'CEM65005D', 'Flume', 'Swords', '27&quot;', 'inflate', 'toys', 'Ironbridge', 'T20433', 'T23811', 'Andes', 'Indigo,', 'Puffy', 'Washington', 'DeFeet', 'Aireator', 'Oasis', 'Crewe', 'Chakra', 'Bodyfit', 'Hang', 'New!', 'Physician', 'NEW', 'SOLID', 'SATIN', 'Mitts', 'Bandless', '100g', 'ThinsulateTM', 'Insulation,', 'DuPontTM', 'Teflon&reg;', 'Ozone', 'Petunia', 'Pomme', 'Soleil', 'Nordic', 'Mona', 'Linen', 'W39S55D', 'Putty', 'W36S53F', 'Hardside', 'Spinner/Rolling', 'A-Line', 'Slits', '35mm', 'Glazed-Top', 'Glazed', 'Braid', 'Feather-Edge', '(Black/Brown/Leopard/Ocelot)', 'Chantelle', 'Rive', 'Gauche', '(3086)', 'Cally', 'Keen', 'Betty', '(Slate', 'Black/', 'Grayed', 'Jade)', 'Into', 'Keyhole', 'Gangsta', '(Fits', 'Adults', 'Teens)', 'SCER458', 'Teri', '8120', 'Platinum-Plated', '&quot;100', 'Facets', 'Channel-Set', '(4.25', 'Four-Prong', 'Antique-Style', 'w/Jaxa', 'Wrench', '52562', 'Endurance', 'PR', 'Holder,', 'stem', '(33280)', 'Joss', 'Whedon', 'ROTHCO', 'DEPLOYMENT', 'BOOT', 'W/SIDE', 'ZIP', 'DESSERT', 'Tate', 'Supreme', '69681', \"180's\", 'Medieval', 'Headchange', 'Scally', 'Herringbone', 'Braided-Elastic', 'Lander', 'Kootenay', 'Chicken', 'Hen', 'Pocketbook', '&quot;Henbag&quot;', 'Whitty', 'Faux-Fur', 'Leo', '31x32', 'Cloud,', '40x34', 'Dansoft', 'Sansha', 'JUDIER', 'Masquerade', 'False', 'Beard', '#1298', 'Lifestyle', 'CK', 'Matte', 'CT', 'Denier', 'Hosiery:', '386N', 'TrailHeads', 'Goodbye', 'Ponytail', 'Cassel', 'B07', 'Fownes', 'RYKA', 'K1094', 'Crosstraining', 'Superga', '2750', 'Cuto', 'DPC', 'Journee', 'Microsuede', 'Mid-calf', 'Vicky', 'Satchel', 'Zebra', 'Gear&reg;', 'CRANBERRY,', 'LG', 'EasyTone', 'Outside', 'Shoe,White/Cucumber,6', 'LeSportsac', 'Kasey', 'Cross-Body', 'RB3016', 'Clubmaster', '4068', '4101', 'Jackie', 'Ohh', 'Shawl,', 'Stole,', 'metal', 'NECKLACE', 'Mills', 'ICEtex', 'Fleeced', 'HydroPur', 'Raschel', '38B,', 'Dawgs', \"'Premium\", \"Slides'\", 'neff', 'Lenox', 'Childhood', 'Leatherette', 'T49612', 'Black/Green', 'Jacket/Sherpa-Lined', 'MarieAnt', '8.0-8.5mm', 'Creative', \"Education's\", 'Moroccan', 'Tribal', 'Ebony', 'Tiffany', 'Tee,Black,Large', 'Short,Black,Large', 'Lacrosse', 'Shortie', '(Many', '(Choose', 'Final', 'Exam', 'Sprig', 'available!', 'Masks', 'Birthday', 'Favors', 'Dress-up', 'Tide', 'Orthopedic', 'Ryder', 'Pachuco', 'Huarache', '(1/10', 'Aussie', 'MBT', 'Lami', 'Sanguine', '6&quot;x8&quot;', 'Slips', 'Dynomighty', 'Tyvek', 'Mighty', 'storages', 'Helga', 'Tradition', 'Bootie,', '6.5-7.5', 'Kaleidoscope', 'Large/8-9', 'Clever', 'Krystal', \"I'm\", 'Game', 'Chi', \"Chi-S'Mores\", 'Avery', 'Boa', 'Capacity', 'Regal', 'Madeline', 'Thongs', 'Bosmere', 'N472', 'Scraper', 'Universal,', 'Tomato,', 'Cowgirl', 'Trapper', 'Balaclava,', 'Duble', 'Trouble', 'Salomon', 'XR', 'Strips,Black,Medium/Large', 'ISOTONER', '3317', 'Tofino', '5000BL06', 'Tallboot,', 'Size-6,', '(Discontinued', 'Manufacturer)', '&quot;All-Day-Comfort&quot;', 'Midsummer', '5002BL10', 'Pool', 'Slide,Black/White,9', 'Pajamas', 'Lamo', 'W0001', 'African', '(0.7&quot;', 'Clover', 'knit', 'Comes', 'several', 'colors!', 'Culotte', '(2402)', 'Enchantmints', 'Unicorn', 'Wide-White', 'Andrew', 'Christian', 'Almost', 'Naked', 'eVogues', 'Sequin', 'Bolero', 'Shrug', 'Empire', 'SunDress', 'MidNight', 'Edgework', 'Celina', '(2702)', 'Patricia', 'Slender', 'Jean,Destination,10', 'Wurkin', 'Stiffs', '2.5&quot;', 'Stays', 'MK5057', 'Stones', 'Wanted', 'Ballard', 'Play,', 'Visors', '(Comes', 'Marines,', 'Keepsakes-Blur', 'Activewear', 'Science', 'Sprint', 'KSO', 'Shoulders', 'PEET', 'M97-FSB', '2-Shoe', 'Electric', 'Dryer,', 'Build', '(34,', 'Beige)', 'Jams-Replenish', 'Boetis', 'Officially', 'Lantern', 'Lift?', '#9729', '#1100', '#1135', 'Mad', 'Hatter', 'Natal', 'WP', 'Shoe,Dark', 'Taupe/Taupe/Dijon,8', 'Roadracer', '(Colors', 'patterns', '5pk', 'tees', 'Removal', 'Renee', '(24', 'Equal', 'Sections)', 'Sandal,Chocolate,9', 'Posh', 'Sunrise', 'Pugster', 'Chair', 'Pandora', 'Charms', '3/4ct', 'Tempo', '2.0,', 'S,', 'WT', 'Telly', 'Terence', 'Driver,', 'FASH', 'Handbag-women', 'Bag,casual', 'Bag,girls', 'Bag,shopping', 'XXX-Large', 'Flirty', 'tanga', 'Panty,Ivory,6', 'Plus-size', 'Keira', 'Ultra-soft', 'Palm/fleece', 'Cosabella', 'Say', 'Sweetie', 'Altai', 'Sequin-Sheen', 'count)', '(1/Pkg)', 'Zenith', '96.0529.4035/51.M', 'Defy', 'Xtreme', 'Tourbillon', 'Dri-Fit', 'No-Show', '(3-Pair)', 'Ripple', 'Junction', 'Linear', 'TARDIS', 'Yknot', 'Cups', '1530100', 'Peaks', 'ROLO1MM', '5596', 'DECKY', 'Jeep', 'Switchblade', 'WAIST', 'PENCIL', 'SKIRT', 'Aspire', 'Stand,', 'Idea', 'Capri,', 'Deck', 'Delicate', '(0.6', 'mm,', '5/16', '5/16&quot;', 'Arcadia', 'EarPro', 'choose', 'from)', 'Warm!', 'Handcraft', 'Disney', 'Templin', 'Bicycle-Toe', 'Invisibelt', 'Y', 'Repellent,', 'Bottle', 'Black/Buttercup/Silver', 'Trailbreak', 'Exo-Frame', 'Clog,Black,9', 'Nominate', 'Tri-Mountain', 'Mystique', 'Chiba', 'Owl', 'Necklace/Pendant', 'OluKai', \"'Ohana\", 'WW927', 'Shoe,Black,6', 'Brumby', 'Code', '3969', 'LAT', 'Ringspun', 'Gynecomastia', 'Illusions', '(Large,', 'Pink)', 'MW927', 'Health', 'Shoe,Black,10.5', 'post-pregnancy', 'tummy', 'wrap', 'Semi', '1432144', '1440146', '1477144', '1456146', 'Rolfs', 'Attache', 'Speidel', '18-22mm', 'Gary', 'Majdell', 'Buccaneer', 'B4070', '2x1', 'Longer-Length', 'Amulet', 'Tamiami', 'Sophie', 'T-Shirt.', '8751', 'Cory', 'CH595', 'Cod', 'Sandal,Black,5', 'Hudson', 'Rainforest', 'Bodysuits', 'Cubavera', 'Single-Pleat', 'Military/Uniform', 'Stirrup', 'Adjustment', 'Ogio', 'Doppler', '&quot;mom', 'Mother&quot;', 'Castine', '(FB209)', 'Diema', 'Lux', 'Pack-It', 'Medium/Large', 'Arm', 'W/Thumb', 'FLY', 'Yaya', 'Reggae-Soundstage', '2033', 'BGSD', 'Cards', 'Puse', 'Aravon', 'Katy', '1852', 'Blanzza', 'Honeycomb', 'Fshnt', 'Maxit', '6-In-1', 'Headgator,', '15-1/2&quot;', 'Width', '1/8&quot;', 'Height', 'Epic', 'Pea', 'Eric', 'Worishofer', '251', 'Robbins', 'Backcountry', 'Discovery', 'Naturals', 'Seamfree', 'Hipster,', 'Eddy', 'MaxxDry', 'SD', 'Boot,', 'MX608V2', 'Olukai', 'Ohana', 'So', 'Badminton', '1609', 'Metabolize', 'Incites', 'Ups-Optimize', 'Optimize', '(Nickel', 'Free)', 'Oops', 'Cutlets', '8187', 'Neckties', 'Scott', 'Allan', 'Sky', 'Lode', 'TLS', 'LACY', '925', 'BEAD', 'compatible', 'European', 'Dramatic', 'Gloves,', 'Luxury-Lift', 'GlovePro', 'Constantine', 'Sunbelt', 'Neptune', '190', '(Accessories)', '230177DR', '-mm', 'Roomy', 'Attached', 'Mynx', 'Flak', 'Gardena', 'Crucifix', 'Age', 'Defying', '(75270)', 'Sandal,Bronze,5', 'Fitflop', 'Our', 'Guadalupe', 'Q-Baby', 'Julbo', \"Infant/Toddler's\", 'Looping', 'Nail', 'Quinn', 'Kai', 'Knicker', 'Nippies', 'Skin', 'Pasties', 'NON-ADHESIVE-', 'LIGHT', 'grain', 'cow', 'hide', 'money', 'clip', 'magnet', 'Checkerboard', 'T-Shirt,White,Medium', 'A-Shirt,White,Small', 'T-Shirt,White,Small', 'Fly', 'John', 'Deere', 'Helsinki', 'Formotion', 'Fog', 'Upright', 'Erin', 'BL4277', 'Backstrap', 'Sandal,Black/Oyster,9', 'Roller', 'VERY', 'SOFT', 'HOUNDSTOOTH', 'NECK', 'SCARF,', 'KANYE', 'WEST', 'STYLE', 'different', 'available', 'Breezy', 'AK', 'Bassin', 'Latico', 'Cabin', 'MURANO', 'GLASS', 'Plumeria', 'CHARM', 'Murano', 'Earbags', 'Kanadia', 'Shoe,Dk', 'Shale/Hint/Red,9.5', 'Stretchon', 'People', 'Reggae-Jammin', 'Habari', 'Visor-', 'DKNY', 'Physical', 'Jump', 'Start', 'Thinsulate', 'Glomit', 'iPhone', 'Ruched', 'Sweetheart', 'Maxi', '3-6', 'Months', 'Delta-8', 'Linus', 'Box,', 'Tray', '2,', 'CAP-003PM/BK', '5168', 'Lupah', 'Mother-of-Pearl', 'Interchangeable', 'Calypso', 'Pant,Black,5', 'CLC', 'R105L', '.35', 'MM', 'Trench', 'Hilton', 'A77', 'Leonisa', \"Women'S\", 'Hurley', 'Boardshort', 'Battenburg', 'Parasol', 'Bra,White,36B', 'Flowered', 'RARE', 'TNP', 'Prostretch', 'ADHESIVE', 'in.', 'Setter', 'Sandal,Hot', 'Pink,5', 'Stargazer', 'Swing', 'Whisper', 'Surge', 'Waimea', 'NIKE', 'SWEET', 'CASUAL', 'TrendsBlue', 'Houndstooth', 'Scarf-Diff', 'Avail', 'Backcast', 'injinji', 'Toesocks,', 'Rainbow,', \"Angela's\", '7201-909', 'Hat,', 'Culver', 'Bat', 'FINIS', \"Girl's\", 'Diapers', 'Harvest', 'JM01', 'Cycling-Unbreakable-TR90', 'G-SHOCK', 'Glide', 'Black,Watches', 'Concept', '#DW6900MS-1CR', 'G9000MS-1CR', 'LDF50-7CF', 'AQW101-1AV', 'W213-1AVCF', 'W213-2AVCF', '5377', '&quot;Angel&quot;', 'Glitzy', '814-4200', 'Strawberry', 'Shortcake', \"Tiger's\", 'Ruby,', 'Emerald,', 'Sapphire,', 'Opal,', 'Sub', 'DUAL', 'Flirtzy', 'Non-Adhesive', '92001', '98A103', 'Frank', 'Lloyd', 'Wright', '98R112', 'Neima', 'CAP', 'w/US', 'Patch', 'MultiCam', 'Quiet', 'Strength', 'Jefferies', 'Qtr.6-pack', 'A/O', 'Zip-Around', 'Lavalu', 'MX608V2O', 'YOUTH20', 'CHILD28', 'Wheel', 'Sunny', 'Kid),Pink,6-7', 'FP221', 'Belts', 'Spanx', 'Brallelujah', 'Future:', 'II:', 'Marty', 'McFly', 'Replica', 'As', 'Seen', 'TV', '&reg;', 'Storus', '96L116', '408159BLK', '752475PMSV', '753689MPRG', 'Rose-gold-Tone', 'Montecito', 'Boot,Cigar,8', 'eVent', 'T5K187', 'Pulse', 'Calculator&quot;', 'T5K238', 'Gray/Silver-Tone', 'T17158642', '456963BLK', 'Feathers', 'Contour-Plunge', 'Cashsafe', \"Kleinert's\", '&quot;READY', 'SNAP', 'ONTO', 'BRA', 'STRAPS&quot;', 'Easily', 'Adjustable.', '#1114F', 'Alvar', 'Interchangeable-Buckle', 'Beckon', 'Medicine', 'Buddha', 'Collectible', 'KOI', '701', 'Lindsey', 'Shorty', 'Mt.', 'Chelsea', 'Wolves', 'Sunglasses-', 'Concealing', 'AC/DC', '-Action', 'Packed', 'FITTED', 'CAREER', 'WOMAN', 'COCKTAIL', 'DRESS', 'Beret', 'Dime', '35Mm', 'Click', 'Belt,Black,32', 'LATEX', 'METALLIC', 'LEGGINGS', 'WET', 'LOOK', 'PUNK', 'SHINY', 'FAUX', 'LIQUID', '&quot;', 'CELEB', 'PANTS', '#855170', \"Don't\", 'Busy', 'Did', '1st', 'Funny', 'K.', 'Bell', 'WVM120J-1', 'McAllister', 'Fifth', 'Strand', 'Croco', 'Handbag/Purse', 'Separate', 'Park-a-Purse', '(Blue)', '(21&quot;', 'H', '33&quot;', 'D)', 'OG', 'NERD', 'Packaged', 'Mount', 'a', 'Complimentary', 'Thunderstorm', 'Pant,Black,M', 'Foliage', 'ColdGear', 'Arab', 'Kafiya', 'Scarf,', 'Tubes', 'Banana', '16oz', 'Refill', 'Mud', 'Pie', 'Newborn', 'Baby-Girls', 'Tulle', 'Bungee', 'Almartin', '3-pack', '20-Pack', 'Soap', 'Neon', 'Tag', 'Elomi', 'Caitlyn', 'Surplus', 'V-Front', 'Therafirm', 'TFCS161', '10-15Hg', \"Grey's\", 'Anatomy', 'Seams', 'Blitzen', \"Clog,Black/Black,Men's\", 'M/7', 'A-Quality', '(5.5-6', '(6.5-7mm)', '(7.5-8', 'A-Grade', 'Gretel', 'Clog,Gold/Chocolate,7', '(7.5-8mm)', 'Dawson', 'Concrete,', '2x', 'LOCS', '6018', 'JT6226', '19-PieceS', 'Ditty', 'Frankford', 'Creditcard', '35MM', 'Saddle-Leather', 'Shoe,Black/Warm', 'Grey,42', 'EU', '8-8.5', 'Multiful', 'Tri-Blend', 'MK5145', 'LW200-2BV', 'LW200-4BV', 'LW200-7AV', 'Timbuk2', 'Commute', 'Bag,Black/Black/Black,M', 'Choco', 'OshKosh', \"B'Gosh\", 'Maryann-13', 'Kid),Tan,8', 'Sailing', 'Modern', 'Dressing', 'Boy-short', 'Coolie', 'Mommy', 'Daddy', 'Prayer', '&quot;Love', 'Is', 'Patient,', 'Kind&quot;', '&quot;The', 'Reward&quot;', 'Patient', '&quot;A', 'Reaches', 'But', 'Touches', 'Heart&quot;', '&quot;You', 'Hold', 'Forever&quot;', 'Measured', 'Not', 'Miles&quot;', 'Midrise', 'Brief,Black,Small', 'RB4021P', 'Tortoise/Brown', 'Weigh', 'LS-300', 'Quest', '4D', 'Backpacking', 'Available!', 'Gathering', 'Jaguar', \"Cookie's\", 'Clip-on', 'Tooled', 'Solstice', 'Kelsey', 'Beth', 'Pump,Brown', 'Nappa,41', '10.5-11', 'Soles', 'Kits', '507', 'Skort', 'Thick-Knit', 'Joanne', 'Katz', 'Anuschka', '1071', 'Cortez', '06', 'Louis', 'Raphael', 'Rosso', '150s', 'Luxe', 'ROSSO', '150S', 'INTERNATIONAL', 'Bag,Black,one', '10126', 'Baya', 'Fertile', 'Mind', '#30107', '18.5&quot;', 'EAGLE', '16&quot;,', 'Zone', 'Corrosion', 'Intercept', 'Anti-tarnish', 'Zip-lock', 'Protects', 'Schoolgirl', '13&quot;-14&quot;', 'Diego', 'Dax', '38Mm', 'Swivel-Buckle', '30Mm', 'Swivel', 'Belt,Black,38', '1-1/2', 'Suspendr', 'Paige', 'Carmen', 'Stunning', '3-Part', '(3281)', 'All-Weather', 'Pony', 'Daphne', 'Jeanne', 'Simmons', 'UV', 'Protecting', 'Non-cling', '3-Row', 'Turquoise,', '107SGSC', '809XLTRB', '809XLTTM', 'humangear', 'GoToob', '(Double)', 'Tresics', 'Hat/Fleece', 'Regale', 'JDI', 'Variety', '060-Gauge', 'Stations', 'Five-Row', 'Shot', '7&quot;', 'Omega', 'Three:', '035-Gauge', 'Singapore,', 'Bracelets,', 'Bismarck,', 'Open-Oval', 'Bar-', '-Bead', 'Explode', 'Rashguard', 'Colorful', 'Tones', 'Sanded', 'Avia', 'A325M', '96A111', 'A325W', '408188GMG', 'simple', 'stripe,', 'TOPTIE', 'Anti-UV', 'Protected', 'Coolibar', 'Protective', 'Switchflops', 'Lulu', 'Flats', 'Lindsay', 'Phillips', 'Beige/Nude', 'Research', 'Sombrero', 'Lg/X-Lg', '(10-14)', 'WAY', 'After', 'Bedroom', 'Diesel', 'Zatiny', '0088Z', 'Bonnie', 'Chin', 'Waterbug', 'Career', 'Pencil', 'Artisan', 'Dara', 'Boot,Black', 'Leather,9', 'Diagnostic', 'Shoe,Black/Dark', 'Grey,7', 'Radiant', 'Experia', 'Pieced', 'Bedford', 'Inset', 'Panels', 'Toddler/Child', 'Shadow', 'Julian', 'Danbury', 'U-Shaped', 'Thread', '2092', 'Flex-I-Bles', '2074', 'Foldover', 'Draw', 'Chain,', '7&quot;,9&quot;,14&quot;,16&quot;,18&quot;,20&quot;,22&quot;,24&quot;,30&quot;', 'Morris', 'Custumes', 'Liquid', 'Scar', 'CH2573', 'silicon', 'Mood', '#4580', 'Greek', 'Cut-Out', 'Tarnish-Free', '(0.75&quot;', 'Hammered', '(0.8&quot;', 'Arus', \"Hood'n\", 'Bathrobe', 'Optimal', 'Archee', 'Turner', 'Border', 'United', 'States', 'Iron-On', 'Saddleback', \"'N\", '(4101)', '11043', 'Monk', 'An', 'Elan', 'Usa', 'Dress/Skirt', '(RL407)', '442LB01', '(5-5.5mm),', '100&quot;', 'Athena', 'AETREX', 'Orthotics', 'Orthaheel,', 'athletic', '(Tall)', 'Brewha', 'Short,', 'Mud,', 'XX-Large', 'Stalk', 'Native', 'Solo', 'Discrepancy', 'Lift,', 'Pack.', '13&quot;', 'Peached', 'Marc', 'Jacobs', 'MMJ', '098/S', 'Wristlet', '#73287', 'Bailey', 'Crocodile', '11.5&quot;W', '14&quot;H', 'Granbury', '653', '#4049', 'Gorgeous', 'Cross-Dye', '#4584', 'RX5154', 'Eyeglasses', 'long.', 'Peacock', 'Rene', 'Rofe', 'Peek-a-Boo', '21195', 'G-String,', 'Bacara', 'Boiling', 'Suede,8', 'Fash', 'Bag,gift', 'KD', 'dance', '5773', 'Bright', '42310', 'UltraThin', 'Light,', 'Visi', 'Iii', 'Nbk', 'NoZone', 'Heart-Shaped', 'Oraganizer', 'Stand', 'Wayfarers', 'Wardrobe', 'Briefs,Black/Grey,2XLarge', 'MR1906', 'NBX', 'Shoe,White/Black/Gold,9.5', 'MW410', 'Claudette', '7MM', '5to', 'ring', 'large', '8MM', '9MM', 'Multi-faceted', '1.5ct', 'OTBT', 'Springfield', 'Sparkle', '3.8mm', 'Fred', 'Twin-Tipped', 'Elope', \"Where's\", 'Waldo', '421-Jane-G', 'Am/Pm', 'Pill', 'Shanghai', 'Kimono-', 'Handpainted', '(Long)', '(Short)', 'SPF&reg;', 'Bordello', 'Teeze-06', 'Adult-Miss', 'Afro', 'Seduction', 'FunWorld', 'Goth', 'Maiden', \"Feelin'\", 'Groovy', 'Movie', 'M373G', 'Thorlos', '(1009)', '1X', 'Alan', '188404', 'Ashford', 'Plantation', 'Moccasin,Chestnut,7', 'Gore', 'iZUMi', 'Transfer', \"L'ovedbaby\", 'Unisex-Baby', 'Gloved-Sleeve', 'Trust', 'T-shirt,', 'T-shirts', ',Black,10', '92', 'GW6900-1', '&quot;G-Shock&quot;', 'G7900-1', 'GShock', 'G7900A', 'BG169R-2', 'Baby-G', 'Whale', 'BG169R-4', 'BG169R-7A', '&quot;Baby-G&quot;', 'BG169R-8', 'Take', 'Singlet', '#2556', 'Flexees&reg;', '(WYOB)', 'Torsette', 'Briefer', 'T2N105', 'T49713', 'Majamas', 'Cullotes', 'petti-pant', 'bloomers', 'boxer', 'ASSETS', 'Blakely', 'Fantastic', 'Firmers', 'A-206', 'Equestrian', '(10)', 'Guard', 'HOTLOVE', 'Eyewear&reg;', '6203', 'w', 'Gradient', 'SWG', 'EYEWEAR&reg;', '5007', '2009', 'Diamond-Shaped', 'Adidas', 'ClimaCool', 'A62', 'Rampage', 'Carlie', 'Marcasite,', 'Epoxy', 'Chicago', 'Fleur', 'De', 'Lis', 'Eco', '&quot;Buddy&quot;', 'Vedette', \"'Sophie'\", '#705', '(Hanging)', 'Four-Leaf', '46', 'Bioworld', '9-9.5', '(0.02', 'Cttw,', 'G-H', 'Manual', 'G-Max', 'Waterproofer', 'Juney', 'Canary', '(ML)', 'Antonio', 'Mckey', 'Suede,10', 'pc.', 'Initial', 'Handkerchiefs', '3pc.', 'Stabilizers', 'Concave', '9mm', '6-14', 'Renova', 'Parisian', 'Graham', 'Days', 'Kid/Bid', 'Kid', 'Glisten', 'Got', 'Dinner', 'Technical', 'Spock', 'Next', 'Generation', 'Phaser', 'GEL-TRX', 'GEL-Trx', 'Throw', 'beatiful', 'colours', '(Approx.', 'Approx.', '80&quot;)', 'Beaded', 'one', 'Briggs', 'Dozen', 'GEL-Strike', 'Veterinary', 'Resistance', 'Hawaii', 'Update', 'APV-2641HD', '484132', '481166', 'Reducers', 'Multi-striped', 'Legwarmers', 'Spec-Ops', 'T.H.E.', 'Deane', 'Newmann', '(EcoComfort);', 'Texere', '2-In-1', '(Ecovaganza);', 'Antix', 'Vibration', 'Unifyy', 'Bengaline', '(Regular,', 'Petite)', 'Working', 'Destination', 'PMW', 'SD103', 'Social', 'No-Iron', '441165', 'Daughter', 'Chamilia', 'Biagi', 'Mid-Rise', 'Brave', 'Allison', 'Grows', 'Friend&quot;', 'Finding', 'Someone', 'Can', 'With,', \"Can't\", 'Without&quot;', 'Catch', '&quot;Sisters&quot;', 'Musical', 'Note', 'While', 'Their', '51504', 'shoe', 'Splendid', '#71175', '#72175', 'Copacabana', 'Tunic/Cover', 'Straight-Fit', 'Slim-Fit', 'Compulsions', 'SR', 'Pant,Black,40x29', 'Closure,17.5&quot;', 'Pressed', 'Gracee', 'Yupoong', '6277', 'Wooly', '6-Panel', 'pouch', 'JMP44', 'Kayaking', 'Superlight', 'Tr90', 'Boot,Black,8.5', 'Awesome', 'Ben', 'Wedgies', 'Labcoat', 'Scru-', 'Sku:Landau7003WWP12/14;', 'Color:WHITE;', 'Size:12/14', '12/14', 'Ultrashimmery', 'D605W', 'Advantage', 'Classy', 'P13', '(9-10', 'GT', 'Inside', 'isABelt', '(up', 'inches)', 'Double-Layer', 'Warmer,', 'Chelonia', '150', '5th', 'Ave.', '&quot;Guardian', 'Protect', 'Keep', 'Harm&quot;', 'Knows', 'Song', 'Sing', 'When', 'Forgotten', 'Words&quot;', 'Trasparenze', 'Tri-fold', 'Anchor', 'CLEAR', 'LENS', 'Sunglasses.', 'Denali', 'ANLP', 'Washbag', 'Dorfman-Pacific', 'Weathered', '2410', 'Whites', '36-inch', 'Notched', 'Clog,Pink,9', 'Mukluk', 'AT0810-55X', 'AT0810-12E', 'Atlantic', 'Clog/Nursing', 'Whole', '6-11)', 'CSWB', '4-Pack,Small(28-30&quot;)Assorted', '3321', 'Stack', \"'em\", '3331', 'Catch-All', '3302', '3301', 'Landau', 'Gogh', '&quot;Irises&quot;', '3322', 'PLUS', 'Saress', 'Choose', 'ICEtrekkers', 'Chains', 'Snood', '96A108', 'Mechanical', 'Elodie', 'Mutsy', 'Browser', 'Tear', 'EcoTread', 'Showstopper', 'Timeless', 'Spice', 'Teknik', 'DS03', '2027', 'EM1', 'Agility', 'Toddler/Little', '3800', '700', 'SD108', 'Vanessa', 'FREE1', 'Brothers,', 'T7B151', 'Ballerina&quot;', 'Diplomat', '31-586', 'Eighteen', 'IC', '31-57514', '(V401)', 'SoleMates', 'Heeler', 'Protector', 'Adi', 'GOO', '3.7', 'OZ', 'debra', 'Staheekum', 'Silverton', 'Skullduggery', 'SHIRLEY', 'OF', 'HOLLYWOOD', '90106', 'Graphic', '78&quot;', '35+', ')', 'Reeinspire', 'Enfield', 'BellyMoms', 'Sophia', 'Smocked', 'Texcyngoods', 'Framed', 'Whimsical', 'U0620013', '408177RED', 'FULL', 'TILT', 'Rectangular', 'Bezel-Set', 'Chevron', '(8-8.5', '204589ORGY', 'Foundation', 'Nerd', 'Lenses', 'Victor', 'Radio', 'Tyme', 'China', 'Womans', '(Red)', 'Duramo', 'WIth', 'Flops', 'Klassics', 'Triple-Circle', 'Bright-Cut', 'Amore', 'Elasticity', 'Stability', 'SAK', 'Iris', '6Pcs', 'Several', 'Yachting', 'Yacht', 'Juniper', 'Sweaty', 'Headband,', 'Circuit', 'Circuit-7', 'Frogskins', 'Stripe,', 'Floral,', 'Giraffe,', 'Sandpiper', 'Bugout', 'Rieker', 'L1751', 'Celia', '51', '206', 'Friendship&quot;', 'Spartan', 'Empress', 'Boob-eez', 'Headlight', '6cm', \"24'',\", 'many', 'Colors!', 'straps', 'SAND', '34', 'plus', 'sizes!', '44-3xl', 'Hadley-Roma', 'MSM906RA-220', '22-mm', 'Englander', 'Millefiore', 'Strands', \"16''-\", \"19''\", 'Shower', 'Bath', 'Girl-Nylon', 'Wish', 'Oyster', 'Gp', 'Crosshair', 'Speeder', 'Illuminescent', 'Light-Up', 'Puma', 'Tune', 'TSAA31-576', 'Id', 'Incredible', 'GEL-Kanbarra', 'GEL-Kayano', 'Boreale,', 'Rose,', 'GEL-Resort', 'Shoe,White/Orchid/Silver,6.5', 'GT-2150', 'Shoe,White/Lightning/Island', 'Blue,6', 'Shoe,White/Brass/Black,10', 'D(M)', '&quot;Houndstooth&quot;', '&quot;Summit', 'Hondo3', 'Snowtop', 'Bunting', 'Block', 'BAZIC', 'Eclipse', 'Backpack,', 'Inch,', 'Half-Masks', 'dz)', 'Absobent', 'Bibs', 'Chef', 'Veterinarian', 'Swimsuit,Black/Charcoal,34', 'Cruiser', 'Terra', 'FI', 'Ventura', 'Cork', 'Sandal,Amanite,7.5', '122/S', '6-Prs.', 'TRU-SPEC', '24-7', 'Hd', 'Wraparounds', 'May', 'Vary)', '2013', 'Latch', 'Sajen', 'Sandal,White/Purple', 'Light/Purple,8', 'Overs', 'Lambswool', 'Aran', 'Nana', 'Climber', 'ZnO', '**', 'Commander', 'Childrens', 'Flurry', 'TP', 'Finish,Black,6x31.5', 'Zorrel', 'Insect', \"Ho'okipa\", 'MJ', 'Logo-Sleeve', 'Briar', 'Buffalo', 'Hippie', 'Jesus', 'J141', 'Jackson', 'PhD', 'UltraLight', 'J.Renee', 'Dayna', 'Warmer', 'Sneaker,Black/White', 'plaid,8', 'Un.Parody', 'Sem-Fit', 'Pant,Black,Large', 'Systemic', 'Joslin', 'Maude', 'Climacool', 'Climalite', '(2-Pack)', 'QTR', 'White/Aluminium/Black,', 'Cushioned', '3ST', '3-Stripe', '3STR', 'CR', 'Superlite', 'CC', 'Scrubber', 'Travel/luggage', 'Electronic,', 'Display,', '85', 'Lbs', 'WC3401LS', 'Hue', '#2121286', 'Threads&reg;', 'Ghostbusters', 'Ghost', 'Watchman', 'Sceptre', 'Pattern', 'Jett', 'Cenzo', 'Vecchio', 'ReviveX', 'Nubuck,', '(Silver)', '72', 'Tier', 'T-Bar', '48', '4x5&quot;', 'Baridi', 'Ariel', 'Fora', 'Opal', 'Double-Knot', 'Travelpro', 'Walkabout', 'Rollaboard', 'Suiter,', 'Overland', 'Donner', 'Marvelous', 'Terrific', 'A-158M', 'Lorraine', 'Rainboot', 'Shoe,Pink', 'Buzz/Yellow/Teal,8', 'Kuldip', 'Feetures', 'Glycerin', '(1100731D', '710),', '8.5', '180s', 'Tahoe', 'Legging,', 'Alice', 'Pedag', 'Cushoins', '96B104', '98D107', 'Bavarian', 'Guy', 'Kambi', 'Kea', 'Land', 'Breakwall', 'Maya', 'Luigi', 'Armband', 'Pirates', 'Quartz,', 'Goldtone', 'MK5191', 'MK2165', 'Toby', 'Accessory,', 'Wet', 'Jenn', 'F201WA-9A', 'Multi-Function', 'WV200DA-1A', 'Multi-Task', 'Tempt-35', 'Mary-Jane', '266', 'Bolivia', 'Plating', 'Chunky', 'Curb', 'Layered', 'Star-16G', 'Madeira', 'Sandal,Black/Black,7', 'Flat,Black,10', 'Florence', 'Slide,Black/Black,6', 'Crocband', 'Jaunt', 'Farrah', 'Sandal,Gold/Oyster,7', 'Frances', 'Modi', 'ABF', 'Flop,Black,9', 'IVATION!', 'lock', '(With', 'Indicator', 'If', 'opened', 'TSA)', 'Cummerbund', 'Milled', 'Lamb', 'Secretary', 'Wallet,Black,One', 'Keeley', 'Tasseled', '(Small)', 'Megane', 'Works', 'WCCW', 'Mans', 'CSBA-BCS', 'Chalk', 'Pockets,', '34-1/4-Inch', '27-Inch', 'Width,', 'Black/White', 'A500-BCM', 'Apron,', '34X24,', 'CHAT', 'DFAO-BLK', 'Vent', 'Beanie,', 'Tirra', 'Psyclone', 'Cloud', 'Indestructible', 'Fratelli', 'Orsini', 'Bestselling', 'Lamaze', 'Office', 'Add', 'Ons', 'Gangster-15', 'Cyber', 'Watch-', 'Carole', 'Gown,', 'ProGrid', 'Saranac', 'Folter', 'TEACHERS', 'PET', 'MICRO', 'MINI', 'SKIRT-', \"''Savitha''\", '752433BLK', '752942BLK', 'Tanza', 'Katavi', '(1.0&quot;', 'GW-530', 'GW-500', 'Elven', 'Tips', 'Experience', 'Rn2', 'High-Neck', 'll', 'Gotoob', '1.25', 'Carabiner', 'Saltwater', 'Caper', 'Rafters', 'Cloudbreak', 'Flop,Amber', 'Multi,6', 'G7900A-7', 'LUXE', 'Extension', 'Tinsley', 'Transfers', 'Tattoos', 'Funky', 'Yeti', 'COLOR', 'Choices', 'Delfin', 'Bio', 'Ceramic', 'Cellulite', 'HT', 'Helly', 'Hansen', 'Voss', 'K20', '3-10', 'Waistnipper', '1.75&quot;', '(Brown)', 'Uplift', '3227,Black,38C', 'DYO', 'T2M567', 'Wave.Tract', 'Buckingham', 'Granada', 'Ergodyne', 'Chill-Its', '6615', 'High-Performance', 'Dew', 'Rag,', 'Alliance', 'Prints,Multi,4', 'Briefs,Multi,4', 'Prints,Multi,2T/3T', 'Spider-Man', 'Hardwear', 'Grade', '6MM', 'Alegro', '(9001A)', 'IAS3720', 'IUSA3810', 'Supportive', 'Cushioning', 'Del', 'Rossa', 'Knee-Highs', 'Lowa', 'Se', 'Night', 'Torino', 'Mosaic', 'Vega', 'Lush', 'Cheeky', 'Badgley', 'Mischka', 'Randall', \"d'Orsay\", 'Gigi', 'Gino', 'Valentino', 'Glaze', 'Sterling-Silver', '8-MM', 'Set!', 'Callalily', 'Penguin', 'Bumble', 'Bee', 'Rogue', 'Silver-Teal', 'Two-Toned', 'Flashed', '&quot;If', 'Imagine', 'It&quot;', '&quot;Mother', 'Daughter&quot;', 'Tri-Colored', '&quot;Choose', 'Path.', 'Thine', 'True&quot;', 'Shakespeare', 'Three-Charm', 'Tully', '&quot;MIDNIGHT&quot;', 'WIDE', 'AGED', 'WATCHBAND', 'WRISTBAND', 'Adventure-Front', 'Country', 'BlackOut', 'Wibbly', 'Wobbly', 'Quote', 'A9995', 'Avi-Motion', 'iShape', 'Toning', 'Touring', 'Thallium,', '4/31', 'Body-Sensors', 'Inov-8', 'F-Lite', '230', 'SMU', 'Cross-Training', 'pk-Multicolor', 'Juxt', 'MR1012', 'Nbx', 'Shoe,Silver/Blue,8.5', 'WR1012', 'Vine', 'Beatnik', 'Zable', 'Starter', 'Charles-Hubert,', 'Italy', 'Navette', 'Vines', 'SuperDome', 'Open/Close', 'Angelfish', 'Oat', 'April', 'RUCHED', 'SEXY', 'LEOPARD', 'STRAPLESS', 'PARTY', 'BERRICLE', 'Silvertone', 'Motif', 'Janey', 'Paloma', 'Sonora', 'LWES100', 'Geneva', 'Silicon', 'Watch,', \"Kid/Women's)\", 'Lila', 'Kaley', 'front,', 'Red-S', 'MIDTHIGH', 'SHAPE', 'SUIT', '345', 'Striper', 'Laceless', 'Rebound', 'Phoebe', '414-Flapper', 'Penthouse', 'Garbo', 'Chasity', 'Paper', 'Mache', 'Rolled', 'Emo', 'Rising', 'Interconnected', 'Roots', 'Ambitious', 'Emma', '109069MPTT', '&quot;X&quot;', 'Abbey', 'Fold-Over', 'Tote,Bourbon,one', '46001', 'Northstar', '1050', 'HD', 'Tuff', 'Gear/Duffle', '(14', '30-Inch', '24-Inch', '(16-Inch', '40-Inch', 'Eskimo', 'Kisses', 'G-7900-3DR', 'GB100', 'Leather/Spandex', 'Black,7', 'PAW2000-1CR', 'Pc', 'JT6219', '1592', 'AA4070', '3.5', 'Cover-up', 'Shade', 'Dock', 'Hobo,Vintage', 'Brown,one', 'St.', 'Johnsbury', 'Authority&reg;', 'CRBN&reg;', 'Dimrs', 'Self-Adhesive', '(Dimr)', 'scarf', 'shop', ':', 'Packs', '6620', '6621', 'Nu', 'Speartint', 'Wise', 'Serena', 'Sandal,Java', 'Waxy,35', '4.5-5', '5100BL06', 'Shoe,', '5102BK06', 'J-Bay', 'Playa', 'Negra', 'Pawz', 'Laguna', 'EVA', 'Set,White,One', 'Golden', 'MK5166', 'Lowepro', 'Camera', '(Gray)', 'Anklet,', '36&quot;', 'Duffel,', 'Size/13', '12-Inch', 'Wilton', 'Tag,', 'Bride', 'Groom', 'RENE', 'ROFE', 'Burlwood', 'Kalso', 'Earth', 'Lucas', 'XOXO', 'XO3042', 'Cultered', 'Engineered', '(Coyote', 'Tan,', 'Small)', 'Racing', 'Legacy', 'June', 'Bug', 'Kiss', 'Tell', 'Sandal,Black,7', 'Unicorns', '(Purple),', 'Gnomes', 'Whales', 'Bad', 'Ass', 'Birds', 'More', 'Kit,', '(Large', 'Head)', 'JT6218', '5-Piece', 'Pant,Caramel', 'Khaki,33x30', 'Keaton', 'W20S44E', 'clover', 'Boardshorts', 'Drawstring,', 'Hitch', 'Quiksilver', 'Manic', 'Bigg', 'Tackle', 'T5K389', 'Slip,', 'MK5165', 'Blair', 'Sport-Tek', 'raglan', \"men's\", 'youth', 'baseball', 't-shirt', 'Absorbant', 'Simplytone', 'StaysTM', 'Clown', '2.25', 'Rhumba', 'Slipper,', '(6.5-7.5)', 'Captain,', 'Bellingham', 'No-Bounce', 'Full-Support', 'Knitted', 'Cab', 'side', 'buckle', 'Magician', 'Butler', 'Dash', 'Sandal,Desert,5.5', 'Sydney', 'Burlesque', 'Smoothers', '(7-8mm', '),', 'Handbag,Black', 'Gowns', 'Robes,', 'ONE', 'FITS', 'MOST', 'Pierre', 'Sandal,Black', 'Leather,10', 'UW', 'Thumbring', 'WW846', 'WW812', 'MT876', 'Runner,Red/Black,13', '2E', 'MT461', 'Runner,Black,9', 'MC804', 'Shoe,White,8.5', 'MW846', 'Lennon', 'NOBLE', 'MOUNT', 'Hi-fashion', 'MW812', 'Nevados', 'Boomerang', 'Boardwalk', 'Boundaries', '(Crew)', 'VASSARETTE', 'Poster', 'Dispatch', 'Sunglasses,Matte', 'Frame/Grey', 'Fuel', 'Pietra', 'P52', 'Running,', '41', 'OT', '15-20mmHg', 'Baltimore', 'Ravens', 'SNK793', 'SNK809', 'Angya', 'Asana', 'Borre', 'Norse', 'dressup', 'Halloween!', '(2T-4T)', 'Screw', 'Bayberry', 'Alexis', 'Vero', 'A/B', 'C/D', 'Juno', 'FS4487', 'FlashPoint', 'Reflection', 'Zensah', 'Overlapping', 'BONE/BLACK', 'Pendleton', 'Riverstone', 'Goods', '6-PACK', '(6-Pack', 'Assortment/', 'All)', 'White/White', 'Stretch-Aerosol', 'Knee-length', 'Trim,', '2X,', 'Okkatots', 'Depot', 'Wardrobe,', '738811000', 'Stick/Shoehorn', 'Suit,', '860', '19258', 'Rank', 'Insignia', 'v-neck', 'top', 'print', 'accented', 'O-ring', 'EVogues', 'O-Ring', 'Clicktop', 'Clutchless', '4x20', 'Starburst', '2400L', 'Tifosi', 'Lust', '2040', 'Solids', 'Ticonderoga', 'Franconia', 'Sportster', '6411', 'Python', '6412', '#64360', 'Curvation', '(5304628)', '44C/Black', '(9292)', 'WX623', 'MW967', 'Shoe,Brown,8', 'MW606', 'Shoe,Brown,9', '4E', 'MX623', '2-Pc', 'SM,', 'MED,', 'LG,', 'SM', 'Espadrilles,', 'Purple,', 'Crisscross', '5X,', '5X', 'Dinosoles', '3D', 'T-Rex', 'LT', 'Kid),Black/Tan,2', 'Sumdex', 'DSLR', 'Camera/Notebook', 'Brockton', 'D.M.', 'Merchandising', 'Dolphin', 'ColdPruf', 'Glamgirl', 'Sandal,Red,12', 'Meow', 'Sandal,Black,12', '4537', 'LIGHTWEIGHT', 'DESERT', 'SCARVES', 'Novelty', 'Sequins', '(8090)', 'footie,', '1B99,', 'Eyelet,', 'Boots,', '(UK', '9)', 'OD', 'B&amp;T', 'Wave.Cruise', 'Wave.Wheel', 'Wave.Run', '2.16&quot;', 'Bang', 'Theory', 'Algorithm', 'Platypus', 'Phineas', 'Ferb', 'DAZZ', 'Gusseted', 'Cedar,', 'D-Lux', '2011,Black/Gunmetal/Rev', 'Red,S', 'TravelSafeTM', '20L', 'layer', 'Laser', 'Etched', 'Florentine', 'Sandal,White,7', 'Drive', 'Thong,Black,8', 'Thong,Black,9', 'Rugby', 'Devotion', 'Sienna', '21', 'Accentz&trade;', 'Assortment', 'Qty', 'comes', \"Misses'\", 'Sizes,', 'Mint,', 'BLUE,', 'Lace-Trimmed', '3X', 'Lavender,', 'Frenchy', 'Humangear', 'Cudas', 'Flatwater', 'Faceted', 'Bravo-fit', '5-8', '2pc', 'IMPROVED', 'version', 'beautiful', 'construction!', 'Kymaro', 'Top/Bottom', 'Nautilus', 'N1704', 'Composite', 'On-Strap', 'Zoe', 'Cami,White,Med', 'Wholesale', 'Squares', 'Burnt', '(Rust)', 'Wine', '96C105', 'Lover', 'R23008', 'Prints/Solids', 'Gatsby', 'Attack', '10-Pack', 'Paw', 'pack)', 'Choker', 'Adrian', 'Lilyana', 'Tapp', 'Breasted', 'Handcrafted', 'Austrian', 'Icicle', 'Jessie', 'G.', 'Raccoon', 'Daniels', '5)', 'Pairs,', '9-11', '5249S', 'Middleton', '5ct', 'Cushe', 'Manuka', 'Nylon/Lycra', '375', 'lbs!', '(Morning', 'Dew)', 'PJs', 'TexereSilk', '(The', 'Riviera)', '(Bamboo', 'Bliss);', 'Bootights', 'All-in-One', 'Multi-Colors', 'Bagg-', 'Tote-', 'Yorker', '(AS196', 'AS302)', 'Exer-Walk', \"D'Lite\", 'Dazzles', 'Sneaker,White/Silver,5', 'Sheng', 'da', '8719', '(35+', 'Collection,', 'Piece,', '0-3', 'Retractable', 'Dahlia', '&quot;Cafe', 'at', 'Night&quot;', 'Anniversary', 'Stackable', 'Pyramid', 'Weiman', 'Wenham', 'One-Size', 'Cube,', 'Folder', 'Sac,', 'Ink', 'Painting', 'Lobster', 'Bulb', 'Earrings-Assorted', 'Scrunch', 'Trip', 'Wallaby', 'Mountaineering', 'WigWam', 'S1221-052M', 'Clothes', '10-Pack,', 'Onesie', '96B119', 'Footracers', 'Sneaker,Silver/Lavender,7', 'Classic-Fit', 'Sharkskin', 'Finis', 'Strand,', '7-7.5', 'Lords', \"Dragon's\", 'Lure', '(Stud)', '745', 'MEN', '10-13,', 'dozen', 'Burl', 'Multi-Setting', 'L515', 'Black/yellow,', 'size,', 'Gotcha', 'Chaos', '-CTR', 'Chinook', 'Tasker', 'Windproof', 'Howler', 'Repreve', 'Stria', 'Gentle', 'Souls', 'JT6341W', 'Keyblade', 'Sora', '2.81&quot;', 'Carver', '4,5,6,7,8,9,10,11)', '6477', 'Structured', 'Brigade', 'Slip-Resistant', 'Bullet', 'Indio', 'Inlaid', 'Beveled', 'Edges,,', \"Shiva's\", 'Yin', 'Yang', 'GW7900B-1', 'DR.', 'WHO', '--', 'MENS', 'TEE', 'Works-Kiss', 'Ornament', 'Midenform', 'Patagonia', 'Maha', 'P60', 'Kings', 'Floto', 'Venezia', 'Duffle,', 'Brown,', 'Apricot', 'Maroon', '109168IVBN', '109168WTWT', '109169WTBK', 'Jean,Indigo,1', 'Xspace', 'Spinner,', 'Mars', 'Circulator', 'Artistic', '(OC-054)', 'Gossip', 'Candence', 'Handy', 'Solutions', '525', 'Elisha', 'Pump,Bronze,10.5', 'Mickey', 'Mouse', 'Clubhouse', 'Minnie', 'Trustee', 'Cantera', 'Vamp', 'Carter', 'Donne', 'Reseda', 'Sandal,Briar,10', 'Evo', 'Blackout', '3051.BLACKOUT', 'Tank,White,Medium', 'Reform', 'Bryar', 'Neck,', '5.0', 'TR', 'Seasonal', '2112272', 'Multi-Use', '30W', '32L', 'Cate', 'Tundra', 'NL1586', 'Boot,Black/Stone,5', 'NL1581', 'Slipper,Coal/Intense', 'Red,8', 'Ulltra', 'Palladium', 'Pampa', 'MK5217', 'Easytone', 'Hartwell', 'A340W', 'Sheldon', 'Bazinga!', 'Perforated', 'Detroit', 'Foreman', 'GEL-Rocket', 'Volleyball', 'Borealis', 'GEL-Nimbus', 'GEL-Cumulus', 'GEL-Trabuco', 'Shoe,Platinum/Black/Violet,10', 'GEL-Enduro', 'Shoe,Lightning/Black/Royal,10', 'Shoe,Silver/Lightning/Turquoise,6', 'GEL-Antares', 'GEL-Express', '1.8', 'as', 'Ultrabraid', 'w/Hair', '&quot;Cocktail', 'SIZE&quot;', 'Wonderland', 'Eyepatch', 'BM8475-00X', 'EW1540-54A', 'EW1544-53A', '437W', 'FLEECE', 'POCKET', \"54''-\", 'Fandori', 'Contrasting', 'B299', 'Buckets', 'Bracelet.', 'Watertight', 'XA', 'Bra,Beige,40C', 'Contoured', 'Mini-Pique', '13-Inch', 'Relaxed-Fit', 'WW1442', 'Rock', 'G2310R-1', 'Shirred', 'Loom,', 'sport', 'bras', 'T-Lite', 'VIII', '(8.5)', 'Optic', 'Nerve', 'Axel', 'Sides', 'Mediterranean', '33', '.80', 'Oceania', 'Bolton', 'Ipswich', 'navy,', '(2.2&quot;', '(1.4&quot;', 'Click-Top', 'Dagger', 'Diamond-Shape', '2.2&quot;', 'Elongated', 'Rae', 'Kenzie', 'Shyanne', 'Savanna', 'Kiki', ',Black,38', '7.5-8', 'Professional-Marbled', 'Bifold', '782', '2.1', 'ct.tw', 'Crusher', \"Infants'\", '119', 'BASIC', 'Southpole', 'Jeggings,', 'Storm,', 'L2551', 'Stampede', 'Sorrel', 'Apache', '3MM', '-Crazy2Shop', 'Hobo/Handbag', 'Beast', 'Bargain', 'Headbands,', 'Sophisticated', 'Bohemian', 'Paisleys', 'Punk', 'Shape-Ups', 'XT', 'Crazy2Shop', '&quot;10', 'Skulls&quot;', 'Deferent', 'all', 'around', 'Bethel', '26639', 'Panties,Assorted,5', 'Panties,Assorted,6', 'boyshort', 'Pantys,Assorted,6', 'Pack-Black', '(3P540)', 'MoonTree', 'Eco-Heather', '1985', 'H-Fly', 'BLACK,', 'BudK', 'Thors', 'Hammer', 'Surrounded', 'Sparkly', 'Rhinestones', '72130', 'T5K412', 'Oversize', 'T5K413', 'Peepers', 'Boxerjock', 'Cinema', 'Etoile', 'Strollers', 'Bubblegum', 'Pace', 'Finlay', 'JMAV6', 'Cheshire', '800M', 'Un.Believable', 'Kanyon', 'Sunport', 'Kid),Camo,13', 'Muff', 'Sharina', '&quot;Be&quot;', 'Graffiti', 'Childs', 'Day&quot;', 'Takes', 'Hand,', 'Opens', 'Mobius', '&quot;Live', 'Love&quot;', 'Well', 'Reckoned', 'Nature-Ralph', 'Emerson&quot;', '&quot;I', 'More&quot;', 'Follow', 'Star&quot;', 'Multiple', 'VIBRAM', 'TrekSport', 'Tooniforms', '6875C', 'Guayabera', '3X-Large', 'Lorissa', 'Alpenglow', 'Bali-Inspired', 'Wispen', 'Mocc', 'Basalt', 'Banni', 'Mocc-Toe', 'TR22', 'Slingsax', 'Ariza', 'Balconnet', 'Effect', 'Fitsover', 'P77', 'XX-HI', 'Unlisted', 'File', 'FT40', 'Rate', 'Monitor', 'Coronado', 'N09908G', 'Hamburger', 'A7828L', 'Mallory', 'Flaps', '(3008)', 'Energie', 'TDEZ-ROUND-SET', 'Sparkling', '(1/20', 'DuffelGear', 'PAYSBAR178A', '1.78mm', '360', 'Pieces', 'Microphone', 'Ultimate-Run', '#5044', 'Caryssa', 'Eternal', 'Interlocking', '18&quot;/20-24&quot;', 'Athalon', 'MK5216', 'Topaz,', 'Hobart', '375833', 'Moontree', 'Joes', 'Frame/Color', 'Ten', 'Brooklyn', 'Canuck', 'Boot,Black,6', 'Flat,Black,6', 'Lenora', 'Kaela', 'Flat,Black/Black,6', 'LR542BK', 'Polyester/', 'Closure,', '48&quot;', 'Lightstorm', 'MA1', 'MA-1', 'Wrapped', 'Clog,Black/Black,4', 'Flat,Bijou', 'Clog,Sky', 'Blue/Mushroom,11', '(B)', '(D)', 'Surrey', 'Clog,Black/Black,6', 'Berryessa', 'Croccasin', 'Toyah', 'Give-N-Go&reg;', 'Mendon', 'Pour', 'Victoire', 'Irina', 'Tug', 'Boat,', \"D'Lites-Opal\", 'Rumblers-Home', \"'Arizzo'\", 'Lotta', 'Tivoli', 'NL1627', 'Boot,Black/Grout,10.5', 'Cherry/Natural,', 'RB4147', 'Boyfriend', 'APL75', 'TRPL27', 'Flexframe', 'Tiered', 'Above', 'Bugaboot', 'Omni-Heat', 'Fault', 'XF', 'Accelerators', 'Blast', 'XF-Superstep', 'Comfortshape', 'This', 'Doorman', 'Uplifting', 'Pushup', 'Strapless.', 'Sandal,Brindle/Port', 'Royale,6.5', 'Sensation', 'Waleo', 'Underwear,', 'Nick', '(Straight,', 'Style)', 'BabyLegs', 'Looking', 'Faraway', '109179WTWT', 'Northside', '910826W', 'Boot,Black,10', 'Smokey', 'Branch', '&quot;Wild', 'Game&quot;', 'months', 'Years', 'Raw', 'Closed-Back', 'Textile', '(9.5-10', 'Women)', 'Overall,Vintage', 'Wash,2T', 'Brachiosaurus', 'Adult/Child', 'TMNT', 'Castle', 'Stamina', 'Nuovo', 'Asmik', 'Slimplicity', 'Open-Bust', 'Prosafe', '750', 'Key-Card', 'pr', 'Gen', 'WW1100', 'WW850', 'WW512', 'Service', 'MW512', 'Mx1011', '(Pkg.', '10)', '#JT6305-PIN', 'Blanc', '72886', '(8805)', '(many', 'colors)', 'Strider', 'Train', 'Cars', 'Fireball', '9002908', '9002892', '&quot;Star', 'Luke', 'Skywalker&quot;', 'GW2310-1', 'Tissue', 'T-Shirt,Black,Medium', 'Jayne', 'Dichroic', '13)', 'Bra,Black,Small', 'BEIGE', 'soft', 'sleeveless', 'nightgown', 'solid', 'panty', 'sexy', 'satin', 'bikini', 'Jellypop', 'Kiera', 'Sandal,Bronze', 'Multi,8.5', \"Cleversilver's\", 'Pant,Black/White,Large', 'Dakine', '33-Litre', 'Panel,', 'M265W', 'M990', 'Carmel', 'FLOSO&reg;', 'Ladies/Womens', 'WOOL', '3)', '(6.5-9.5)', 'Detective', 'Boot,Chocolate,7.5', 'Nmw0593,Black,7', 'Lil', 'Bits', 'Nmw0613,Black,7.5', '0590,Grey,9', 'Feature', '8811-White-O/S', 'ULTRACLUB', 'Egyptian', '8516', 'Wind-Resistant', 'Coaches', 'Aspen', 'Striated', 'DP165W', 'D670W', 'Isla', '(5002)', 'Camisoles', 'Pak)', '4.2', 'Mill', 'J.B.', 'Pairs)', 'Carrera', 'Speedway/S', 'Navigator', 'Frogg', 'Toggs', 'Pollywogg', 'Trainmen', 'L-Nude', 'Rustic', 'Cliff', '#2121407', '#72335', '(72243)', 'CP01', 'N625', 'Tyette', 'but', 'Durable', 'dz)colors', 'red', 'polyester', 'tie', 'Durashape', 'Victorinox', 'Monosling', 'Moro', 'A9999W', 'Jr.Tyette', 'N625C', '776l', 'Starfleet', 'Command', 'Division', 'Prop', 'Supersoft', 'Shay', 'Xc', 'Shoe,Red/Citron,12', 'Seafolly', 'Boyleg', 'Maillot', 'One-Piece', 'Citrine,', '&quot;Miami&quot;', 'AE-1000W-1AVDF', 'Sporty', 'Array', 'Fawn', '1999-084', '3-Dimensional', '9-Inch,', '2MM', \"100's\", 'Styles', 'Fisher', 'Price', 'Couture', 'Peaches', 'Decorate-Your-Own', 'Black-XL', 'Stones-Classic', 'Tongue', 'Beacon', 'Patricks', 'Shamrock', 'Cadet', 'Digby', 'Derby', 'Palace', 'Over-the-Knee', 'Para-Cord', 'Survival', '&quot;Black&quot;', 'Silly', 'Triceratops', 'Collage', 'Yo', 'Gabba', 'Brobee', \"Men'S\", 'Inaly', 'Target', 'M750', 'D555W', 'Five-Star', 'Scottish', 'Thistle', '11mm', 'Underwire,Nude,34C', 'Batista', 'Study', 'Overnighter', 'Incantasia,', 'Madhatter', 'eyebrows', 'Alba', 'Talia', 'Hot-Ticket', 'Bikers-Out', 'About', 'Taos', 'Prize', 'Sandal,Pewter,7', 'Minimizer,Black,36D', 'Lillian', 'Mr.', 'Mrs.', 'Covers,', '4-Inch', '5.5-Inch', '(Z62)', 'Lampwork', '(14mm', '10mm)', 'Troll', 'too)', 'Currency', 'Petaluma', 'Bikila', 'Vagden', 'CUT-UP', '14kt', 'Izumi', '(2121260)', 'Approach', 'Slip-On,Black,9.5', 'Chaser', 'Freewheel', 'gram', '1999-1612', 'Polyresin', 'Wicking,Winter', 'White,X-Large', 'Wicking,White,Medium', 'XW', 'Hyperactive', 'Ups-Hyper', 'Seven', 'Til', 'Frames', 'Brown)', 'Cow', 'Precious', 'CAR02', 'BellyLady', 'Veil', 'Beads,', 'GEL-1160', \"(Women's)\", 'Zebra,', 'Damask,', 'Shirt.', 'L562', 'Britches', '4oz', '!!!', '108', 'drawstring', 'Trabagon', 'Ropper', 'Croc/Black', 'Nubuck,9', 'SMY111', '(Petite', 'Length)', 'Galaxie', 'Molly', 'Seashell', 'Queenberry', 'Tote,', 'Swimbay', 'Monokini', '106/107', 'Brixton', 'Brood', 'Raincoat', 'Coupon', 'Receipt', 'MICHAEL', 'Hamilton', 'E/W', 'B6005', 'Disco', 'Bunny-Boogie', 'Keepsakes-Brrrr', 'Keepsakes-Freezing', 'Temps', 'Spartan-Snuggly', 'Decorated', 'Invisibles', 'Torset', '8619', 'Chocolate/Tan', 'RSG', '-Pack', 'Kirei', 'Fave', 'Banjo', 'Ed', 'Garments', \"O'Neill\", 'Wetsuits', '1&times;1', '2000', 'Papi', 'Jockstrap', 'Sackpack', 'Dangling', 'Coins', 'Dancing', 'favorite', 'color)', 'Rfid', 'Tipped', 'SCARF_TRADINGINC&reg;', '6454', 'XO111', 'Silver-tone', 'XO109', 'XO5210', 'XO1094', 'XO5218', 'XO115', 'XO7026', 'U.S.', 'Assn.', 'USC80038', 'Analogue', 'XO110', 'Gold-tone', 'XO7032', 'XO5211', 'XO1091', 'XO3170', 'XO3172', 'XO3182', 'XO3186', 'Rhinestone-Accented', 'XO114', 'XO7027', 'USC50012', 'USC50005', 'USC80039', 'Rimmed', '(RS71)', 'Solana', 'Sandals,', 'M/C-D', '612-W', 'Wide-Width', 'Embellished', '(18&quot;', 'Chain)', 'Moccassin', 'Varsity', 'Purple/White,', 'Medium)', 'Auburn', 'Benefits', 'Smoother', 'Fort', 'BanZ', 'Bead,', 'WW646', 'WX856', 'MW646', 'MX856', 'GA100A-7', 'AE2000W-1AV', 'AE1000WD-1AVCF', 'GA100-1A4', 'AE1000W-1B', 'W10S69F', 'A2', 'Chewels', 'McDavid', 'Rachel', '1432113', 'Multi-Stone', 'Notes', 'Vulc', 'Miz', 'Mooz', 'Bloom', 'Neff', '12.5', 'Joker', '10380', '&quot;CE&quot;', 'Branchlet', 'Jean,Stone', 'Tint,10', 'Reg', 'Tint,6', 'Sneaker,DISCO', 'Skyhawk', 'Airline', 'Laddie', 'US5159', 'Synthetic', 'US8170', 'US9047', 'US9058', 'US9059', 'US9057', 'US8208EXL', 'LWTS032', 'Zill', 'Cymbals', '21632', 'Grandby', 'Boot,Dark', 'Brown/Brown,6.5', 'Gaffney', 'Boot-Wingtip', 'Zig', 'Kadabra', 'Space', 'Saver', 'Bees', 'Inspirational', 'Sayings', 'Denver', 'Sneak', '730', 'Dm615', 'Scuff,Cadet', 'Navy,11', 'Safe-T-Gard', 'Jock', 'BCBGeneration', 'Charity', 'Dimen', 'Maleficent,', 'evil', 'queen', 'Multisizer', 'Economical', 'Sizer', 'Myles', 'Pant,Black,XX-Large', 'Tight,Black,Large', 'Ruffled', 'Evelyn', '8415', 'Tuscany', 'Higher', 'Strap,Black,One', '#3', 'Blood', \"Merlotte's\", 'Waitress', 'Bra,Body', 'Beige,32B', 'Busi-Mess', 'Sentry', 'Set,Silver,One', 'YogaColors', 'Emoticon', 'U-Neck', '4362,', '6998', 'Funworld', 'Std.', 'Kinetix', 'Signal', 'VANELi', 'Undine', 'Meadow', '608T', 'Resistor', 'Fan', 'FF', 'Superboot', 'Boot,Chocolate,8', 'Spindrift', 'DW6900-CB', 'GW3000B-1ACR', 'Accoutrements', 'Ahoy', 'Matey', 'Tri', 'Voodoo', 'Bolt', 'Aztec', 'Reconstituted', '365', 'Blanket', \"b.tempt'd\", 'Supernatural', 'Carla', 'SRT', 'Elliot', 'Clog,Black,5', 'Stopper', 'Ostrich/Snake', 'Textures', 'Kala', 'Pettiskirt', 'WW1105', 'MW950', 'WW978', 'MW978', 'Re-Invented', 'Mm', 'Overlay', 'Fold', 'Simulated', 'Etienne', 'Aigner', 'Costa', 'Towel', 'Clips', 'Full-Cut', 'Capelli', 'Rollaboard,Black,One', 'In-Power', 'Saint', 'Christopher', 'Writing', 'Camelot', 'Df898', 'Bootie,Black,Medium', '7-8', 'Cuff,White,10-12', '(3-Pack)', 'Pack,Black,9-11', 'PowerSox', 'Powerlites', 'Pack,10-13(9-12.5', 'size)', '18-Inch-by-14-Inch,', 'Tops,', 'Reenew', 'Toner', 'A340M', 'Brasserie', '1456113', 'Okabashi', 'BRACELET', 'G184', '7.75', 'oz.;', 'Lovable', 'Dirt', 'Moustache', 'Machinist', 'Crusader', 'Wenda', 'Andorra', 'Trace', 'Boot,Chestnut,5', 'Sun-On', 'Ltd', 'ProSource', 'Stand.', 'Also', 'great', 'Chain-Link', 'Balls', 'Fresheners', 'Cross-Back', 'Bloomer', 'XS/S', 'Aerobic', 'Lawn', 'Micro-Mesh', 'Criss-Cross', 'High-Waist', 'Tulip', 'Hypoallergenic', 'W/18&quot;', 'Monarch', 'Pant,Black,6', 'Chloe', 'Robot', 'Evolution', 'Encore', 'Prowler', 'Bag,Black,One', 'Portia', 'Scuff,Black,8', 'Nikki', 'Moccasin,Chocolate,10', 'Vienna', 'Slipper,Black,8', 'Tempting', 'Tresses', 'Foxy', 'Fro', 'D&amp;G', 'Gabbana', '0DD8075', 'Hoodoo', 'Boot,Black/Deep', 'Sea,9', 'Gust', 'Nova', 'Kaci', \"'Chester'\", 'Innsbruck', 'Anchorage', 'Howser', 'Supertone', 'Ugg', 'Rylan', 'Lexi', 'Hem', 'Verified', 'Come', 'Rabbits', 'Milan', 'Ergonomic', 'Massaging', 'Hammerloop', 'Tiaras', 'per', 'unit', 'Texture', 'Revolutionary', 'War', 'Colonial', 'Tricorn', 'from!', 'lengths', 'Hideaways', 'Marion', 'Morgan', 'Bryce', 'Civita', 'Pack,Black,One', 'Travelin', 'Toiletries', 'Kit,Black,One', 'Carry', 'On,Black,One', '(16&quot;,', '18&quot;,', '20&quot;,', '24&quot;)', 'Taffeta', 'Footie', 'Geo', 'WIGWAM', 'MILLS', 'INC', 'F4707-052-OS', 'WORSTED', 'WATCH', '6908', 'Tote-a-ton', 'Vacheron', 'Constantin', 'de', \"I'lle\", '80250/000R-9145', 'Touched', 'Nature', '2-pack', '35', 'MK5263', 'A4', 'Cooling', 'Guayabera,', 'Volcom', 'Webbing', 'Tabs', 'Berkeley', 'Lots', 'Occasion', 'Onesies', '#9', 'Gathered', 'Flowy', '6932', '&quot;Speedway', '#72270', 'Trademark', 'B290', 'Baby,', 'Balanzza', '100lb', '44kg', 'BZ200', 'Tibetan', 'Buddhist', 'Sandalwood', 'Mala', 'free', 'pendant', '(M)', 'Wm', 'USA-made', 'Ruche', 'feminine', 'silhouette', 'WHITE/BLACK', 'Smartouch', 'Matrix', 'Black/Beige/White,', '526', 'Bella,', 'yellow', 'non', 'comfort-fit', 'light', '7/8&quot;', 'USA!', 'Protrek', 'PAG240T-7', 'Heelys', 'Threat', 'Fergalicious', 'Alana', 'Meditation', 'Blsm', 'Bmb', '-Plum', 'Hooligan', 'Focal', 'pairs,', 'nylon', 'posts', 'Flow', 'Claws', '(Prevent', 'Slipping', 'Ice)', '6986', '6977', '6978', 'Shoe,White,10.5', 'Gemstones', \"26''\", 'Uw', 'Disappearing', 'Act', 'Ready', 'Set-Move', 'Savile', 'Patterned', 'Absolute', 'Dd', 'Coconuts', 'Matisse', 'Gaucho', 'Capsule', 'Chrome/Black', 'Laughs', '660591', 'Zen', 'Solan', 'Tropicana', 'Customflex', 'Customflex-Fit', 'Bra,Soft', 'Stripe,Large', 'Bandini', 'MOB', 'Visual', 'Module', 'Hinge', 'Let', 'Never-Iron', 'Essential-Khaki', 'BENTON', 'SPRINGS', 'GREEN', 'SX4206', 'Half-Cushion', 'Bollard', 'Bern', 'Harvard', 'HS110', 'Agla', 'Talisman', 'Nightmare', 'Elm', 'Krueger', 'Two-Row', 'Worn', 'Fangs,', 'Teeth,', 'AAES003', 'coral', 'TSHOL1328', 'TSJX1327', 'Puller', 'Sillicone', 'Butt', 'Wallaroo', 'Victoria', 'Q7B801', 'Q7B786', 'Calfskin', 'Q7B807', 'GEL-170', '170TR', 'Shoe,White/Carbon/Magenta,10.5', 'GEL-Tech', 'Neo', '2160', 'Shoe,White/Lightning/Royal,10', '4688DRED', '96B129', 'Precisionist', 'Claremont', '96B128', 'Soiree', 'Wonderboost', 'Degrees', 'Gel-Speed', 'Olmec', 'w/Removable', 'Seed', '0266', 'Luelle', 'Sandal,Black,8.5', 'Reach,Black', 'Leather,11', '(76271)', 'Vital', '~Personal', 'Caspian', 'Handsand,', 'Petites', 'Ruffles', 'w/Shoulder', 'Mod', 'Bowler', 'Vaughn', 'Triplet', 'box', 'Squeezable', 'L&amp;S', \"''Cappiello''\", '316L', 'Merlottes', 'Grill', 'T5K459', 'Silver/Translucent', 'T5K460', 'T49831', 'T2N320', 'T2N335', 'T2N369', 'T2N3369J', 'T2N313', 'T2N370', 'Balleto', 'Paisley1A-7931', 'Bodice', '3Pk', 'Qtr', 'Lennox', 'Women`s', 'Expressions&reg;', 'blend', 'Tek', 'Blocked', 'LST655', 'Touch;', 'CAR16', 'Pajamas,', 'BROWN,', 'Haylie', 'Pump,Eastern', 'Leopard,5', '456984PNK', 'Paidu', '58923', '871', 'Two-Button', 'All-Season', 'MOMENTS', 'L9154', 'whip', 'studs.', 'Cupless', 'DACIA', 'Bowknot', 'Boss', 'Socks,pack', 'Socks.', '10pc', 'Temporary', 'Tattoo', 'Tribal,', 'Dragon,', 'Skull,', 'Etc.', 'See', 'Thru', 'Evergreen', '816XSWXC1', 'Caiqi', '519', 'Darkstone,', '4x34', 'Bionic', 'Forces', 'Operator', 'Hook/Hanger', 'X-large', 'BAGS', 'LESSTM', 'Anywear', 'POINT', 'Injected', 'Lobe', '361', 'Straight-Leg', 'Nirvana', 'Pali', 'P150-110-29,', 'Garter,', 'Savage', 'BodyZone', 'G-string', 'BODYZONE', 'UN016BK', 'Thong,', 'Front,', 'Thing', 'insert', 'wallets', 'Tka', 'Microvelour', 'V0067', 'N6210', 'CVC', '3XL', 'Ja', 'Vu', 'Churn', 'Fila', 'Sculpt', 'Sneaker,White/Metallic', 'Silver/Sky', 'Blue,7.5', 'Toachi', 'Raith', 'Lint', 'Organizer,', 'Two-layer,', '3&quot;,', 'Bolo', '059', 'Aeroskin', 'Rash', 'Zip,', 'Wystere', 'Umbra', 'Twigsy', 'Tree,', 'Tarrago', 'EVO', 'Heavy-Duty', 'Hedgehog', 'XCR', 'TAXI', 'Monterey', 'Encompass', '(4-Pack)', '(4-Pack),', 'White/Grey,', '(6-Pack),', 'White-Black/White-Magenta/White-Grey/White-Yellow/White-Green/White-Blue,', 'Teal', 'fashion', 'Toronto', 'Spinner', 'Struzzo', 'Ostrich', 'Rafaella', 'TX51012BK', 'Novato', 'Tali', 'Jeri', 'Masquarade', 'T49826', 'L.A.', 'Sequins,', 'Shooting', 'LA', 'WR1080', 'Shoe,Grey/Lavender,10', '2A', 'MR1080', 'Chill', 'Raisin', 'NIB', 'WW860', 'WW577', 'MW577', '(.70mm)', 'WT573', 'Shoe,Grey/Blue,12', 'WX409', 'MX409', '(.45mm', '(.50mm)', '(1.35mm)', 'Lincoln', 'Wax', 'Fl', '(Selection', 'Breda', '8128_gold', '&quot;Abigail&quot;', 'Midland', 'WR940', 'MR940', 'Lysse', 'Toners-Ultra-Fit', 'WS210H-1AV', 'WS210HD-1AVCF', 'Powered', 'Lips', 'Boot,Natural', ',7', 'WS200H-1BVCF', 'LWS200H-4ACF', 'Runners', '120-Lap', 'LWS200H-8ACF', 'SGW300HB-3AVCF', 'PAG240-1CR', 'Ina', 'Combi', 'Laureate', 'EF527D-1AV', 'LWS200H-1A', 'GX56-1ACR', 'EQS500DB-1A1', 'PAG240B-2CR', 'Latin', 'S2', 'Brisk', 'Sandal,Turquoise', 'Wave.Whisk', 'Brown,5', 'Sutton', 'MCK623', 'Hands', 'Decoration', 'Surf,', 'Sandal,White', 'Tubular', 'prong', '0.06', 'carat/pr', 'Jeanz', '(Z118)', 'CANDICE', 'Weaved', 'Boe', '&quot;Half-Moon', 'Threaded', 'WHOLESALE', 'LOT', '14G', 'MIXED', 'TONGUE', 'RINGS', 'BARBELLS', 'Vestal', 'Thimble', 'Seymour', 'Sandal,Pewter', 'Allett', 'EcoThin', 'Toms', 'Handmade', 'scarf,', 'Skirt-Hip', 'FOSatinRose22-5331', 'Glamourmom', 'Full-Bust', 'S-XL', 'Amazing', '&quot;Never', 'Underestimate', 'The...Large', 'Groups&quot;', 'Political', 'Top.', '8780', 'Wrightsock', 'Coolmesh', 'Nautical', '2-1/6-Inch', '7/8-Inch', 'Filler,', '(Black;One', 'Diff.', '1.0', '(2.0mm)', '2-Pack,Hawaiian', 'Sunset/Shark,9', 'Neota', 'Lake', 'Flop,Black,10', 'Adapto', '(5-pack)', 'Non-Skid', 'Turncuff', 'P6', 'Asst', '2T-3T', '27/6', 'Berlynn', 'Wash', 'Dylan', 'Queen-03/B', 'Hydro', 'Amphibious', 'Shoe,Black/Hot', 'Pink,7', 'Sandal,Black/Hot', 'bag', 'A5018M', 'Optimum', 'A115W', 'Advance', 'A5018W', 'Salsette', 'Hi-Step', 'JM22', 'Mania', 'T-', 'CTH3368', 'Fushia', 'Smocking', 'Magdesians', 'Laverne', 'Pump,Platinum,14', 'WW', 'Lively', 'FS4545', 'PP40BT', '(Colors,', 'Will', 'Vary', 'Per', 'Package)', 'P-12', '1White/1Nude', 'VISCATA', 'Escala', 'Heel,', 'Ankle-Tie,', 'Toe,', 'Espadrilles', 'Spain', 'Hat.', 'Dt605', 'Trim.', 'BG81', 'Aetrex', 'BACK', 'CORSET', 'BEATER', 'TANK', 'Silkies', 'ZEMgear', '5000', 'Festival', 'FIREFLY', 'DAMAGE', 'MY', 'CALM', '&quot;family&quot;', 'Sofie', 'Sweater,', 'Porcupine,', '2)', 'Hopsack', 'Clog,Sandpiper,38', 'Steam', '6-26.', 'Troopa', 'Sweatpant.', '7017', 'Lifts', 'Timing', 'Rookie', 'Veda', 'Mahuta', 'Brookfield', 'Exit', 'Aero', 'Shoe,Swamp/Burro/EAU,6', 'Amphib', 'Crossmax', 'Neutral', 'Wraps', 'Baby-girls', '9527', 'Leggings,', 'Firm,', 'XXL-White', 'Shayna', 'Candace', 'Kadee', 'Cases', 'KANGAROO', 'KEEPER', '(Tan)', 'Zobha', 'Intensity', '(Aqua/Grey/Wsbi,', 'Large),', 'BOSS', 'HUGO', 'Montego,', '30/Medium', 'Cincture', 'Crossbody', 'Grips', 'NL1691', 'Boot,Black/White,8', '14W', 'Marian', 'Onyx,', 'Mystic', 'Franklin', 'NCAA', 'One-size-fits-most', 'Dress/Coverup', 'monokini', 'One-size-fits-all', 'Trainer,Black,10', 'Hale', '(XX-Large)', '(Plus', '(1X/2X))', '6-6.5', 'Controlfit', 'Supplex&reg;', 'Zodiac', 'Kissing', 'Couple', 'snake', '19-inch', 'Adrina', 'Footwear,', 'Womens,', 'Pink/Hot', 'Flat,Khaki/Espresso,8', 'Sandal,Black/Black,6', 'Sandal,Black,39', 'EU/8-8.5', 'Soybu', 'Lotus', '(0.55&quot;', '0.7&quot;', 'Rey', 'Bodysuit,', 'Nude,', '40DD', '22IN', 'Mercy', '10-Piece', '0-9', 'Sexi', 'Boll&eacute;', 'Hugger', '109178RGWT', '0.25', 'ct', 'Mil-Pod(TM)', 'Multi-Mount', 'Hazard', '4(R)', '(1/4ct', '8ct', 'avaiable)', 'Bandage', 'Clubwear', 'Winged', 'Turtle&quot;', 'Elephant', '(.09', 'Cttw', '3PK', '(5-9', 'Shoe)', 'Low-cut', '(Hammer,', 'Pins)', 'Modiste-Style', 'Fridays', '4411', '12M', '3485', 'Luos', 'Tam', '3600-White-XS', 'Fran', 'Kassie', 'Tahiti', 'Katie', 'Walu', 'Hover', 'Mesa', 'Clog,black/charcoal,8', 'Harborline', 'Bowen', 'Brights', 'Lace-Up,White/Lime,7', 'Melanie', '3-In-1', 'Hair', 'Headbands', 'Sidekicks', 'Blush', 'Carrying', 'Sizes:', 'Solid,', 'Striped)', 'Technician', 'Gaiter', 'Coal,', '17.5/32-33', 'YEB01', 'Y&amp;G', 'YEC02', 'Presents', 'YEC01', 'Excellent', 'Multi-Sport', '3-Point', 'Paradise', 'Sandal,Black,6.5', 'A86', 'Alamosa', 'Owyhee', 'Flip-Flop,Blue', 'Print,9', 'Paz', 'Thong,Black,10.5', 'Mckenzie', 'Watersport', 'PTC', 'EZ', 'Leslie', 'Ol', 'Zest', '31W', '34L', '6886.WHT', 'Amorous', '9x7mm', 'Trillion', 'Viva', 'Caswell', 'Boleyn', 'Pump,Black/Pansy,8', 'T7', 'Yosi', 'Samra', 'Cosmic', \"Scholl'S\", 'INSPIRE', 'Earmuff', 'muff', 'Bravado!', 'Kesho', 'Katika', '[Apparel]', 'TopTie', 'Teardrops', 'Kristina', 'A.T.', 'Excalibur,', 'Alex', 'Ani', '&quot;Sacred', 'Dove&quot;', 'Gold-Color', 'Relic', 'Starla', 'ZR15551', 'Jose', 'Work-dry&reg;', 'Over-the-calf', 'Tease', '605W', '604W', '606W', '11380', '11039', 'Vezzy', 'Bumper', 'Micah', 'Littles', 'Relay', 'Sorrelli', '6391', 'Infidel(TM)', '(Left', 'Arm)', 'Ballasox', 'Como', 'Festive', 'Resister', 'Turtleneck,', 'WHITE,', '2XLT', 'Open-Close', 'WindJammer', '3620A', '62-Inch', 'Wanders,Black,US', 'Cover-Ups', 'Prescription', '&quot;Learn', 'Yesterday,', 'Today,', 'Hope', 'Tomorrow,', 'Much', 'Breathe,', 'Live.', '&quot;Love&quot;', '&quot;True', 'Are', 'Joined', '&quot;Girlfriends&quot;', 'Fell', 'CleverEve', 'Nation', 'Tails', '&quot;Friends', 'Today', 'Tomorrow', 'Always&quot;', 'Adrenaline', 'Gts', 'Shoe,White/Black/Silver/Slam,7.5', 'Shoe,White/Obsidian/Silver/Aqua', 'Blue/Black/Slime', 'Green,5', 'SCER543', 'back', 'SpicySpot', 'L.A.T', \"Ladies'V-Neck\", 'Fraid', 'Fantasik', 'Abilene', 'Sangria', 'WalkSafe', '3214', '60-Inch', 'Arc', 'Walksafe', 'T5K455', 'Black/Silver-Tone/Orange', 'Frickin', '15005', '107SRCR', 'Roser', 'Tunnel', 'Stretching', '14G-0G', 'Plug', '10G-0G', '(Ear', 'Taper,', 'Gauges,', 'Tunnel)', 'Cascade', 'Float', 'Echelon', 'LE', 'Integrity', 'ST2', 'Sweatpants,', 'TractionSocks', 'AX1', 'ZR15577', 'Hinged', 'Spy', 'Tretorn', 'Skerry', '800LS', 'Padmore', 'Jetty', 'Jennifer', 'Bristol', 'Kelsi', 'Linzy', 'All-Road', 'Shoe,Black/Black,36', 'X-Alp', 'Seek', 'Cyling', 'SN', 'Tap-Flex', 'Amalgam', 'Belly(r)', 'Stabil', 'CS2', 'Aventurine', 'V2', 'Coobie', 'Mittens', 'Taymor', 'Trays,', 'Highview', 'Bustle', 'Zip-Up', 'Helenca', 'Ricardo', 'Beverly', 'Hills', 'Sausalito', 'Freewheelers', '20-inch', 'Wheelaboard,', 'Lime', 'Merlot,', 'Coco,', 'Chenille', 'Gray-Solid', 'Black-Solid', 'Pink/Black', '4-10', 'Non-skid', 'Teashop', 'Emergency', 'Lagoon', 'Cinsual', 'Cinchuation', 'Razzle', 'T-Toe', 'Shoes,White', 'Twill,5', 'Inserts,', 'Windows', '(E)', 'Stacked)', 'Shamballa', '4,5,6,7,8,9,10,11,12', 'RB3447', '50mm', 'Catcher', 'Marquise-Shaped', 'Ushoppingcart', 'Back,', 'M/L,', 'Pinching', 'Problem', 'Bunnyhop', 'Gleam', 'Rumba', 'Darlington', 'Funky:', 'Dinomite', '0609', '21-1/2in', '#E-8100', '5x7mm', 'LUXURIOUS', 'PERUVIAN', 'ALPACA', 'AVAILABLE', 'SEVERAL', 'COLORS', 'WARM', 'Elevatrix', 'Beret-Pink', 'SlimMe', 'MeMoi', 'womens', 'MSM-112', 'Boxed-Gifts,', 'W20S58B', '(1302)', 'Torso', 'Powershape', 'Slip,Black,Large', 'Poweershape', 'Prettty', 'All-In-One,Black,34C', 'Basket', '809XLTBN', 'Darco', 'Med-Surg', '1443', '(Size:', 'Milk', 'Luminous', 'Phillip', 'Sandal,Natural,5.5', '15mm', 'Adobe', 'Brisbane', '(5mm,', '0.85', '(8mm', '3.50', 'DMP', 'Cableknit', 'Booties', 'Coffee', 'Jonah', 'Froggy', 'Shimano', 'M087', 'Smiles', 'BugsAway', \"Chas'r\", 'Kizmet', 'Exo', 'Lattice', 'Tank,WHITE,Medium', 'CHILD12', 'Yael', 'Jacob', 'Translucent', '16in', 'Mixed', 'Kid),Black,13', '10-Inch', 'Relaxed-Stretch', 'Pant,Black,14', 'RG', 'Pebble', 'Charla', 'Alexa', 'Hotness', 'Polly', 'Torch', 'Hunger', 'Games', 'Katniss', 'Mockingjay', 'Bookart', 'Tribute', '500DRX', 'Colorado', 'DiAura', 'Diamond,', 'S&amp;G', 'Deco-Style', 'Accents', '(0.13', '(0.12', '(0.03', '(8-8.5mm),', '500LS', '500DR', 'Piikabu', 'Mini-Cami', 'Bed', 'Marshmallow', '52', 'Breakaway', 'Jacket-Peter', 'Set-In', 'Madras', 'Nvie', '(12', '109416RGWT', '109417WTWT', '109416BKBK', 'SNE039', 'SNE045', 'SNE042', 'SNE049', 'SNE056', 'Softwear', 'Intelligence', 'Propel', '500LSX', 'Hardsided', 'English', \"Lord's\", 'Sandwich', 'W11S58B', 'Softer', 'than', 'cashmere', 'plain', 'winter', 'scarves', 'Thinnest', 'Horseshoe-Neck', 'Doublju', 'stripe', 'Patched', 'Adria', 'Dawn', '408209BLK', 'Diff', '256405BLK', 'Easy-to-Read', 'USABride', 'Rhinestone,', '503', 'slouchy', 'lightweight', 'beanie', 'Embellishment', 'cute', 'trendy', 'visor', 'AHKIRA', 'shirtss', 'Rhodhium', 'bling', 'GlitZ', 'JewelZ', '&copy;', 'Jewelz', '(6mm)', 'Bling!!', 'Lovely', '(2nd', 'Picture', 'Other', 'Colors/sizes', 'Menu', 'Amicale', 'Sterling,', 'shirts', 'Checked', 'SNN241', 'SNN233', 'Eurow', 'Chestnut/White', '50&quot;', 'Fall', 'Cardigan,', 'Olive,', '753877WTGP', 'Dandy', '408231RDGY', 'ORB4151', 'Asymmetry', 'Hoodies', 'Unbalanced', 'Highneck', 'Darling', '(AS179', 'AS413)', '0548', 'Dazzle', 'Stik', 'Fishtail', 'Skirt.', '6-28', 'Panda', 'Poms', 'Ava', 'Island', '&quot;Peace', 'Hope&quot;', 'Billie', 'CB0020-50E', 'A-T', 'Drew', 'cadet', 'Seaming', 'JT6322WP', 'Valentina', 'Sandra', 'Sandal,Brown/Brown,8', 'GEL-Pulse', 'GEL-Kinetic', '3540', 'Ladies?', \"Men'sLava\", 'Lava', 'Abs', 'Sunglasses:', '&quot;Cats', 'Rule&quot;', 'Stars', 'Hardy', 'Darnell', 'EYEWEAR', 'P1436BWZ', 'Gingham', 'SIze', 'Affair', 'Cuddle', 'Climatesmart', 'Triton', 'Three-Eye', 'B-Smooth', 'Bralette', 'Leigh', 'Spider', 'Humming', 'bird', 'Magenta-Purple', 'Square-Shaped', 'Sprinkles', 'Wire,', 'Solids)', 'Lane', 'Biagi,', 'Silverado', 'lounge/workout/gym/yoga', 'Diva', 'Shirring', 'finish', 'Comfort-fit,', 'Ashley', '1432131', 'Suitcase', 'Extendable', 'Loveme-Pat', 'Pump,Yellow', 'Patent,5', 'Collezione', 'Boiled', 'Avolve', 'Angora', 'Laciness', 'Imitation', '(3M', '40g)', 'Slippers,', 'Cinnamon,', 'W/D', 'Piped', 'Female', 'MR890', 'MK706', 'WK706', 'MR840', 'WR840', 'Station', 'USA,', \"GirlPROPS'\", 'Exclusive!', 'SKA475P1', 'Massagio', 'Bottoms,', '(A0756STLXL)', 'Nightshirt', 'Sleepshirt', 'tricot', 'Shorts,', 'M-Slate', 'Heather/Black', 'Comfort-Waist', 'MK8096', 'Rose-Tone', 'Tourister', 'Fieldbrook', 'Shagwear', 'Strata', 'Sandal,Palladium,9', 'Hooper', 'Rokkit', 'MK5128', 'Rosegold', '0076', 'WonderWink', 'Bravo', 'Charlie', 'Y-Neck', 'Hi-Top', 'Primo', 'Monte', 'Taxicat', 'Bi-fold', 'Waisted', 'MSM-110', 'Leatherbull', '(Free', 'Shipping)', '89051-007', 'Jardin', 'flores', 'cotton', 'beach', 'sundress', 'U85110L1', 'Mid-Size', '(6.0mm)', '5-13', 'JR65PL', '7headz', 'Figured', 'B.O.C.', 'Peggy', 'ZR11898', 'Nike+', 'SportBand', '(Black/Cool', 'Grey/Silver)', 'KJ553', 'KV504', 'U10075L1', 'Feminine', 'Hi-Shine', 'Cruise', 'Leathercraft', '2077L', 'Sculpted', 'Zilch', 'Sandal,Blue', 'Mirage,5', '1453131', '1.08', 'TCW', '3/4-CT', 'Oval-Cut', 'Asics', '(1.7&quot;', '0857', 'Aquamarine', 'March', 'Vogue', 'Bohemia', 'Skirt,', '(Lots', 'Three-layer', 'Hemming', '109416WTWT', 'Bogue', 'Systems', 'Galley', 'Twill.', 'HS500W', 'Oxford.', 'HS600W', 'Solids),', '(A0769PKALG)', 'NORTH', 'FACE', 'Beardski', 'Prospector', 'Always', 'Philadelphia', \"Mac's\", 'BEER', 'Everything', 'Danya', '&quot;Fit', 'Me&quot;', 'Assortment,', 'Briefs,', 'Slimfold', '013001D10', 'BLK', 'Tall,', 'Too)', 'IPR3030', 'Pressure', 'Emmie2', 'Bushacre', '(Baroque)', 'Plushy', '(4mm)', 'MW600F-4AV', 'FT500WVB-5BV', 'Gucci', 'GUCCI', '3166/S', 'Circles', 'SH-R077', '(Silver', '43)', 'Ultratec', 'Hankie', '4-6x', '1607', 'Lurex', 'JanKuo', 'Nassau', 'Gazette', 'PTH&reg;', 'Victory', 'Tiro', 'T-shrits', 'Cart', 'Place', '1.2', 'Yet', 'Sturdy,', 'Luxurious,', 'Players', 'PLNBR1', 'Relax-Fit', '5.2oz.', 'Danee', 'Spree', 'Vitalsox', 'Recovery', 'Stat', 'S-L', '28503', 'Rx', '145g/5.12', 'Hillsound', 'Crampon', 'chip', 'stretch', 'bracelet', 'Smoky', 'Selene', 'Trespasser', 'HexMesh', '0352', 'Left-Handed', '0350', 'V1082W', 'Penn', 'State', 'Arching', 'Tinkerbell', 'FT500WVB-1BV', 'Hyacinth', 'Roll,', 'Gibson-Hardwood', 'Large)', '0688', 'Carroll', 'TowelSelections', 'Turkey', '6-7mm', 'Moi', 'Repellent', 'lined', '(5-Pack)', 'Flapover', 'Cttw)', 'Bobs-Earth', 'Bobs', 'Cyclers-Gleamers', 'Profiles', 'Hi-Cuts', 'Waisband', 'Cut-Fit', 'Tank-Top', '4-Pack)', 'TS5849BRN', 'TS2890BRNW', 'Bikers-Scrunchy', 'Skimmer', 'Modiste-Electric', 'Bond', 'Jeans,', '2P', 'Earflap', 'Solarsoft', '(16', '40-Inch,', '(18-Inch', '42-Inch)', '(Active', 'Zone)', 'Claus', 'Baguette', '(5/16', 'in)', '2.4MM', '(16&quot;', 'Avaiable)', 'TDU', '81', 'Lucy', 'HDA600B-1BV', 'DataSafe', 'Security', '&quot;Rio&quot;', 'High-gloss', 'Leveret', '&quot;Daddy', 'set', '18-24', '(Red', 'Stripes)', 'Capris', '1/3', 'Lever-Back', 'Carpe', 'DM', 'Strap,', 'Gel-Spree', 'Sneaker,Navy/White,11.5', 'Gel-Blur33', 'GEL-Kahana', 'GEL-Blur33', 'GEL-Foundation', 'Gel-Foundation', 'Gel-Kahana', 'Gel-Nimbus', 'Gel-Pace', 'GEL-Rhythmic', 'Gel-Strike', 'Rush33', 'Lorelei', '-Adult', 'Brown/Khaki,', 'WOMEN', 'FLAT', 'OPERA', 'WALLET', 'CLUTCH', 'BY', 'DESIGNSK', 'Creation', '6886.Lavender', '6886.Orange', '6886.Red', '6886.Black', '6886.Green', 'Villa', 'C003', 'Kanu', 'Barracuda', 'Havana', '(Tropical', 'Romance)', 'Sunsuit', '(4mm', '1/2ct', 'tgw)', 'Overdoor', 'Longstem', 'Bronze', '300', 'pieces.', 'patented', 'product', 'Best!', 'U-Back', '(18343)', '(18342)', 'Womama', 'Vanilla', 'Evolve', '3/4-Cup', 'Quebec', 'W220E', 'RoyalBlue', 'Checker', 'head', 'Larisa', 'MJC', 'GEL-Ipera', 'BlackAndGrey', 'Transworld', '42&quot;', '(Oversized', 'In)', 'Dressport', 'Removeable', '10K', '1.2mm', 'Patches', 'Pandora,', 'Troll,', 'Charmilia', 'Claw', \"Won't\", '(8-1/2&quot;)', '(FB119)', 'HTS', '194H0', '-35', '(Salt', 'Pepper)', '8-12', 'Emmie', 'Fuse', 'EatSmart', 'Precision', 'Voyager', 'lb.', 'SmartGrip', '(Basket', 'Weave)', 'Rhinestone-accented', 'Ganz', 'Chlementine', 'Mini-Mesh', 'Carnaby', '-Diff', 'UPF/UV50+', 'Floppy', 'LWES257', '90242-001', 'Tigers-Eye', 'Mukluks', 'Pom-pom', '0489', 'Canopy', 'D&eacute;cor', 'Custard', 'Lolla', 'Lido', 'Sneaker,Green,7', 'Cheetah', 'Melbourne', 'Realflex', 'Shoe,Steel/Sushi', 'Green/White,7', '0.10ct', 'TDW', 'Refresh', 'Wild-02', 'Kiva', 'Compress-It', 'Compressible', 'Infiniti', 'Notch', 'Bellydance', 'NC', 'Pokemon', 'Ketchum', 'Ballistic', 'JT6222', '13-Piece', 'Sesame', 'Elmo', 'Burlesque-Boutique', 'Week', 'Shuffle', 'Lario', 'Multi-Shape', 'Demand', 'Orange,', 'Intent', 'Blue/Black,', \"Womens'\", 'Genius', 'Cabbage', 'CHIONE', 'Padlock', 'Every', 'Seasons.', 'Styles.', 'Shoreditch', 'Grancourt', 'Parfait', 'Affinitas', 'Good', 'Tremendous', 'Delsey', 'Helium', 'Four-Wheel', 'Caliber', 'Stadium', 'Ct', 'Whirlwind', 'Wrists', 'Men,', 'Women,', 'Teen,', 'Anue', '(WHP0110)', '0563', 'GMT', '688', 'Living', 'Zion', '32-Inch', 'Amaya', 'Shorts-3', 'LUCIA', 'Rosina', 'Joy', 'Unknown', 'Pleasures', 'Floyd', 'T2N525', 'T49851', 'T49854', 'Platnium', '(8oz)', 'BLITZ', 'Concentrated', 'Ideal', 'use', 'Cleaners', 'Innisfree', 'Brownsmead', 'Butte', 'Dc', 'super', 'Tonic', 'Sabrina', '7-pk.', 'Belvah', '0764', 'Martini', 'Jaxa', 'Kendra', 'Sneaker,Black/White,11', 'Jelly', 'Cake', 'Orella', 'Sandal2', 'Flourish', '&quot;Dreamboat&quot;', '3T', 'Multi-Tasker', 'Rfidsafe', 'Spenco', 'Yumi', 'Caramel/Coffee', 'CANYON', 'TRAILS', 'Guns', 'CONAIR', 'Lone', 'Winslow', '7-Inch', 'X-Large,', 'Asphalt', 'Leyden', 'Crest', 'Muckers', 'Abide', 'Ride-Up', '4732', 'Bra,Nude,38C', 'LS', 'Sixty', 'Poppy', 'Healthsmart', '640-9005-0000', 'Telescopic', 'Horn,', 'Ruchel', 'Magiclift', 'Beccentric', 'FOSatinPaisley76A-5331', 'Asymmetrical', 'Semi-Opaque', 'X-loop', '(Assorted)', 'Concert', 'Choir', 'Chris', 'Levee', 'Delta', 'Dust', 'MC', '(80018)', 'Blade-Light', 'Recover', '(S1)', 'Semi-Precious', 'Pendants', 'Included', 'GSC-S', 'Marshal', '#1629CF', '3000', '3900', \"Albert's\", '(22-26-30', 'Despite', 'Janae', 'Seaport', 'Rossalyn', 'Pjs,', 'Reindeer', '(A0509P63XL)', 'Skirted', 'garters', 'Petty', '98P123', 'BVA', 'Aperture', 'B324', 'Adorable', 'Teens', 'Verona', '24/7', 'Mirielle', 'Roamans', 'Bigshirt', 'Amoureuse', 'Peignoir', 'Dreams', 'Tag-free', 'sleepshirt', 'DREAMS', 'Ultra-Soft', 'Within', 'tunic', 'Necessities', 'Full-sweep', 'capri', 'convertible', 'Ombre', 'Angelina', 'Blazer', 'Broomstick', 'seersucker', 'snap-front', 'lounger', 'On,', '7-Day', '2-piece', 'skirtini', 'Legged', 'Stain-Resistant', 'colorblock', 'Swim365', 'Trapeze', 'Edged', 'robe', 'french', 'terry', 'zip', 'front', 'ponte', 'skirt', 'briefs', 'Pantset', 'sweep', 'trapeze', 'length,', 'relaxed', 'fit,', '5-pocket', 'styling', 'pajamas', 'tank', 'Smock', '(46&quot;)Long', 'tag-free', 'jean,', 'pull', 'on,', 'elastic', 'waist', 'Styling', 'A-line', 'Charmed', 'Feelings', 'C,', '(9-11)', '0488', '&quot;Angel', 'Zirconia-Accented', 'Lights', 'Sparks', 'Lighted', '9073.TwoTone', 'Au', 'Brown/Pink/White,9-11', 'FASH-', 'faux', 'Remy', '48-Section', 'Snoozies', 'Features,', 'Anna', 'Motor', 'Boot,Tar', 'Tumbled', 'PP45AS', 'Cult', 'E.Libby', 'Tops-Assorted', 'Insulating', '(7', 'ZigFly', 'BIG', 'BANG', 'THEORY', 'KITTY', 'Softshell', 'XS-3X', 'Cobbler', '3/4&quot;', '0420', 'Resolve', 'ck', 'U8504', 'Loafer,Espresso/Bubblegum,11', 'Neria', '3-pack,', 'Bras', 'Zip-up', 'Bacon?', 'Prepair', 'Sandal,Black/Silver,(M4/W6)', 'Louie', 'tulle', 'bustle', 'gathered', 'bow', 'accent.', 'Bypass', '457004WHT', '457012BLK', 'Stainless-Steel', 'Shoe,White/Black/Metallic', 'Pavement/Aquarius/Silver,9.5', 'Shoe,White/Obsidian/Strong', 'Blue/Silver/Pavement,10.5', 'Shoe,Black/Shadow/Metallic', 'Green/Sulphur', 'Spring,10', 'Harley-Davidson', 'Christa', 'Sneakerina', 'Sneaker,White-Shocking', 'Pink,7.5', 'Zandy', 'Charged', 'JMP01', 'POLARIZED', 'SNE093', 'SUT022', 'Beads.', 'Baigi,', 'Chamilia,', 'Zable,', 'Bracelets.', '30011c', '&quot;Children', 'Mothers', 'Truly', 'Part-Bound', 'Beating', 'Each', \"Other's\", 'Heart-Charlotte', 'Gray&quot;', 'Platube', 'SHOELACES', 'Kassidy', 'Jillian', 'Michaels', 'Hoody', 'K-SWISS', 'Charcoal-', 'Burnished', 'Valair', 'Venturesafe', 'Fanny', 'Tabasco,', 'Gemsli', 'Classica,', 'Lace,', 'Cling', 'HK300', 'Mission', 'Bacio61', 'Palmi', 'Flat,Mushroom,10', 'Mule,Black,42', 'EU/11.5-12', 'Nanette', 'Boot,Cranberry,9', 'Arden', 'Kid),Black/Black,7', 'SNKK65', 'SNE107', 'Bikinis', 'Vizari', 'Striker', 'FG', 'Riki', 'Buffy', 'WW855', 'truebalance', 'W1140', 'MW956', 'WW956', 'MX1211', 'Conditioning', 'AA1938', '4.4', 'Lemon', 'cheer', 'Megan', 'crafted', '.60ct', 'tgw', 'Cheer', 'Boulder', 'Tr', 'Shoe,Light', 'Grey/Pink', 'Metallic/Intense', 'Pink,8', 'Thrasher', 'Shoe,Medium', 'Lead/Shift', 'Purple/Sharp', 'Purple,9.5', '3G', 'F10', 'TRX', 'Fg', 'Cleat', 'SNDC33', 'Istanbul', 'Flatbed', 'Truck', 'Rumblers', 'Stems', \"McGee's\", \"Women'\", 'Flashdance', 'pantyhose', 'plumeria', 'panel', 'O/S', 'Feline', '7888', 'Rudston', 'Car,', '-Red', '109416RGBN', 'Rosegold-Tone', 'Shasta', 'XLoop', 'PacificPlex', 'DT233', 'Kholo', 'Union,', 'Calla', 'SDB100-4A', 'SGW400H-1BV', 'Gypsum', 'ES2860', 'Timmons', 'Nopo', 'Sula', 'Luna', 'Earthkeeepers', 'Stratham', 'Hights', 'Syro', 'MT10v1', 'Minimus', 'WT10', 'Shoe-', 'ESS', 'Numerals', 'WP004', 'WP021', 'MT20v1', 'Shoe,Orange/Black,8', 'WT20v1', 'MX20', 'WX20v1', 'Cove', 'Boot,Black,7.5', 'Tonalea', 'Enthusiast', 'Carabiners', 'Melt', 'WP055', 'ES2859', 'Size/10', '3/4-Inch,', 'Intense', 'Blue/Mercury', 'Allegre', '(6,', 'Gold)', 'Niki', 'Biki', 'Nylon/Spandex', 'Speedcross', 'Climashield', '127612', 'b.o.c', 'ZITA', 'Rondell', \"28''\", \"21''\", 'Cafe', '1774', 'look', 'gloves.', \"'88\", 'Waterfall', 'Sbicca', 'Vibe', 'Rapunzel', '7ct', 'Rough', 'Parrots', 'Violette', 'Wendell', 'Lano', 'Japanese', '32in', '156-1', '125', 'Wallett', '17681', 'Boot,Brown/Violet,6', 'Crete', 'Beijing', 'Holland', 'Netherlands', 'Microshorts', 'Boot,Black/Chili', 'Pepper,9', 'Wp', 'Boot,Black/', 'Rose,7', 'Purple,6', 'Orton', 'Fano', 'Deena', '0-6', '204701BLSV', 'LIV-Smart', 'Sandal,Natural,10', 'Fence-Net', 'Skele-Toes', '1.75', 'carats', 'Defense', 'Boo', 'Diameter-Garzo', 'PocketsOnly', '3.00', '7.50', 'Earrings.', 'Settings.', 'Seasons', 'Jean,Dark', 'Blue,Large', 'Vivobarefoot', 'Kali', '(1.40', 'CT)', '14261', 'Hardcore', '0103', 'sized', 'bill', 'sections', 'Measures', '4.5&quot;', 'Alpine', '-Black', 'pocket', 'card', 'Clog,Expresso,12', 'ZilverZoom', 'SNKK71', 'SNKK27', 'D3800A', 'Flat,Brown,6', 'Statement', 'Makers', 'Up,White,36B', 'Infant,', 'Toddler.', 'Rose.', 'Unusual', 'Pearls', 'Yard', 'Tin', 'Super-Cute', 'Roxie', 'Boot,Black,6.5', 'CWC', 'Coldwater', '6895', '&quot;Pro-Diver&quot;', 'Steel,', 'Plating,', 'Diana', 'C.Z.', 'Cz', 'Flax', 'Editorial', 'Offices', 'PS', 'Trista', 'FM', 'W790', '122067F', 'QLook', '0851', 'Wild', 'FOLayeredColors37A-7931', 'Burst', 'Synergy', 'Swiftwick', 'cuff', 'WR10GY', '6540', 'Burnout', 'TX', 'Breez', 'Baily', 'Flat,Mocha,5', 'Regina', 'Fitsok', 'CF2', 'Ego', 'ES2830', 'Georgia', 'ES2879', 'Riley', 'Tankini', 'Baby-Boys', 'Rusted', 'Rigid,', 'Ls', 'KomodoSport', 'Fivefingers', 'Jaya', 'Sisters', 'Stamped', 'Red/White,', 'U', 'Cufflink', 'Young-Adult', 'Smitten-10/WB', 'Snowfling', 'Boot,Red,8', 'Pick', 'Safina', 'Kaylee', 'Clog,Dark', 'Front-Hook', 'Youtility', 'Staycool', '4-Strap', 'Updated', 'Rongo', 'Imagenation', 'Neckline', 'ZADAwesome', '9-9.5mm', 'Gemstone,', '(0.01', 'Assets', '(125B)', 'Sensational', '(166B)', 'Unbelievable', '(124B)', 'Jamie', 'MA', 'Riordan', '43659-004', 'Eurosport', 'Jute', 'Logic', 'NOXM-111', 'Aquila', '11692', 'Hattori', 'Names', '4-17', 'Royce', 'Genesis', 'Kilkenny', 'XC4', '10125', 'Cross-Country', 'Bombshell', 'Cuddly', 'Brown,8', '109652CHTO', 'ZX/2', 'Vinter', 'inches', 'Stryker', 'Semi-Eternity', '3608-Navy-L', 'Blue,Socks', 'hatter', 'tshirt-Black-Medium', 'Tequini', '2292-black', '&quot;Meryl&quot;', 'DARK', 'Shooter', 'Topzy', 'Tumblers', \"Twirlin'\", \"Tumblin'\", 'Sparkles', 'Continuous', 'Center-Vent', 'N8001', 'N3601', '13V521', 'N3200', 'Men?s', '6010', 'J001', 'Perched', 'Branches', 'XO5298A', 'XO5301A', 'XO5302A', 'Shelby', '122024WMTO', '56&quot;', 'Slider', 'Boot:', 'Floretta', 'Fountain', 'Rhinelander', 'Decadence', 'Bodybriefer', 'Cutout', 'Bodycon', 'Grass-p/s', 'LUCAS', 'EXCLUSIVE', 'Kickback', 'Photochromic', 'Changing', 'Gayle', 'Grace', 'Oiselle', 'Roga', 'Kingdom,', '(12-14)', 'CL', 'Irmine', 'Debate', 'Stuhrling', '107EM.331531', 'Delphi', '(AD3323M,', '13,', 'Navy)', 'Letter', 'Alphabet', 'Marielle', 'Waits', '(4.5', '40&quot;', 'Print,', '3/8&quot;', 'Studs,', '(10Mm)', 'Boxer,', 'Black-S', 'OahuPrint,', 'Hibiscus,', 'Brigetta', 'Tristen', 'Sonjo', 'Alyssia', 'Tama', 'Pant,Ebony,US', 'XXS', 'Pietro', 'Beau', 'Shaker', 'Bralette,', 'Mr.Leprechaun', '2.00', '6.50mm', 'Stone.', '1.00', 'Bieber', 'JB1042', 'Baltoe', 'Hasbro', 'Spidey', 'RL', 'Ply', 'Stretchers', 'x2', 'Dri-Tech', \"Au'\", 'Bra,Black/Bare,42D', 'Rag', 'Scarf_tradinginc', 'Triplelayer', 'Route', 'Footless,', '0620', '1026', 'Hockey', '1049', 'Specialty', '&quot;Mothers', 'Daughters&quot;', 'Steampunk', '(one', 'NAUGHTY', 'MONKEY', 'Rockin', \"Marvel's\", 'Avengers', 'Thor', 'Cliffs', \"'COVE'\", 'Secret-15', 'Carpet', 'pj', '431-Sterling', 'Barceloneta', 'Whitney', 'Exodus', '2,Black/Steel', 'Grey/Maui', 'Blue/Wild', 'Lime,8', 'Nicole', 'Hankies', 'birthday', 'gift', 'ideas', 'MH1055', 'Jefferson', 'Gears', '1002', '3-6MOS', 'C2000', 'tie-dyes', 'Tie-Dyed', 'Moondance', 'Triblend', '8801', 'Gwen', '1/2-Sleeve', 'Boatneck', 'Mia', 'Wideneck', 'Sweatshirt,', '8407', '3.8', 'Bra,Nude,42C', 'TS9070', 'Tools', 'SHRINKX', 'HIPS', 'Pregnancy', 'Hips', \"Let's\", 'Pretend', 'Lowrider', 'TWEED', 'w/Bow', 'ABBEY', '42pc', 'Dubious', 'Jodie', 'Ponte', '[Jewelry]', 'Mellow', 'Myrtle', 'Josie', 'Frenzy', '(1/5', 'Pull-over', 'Clasp,', '2.90', '8X6mm', 'Boommerr', 'Clog,Black', 'Fabric,7', 'Undershirt', 'Poetic', 'Licence', 'Pump,Chestnut,8', 'US(39', 'EU)', 'Silkweight', 'Dri-release', 'Dri-Release', 'Bottom,Black,X-Large', '(5', '(1.10', 'SafetyGirl', 'GS002', 'Height,', '9.5W,', 'millimeter', 'Lens.', 'Popular.', 'Ladies/Mens/Unisex', 'Styled', '4-11', 'Including', 'Sizes)', 'Jude', 'Bob', 'Marley', 'GDF100-1A', 'Cyclers-Smash', 'Hit', 'Please', 'Flirtatious', 'Patrick', 'Carcoat', 'Peacoat', 'Bib,', '5-pair', 'Pre-pack', 'Black/Grey/Lav/Blue/White,', 'Size:5-10', 'Lego', 'Bundle', 'Jag', 'Paley', 'youstar', 'design', 'roundneck', 'Tshirts', '(W57L', 'Kenenth', 'RK1225', 'Soldier', 'Shield,', 'Superblizz', 'Supersneaker', 'Lace-Up,Black', 'Metallica,5', 'Sneaker,Chocolate', 'Bronze,5', 'Shuv', 'Byker', 'Boot,Chocolate,9', 'Amour', 'Enticing', 'rise', 'collection', 'Blondelle', 'Gyneth', '320', 'Whistle', '(1.80', ';', 'Cut)', 'Corin', '72908', 'Draping', 'Lithe', 'Charisma', 'BelleDangles', '5.00mm', '1.80', 'Footies', 'Wasabi', 'Liga', 'Boot-Cut', 'Spun', 'Black/White/Teal', 'Plaid,', 'Adoretex', 'Swimwear', 'L304', 'Jacket.', 'L305', '&quot;Silk', 'Touch&quot;', 'Cardigan.', 'L530', 'Sunflower', '6X4MM', '1.50', '6.00MM', '(1ct', 'tw)', 'Teens,', 'Shoe,Pewter/Hot', 'Pink,6', 'Oriental', '14257', '(ctw)', 'GEL-Aztec', 'Mt', 'Shoe,Titanium/Lightning/Powder', 'Blue,12', 'Black/Orange', 'Tornado', 'Baseball/Softball', 'Pant,Navy,44/32', 'Dolman', 'Loader', 'Duffle/Gear', '-Inch', 'S5', 'Selected', 'Cobalt,', '56109', '&quot;Vintage&quot;', 'Ciao', 'LST253', '1/4-Zip', 'B460', 'B320', 'L709', 'Portlandia', 'Flat,Bordeaux', 'Burnished,40', 'EU/8.5-9', 'Solmate', 'Lovingly', 'Mismatched', 'Ema', '(32', 'Headbands)', 'Rottweiler', 'Bobs-Helping', 'LUCCA', 'Vertx', 'Trollbeads', 'Chamilia,silverado,biagi', '1106', '1105', '1102', 'Dart', '&quot;Hinged', 'Snap&quot;', 'Coffe', 'IP', 'Edges', 'Length,', '1.56&quot;', '0513', 'Tramper', 'Xloop', '4651', 'Sleepyville', 'Critters', 'Youyoupifa', 'Daywear', '(2116)', 'LIFT', 'Deino', 'Hexagon', 'Detail,', '24898,Olive,6', '(1.70', '&quot;Bangle', 'Bar&quot;', 'Covert', 'Initials', '&quot;Skeleton', 'Key&quot;', 'Sailboat', 'Horus', 'Rafaelian', 'Nile', 'Characters', 'Valya', 'Hoodie,', '2-Pack,', 'Latte', 'DLS', '1SB106XX', 'Shoe,White/Black/Chinese', 'Red,9', 'bra!', '(Shape', 'Changer)', 'Cleavage', 'Enhancer', 'Push-up', 'Bigger', 'size!', 'BACCINI', 'crossbody', 'FIONNA', 'genuine', 'Frankie', 'Stein', 'Zac', \"Snyder's\", 'Sucker', 'Punch', 'Tavern', 'Tangled', 'Draculaura', 'Shown', 'Samurai', '198453', 'Steel-420', 'Swashbuckler', 'Mythic', 'KV990', 'Sabena', 'Boot,Grey,7.5', 'Elaina', 'Hop', 'Fashionable', 'Dot,', 'Dinka', 'Railroad', 'Arizzo', 'SCJ', 'Posts', 'Tarantula', 'bytheway', 'Otis', 'Lisbeth', 'Siri', 'Handful', '1007', '1091', '1090', '1089', '7-8mm', 'Sublime', 'Carats', '0.50', 'Geometric', 'Arches', 'Tabi', '#2047', 'Tillman', 'Pump,Black,7', '907', '6-10', 'BC', 'Pump,Black,7.5', 'FreshGear', 'AFX', 'Anthem', 'Marais', 'Boot,Canteen,7', 'Insets', '9.5-10.5,', 'Boater', 'Chips', 'Training&quot;', '(4T)', 'Browning', 'Calie', 'Serrano', 'Alpha', 'Slim-Tapered', 'Five-pack', '#13340', '#13330', '(13341)', 'T2N652', '&quot;Weekender&quot;', 'T2N648', 'T2N647', 'T2N650KW', 'T2N651', 'T2N649', 'T2N654', 'T2N631', 'T2N632', 'T2N644', 'T2N661', 'T2N679', 'T2N694', 'T5K525', 'T49855', 'T49870', 'Middle', 'Facet', '5-15)', '250', 'Oulm', '1139', 'COLD', 'Setara', 'Piper', 'LA670WGA-9', 'Tressa', 'Round-cut', 'Pave-style', 'Aes', 'Realtree', 'Woodlands', '6.5/7', 'Run-Suede', 'Shoe,Black/Excellent', 'Marissa', 'FLOJOS', 'Fiesta', 'Pushers', 'Labor', 'Shoe,Blue/Blue/White,10', 'MadPax', 'Spiketus', 'Fullpack', '(XS-3X,', 'skinny', 'purple,', 'pink,', 'girls,', 'babys,', 'toddlers', 'MW910', 'Shoe,Brown,7', 'WW910', 'Shoe,Brown,5', 'MWM756', 'Shoe,Brown,15', 'MC656,White/Black,US', 'WX813', 'Pack:', 'Pixar', 'MONSTERS,', 'INC.', 'Solids,', 'Dalmatians', 'Playing,', 'White/Heather/Red,', 'Winnie', 'Pooh', 'Pink/Green/Yellow/Fuschia,', 'Lilac/White/Heather/Blue,', 'Front-', 'Needle,', 'Maternity:', 'WW01', 'Newsky', 'Wellness', 'MX608V3', 'Peru', 'WX608V3', 'HOW', 'MET', 'YOUR', 'MOTHER', 'CHALLENGE', 'ACCEPTED', 'TEES', 'Charmaine', 'Pindot', 'Lean', 'Trucker', 'Corel', 'Charcoal,', '0726', '38&quot;', '(47116)', 'Kairo', 'Pleats', 'BOHO', '(Item#', '834)', 'Sherpa-Lined', 'Fallen', 'Showgirl', 'Ahnu', 'Montara', 'Snuggie', 'Lines', 'Chetopa', 'DiamondBoard8284', 'Board', 'EXSolidSideStripeBoard6684', 'Eladia', 'Kasana', 'Sandal,Orange,5.5', 'Fergie', 'Ledger', 'Wicked', 'ish', '109442CHHY', 'Champagne', 'Zazie', 'JobSite', 'Footmatters', '(24-Inch)', 'FootMatters', 'Easy-grip', 'Bending', 'Elderly,', 'Disabled,', 'Folks', 'Pain', 'Satisfaction', 'Guarantee', 'Gregg', 'Homme', '2.50', 'T625', 'Competitor', 'BENOITE', 'Ramshackle', 'Autumn', 'Orange/Columbia', 'Thule', 'TCBP-217', 'Colombian', 'boot-cut', 'pants,', 'Plus-5', 'Crew-5', 'Everywhere', 'Exterior', 'Ascender', 'Polar-W', '&quot;Princess&quot;', 'Zoogster', 'Piece)', 'Bodystockings', 'Free!', 'Black/Butterscotch', 'Dye,', 'Alloy', 'Multi-Leaf', 'Prophecy', 'Jobsite', \"45''\", 'Sharks', '4ct', 'HO254', 'Vassell', 'Walk', 'Bronze,', 'WT20', 'Zinnia', '1.1MM', '1.0MM', '0.9', 'Cage', 'Speedlaces', '(White,22-Inch)', 'Dead', 'Cleaver', 'Harem', '(13', 'Streak,', 'Brasilia', \"Carter's\", 'yoga', 'bootcut', 'slim', 'fit', 'WhiteNavy', '1203', 'Bud', '12pk', 'Hipaster,', 'Boyshort,', 'Tectonic', 'Flop,Black/Light', 'Pink/Dots,5', 'GA', 'Hypercolor', '3-Pack&reg;', 'Saxton', '1103', 'Contrast-stitched', 'shorty', 'Temptation', '-Left', 'August', 'Sheridyn', 'Brazilian', 'Rocky', 'C4T', 'CornerStone', 'Shevanie', 'Volocity', '#75338', 'Tshirt', 'AAhh', 'Ahh', 'Black/White/Nude', 'LDF52-7A', 'Playhouse', 'Jalapeno', 'Voltaic', 'NM', 'Emme', 'Locking', 'Teeny', 'Weeny', 'Custom-Control', '007Lingerie', 'Regs', '5524', 'Athena,', 'Retreez', 'Super-Girl', '181', 'v', 'neck', 'Castalia', '(Red)Striped', 'Jumper', 'Grosgrain', '(Headbands', 'Included)', 'Set)', 'Peony', 'Idaho', '(269B)', '(870B)', '(871B)', 'Fairvinda', 'Shaper,', 'L,', 'Emory', 'SL2931', 'Prada', 'PR27NS', 'Gerbers', 'GJ2249T', 'Bodysuit,Black,Medium', 'STACKERS', \"'CLASSIC\", \"SIZE'\", 'Egg', 'Lidded', 'STACKER', 'Polka-Dot', 'Lining.', 'Luichiny', 'XT-46', 'MMA', 'Eagle,Sword', 'Cross,', '&quot;Royalty&quot;', '(6mm,', '2.30', '4.00', '(Orange)', 'Halyard', 'Braless', 'Straps.', 'Members', 'Iconic', '107', 'Ashworth', 'Cardiff', 'Blk', 'Fielding', 'Snap-Front', 'plaid', 'Schroll', 'Brah!', 'Extender:', 'Breathing', '2-hook', 'That', 'breathing', 'room', 'hook)', 'A5230M,White/Steel', 'Grey/Black,10', '3.1MM', 'Mandy', 'KATGI', \"Okabashi's\", 'Fathers', 'Father', '(not', 'patch)', '52&quot;', 'Features', 'fold', 'away', 'mesh', 'water', 'bottle', 'holder', '1.3-mm', 'brief,black/grey,', '.', 'Glam-A', '0.8-mm', '0.9-mm', 'length', 'Purse,', 'Bag.', '(Dark', '1.2-mm', '1.1-mm', 'Home', '82-9216', 'Case,', 'Restricted', 'Delilah', 'Comaso', 'Judith', 'Extender,', 'Amazon.com', 'STAR', 'CAPTAIN', 'AMERICA', 'CA-076', '5R', '4R', 'Zandora', 'I.C.', 'Rollover', 'Zhesty', 'Boxingcat', 'Celeb', 'Midi', 'Dresses', 'Tshirt,', 'Bugaboo', 'Interchange', '1-mm', '1.5-mm', '1.7-mm', '3+1', 'Secure', 'Wheat', 'B342', 'Night,', 'Forget', 'Terrex', 'Malachite', 'Caricature', 'Sota', 'RB4165', '54', 'Hi-Rise', 'Grated', 'Cheese', 'Lifter', 'Abdominal', 'Latex', 'Wonderling', '(Pink/Clear)', 'Caboose', 'lifter', 'panty.', 'Abdomen', 'control.', 'special', 'ruching', 'center', 'Red)', 'Blueberry', 'Hues', 'Dress/Blouse.', 'Helps', 'Smaller', 'Seconds.', 'Drip', 'Zumba', 'Z1', 'Small/Medium', 'DISCONTINUED', 'W1540', 'M1540', 'DMX', 'Infrastructure', 'Wink', 'Post-Pregnancy', 'F108WH', 'Boot,Black,7', '2-Illumination', 'Banddit', 'Boot,Stone', 'Leather,5.5', 'Miidori', 'Ever', 'Captivate', 'Cream,', '(5-6)', 'Shoe,Green/Silver/Buttercup,5.5', 'fleece', 'Taslon,', 'Tank,', 'Fat-Free', 'Hi-Waist', '#2107', 'ASX', 'W-214H-4AVCF', 'Armor', 'Rapid', 'Inches.', 'Squiggle', 'Ukala', 'Taj', 'LessTM', 'Philippians', '4:13', '1438', '1207', '1216', 'Double-Knee', '1889', 'Comfies', '2-mm', 'Morocco', 'Thermopolis', 'Beanie,Black,One', 'Thrmopolis', 'Headband,Black,One', 'VL1901M', '8-Feet', 'Airwair', 'Llc', '1461', 'Grayson', 'Mk', 'Continental', 'Scoopneck', 'Placket', 'Rollup', 'Black/Grey/Red,', 'Zutano', 'Cozie', 'Shaggy', 'Reeshift', 'Full/Ankle', 'gypsy', 'bohemian', 'XLOOP', 'SUNGLASSES', 'Rimless', '2326', 'Inala', 'Carrie', 'Boot,Chestnut,6', 'Irresistible', 'Diamante', '09016', 'KC4766', 'Bracelets-', '(110', 'Total)', 'Converters', 'Gymsack', 'Turkey.', 'Forplay', 'Seductress', 'Larry', 'Levine', 'BALANCE', 'MT411', 'RUNNING', '1435', '1433', '1439', 'Sponge', 'Amy', 'Seamed', 'L&amp;C.', 'CyberSteam', 'Sola', \"Valentine's\", 'Embassy?', 'Cognac', 'Arletta', 'Chameleon', 'Earring,', 'Faina', 'Appeal', \"Middleton's\", '00132', 'Hotel', '7.5in', 'Cosmetics', 'Kokomo', 'Sandal,Algiers', 'Blue,5', 'Frio', 'Back,Tan,5', 'Mandalyn', 'Ola', 'Earrings-SE3050', 'Pj', '&quot;Vintage', 'Riveted', '1462', 'Accentz&reg;', 'BV110', '3-row', 'Wedding,', 'Prom,', 'Pageant', 'Ewaso', 'Pasas', 'Shoe,Algiers', 'Blue,7', 'Zirra', 'DTC2503SK1', 'kilofly', '**4', 'choices**', 'Keiko,', 'Cabrillo', 'Sandal,Olive,5', 'Makena', 'Flat,Green,5', 'Onex', 'Felicity', 'Tioneer', \"Docker's\", 'GEL-Intensity', 'Cross-training', 'GEL-Speedstar', 'GEL-Neo33', 'GEL-Excel33', 'GEL-Fuji', 'GEL-Phoenix', 'Boot,Black,5.5', '2170', 'Zag', 'Gel-Noosa', 'Geraldine', 'Malaga', 'Quarter-Zip', 'Mock-Neck', '1434', '1436', 'Colours', 'PU', 'Exotic', '[Kitchen]', 'Helmsman', 'Denied', 'Bi-Fold', 'Maylin', 'Ansley', 'Hand-Wind', 'WM090', 'Pajama,', 'Crimson,', 'Stevens', 'Earmuffs', 'Rialto', \"'Vette'\", 'Pentagon', 'Boot,Taupe,6', 'Boot,Chocolate,8.5', 'Vernier', 'VNR205', 'Pump,Black,6', '6B2DPM', 'VNR11019', '3Pack', 'Volume', 'Tassie', 'Descender', 'Dg', '(Country', 'Club);', 'Sodalite', 'Targus', 'Designed', '16-Inch', 'Laptops', 'TSB226US', '(Black/Red', 'Accents)', 'Williams', '3-Button', 'Bridesmaids', '1632', '1636', 'Jinx', 'Minecraft', 'Periodic', 'Downbeat', 'A378M', 'A378W', 'Postpartum', 'Section,', 'Bea', 'Comet', 'Leather,8', 'Demure', 'Iyashi', 'GT-2170', 'GEL-Noosa', 'GEL-DS', 'Gel-Phoenix', 'GEL-Cirrus33', 'Fame', 'Genie', 'only', 'pictured)', 'sent', 'randomly', \"(seller's\", 'choice).', 'CWR-779.00', 'Valsetz', 'Monicaca', 'Tropics', 'GEL-Kinsei', '12-Pack', 'Reneeze', 'W-ROSE-1', 'Boot-', 'Muka', 'Or', 'Super-Molded', 'Add-A-Size', '1278', 'Signet', 'Nubuck,10', 'Zombie', 'Bloody', 'Scars-3', 'Wounds', 'GreyBlue', 'Broccoli', 'Wad', 'East', 'Islander', 'Sonoma', 'Seaway', 'Loafer,Tan,6', 'Bi', 'Beluga', 'Jayna', 'AT656', 'Cactus/Shadow/Black)', 'Chequered', 'Arafat', 'Kafiyah', 'Conceal', 'Cotour', 'Mercury', 'Grey/Ultra', 'Jubralee', 'Revo', 'Remix', 'SNK795', 'G9300-1', '1/2)', 'Transpire', 'Athletic,Black/Metallic', 'Grey,9', 'Flop,Sand,8', 'Redon', 'Move', 'Osu', 'Drift', 'PUMAgility', 'Tergament', '76', 'Flop,Black/Raspberry', 'Rose,9.5', 'Shoe,Navy,8', 'H-Street', 'Ranon', 'Peregrine', 'Ignition', 'Cohesion', 'Shoe,Silver/Black/Pink,9', 'Shoe,White/Silver/Pink,7', 'Powergrid', 'Bare-XF', '210', 'Max+', 'Avian', 'Rant', 'Violotta', 'Regen', 'Meeker', 'Drag', 'Offshore', 'Declination', 'Non-Iron', 'Flaxen', 'Bora', 'Booney', 'Lillyfern', '(X-Large,', 'Gingham)', 'Hollyleaf', 'Skort,', 'Glove,Black,10', 'Stellabloom', 'ES2955', 'ES2963', 'Seafish', 'Seana', '109416RGBL', 'Famke', 'Iggy', 'Burbank', '10/9923CMTN', 'Sweet-N-Flare', 'Chambers', '28x32', 'Cascadia', '1276', '18K', '1428', '1277', 'GTS', 'Pumagility', 'Shoe,Grey', 'Violet/Dew', 'Berry/Lime', 'Punch,10', 'Wescoat', 'Sweet-N-Low', 'Easton', '29x32', '11990', 'Maeslin', 'Spinning', 'Janice', 'Franchise', 'Endow', 'Cicero', 'Ink,', '10x34', 'Gemma', 'P-5', 'ORTHAHEEL', 'Clayton', 'Vionic', 'Mojave', 'Muir', 'Bartlett', 'Vedano', 'Haddon', 'LIG', 'Softwash', 'Sidewinder', '1781120', 'Toned', 'silicone', 'Carnelian', 'Khombu', 'Glossy', 'Cocoa', 'Peri', 'Kinsei', 'Lay', \"'D'\", 'Kaleidaslope', 'WrightSock', 'Northbend', \"Sara's\", 'Neckband', 'Personalized', 'Any', 'Hide&amp;Seek', 'Sermon', 'Fearless', 'Gramercy', 'Evant', 'Trophy', 'Award', 'Sandal,Beige', 'Leather,6', 'Rosebud', 'Leather,12', 'Sennett', 'Harmony', 'Leather,5', 'Taker', 'Relaxinn', 'Kimery', 'Qunity', 'Clemence', 'SU', 'Courteous', 'Edie', 'Larue', 'Sookie', 'Illumie', 'LM1002', 'Zenobia', 'Tatiana', 'Theodora', 'Boot,Luggage,10', 'Classica', 'Tennley', 'Jodhpur', 'Callanw', 'Chamber', 'Straight,', 'Spring,', '30x34', 'Ella', 'Reesa', 'Milly', 'Tonga', 'Graphifoto', 'Pump,Black', 'Leather,8.5', 'Carmine', 'Clementine', 'TR7', 'Shaelyn', '725', 'Catatude', 'Palmer', 'Caprina', 'Supercoil', 'stainless', 'steel', 'groomsman', 'MC1016', 'M2P', 'Griffin', 'Hanover', 'Watches!!!', 'Tanner', 'Candyman', 'Portal', 'Loves', 'Kenny', 'Fay', 'XC5', 'Serafino', 'How', 'MX1012', 'WW101', 'Earwrap&reg;', '(tiny', 'two', 'Earcuff)', '6DSS', 'Gunner', 'Dark-Rinse', 'Cross-Hatch', 'Lucia', 'Resort', 'Dusk', 'Azore', 'Woodward', 'Sandal,Light', 'Arabic', 'Numbers', 'Tilden', 'Karma', 'Quimby', 'AT4008-51E', 'Bras,Fruit', 'BIOM', 'M1080', 'M890v2', 'W1080v2', 'Layla', 'Yasmin', 'Porto', 'W890v2', 'M770v2', 'Expressa', 'MT810', 'WT110', 'WT810', 'Shoe,Blue/Black,9', 'M730', 'W730', 'W580', 'MT610', 'Transit', 'MR00', 'WT00', 'Zero', 'Kiawah', 'Modtech', 'Drain', 'Horny', 'Toad', 'Oolong', 'Hanford', 'Bouillon', 'Balm', 'Used', 'Plugs,', 'Tapers,', 'Expanders', '10ml', 'Willis', 'Judd', 'Academy', 'RealFlex', 'Chocolate,', 'Blazer,', '10P', 'Zignano', 'ZigActivate', 'WorthTrust', 'DISPLAY', 'Chameleons', 'Babylegs', 'Monsters', 'Cosmo', 'FEA', 'Deadmau5', 'Mau', '8-Pack', 'WL801', 'KMD', 'Gauges', 'Plugs', 'single', 'Tapers', '12G,10G,8G,6G,4G,2G,0G,00G', '7-13.5', '7-15', '(Sz', '16)', 'Fist', 'Platforms', 'Carliana', 'Aqua/Surf', 'Crosmesh', 'Flat,Raspberry/Raspberry,11', 'Bercuda', 'Shoe,White/Black/Light', 'Onix,8', 'Shoe,Tan,5', 'Illusion', 'FRENCH', 'TOAST', 'Picot', 'Muse', 'Chrome-Plated', 'Icelet', '6PPK', 'BAG', 'COTTON', 'NO', 'SHOW', '(L)', '(ADULT', 'UNISEX)', 'Giftware', 'Wristband', 'Swingpack', 'Tideline', 'A-Leigh', 'Decade', 'Miller2', 'Lulianne', '9-Inch', 'Advocate', 'Angie', 'Ambler', 'Bark', 'Sandal,Brown,8', 'Plymouth', 'Flop,Brown,6', 'Sycamore', 'Updraft', 'Genweb-W', 'DoubleDry', 'L-Black', '2T/3T', 'Yarkona', 'Yesenia', 'Weslie', 'Raindrops', 'Glam', 'Wild/Boy', 'RSQ', 'Problems', 'BoxerJock', 'Overnight,', 'Weekend,', 'Meleen', 'Molalla', 'Sanrah', 'Springi', 'Flat,Scarlet/Oyster,11', 'Dockside', 'Flat,Nautical', 'Navy/Oyster,5', '9-10mm', 'Phistic', 'Puffer', 'privo', 'Fissure', 'Joyce', 'Sandal,Jade', 'Green/Drizzle,5.5', 'Etnies', 'Fader', 'BM8475-00F', 'Lee-01', 'Structure', 'Shoe(Little', 'Dearborn', 'Go-To', 'Dress,Black,X-Small', 'Next-to-Nothing', 'Shirt,Black,Medium', 'Dillon', 'Glisan', 'ExO', 'Keyboard', 'Praise', 'Enchant', 'Prosper', 'MELLIEHA', 'Dobby', 'Mallard', 'Flop,Blue,9', 'T2N720', 'Intelligent', 'Temp', 'Earthies', 'Domingo', 'Sandal,Black,9', 'Stylized', 'Left', 'In-Motion', 'Photo', 'Valerie', 'Pippa', 'Sandi', 'Dani', 'Tasha', 'Thea', 'Unityy', 'FenyStore', 'Binary', '1245', 'Palomi', 'Cecelia', 'Bashful', 'Bola', 'Squared', 'Inez', 'Chicca', 'Jocky', 'Divine', 'Mayan', 'Fit,', 'Adjustable,', 'Inches,', 'Bodysuits,', 'Dainty', 'Ox', 'Shirt-', 'CAMRYN', 'BRADLEY', 'Horned', 'Rim', 'Showyou', 'L-Camino', '1481', 'W07S37C', '(4', 'XS/S,', 'XL/2XL,', '2XL/3XL)', 'SA.P', 'Bag,Multi,One', '1-1/4&quot;', 'Spheres', 'Hilt', '23.5', 'camisole', 'built-in', 'Sherpani', 'MyGift&reg;', 'Tiers', 'Bird', 'terra-01', 'mid', 'calf', 'combat', 'boot', 'micro', 'fiber', 'lining', 'Trina', 'Sun-Staches', 'Sunglasses&quot;', 'eyes.', 'heads.', 'BE', 'PARTY.', 'Carved', 'Same', 'Rift', 'Colleen', 'Jenna', 'Kid),Purple/Multi,11.5', 'Dumas', 'Faviola-1', 'Scutes', 'DG', 'Gafas', 'Sol', '12133', 'RT', 'APC', 'Durham', 'VNR11072', 'Camo,', 'Breatho', 'Aluma', 'Wallet-', 'Christ', \"20''\", 'Chain+Black', 'Cord+Bracelet', 'Gift+Gift', 'Starry', 'Breckelles', 'Rider-82', '84N', 'Flanders', 'Practice', 'Brunswick', '293.00', 'Coastline', 'Flat,Sand,7.5', 'Leisureland', '2-Strap', 'Paprika', 'Cinnamon', 'Vince', 'Camuto', 'Ellen', 'WallFlower', 'Legendary', 'Famous', '353.00', 'J-41', 'Naples', 'Sandal,Nude,7.5', '0434', '10663', '10664', '10665', '1161', 'Ceramics', '1476', 'Scuba', '1512', '&quot;Force&quot;', '1513', 'I-Force', '1514', '1516', '1517', '1531', 'Subaqua', '1611', '1616', '1770', '1771', '1773', '1775', '1798', '1902', '1906', '1911', 'Cheerio', 'Golf-Size', 'Sandal,Pink,10', 'Montana', 'Clog,Natural,6', 'Grim', 'Reaper', 'Pinups', 'Palette', 'Sofia', 'Taft', 'Columbia,', '29x', 'Brinley', 'Deb', 'KT20', 'Trial', 'Kid),Black/Blue,2', '#71380', '#71371', 'Fling', 'Bra&reg;', 'DD', 'Rumblets', 'Howlite', '01310', 'Quartet', 'Orthotic', 'Reggae-Rockfest', 'Reggae-Ziggy', 'Scraper,', 'Back&quot;', '1465', 'Zinfandel', 'LUOS', 'Bead-', 'good', 'prosperity', 'success', 'W/28', 'Trippy', 'Flat,Tan,10', 'Monaco', 'Sunbrella', 'Wildlife', 'YCM1301', 'Wallet-money', 'Femme', 'Cheeky-', 'BEST', 'VALUE!!!', '1162.12111', 'HK', 'Klum', 'Dana', 'Q-baby', 'Pom', '(.60ct', 'Globe', 'Bulldog', 'Rock&amp;Gold', 'lulu-Jungle', 'Chetx', 'Enchantment', '3-Section', 'Sewn', 'Lilyette&reg;', 'Marlow', 'Wool-Blend', 'Single-Breasted', 'Topcoat', '33x30', 'Shoe,Black/Castlerock/Hot', 'Pink,12', 'Hummingbird', \"18''\", 'Swimdress', 'Taillissime', '(Black,18/20)', 'Coverup', 'Ribbing', 'PureFlow', '(3.75mm', 'FRIENDSHIP', 'BRACELETS', 'PERU!', 'capris,', 'denim', 'twill,', 'mock', 'fly', 'SweatPants', 'softest', 'Tunic-Length', 'tabs', 'cropped', 'cool', 'linen', 'skort', 'Burke', 'sarong', 'microfiber', 'down', 'parka', 'swimsuit', '3-button', 'henley', 'Leisure/Sleeping', 'pockets', 'EasyComforts', 'Spalding', 'Flare,', 'Away!', 'Shimmer', 'Finn', 'Zelda', 'Embossed/Printed', 'WIndow', 'IG0097-SM1S-Y', 'Weil', 'Post-pregnancy', 'Girdle,', 'Xl,', 'Xxl,', 'Seconds', 'Forza', 'TF', 'MD', 'Jammie', 'Khari', 'Rival', '3-Color', 'Waterbug-Barefoot', 'Crater', 'Shimmering', '363807', 'Dri-FIT', 'Sons', 'Anarchy-SOA', 'Ireland', 'Diaura', 'Telford', 'Copan', 'Cottonista', '36B', 'Sprouts', 'Apparently', 'Xlarge', 'striped', 'mens/womens', 'snowboarding', 'hats', 'cube', 'Playful', '18-Inch', 'Snowboarding', 'Marware', 'Jurni', 'Kindle,', 'Kindle', 'Touch,', 'Paperwhite', \"''Waverly''\", '12066', 'kid)', 'LL', 'LO', 'Bobble', '10B(M)US', '8B(M)UK', 'Harley', 'Underwire,', '34D-White', '11999', 'Milgrain', 'Tyr', 'Luster,', 'Earring.', 'Maile', '(New', 'Products)', '40/8246LGN', 'Myia', 'Passiello', '&quot;Timeless&quot;', '(2cttw)', 'Asscher', 'Lasting', 'Shockproof', '28', 'Kiburi', 'Zalika', 'W.P.', 'W.B.', 'Dex', 'Kevlar', 'Fixer', 'Repellant', 'Grain', 'Fencer', 'Sportsman', 'Chamois', 'Oxbow', 'Bend', 'Diamonds', 'Christening', 'Baptism', 'Bloomers', '9-inch', '4-inch', 'Paso', 'Size/Color', 'Loafer,Natural,8.5', 'Restore', 'Rhythm', 'Carina', 'JET', 'SET', 'LOGO', 'Tote,Brown,One', 'Chatham', 'Sandal,Nude,10', 'Odesa', 'Goredo', 'Oxford,Chocolate,12', 'C.M.C.', 'Sharyn', 'Wingspan', 'Really', 'Grandpa', 'Like', 'Nest', 'zeroUV&reg;', 'IG0098-RLC8S-Y', 'SL-11844-WWSA', '&quot;Neptune&quot;', \"''Desmond''\", '&quot;J&quot;', '(2.50', '(7-7.5mm)', '(10-10.5mm', '0Rb3477', 'Border-Print', 'Pamela', 'Mann', 'XXXL', '(1.75', 'Braidy', 'Acid', 'Spacer', 'GEL-Venture', 'Oren', '(9-9.5mm)', 'socks', 'Fleece-lined', 'LIGHTWASH,', 'Qupid', 'RELAX-39', 'Feetures!', 'Hyp', 'HY103', 'comfort', 'snow', 'Locs', 'Zipster', '-4', 'SNAE56', '[Watch]', '(6-14', 'Years)', 'MRW200H-1EV', 'WS220-1A', 'MRW200H-7EV', 'MRW200H-1BCT', 'A158WEA-9CF', 'Shear', 'Steel-Silver', 'Ooh', 'Bikers-Fixation', 'Biker-Vexed', 'Upgrades-Head', 'Glued', '(17', 'Clawdeen', 'RELAX01X', 'Kid),Bubblegum/Oyster,12-13', 'Tanorama', 'Centennial', 'Chant', 'XO5429', 'XO5386', 'comics', 'captain', 'america', 'first', 'shield', 'fitted', 'jersey', 'tee', 'Anemone', 'Powersox', '6674', 'Heat', 'Holders', 'Original,', '7-12,', 'Forest', 'Grabber', 'DBUSMHHORGCHARC', '5-9,', 'Wishing', 'WH0106', 'Thrones', 'Stark', \"1.5''\", 'made', '(9068)', 'Insulation', 'Texting', 'Cover,', '6021', 'Onsie', '(1.30mm', 'Mechanic', 'Wetlook', 'Stripper', 'JE36162B&amp;C', 'Nubuk', 'Crackle', 'Lunetta', 'Whirl', 'Orleans', 'Panya', 'Sandal,Black,7.5', 'Newly', 'Traisie', 'Shoe,Navy/Marine,8', 'Teamsport', 'Formation', 'Packurbags', 'Larysa', \"'Hat-imals'\", 'Paws', '(Collection', 'BeWicked', 'Vintage,', 'Bronze/Brass', 'BeltsandStuds', 'Favourite', '10G-00G', 'O-rings', '14G-00G', 'Scooped', 'Bare-Shoulder', 'Draped', 'Shades', 'UVB', 'UVA', '(2-5mm,', '2-6mm,', '1-7mm', 'P1863', 'Technology,', 'frame', 'Erica', 'Xbody', 'Shawna', 'Silverflake-', '(sizes', '7,8,9,10,11,12,13', 'available)', 'ReliOn', 'WF813', 'Humidifier', 'Filter-2', 'Loop,', 'Aaaaa', 'Cobalt', 'Pated', 'COMFORT-FIT', '15)', 'Slip-On,Black,7', '43mm-1.75', '1/5ct', 'Soda', 'Object', 'Flats-Shoes', 'Led', 'Shoelace', 'Pair,', 'included', 'Torrid', 'AQS800W-1B2VCF', '&quot;Slim&quot;', 'AQS800WD-1EV', 'Maxlite', 'Rollaboard,', '25&quot;', '2718', '(Faux', 'Fur)', 'Function', 'Ellsworth', 'Sandal,Dark', 'Brown,9', 'Haviland', 'Latimer', 'Whiteledge', 'Har', '9-14', 'BM8475-26E', 'BM7170-53L', 'ProTrek', '(Pathfinder)', 'PRW2500-1A', '(Blue', '2004401', '(Purple)', 'M-Expo', 'M-Gamer', 'Erika', '13-pk.', '2016401', 'Sound', '(0.10', '3in1', 'Hat/Scarf/Mittens', 'Neoprene', 'Facemask', 'Frederica', 'Bernkastel', 'Cosplay', '(Model:jf010071)', 'Vocaloid', 'Megurine', 'Luka', '(Model:jf010124)', '(Pink)', 'Pixies', 'Pastels', 'Amendment', 'MAKOWSKY', 'Tote,Rust,One', 'BellaBand', '(9', 'Each),', 'HOTER?', 'Spider-web', 'Carving', '1710308', 'Yogi', '32DDD', 'Carnevale', 'Elements,', 'Given', 'Tanealy', '9x9mm', 'Spacers', 'Sliver', 'Caprice,', 'Dione', 'Nifty', 'Handbags', '&quot;Add', 'Size&quot;', 'Opera', 'Sleep/Lounge', 'Micro-Fleece', 'Small/Medium/Large', 'Zenana', '0-24', 'Months)', 'Luau', 'Lowneck', 'Rust,', 'CHERRY-2', 'Kirkland', '/Pack', 'Crypton', 'Future', 'Media', '(Model:', 'Jf010078)', '(Cyan)', 'oversized', 'Style-', 'GA-100B-4A', 'Relentless', 'MK', 'MK5544', 'ALEAH', 'Caileen', 'Hugh', 'PAIGE', 'Zoom', 'Vomero+', '36.5', 'Attractive', 'Case/eyeglass', '1061801', 'Chlambake', 'Vineyard', 'HOEREV', 'Waspie', 'Crafter-Gnome', 'Clog,Black,7', 'Vesper', 'Vevay', 'Everlast', '1038801', 'Soulful', 'Indigo,12', 'Bermuda,', 'Blue,4', 'Jeans-', 'Pajama-style', 'Popular', 'Patterns', 'Goodie', 'Rhode', '9s', 'Irvanda', '1710294', 'Janine', 'Microfiber/Spandex', '#1095', 'PRW2500-1', 'Pro-Trek', 'Balloon', 'W000182', '&quot;Butterflies', 'SNKK25', 'Falls', 'Piercing', 'Fascination', 'RX', 'Trunk,', 'Banana,', '990V3', 'Versa', 'Geek', 'Retro-Vintage', 'MT510', 'Trail-Running', 'WT510', 'Cairo', 'sets', 'Fur)/Animal', 'HEAD', '9-12', '70s', 'TAC.U', 'Anatomical', 'Horror', 'BestDealUSA', '40/8251RED', 'Amp', '11.5', 'Trifit', 'Shoe,Black/Sulphur', 'Spring,7', 'Camis', 'Mandarin', 'Chrissy', 'Gracie', 'Gwyneth,', 'Racy', 'Rita', 'Gable', 'Expressions', '7.5mm', 'KJ990', 'KV624', 'KX624', 'Scream', 'Warby', 'Pump,Citron,6', 'Winona', 'Zentai', 'Supersuit', 'KV689', 'KJ689', 'ZAD', 'Bangles', 'Kismet', 'MT20v2', 'WT20v2', 'Knotwork', '1433133', 'Touchscreen', 'Hoops', '(0.55', 'Foil', 'SwitchFlop', 'Ring-Hawaiian', 'Crotch,', 'Seams,', '#3048', 'Birch', 'Squadron', 'Panther', '4030063', 'Religious', 'Scripture', 'Kingman', 'Striking', 'Simplicity', 'FootSmart', \"''Utilitarian''\", 'Crossbody-to-Shoulder', 'SACAS', '23&quot;', 'Techfit', 'Prime', 'Ugly', 'Menage', 'Trois', 'Tipsy', 'Elves', 'Alisha', 'Sage', 'Brush,', 'Acczilla', 'Poland', 'Handkerchiefs,', '14&quot;x14&quot;,', 'Miku', '110cm', 'Wigs', 'SportGrip', '(does', 'not', 'Touch)', '(pack', 'pairs)', '80%', 'baby', 'boy', 'Appliques', 'Minded', 'Malia', 'Nylon,', 'Opening', 'texting', 'glove', 'iPhone,', 'iPad', 'touch', 'screen', 'devices,', 'SolidOffWhite', 'Multipack', 'Elbow', 'Wateproof', 'Gloves-', '4-7', 'Yonder', 'PRW2500T-7CR', 'Gwenore', 'LP337BK', '36x32', 'Sponge,', 'Centered', 'View', '(Width', '11.5MM)', 'Tights,', '#009', 'Curvi', 'Greatlookz', 'Bobby', 'Arnie', \"''Victorian''\", 'Vintage-Style', 'Allegra', 'Horizontal', 'Barbell', '8pc', 'Self-Wind', 'WM125', 'LeggingsQueen', 'Vassarette', 'Silken', '(18338)', 'Undershapers', '(40001)', 'Howl', 'Forty', 'Pintucked', 'Hyppe', 'bow,Black', 'Fabric,9.5', 'Kolasso', 'Anzwer', 'Ripped/Patterned', 'Tights.', '5293E', 'ZiGiny', 'WX797v2', 'WW968', 'WW695', 'WO20', 'WW895', 'WX20v2', 'WW928', 'Xenia', 'Malco', 'Modes', 'Tea-Length', \"1950's\", '(Style', '591)', 'Cutting', 'M520W', 'Luzter', 'Multi,7.5', 'MW928', 'MW928S', 'Leather/Mesh', 'PattyBoutik', 'MW968', 'MX797v2', 'Archer', 'Oxford,Black/White', 'Fur,6', '3PC', 'UPF50+', 'E.', 'Libby', 'Pant-Assorted', 'Some', '20/4739TRTI', 'Black-Ion', 'Ethnic', 'Bandeaukini', 'Bitter', 'Safet', 'Protectors', '(Total', 'Sleeves)', '2Pc', 'Fleck', 'Anenome', 'Padding', 'Pinstripe', 'Underwired', 'Chuvora', 'Yoga,', 'Aum,', 'Om,', 'Ohm,', 'India', '578)', 'Rainy', 'Belt;', 'CB2)', 'Fandango', '85103,', '&quot;We', 'Semi-clear', 'Bag/', 'Swimming', 'Save', 'Pantyhose.', 'Underbust', 'Corset,', '6640', '20G', '(0.8mm)', 'Lat', '6040', '5368', 'Sandal,Black,10', 'Pendant-Necklace', 'Skyscape', 'Runaround', 'Gomax', 'Jinger', 'Jocelyn-47A', 'Pump,Coral,7', 'Scratcher', 'Random', 'Shipped', 'Wayfarer-', 'Athleisure', 'Juna', 'Leak', 'Proof', 'Zuden', 'Pump,Beige,7.5', 'Pump,', 'Malibu', 'Three-Piece', 'Condor', 'Summit', 'Cartilage', '16g', 'Stud-Helix', 'Jewelry-Available', 'Clear-Pink-Rainbow', 'Color-18', 'gauge', 'thru', '2.75', 'DG12', 'S1', 'w/Protective', 'DG26', 'Kriya', 'Ghillie', 'Universal,12', 'Sunlit', 'Indigo,6', 'Needle', '6-pack,', 'Short,White', 'Light,27/5', 'CC759,', '5-9', 'F219', 'L528', 'CoupleOf', 'TA', 'Peeptoe', 'Pump,Black,37', 'EU/7', 'LP36407-PAM', 'AW', 'you', '.060', 'Spiga', '050', 'MW-06', 'MW-07', '5in.,', 'Riaze', 'Wip', 'Tobacco', 'Drape', 'Yogacolors', 'Jobar', 'Warmup,', 'Jogging,', 'Gym/Track', 'wristband', 'bracelet,', \"'Contrast'\", 'basic', 'no-show', 'atheletic', 'Cateyes', 'Pointed', 'Cat-Eye', 'Key-Hole', 'Bridge', 'Wellington', 'LK', 'Frazzle', 'Water-Resistant', 'Anti-Pilling', 'Engravable', 'PW20', 'Pants,23991,2XL,Pink', 'Custmized', 'CB', 'Jennie', '2308-RoseGold', 'Jeggings', 'gentle', 'butt', 'lift', 'stitching', 'Loveknot', '3.5MM', 'Getta', '5MM', 'Casted', 'Thinstincts', '1069', 'Reveal', '(853115)', '36G/Azure', 'ShoppeWatch', 'PWMSK19', 'Flat,Black/Black', ',8.5', \"Kay's\", 'Carlo', 'Boutik', 'PW-23', '46&quot;', 'LensCovers', 'Polarized!', 'Rage', 'Calender', 'Viviana', 'Sash', 'G8900A-1CR', 'Greyti', 'Natural,7', 'Dixy', 'Bathrobes', 'Ruffle.', '12-Pair', 'V-Lace', '#1262M', 'LP36408-PAM', 'Renagade', 'Checkers', '4-9.5', 'Sully', 'Piano', 'S)', 'Adele', 'Priscilla', 'Hi-Cuts,', '12-Assorted', 'Brilliant&reg;', 'Stain-Release', 'SUNRAY', 'YELLOW', 'Rodeo', 'Liroyal', 'necklace', 'Wired,', 'Padded,', 'Wider', 'Pcs)', 'Shoe,Ultra', ',Black/White,6', 'Nice', 'Bow,', 'Velvety', 'snoozies', 'Chemistry', 'Cincher,', 'Tamers', 'concealers', 'Lace-Back,', '#282', 'Suntan', '36C-Mauve', 'X-CeleRacers', 'X-Othermal', 'Magestee', 'Glaare', 'Lindy', 'Bop', 'Hepburn', 'Rockabilly', \"'Amie'\", \"1940's\", 'Pinup', 'Wurl', 'Anarchy', 'Teller-morrow', 'L-Astrid', 'Drawcord', '#810', 'Burwood', 'Samcro', 'Atta', 'Aum', 'jar)', '70D', 'THESIS-92', 'eighteen', 'Zest,', 'Faxon', 'Cantor', 'O563XSGSC', 'Vito', 'Warm,', 'Double-Layered', 'Double-Layered,', 'Cuff.', 'Umizoomi', 'ULTRA,Black/White,7.5', 'EH140FL', 'Black/One', 'ES3077', 'Turquoisite', '10MM', 'Ping', 'Fu-', 'W013', 'Turquoise/Fuchsia,', 'Payday', 'Blustery', '#1529CF', '#729CF', '#2192CF', 'Owl,', 'Elf', 'Davidsbeenhere:', 'Snoop', 'LibbySue-Metallic', 'Wrap/Shawl', 'Bevel', 'Masonic', '(full', 'half', 'Spectacular', '21.00', 'carat', 'Raya', 'Dress/Cover', 'Colors.', '#4491', 'charm', '-fits', 'pandora', 'troll', 'bracelets', 'Manhattn', 'Loafer,Black', 'Patent,9', 'Watch.', '20mm.', 'Prancing', 'Gyp', 'Taclite', 'XO5410', 'Silver-tone/White', 'XO5313', 'Glamout', 'Waverly', '12-Pair-Pack', '#2539WS', 'KNEE', 'Single-Pair', 'Value-Pack.', 'Tasc', 'Carrollton', 'Breathtaking', 'Slipper,Tusk/Coral', 'Newton', 'Snowtrek', 'Silcox', 'Boot,Black/Lux,9.5', 'Boot,Black/Charcoal,10', 'Sunshine', 'Grateful', 'Vibrating', 'Opaque,', '#8902', 'Trekker', 'CandyMan', 'Tally', 'Marks', 'Blue/White', 'Tights/Leggings', 'Size/Black)', 'Minx', 'Plus-Wide', 'Kawaii', '1951VI', 'Tweed', 'Cabbie', 'Basque', 'V1187W', 'Grey/Black/Light', 'Blue,8.5', 'Mankind', 'Sammmii', 'Multi-Style', 'On/Off', 'Asym', 'Ollio', 'Funpals', 'Barbed', 'Sexiest', 'Crafted', 'CONCITOR', 'Slacks', '5.5-10', 'Flip-Flop', 'Flips', 'Black/Black', 'SNK807', '8-9mm', '3-4mm', '12pcs', 'Beads;', 'Length.', 'Spa/Bath', 'Capuccino/White', 'Periea', 'Liner,', 'Chelsy', 'LibbySue-Plaid', 'CHUCK', 'TAYLOR', 'ALL', '(M9166)', 'M7652', 'Puppy', 'Fuji', 'MapofBeauty', 'Fish', \"''Ziggy''\", 'Non-Pierced', 'Hoops-Clip', 'Earrings-Fake', 'Ring-Fake', 'Lip', 'Chandelle', 'feet', 'FREE', 'Backing', 'Crawford', 'Watch-Chocolate', '5-6mm', '18G', 'Hates', 'Pushups', '(Grey)', 'AM', 'Landen', 'Knee/Thigh', 'Ship', 'Upgraded', 'Version', 'Rosalia', 'Bra-Tastic-', '3,', 'Multicoloured', '22G', 'Pearled', \"That's\", 'Enough', 'Interaction', ',S', 'Tenis', 'FishNet', 'Naturally', 'EVS', 'most)', 'Cz.', 'Zirconia.', 'Doily', 'Fab', '7.25', 'Profesional', 'covered', 'Pushbacks', 'Pitch', '32x32', 'Casie2', 'Sandal,Natural', 'Atanado,4.5', 'Mm.', 'GEL-Flashpoint', 'Gel-', 'Envigor', 'Shoe,Navy/Silver/Lavender,10', 'GEL-Precision', 'Gel-Contend', 'GEL-Lyte33', 'GEL-Scram', 'GEL-Flash', 'GEL-Extreme33', 'Slots)', 'Identity', 'Stronghold', 'GEL-Contend', 'Shoe,Navy', 'Blue/White/Bright', 'Blue,9.5', 'GEL-Scout', 'Equation', 'Haley', \"women's\", 'SlideBelts', 'Ratchet', 'Extension,', 'Cateye', 'NYC', 'Sharp', 'High-Pointed', 'Definition', 'Glare', '4098a', 'GS', 'DP405W', 'D590W', 'D115W', 'D600W', 'DP310W', 'SAND/CREME', 'Dri-Fast', 'Dri-Fast&#153;', 'Advantage&#153;', 'SNZG15', 'Touchscreen,', 'frogg', 'toggs', 'MK2249', 'white', 'Matched', 'HI', 'WC', 'Multi-Cargo', 'Foy', 'Baddabing', 'KUT', 'Kloth', 'Catherine', 'Mid-Support', 'Semi-Fit', 'Stealth,', 'Attencio', 'Ground', 'Aubrey', 'Pixie', 'Zee', 'Bra!', 'AA/A-cup', 'Chalet', 'Honu', 'Screw-back', 'PVD', 'Julia', 'Osbert', 'Gota', 'Sandal,Coral,8', 'G-Strings', 'Dany', 'Rfid-tec', 'Gold/Brown', \"'12\", 'T2N751', 'T2N746', 'T2N745', 'T2N836', 'T2N837', 'T5K595', 'Up2date', 'Caftan,', 'Most,', 'Style#Caf-65', 'Enterprise', 'Calm', 'Blink', 'juDanzy', 'leg', 'babies,', 'children,12', 'long,one', 'MLed-Lava-BB', 'KJ750', '(Lttle', 'K3090', 'IONIX', 'Michelle', 'Tremblant', 'VH', 'Grippem', '(Anklet)', 'NEEWER&reg;', 'Pre', '27129', 'Pouch.', 'Tampa', 'W/Lobster', 'Russian/Trapper/Trooper', 'Headscarf', 'Neckwarmer', 'SC88034A', 'meters', '(14.8', 'feet)', 'Lacing', 'Fly-By', '(0002,', '(0100,', 'Gray)', 'extra', '(L100,', '10/9918RGLP', '10/9813SVSV', '10/9956BMTO', '10/9416GMGN', '10/9536RMRG', 'Rose-Gold', 'Distress,7.5', 'Closed-Toe', 'Reallife', 'Italy.', 'Jax', 'Cream/Putty,', 'Via', 'Sondria', 'Rises', 'TheLees', 'casual', 'china', 'collar', 'rider', 'blazer', 'jacket', 'SVE', 'chain', 'point', 'button', 'vest', 'unbalance', 'peak', 'lapels', 'VE34', 'premium', 'layered', 'coat', 'dress', '25-Litre', 'Snow!', 'Fennco', 'TShirt', 'Pride', 'Wrapper', 'Ity', 'Macrame', 'Knotted', 'Necktie,', 'Jewel,', 'Martina', 'BLM004', 'Newbee', 'Fashion&reg;', 'IG', 'Draftsmen', 'MO689', 'MW759', 'M1260v2', 'MW847', 'MC656', 'Shoe,White/Blue,7', 'M870v2', 'MW665', 'MW411', 'MW659', 'Cesenia', 'Trimmed', 'Hibiscus/Black,', 'Pegasus+', 'Bra-liminate', '(1488)', 'BUTTERFLIES', 'Enticemenet', '3-10;', 'Screw-Backs', 'MO889', 'WW759', 'WO689', 'WW847', 'WW411', 'WW665', 'Boot,Black,38', 'EU/7-7.5', 'WW665WB', 'WX1157', 'NB', 'Groove', 'Jf010079)', '(Blonde)', 'W870v2', 'WT710', 'W750', 'W3090', 'Ionix', 'W1340', 'W1260v2', 'WT610v2', 'M3090', 'MT610v2', 'M890', 'seen', 'Met', \"Barney's\", 'Ducky', '00G', '(10mm),', '(12mm),', '9/16&quot;', '(14mm),', '5/8&quot;', '(16mm),', '18mm,', 'Bogan', 'Blowfly', 'Joggers', 'Osprey', 'Porter', '46-Liter', 'EIDER', 'Decor', 'Prince', 'Fremont', 'WL442', 'WCPT', 'WL661', 'Perth', 'SHARKK&reg;', 'SHARKK', 'Brands', 'Blowfish', 'Razmitten', 'World-Generous', 'Espadrille,Aqua/Red,8.5', 'Whirlibird', 'Supa', 'Kaleida', 'Chill-Recycle', 'Thought', 'Thermarator', 'Group,', 'Sakroots', 'Artist', 'Wallet,Papaya', 'Love,One', 'Nima', '1.5c.t.w', 'Metrosafe', 'Gii', '2.00C.T.W', 'Silver.925', 'Mumsie', 'Glosh', 'Slingsafe', 'Slingpurse', 'Pouch,', 'ZigLite', 'Electrify', 'GII', 'Citysafe', '400', 'Timbers', 'YourFlex', 'Trainette', 'Hyperspace', '21.5', '30.5', 'thick', '10249N', 'TWINKLE', 'TOES', 'LIGHTS', 'Shuffles', 'blinking', 'lights', 'Tazon', '10249L', '90406L', 'Pillar', 'Ignus', 'Arms', 'Flatbill', 'CHAREX&reg;', 'Blends', 'Outwear', 'Overcoat', 'Remember', 'T-Shirt;', 'Absorbent', '(Single', 'Victrix', 'MB6002-NWH-L', 'Briefs;', 'Susanville', 'Onyx.', \"Keepin'\", 'Triproute', 'Ingalls', 'Recent', 'Dutchess', 'Lakes', 'Audition', 'Buy', 'Angelic', 'Overbust', '80883L', 'Confetti', 'Bifocal', 'TR-90', '(Tort/Amber', '+1.50)', 'Kid),Black/Red,13', 'Sunriver', 'Glittery', 'Ruched-top', 'Stir', 'High/Leg', 'Warmer/Thigh', 'Soft,', 'Black+Black', 'Akita', 'Aerate', 'Clima', 'Onix/Super', 'Cyan/Hyper', 'Orange,11', '09636', 'Ferno', 'Willamette', 'Slider.', 'Stones.', 'Jane,Chocolate', 'Brown,9.5', 'Arcata', 'Trillium', 'ShiShiMei', 'Mato', 'Hash', 'Keffiyeh', 'Eight', 'Pecos', 'Ohio', 'Snug', 'Lifted', 'Plugged', 'Plum/Juicy', 'Freeze,', '34B', 'Visconti', 'RB', 'Waterloo', 'Oatmeal', 'Intrude', 'Fraankie', 'Enticement', 'Faas', 'Gents', 'MT1010', 'WT1010', 'Control,', 'Coverage,', '#917', 'Included.', 'Delaware', 'Keri', 'Contractors', 'Peony,', 'Betunia', 'Rainfloe', 'Carlisa', '00048', 'Waves', 'Skybeam', 'dimmi', '1.25&quot;', 'Inscription', 'Que', 'Ma', 'Propre', 'Vie', 'Circular', 'Biosensor', \"180'S\", 'Warmers,', 'Ziglite', 'AMJ', '4t', 'Eazy', 'Puzzle', 'Necklace&amp;retro', 'P0971', '02713', 'Sale', '0048B', 'Jay', 'Curlycue', 'Lense', 'Season', '10/9876RGBL', 'Curse', 'Sudden', 'Betrayal', 'DG30', 'C1', 'C2', 'Landisun', '343', 'Set:', 'Tie+Hanky+Cufflinks', '862', 'Split-sole', 'RB40', 'Laci', '12803', 'II.5', '12836', 'Mascot', 'Devlin', 'Victim,', 'Shrug,', 'Batwing', 'Damala', '4-12;', 'shoulder', '27181', '5-14', 'Seuss', 'Lorax', 'Vest,Natural,Extra', 'Flounce', 'Again', 'Chetco', 'Dune', 'Dress/', '09502', 'Makenice', 'Jumparound', 'Gridiron', 'Epaulet', '/Summer', '03207', '70G', 'Tie(2inch)', '05207,', 'HE05207PP06,', '4US', 'Nat', 'XP', 'Harper', 'Sack', 'Promotional', 'Brother', 'NH1', 'FUNFASH', 'BEADS', 'SLEEVES', 'TOP', 'SHIRT', 'Opensesame', 'AN1225', 'Lisle', 'shirt', '(EL19)', 'Glennaker', '03229', \"/Women's\", '08021', '09046', '09051', '(29-Inch', 'Inseam)', '(32-Inch', 'WW659', '415/6', 'Lesportsac', 'Ruching', '09356', 'Diamantes', '09463', 'HE09324GR18,', '16US,', '09324', 'Copper-plated', '1pcs', 'P1261', '417/6P', '(10', 'Pieces)', '(15', 'Bioplast', 'Duplicates', 'Barbells', '(1.6mm),', 'LibbySue-Solid', 'Sprout', 'Multi-Colored,', 'Jegging', 'Rompers', 'babies', 'toddler', 'girls', 'Kelme', 'Michelin', 'Watercolor', '#21', 'Mirrotek', 'Armoire', 'Door', 'Cabinet,', '12.5mm', '09320', 'SSC021', 'PS2', 'Prism', '5pc', 'ToBeInStyle', '84002', 'NSSTAR', 'Erotic', 'Clifton', 'Moccasin,Black,6', 'Aluminum,', '32x30', '6240', 'NL', 'C3415', 'Bella+Canvas', 'TriBlend', '3711', '6731', '3685', 'Ap', 'JE36162B&amp;ZC', 'Reach', 'Saturnsphere', 'Sunshynne', 'Heights', 'ROunderbum', 'Butt-Enhancing', 'Wyoming', 'Curtis', 'Check,', 'Apley', 'Welfleet', 'KAMALIKULTURE', 'Pinstripe,', \"'Hetty'\", 'Neck/Ear', 'Frye', 'Brooke', 'Ayurvastram', 'Brenna', 'Patform', 'KARASI', 'Dual-tone', 'Turn-lock', 'Pyper', '0279B', '03192', '03266', 'Ornamental', '03280', 'Presia', 'Shootie', 'Small/4', 'Ivory,', 'Medium/8', 'Coral,', 'Fuchsia,', 'X-Small/2', 'NWT', '03381', 'Valley', '09060', 'Un.Timeless', 'Un.Birch', 'Un.Cedar', 'Un.Maple', 'Fiorenza', 'Red/Multi,', 'Shiver', 'Kitten', 'Alamid', 'EMPIRE', 'SLIMMING', 'BLOUSE', 'APPLE', 'CRUISE', 'Tub', 'T01', 'T-crown', 'Edgy', 'Size(Burgundy)', '12936', 'E13', 'Snapback', '6098M', 'Creepy', 'Pig', 'Squirrel', 'Merlin', 'Woodlark', 'Wessex', 'Wyvern', 'Azure', 'Alfa', 'Harrier', 'Skylark', 'Espresso/Tomato', '(Length:', '7.5)', '18&quot;)', 'Necklace:', 'Bracelet:&quot;7.5&quot;)', 'Snowbound', 'Glove,Peacock', 'Blue/Deep', 'Mint,6', \"'Mimosa\", \"Moc'\", 'Captiva', 'Avesso', 'WX997v1', 'Loyal', 'Crossfire', 'A/C', 'Charmmy', 'US/12', 'AU', 'Color-Block', 'Bellville', 'Razor', 'Blade', 'Takala', 'Sealed', 'Palazzo', 'Funk', 'Monza', 'Loafer,Black/Black,6', 'POLKA', 'DOTS', 'ROCKABILLY', 'PEASANT', 'Relatives', 'Boy,', 'Grandpa,', 'Flat,Black/Black,7', '12333', 'Allcast', 'Boot,Black/Black,9', 'Hangover', 'Lowrise', 'Angeliqs', '7,9,14,16,18,20,22,24,30', 'Maelstrom', 'LANDSHIP', \"8''\", 'T1180BZ,', '9M', 'Outfitters', 'A1388W', '12616', 'Mosa', 'Riddle', 'Virtue', 'Ny', 'Wave.Trek', 'Wave.Herder', 'Chilia', 'Ursey', 'Rockon', 'Area', 'Fullback', 'w/o', 'E16', '09614', '09620', 'Trailing', '09634', '09641', '09652', '09667', 'knit,', 'pretty', '09449', '09503', '09542', '09568', '09596', 'Millymook', '-Pink,', 'Bambi', 'Nancy', 'Derek', 'Jerald', 'Messier', 'Arkham', 'Catwoman', 'Brandy', 'Boot,Camel,12', 'Alexandra', 'Lesley', '40/8255GRY', 'Keepsakes-Canoodle', 'GOwalk', 'Sparky', 'Zowy', 'Flipout', 'On/One', '(Green', 'Venus', '(7.8', 'cttw),', 'Tristina', 'Nizo', 'Solace', 'Healing', 'HT111', 'Short-Comfortable,', 'Cool,', 'HS', 'Snowboard', 'Hacienda', 'Heritage-33', 'Clemency', 'Stratford', 'Charming', '09102', '80s', 'Tinted', 'Urbantracks', 'Cowens', 'Talus-Burk', 'Riviera', 'Axiom', 'Sneaker,Raspberry,7.5', 'Concho/Feather', 'Corsets365', 'Burp', 'Cloths', '2-Layer', 'Odor', 'Fantasy', 'Silver--free', 'Snoozies.', 'Kessa', 'Snowfox', 'ENERGY-03', 'High-Heels', 'Deep-2', 'Ruthie', 'Noreen', 'Chateau', 'Manor', 'Aldea', 'Abode', 'Jill', 'Trolley', 'Twirl', '&quot;Mocking', 'Jay&quot;', 'Rep', 'mini', '&quot;District', '&quot;Mockingjay&quot;', 'K2750', 'Rocsports', 'Society', 'Orinocco', 'Leap', 'Kick', 'Pose', '.46', 'Mullen', 'Limbo', 'Pause', 'Vivi', 'HT112', 'Candle', 'Hall', 'Paulina', '(AG,', 'Opie', 'Whittle', 'Plane', 'Carrier', 'Sunglasses-pink', 'Leana', 'Tatum', 'SSC017', '&quot;Solar', 'Dive&quot;', '12&quot;X14&quot;-Black', 'Powerglide', 'Glamor', 'Rucksack', 'Drama', 'Leopard/Persian', '32D', 'Larsey', 'Merida', '100cm', 'Soho', 'Laptop/Tablet', 'Mark', 'Xavier', 'Dozen-Pack', 'Lace-Waist', 'Thong/G-string', 'Midtown', 'Carey', 'Sasha', 'Elisa', 'Jane,', 'Stacey', 'Maddie', 'Nell', 'N19586G', 'Telescope', 'ROSE', 'SAGE', 'FLORAL', 'V-Flexfit', '5001', 'belly', 'rings', 'surgical', 'ear', 'ball', 'bar', 'bars', 'lot', 'AIUN', 'Pierced', 'Jewelry-', 'Kruser', 'Glacial', 'Boulder,', 'Joslyn', 'Moxie', 'Talara', 'Crosslander', 'Snowline', 'Evanese', \"Saban's\", 'White/Gold/Black,', 'Due', 'Hikers', 'Waxed', 'AAA', 'Pendant.', 'Vigor', 'Stompeez', 'Perky', 'Authentics', 'Herschel', 'Supply', 'Novel', '.7mm', '(14-30&quot;)', 'MBOX', 'Allover', '*18g', 'Earring-Sterling', 'Helix', 'Earring-Cartilage', 'Barbell-18', 'Batman:', 'Rises:', 'Gauntlets,', '2X(40C,42BC)', 'Toeless', 'EmbossedCheckbook', 'CT112', 'Raspy', 'Exertion', 'Grooved', 'Scallop', 'LACE', 'LAYERED', 'CARDIGAN', 'W026', 'Feng', 'Shui', 'Black/dark', 'Colour', 'Prendant', 'Necklace~*~', 'Solitude', 'Temptress', 'Poncho-like', '44&quot;x78&quot;.one', 'Piece.', 'Faded', 'Pride,', 'Clover,', \"Patrick's\", '0.7-mm', 'Inch)', 'Boot,Red,6', 'Richwood', 'World-Around', 'Word', 'Bloo', 'Muskegon', 'BF0580-06E', 'LRW200H-1EVCF', '&quot;Dive', 'Series&quot;', 'LRW200H-7E2VCF', 'Diver-Look', 'LRW200H-1BVCF', 'LRW200H-7BVCF', 'AQS810W-3AVCF', 'AWGM100-1ACR', '&quot;Atomic', 'Shock&quot;', 'AQ-S810W-1AV', 'AWGM100B-1ACR', 'GW2310FB-1CR', 'anorak', 'weather-resistant', 'Taslon', 'PW-55', 'Hoter', 'Herem', 'World-Smoke', 'Signals', 'Flat,Black,5', 'Snip-To-Fit', 'MEGA', 'Shoe,T9500', 'Slipper,T1000', 'Tights,T5400', 'Tights,T5400C', 'Tights,T5500', 'Slipper,T1000C', 'Boot,T7600', 'Winfield', 'Js-Bansi', 'World-Unity', 'Amour-', 'G-striing', 'Weightless', \"Rubik's\", 'Melting', 'GOTHIC', 'RIBBED', 'DUSTER', 'SWEATER', 'JACKET', 'Galen', 'Mazen', 'Leone', 'Slip-On,Brown,7.5', 'Gex&reg;', 'Standout', 'Slimmers', '(1649)', 'Grinch', \"A'tude\", 'SL-KJ03', '4-16', '(Uomo);', \"1''\", 'Silvered', 'swimsuit,', 'hooded', 'terrycloth', 'WW496', 'v1', 'Bro)', 'Report', 'Bootie,Black,6.5', 'Despicable', 'Whaaaa?', '2-in-1', 'Buffer', 'Bit', 'Yrs', 'Guinea', 'Faddy-S', 'Ballet-Flats', 'Spyridon', 'Dirty', 'Riff', 'Raff', 'ThinkGeek', 'Packaging', 'Dino', 'Onesie,', 'Pullon', 'Blend?', '5000L', 'Msy', '5400L', 'Etekcity&reg;', 'CD-2800', 'Cleans', 'Optics,', 'Items', '(Concentrate', '8oz.)', 'Cleaning,', 'Buffing', 'Shielding', 'Trucks', 'PT261', 'Definitely', 'Tutorial', 'Zya', 'Patent,39', \"'Prato'\", 'Flat,', 'SFB', \"'Seville'\", 'Ghille', 'Heels-UK', 'Vail', 'Navajos', 'Flexi', 'Specs', '4-15', 'Swim.', 'underwired', 'halter', 'Burnside', 'Pigmented', 'Entrails', '00045', '09008', 'Allpine', 'Cone', 'MK5635', 'Camille', 'Soundoff', 'Totoro', 'Decal', 'Ghibli', 'Sticker', 'Outbreak', 'Containment', 'Fastening', 'Leyton', 'Loveme-2', 'Moxby', 'Baldwin', 'SpaSilk', 'Twinset', 'Brianne', '43&quot;', 'Arc,', 'Open,', 'NeverBend', 'Luxire', \"Womens's\", 'Roll-up', '(Womens,', 'Travel)', 'Puffin', 'Chesterfield', '2.0&nbsp;Sunglasses', 'Arabian', 'V106-vp', 'Bominable', 'Playgirl', 'Tafetta', '95751L', 'Air-Mazing', 'Gravitron', 'Muse-01', 'W1290', 'Maddox', 'A8169L', 'M1290', 'Nannette', 'Skulls', 'Panto', 'Goucho', 'Fever&reg;', 'Kardd', 'Barnes', 'C-IN2', 'Scarf:', '(Buy', 'Get', '30%', 'Off!)', 'Diagonal', '&quot;Boy&quot;', 'Months-5', '&quot;Girl&quot;', '6M-5T)', '&quot;Dolphin&quot;', '(12-18', '&quot;Bumble', 'Bee&quot;', '&quot;Fire', 'Truck&quot;', '&quot;Space', 'Rocket&quot;', '&quot;Choo', 'Choo', 'Train&quot;', 'Blooming', 'Flower&quot;', '(6-12', '&quot;Tiger&quot;', 'PT822C', 'Shirt-Moisture', 'Management,', 'Boxercraft', 'Cassie', 'S3', 'Black/Silver', 'Destiny', 'Encounters', 'Bikini,', 'Wildflower,', '&quot;Colorful', 'Fish&quot;', 'L.E', 'Tatting', 'w/Sparkling', 'w/Silicone', 'Transform', 'Risk', 'Boot,Grey,9.5', 'Call', 'Felucca', 'Grey/Blue', 'Samantha', 'ODDITY', 'Freak', 'Human', 'SKULL', 'anatomical', 'goth', 'MW959', '10712', '&quot;Speedway&quot;', '10917', '11730', '11782', 'Patzino', 'Tucked', '(BO41)', 'A-Lined', 'PT903W', 'Singlet-Moisture', 'Amby', 'Splicing', 'Patchwork', 'out', 'M770v3', 'running', 'workout', 'lounge', 'XL)', 'M,', 'Style#CheRG', 'Cassidy', 'JACEY', 'Berke', '2-Way', 'Giddy', 'Lenka', 'WO989', 'Multi-sport', 'WX623v2', 'Ww895', 'Shoe,Silver/Blue,5', 'SEMI-FITTED', 'XS-Black/Cyber', 'Sofft', 'Broadway', 'Mootsies', 'Tootsies', 'Seychelles', 'Crazy', '691SGS1', 'Numeral', '0SDF210', 'Scooby', 'Doo', 'WO1099', '959', 'W770v3', '(Standard)', 'Inter-Spatial', '(7013,', 'Oatmeal,', 'L)', '10/13', \"A'Tude\", 'Beetroot', 'Hunnt&reg;', 'Venue', 'Trouser,', \"'yoyo-01'\", 'Halter-Fit', 'Ande', 'Balada', 'Shaft', 'Ashlyn', 'LibbySue-Animal', 'jewelry', 'gemstone', 'heart', 'love', 'eyes', 'owl', 'retro', 'Swallows', 'charms', 'bronze', 'tone', 'vintage', 'art', 'deco', 'loverly', 'crystal', 'eye', 'stud', 'diamante', 'Letters', 'Heirloom', 'KV542', '(Infant/Toddler),Pink,5', 'MX623v2', 'Dressed', 'TOUR', 'Trainers', 'BombayFashions', 'Peasant', 'Beta', 'Blondo', 'Ersilia', 'Lara', 'GT-2000', 'GT-1000', 'Crossflex', 'Lissa', 'Cotton/Lycra', 'Large(4-10)', 'REEBOK', 'Gravel/Pure', 'Silver/White', 'Sz:', 'STERLING', 'HINGED', 'HOOP', 'EARRINGS,', 'LEAD', 'NICKEL', 'FREE!', 'World-Happy', 'Photographer', 'Helpers', 'Fairwood', '(Dozen', 'Band-Purple', 'Travelocity', 'P6290', 'Smd', 'Loretta', 'Oineh', 'piece', 'Style-ChePL', 'Indulgent', 'Steel-toe', 'Sheri', 'STR-0004', 'Connected', 'Center;', 'STR-0104', 'STR-0103', 'Ion', 'Fcceted', 'Accent;', 'Ring;', 'Ring/Wedding', '(rg2)', 'Ring/', 'Inlay,', '(rg4)', 'Lazuli', 'Strech', 'Bracelet,Lapis', '30-Hook', 'One-piece', 'Xs', 'TRUE', 'LOVE', 'gym/running/yoga/cheer', '2.8-mm', 'Bogie', 'Shiza', 'Technobeat', 'Besom', '(3,4,5,6,7,8,9,10,);', '(3,4,5,6,7,8,9,10);', 'Beecher', 'D.E.P.T.', 'Whirling', 'Baja', 'Hoodie~', 'Mexican', 'Baja~', 'Huge', 'Selection', 'Sizes!!', 'Dozen-pack', 'Bikini.', '#1195,', 'Holders.', '(2mm,3mm,4mm,5mm,6mm,7mm,8mm,9mm,10mm)', 'Cobb', 'Deidre', 'Bethany', 'Shannon', 'Sadie', 'Nessa', 'Ora', 'Bootie,Khaki,37', 'Throne', 'Bootie,Black,7', 'Kissables', 'Infused', 'Fluffy', 'AMU', '6-Pair', 'colors,', 'OSFM', 'Peaked', 'Button-tab', 'Epaulets', 'Batik', 'Veins', 'Guazy', 'Toasty', 'Dustem', 'Noteworthy', 'Pump,Grey,7', \"Lady's\", '&quot;over', 'knee&quot;', 'Jaden', 'Specter', 'Pieces,', 'Style#CamPLS', '(Shiny', 'Demi,', 'Amira', 'Tradition,', 'Small(5-6)', 'Bonanza,', 'B59-BLK', 'Barettes', 'MLL', 'Waiting', 'Scarly', '1710317', 'Simonsays', 'Spritzer', 'Pump,Natural', 'Metallic,6.5', 'Vividly', 'Scarlett', 'Annabel', 'Raw,', 'Vex-2A', 'Pump,Brown,10', 'TheBeadsFactory', '100pc', '[PREMIUM', 'QUALITY]', 'SINGLE', 'CORE', 'SmoothFlex', 'Cushrun', 'Shoe,Rivet', 'Grey/Cyclone', 'Grey/Dynamic', 'Pink/Vitamin', 'C,10.5', 'O', 'Cupcake-45A', 'Vidal', 'Sassoon', '12-inch', '624', 'Cross-Trainer', '(A0705P67XL)', '(A0706P27XL)', 'Gadsden', 'Culpeper', 'MOLON', 'LABE', '(A0707P67XL)', 'Cover-Up,', '(A0732BRNXL)', 'Angry', 'Rinse', 'Burntwood,', '36x29', 'Clint', '(10,', '2554)', 'X/Y-Back', '4pc', 'Classical', '9.0mm', 'Zirconia/CZ', 'Elvin', 'Climawarm', 'Shoe,Sharp', 'Grey/Turbo/Bright', 'stone', 'Piinup', 'Zerge', 'Korea', 'Sweatershirt', 'Asher', 'Riviera,', 'Gisele', 'Eliza', 'Nile,', 'Eztime', 'Appearance', 'Material', 'Bezel-BrownGold', 'Clogs,', 'Squatchi,', 'Finton', 'Haraka', 'XCS', 'MARC-01', 'Heather/Metal', 'Wardrobe,12', '(Eco', 'Nirvana);', 'Viscose;', '(Serenity);', '(Sweet', 'Paradise);', 'Had!', '(Tranquility);', '(Spring', 'Zing)', 'Cure', 'Ordinary', '(Classic', 'Comfort);', 'Jersey-Cure', 'Poplar', 'Spider-man', 'Fuchsia)', 'Adjuster', 'EZsizer', '(1-Narrow,', '1-Medium,', '1-Wide)', '(LARGE/WIDE)', 'Conncord', 'Son', '14614', 'Z-kickz', 'Sneaker,Zumba', 'Green,11', 'Mailbag', 'Smartphone', 'Flurrie', 'Vylon,', 'US)', 'Layering', '23.5&quot;', 'Long,', 'Adj.', 'Straps,', 'Cotton/Lycra,', 'S-M-L', 'DF418', 'Bootie,Black,X-Large', '11-12', 'DF421,Mohair,US', 'Manitobah', 'Paddle', 'Harvester', 'Red/Black', 'Purple/Blue', 'CABEAU', '&quot;Air', 'Evolution&quot;', 'Works!', 'Kite', 'Addie', 'Adel', 'DM634', 'Mustang', 'DF814', 'Boot,Aubergine,Medium', 'Eachone', \"7''\", 'Leos', 'Imports', 'Peubla', 'Best.', 'Dad.', 'Ever.', \"Father's\", 'Dad', 'Alloway', 'Rhombus', '34x30', '(A0515P84XL)', '(A0515P19MD)', 'Elsa', 'Glamorousky', 'Element', '40cm', '3.5cm', 'extension', '(977)', 'WINDA', 'Whiskers', 'Watch--Military', 'DF430', 'Mocassin,Black,X-Large', 'DF483,Brown,Small', '5-6', 'Annika', 'GWM5610-1', 'Neigh', 'G.i.', 'Joe', 'Retaliation', 'World-Give', 'Shoe,Pink,7', '1/5', '6532', 'BANJEES', 'WRIST', 'Breathable,', 'Lightweight,', 'Phone,', 'etc.', 'DF419', 'Clog,Black,Small', 'Wipstick', 'custom-fit', 'Tosca', '312', 'Moleton', 'UT', '381-Brazilian', 'lift,', 'Levanta', 'cola,Stretch', \"'Working\", \"Dawgs'\", 'Steeple', '(6-7mm),', '5-11mm', 'Cool-Tones', '62&quot;', 'AQY(TM)', 'Stye', 'XO8038', 'XO5473', 'XO5144', 'XO5472', '28-Inch', '34-Inch', 'W/Sequins', '(9,', '2526)', 'W/Stones', 'Weight.', 'Settings', '18pc', 'DF500', 'Slipper,Honey', 'Suckle', 'Pink,Medium', 'L/XL)', 'Brenton', 'Whitetails', 'Lakeside', 'Solemates', 'Pal', 'Bowed', 'Better', 'Glow,', 'Tic', 'Granite', 'SY', 'Joliet', 'TWO', 'Franca', 'K664018L', 'MyLux&reg;', 'Women/Girl', 'handbag', 'Classified', 'Sadler', 'Jake', 'Neverland', 'Izzy', 'Whitecap', 'Sonesta', 'Guijiao', '2Silicon', 'Include', '(75', 'Valko', 'Niguel', 'Winetasting,', 'Beige,', 'Dollhouse', '&quot;Charity', 'Design&quot;', 'Charm,', '7.75&quot;', '&quot;Tree', 'Life&quot;', '&quot;St.', 'Christopher&quot;', '&quot;Lotus', 'Petals&quot;', '&quot;Path', 'Anthony&quot;', '&quot;Four', 'Clover&quot;', '&quot;Words', 'Powerful&quot;', '&quot;Because', 'You&quot;', 'Toront', 'Yoke', 'Ilite', 'Splash', 'Goes', 'Europen', 'Cruisetags,', 'JewelryWe', 'Selectable)', '(7)', 'Cord,', 'Yellow&quot;', 'Toddler,', 'Yellow)', 'Engraving', 'Option', '(Platinum', 'Cimino', 'Pump,Dark', 'Purple,8', 'Shinning', \"'Juliet'\", 'Ww2', 'Landgirl', 'Oofos', 'OOAHH', 'P3', 'Ooriginal', 'FIRE', 'locket', 'jewelry-', 'GREAT', 'GIFT', 'Bodfx', 'Tunnels', 'Kit!', '14g-00g', 'flare', '14g-00g.', 'Expander', 'Gauging', 'Set.', 'Asterisk', 'Bertolino2', 'Nermin', 'Malisa', 'Naveens', 'Adeni', 'Chad', 'Essence', 'Khalen', 'Adrianna', 'Papell', 'Padilla', 'Hacker', 'SS-33JLF-Black', 'Seamless,', 'Fleece,', 'Shiana', 'MyLux', 'Cheja', 'Nasty', 'Wordings', '16mm', '~~READ', 'DESCRIPTION~~', 'Beater', 'Gel-Kayano', 'ZN2', 'Valetta', 'Upper', 'Tie-bow', 'Bishop', 'Hiphop', 'Sash-Waist', 'Flouncing', 'Peplum', 'Coattails', 'Botton', 'Knitting', 'Colorblock', 'Portrait', 'Uneven', 'Cartoon', 'Sheathy', 'Plaids', 'Sash-waist', 'Brooch', 'Dolsleeve', 'Gift,-', 'LACES', 'PACK', '(Patented', 'System)', 'Octopus', '09623', 'BNWT', '03323', 'Falbala', 'Calf-length', '03337', '09672', '09666', '03388', 'Jer', 'Cloris', 'Scrunchie', 'BN15', 'XO9027', 'XO9028', 'XO5455', 'XO5463', 'XO5475', 'XO5477', 'XO5478', 'Most)', 'Ultra-Lite', 'Ponchos', '&quot;C&quot;', '4button', 'Checks', '(094D)', 'Puzzles', 'Swirls', 'React', 'Gifts', 'Color)', 'Cloie', 'Cristina', 'Tie-Knot', 'Semi-Sheer', 'Swallow', 'AJs', 'W/Pearls', '(11,', '2315)', '2313)', 'Sunville', 'Women`S', ',Yoga,Dance', 'Bobs-Ballerinas', 'Charter', 'Sweetness', 'Sak', 'Jordi', 'Pedi', 'SwitchFlops', 'Polishes', 'Burlwood,', 'using', 'Denim,', 'Creased', 'Minijoup', 'Packs)', 'QUALITY', 'CRYSTALS', '00g', 'Expanding', 'stretching', 'maintaining', 'ears', '00g.', 'Crystals:', 'rows', 'Animal,', 'BLOCK', 'MAXI', 'Raszcal', 'Bumarang', 'crocband', 'kids', 'clog', 'Cosmos', 'travel/carrying', 'N6533', 'Blue/White/Grey/Brown,', '12-24', 'Fedora,', \"I've\", 'Moneysworth', '395.33B11', '&quot;Aquadiver', 'Champion&quot;', '395.33P154', 'Aquadiver', 'L-Clint2-Wide', 'Dharma', 'Collapsible', 'EnRoute', 'Strut', '15-Inch', 'Tablets', '(TESD-115)', 'TEED-117', 'Daypack,', 'Forty-Eight', '(Ivory)', '(4&quot;H', '10.5&quot;W', '7.5&quot;D)', 'Kikstart', 'Etree', 'MR20v2', 'Chili', 'Slipper,Vino,6.5/7', 'LibbySue-Cascade', 'Hoodback', 'Gratis-In', 'Sneaker,Blue,6.5', 'HESSA', 'Shoe,Grey/Camo,5', 'Courture', 'Birm', 'Diaper,', 'Aster,', 'diaper', 'Tread', 'T7B927', 'Slip-Thru', '0RB3491', '6886', 'MULTI', 'DISC', 'EAR', 'Pixelated', '8-Bit', 'CPU', 'Gamer', 'Waistsash', 'Temira', '=', 'Cheaters', '16G', '1.2mm,', \"''Ultra\", \"Utilitarian''\", '18MM', 'BALI', 'BOHEMIAN', 'OXIDIZED', 'Venzo', 'SPD', 'Pedals', 'GP', 'Cuts,', 'Walnut', 'TONE', 'DROP', 'CUTOUT', 'LEAF', \"'Tinker'\", \"'Hotseat'\", 'Balsam', 'Pattern,', 'Hilight', 'Judgemnt', 'Salem', 'Reno', 'DAE10', 'AllyDrew', 'Crsytal', 'Virrata', 'Knocker', 'Sa', 'Azure,', 'eForCity', 'Medium/', 'Transformer', '1140', 'FO82B5331', 'Blue/Medium', 'Rule', 'TR6', 'Gusset', 'Less', 'Violett-Shoulder', 'Soon', 'Athletics', 'Anti-Tarnish', '(Khaki)', 'Stub,', 'Pad,', 'Secure-Snap', 'DB', 'Roth', 'All-in-one', 'Bouffant', '3-Raise', 'Plus3', 'Raise', 'Galloway', 'Barb', 'Flat,Black,8.5', 'Skimmies', 'Slipshort', 'Otium', '20228NKA', 'Bagpack', 'Lovefury', 'VINANI', 'Germany', 'Aislinn', '1.50&quot;', '38', 'THREE', '(Red-Green-Black)', '3-Pyramids', 'Lube', 'Premium,', 'Lubricant', 'gauges.', 'Karen', 'Neuburger', 'Snooze', 'Wedges', 'Massage', 'DISNEY', 'PRINCESS', 'SOFIA', 'FIRST', 'AMULET', \"Lover's\", '&quot;Real', 'Ring)', '4-16)', 'WT610', 'Stretchable', 'Crystal,', 'KJ610', 'Drapes', 'Scotchgard', '2.3-Fluid', 'Ipanema', 'Lole', 'Sorenza', 'Thora', 'Tiptop', 'Sosie', \"'Maria'\", 'Spacing', 'Suki', 'Bronze/Olive,', '-Stackable', 'KONOV', '2pcs,', 'T2N869', 'T2N915', 'Girlfriend', 'Lunna', 'Rodge', 'Joust', 'Java', 'Spandex,', 'Lujan', 'BONAMART', 'designs', 'friendship', 'men', '(47', 'Styles/Colors)', 'Astoria', 'Wall/Door-Mount', 'Foxcroft', 'Romper,', 'Green/Grey/Red,', '6-9', 'Emily', 'Leddi', 'Mamia', 'Zeppelin', '1977', '&quot;Mickey&quot;', 'AO9000-06B', 'Day-Date', 'McQueen', 'PK', 'Argyle/Stripe/Solid(Brown)', 'Made,', '1x', 'Tablita', 'Santana', 'Fi', 'Jetter', 'Writers', 'Padfolio', 'organizer', 'D&amp;J', 'Carlos', 'MK4263', 'YMI', 'Schaffner', 'Marx', 'Burnett', 'Flynn', 'Parisenne', 'Sheath', 'Suiting', 'Albert', 'Einstein', 'Smoking', 'Rialt', 'Henley,', '72926R-Purple-4X', \"'ITY'\", '4X', '72993R-Orange-4X', 'Brain', 'Headpiece', 'JINX', 'Smoothie', 'Hubbard', 'Trumbull', 'Long-sleeved', 'Snorkel', 'T2N966', 'Driftwood', '3512', '(Gold)', 'Tunnels!', 'Beenthinkn', 'Suede,7.5', '10066', 'Yourself', 'Ultramarine/Rose,', '32C', 'Bel', 'Fiore', 'Lundunn', 'Danger', 'Ken', 'Cashy', 'Pump,Grey/Black', 'Fabric,9', 'Craftwork', 'Feminity', 'Drought', 'Dancindark', 'Leather,6.5', 'Zensufu', 'LC', 'Ring.', 'Fullblast', 'Jeleena', 'Jeneil', 'Goingfwd', 'Grasshoppr', 'Justcruise', 'Laststraw', 'Numberone', 'Taobaopit', '8.5&quot;', 'Jewellery', 'Bellevue', 'Hines', 'Jenessa', 'Skinnies', 'Rula', 'Carp', 'Koi', 'Goldfish', 'Unstretched,', 'Yilva', 'Ripped', 'Takenomore', 'Loafer,Black,10', 'Watermelon', 'Chooka', 'U.s.', 'Shengda', '593', 'AQY', 'Goldie', 'Bi-Color', 'Burn', 'Amparo', 'Delux', 'Scarleton', 'H1035', 'H1048', 'H1049', 'H104008', 'H1041', 'H1060', 'H1044', 'H1045', 'H1064', 'Aruba', 'Glassy', '5-13;', 'STR-0148', 'SER-0011', 'Earrings;', 'SER-0010', 'Edges;', 'SER-0006', '6mm,', '8mm;', 'Wendy', 'Rivers', 'Layers', 'Chorus', 'Spwatches', 'Watch,COME', 'KEYCHAIN', 'Design,', '14-40&quot;', 'inch,', 'Cool2day', 'Newest', 'JF010423', 'One-Shoulder', 'Placement-Print', 'Knot,', 'MO', 'Outfitting', 'Obsession', 'Iced', 'Set!!!', 'Just$10!!!', '80947L', 'Sugarcanes', '10267L', '90348L', 'Damager', 'Wayfer', 'Gel-Ds', 'Concealed', 'Southside', 'Tomboy', 'Barefooters', 'Allures', 'Toy,', 'Unite', 'Escape', 'Stripy', '&quot;Heart', 'Olympiaa', 'GEL-Exalt', '(Thickness:', '3.4mm', 'Measurement:18mm)', 'Thickness:', 'Measurement:18mm', '18&quot;,20&quot;,22&quot;,24&quot;', 'Gel-Cirrus33', 'Gel-Noosafast', 'STR-0110', '5-8,', '9-13', '9-14;', '4mm,6mm,8mm', '4.5-14;', 'Uzzo', 'Wear/Boonie', 'Wargame,Sports,Fishing', '&amp;Outdoor', 'Activties', '8-shaped', 'Trigger', 'Clasps', 'Make', 'Bralettes', 'H3011', 'H3001', 'H3016', 'H3006', 'H3010', 'STR-0001', '5-10;', 'STR-0002', '3-12;', 'STR-0108', 'STR-0109', 'Inspiration', '5-12', 'Through', 'JFH', 'Safari/Outback', 'w/Neck', '32MM', 'Slots', 'Thim', 'Sizes.', 'Crytal', 'ililily', '18-26', 'Minimalist', 'GEL-Sustain', 'GEL-180', 'dream', 'catcher', 'imitation', 'turquoise', 'stones', 'GEL-Excite', 'Excite', 'Veined', 'T2N954', 'GEL-Forte', 'Plex', 'Morganite', '(0.14', 'Irvine', 'Patriot', 'Saturday', 'X-Small,', 'Rush', 'Gel-1140V', 'Coplie', 'Boot,Black/Cognac', '14383', 'Reel', 'Green/3-Color', 'Armadale', 'Green/Armadale', 'Fans', 'Shiekh', 'Kalisa-04', 'Flirt', '32DD', 'Heartbreaker', '38C', 'Exxtreme', 'Cleavage?', 'Sensation?', '34DDD/F', '36F', \"Frederick's\", 'Handbag/', 'Schoolbag', 'B010276)', 'Bazinga', 'PureConnect', 'Off-The-Shoulder', '388S.33152', 'Winchester', 'Three-In-One', 'Sunlight', 'Rippers', 'Lifeguard', 'Skylanders', 'Quart-Size', 'Ravenna', 'DARKO', 'MATHIS', 'HalterTeddies', 'Cazadora', 'Whoop', 'Cadogan', 'Boxerjock&reg;', 'Slacker2', '#1002', 'AK/1064BKBK', 'AK/1010RGLP', 'H1065', 'H1066', 'H1068', 'Glameron', 'Barely-Bootcut', 'Superlt', \"2.5'\", 'Ploy', 'Urethane', 'Envelope', 'B010280)', 'Irregular', 'Archery', 'Pink/Pastel,', \"Bloom's\", 'Outlet', 'Monogram', 'Mango,', 'Undeniable', 'Jam', 'Z-Rap', 'Shockingly', 'Unshocking', 'lingerie', 'Off-shoulder', '/W', 'Body,Afghan', 'Multi,One', 'Landon', '(Grey', 'Bodyzone', 'Iben', 'Boot,Brown,6', 'Rouched', '8.5,', 'Gardenia', 'DLX', 'MT10v2', 'M890v3', 'WT10v2', 'Finn/Jake', 'M1080v3', 'WR20v2', 'MR10v2', 'W750v2', 'MT1210', 'W580v3', 'W890v3', 'W1080v3', 'WT1210', 'XO5525', 'XO5527', 'Vein', 'Trapezoidal', 'HollowOut', 'Jaspe', '72903R-Grey-3X', 'Sublimation', 'OR', \"Geneva's\", '7805', 'Scissors', 'Orthofeet', 'Asheville', '731', 'Harmonee', 'Bevin', 'Gewelz', 'Rumblers-Lotus', 'Rumblers-Sparks', 'Florent', 'Arcades-Slip', 'Traveling', 'V-Back', 'Grommets', 'Naturalizer,', 'Barrington', 'Vista', 'Olisa', 'Deepwater', 'Next-To-Nothing', \"17'\", 'Flyweight', 'AK/1018BKBK', 'Jaspee', 'V-Doubler', 'XO5512', 'XO5509', '(Rose', 'Tone)', 'Nalda', 'Smiles3', 'Finds', 'SBA', 'DZ7259', 'Protegee', 'C-Cup', 'FARAH', 'Scorpion', 'Blossoms', 'Anna-Kaci', 'Negligee', '2ctw', 'HEART', '(Whole', '4-12', '5.5,', '6.5,', '7.5,', '9.5,', '10.5)', 'Futuristic', 'Tells', 'Colourful', 'Arcs', 'Individual', 'Leds', 'Flannel-lined', 'LibbySue-Ombre', 'Windowpane', 'Grays', 'Curl', '9)-', 'CMJ329BK', '6.6ct', 'Abboud', 'Bowery', 'Giovanna', 'Satchel/Handbag', 'CockSox', 'M-XL', 'Minimal', 'World-Care', 'Loafer,Black,6.5', '09675', '25Inch', 'Ceil', 'MT', 'JS-Carri', 'T2N8629J', 'US9061', 'YCM1101', 'TOOGOO', '8mm,', 'Tardis', 'Bernie', 'Mev', 'Fashion-Sneakers', 'Hardware,', 'Light,30x30', 'Bennett', 'Turkey,', 'Coated', 'Decoe', 'Camel', 'MX20v3', 'WX20v3', 'Asymmetric', 'Breckenridge', 'Wachusett', 'Gliders', 'Flagstaff', \"'Sexy\", \"Legs'\", '2c.t.w', 'Drivesports', 'PA', 'Mid-Length', 'Coyote', 'Flames', 'S16', '6,6.5,7,7.5,8,8.5,9,9.5,10,10.5,11,11.5,12,12.5,13,13.5,14,14.5,15,15.5;', '4,4.5,5,5.5,6,6.5,7,7.5,8,8.5,9,9.5,10,10.5,11)', \"N'ice\", 'GAIAM', 'Grippy', 'Toesocks', 'Shawl/Wrap', 'SANTB0616', 'Loungefly', 'Sanrio', '1.30', 'pt', 'KV511', 'Kid),Black/Pink,2.5', 'Touchpoint', 'Semi-Rimless', 'Stabilized', 'Tincup', '3d', 'Cursive', 'Script', 'Yoke,', 'Rock,', 'Knits', 'Radiance,', 'Jacques', 'Moret', 'WP101', 'Leather-likie', 'Leash', 'pump', 'Bixley', 'Jura', 'Kid),Gargoyle/Ultra', 'Violet,6', 'Maderas', 'Jamison', 'Wylie', 'Sagewood', 'CNX', 'Seacamp', 'BioWeb', 'Eco-start', 'Switchback', 'Pardon', 'Taleen', 'Alternating', 'Sable,', 'WONDROUS-B', 'Wondrous', 'Luscious', 'KJ890', 'KJ634', 'KJ554', 'KG634', '80568L', 'Dreamz', 'Dreamcatcher', 'KV20', '(Infant/Toddler),Grey/Red,5', 'KV890', 'Johns', 'Tutu:', '0-4', 'years', 'Croc', 'Kapiti', 'Daffodil', 'Covina', 'Truwalk', 'Trimed', '4-rth', 'Eco-Track', 'PACK:', 'Outlaw-81', 'SHEEC', 'SoleHugger', 'SECRET', '*Non-Slip*', '(in', 'SlingBack', '(Camel)', 'Rythmic', 'Shoe,White/Grey,7.5', 'Influence', 'ZigQuick', 'ZigTech', 'Pursuit', 'Wait', 'GABBY', 'WA061', 'Bonus', 'Imixlot', 'skull', 'skeleton', 'silver', 'ringent', 'bangle', 'Reggae', \"1.6''\", 'Bracelet/Bangle', 'Weddings,', 'Engagements', 'Prom.', 'Rows.', 'Ignite', 'Slides', 'KHAN', 'Button-down', 'Kindley', 'Kane', 'Addey', 'Stork', 'Lark', 'Jegging,', 'Marbella', 'T,', 'White/Black/Natural', 'H-line', 'WWP', 'SubLite', 'Duo', '(BN5256BLA38C)', 'Burgundy,', 'MO80', 'UR', 'Lead', 'Winchell', 'Extensions', '45cm', 'WW1765', 'MW1765', 'MX608', 'Bodystocking-', '3-Staked', '3-High', 'Treggings', 'Akers', 'Ear-Flap', 'ZaZa', '16BL', '(1.50', '100s', '(Wave)', 'Salvatore', 'Exte', 'Mabe', 'Matte-Finish', 'Brass,', 'J-Hoop', 'Jamboree', 'Catamaran', 'Nappa', 'Pria', 'Malta', 'Reelfun', 'Norwich', '-Small/Medium', 'ComfortSoft&reg;', 'EV42AS', '6-Assorted', 'Trailmaker', 'BAT4045', '&quot;Batman&quot;', '890v3', '20409CF', 'Handbag,Coffee,', '20228MCF', 'Bag,Garment', 'Henry', 'Sage,', 'Suffer', 'Knuckle', 'KX20', 'Kid),Blue,5.5', 'WW115', 'Nehara', 'Yarn', '18-28', 'SuperSoft', '3633', '6760', 'Walkshort', 'Folded', 'CLOSEOUT', 'Shamballah', 'Delicious', 'MEROZ', 'Andante', 'WL101', 'Reefer', 'Gia', 'Offduty', 'Nickle', 'Rue', 'Cloverly', 'Renovate', 'Drappy', '2.4&quot;', 'Caftan/Kaftan,', 'Style#Caf31', 'Navy/Red)', 'ALECIA', 'Ginkgo', 'Pinks', 'Sefon', 'Thicken', 'Xmas', 'niceEshop', 'sea', 'horse', 'cross', 'rose', 'Tribe', 'Dunbar', 'Falmouth', 'sandal', '6-Pocket', '10400', '12220', '11372', '14603', 'FLT', 'Mimmey', 'Ovely', 'Unusal', 'Hairband', 'Ibeauty(TM)', 'Clearwater', 'Vapor', 'Proterra', 'Rosettes', 'Mercer', 'Kat', 'Delancey', 'Kona', 'Flop,Bougainvillea/Neutral', 'Gray,9', 'Vim', 'Sweetpea', 'sequin', 'Honeysuckle', 'Flop,Potting', 'Soil/Gargoyle,9.5', 'Wichita', 'Verdi', 'Jacardia', 'AUBREY', 'Cherish', 'Sattin', 'Rattail', 'H1077', 'Communion', '12058', 'Stag', 'deer', 'Pheehan', 'SkyCell', 'Feist', 'Freemont', 'Voylan', 'Sotre', 'Store&reg;', 'Reversal', 'Hotnhere', 'Emmy', 'Paco', '14193', 'SPT', 'Evera', 'Twine', 'HDE', '(Programmer', 'Gift)', 'Eskape', 'Synapse', 'Alito', 'Pavillion', 'Sparkler', 'Paidu918', 'MATANA', 'Boogiedown', 'Natalie:', '0.64ct', '10),', '3111', 'Blissfully', '(Fn0508-Green)', 'Belize', 'Rivet', 'Spike', 'WARMEN', 'Lynwood', 'Reading', 'Warmen', 'Crossing', 'Morse', 'Pepper', 'Kanteen', 'Julianne', 'Kid),Slime/Black/Silver,1', 'Mendoza', 'Keepitup', 'Flat,Grey', 'Multi/Grey', 'Pony,10', 'Bianca', 'Sets,', 'Choices,', '(S,', 'L),', 'Style#CamRG', 'RA', 'Lydia', 'BareTraps', 'G-1', 'Maryjane', '(11/25)', '(CG)', 'Kid),White,9', 'Shot-in', 'Sector', 'Meter', 'pearl', 'Instint', 'Brentwood', 'Purrfect', 'Nigella', 'Petra', '(Infant/toddler)', 'Rave', \"'Grace'\", 'Province', 'Blaze', 'Flop,Black,12', 'Janie', 'BareStep', 'Cynthia', 'Avant', 'Fest', 'Nora', 'Ryla', '20228LKA', 'Bag,Khaki,', 'S/M', 'Necklace,Statement', 'Jewelry(Fn0508-Grey)', 'Jewelry(Fn0508-Blue)', '14391', '14419', 'Sandal,Gold/Black,11', '14101', '11851', '11661', '14177', '14120', '11238', '14122', '14102', '11354', '11838', 'Shoreline', 'Disk', '(Slightly', 'imperfect)', 'Woven,', 'Eider', 'Purity', 'Hyde', 'Central', 'Amelia', 'Tributes', 'Esteem', 'LibbySue-A', 'Dona', 'Michi', 'Amaretto', 'ELLAZHU', '1500', 'Hipsters', 'OneSize-Nude', 'T-REX', \"CAN'T\", 'DO', 'PUSH-UPS', 'Out,', 'Crossfit', '16MM', '5ctw', 'ROUND', 'CUSHION', 'Ascent', 'Sonar', 'Pioneer', 'DT618', 'Holloween', 'Vessel', 'Alto', 'Yarrow', 'Lilly', 'Un.Quartz', 'Zulu-S', 'Gimme', 'Stretch-Twill', 'Vivid', 'Seaboard', 'Superbreak', 'Peek-A-Boo', 'Leisa', 'Lolly', 'Jingle', 'Churidar', '11212', '12300', 'Kyna', 'Wit', '14239', 'CRZ', 'Fltbd', 'Slide,Khaki/Khaki,13', '14393', 'FP', '10011', 'Roswheel', 'Pannier', 'Down-Filled', 'Insta', 'Journal', 'Caslynn', 'Paula', 'Casylynn', 'Cheryl', 'Lizzie', 'Addy', 'Truffle', 'Indira', 'Horde', 'Pullover,', 'Evergreen,', 'X-Large/Regular', 'Medium/Regular', 'Flop,Blue,6', 'Millie', 'Vixxenn', \"Breckelle's\", 'SANDY-31', 'COCOmall', 'U.A.A.', 'BS-40', 'Micheonne', 'Walkers', 'Document', 'PRITA', 'LOCOMO', 'FFT004', '(S', '12935', 'Tummler', 'US5211', 'US9250', 'Salt,', 'Powder', 'Ixtreme', 'Blur', '17-Inch', '(TEBD-117)', 'Does', 'Sandal,Tan,6', 'Armada', 'Flat-Knit', 'Three-Pair', \"'Odette'\", '1950s', 'Collared', 'AK/1001MPTT', 'Sandal,Graceful', 'Licorice,37', 'EU/6', 'Outtlaww', 'BIB', 'Marrvil', 'Full-Length', 'MIZU', '4-Pair', 'ECE', 'Tri-tone', '9x7', \"'The\", \"Romeo'\", \"Echo'\", \"SonoraWomen's\", 'Accomplish', 'Raspberry', 'Ramba', 'Kelly', 'Fiji', 'Julie', 'Maple', 'Skirts', \"'Double\", \"Diamond'\", 'Grey/Blue,', 'Gunn', 'US8532', 'Watkins', 'SickFits', 'Monroe', 'Rocksmith', 'Lister', 'Sorbtek', 'Dress/Golf', 'Ilena-3', 'Amcctvshop', 'Korean', 'Elephants', 'Tumi', 'Horizon', 'Lunargrand', 'draw', 'string', 'polar', 'pajama', 'fly,', 'LALANIE', 'w/Zippered', 'Taffy', 'Presta.', 'TOOGOO(R)', 'set.', 'Medival', '14174', '14175', '12985', 'LN', '14386', '14387', 'P2', 'Terminated', 'Multi-Oval', '18-26&quot;', '3.2mm', '18-32&quot;', 'Stones,', 'Bridget', 'Pin-up', \"Scarfand's\", '14304', '2-Fer', 'Jazzin', 'Ridded', 'Socksmith', 'Kittenster', '48-Inch', 'Black/Charcoal', 'Alter', 'Ellary', 'Snadal', 'Rica', 'Risquette', 'Blatant', '12802', '10CM', 'Parigi', 'Scrape,', 'Yilton', 'Smoothing/lifting', 'Gains', 'Alchemy,', 'Thailand', '&quot;Collegiate&quot;', 'SSC081', 'Adventure-Solar', 'Preen', 'Flat,Black,5.5', 'Drizzle', 'CLEAR,', 'Dare', 'Gemini', 'Corsetta', 'Nohea', 'Kulapa', 'Abstract', 'Minaudiere', 'Pincord', 'Aprils', 'Westfield', 'Black/Grey', 'Bb', 'Mid-rise', 'Black/Blues', 'Bayou', 'Slimproved', 'Blanks', 'Bonamart', 'Headband&nbsp;Hair', 'accessories', 'princess', 'pattern', 'l', 'M3090BG2', 'Rolo.', 'Now', 'Lowest', 'Time!', 'Chain.', 'Donnkenny', 'Gentlemen', 'Movember', 'Connector', 'SODIAL(TM)', 'YouYouPifa&reg;', 'flare/aqua/iron', '3pairs', 'Fahion', 'RocSports', 'Applique', 'Curved', 'Miraclesuit', 'Figures', 'Jena', 'OTS', 'Y-Back', 'Twilight', 'Plus,', 'Style#Caf-36', 'Lillies,', 'Style#Caf-46', 'Colors,All', 'Style#PJ-10', 'Leopard,', 'Rapture', 'Dots,', 'Dotties,', 'Sleepshirt,', 'W3090v2', 'Nicholas', 'Judie', '(Off', 'White)', '(La', 'Vita);', 'Maine', '29651-Small', 'Sliding', 'Warning', 'Adorned', 'HOXIS', '(R)Travel', 'Organiser', 'Sensual', 'AA45', 'Red/Plus', 'KAEDE', '5/16&quot;-Sold', 'Panama', 'Freeport', 'Poparazzi', '*Feather', '18g', 'Barbell-Feather', 'Jewelry-Gifts', 'Women-Available', 'Ear-Valentines', 'Her-16', 'UHDressRibbed6pk5699', 'PSYCHE-01', 'Lode-H', 'Sandy-61', 'Grin&amp;Bear', '&quot;Love,', '12365', 'Wrapables&reg;', 'Maddsen', 'Tracy', 'Signiture', 'Engagement/Wedding', '(8)', 'Polo-Cut,', 'Caviar,', 'GEAR', 'SOURCE', 'Freerider', 'Thickness', 'Professional-Grade', 'ALICE-02', 'Dividers', 'Duplicate', 'VINYL', 'Tidy', 'Product', 'Chromatic', 'Aberration', 'Soleasy', 'Gold-White', 'WTH0051', 'XL),', 'Style#PJ08ND', 'Lovina', \"N'Ice\", 'MIMI', '29MM', '30MM', '22MM', 'Patching', 'Dhara', 'Libby-01', 'Devin', '6.5mm', 'inches,', \"'Wynona'\", 'Wiggle', 'Soaring', 'Captive', 'Earring-Stainless', 'Ring-Swallow', 'Earring-20g-18g-16g-14g-Valentines', 'Her-Available', 'Searchers-Creature', 'Works-Sea', 'Nydia', 'Flop,White,7', 'Ariana', 'Darcy', 'Crytals', 'BG169G-4', 'Champaign', 'Silverlake', '1000037756', 'Expectations:', 'converters', '(Extra', 'Long)', 'Rig', 'workout\\\\lounge\\\\yoga', 'OCTOBER', 'OPAL', 'BIRTHSTONE', '5-11', 'Crystals.', '(Chain', 'Crystals(chain', 'included)', 'P-3', 'Kinnaird', 'Lilah', 'Isana', 'Zapp', '1.3mm', '3-pk.', 'SODIAL-', 'Puebla', 'Quarter,', 'Zena', 'Belfast', 'PL', 'S-M', 'FFT020', 'FFT018', \"Vivian's\", 'Fashions', 'Jinique', 'Multicolored', 'Swede', 'Paracord', 'VIP', 'Environmental', 'PaperMoon', 'Hip-hop', 'Onesize', 'GY02', 'Patsy', 'Words', 'AK/1077MPTT', 'In.', 'Eiffel', '(9-10)', \"Ladies's\", 'knee/', 'Swhiteme', '17206XR-G-3X', 'Gray/Gold', '17306X3R-BW-3X', '17307XR-BR-3X', 'Black/Red', 'MUKA', 'Cardigans', \"'Laney'\", '(2XL)', 'Naven', 'Spenser', 'Leroy', 'Romance', 'Skech', 'NYfashion101', 'Adicross', 'Serenada&reg;', '205910-46C-Black', 'NEUTRAL-02', 'Billabong', 'PROUD-09', 'Laugh&quot;', 'etc', 'FUCHSIA', 'Begonia', 'Sackpack,', 'Black/Lead/Light', 'Scarlet,', 'Gale', 'Brya', 'Flat,Ivory', 'Tumble,6', 'Brittany', 'ATOMIC!', 'w/Alarm,Speaks', 'Time,', 'Day,Date', 'Oceanside', '8-inch', 'Outer', 'Leather/faux', 'Lala-02', 'Vobaga', 'Claf', 'vertebra', 'earring', 'Maximus', 'Coil', 'Ninimour-', 'Kigurumi', 'Anime', 'Forks', 'Neighbor', 'Costume,size', '(70&quot;-74&quot;)', 'November', 'Rivoli', 'SKELE-TOES', 'BAY', 'RUNNER', 'Granny', 'Saloon', '05', 'Footies,', 'Mocs,', 'Crosses,', 'Cats', 'Bowties', 'Style#PJ09', 'Vickie', 'Drainage', 'Sockwell', 'STR-0144', 'STR-0143', 'SOA', 'Cotton,Butt', 'Lift,Skinny', '(Fn0508-S-Turquoise)', 'Aquabelle', 'Chlorine', 'Resistant!', '&quot;Gift', 'Box&quot;', '*Christmas', 'Collection*', 'Rfid-Tec', '18+3&quot;', 'Amour-Women', 'Skater', 'Serenada', 'No-Wire', '296510-38C-Black', 'G2', 'Ho', 'Chit', 'Holy', 'Shit', 'T-strap', 'Anika', 'Dali', 'COLORS)', 'Nufoot', 'Wookie', 'Bomb', 'Rocckit', 'Sweatercoat', 'Janes', 'Preppy', 'Three-Colour', 'Fascinator', 'FROG', 'Jellyfish', 'SLOTH', 'Laplander', 'Fourth', '12ft,', 'Strings', 'Select-Edition', 'Microfiber-Pleated', 'Bslingerie', 'Mathing', 'Kaya', 'Sandal,Fuchsia,6', 'Indoor/Outdoor', '2ct', '3ct', 'N2N', 'L6', 'Pants-', 'Cashmere,', 'Belleville', 'TR101', '(149D)', 'Altra', 'Instinct', 'Intuition', 'Hardcase', '3-D', 'MK3190', 'JAXA', 'V-Neckline(TOP-CAS,BLK-XL)', 'Assorted-Pack,', 'AE1200WH-1A', 'MTGM900DA-8', 'GWM500A-1', 'Ike', 'Behar', 'Midnight,', 'Laura', 'DZ7264', 'Youngland', 'Sundress,', 'White/Pink/Multi,', 'Switch', 'Chaste', 'Ana', 'Cadee', 'Archavia', 'SethRoberts-Striped', 'w/Rabbit', '&quot;Striped&quot;', '3-24', '(.02', '2-11', '2-10', '12828', '12830', '12829', '&quot;Specialty&quot;', '12826', '12847', 'Gold/Blue', '12845', '12831', '12846', 'Yellow/Black', '12853', '12849', '12837', 'Oak,', 'X-Large/XX-Large', '7.5+1&quot;', 'Aventurine,', 'Konflic', 'Giant', 'ZIGZAG', 'Mango', '3-Panel', 'Drusilla', '395.33U16', 'AMPM24', 'Phoenix', 'WPK062', 'Combo,', 'Wellie', 'Kalon', 'Powerflex', '(Black/Sun)', 'WeiHeng&reg;', '50kg*10g', 'Weighing', 'Revelations', 'George-Danos', 'Tunics', 'Goulding', 'Isaac', 'Mizrahi', 'Aquamarine,', 'Method', '01', 'Monster-Heel', 'Astrid', 'Yoko', 'Easy-Rider', 'Atwell', 'Sweaters', 'Cd21', 'Lump', 'W940V2', 'WW895v2', 'WX626', 'MX626', 'W840SP2', '5.0+', '579959-740', 'Vip', 'Galaxy', 'MX857', 'M840v2', 'Fitting', 'NATURALIZER', 'Bina', '10M', 'Peep', '#067', 'Heart,Unique', 'R21', 'R22', 'Spark', 'R30', 'Multi-crystal', 'R40', 'R238', 'R49', 'Multi-Crystal', 'R51', 'R60', 'R61', 'R62', 'FASHION', 'PLAZA', 'R265', 'R285', 'R69', 'R232', 'R295', 'R77', 'RN', '&quot;Velour', 'Rompers&quot;', '3-18', 'Buyincoins', 'Marlene', 'Elena', '9,10,11,12', 'Calatrava', '6,7,8,9', 'SNOX', 'STR-0017', 'DORADO-11', 'western', 'ankle', 'bootie', 'chunky', 'heels', 'upper', 'zipper', 'KJ695', 'KV695', 'Span', 'R48', 'Avi-Walker', 'Africa', 'Bolted', 'GU6325', 'Mustard', 'SODA', 'DOME', 'COMBAT', 'Offer', 'Princes', 'Stretcy', '(60mm', '18Kt', '(40mm', '(50mm', 'WL692', 'XO2003', 'XO2010', 'Crysta-', 'Freshman', 'Tint', 'Breaking', 'Los', 'Pollos', 'Hermanos', 'Fajas', 'Colombianas', 'Surgery', '9334', 'Kayso', 'K2004', 'XO5556', 'Alka', 'Waylon', 'Cyrus', 'Norton', 'Efani', 'Rayna', 'Gusto', 'Upton', 'Glamorous', 'W730v2', 'M730v2', 'Hickorry', \"'Pandora'\", 'Glamourous', '(BO52)', 'Simply', 'purse', '(229Y)', 'WR1400', '[Best', 'Partner]', 'Designs,', '6.00', '6pc', 'Silver/Brass', 'Friday', 'Dome-SA', 'WTH0307', 'NOODLE', '(SET', '1-narrow,', '1-medium,', '1-wide)', 'Reducer,', 'Guard,', 'LibbySue-Silk', 'Florettes', 'WOD', '4pairs', '0RB4190', 'Thyme', 'HAMILTON', 'Anise', '&quot;Interconnect&quot;', 'Msrp', '$109.00', '(Sand)', 'Cayenne', 'Leave', 'Rumblers-Time', 'Warp', '(PETITE', 'less', 'reduction)', 'Bowie', 'Aladdin', 'Sane', 'MARISSA', 'TILLY', 'pants-many', 'colors-PinkSnowman-S', \"'Irene'\", '8M', \"'Dalia'\", 'Ellipse', 'H1078', 'H1114', 'H1080', 'H1113', 'HIKARI', '393.33152Set', '&quot;Classic', 'Winchester&quot;', 'Tone,', '(Fn0508-S-Red)', 'Pony,', 'Matter', 'Perfectionist', 'LibbySue-Essential', 'Lodge', 'Nighshirt,', 'CASEBUDi', 'SISSELA', 'Checkered', 'AMZ1026', 'AMZ10', 'Yellow-Gold', 'IJ', '13968', 'Additional', 'Avail.', 'Sabbath', '78', 'noble', 'Hotpants,', 'pieces,', '(flav-1001-f2472)', 'Enameled', '&quot;Red', 'Striped&quot;', 'Sleeper', '6m-5t)', '(F)', 'Toddler)', 'Sissy-Length', 'N20)', '(35mm)', '20902', 'Rubyes', '16-26', 'nicole', 'Weaves', 'Coofit&reg;', 'Securely', 'Expressed', 'Modadorn', 'Arrivals', '3-Sputnik', 'Flower,', 'HOWEA', 'Maxchic', 'luxe', 'Fall)', 'OTK', 'CABLE', 'KNIT', 'Socks,One', 'Scrape', 'Roof', 'Sandal,Brown,11', 'Vickie16h', '598', 'EXOTIC', 'Ballet?Flat', 'Blzer', '(68', 'choose)', 'Muliti', 'Community', 'Brick', 'Boba', 'Fett', 'Sarlacc', 'Bait', \"SethRoberts-Men's\", 'Multi-Striped', 'Joelle', '914', 'Regan', 'Arabella', 'Klarissa', 'ACTIVE', '2-Pair', '*Non', 'Slip*', '37mm', '43mm', 'MED', 'DORIT', '(Charcoal)', 'Auto15', '(5,', '316', '0.87ct', 'Verena,', '3114A', 'Hotpants', 'FFT035', 'Cho', 'B&amp;D', 'message', 'roomy,', 'comfortable', 'Eyekepper', 'Puck', 'Lulia', 'SER-0005', 'SER-0009', 'MDV106-1A', 'Smoothflex', 'Sublite', 'Bandy', 'Baladeva', 'Infinti3', 'Apocalypse', '&quot;Nakia&quot;', 'YELENA', 'Zeus', 'Roll-Tab', 'Weeping', 'This!', '(1846)', 'ELPIDA', 'Maybeso', 'Blastoff', '(US-M)', 'Fashionista', 'Flannel/Knit', '4MM', '(Oxblood)', 'Royal/Raven,', 'LG27', 'Seven7', 'Available:', 'Anastasia', 'HandbagTravel', 'Fuax', 'SeeYa', '505443', 'Jntworld', 'Black/Black/Black,', 'Prance', 'Tanduum', 'Hippieee', 'Sandal,Black,6', 'Satiny', 'Time!(chain', 'Unwire', 'Uno', 'Aerre', 'Advent', '(2012', 'Version)', 'Down,', 'Cascading', '(1.62', '(2.34', 'SPERRY', 'Skimmer,', '5-9)', 'Frochickie', '2pcs', 'His', 'Hers', '&quot;Colonial&quot;', '5-16', 'NARROW', 'Stertch', 'i5', 'Zehui', 'Gangnam', 'Drap', 'Pasadena', '&quot;S&quot;', 'SP024n1', 'Seeya', 'Australian', 'H1092', 'Hearte', '(1869)', 'Bootie,Smokey', 'Praline,8.5', '12-Pack.', 'LibbySue-Classic', 'SethRoberts-Classic', 'SethRoberts-Solid', 'Archy', 'Poseidon', 'Carmina', 'Claybox', 'Pagoda', 'Blue/Green', 'Dania', '839-rg', 'Details', 'Water-drop', 'Lekani', '18KRGP', 'Stereo', 'Quizzer', 'Strikerz', 'Sneaker,Black,6', '(Infant/Toddler),Rainbow', '(HY1285-HLB-11)', 'Corded', 'Hillbilly', '(EP1394-RCK-1)', 'Whiskered', 'Button-Flap', 'H3155', 'H1067', '/Beret', '/Winter', 'Dry77', '(Solid', 'Pattern)', 'Piercen', 'Bigtop', 'White/Fuchsia/Turquoise,', 'Six-Pair', 'Daryl', '06091', 'Lacey', '03410', '09727', '09768', '03521', '09770', '03537', '09816', 'Skyline', 'Allen,', 'Tender', 'Sandal,Brown,12', 'Based', 'Guild', 'WM119', 'Houndstooth,', 'Square,', 'Fringed,', 'Keffiyeh,', 'Kafiya,', 'Elkhart', 'BAT5038', 'T-W-O', 'Lengths)', 'Chlairvoyant', 'PP', 'Marcie', 'Torin', 'Nanncy', 'Multi,5', 'Cossak', 'Britney-01', 'BRITNEY-02', 'RIDER-18', 'Engine&quot;', '5/6-9/10', 'Bayard', 'Walnut,', 'Turtle-Neck', 'Beatrix', 'Oralee', 'Lilac,', 'Parks', 'Rec', 'Ron', 'Swanson', 'Animals!', 'Critter', 'Spear', 'Tooth', 'Ellongated', 'Am', 'Stamp', 'Ecko', 'Sew', 'MED-4X', 'Earwarmer', '-Spectrum', 'XXXXL', 'Intricate', 'Navy/Hot', 'Alivila.Y', '17.5&quot;', '2101401', '2101101', 'P136', 'Exeter', 'You!', 'Isis', '32B-40F', 'Babydolls', 'Vee', 'W200n', 'Ruana', 'Fashion,', 'Colorsplash', 'Pansy', 'Neewer', 'Bodyart', '7/16', 'Laminate', 'Zulu', 'H1148', 'H1149', 'Getting', \"'Explorer'\", 'Black/Brown/Navy', 'Treble', 'Clef', 'Cartilage/Tragus', 'Bridgette', 'Defender,', 'Shawls', '0001P', 'CHOOSE', 'GEMSTONE', 'Disc,', 'Guage', 'Gecko', '1.6mm', 'Seatbelt', 'C3', 'Enzo-01', '(Regular', 'Lined)', 'EH4941LC', 'Brown/One', 'Pair!', 'Non-pierced', 'Pieces)14G', 'Paved', \"Ship's\", 'Gujarat', 'Enderdragon', 'Interval', 'Wavelength', 'Yimei', '9-Tassels', '2-Stance', 'Chewbacca', '(Anodized', 'Aluminum)', 'Biggy', '12544', \"'5j794'\", 'Stuffer', \"CABELA'S\", 'HARLEY-12', 'Distress', 'BDP', 'houndstooth', '-12', 'colors-LIFETIME', 'WARRANTY!', 'Caroline', 'Lid', '9-11)', 'Black/Ivory', 'High-top', 'Alana-1', 'Moda', 'Auto-2', 'Stance', 'Upgrades', 'Caption', 'Sandal,Green/Blue,9', 'Kingmys', 'latex', 'Bluecell', 'Hemline', 'Sabree', 'Talos', 'Pack-72', 'Skyway', 'Nimbus', 'Huggies', 'Dr', 'Timey', '316l', 'Non-Piercing', 'Fold-able', 'Animal-Print', 'SP011n1', 'Frost', '179', '(Yellow)', '&quot;065&quot;', '(2mm,3mm,4mm,5mm,6mm,7mm,8mm,9mm,10mm...)', '(2mm)', 'Outcoat', 'F007', 'Fit/Asian', 'Khaki)', 'ROCKER-17', '#6325', 'Seel', 'FactoryExtreme', 'Utilitarian', 'Lim.', 'Ed.', 'RetroPop', 'Show-It', 'Tech.,', 'Hoods', 'FUR', 'ANIMAL', 'HATS', 'HOODS', 'PANDA', 'MITTENS', 'ski', 'UNISEX', 'GLOVES', 'PAWS', 'Iphone', 'Ipad', '(Belly', 'Button,Tongue,', 'Eyebrow,', 'Nipple,', 'Lip,', 'Nose,', 'Chin)', 'Needles', '7.5&quot;,', '8&quot;,', '8.5&quot;,', 'YKS', 'Yelete', 'Kermo', 'Lise', 'US9283', 'US9282', 'US9284', '10pcs', 'Damara', 'Cosset', 'Eugenias', 'Ferido', '1826', 'MOLETON', 'SKINNY', 'LEG', 'Fastenn', 'Gettaw', 'Neutral-330', 'CHAREX', 'Woolen', 'LibbySue-Impressionist', 'ICETrekkers', 'Seeker', 'SethRoberts-Plush', 'Chicastic', 'Ferro', 'Aldo', 'Oxfords', 'STR-0005', 'Cowl-', 'Circle/', 'Globe2', 'Jaxine', 'Langston', 'Pump,Pink,5.5', 'Loveme3', 'Brogan', 'Valero', 'P216', 'STR-0006', 'Maze', 'STR-0009', 'Multi-color', '(Beige)', 'Jester', 'Ecosusi', 'STR-0010', 'Han', 'Pu', 'Desing', 'Puuch', 'Teenage', 'Mutant', 'Turtles', '21105', 'Pack-New', 'Inventory', 'Roseanne', 'Nyla', 'STR-0011', 'Crystals;', '(5)', 'CROOTA', 'T-Back,', 'STR-0013', '21101', 'Horizontally', 'Setting)', 'green', 'Saphire', 'Brown/Grey/Navy', 'Wristwatch', 'EM65009D', 'studded', 'STR-0014', 'Stonewash', 'COCO-1', 'Lemon,', '32W', 'Faux-Suede', 'H1156', 'Tote--Embossed', 'H1159', 'medium', 'attached', 'inside', 'RGP', 'Flappy', 'Sale!', 'Idea,', 'Willapa', 'Tiana', 'Flattering', 'Royal,', 'XO5602', 'Loveutoo', 'Ped', 'Stilettos', '&quot;Hope&quot;', 'Olivary', 'Pro-Time', 'Worldfashion', '6-in-1', 'CS', 'Balaclava/Scarf', 'Theme', 'Violet', '2101802', 'Fever', 'Johari', 'Indo', \"'Toasty'\", 'White&amp;Rose', 'Swingy', 'XO5585', 'Trixxi', 'Anti-Slip', '6-Pack,', 'yogi', 'batik', 'headband', 'Zigzag', 'Dipped', '(chain', '(Aquamarine)', \"''Sitges''\", 'WildmanT', 'Protruder', 'Gloriee', '03604', 'Valorie', 'Clips,', 'Snugs', 'Prep', 'Dressy', 'Tablet', 'Trade', '75/3689MPSVRB', 'Multi-patterns', '(White&amp;Black', 'deer)', 'XO5589', 'TEROX', 'FLOP', \"60's\", 'AlpineSwiss', 'Awl', 'EILIS', 'Gloss', 'Ophelia', 'MK3199', 'Nerdy', 'ii', 'Mechanix', 'Communicator', 'Chlocktower', '16g-18g-Infinity', 'Barbell-Figure', 'Earring-Short', 'Jewelry-18', 'Chlub', '6Mm', 'BASE', 'Geniune', 'Pigskin', 'AutoM', 'Fashional', 'Shrunk', 'Pre-Shrunk', 'tcw', 'Lined,', 'neck,', 'Wide/Stand', 'Cam', '#2032', 'H:oter', 'TUMMYBAND', 'Shapewear:', 'Women.', 'HICKIES', 'FMD', 'FMDCT403', 'FMDCT404', 'FMDCT260', 'RHINESTONES', 'EMERALD', 'Shipping', 'Stairway', 'R330', 'R79', '50-PieceLampworkGlassEuropeanStyleBeads,AssortedShapesandColors', 'Weaveing', '(Green)', 'Beachwear', 'Liftop', 'Indah', 'Jute-Wrapped', 'Crinkles', 'SANDY-62S', 'boots', 'Indy-11', 'Outlaw-13', 'Georgia-32', 'SGW500H-2BV', 'Blue,16', 'Sand,8', 'Sand,', 'Clamps', 'PIECE)', 'P2012', '&quot;ELMO&quot;', 'pieces,(flav-1003-1028-f2576)', 'Cut-Off', 'Tregging', 'PANDORA', '590700HV', '(7.9)', 'Lite-Show', 'A08701-1', 'GEL-Flux', 'GEL-Noosafast', '03632', 'Thumbhole', 'RS', '4.0', 'STR-0018', 'STR-0019', 'STR-0020', '&quot;Forever', 'Phurtec', 'Lounge/Sleepwear', 'Dabung-', 'Doric-S', 'ThisWear', 'Merry', 'Ya', 'Filthy', '9937', 'Coin-Edge', 'Metro-01W', 'Nolita', 'ladies', 'blouses,', 'Europe', 'shirt,', 'idea', 'Wreath', 'Luster', 'Cupcakes,', 'Pink/White,Newborn', 'Ducks', 'Bears', '03538', 'Shiraz', 'Embossed/Neon', 'Coral/White,', \"'Cassy'\", 'SillyLaces', '0.9x1.7', 'Comfi', 'Statue', 'Tie-Bow', 'Rockford', 'Stoned', \"Her's\", '8mm/6mm', 'Exact', 'Hydrology', 'Leio', '1169', 'Long/Maxi', '09859', 'Legends', 'LOL', 'Teemo', 'Reese', 'Deconstructed', 'Frock,', 'Tow', 'SRP307', 'Glacy', 'Boot,Cast/Black,6', 'GEL-Craze', 'Gel-Fortius', 'Waved', '2-Pk', 'GEL-Fortius', 'Rhythmic', 'Gel-Frequency', 'GEL-Windom', 'GEL-Equation', 'Raleigh', 'Tankini,', '4.5cm', 'Min', 'Norfolk', 'Powertrain', 'Sentinel', 'Baketball', 'Folds', 'Cartel', 'Whiskey', 'REFEREE', 'Outline', 'JC123', 'Incomplete', 'JC128', 'JC139', 'whale', 'JC141', 'SODIAL(R)', 'JA305', '7.5cm', 'SEGG', 'JA321', 'JA150', 'Bouquet', 'Fragrant', 'JA160', 'Tourquous', 'WIIPU', 'Full-Body', 'row', 'teardrop', 'Landcaster', 'Marshall', 'Concord', 'Hotpants!', 'butt,', '(Oct-flav-1028-f2594)', 'Sho', 'TechTM', 'Trixx', 'Laceup', 'Bandanna', '&frac14;', 'Hi-Loft', 'Generous', 'P', 'R203', 'Sori', 'Spacious', 'Lucca', 'Adizero', 'Tight,T5600', 'Rockabilly,', 'Swat', 'KLOUD', 'three-layer', 'lint', 'display', 'storage', 'case', 'mirror', 'two-layer', 'Supersuede', '2-Hook', 'ACACIA', '&quot;607&quot;', 'Bumblelion', 'Curri', 'Spheroid', 'Style#Caf-59', 'Caftan', 'Vines,', 'Style#Caf-60', 'Kink', 'Ripper', 'Fairmont', 'Gianna', '14760', 'Harriets', 'Kilianna', 'Raif', 'Double-Strand', 'Moisture-Wicking', 'size:', '8-12)', 'Eastnor', 'Geezlouis', 'Vocals', '8Mm', 'Tiarraa', 'DailyShoes', 'Fashion-Hi', 'Swaymeso', 'Pivot', 'Emperia', '0.1', 'tw', 'Symbols', 'Daylite', 'Zehui&reg;', 'W/Front', 'Linen-Cotton', 'Formstripe', '(Tall/Large,', '&quot;Racing', 'Car&quot;', 'See-through', 'Stewart', '&quot;Bonita&quot;', 'Capistrano', 'Vina', '2014', 'Perspektiv&#65533;', '5-Way', 'CA', 'LookbookStore', 'Mouth', 'Smile', 'Sheatshirt', 'Adeline', '425', 'AGD', 'Fringes', 'Robe-', 'EX', 'Chase', '130', '14478', 'Purplish', '14726', 'Sheild', 'Bronco', 'Outdoors', '#2036M', 'Shucckles', 'Steps', 'Etc', \"2.75''(7cm)\", 'liner', 'KV750', '21218', 'Capes', '#321', '10304L', '80685L', 'Cupcakes', 'Bundle,', 'Malene', 'Fabric,11', 'Isle', 'Brown/White,', 'Pink/White,', 'Frogs', 'A-for', 'hair', 'clips', '80485L', 'Swirlz', 'Brussels', 'Kissed', '90471L', 'Lightz', 'Halt', 'Mindy', 'Seaward', 'X-Ibit', 'X-Pat', 'Beagle', 'Yobada', 'Ideo', 'Chilly', 'Hay', 'Rake', 'Agnes', 'Mabel', 'Azlyn', 'Luck', 'ASSORTED', 'DENIM', 'STRETCH', 'JEANS', 'SIZE:1-17', '#L5834', '20303Solid', 'Grumpy', 'Awful', 'M1260v3', 'MW1569', 'MT1010v2', 'M780v3', 'ML501', 'W870v3', 'W1260v3', 'WT1010v2', 'WW1569', 'Glow-in-Dark', 'WWM756v2', 'UN', 'Linda', 'Falt', 'Mojita', 'MWM756v2', '&quot;Birds', 'Flying&quot;', '&quot;Sports', 'Fan&quot;', '&quot;Ballerina', 'Shoes&quot;', '&quot;Boy', 'Dog&quot;', 'EQ', 'COREY', 'Dribbler', 'Monkey,', 'Burpcloths', 'Cupcake,', 'Sports,', \"Samantha's\", 'Shoppe', 'Winston', '27x27', 'Aconcagua', '100272', 'Tamryn', 'Maize', 'Cider', 'Capture', \"'Bella'\", 'Jive', '12643', '14329', 'Tonneau', '14330', '14331', '14373', '14374', '14375', '14376', '14377', 'Christine', 'vs.', 'Showdown', '(76008)', 'Cortland', 'Redwood', 'Grasp', 'Thames', 'Sweep', 'Causal', 'ATV19', 'Zigkick', 'ZigUltra', 'Blanco', 'Para', 'Mujer', 'Alta', 'Disenador', 'Beatrice', 'Aurorae', 'Ultimate&quot;&quot;', 'Alexandrite', 'Aster', 'Lida', 'Sayer', 'Philby', 'Zelle', 'Spye', 'Ferus', 'Jumpsuits', '&quot;Kissing', '&quot;Watermelon&quot;', '(Two)', 'Charms.', 'Menu!', 'COCO', '32-34', 'A-C', '3mm,', '14-30', 'Applause', 'Basha', 'Savin', 'Putnam', 'Jagg', 'Jenkins', 'Jepson', 'Kellyn', 'Sexy!', 'NBW0PA7096-CO3', 'Openwork', 'NBW0PN7131-CO3', 'NBW0PA7101-CO3', 'NBW0PA7102-CO3', 'NBW0PP7143-CO3', 'Constellation', 'NBW0PF7112-CO3', 'Rotatable', 'YouYouPifa', 'Silver)', 'NBW0FA6233-WH3', 'Specials', 'Dail', 'Wipline', 'P1301', '2.0ct.', '2004701', 'D618', 'UH40303Asst', 'X-Slide,Flambe,6.5', 'Lookbookstore', 'Hunter-case', 'Locker', 'AMY', 'spike', 'block', 'heel', 'platform', 'shoes', 'booties', 'BOMBAYFASHIONS', 'LINED', 'Tie-Dye', '2882', 'TALL', 'P1', 'Cottons', 'gladiator', 'flat', 'studs', 'Best&trade;', 'SA154', 'Bobtail', 'KAYLA', 'Direction', 'Airplane', 'Flat,Beige,6', 'Tamara', 'Baker', '414.33312', 'Ignacio', 'FM42', '3-9', 'R11', '3-12', 'Snobuster2', 'Richmont', 'PT', 'Alfani', 'CU01', \"B.Wow'd\", 'Glowing', 'Insane', 'DresSports', 'Donalton', 'Dandris', 'Davinton', 'Snowbug3', '(73086R-Black-S/M)', '#1058', 'Lay-n-Go', '(20&quot;,', 'S-3X', 'Kirkwood', 'Bravos', '31-001773', 'Grylls', 'R14', 'R19', 'Deodorant', 'Deodorizer', 'Athletes.', 'Fights', 'Stink', 'Caused', 'Bacteria.', 'Than', 'Messy', 'Powders,', 'Antiperspirants,', 'Inserts.', 'Directly', 'Types', 'Climbing,', 'Shoes.', 'Ingredients', 'Pure.', 'ADRIA', 'Bobs-Canvas', 'R20', 'Ailisha', 'Gamiss', 'Hoodies,Grey,Regular', '21mm', 'Bold,', '4,5,6,6.5,7,7.5,8,8.5,9,10,11,12', 'Indulgence', 'R23', 'Amour-Fashion', 'BLACK/Red/Blue', 'leggings', 'Beautie', 'Charly', 'Camya', 'Callen', 'Charson', 'R34', 'Riot', 'Fanesa', 'Priority-63', 'Mark.', 'Graded', 'Loela', '(Antique', 'Sliver)', 'Rear', 'Gauzy', 'INFANTRY', '#WS-NATO-BB-20MM', 'CHERRY-11', 'CHERRY-01', 'Airlie', 'Noosa', 'Mae', 'Kerstin', 'Waist-Hi', 'CILO-15', 'Limit', '98', 'ROSA', 'Lita', 'Mega', 'B486', '706.02', '706.01', 'T2P1429J', 'T2P1339J', 'Coal', 'Casaul', 'Blooms', 'Calico', 'Fold-over', 'Cuff+multi-color', '(5.5)', '3c.t.w', 'R45', 'R47', 'R50', 'Grandad', '6-Piece', 'Bubbles', 'Bodywear', 'Boobles', 'Super-light', 'LibbySue-Border', 'Stretchswim', 'May&amp;Maya', 'Mateo', '11602', '14461', '#5002', 'LR', 'NEON', '14807', 'Hndle', 'Kid),Sea', 'Blue,2', 'R54', 'Amanti', 'Senner', 'Crossback', '45/7030PUR', 'Porter,', 'R70', 'SA158-38C-Black', 'Pintuck', 'Gravity', 'Defyer', 'Zip-UP', 'Perf', 'Aliana', 'Multi-layer', 'Dolley-22', 'Tyte', 'Ellos', 'Unpadded', 'Elastane', 'Bra(2', 'DPS', 'weight', 'STR-0023', 'Ages.', '13.5)', 'Superior-Tevin', 'Print:zebra/leopard/giraffe', '&quot;To', 'Tee&quot;', 'Pack-4-Pack,', 'L-Assorted', 'Chesapeake', 'September', '(.', 'Earrings-', 'February', 'Zircon', 'December', 'Free,tarnish', 'Free,rhodium', 'Finish,super', 'Anklets,', '95280L', 'Chatties', 'Tunic,', 'kurta', 'applique', '(Pink/Green/Snake)', 'W/Rhinestones', '6238)', 'w/Rhinestone', '(7/8,', '6213)', '(RY597)', 'Gazoz', 'flats', '6202)', '10317L', 'Tan/Fushia', '6225)', 'Monica', 'NBW0SD6443-BL3', 'Koh', 'Cockatil', 'Laura-S', 'Diaries', \"Catherine's\", 'Exposure', 'LibbySue-Quintessential', 'Neckerchief', 'Workshift', 'Frill', 'T5K680', 'Black/Blue', '137HB', '6Ppk', 'Seasonless', 'Atom', 'They', '100pcs', 'Eyelash', 'Favor', '3.5&quot;X4.3&quot;', '2-Axis', '2-Virtuosity', '2-Supreme', 'Walk-Dynamic', 'Blister', 'Resist', 'Salida', 'Majisty', 'Decora', 'R82', 'Realm', 'R84', 'BRIGHT', 'MLC', 'TU9274', '12809X', '12808X', 'R340', 'GEORGE', 'DESIGN', 'W/Buckle', 'Vktech', 'Plaited', 'A)', 'Krespo', 'Knitwear', 'B8806', 'G180FL', 'L39VR', 'Dress.', '3522', 'Waistcoat', '6810', 'Cross-Over', '6840', 'Melvin', 'EL-X', 'Alitza', '&quot;225&quot;', 'Gemline', '1100', 'Aimilie', 'IHeartRaves', 'NL15', 'WW2', '1940s', '(XS,', '025', 'Stroll', 'tiered', 'ruffles,', 'Averie', 'Sleve', 'Rose/White', 'R93', 'Tried', 'Link,', 'Frenchhh', 'Gavinn', 'Polyy', 'Legacie', 'Missionn', 'Able', 'Mattie', 'Mela', 'Havoc', 'T7B933', 'Washing,', '(12)', 'Judy-21S', 'Pumps-Shoes', 'Tiber', 'Cactuss', \"Millicent's\", 'Malena:', 'Past,', 'Present', 'Hearts-n-Arrows', '(available', 'Chess-3', 'Price.', '(I-J', 'Sea,', 'shrug', 'smocking', 'Misfits', 'Scarfand', 'Panting', '14703', \"'Rhonda'\", '34B-Black', 'cargo,', 'convertible,', 'top,', 'open', 'crochet,', 'STR-0026', 'Tatradium', 'Butch', 'Lascana,', '(VBUSAO-f2704)', 'Brewzzer', 'Brinks', '161-20471', 'SethRoberts-Essential', 'Jespon', 'Solilor', 'SlackLace', 'Re-Tie', 'Highlighter', 'Oryer', 'R41', 'R25', 'Sandy-51', '10-12', 'H1167', 'Greer', 'Grenadine', 'Sure', 'xuifen', 'H2H', 'W/Chain', '(7,', '5059)', 'Abberley', 'Symmetrical', 'Staaci', 'Clog,Zinfandel,40', 'EU/9', 'Jess', '&quot;Blue', 'Peacock&quot;', 'CredDeal', 'Number', 'PW039', 'Preshrunk', 'undershirt,', '6-16', '48C1WH', 'CALEA', 'Hi-Lo', 'Us', 'Grosevelt', 'Vibrant', '(A0516P81XL)', 'On-The-Go', 'Chugga', 'Joely', '2340A', 'USA/Dont', 'Smartwatch', 'SecondSkin', '2Face', '15+', 'Colors/Patterns', 'Hee', 'Stand-up', 'C.Moore', 'BiFocal', 'Outstanding', 'X-Men', 'Crepe', 'Spell', 'Present,', 'Future&quot;', 'Hourglass', 'A-Z', '&quot;Bee', 'Cantina', 'Color-Contrasted', 'Powerful', 'poke', 'wire', 'isla', 'Fitted-Poplin', 'Abco', 'Lights,', 'Miusol', '2-12', 'new', 'Stand-Up', 'Epaulettes', ',Black,Small/US', 'PENELOPE', 'Shopping', 'Deep-V', 'T-back', '1000', 'Roderic', 'Horizental', 'GY104', 'Multi-pocket', 'Lightbulb', '2722', 'Niceeshop', 'niceEshop(TM)', '+Free', 'classic', 'Secure&reg;', 'Bariatric', 'both', 'sides', 'Zooshoo', 'Georgia-28', 'Brina-01S', 'Carousel', 'Juliee', 'Keepsakes-Curl', 'Keepsakes-Puffers', 'Keepsakes-Animal', '4-9', '#2018', 'Deal', '-Various', '#3158', 'Americana', '2-Circuit', 'Bentex', 'Coverall,', 'Sloane', 'Jelssa', 'Bikers-Wild', 'Girltalkfashions', 'Chuncky', '2202)', 'Marlenee', 'Deeny', 'Plain-Assort', '12Pairs', 'POOF-Slinky', '30004BL', 'Spa-La-La', 'Mani', \"HBO'S\", 'Coming', 'Wrinkled', 'City&reg;', 'synthetic', 'leechee', 'outer', 'Trims', 'Copeland', 'Jordyn', 'Black/Pink/Red/White', '4-pack', '(0-24', 'Hochman', 'Ditzy,', 'STR-0031', '5-14;', 'STR-0032', '09', 'Piecing', 'Long-Sleeved', 'Panty:', 'Surprise', 'Bag-', 'Thongs,', 'Lilliana', 'Gothic,', 'England', 'Ear(Snake)+Gothic', 'Ear(Dragon)-Retro', 'Dragons', '-Retro', '3pcs', 'Right/Left', 'Ear-Retro', 'Carnation', 'Lory,', '5/6', 'LibbySue-Floral', 'Blend,', 'Cuddler', 'Crossbones', 'snoozies!', 'Footcoverings', \"''Juniper''\", 'Themed', 'Stanzino', 'fuchsia', 'New!!', 'Troopah', 'Strong', \"Daddy's\", 'SwimZip', 'Luciano', 'Natazzi', '(M,', 'Putty)', '(24722R-Moss-2X)', 'Moss', 'Succubus', 'High-low', 'Keral', 'Colorway', '0', 'MRW200H-4BV', '&quot;Neo-Display&quot;', 'MRW200H-2BV', 'Esther', 'JODIE-01', 'X-Loop', 'Plush-Lined', 'H1169', \"''Tribal\", \"Chic''\", 'Eriee', 'Ivory/Multi,', 'Dumont', 'Colorblocked', 'Zep', '1975', 'Alternate', 'Collecion', '&quot;292&quot;', 'Carden', 'Kattee&reg;', '23', 'Heisenberg', 'Sketch', 'Flannel,', 'S,M,L,XL,', 'Style#FPJ', '4Pc.', 'Deadly', 'Catsuit', 'Enlargement', 'Enhancers', '19&quot;-Olive', '1140401', 'Moonar&reg;', 'Yogapants', 'waistband', 'Style#Caf-67', 'HALEY', 'colour)', 'Juke', 'Joint', 'Heeled', 'shawl', 'LADY', 'Godsen', 'trunks', 'Brief,Black', 'Keepsakes-Tall', 'Visioneers-Mid', 'PLATINUM', 'INTIMATES', 'Boys,', 'Textured-Solid', 'Size(s-m-l)', 'Pulcher&reg;', '(30m)', 'Unisex,', 'Operated', 'Hitachi', 'Maxell', 'Retail', 'Yesurprise', 'Anytime', 'Property', 'Industries', 'BMC', 'Lupo', 'Plazzaa', 'Paris,6', 'Stripes,', 'Aqua,', 'Libbysue', 'Trooper-Wide', 'Ann', 'Chery', 'Bikini(Black,S/M/L)', 'LeatherBoss', 'Couture&reg;', 'Waistline', 'High-Low', 'Pilates', 'JTC', 'Pre-Tied', 'Engineering', 'Association', 'Seasonwind', 'Commercial', \"Sofia's\", 'Transforming', '10cm', 'Texturing', '2.5cm', 'DOOBALLO', 'thong', 'flip', 'flop', 'AR-15', 'Rights', 'AR15', 'J.TOMSON', 'Faux-Wrap', '(red)', 'Farawell', 'Jogging', 'BRYSON-02', 'Dress(DRS-CAS,PNK-3XL)', 'Sofishie', 'V-Shape', 'Extruding', '(6)', 'Fytto', '733', '15-20mmHg,', 'WantDo', 'Fischer', 'Wayfarer-5', 'Jadyn', 'Bootie,Grey,6', 'Vantasy', 'Jading', 'Gardening', 'Snitch', 'Clubbing', 'Donner&reg;', '(Small,', 'Detachable', 'Elegent', 'face', \"lady's\", 'quartz', 'CARA', 'Lindy-66', 'iHeartRaves', 'JBlue', '(with', 'Bag)', 'Clash', 'PinkTurq', 'T-Line', 'LibbySue-Light', 'Crop,', '28,', 'Gryffindor)', 'colorful', 'Necklace-with', 'Vintage-with', 'Jellys', \"Hawaii's\", 'Slip...aaahs', 'Jaxen', 'Quick-dry', 'Lafayette', 'MT610V3', 'Cady', 'Kurti;', 'Auditions', 'Dynasty', 'DVD', 'Merchandise', 'Si', 'President', 'Origins', '7202388WWPGD09', 'Swift', '-More', '5.5mm', 'Bessie', 'Trapezoid', 'Colorized', 'Josette', 'Cheetah-Luscious', 'Ingear', 'Mahogany,', 'Macey', 'shoulders', 'package', 'Rappel', 'Anaida', 'Destructed', 'BlackStripe', 'Swimsuits', 'Liora', 'Essexx', 'Boot,Tan,8', 'US9117', 'US9175', 'US9173', 'Sargeant', 'Sequin,', '(Alphabet', 'Letter)', 'Sawcremento', 'Farms', 'Cycle', 'Scarf,nl-2002,10', \"Tom's\", 'Ware', 'KANO', 'BAK', 'Kano', 'Bak', 'Sleepsuit', 'Homewear', 'Men/Women', '1.7', \"Ladie's\", 'LeBron', '(Easter)', 'Fiore(TM)', 'I1-I2', 'Liuanan', 'Bonmode', 'GRAY', 'Sunglasses/Eyeglasses', 'AsSeenOnTV', 'Delbarton', 'Calumet', 'Bardwell', 'Clarksburg', 'H1188', 'High-Waisted', 'Slouched', 'Sandals-Flats', 'Labret', 'Anodized', 'Internally', 'jewellery', 'Flatters', 'Flaunts', 'PinupClothingOnline', 'BEATA-02', '7420Z5', 'Nirano', 'Ballad', 'SJSP', 'include', 'Off-Shoulder', 'Pink/Sunset/Yellow/Green/Blue/Purple,', 'Champagne/Clear/Green/', 'Comfortwear', 'White/Neon', 'Green/Neon', 'Pink/Neon', 'Weaving', 'Shoudler', 'Bag(Deep', 'Yoga/', 'Self-adhesive', 'Voglee-', 'Variaty', 'Printing', 'Chendvol', 'CL005)', 'GINNY-12', 'Azia', 'Pocket&quot;', 'Style#PJF-14', 'Bodyslip', 'Emery', 'Tina', 'Shoes,SM33101', 'Hotportgift', 'Tassels', 'Multicolors', '(grey)', 'Short-Print', '20pcs', 'Ellicott', 'Pinupclothingonline', 'Ennsbrook', 'Cydonia', 'roll', 'MOD', '123', 'Trumpet', 'V-', 'Beltaway', 'Qiyun', 'Spiky', 'Sunnydate', 'variaty', 'printing', 'split', 'night', 'shirt/sleep', 'Tiff', 'Sossi', 'Diamente', '21*26Mm', '45Cm', 'Hermosa', 'Anakin', 'GURAIO', 'Designs,XS-M', '143Fashion', 'Platinum-plated', 'Imported', 'T-straps', '(73767R)', 'Purple/Gold,', '(73766R)', 'Status', 'Fuschia,', '(73768R)', 'Pink/Orange,', 'Cijiw', 'BOXINGCAT', 'Wisedeal', 'various', 'Unbalance', 'JN&reg;', 'Sense', 'WristWatch', 'Wetzel', 'Hachi', 'Mint', 'Purple)', '67A', 'drawstring,', 'LightBlue', '-Stretchy,', 'Voglee-Womens', 'Blouses', 'Shobi', 'Deanja', 'Nsstar', 'Maroon,', '(Fn0568', 'Gabby', 'Skye', 'Drapey', 'TruFit', 'Sinderella', 'Travletime', '(M/L-US10/12,', 'Trible', 'WHATWEARS', 'Craft', 'Decoratioins', 'WHMAXIM', '(Orange)/large', 'Confidence', 'Cailey', 'Combo)', 'Five-Layer', 'Voile', 'Dresses,Ship', 'Anntourage', '-Lavender-Small/Medium', 'HG23', 'Azules', 'Bonnet/Chapeau', 'tricot&scaron;&Scaron;', 'pour', 'les', 'femmes', 'Titanic', 'CordiU', 'T-Party', 'Daniiels', 'Heineken', 'CAPRI', '98%', '2%', '(686)', 'Erwin', 'ChaCha', 'Hunnt', 'Tobey', 'Candid', 'Polish/Brush', 'Goose', 'Junia', 'Iri', '14558', 'Persephone', 'Constellations', 'Socks,Blue,Fits', 'Cordiu', 'Sunvary', 'MRW200H-3BV', 'Neo-Display', '40MM', 'Hanson', 'Babett', 'Ambiance', 'Maxstar', 'Pinshang', 'Softness', 'Sookie-', 'Counter-W', 'Zelexa', 'Zasha', 'Cardi', 'Cooldude', 'Ur', 'Microtwill', 'GIGI', '&quot;Garbage', '&quot;Moon', 'Stars&quot;', '&quot;Turtle&quot;', 'Jiabeini', 'Mee', 'EF21St', 'Energi', 'Encrusted', 'Mineral', 'Shinny', 'Kay', \"Sully'S\", 'Kaylee-H', '(5/6,', '6159)', 'Mule,Black,5.5', 'PattiChunky', 'Pink/Grey,', 'Synthetic-And-Mesh', 'Venusdesigns', 'Cartilage,', 'R348', 'Leggingsqueen', '5-pack', '(Preemie-24M)', 'ROSEMANDY', 'Talia-01S', '5in1', '.8mm', 'pentagram', 'fendi', '(white)', 'Lovina-CT', 'Silve', 'Adam', 'Elvis', 'Presley', 'Rockstar', 'Rims', 'White/Pink,', 'Prevent', 'Electronic', 'Scan', 'Theft', \"Joe's\", 'Presidential', 'Napoli', 'Separates', '&quot;Beer&quot;', '19mm', 'Assort,', 'Interlocked', 'lengths)', \"Assn.(Women's)\", 'Sloan', 'Sneaker,Black/White/Fuchsia,6', 'Ionna', 'made2envy', 'Sizzling', 'Shi', 'Szivyshi', 'Lanyjewelry', 'Brilliant/Princess', 'Wedding/Engagement', 'Cupid', 'BoHo', 'Craave', 'Zicac(tm)', 'Zicac', 'Bracelet,&nbsp;7.25&quot;', 'Cirrus', 'Orsona', 'JS-Adeni', 'Baleenda', 'Diva-31', 'Darkness', 'Yellow/White', '3-8', 'Afar', 'R188', 'Boleros', 'Shrugs', 'TIR-0004', 'TIR-0006', 'STR-0044', 'Cast', 'Solo-15', 'EZLACES', 'No-tie,', '(elastic,', 'reflective)', 'WearAll', 'woman,', 'girl,', 'teen', 'Giovanni', 'Dresswear', 'Joetta', 'Color/Styles', 'Raggio', 'Gezer', '95%', '5%', '1XL', 'Vertico', 'Kim', 'Kardashian', 'Parody', 'Sloth', 'Clauds', 'Pristine', 'Spagetti', 'handmade', 'No.10306', 'hand', 'quality', 'No.5023', 'No.10020', 'No.10009', 'S93', 'Balconet', 'Nubby', 'Bikers-Metal', 'Bikers-Pedestrian', 'Shirtail', 'Buttons,', 'Heather/Pink', 'Lady,', 'LibbySue-Watercolor', 'LibbySue-Color-Blocked', '202001)', 'Hugssy', 'gold', '3-in-1', 'R365', 'Xueyi', 'Brightness', 'Flower14', 'Santic', 'Loose-fit', 'MTB', 'Slashed', 'Jeans,Frosted', 'Indigo,24/0', 'Fasion', 'Cambredge', 'Floral/Animal', 'Pumps,LF30402', 'WCA', '4XL', 'Double-Breasted', 'Rudder', 'Infinite', 'Long-sleeve', '(NB-24M)', 'Chinoiserie', 'Libian', 'Women?s', '40/8284RED', '40/8284BLU', 'VELCANS', 'Yazilind', 'Wide:', 'Trimmer', 'Necklace,with', 'Tanboo', 'Annagle', '&quot;Smiling', 'Helicopter&quot;', 'Buypretty', 'Bag--rose', 'ROBE', 'Bathrobes+G-String', 'Sway', 'Glade', 'Lavish', 'Blvd', '2868A', \"Heidi'\", 'Tree&quot;', '&quot;Apple', 'H1208', '(Baby)', '(1X-Large,', '(Purple,', 'Pointy', 'Billito', '&quot;Whales&quot;', '&quot;Multi', 'Lovers2009', ',Crystal', 'PACT', '8600014-4808', 'US,', 'Neck/One', 'Mini/Starter', '#1029', '#1028', 'Avanti', 'Collarbone', 'Tota', 'Weigt', 'OPEN', 'SHOULDERS', '(Fn0568)', 'Gel-Excite', '2-D', 'GEL-Harmony', 'FTL', 'W890v4', 'W1080v4', 'M680V2', 'M1080v4', 'Comportable', 'Footbed,', 'Rosegirl', 'Ladys', '(Length', '100,', 'be', 'Wedge,Pewter,8.5', 'Neck-line', \"'Geneva'\", '1.5MM', 'Bebe', 'Fashioned', 'Pickup', 'TIR-0008', 'TIR-0009', 'STR-0048', 'Frontal', 'STR-0049', 'TIR-0012', 'STR-0051', 'Dia', 'Multi-element', 'Inferno-13', 'Value-Pack', 'Bartol', 'Tipi', 'Lounge/Sleep', 'Jerga', 'X2', 'Crosstrainer', '(Vintage', 'red)', 'Identifier', 'LRG', 'UUstar&reg;', 'TravelWise', '[2014', 'Version]', 'Z-LA', 'Shade,', 'E19-vp', 'Vault(TM)', 'Sunglasses/eyeglasses', 'Pennant,', 'Frozen', 'Magnetizable', '2.25&quot;', 'BEUATY', '2.6&quot;', 'Apporx', 'Medusa', 'Emerald/Purple', 'Pink/Blue', 'Scraves', 'PARKIN', 'Endeavor', '95360L', 'X-cellorator', 'Parisienne', 'Funnel-Collar', 'Princess,', 'Soccer,', 'Lengths,', 'Dad,', 'Bear,', 'Sleepers,', 'Heart,', 'Trucks,', 'Good&amp;god', 'Adjstable', 'Ds-6', 'Catrina', 'Carlita', 'Fancasen', 'V28&reg;', 'GH', 'Loudmouth', 'Almond', 'W/Metal', 'Seals', '6Wx30L', '5-16)', 'Aniversary/engagement/wedding', 'Bands,', 'Aokin', 'Allure', '(Introductory', 'Pricing)', 'Nite', 'Citrus', 'Ring,Mr.Moustache', 'Hypoallergenic,', 'Nickel-free,', 'Lead-free', 'Mount,', 'Cabinet', 'Mika', \"'Striped\", 'Navy&quot;', '&quot;Trucks&quot;', '14in', 'Earring-Silver', 'Ear-Bronze', 'Necklace-Bronze', 'Crusade', 'Wirstband-Black', '(4pcs)', 'Girls-Multi', 'Necklace-Red', 'Wirstaband-Brown', 'Wirstband-Brown', 'Bracelet/Bangle-Light', '(8pcs)', 'Lettering', 'Rings-Copper&amp;Silver&amp;Gold', 'Bracelet-Red&amp;Bronze', 'Cardinal,', 'Belts.com', 'W/Rhinestone', 'microsuede', '(9/10,', '4036)', 'Cheap', 'Ultra-thin', 'Merdia', 'W/(antique', 'Props', 'Gloves-Black', 'Bubbling', 'Necklace-Blue&amp;White', 'Seahorse', 'Organism', 'Jewelry-Black', 'Dragonfly-Bronze', 'iSaddle', 'Charms-Pearl', 'Bracelet-Black', 'Bracelet-White', 'Bracelet-Bronze', 'Bracelet-Brown', 'Necklace-Bronze&amp;Blue', 'Handlebar', 'Pendant-Black', 'Necklace-Gold', 'Bracelet-Black&amp;Golden', 'Pendent-Green', 'Charms-Blue', 'Charms-Pink', 'Charms-Red', 'Charms-Yellow', 'Chain-Red', 'Tower', 'Chain-Bronze', 'Twofer', 'Versatile', 'STANDOUTS-17A', 'Aroundme', 'Teacup', '2Pcs', 'Popana', 'Pandolah', 'Rothschild', 'Solild', 'Large/14', 'W/Embroidery', 'Nudwear', 'WX711', 'Countless', \"Assassin's\", 'Creed', 'Desmond', '20731', 'Above-knee', 'Fineplus', 'Henna', 'Infrared', 'PINKADELIC', 'Easter', 'double', 'fabric', 'bodice', 'Silvia', 'multi', 'scallop', 'seam', '14MM', 'Bead-Ball', '5.00', 'OL', 'overcoat', 'Tropicanas', 'Enhancive', 'Numa', 'Northwater', '&quot;Slight', 'Pant&quot;', 'LESU', 'BKPU,Vickie-Hi3.0', 'Monopoly', 'Pc.', '-(Black)', 'GYPSY', 'PAISLEY', 'ROSES', 'Dear-lover', 'Entrancing', 'Hollow-out', 'Graceful', 'JQK', '3303', '(XL(34-36&quot;))', 'A63-Black', '1433147', 'Raisa', 'Watch-White&amp;Golden', 'Watch-White', 'Dangerousfx', 'niceeshop(TM)', 'Owls', 'Camel,', 'Democracy', 'Goodnight', 'Think', 'Were', 'Wrong', \"I'd\", 'It?', 'D&amp;K', 'Dean', 'Demon', 'Robes-B&amp;W-XL', 'Maybe', 'Pearlized', 'Pureflex', 'Chillipop', \"Toddler's\", 'Shayla', 'Frida', 'PajamaMania', 'Robes', '(Grey,', 'Med)', 'Rare', 'Handset', 'Silver.', '6x6', 'Angeline', 'Promithi', '(orange)', '2-Fresco', 'Women/Lady/Girl', 'Decorations/Wedding', 'Jewelry/Cosplay', 'Decoration/Vampire', 'Paint', 'Yoursclothing', 'Caviar', 'Ponti', 'Bare-breasted', 'Nightwear', 'S-ZONE&reg;', 'Low-Heeled', 'Overshirt', '(L,', 'Gazebo', 'Gifford', 'corsets', 'Corsets', 'W/Bow', 'Memphis-Regular', 'Destroy', 'Roya', 'Vanna', 'CANIUX', 'Orlena', 'Currant', 'A-leigh', 'SW', 'Jaina', 'Rouge', 'Dill', 'Flo', 'Cherrymore', 'Sumac', 'Liya', 'Micromodal', 'Juana', 'Eve', 'Amany', 'Sliq', 'Arched', 'Pamplona', 'WTK13-12', 'bSoft', 'non-skid', 'Jenny', 'Marled', 'Grey/Black,', 'Ekberg', '2,Pewter/Black/Hot', 'Pink,US', 'R.j', 'Tasty', 'Treats', \"Marla'\", \"1960's\", '70mm', 'SUNNYDATE@', 'Copilot', 'Topsclub', 'Strechy', 'Gaze', 'Maelstrom&reg;', 'TAC', 'FORCE', 'juDanzy&reg;', 'sneaker', 'boys', '(2-4', 'Corner', 'Tears', 'elliptical', 'Affection', 'Jumpsuit,', 'Black/Red,', 'Hanna', 'XLarge', 'Shoehorn', 'Assisted', 'Mobility', 'Seniors,', 'Elderly.', 'Microspikes', '(Updated)', 'Glaring', 'Length:10in', \"Jeanette'\", 'Boobtube', 'Gliding', 'Albalone', 'Paua', 'Shells', 'W/All', 'Twinkler)', '703TV', '2-Maine', 'Toucan', 'vip', \"Yvette'\", 'TIR-0016', 'Sweatpant', 'Rohdium', 'Clear,Amethyst,Lavender,Peridot,Red,Sapphire,Citrine', 'Qualitz', '82', 'Ionia', 'Lioness', 'Radius', 'Olin', 'Outlaw', 'Cora', 'Ivation', 'IVUC96W', 'Power,', '17-ounce', 'Basket,', 'CD', 'Cycles', 'Auto-Shut-off', 'Generates', '42,000', 'Pierina', 'Brn', 'Franato', 'Elida', 'Yoursfs', 'SWA', 'Ultraplush', 'Polartec', 'Montage83', 'Leggings-', 'Eda2000', 'Assorted-Pack', 'NEXT', 'LEVEL', '6933', 'Ldy', 'TerTk', '6951', '3/4T', 'loose', 'fitting', 'detail', '(002,', 'Chervon', 'Santa-Saurus', '-...', 'Palermo', 'OutofGasClothing', 'Subdued', '2-Spark', 'Casting', 'Asoidchi', 'Waltzmart', 'Oxford-88', 'Spectator', 'Oxford-Flats', 'R023', 'Hindi', 'A009', 'Blake', 'Brittney', '247', 'Yara', 'Jays', 'JS-Mandalaye', 'it', \"Bee's\", 'Knees', 'Dandelion', 'Plume', 'Sockness', 'Kattee', 'Jason', 'Maxwell', 'Turn-Back', 'Cocoon', 'SlimHot&reg;', 'Anti-cellulite', 'Loss', 'Sui', 'Tonka', 'Nurse/Nursing', '37&quot;', 'Wallflower', 'Seriously', 'Coach', 'Hudsen', \"Isabella's\", 'Apt.9', \"Ladies/Women's\", 'Ebuddy', 'Order', 'Zeagoo', 'Hump', 'V-shaped', 'Is?', 'Day!', 'OSAKA', 'RIDING', 'Buckled', 'asoidchi', 'Loel&reg;', 'pockets,', 'Yvette', 'GEL-Underwire', '#6011', 'Support/Padded', 'Straps/Seamed', '#6015-High', 'Impact/Running/Compression', 'FFT117', 'Earings', 'Orthatic', '(13317R)', '#6004', 'All-Day', 'Support/Odor-Resist', 'Ls065', 'Turtledove,', 'Qs', 'Babys', 'T2P087TN', 'BRAND', 'Romario', 'Manzini', 'Lagos', 'Elma', 'ELMA', '(XL,', 'Marl', 'Tie-H', 'Transitional', 'Earskin', 'Flesh', '8G', '3/16&quot;', 'Lengths', 'Xtralife', 'Cocoship', 'Top+denim', 'Gorilla', 'Hippo', 'KIVA', '(oct-flav-N1011-1028-f2964)', 'Detailing', '2-8y', '75/5131MPSV', 'NS', 'Screwback', 'LnLClothing', 'Cabled', 'DJT', 'Kleo', 'Pack-', 'Multi-layered', 'Wristbands', 'Pack-Fashion', 'Pendent', 'Tippet', 'Wirstaband', 'Pembroke,', 'OutofGas', '(less', '08', 'Box-Check', 'Optional', 'Cradle', 'Ragstock', 'Beebop', 'Cross-front', 'CYZ', 'Snowman', 'Sh18es', 'Visioneers-Diamond', '3-Pairs', 'Non-Binding', 'BANK-85', 'Chain-', 'Neiman-25', 'EXP', 'Relax-114X', 'RICO-25', '10/12', 'SNKL41', 'FireChief', 'Cutest', 'Marylin', 'boyleg', 'BlueTop(TM)', 'Magnificent', 'REFRESH', 'PARTY-02', 'sweat', '(34A)', 'Komar', '2T(Assorted', 'Richmond', 'Tamika42', 'Functional', 'BANK-31', 'Cable-Knitted', 'Button-Front', 'Lingerier', '(Pattern', 'C)', 'HuaYang', 'Armoring', 'Ring(Gold)', '277', 'Ring-Centered', '4-13', 'Auspiciousness', 'Totem', 'R246', 'Sanwood', 'Banket', 'Bangle,', 'Breckelle', 'Georgia-35', 'Millitary', 'X-ray', 'Giftable', 'FUNOC', 'hip', 'hop', 'punk', 'london', 'print(J115)', '573', '(leggings-095-3-XL)', '(women', '40,', 'LibbySue-Colorful,', 'Graphic,', 'Glamourous,', 'Fashionmic', 'Promotes-Excellence', 'Clear/Multi', 'SMART-1', '(Lime-Green)', '(22g)', 'nose', 'ring:', 'Crystals-', 'Pinks,', 'Blues,', 'hoop', 'YARUIE', 'Bulk', 'Vests', 'Velvet,', 'FREEZE', 'Fitwear', 'Half-Zip', '29.5', '011', 'LQ', 'PURE', 'COPPER', 'ARTHRITIS', 'AID.', 'MAGNETIC', 'BANGLE', 'MAGNETS.', 'LADIES', 'THERAPY', 'JEWELLERY,CUFF', 'BAND', 'PAIN', 'RELIEF,', 'GOLF,', 'TENNIS,', 'GARDENING,', 'SPORTS', 'ETC.', '**Free', 'Therapy', 'eBook**', 'EARTH-THERAPYTM', 'ZPS', \"Moustachio's\", 'Manliest', 'B23', 'PLUNGING', 'Fleecewear', '(8612316)', 'XS/Ivory', 'Tuck', 'V-Neck,', 'Shale', 'Sawana', 'Peru-08', '(7555)', 'Snowflake/Reindeer', 'rollover', 'STR-0068', 'SOL', 'SM-XL', 'underbust', 'HB-20', 'Outerwear', 'Gowns,', 'Brady', 'Knit-Waist', '&quot;Padd&quot;', '15222', '15158', '&quot;Lupah&quot;', '15183SYB', '15184SYB', '15186SYB', 'BLVD', 'Quality!', 'A/B/C', '32-44', '(or', 'Bolero)', 'Sony', 'SW2', 'Phones', 'Washing', 'Reeta', 'CAMI', '&quot;Soong&quot;', 'Multilayer', 'Mondaynoon', 'Love,heart', 'E-Tribe', 'SKull', 'zebra', 'rainbow', 'Multilevel', 'Marquis', '388L2.SET.01', 'Trooper-14', 'MIC', 'Boboshop', 'Earstuds', 'NECA', 'Games:', 'Catching', 'Lingstar(TM)', 'PEARL', 'Gauge-', 'Basico', '20%,', 'Tendrils', 'Dignity', 'TM', 'unisex-child', 'personality', 'Pentagram', 'Craystal', 'FINEJO', 'Double-breasted', '&quot;Claudette&quot;', 'Samsung', 'Smartwatch-', 'BOMBAY', 'Finejo', 'Yarns', 'Dress,Orange,Large/US', 'TechSmart', 'BodyconPencil', 'Dress,Small/US', '4/6', 'Dress,Orange,Medium/US', 'STR-0070', 'R401', 'Fifties', 'Running/', 'Burntout', 'Mantilla', 'Bills', 'Shouldered', 'Blue/WhiteReindeer', 'AUS', 'Nothinz', 'SF392-2', '2LUV', 'Woemn', 'Hat,fashion', 'AIDA', 'Georgia-41', 'Gop', 'Juanshi', 'Beyonce', '62,', 'DADITONG', 'Lge', 'Grip,', 'TIEALIGN', 'w/Black', 'Ring-Bronze', 'Imixcity', 'Illuminate', 'Waist,', 'Garcia', 'Artwear', 'Jerry', 'Style#Caf-60C2', 'GMB', 'Wetlands', 'HindaWi', 'Feeding', 'BUYINHOUSE', 'Dagacci', '85L', 'DUFFEL', 'Durable,', 'Packable,', 'SUPER', 'pound', 'Itself', 'Luggage,', 'AVOID', 'OVERWEIGHT', 'CHARGES', 'SATISFACTION', 'GUARANTEE.', 'RISK', 'GUARANTEE', 'Vivienne-01', 'Buttonless', '#1217', \"D'Orsay\", '13.00', 'CAT', '1cttw', 'WAWO', 'Splashy', 'babe', 'Eyourlife', 'Siena', '5-Toe', '&quot;Barefoot', 'Feel&quot;', 'X-Temp', 'BeautyLife', 'Vincent', 'Angelinacotton', 'Tanked', 'JAKARTA', 'BambooMN', 'Aloe', 'KMystic', 'CAT/BUNNY/BOW/BEAR', 'TIGHTS', 'Scarf/Wrap/Shawl', 'TOKYO', 'THIGH', '12.87in', 'Hayley', 'Body,Bone,One', 'Azules-', 'Glove.ly', '(Aqa)', 'Poka', 'Three-dimensional', '(old', 'silvery)', 'Dope', '(Me)', \"Baby's\", '(11', 'Rimous', 'No60-1', '(3,', 'Xero', 'Sensori', 'Venture', '(1X,', 'BLUE)', 'Bum', 'JJF', 'Angel37', 'Shop4Jewelry365(TM)', 'Retro-Random', 'Fleece-Lined', '#015', 'CandyHusky', '(6-8mm)', '(7-9mm),', 'Uniquetrade', 'Lying', 'Super-Soft', 'Glider', 'Open-Chest', 'Lanai', '7/8,', 'Zebra)', 'Scooties', 'Pink-Black-Stripe)', '(SJ3106,', 'EazyBelt', 'Nicerocker', '1Pair', 'Rivets', 'LONDON', 'BANGKOK', 'Egypt', '1PC', 'couple', 'frog', 'sweater', 'w/hoodie', 'kangaroo', 'Wasteband', 'eFuture(TM)', \"Size+eFuture's\", 'nice', 'Keyring', 'Warmth', 'Trends', 'lovely', 'note', 'melody', 'Ruimao', 'Kinshasa', 'LK-Astorr', 'Electonic', 'Necklace/', 'Moonar', 'Underpants', 'Maxi-Skirt', 'Fichel', \"+eFuture's\", 'MOKOLO', 'Triangle-', 'clock', 'time', 'offer', 'price', 'Seller', '09882', 'EVERMARKET(TM)', 'Cream-colored', 'PrettyGuide', 'ShoSho', 'LE3NO', 'Johnny', 'Crinkled', 'Roll-Up,', 'Driftwood,', 'Neutroni', 'Dixon', 'Voysey', 'Laides', 'Zacoo', 'Ninimour', 'Negril', 'Low-cu', 'Black-back', 'Dress,blue,us', '0-18', 'Rosme', '&quot;Annija&quot;,', '38DD', 'ReliBeauty', 'Hacci', 'TEHRAN', 'niceeshopTM', 'Muffler', '(Light', 'Rose)', 'Wing,', '7-9', 'Beachcoco', 'Shacke&#153;', 'Spoon', 'Aid', 'Children,', 'Elderly', 'Lifetime', 'Demarkt', '-White', \"BIRCH's\", '27', 'Lipsticks', 'BMG', 'Built-in', 'Fastener', 'W/Beads', 'W/Glitter', 'Towallmark', 'key/coins', 'fow', 'Unibody', 'ZNU', 'Batwing-sleeve', 'Dress(J275)', 'business', 'Dress(J270)', 'Necklace/Sweater', 'Zig-Zag', 'pierced', 'O-Neck', 'Bodycom', 'POLO', 'ASSN.', 'Ultralight', 'VOBAGA', 'Spliced', '(SMALLER', 'THAN', 'USUAL!)', 'GOGO', 'TEAM', 'SCOOP', 'Minerva', 'Striped/Zig', 'G-cup', \"Kid-Girls'\", 'Sande', 'Container', 'Patricia-02', 'Viosi', 'Marybeth', '6733', 'Ref', 'DRI&reg;', \"'Audrey'\", 'VIV', 'STANZINO', 'SHORT', 'CHIFFON', 'S-3XL', 'Monarchy', \"'Ophelia'\", 'Double-V', 'LIMA', 'MOCCASIN', 'Susenstore', '7pcs', '5pcs', 'beige)', 'ANDI', 'G-strings', 'SURPLICE', 'Luyan', ',26&quot;', '(0.1cttw,', '3232', 'print,', 'palazzo', 'fold-over', 'boots,', 'shoes,', 'coats,', 'jackets,', 'furniture,', 'sneakers.', 'sprays,', 'foams,', 'eraser,', 'cleaning', 'kits.', 'Guaranteed.', '2626', 'Griffith', 'Tablets,', 'Novella', 'STB-1000-1CF', '&quot;OmniSync', 'Sports&quot;', 'Bluetooth-Enabled', 'SmartWatch', 'Tanya', 'Bestchoice2go(TM)', 'Traceless', 'Valance', 'Crazycatz', 'Top+bottom', 'Costumeset', 'Three-quarter', 'Dress,Orange', 'Aloud', 'RACER', 'STRETCHY', 'Meets', 'Two-piece', '/Gold', 'Niceroker', 'Multicolour', 'Artifical', '16334', '&quot;ANGEL&quot;', '(Colorful)', 'Urparcel', '(10+2', 'FREE)', 'Chic&reg;', 'Wearing', 'Methods', 'Natalie', 'Bijou', 'Marbled', '387', 'Annabella', 'Bodycon/Maxi', 'Swimwear(FBA)', 'Dot&amp;Dot', '1.25oz', 'Bottles', '4-piece', '(Small-3X)', 'Buyinhouse', 'Indies', 'Alaska', '197', 'TrendzArt', 'Silvering', '[2', 'PACK]', 'Offers', 'Mask,', 'Warranty', 'Organizers']\n"
          ],
          "name": "stdout"
        }
      ]
    },
    {
      "cell_type": "code",
      "metadata": {
        "id": "b94x5ERsGAGb",
        "colab_type": "code",
        "colab": {}
      },
      "source": [
        "model.wv.save_word2vec_format('title_model.bin')"
      ],
      "execution_count": null,
      "outputs": []
    },
    {
      "cell_type": "code",
      "metadata": {
        "id": "cR5tzN9zGIPn",
        "colab_type": "code",
        "colab": {}
      },
      "source": [
        "def get_mean_vector(word2vec_model, words):\n",
        "    # remove out-of-vocabulary words\n",
        "    words = [word for word in words if word in word2vec_model.wv.vocab]\n",
        "    if len(words) >= 1:\n",
        "        return np.mean(word2vec_model[words], axis=0)\n",
        "    else:\n",
        "        return []"
      ],
      "execution_count": null,
      "outputs": []
    },
    {
      "cell_type": "code",
      "metadata": {
        "id": "Oc83nPRJGJ4O",
        "colab_type": "code",
        "colab": {
          "base_uri": "https://localhost:8080/",
          "height": 72
        },
        "outputId": "282de460-afde-4260-961e-90949eb267cc"
      },
      "source": [
        "mean_vectors = []\n",
        "for i in tokenized_title:\n",
        "  mean_vectors.append(get_mean_vector(model, i))"
      ],
      "execution_count": null,
      "outputs": [
        {
          "output_type": "stream",
          "text": [
            "/usr/local/lib/python3.6/dist-packages/ipykernel_launcher.py:5: DeprecationWarning: Call to deprecated `__getitem__` (Method will be removed in 4.0.0, use self.wv.__getitem__() instead).\n",
            "  \"\"\"\n"
          ],
          "name": "stderr"
        }
      ]
    },
    {
      "cell_type": "code",
      "metadata": {
        "id": "kdz2xVsyGmtw",
        "colab_type": "code",
        "colab": {}
      },
      "source": [
        "df[\"word2vec_title\"] = mean_vectors"
      ],
      "execution_count": null,
      "outputs": []
    },
    {
      "cell_type": "code",
      "metadata": {
        "id": "bHkIXt6mJ-Wh",
        "colab_type": "code",
        "colab": {}
      },
      "source": [
        "temp = {}\n",
        "for row in mean_vectors:\n",
        "  for i in range(len(row)):\n",
        "    if i not in temp:\n",
        "      temp[i] = [row[i]]\n",
        "    else:\n",
        "      temp[i].append(row[i])"
      ],
      "execution_count": null,
      "outputs": []
    },
    {
      "cell_type": "code",
      "metadata": {
        "id": "UkqHRLTfGrvV",
        "colab_type": "code",
        "colab": {
          "base_uri": "https://localhost:8080/",
          "height": 569
        },
        "outputId": "289fcf30-0697-42e3-a8b0-f84d84e3f28b"
      },
      "source": [
        "df.head()"
      ],
      "execution_count": null,
      "outputs": [
        {
          "output_type": "execute_result",
          "data": {
            "text/html": [
              "<div>\n",
              "<style scoped>\n",
              "    .dataframe tbody tr th:only-of-type {\n",
              "        vertical-align: middle;\n",
              "    }\n",
              "\n",
              "    .dataframe tbody tr th {\n",
              "        vertical-align: top;\n",
              "    }\n",
              "\n",
              "    .dataframe thead th {\n",
              "        text-align: right;\n",
              "    }\n",
              "</style>\n",
              "<table border=\"1\" class=\"dataframe\">\n",
              "  <thead>\n",
              "    <tr style=\"text-align: right;\">\n",
              "      <th></th>\n",
              "      <th>user_id</th>\n",
              "      <th>item_id</th>\n",
              "      <th>rating</th>\n",
              "      <th>categories</th>\n",
              "      <th>title</th>\n",
              "      <th>description</th>\n",
              "      <th>brand</th>\n",
              "      <th>price</th>\n",
              "      <th>embedding</th>\n",
              "      <th>word2vec_title</th>\n",
              "    </tr>\n",
              "  </thead>\n",
              "  <tbody>\n",
              "    <tr>\n",
              "      <th>0</th>\n",
              "      <td>A1KLRMWW2FWPL4</td>\n",
              "      <td>0000031887</td>\n",
              "      <td>5.0</td>\n",
              "      <td>[Girls, Active, Active Skirts]</td>\n",
              "      <td>Ballet Dress-Up Fairy Tutu</td>\n",
              "      <td>This adorable basic ballerina tutu is perfect ...</td>\n",
              "      <td>Boutique Cutie</td>\n",
              "      <td>6.79</td>\n",
              "      <td>[0.06690815, 0.0131465085, 0.00455577, 0.12448...</td>\n",
              "      <td>[0.023726925, 0.33362114, 0.19936591, -0.21636...</td>\n",
              "    </tr>\n",
              "    <tr>\n",
              "      <th>1</th>\n",
              "      <td>A2G5TCU2WDFZ65</td>\n",
              "      <td>0000031887</td>\n",
              "      <td>5.0</td>\n",
              "      <td>[Girls, Active, Active Skirts]</td>\n",
              "      <td>Ballet Dress-Up Fairy Tutu</td>\n",
              "      <td>This adorable basic ballerina tutu is perfect ...</td>\n",
              "      <td>Boutique Cutie</td>\n",
              "      <td>6.79</td>\n",
              "      <td>[0.06690815, 0.0131465085, 0.00455577, 0.12448...</td>\n",
              "      <td>[0.023726925, 0.33362114, 0.19936591, -0.21636...</td>\n",
              "    </tr>\n",
              "    <tr>\n",
              "      <th>2</th>\n",
              "      <td>A1RLQXYNCMWRWN</td>\n",
              "      <td>0000031887</td>\n",
              "      <td>5.0</td>\n",
              "      <td>[Girls, Active, Active Skirts]</td>\n",
              "      <td>Ballet Dress-Up Fairy Tutu</td>\n",
              "      <td>This adorable basic ballerina tutu is perfect ...</td>\n",
              "      <td>Boutique Cutie</td>\n",
              "      <td>6.79</td>\n",
              "      <td>[0.06690815, 0.0131465085, 0.00455577, 0.12448...</td>\n",
              "      <td>[0.023726925, 0.33362114, 0.19936591, -0.21636...</td>\n",
              "    </tr>\n",
              "    <tr>\n",
              "      <th>3</th>\n",
              "      <td>A8U3FAMSJVHS5</td>\n",
              "      <td>0000031887</td>\n",
              "      <td>5.0</td>\n",
              "      <td>[Girls, Active, Active Skirts]</td>\n",
              "      <td>Ballet Dress-Up Fairy Tutu</td>\n",
              "      <td>This adorable basic ballerina tutu is perfect ...</td>\n",
              "      <td>Boutique Cutie</td>\n",
              "      <td>6.79</td>\n",
              "      <td>[0.06690815, 0.0131465085, 0.00455577, 0.12448...</td>\n",
              "      <td>[0.023726925, 0.33362114, 0.19936591, -0.21636...</td>\n",
              "    </tr>\n",
              "    <tr>\n",
              "      <th>4</th>\n",
              "      <td>A3GEOILWLK86XM</td>\n",
              "      <td>0000031887</td>\n",
              "      <td>5.0</td>\n",
              "      <td>[Girls, Active, Active Skirts]</td>\n",
              "      <td>Ballet Dress-Up Fairy Tutu</td>\n",
              "      <td>This adorable basic ballerina tutu is perfect ...</td>\n",
              "      <td>Boutique Cutie</td>\n",
              "      <td>6.79</td>\n",
              "      <td>[0.06690815, 0.0131465085, 0.00455577, 0.12448...</td>\n",
              "      <td>[0.023726925, 0.33362114, 0.19936591, -0.21636...</td>\n",
              "    </tr>\n",
              "  </tbody>\n",
              "</table>\n",
              "</div>"
            ],
            "text/plain": [
              "          user_id  ...                                     word2vec_title\n",
              "0  A1KLRMWW2FWPL4  ...  [0.023726925, 0.33362114, 0.19936591, -0.21636...\n",
              "1  A2G5TCU2WDFZ65  ...  [0.023726925, 0.33362114, 0.19936591, -0.21636...\n",
              "2  A1RLQXYNCMWRWN  ...  [0.023726925, 0.33362114, 0.19936591, -0.21636...\n",
              "3   A8U3FAMSJVHS5  ...  [0.023726925, 0.33362114, 0.19936591, -0.21636...\n",
              "4  A3GEOILWLK86XM  ...  [0.023726925, 0.33362114, 0.19936591, -0.21636...\n",
              "\n",
              "[5 rows x 10 columns]"
            ]
          },
          "metadata": {
            "tags": []
          },
          "execution_count": 32
        }
      ]
    },
    {
      "cell_type": "markdown",
      "metadata": {
        "id": "ApTfyjvK2nef",
        "colab_type": "text"
      },
      "source": [
        "# Turicreate data processing"
      ]
    },
    {
      "cell_type": "code",
      "metadata": {
        "id": "YbLAZ_4F2pnH",
        "colab_type": "code",
        "colab": {}
      },
      "source": [
        "df[\"price\"] = df[\"price\"].fillna(0)\n",
        "df[\"title\"] = df[\"title\"].fillna(\"missing\")\n",
        "df[\"brand\"] = df[\"brand\"].fillna(\"missing\")"
      ],
      "execution_count": null,
      "outputs": []
    },
    {
      "cell_type": "code",
      "metadata": {
        "id": "HwNZpuB-DRXE",
        "colab_type": "code",
        "colab": {}
      },
      "source": [
        "df[\"occasion_tag\"] = df[\"occasion_tag\"].fillna(\"missing\")"
      ],
      "execution_count": null,
      "outputs": []
    },
    {
      "cell_type": "code",
      "metadata": {
        "id": "i31q-ZMc9ZQk",
        "colab_type": "code",
        "colab": {}
      },
      "source": [
        "# interactions to sframe\n",
        "user_id = SArray(df.user_id.tolist())\n",
        "item_id = SArray(df.item_id.tolist())\n",
        "label = SArray(df.rating.tolist())"
      ],
      "execution_count": null,
      "outputs": []
    },
    {
      "cell_type": "code",
      "metadata": {
        "id": "xXmS2s8QDYdS",
        "colab_type": "code",
        "colab": {}
      },
      "source": [
        "occasion_tag = SArray(df.occasion_tag.tolist())"
      ],
      "execution_count": null,
      "outputs": []
    },
    {
      "cell_type": "code",
      "metadata": {
        "id": "gY61Mbqf9kAU",
        "colab_type": "code",
        "colab": {}
      },
      "source": [
        "sf = SFrame({'user_id':user_id,'item_id':item_id, 'rating': label, 'occasion_tag': occasion_tag})"
      ],
      "execution_count": null,
      "outputs": []
    },
    {
      "cell_type": "code",
      "metadata": {
        "id": "KuWoLbHV9aze",
        "colab_type": "code",
        "colab": {}
      },
      "source": [
        "# item features\n",
        "title = SArray(df.title.tolist())\n",
        "brand = SArray(df.brand.tolist())\n",
        "price = SArray(df.price.tolist())\n",
        "# categories = SArray(df.categories.tolist())\n",
        "# embedding = SArray(df.embedding.tolist())"
      ],
      "execution_count": null,
      "outputs": []
    },
    {
      "cell_type": "code",
      "metadata": {
        "id": "JBE2k8gE-FG0",
        "colab_type": "code",
        "colab": {}
      },
      "source": [
        "# item_dict = {'item_id':item_id, 'title':title}\n",
        "# item_dict = {'item_id':item_id, 'brand':brand}\n",
        "# item_dict = {'item_id':item_id, 'price':price}\n",
        "item_dict = {'item_id': item_id}\n",
        "# item_dict = {'item_id':item_id, 'title':title, 'brand':brand, 'price':price}\n",
        "for k,v in temp.items():\n",
        "  item_dict[f\"embed_{k}\"] = SArray(v)"
      ],
      "execution_count": null,
      "outputs": []
    },
    {
      "cell_type": "code",
      "metadata": {
        "id": "Tc29_LxXHBvQ",
        "colab_type": "code",
        "colab": {}
      },
      "source": [
        "for k,v in temp.items():\n",
        "  item_dict[f\"title_{k}\"] = SArray(v)"
      ],
      "execution_count": null,
      "outputs": []
    },
    {
      "cell_type": "code",
      "metadata": {
        "id": "7rr5xoUl-YK2",
        "colab_type": "code",
        "colab": {}
      },
      "source": [
        "item_sf = SFrame(item_dict)"
      ],
      "execution_count": null,
      "outputs": []
    },
    {
      "cell_type": "code",
      "metadata": {
        "id": "zG4sxf2d-cVw",
        "colab_type": "code",
        "colab": {}
      },
      "source": [
        "item_sf = item_sf.unique()"
      ],
      "execution_count": null,
      "outputs": []
    },
    {
      "cell_type": "code",
      "metadata": {
        "id": "yr9eG7p8AFSG",
        "colab_type": "code",
        "colab": {}
      },
      "source": [
        "item_sf"
      ],
      "execution_count": null,
      "outputs": []
    },
    {
      "cell_type": "markdown",
      "metadata": {
        "id": "MMjopjzk2qEd",
        "colab_type": "text"
      },
      "source": [
        "# Modelling"
      ]
    },
    {
      "cell_type": "code",
      "metadata": {
        "id": "U_p4hh_LQMFz",
        "colab_type": "code",
        "colab": {
          "base_uri": "https://localhost:8080/",
          "height": 1000
        },
        "outputId": "76de1593-a8c5-43c0-b41c-52acc4066c06"
      },
      "source": [
        "# with title only\n",
        "m1 = ranking_factorization_recommender.create(sf_train, user_id=\"user_id\", item_id=\"item_id\", \n",
        "                                              target=\"rating\", item_data = item_sf,\n",
        "                                             max_iterations=40, num_factors=64)"
      ],
      "execution_count": null,
      "outputs": [
        {
          "output_type": "display_data",
          "data": {
            "text/html": [
              "<pre>Preparing data set.</pre>"
            ],
            "text/plain": [
              "Preparing data set."
            ]
          },
          "metadata": {
            "tags": []
          }
        },
        {
          "output_type": "display_data",
          "data": {
            "text/html": [
              "<pre>    Data has 277950 observations with 39387 users and 23033 items.</pre>"
            ],
            "text/plain": [
              "    Data has 277950 observations with 39387 users and 23033 items."
            ]
          },
          "metadata": {
            "tags": []
          }
        },
        {
          "output_type": "display_data",
          "data": {
            "text/html": [
              "<pre>    Data prepared in: 0.540154s</pre>"
            ],
            "text/plain": [
              "    Data prepared in: 0.540154s"
            ]
          },
          "metadata": {
            "tags": []
          }
        },
        {
          "output_type": "display_data",
          "data": {
            "text/html": [
              "<pre>Training ranking_factorization_recommender for recommendations.</pre>"
            ],
            "text/plain": [
              "Training ranking_factorization_recommender for recommendations."
            ]
          },
          "metadata": {
            "tags": []
          }
        },
        {
          "output_type": "display_data",
          "data": {
            "text/html": [
              "<pre>+--------------------------------+--------------------------------------------------+----------+</pre>"
            ],
            "text/plain": [
              "+--------------------------------+--------------------------------------------------+----------+"
            ]
          },
          "metadata": {
            "tags": []
          }
        },
        {
          "output_type": "display_data",
          "data": {
            "text/html": [
              "<pre>| Parameter                      | Description                                      | Value    |</pre>"
            ],
            "text/plain": [
              "| Parameter                      | Description                                      | Value    |"
            ]
          },
          "metadata": {
            "tags": []
          }
        },
        {
          "output_type": "display_data",
          "data": {
            "text/html": [
              "<pre>+--------------------------------+--------------------------------------------------+----------+</pre>"
            ],
            "text/plain": [
              "+--------------------------------+--------------------------------------------------+----------+"
            ]
          },
          "metadata": {
            "tags": []
          }
        },
        {
          "output_type": "display_data",
          "data": {
            "text/html": [
              "<pre>| num_factors                    | Factor Dimension                                 | 64       |</pre>"
            ],
            "text/plain": [
              "| num_factors                    | Factor Dimension                                 | 64       |"
            ]
          },
          "metadata": {
            "tags": []
          }
        },
        {
          "output_type": "display_data",
          "data": {
            "text/html": [
              "<pre>| regularization                 | L2 Regularization on Factors                     | 1e-09    |</pre>"
            ],
            "text/plain": [
              "| regularization                 | L2 Regularization on Factors                     | 1e-09    |"
            ]
          },
          "metadata": {
            "tags": []
          }
        },
        {
          "output_type": "display_data",
          "data": {
            "text/html": [
              "<pre>| solver                         | Solver used for training                         | adagrad  |</pre>"
            ],
            "text/plain": [
              "| solver                         | Solver used for training                         | adagrad  |"
            ]
          },
          "metadata": {
            "tags": []
          }
        },
        {
          "output_type": "display_data",
          "data": {
            "text/html": [
              "<pre>| linear_regularization          | L2 Regularization on Linear Coefficients         | 1e-09    |</pre>"
            ],
            "text/plain": [
              "| linear_regularization          | L2 Regularization on Linear Coefficients         | 1e-09    |"
            ]
          },
          "metadata": {
            "tags": []
          }
        },
        {
          "output_type": "display_data",
          "data": {
            "text/html": [
              "<pre>| ranking_regularization         | Rank-based Regularization Weight                 | 0.25     |</pre>"
            ],
            "text/plain": [
              "| ranking_regularization         | Rank-based Regularization Weight                 | 0.25     |"
            ]
          },
          "metadata": {
            "tags": []
          }
        },
        {
          "output_type": "display_data",
          "data": {
            "text/html": [
              "<pre>| side_data_factorization        | Assign Factors for Side Data                     | True     |</pre>"
            ],
            "text/plain": [
              "| side_data_factorization        | Assign Factors for Side Data                     | True     |"
            ]
          },
          "metadata": {
            "tags": []
          }
        },
        {
          "output_type": "display_data",
          "data": {
            "text/html": [
              "<pre>| max_iterations                 | Maximum Number of Iterations                     | 40       |</pre>"
            ],
            "text/plain": [
              "| max_iterations                 | Maximum Number of Iterations                     | 40       |"
            ]
          },
          "metadata": {
            "tags": []
          }
        },
        {
          "output_type": "display_data",
          "data": {
            "text/html": [
              "<pre>+--------------------------------+--------------------------------------------------+----------+</pre>"
            ],
            "text/plain": [
              "+--------------------------------+--------------------------------------------------+----------+"
            ]
          },
          "metadata": {
            "tags": []
          }
        },
        {
          "output_type": "display_data",
          "data": {
            "text/html": [
              "<pre>  Optimizing model using SGD; tuning step size.</pre>"
            ],
            "text/plain": [
              "  Optimizing model using SGD; tuning step size."
            ]
          },
          "metadata": {
            "tags": []
          }
        },
        {
          "output_type": "display_data",
          "data": {
            "text/html": [
              "<pre>  Using 34743 / 277950 points for tuning the step size.</pre>"
            ],
            "text/plain": [
              "  Using 34743 / 277950 points for tuning the step size."
            ]
          },
          "metadata": {
            "tags": []
          }
        },
        {
          "output_type": "display_data",
          "data": {
            "text/html": [
              "<pre>+---------+-------------------+------------------------------------------+</pre>"
            ],
            "text/plain": [
              "+---------+-------------------+------------------------------------------+"
            ]
          },
          "metadata": {
            "tags": []
          }
        },
        {
          "output_type": "display_data",
          "data": {
            "text/html": [
              "<pre>| Attempt | Initial Step Size | Estimated Objective Value                |</pre>"
            ],
            "text/plain": [
              "| Attempt | Initial Step Size | Estimated Objective Value                |"
            ]
          },
          "metadata": {
            "tags": []
          }
        },
        {
          "output_type": "display_data",
          "data": {
            "text/html": [
              "<pre>+---------+-------------------+------------------------------------------+</pre>"
            ],
            "text/plain": [
              "+---------+-------------------+------------------------------------------+"
            ]
          },
          "metadata": {
            "tags": []
          }
        },
        {
          "output_type": "display_data",
          "data": {
            "text/html": [
              "<pre>| 0       | 1                 | Not Viable                               |</pre>"
            ],
            "text/plain": [
              "| 0       | 1                 | Not Viable                               |"
            ]
          },
          "metadata": {
            "tags": []
          }
        },
        {
          "output_type": "display_data",
          "data": {
            "text/html": [
              "<pre>| 1       | 0.25              | Not Viable                               |</pre>"
            ],
            "text/plain": [
              "| 1       | 0.25              | Not Viable                               |"
            ]
          },
          "metadata": {
            "tags": []
          }
        },
        {
          "output_type": "display_data",
          "data": {
            "text/html": [
              "<pre>| 2       | 0.0625            | Not Viable                               |</pre>"
            ],
            "text/plain": [
              "| 2       | 0.0625            | Not Viable                               |"
            ]
          },
          "metadata": {
            "tags": []
          }
        },
        {
          "output_type": "display_data",
          "data": {
            "text/html": [
              "<pre>| 3       | 0.015625          | Not Viable                               |</pre>"
            ],
            "text/plain": [
              "| 3       | 0.015625          | Not Viable                               |"
            ]
          },
          "metadata": {
            "tags": []
          }
        },
        {
          "output_type": "display_data",
          "data": {
            "text/html": [
              "<pre>| 4       | 0.00390625        | No Decrease (4.01852 >= 2.38301)         |</pre>"
            ],
            "text/plain": [
              "| 4       | 0.00390625        | No Decrease (4.01852 >= 2.38301)         |"
            ]
          },
          "metadata": {
            "tags": []
          }
        },
        {
          "output_type": "display_data",
          "data": {
            "text/html": [
              "<pre>| 5       | 0.000976562       | No Decrease (2.41768 >= 2.38301)         |</pre>"
            ],
            "text/plain": [
              "| 5       | 0.000976562       | No Decrease (2.41768 >= 2.38301)         |"
            ]
          },
          "metadata": {
            "tags": []
          }
        },
        {
          "output_type": "display_data",
          "data": {
            "text/html": [
              "<pre>| 6       | 0.000244141       | No Decrease (2.39052 >= 2.38301)         |</pre>"
            ],
            "text/plain": [
              "| 6       | 0.000244141       | No Decrease (2.39052 >= 2.38301)         |"
            ]
          },
          "metadata": {
            "tags": []
          }
        },
        {
          "output_type": "display_data",
          "data": {
            "text/html": [
              "<pre>| 7       | 6.10352e-05       | 2.38244                                  |</pre>"
            ],
            "text/plain": [
              "| 7       | 6.10352e-05       | 2.38244                                  |"
            ]
          },
          "metadata": {
            "tags": []
          }
        },
        {
          "output_type": "display_data",
          "data": {
            "text/html": [
              "<pre>| 8       | 3.05176e-05       | 2.38145                                  |</pre>"
            ],
            "text/plain": [
              "| 8       | 3.05176e-05       | 2.38145                                  |"
            ]
          },
          "metadata": {
            "tags": []
          }
        },
        {
          "output_type": "display_data",
          "data": {
            "text/html": [
              "<pre>| 9       | 1.52588e-05       | 2.38154                                  |</pre>"
            ],
            "text/plain": [
              "| 9       | 1.52588e-05       | 2.38154                                  |"
            ]
          },
          "metadata": {
            "tags": []
          }
        },
        {
          "output_type": "display_data",
          "data": {
            "text/html": [
              "<pre>| 10      | 7.62939e-06       | 2.38171                                  |</pre>"
            ],
            "text/plain": [
              "| 10      | 7.62939e-06       | 2.38171                                  |"
            ]
          },
          "metadata": {
            "tags": []
          }
        },
        {
          "output_type": "display_data",
          "data": {
            "text/html": [
              "<pre>| 11      | 3.8147e-06        | 2.38187                                  |</pre>"
            ],
            "text/plain": [
              "| 11      | 3.8147e-06        | 2.38187                                  |"
            ]
          },
          "metadata": {
            "tags": []
          }
        },
        {
          "output_type": "display_data",
          "data": {
            "text/html": [
              "<pre>+---------+-------------------+------------------------------------------+</pre>"
            ],
            "text/plain": [
              "+---------+-------------------+------------------------------------------+"
            ]
          },
          "metadata": {
            "tags": []
          }
        },
        {
          "output_type": "display_data",
          "data": {
            "text/html": [
              "<pre>| Final   | 3.05176e-05       | 2.38145                                  |</pre>"
            ],
            "text/plain": [
              "| Final   | 3.05176e-05       | 2.38145                                  |"
            ]
          },
          "metadata": {
            "tags": []
          }
        },
        {
          "output_type": "display_data",
          "data": {
            "text/html": [
              "<pre>+---------+-------------------+------------------------------------------+</pre>"
            ],
            "text/plain": [
              "+---------+-------------------+------------------------------------------+"
            ]
          },
          "metadata": {
            "tags": []
          }
        },
        {
          "output_type": "display_data",
          "data": {
            "text/html": [
              "<pre>Starting Optimization.</pre>"
            ],
            "text/plain": [
              "Starting Optimization."
            ]
          },
          "metadata": {
            "tags": []
          }
        },
        {
          "output_type": "display_data",
          "data": {
            "text/html": [
              "<pre>+---------+--------------+-------------------+-----------------------+-------------+</pre>"
            ],
            "text/plain": [
              "+---------+--------------+-------------------+-----------------------+-------------+"
            ]
          },
          "metadata": {
            "tags": []
          }
        },
        {
          "output_type": "display_data",
          "data": {
            "text/html": [
              "<pre>| Iter.   | Elapsed Time | Approx. Objective | Approx. Training RMSE | Step Size   |</pre>"
            ],
            "text/plain": [
              "| Iter.   | Elapsed Time | Approx. Objective | Approx. Training RMSE | Step Size   |"
            ]
          },
          "metadata": {
            "tags": []
          }
        },
        {
          "output_type": "display_data",
          "data": {
            "text/html": [
              "<pre>+---------+--------------+-------------------+-----------------------+-------------+</pre>"
            ],
            "text/plain": [
              "+---------+--------------+-------------------+-----------------------+-------------+"
            ]
          },
          "metadata": {
            "tags": []
          }
        },
        {
          "output_type": "display_data",
          "data": {
            "text/html": [
              "<pre>| Initial | 124us        | 2.38994           | 1.10372               |             |</pre>"
            ],
            "text/plain": [
              "| Initial | 124us        | 2.38994           | 1.10372               |             |"
            ]
          },
          "metadata": {
            "tags": []
          }
        },
        {
          "output_type": "display_data",
          "data": {
            "text/html": [
              "<pre>+---------+--------------+-------------------+-----------------------+-------------+</pre>"
            ],
            "text/plain": [
              "+---------+--------------+-------------------+-----------------------+-------------+"
            ]
          },
          "metadata": {
            "tags": []
          }
        },
        {
          "output_type": "display_data",
          "data": {
            "text/html": [
              "<pre>| 1       | 23.95s       | 2.38865           | 1.10363               | 3.05176e-05 |</pre>"
            ],
            "text/plain": [
              "| 1       | 23.95s       | 2.38865           | 1.10363               | 3.05176e-05 |"
            ]
          },
          "metadata": {
            "tags": []
          }
        },
        {
          "output_type": "display_data",
          "data": {
            "text/html": [
              "<pre>| 2       | 48.18s       | 2.3882            | 1.10366               | 3.05176e-05 |</pre>"
            ],
            "text/plain": [
              "| 2       | 48.18s       | 2.3882            | 1.10366               | 3.05176e-05 |"
            ]
          },
          "metadata": {
            "tags": []
          }
        },
        {
          "output_type": "display_data",
          "data": {
            "text/html": [
              "<pre>| 3       | 1m 12s       | 2.38813           | 1.10365               | 3.05176e-05 |</pre>"
            ],
            "text/plain": [
              "| 3       | 1m 12s       | 2.38813           | 1.10365               | 3.05176e-05 |"
            ]
          },
          "metadata": {
            "tags": []
          }
        },
        {
          "output_type": "display_data",
          "data": {
            "text/html": [
              "<pre>| 4       | 1m 36s       | 2.3881            | 1.10364               | 3.05176e-05 |</pre>"
            ],
            "text/plain": [
              "| 4       | 1m 36s       | 2.3881            | 1.10364               | 3.05176e-05 |"
            ]
          },
          "metadata": {
            "tags": []
          }
        },
        {
          "output_type": "display_data",
          "data": {
            "text/html": [
              "<pre>| 5       | 1m 59s       | 2.38806           | 1.10364               | 3.05176e-05 |</pre>"
            ],
            "text/plain": [
              "| 5       | 1m 59s       | 2.38806           | 1.10364               | 3.05176e-05 |"
            ]
          },
          "metadata": {
            "tags": []
          }
        },
        {
          "output_type": "display_data",
          "data": {
            "text/html": [
              "<pre>| 7       | 2m 48s       | 2.38801           | 1.10362               | 3.05176e-05 |</pre>"
            ],
            "text/plain": [
              "| 7       | 2m 48s       | 2.38801           | 1.10362               | 3.05176e-05 |"
            ]
          },
          "metadata": {
            "tags": []
          }
        },
        {
          "output_type": "display_data",
          "data": {
            "text/html": [
              "<pre>| 8       | 3m 12s       | 2.388             | 1.10362               | 3.05176e-05 |</pre>"
            ],
            "text/plain": [
              "| 8       | 3m 12s       | 2.388             | 1.10362               | 3.05176e-05 |"
            ]
          },
          "metadata": {
            "tags": []
          }
        },
        {
          "output_type": "display_data",
          "data": {
            "text/html": [
              "<pre>| 9       | 3m 36s       | 2.388             | 1.10361               | 3.05176e-05 |</pre>"
            ],
            "text/plain": [
              "| 9       | 3m 36s       | 2.388             | 1.10361               | 3.05176e-05 |"
            ]
          },
          "metadata": {
            "tags": []
          }
        },
        {
          "output_type": "display_data",
          "data": {
            "text/html": [
              "<pre>| 10      | 3m 59s       | 2.38798           | 1.10361               | 3.05176e-05 |</pre>"
            ],
            "text/plain": [
              "| 10      | 3m 59s       | 2.38798           | 1.10361               | 3.05176e-05 |"
            ]
          },
          "metadata": {
            "tags": []
          }
        },
        {
          "output_type": "display_data",
          "data": {
            "text/html": [
              "<pre>| 11      | 4m 22s       | 2.38797           | 1.1036                | 3.05176e-05 |</pre>"
            ],
            "text/plain": [
              "| 11      | 4m 22s       | 2.38797           | 1.1036                | 3.05176e-05 |"
            ]
          },
          "metadata": {
            "tags": []
          }
        },
        {
          "output_type": "display_data",
          "data": {
            "text/html": [
              "<pre>| 12      | 4m 46s       | 2.38796           | 1.1036                | 3.05176e-05 |</pre>"
            ],
            "text/plain": [
              "| 12      | 4m 46s       | 2.38796           | 1.1036                | 3.05176e-05 |"
            ]
          },
          "metadata": {
            "tags": []
          }
        },
        {
          "output_type": "display_data",
          "data": {
            "text/html": [
              "<pre>| 13      | 5m 10s       | 2.38796           | 1.1036                | 3.05176e-05 |</pre>"
            ],
            "text/plain": [
              "| 13      | 5m 10s       | 2.38796           | 1.1036                | 3.05176e-05 |"
            ]
          },
          "metadata": {
            "tags": []
          }
        },
        {
          "output_type": "display_data",
          "data": {
            "text/html": [
              "<pre>+---------+--------------+-------------------+-----------------------+-------------+</pre>"
            ],
            "text/plain": [
              "+---------+--------------+-------------------+-----------------------+-------------+"
            ]
          },
          "metadata": {
            "tags": []
          }
        },
        {
          "output_type": "display_data",
          "data": {
            "text/html": [
              "<pre>Optimization Complete: Convergence on objective within bounds.</pre>"
            ],
            "text/plain": [
              "Optimization Complete: Convergence on objective within bounds."
            ]
          },
          "metadata": {
            "tags": []
          }
        },
        {
          "output_type": "display_data",
          "data": {
            "text/html": [
              "<pre>Computing final objective value and training RMSE.</pre>"
            ],
            "text/plain": [
              "Computing final objective value and training RMSE."
            ]
          },
          "metadata": {
            "tags": []
          }
        },
        {
          "output_type": "display_data",
          "data": {
            "text/html": [
              "<pre>       Final objective value: 2.38864</pre>"
            ],
            "text/plain": [
              "       Final objective value: 2.38864"
            ]
          },
          "metadata": {
            "tags": []
          }
        },
        {
          "output_type": "display_data",
          "data": {
            "text/html": [
              "<pre>       Final training RMSE: 1.1036</pre>"
            ],
            "text/plain": [
              "       Final training RMSE: 1.1036"
            ]
          },
          "metadata": {
            "tags": []
          }
        }
      ]
    },
    {
      "cell_type": "code",
      "metadata": {
        "id": "o71la55VQOby",
        "colab_type": "code",
        "colab": {
          "base_uri": "https://localhost:8080/",
          "height": 1000
        },
        "outputId": "95c1e575-6143-4a30-cb65-f1ec0928bb03"
      },
      "source": [
        "# with title only\n",
        "m1.evaluate_precision_recall(sf_train, cutoffs=[10, 20, 30, 40, 50], exclude_known=False)"
      ],
      "execution_count": null,
      "outputs": [
        {
          "output_type": "display_data",
          "data": {
            "text/html": [
              "<pre>recommendations finished on 1000/39387 queries. users per second: 8.63329</pre>"
            ],
            "text/plain": [
              "recommendations finished on 1000/39387 queries. users per second: 8.63329"
            ]
          },
          "metadata": {
            "tags": []
          }
        },
        {
          "output_type": "display_data",
          "data": {
            "text/html": [
              "<pre>recommendations finished on 2000/39387 queries. users per second: 8.63149</pre>"
            ],
            "text/plain": [
              "recommendations finished on 2000/39387 queries. users per second: 8.63149"
            ]
          },
          "metadata": {
            "tags": []
          }
        },
        {
          "output_type": "display_data",
          "data": {
            "text/html": [
              "<pre>recommendations finished on 3000/39387 queries. users per second: 8.60374</pre>"
            ],
            "text/plain": [
              "recommendations finished on 3000/39387 queries. users per second: 8.60374"
            ]
          },
          "metadata": {
            "tags": []
          }
        },
        {
          "output_type": "display_data",
          "data": {
            "text/html": [
              "<pre>recommendations finished on 4000/39387 queries. users per second: 8.58254</pre>"
            ],
            "text/plain": [
              "recommendations finished on 4000/39387 queries. users per second: 8.58254"
            ]
          },
          "metadata": {
            "tags": []
          }
        },
        {
          "output_type": "display_data",
          "data": {
            "text/html": [
              "<pre>recommendations finished on 5000/39387 queries. users per second: 8.56923</pre>"
            ],
            "text/plain": [
              "recommendations finished on 5000/39387 queries. users per second: 8.56923"
            ]
          },
          "metadata": {
            "tags": []
          }
        },
        {
          "output_type": "display_data",
          "data": {
            "text/html": [
              "<pre>recommendations finished on 6000/39387 queries. users per second: 8.55487</pre>"
            ],
            "text/plain": [
              "recommendations finished on 6000/39387 queries. users per second: 8.55487"
            ]
          },
          "metadata": {
            "tags": []
          }
        },
        {
          "output_type": "display_data",
          "data": {
            "text/html": [
              "<pre>recommendations finished on 7000/39387 queries. users per second: 8.54723</pre>"
            ],
            "text/plain": [
              "recommendations finished on 7000/39387 queries. users per second: 8.54723"
            ]
          },
          "metadata": {
            "tags": []
          }
        },
        {
          "output_type": "display_data",
          "data": {
            "text/html": [
              "<pre>recommendations finished on 8000/39387 queries. users per second: 8.5401</pre>"
            ],
            "text/plain": [
              "recommendations finished on 8000/39387 queries. users per second: 8.5401"
            ]
          },
          "metadata": {
            "tags": []
          }
        },
        {
          "output_type": "display_data",
          "data": {
            "text/html": [
              "<pre>recommendations finished on 9000/39387 queries. users per second: 8.53063</pre>"
            ],
            "text/plain": [
              "recommendations finished on 9000/39387 queries. users per second: 8.53063"
            ]
          },
          "metadata": {
            "tags": []
          }
        },
        {
          "output_type": "display_data",
          "data": {
            "text/html": [
              "<pre>recommendations finished on 10000/39387 queries. users per second: 8.52228</pre>"
            ],
            "text/plain": [
              "recommendations finished on 10000/39387 queries. users per second: 8.52228"
            ]
          },
          "metadata": {
            "tags": []
          }
        },
        {
          "output_type": "display_data",
          "data": {
            "text/html": [
              "<pre>recommendations finished on 11000/39387 queries. users per second: 8.51308</pre>"
            ],
            "text/plain": [
              "recommendations finished on 11000/39387 queries. users per second: 8.51308"
            ]
          },
          "metadata": {
            "tags": []
          }
        },
        {
          "output_type": "display_data",
          "data": {
            "text/html": [
              "<pre>recommendations finished on 12000/39387 queries. users per second: 8.50477</pre>"
            ],
            "text/plain": [
              "recommendations finished on 12000/39387 queries. users per second: 8.50477"
            ]
          },
          "metadata": {
            "tags": []
          }
        },
        {
          "output_type": "display_data",
          "data": {
            "text/html": [
              "<pre>recommendations finished on 13000/39387 queries. users per second: 8.49414</pre>"
            ],
            "text/plain": [
              "recommendations finished on 13000/39387 queries. users per second: 8.49414"
            ]
          },
          "metadata": {
            "tags": []
          }
        },
        {
          "output_type": "display_data",
          "data": {
            "text/html": [
              "<pre>recommendations finished on 14000/39387 queries. users per second: 8.48271</pre>"
            ],
            "text/plain": [
              "recommendations finished on 14000/39387 queries. users per second: 8.48271"
            ]
          },
          "metadata": {
            "tags": []
          }
        },
        {
          "output_type": "display_data",
          "data": {
            "text/html": [
              "<pre>recommendations finished on 15000/39387 queries. users per second: 8.47712</pre>"
            ],
            "text/plain": [
              "recommendations finished on 15000/39387 queries. users per second: 8.47712"
            ]
          },
          "metadata": {
            "tags": []
          }
        },
        {
          "output_type": "display_data",
          "data": {
            "text/html": [
              "<pre>recommendations finished on 16000/39387 queries. users per second: 8.47187</pre>"
            ],
            "text/plain": [
              "recommendations finished on 16000/39387 queries. users per second: 8.47187"
            ]
          },
          "metadata": {
            "tags": []
          }
        },
        {
          "output_type": "display_data",
          "data": {
            "text/html": [
              "<pre>recommendations finished on 17000/39387 queries. users per second: 8.46643</pre>"
            ],
            "text/plain": [
              "recommendations finished on 17000/39387 queries. users per second: 8.46643"
            ]
          },
          "metadata": {
            "tags": []
          }
        },
        {
          "output_type": "display_data",
          "data": {
            "text/html": [
              "<pre>recommendations finished on 18000/39387 queries. users per second: 8.45982</pre>"
            ],
            "text/plain": [
              "recommendations finished on 18000/39387 queries. users per second: 8.45982"
            ]
          },
          "metadata": {
            "tags": []
          }
        },
        {
          "output_type": "display_data",
          "data": {
            "text/html": [
              "<pre>recommendations finished on 19000/39387 queries. users per second: 8.45493</pre>"
            ],
            "text/plain": [
              "recommendations finished on 19000/39387 queries. users per second: 8.45493"
            ]
          },
          "metadata": {
            "tags": []
          }
        },
        {
          "output_type": "display_data",
          "data": {
            "text/html": [
              "<pre>recommendations finished on 20000/39387 queries. users per second: 8.45034</pre>"
            ],
            "text/plain": [
              "recommendations finished on 20000/39387 queries. users per second: 8.45034"
            ]
          },
          "metadata": {
            "tags": []
          }
        },
        {
          "output_type": "display_data",
          "data": {
            "text/html": [
              "<pre>recommendations finished on 21000/39387 queries. users per second: 8.44853</pre>"
            ],
            "text/plain": [
              "recommendations finished on 21000/39387 queries. users per second: 8.44853"
            ]
          },
          "metadata": {
            "tags": []
          }
        },
        {
          "output_type": "display_data",
          "data": {
            "text/html": [
              "<pre>recommendations finished on 22000/39387 queries. users per second: 8.44366</pre>"
            ],
            "text/plain": [
              "recommendations finished on 22000/39387 queries. users per second: 8.44366"
            ]
          },
          "metadata": {
            "tags": []
          }
        },
        {
          "output_type": "display_data",
          "data": {
            "text/html": [
              "<pre>recommendations finished on 23000/39387 queries. users per second: 8.44146</pre>"
            ],
            "text/plain": [
              "recommendations finished on 23000/39387 queries. users per second: 8.44146"
            ]
          },
          "metadata": {
            "tags": []
          }
        },
        {
          "output_type": "display_data",
          "data": {
            "text/html": [
              "<pre>recommendations finished on 24000/39387 queries. users per second: 8.43893</pre>"
            ],
            "text/plain": [
              "recommendations finished on 24000/39387 queries. users per second: 8.43893"
            ]
          },
          "metadata": {
            "tags": []
          }
        },
        {
          "output_type": "display_data",
          "data": {
            "text/html": [
              "<pre>recommendations finished on 25000/39387 queries. users per second: 8.43698</pre>"
            ],
            "text/plain": [
              "recommendations finished on 25000/39387 queries. users per second: 8.43698"
            ]
          },
          "metadata": {
            "tags": []
          }
        },
        {
          "output_type": "display_data",
          "data": {
            "text/html": [
              "<pre>recommendations finished on 26000/39387 queries. users per second: 8.43529</pre>"
            ],
            "text/plain": [
              "recommendations finished on 26000/39387 queries. users per second: 8.43529"
            ]
          },
          "metadata": {
            "tags": []
          }
        },
        {
          "output_type": "display_data",
          "data": {
            "text/html": [
              "<pre>recommendations finished on 27000/39387 queries. users per second: 8.435</pre>"
            ],
            "text/plain": [
              "recommendations finished on 27000/39387 queries. users per second: 8.435"
            ]
          },
          "metadata": {
            "tags": []
          }
        },
        {
          "output_type": "display_data",
          "data": {
            "text/html": [
              "<pre>recommendations finished on 28000/39387 queries. users per second: 8.43447</pre>"
            ],
            "text/plain": [
              "recommendations finished on 28000/39387 queries. users per second: 8.43447"
            ]
          },
          "metadata": {
            "tags": []
          }
        },
        {
          "output_type": "display_data",
          "data": {
            "text/html": [
              "<pre>recommendations finished on 29000/39387 queries. users per second: 8.43337</pre>"
            ],
            "text/plain": [
              "recommendations finished on 29000/39387 queries. users per second: 8.43337"
            ]
          },
          "metadata": {
            "tags": []
          }
        },
        {
          "output_type": "display_data",
          "data": {
            "text/html": [
              "<pre>recommendations finished on 30000/39387 queries. users per second: 8.43105</pre>"
            ],
            "text/plain": [
              "recommendations finished on 30000/39387 queries. users per second: 8.43105"
            ]
          },
          "metadata": {
            "tags": []
          }
        },
        {
          "output_type": "display_data",
          "data": {
            "text/html": [
              "<pre>recommendations finished on 31000/39387 queries. users per second: 8.42967</pre>"
            ],
            "text/plain": [
              "recommendations finished on 31000/39387 queries. users per second: 8.42967"
            ]
          },
          "metadata": {
            "tags": []
          }
        },
        {
          "output_type": "display_data",
          "data": {
            "text/html": [
              "<pre>recommendations finished on 32000/39387 queries. users per second: 8.42758</pre>"
            ],
            "text/plain": [
              "recommendations finished on 32000/39387 queries. users per second: 8.42758"
            ]
          },
          "metadata": {
            "tags": []
          }
        },
        {
          "output_type": "display_data",
          "data": {
            "text/html": [
              "<pre>recommendations finished on 33000/39387 queries. users per second: 8.42575</pre>"
            ],
            "text/plain": [
              "recommendations finished on 33000/39387 queries. users per second: 8.42575"
            ]
          },
          "metadata": {
            "tags": []
          }
        },
        {
          "output_type": "display_data",
          "data": {
            "text/html": [
              "<pre>recommendations finished on 34000/39387 queries. users per second: 8.42439</pre>"
            ],
            "text/plain": [
              "recommendations finished on 34000/39387 queries. users per second: 8.42439"
            ]
          },
          "metadata": {
            "tags": []
          }
        },
        {
          "output_type": "display_data",
          "data": {
            "text/html": [
              "<pre>recommendations finished on 35000/39387 queries. users per second: 8.4234</pre>"
            ],
            "text/plain": [
              "recommendations finished on 35000/39387 queries. users per second: 8.4234"
            ]
          },
          "metadata": {
            "tags": []
          }
        },
        {
          "output_type": "display_data",
          "data": {
            "text/html": [
              "<pre>recommendations finished on 36000/39387 queries. users per second: 8.42178</pre>"
            ],
            "text/plain": [
              "recommendations finished on 36000/39387 queries. users per second: 8.42178"
            ]
          },
          "metadata": {
            "tags": []
          }
        },
        {
          "output_type": "display_data",
          "data": {
            "text/html": [
              "<pre>recommendations finished on 37000/39387 queries. users per second: 8.42025</pre>"
            ],
            "text/plain": [
              "recommendations finished on 37000/39387 queries. users per second: 8.42025"
            ]
          },
          "metadata": {
            "tags": []
          }
        },
        {
          "output_type": "display_data",
          "data": {
            "text/html": [
              "<pre>recommendations finished on 38000/39387 queries. users per second: 8.41939</pre>"
            ],
            "text/plain": [
              "recommendations finished on 38000/39387 queries. users per second: 8.41939"
            ]
          },
          "metadata": {
            "tags": []
          }
        },
        {
          "output_type": "display_data",
          "data": {
            "text/html": [
              "<pre>recommendations finished on 39000/39387 queries. users per second: 8.41953</pre>"
            ],
            "text/plain": [
              "recommendations finished on 39000/39387 queries. users per second: 8.41953"
            ]
          },
          "metadata": {
            "tags": []
          }
        },
        {
          "output_type": "execute_result",
          "data": {
            "text/plain": [
              "{'precision_recall_by_user': Columns:\n",
              " \tuser_id\tstr\n",
              " \tcutoff\tint\n",
              " \tprecision\tfloat\n",
              " \trecall\tfloat\n",
              " \tcount\tint\n",
              " \n",
              " Rows: 196935\n",
              " \n",
              " Data:\n",
              " +----------------+--------+---------------------+---------------------+-------+\n",
              " |    user_id     | cutoff |      precision      |        recall       | count |\n",
              " +----------------+--------+---------------------+---------------------+-------+\n",
              " | A1KLRMWW2FWPL4 |   10   |         0.0         |         0.0         |   7   |\n",
              " | A1KLRMWW2FWPL4 |   20   |         0.05        | 0.14285714285714285 |   7   |\n",
              " | A1KLRMWW2FWPL4 |   30   | 0.03333333333333333 | 0.14285714285714285 |   7   |\n",
              " | A1KLRMWW2FWPL4 |   40   |        0.025        | 0.14285714285714285 |   7   |\n",
              " | A1KLRMWW2FWPL4 |   50   |         0.02        | 0.14285714285714285 |   7   |\n",
              " | A2G5TCU2WDFZ65 |   10   |         0.0         |         0.0         |   10  |\n",
              " | A2G5TCU2WDFZ65 |   20   |         0.0         |         0.0         |   10  |\n",
              " | A2G5TCU2WDFZ65 |   30   |         0.0         |         0.0         |   10  |\n",
              " | A2G5TCU2WDFZ65 |   40   |         0.0         |         0.0         |   10  |\n",
              " | A2G5TCU2WDFZ65 |   50   |         0.0         |         0.0         |   10  |\n",
              " +----------------+--------+---------------------+---------------------+-------+\n",
              " [196935 rows x 5 columns]\n",
              " Note: Only the head of the SFrame is printed.\n",
              " You can use print_rows(num_rows=m, num_columns=n) to print more rows and columns.,\n",
              " 'precision_recall_overall': Columns:\n",
              " \tcutoff\tint\n",
              " \tprecision\tfloat\n",
              " \trecall\tfloat\n",
              " \n",
              " Rows: 5\n",
              " \n",
              " Data:\n",
              " +--------+-----------------------+----------------------+\n",
              " | cutoff |       precision       |        recall        |\n",
              " +--------+-----------------------+----------------------+\n",
              " |   10   | 0.0027572549318302803 | 0.004060930413133575 |\n",
              " |   20   |  0.002192347728946075 | 0.006413397896627703 |\n",
              " |   30   | 0.0018872555242423399 | 0.008288238725748244 |\n",
              " |   40   | 0.0016959910630410838 | 0.009965147878874564 |\n",
              " |   50   |  0.001645212887500973 | 0.012068704264393599 |\n",
              " +--------+-----------------------+----------------------+\n",
              " [5 rows x 3 columns]}"
            ]
          },
          "metadata": {
            "tags": []
          },
          "execution_count": 82
        }
      ]
    },
    {
      "cell_type": "code",
      "metadata": {
        "id": "1wHwVO1s_55p",
        "colab_type": "code",
        "colab": {
          "base_uri": "https://localhost:8080/",
          "height": 936
        },
        "outputId": "7f27cf92-6ad5-4c48-9905-d1f5b1fc9df4"
      },
      "source": [
        "# with brand only\n",
        "m1 = ranking_factorization_recommender.create(sf_train, user_id=\"user_id\", item_id=\"item_id\", \n",
        "                                              target=\"rating\", item_data = item_sf,\n",
        "                                             max_iterations=40, num_factors=64)\n",
        "\n",
        "#ranking_regularization = 0.1, unobserved_rating_value = 1"
      ],
      "execution_count": null,
      "outputs": [
        {
          "output_type": "display_data",
          "data": {
            "text/html": [
              "<pre>Preparing data set.</pre>"
            ],
            "text/plain": [
              "Preparing data set."
            ]
          },
          "metadata": {
            "tags": []
          }
        },
        {
          "output_type": "display_data",
          "data": {
            "text/html": [
              "<pre>    Data has 277950 observations with 39387 users and 23033 items.</pre>"
            ],
            "text/plain": [
              "    Data has 277950 observations with 39387 users and 23033 items."
            ]
          },
          "metadata": {
            "tags": []
          }
        },
        {
          "output_type": "display_data",
          "data": {
            "text/html": [
              "<pre>    Data prepared in: 0.465683s</pre>"
            ],
            "text/plain": [
              "    Data prepared in: 0.465683s"
            ]
          },
          "metadata": {
            "tags": []
          }
        },
        {
          "output_type": "display_data",
          "data": {
            "text/html": [
              "<pre>Training ranking_factorization_recommender for recommendations.</pre>"
            ],
            "text/plain": [
              "Training ranking_factorization_recommender for recommendations."
            ]
          },
          "metadata": {
            "tags": []
          }
        },
        {
          "output_type": "display_data",
          "data": {
            "text/html": [
              "<pre>+--------------------------------+--------------------------------------------------+----------+</pre>"
            ],
            "text/plain": [
              "+--------------------------------+--------------------------------------------------+----------+"
            ]
          },
          "metadata": {
            "tags": []
          }
        },
        {
          "output_type": "display_data",
          "data": {
            "text/html": [
              "<pre>| Parameter                      | Description                                      | Value    |</pre>"
            ],
            "text/plain": [
              "| Parameter                      | Description                                      | Value    |"
            ]
          },
          "metadata": {
            "tags": []
          }
        },
        {
          "output_type": "display_data",
          "data": {
            "text/html": [
              "<pre>+--------------------------------+--------------------------------------------------+----------+</pre>"
            ],
            "text/plain": [
              "+--------------------------------+--------------------------------------------------+----------+"
            ]
          },
          "metadata": {
            "tags": []
          }
        },
        {
          "output_type": "display_data",
          "data": {
            "text/html": [
              "<pre>| num_factors                    | Factor Dimension                                 | 64       |</pre>"
            ],
            "text/plain": [
              "| num_factors                    | Factor Dimension                                 | 64       |"
            ]
          },
          "metadata": {
            "tags": []
          }
        },
        {
          "output_type": "display_data",
          "data": {
            "text/html": [
              "<pre>| regularization                 | L2 Regularization on Factors                     | 1e-09    |</pre>"
            ],
            "text/plain": [
              "| regularization                 | L2 Regularization on Factors                     | 1e-09    |"
            ]
          },
          "metadata": {
            "tags": []
          }
        },
        {
          "output_type": "display_data",
          "data": {
            "text/html": [
              "<pre>| solver                         | Solver used for training                         | adagrad  |</pre>"
            ],
            "text/plain": [
              "| solver                         | Solver used for training                         | adagrad  |"
            ]
          },
          "metadata": {
            "tags": []
          }
        },
        {
          "output_type": "display_data",
          "data": {
            "text/html": [
              "<pre>| linear_regularization          | L2 Regularization on Linear Coefficients         | 1e-09    |</pre>"
            ],
            "text/plain": [
              "| linear_regularization          | L2 Regularization on Linear Coefficients         | 1e-09    |"
            ]
          },
          "metadata": {
            "tags": []
          }
        },
        {
          "output_type": "display_data",
          "data": {
            "text/html": [
              "<pre>| ranking_regularization         | Rank-based Regularization Weight                 | 0.25     |</pre>"
            ],
            "text/plain": [
              "| ranking_regularization         | Rank-based Regularization Weight                 | 0.25     |"
            ]
          },
          "metadata": {
            "tags": []
          }
        },
        {
          "output_type": "display_data",
          "data": {
            "text/html": [
              "<pre>| side_data_factorization        | Assign Factors for Side Data                     | True     |</pre>"
            ],
            "text/plain": [
              "| side_data_factorization        | Assign Factors for Side Data                     | True     |"
            ]
          },
          "metadata": {
            "tags": []
          }
        },
        {
          "output_type": "display_data",
          "data": {
            "text/html": [
              "<pre>| max_iterations                 | Maximum Number of Iterations                     | 40       |</pre>"
            ],
            "text/plain": [
              "| max_iterations                 | Maximum Number of Iterations                     | 40       |"
            ]
          },
          "metadata": {
            "tags": []
          }
        },
        {
          "output_type": "display_data",
          "data": {
            "text/html": [
              "<pre>+--------------------------------+--------------------------------------------------+----------+</pre>"
            ],
            "text/plain": [
              "+--------------------------------+--------------------------------------------------+----------+"
            ]
          },
          "metadata": {
            "tags": []
          }
        },
        {
          "output_type": "display_data",
          "data": {
            "text/html": [
              "<pre>  Optimizing model using SGD; tuning step size.</pre>"
            ],
            "text/plain": [
              "  Optimizing model using SGD; tuning step size."
            ]
          },
          "metadata": {
            "tags": []
          }
        },
        {
          "output_type": "display_data",
          "data": {
            "text/html": [
              "<pre>  Using 34743 / 277950 points for tuning the step size.</pre>"
            ],
            "text/plain": [
              "  Using 34743 / 277950 points for tuning the step size."
            ]
          },
          "metadata": {
            "tags": []
          }
        },
        {
          "output_type": "display_data",
          "data": {
            "text/html": [
              "<pre>+---------+-------------------+------------------------------------------+</pre>"
            ],
            "text/plain": [
              "+---------+-------------------+------------------------------------------+"
            ]
          },
          "metadata": {
            "tags": []
          }
        },
        {
          "output_type": "display_data",
          "data": {
            "text/html": [
              "<pre>| Attempt | Initial Step Size | Estimated Objective Value                |</pre>"
            ],
            "text/plain": [
              "| Attempt | Initial Step Size | Estimated Objective Value                |"
            ]
          },
          "metadata": {
            "tags": []
          }
        },
        {
          "output_type": "display_data",
          "data": {
            "text/html": [
              "<pre>+---------+-------------------+------------------------------------------+</pre>"
            ],
            "text/plain": [
              "+---------+-------------------+------------------------------------------+"
            ]
          },
          "metadata": {
            "tags": []
          }
        },
        {
          "output_type": "display_data",
          "data": {
            "text/html": [
              "<pre>| 0       | 16.6667           | Not Viable                               |</pre>"
            ],
            "text/plain": [
              "| 0       | 16.6667           | Not Viable                               |"
            ]
          },
          "metadata": {
            "tags": []
          }
        },
        {
          "output_type": "display_data",
          "data": {
            "text/html": [
              "<pre>| 1       | 4.16667           | Not Viable                               |</pre>"
            ],
            "text/plain": [
              "| 1       | 4.16667           | Not Viable                               |"
            ]
          },
          "metadata": {
            "tags": []
          }
        },
        {
          "output_type": "display_data",
          "data": {
            "text/html": [
              "<pre>| 2       | 1.04167           | Not Viable                               |</pre>"
            ],
            "text/plain": [
              "| 2       | 1.04167           | Not Viable                               |"
            ]
          },
          "metadata": {
            "tags": []
          }
        },
        {
          "output_type": "display_data",
          "data": {
            "text/html": [
              "<pre>| 3       | 0.260417          | 0.530842                                 |</pre>"
            ],
            "text/plain": [
              "| 3       | 0.260417          | 0.530842                                 |"
            ]
          },
          "metadata": {
            "tags": []
          }
        },
        {
          "output_type": "display_data",
          "data": {
            "text/html": [
              "<pre>| 4       | 0.130208          | 0.447091                                 |</pre>"
            ],
            "text/plain": [
              "| 4       | 0.130208          | 0.447091                                 |"
            ]
          },
          "metadata": {
            "tags": []
          }
        },
        {
          "output_type": "display_data",
          "data": {
            "text/html": [
              "<pre>| 5       | 0.0651042         | 0.572607                                 |</pre>"
            ],
            "text/plain": [
              "| 5       | 0.0651042         | 0.572607                                 |"
            ]
          },
          "metadata": {
            "tags": []
          }
        },
        {
          "output_type": "display_data",
          "data": {
            "text/html": [
              "<pre>| 6       | 0.0325521         | 1.00616                                  |</pre>"
            ],
            "text/plain": [
              "| 6       | 0.0325521         | 1.00616                                  |"
            ]
          },
          "metadata": {
            "tags": []
          }
        },
        {
          "output_type": "display_data",
          "data": {
            "text/html": [
              "<pre>+---------+-------------------+------------------------------------------+</pre>"
            ],
            "text/plain": [
              "+---------+-------------------+------------------------------------------+"
            ]
          },
          "metadata": {
            "tags": []
          }
        },
        {
          "output_type": "display_data",
          "data": {
            "text/html": [
              "<pre>| Final   | 0.130208          | 0.447091                                 |</pre>"
            ],
            "text/plain": [
              "| Final   | 0.130208          | 0.447091                                 |"
            ]
          },
          "metadata": {
            "tags": []
          }
        },
        {
          "output_type": "display_data",
          "data": {
            "text/html": [
              "<pre>+---------+-------------------+------------------------------------------+</pre>"
            ],
            "text/plain": [
              "+---------+-------------------+------------------------------------------+"
            ]
          },
          "metadata": {
            "tags": []
          }
        },
        {
          "output_type": "display_data",
          "data": {
            "text/html": [
              "<pre>Starting Optimization.</pre>"
            ],
            "text/plain": [
              "Starting Optimization."
            ]
          },
          "metadata": {
            "tags": []
          }
        },
        {
          "output_type": "display_data",
          "data": {
            "text/html": [
              "<pre>+---------+--------------+-------------------+-----------------------+-------------+</pre>"
            ],
            "text/plain": [
              "+---------+--------------+-------------------+-----------------------+-------------+"
            ]
          },
          "metadata": {
            "tags": []
          }
        },
        {
          "output_type": "display_data",
          "data": {
            "text/html": [
              "<pre>| Iter.   | Elapsed Time | Approx. Objective | Approx. Training RMSE | Step Size   |</pre>"
            ],
            "text/plain": [
              "| Iter.   | Elapsed Time | Approx. Objective | Approx. Training RMSE | Step Size   |"
            ]
          },
          "metadata": {
            "tags": []
          }
        },
        {
          "output_type": "display_data",
          "data": {
            "text/html": [
              "<pre>+---------+--------------+-------------------+-----------------------+-------------+</pre>"
            ],
            "text/plain": [
              "+---------+--------------+-------------------+-----------------------+-------------+"
            ]
          },
          "metadata": {
            "tags": []
          }
        },
        {
          "output_type": "display_data",
          "data": {
            "text/html": [
              "<pre>| Initial | 141us        | 2.3887            | 1.10375               |             |</pre>"
            ],
            "text/plain": [
              "| Initial | 141us        | 2.3887            | 1.10375               |             |"
            ]
          },
          "metadata": {
            "tags": []
          }
        },
        {
          "output_type": "display_data",
          "data": {
            "text/html": [
              "<pre>+---------+--------------+-------------------+-----------------------+-------------+</pre>"
            ],
            "text/plain": [
              "+---------+--------------+-------------------+-----------------------+-------------+"
            ]
          },
          "metadata": {
            "tags": []
          }
        },
        {
          "output_type": "display_data",
          "data": {
            "text/html": [
              "<pre>| 1       | 1.18s        | 2.48361           | 1.23876               | 0.130208    |</pre>"
            ],
            "text/plain": [
              "| 1       | 1.18s        | 2.48361           | 1.23876               | 0.130208    |"
            ]
          },
          "metadata": {
            "tags": []
          }
        },
        {
          "output_type": "display_data",
          "data": {
            "text/html": [
              "<pre>| 2       | 2.40s        | 1.23526           | 0.674827              | 0.130208    |</pre>"
            ],
            "text/plain": [
              "| 2       | 2.40s        | 1.23526           | 0.674827              | 0.130208    |"
            ]
          },
          "metadata": {
            "tags": []
          }
        },
        {
          "output_type": "display_data",
          "data": {
            "text/html": [
              "<pre>| 3       | 3.54s        | 0.830273          | 0.461702              | 0.130208    |</pre>"
            ],
            "text/plain": [
              "| 3       | 3.54s        | 0.830273          | 0.461702              | 0.130208    |"
            ]
          },
          "metadata": {
            "tags": []
          }
        },
        {
          "output_type": "display_data",
          "data": {
            "text/html": [
              "<pre>| 4       | 4.68s        | 0.649328          | 0.385608              | 0.130208    |</pre>"
            ],
            "text/plain": [
              "| 4       | 4.68s        | 0.649328          | 0.385608              | 0.130208    |"
            ]
          },
          "metadata": {
            "tags": []
          }
        },
        {
          "output_type": "display_data",
          "data": {
            "text/html": [
              "<pre>| 5       | 5.88s        | 0.526534          | 0.337762              | 0.130208    |</pre>"
            ],
            "text/plain": [
              "| 5       | 5.88s        | 0.526534          | 0.337762              | 0.130208    |"
            ]
          },
          "metadata": {
            "tags": []
          }
        },
        {
          "output_type": "display_data",
          "data": {
            "text/html": [
              "<pre>| 10      | 11.49s       | 0.231599          | 0.222553              | 0.130208    |</pre>"
            ],
            "text/plain": [
              "| 10      | 11.49s       | 0.231599          | 0.222553              | 0.130208    |"
            ]
          },
          "metadata": {
            "tags": []
          }
        },
        {
          "output_type": "display_data",
          "data": {
            "text/html": [
              "<pre>| 15      | 16.79s       | 0.133709          | 0.17066               | 0.130208    |</pre>"
            ],
            "text/plain": [
              "| 15      | 16.79s       | 0.133709          | 0.17066               | 0.130208    |"
            ]
          },
          "metadata": {
            "tags": []
          }
        },
        {
          "output_type": "display_data",
          "data": {
            "text/html": [
              "<pre>| 20      | 21.76s       | 0.0925223         | 0.146198              | 0.130208    |</pre>"
            ],
            "text/plain": [
              "| 20      | 21.76s       | 0.0925223         | 0.146198              | 0.130208    |"
            ]
          },
          "metadata": {
            "tags": []
          }
        },
        {
          "output_type": "display_data",
          "data": {
            "text/html": [
              "<pre>| 25      | 26.54s       | 0.0710769         | 0.132878              | 0.130208    |</pre>"
            ],
            "text/plain": [
              "| 25      | 26.54s       | 0.0710769         | 0.132878              | 0.130208    |"
            ]
          },
          "metadata": {
            "tags": []
          }
        },
        {
          "output_type": "display_data",
          "data": {
            "text/html": [
              "<pre>| 30      | 31.12s       | 0.0588359         | 0.126019              | 0.130208    |</pre>"
            ],
            "text/plain": [
              "| 30      | 31.12s       | 0.0588359         | 0.126019              | 0.130208    |"
            ]
          },
          "metadata": {
            "tags": []
          }
        },
        {
          "output_type": "display_data",
          "data": {
            "text/html": [
              "<pre>| 35      | 35.60s       | 0.0509792         | 0.12165               | 0.130208    |</pre>"
            ],
            "text/plain": [
              "| 35      | 35.60s       | 0.0509792         | 0.12165               | 0.130208    |"
            ]
          },
          "metadata": {
            "tags": []
          }
        },
        {
          "output_type": "display_data",
          "data": {
            "text/html": [
              "<pre>| 40      | 40.01s       | 0.0448547         | 0.117592              | 0.130208    |</pre>"
            ],
            "text/plain": [
              "| 40      | 40.01s       | 0.0448547         | 0.117592              | 0.130208    |"
            ]
          },
          "metadata": {
            "tags": []
          }
        },
        {
          "output_type": "display_data",
          "data": {
            "text/html": [
              "<pre>+---------+--------------+-------------------+-----------------------+-------------+</pre>"
            ],
            "text/plain": [
              "+---------+--------------+-------------------+-----------------------+-------------+"
            ]
          },
          "metadata": {
            "tags": []
          }
        },
        {
          "output_type": "display_data",
          "data": {
            "text/html": [
              "<pre>Optimization Complete: Maximum number of passes through the data reached.</pre>"
            ],
            "text/plain": [
              "Optimization Complete: Maximum number of passes through the data reached."
            ]
          },
          "metadata": {
            "tags": []
          }
        },
        {
          "output_type": "display_data",
          "data": {
            "text/html": [
              "<pre>Computing final objective value and training RMSE.</pre>"
            ],
            "text/plain": [
              "Computing final objective value and training RMSE."
            ]
          },
          "metadata": {
            "tags": []
          }
        },
        {
          "output_type": "display_data",
          "data": {
            "text/html": [
              "<pre>       Final objective value: 0.0504658</pre>"
            ],
            "text/plain": [
              "       Final objective value: 0.0504658"
            ]
          },
          "metadata": {
            "tags": []
          }
        },
        {
          "output_type": "display_data",
          "data": {
            "text/html": [
              "<pre>       Final training RMSE: 0.137656</pre>"
            ],
            "text/plain": [
              "       Final training RMSE: 0.137656"
            ]
          },
          "metadata": {
            "tags": []
          }
        }
      ]
    },
    {
      "cell_type": "code",
      "metadata": {
        "id": "wcAXpbokALrw",
        "colab_type": "code",
        "colab": {
          "base_uri": "https://localhost:8080/",
          "height": 797
        },
        "outputId": "5fd9a6a2-6de9-4163-a769-fc419c8ba8e8"
      },
      "source": [
        "# with brand only\n",
        "m1.evaluate_precision_recall(sf_test, cutoffs=[10, 20, 30, 40, 50], exclude_known=False)"
      ],
      "execution_count": null,
      "outputs": [
        {
          "output_type": "execute_result",
          "data": {
            "text/plain": [
              "{'precision_recall_by_user': Columns:\n",
              " \tuser_id\tstr\n",
              " \tcutoff\tint\n",
              " \tprecision\tfloat\n",
              " \trecall\tfloat\n",
              " \tcount\tint\n",
              " \n",
              " Rows: 2640\n",
              " \n",
              " Data:\n",
              " +----------------+--------+-----------+--------+-------+\n",
              " |    user_id     | cutoff | precision | recall | count |\n",
              " +----------------+--------+-----------+--------+-------+\n",
              " | A1JC50F14SLAEV |   10   |    0.0    |  0.0   |   2   |\n",
              " | A1JC50F14SLAEV |   20   |    0.0    |  0.0   |   2   |\n",
              " | A1JC50F14SLAEV |   30   |    0.0    |  0.0   |   2   |\n",
              " | A1JC50F14SLAEV |   40   |    0.0    |  0.0   |   2   |\n",
              " | A1JC50F14SLAEV |   50   |    0.0    |  0.0   |   2   |\n",
              " | A2TF7DBCIBQQ7D |   10   |    0.0    |  0.0   |   1   |\n",
              " | A2TF7DBCIBQQ7D |   20   |    0.0    |  0.0   |   1   |\n",
              " | A2TF7DBCIBQQ7D |   30   |    0.0    |  0.0   |   1   |\n",
              " | A2TF7DBCIBQQ7D |   40   |    0.0    |  0.0   |   1   |\n",
              " | A2TF7DBCIBQQ7D |   50   |    0.0    |  0.0   |   1   |\n",
              " +----------------+--------+-----------+--------+-------+\n",
              " [2640 rows x 5 columns]\n",
              " Note: Only the head of the SFrame is printed.\n",
              " You can use print_rows(num_rows=m, num_columns=n) to print more rows and columns.,\n",
              " 'precision_recall_overall': Columns:\n",
              " \tcutoff\tint\n",
              " \tprecision\tfloat\n",
              " \trecall\tfloat\n",
              " \n",
              " Rows: 5\n",
              " \n",
              " Data:\n",
              " +--------+-----------------------+----------------------+\n",
              " | cutoff |       precision       |        recall        |\n",
              " +--------+-----------------------+----------------------+\n",
              " |   10   | 0.0018939393939393944 | 0.01388888888888889  |\n",
              " |   20   | 0.0012310606060606068 | 0.017676767676767676 |\n",
              " |   30   | 0.0011363636363636363 | 0.022001262626262622 |\n",
              " |   40   | 0.0008996212121212122 | 0.022948232323232322 |\n",
              " |   50   | 0.0007196969696969696 | 0.022948232323232322 |\n",
              " +--------+-----------------------+----------------------+\n",
              " [5 rows x 3 columns]}"
            ]
          },
          "metadata": {
            "tags": []
          },
          "execution_count": 88
        }
      ]
    },
    {
      "cell_type": "code",
      "metadata": {
        "id": "JtY77qVCRrrX",
        "colab_type": "code",
        "colab": {
          "base_uri": "https://localhost:8080/",
          "height": 988
        },
        "outputId": "c2d6c353-301e-4556-974d-f5cc6b69619c"
      },
      "source": [
        "# with price only\n",
        "m1 = ranking_factorization_recommender.create(sf_train, user_id=\"user_id\", item_id=\"item_id\", \n",
        "                                              target=\"rating\", item_data = item_sf,\n",
        "                                             max_iterations=40, num_factors=64)"
      ],
      "execution_count": null,
      "outputs": [
        {
          "output_type": "display_data",
          "data": {
            "text/html": [
              "<pre>Preparing data set.</pre>"
            ],
            "text/plain": [
              "Preparing data set."
            ]
          },
          "metadata": {
            "tags": []
          }
        },
        {
          "output_type": "display_data",
          "data": {
            "text/html": [
              "<pre>    Data has 277950 observations with 39387 users and 23033 items.</pre>"
            ],
            "text/plain": [
              "    Data has 277950 observations with 39387 users and 23033 items."
            ]
          },
          "metadata": {
            "tags": []
          }
        },
        {
          "output_type": "display_data",
          "data": {
            "text/html": [
              "<pre>    Data prepared in: 0.423416s</pre>"
            ],
            "text/plain": [
              "    Data prepared in: 0.423416s"
            ]
          },
          "metadata": {
            "tags": []
          }
        },
        {
          "output_type": "display_data",
          "data": {
            "text/html": [
              "<pre>Training ranking_factorization_recommender for recommendations.</pre>"
            ],
            "text/plain": [
              "Training ranking_factorization_recommender for recommendations."
            ]
          },
          "metadata": {
            "tags": []
          }
        },
        {
          "output_type": "display_data",
          "data": {
            "text/html": [
              "<pre>+--------------------------------+--------------------------------------------------+----------+</pre>"
            ],
            "text/plain": [
              "+--------------------------------+--------------------------------------------------+----------+"
            ]
          },
          "metadata": {
            "tags": []
          }
        },
        {
          "output_type": "display_data",
          "data": {
            "text/html": [
              "<pre>| Parameter                      | Description                                      | Value    |</pre>"
            ],
            "text/plain": [
              "| Parameter                      | Description                                      | Value    |"
            ]
          },
          "metadata": {
            "tags": []
          }
        },
        {
          "output_type": "display_data",
          "data": {
            "text/html": [
              "<pre>+--------------------------------+--------------------------------------------------+----------+</pre>"
            ],
            "text/plain": [
              "+--------------------------------+--------------------------------------------------+----------+"
            ]
          },
          "metadata": {
            "tags": []
          }
        },
        {
          "output_type": "display_data",
          "data": {
            "text/html": [
              "<pre>| num_factors                    | Factor Dimension                                 | 64       |</pre>"
            ],
            "text/plain": [
              "| num_factors                    | Factor Dimension                                 | 64       |"
            ]
          },
          "metadata": {
            "tags": []
          }
        },
        {
          "output_type": "display_data",
          "data": {
            "text/html": [
              "<pre>| regularization                 | L2 Regularization on Factors                     | 1e-09    |</pre>"
            ],
            "text/plain": [
              "| regularization                 | L2 Regularization on Factors                     | 1e-09    |"
            ]
          },
          "metadata": {
            "tags": []
          }
        },
        {
          "output_type": "display_data",
          "data": {
            "text/html": [
              "<pre>| solver                         | Solver used for training                         | adagrad  |</pre>"
            ],
            "text/plain": [
              "| solver                         | Solver used for training                         | adagrad  |"
            ]
          },
          "metadata": {
            "tags": []
          }
        },
        {
          "output_type": "display_data",
          "data": {
            "text/html": [
              "<pre>| linear_regularization          | L2 Regularization on Linear Coefficients         | 1e-09    |</pre>"
            ],
            "text/plain": [
              "| linear_regularization          | L2 Regularization on Linear Coefficients         | 1e-09    |"
            ]
          },
          "metadata": {
            "tags": []
          }
        },
        {
          "output_type": "display_data",
          "data": {
            "text/html": [
              "<pre>| ranking_regularization         | Rank-based Regularization Weight                 | 0.25     |</pre>"
            ],
            "text/plain": [
              "| ranking_regularization         | Rank-based Regularization Weight                 | 0.25     |"
            ]
          },
          "metadata": {
            "tags": []
          }
        },
        {
          "output_type": "display_data",
          "data": {
            "text/html": [
              "<pre>| side_data_factorization        | Assign Factors for Side Data                     | True     |</pre>"
            ],
            "text/plain": [
              "| side_data_factorization        | Assign Factors for Side Data                     | True     |"
            ]
          },
          "metadata": {
            "tags": []
          }
        },
        {
          "output_type": "display_data",
          "data": {
            "text/html": [
              "<pre>| max_iterations                 | Maximum Number of Iterations                     | 40       |</pre>"
            ],
            "text/plain": [
              "| max_iterations                 | Maximum Number of Iterations                     | 40       |"
            ]
          },
          "metadata": {
            "tags": []
          }
        },
        {
          "output_type": "display_data",
          "data": {
            "text/html": [
              "<pre>+--------------------------------+--------------------------------------------------+----------+</pre>"
            ],
            "text/plain": [
              "+--------------------------------+--------------------------------------------------+----------+"
            ]
          },
          "metadata": {
            "tags": []
          }
        },
        {
          "output_type": "display_data",
          "data": {
            "text/html": [
              "<pre>  Optimizing model using SGD; tuning step size.</pre>"
            ],
            "text/plain": [
              "  Optimizing model using SGD; tuning step size."
            ]
          },
          "metadata": {
            "tags": []
          }
        },
        {
          "output_type": "display_data",
          "data": {
            "text/html": [
              "<pre>  Using 34743 / 277950 points for tuning the step size.</pre>"
            ],
            "text/plain": [
              "  Using 34743 / 277950 points for tuning the step size."
            ]
          },
          "metadata": {
            "tags": []
          }
        },
        {
          "output_type": "display_data",
          "data": {
            "text/html": [
              "<pre>+---------+-------------------+------------------------------------------+</pre>"
            ],
            "text/plain": [
              "+---------+-------------------+------------------------------------------+"
            ]
          },
          "metadata": {
            "tags": []
          }
        },
        {
          "output_type": "display_data",
          "data": {
            "text/html": [
              "<pre>| Attempt | Initial Step Size | Estimated Objective Value                |</pre>"
            ],
            "text/plain": [
              "| Attempt | Initial Step Size | Estimated Objective Value                |"
            ]
          },
          "metadata": {
            "tags": []
          }
        },
        {
          "output_type": "display_data",
          "data": {
            "text/html": [
              "<pre>+---------+-------------------+------------------------------------------+</pre>"
            ],
            "text/plain": [
              "+---------+-------------------+------------------------------------------+"
            ]
          },
          "metadata": {
            "tags": []
          }
        },
        {
          "output_type": "display_data",
          "data": {
            "text/html": [
              "<pre>| 0       | 16.6667           | Not Viable                               |</pre>"
            ],
            "text/plain": [
              "| 0       | 16.6667           | Not Viable                               |"
            ]
          },
          "metadata": {
            "tags": []
          }
        },
        {
          "output_type": "display_data",
          "data": {
            "text/html": [
              "<pre>| 1       | 4.16667           | Not Viable                               |</pre>"
            ],
            "text/plain": [
              "| 1       | 4.16667           | Not Viable                               |"
            ]
          },
          "metadata": {
            "tags": []
          }
        },
        {
          "output_type": "display_data",
          "data": {
            "text/html": [
              "<pre>| 2       | 1.04167           | Not Viable                               |</pre>"
            ],
            "text/plain": [
              "| 2       | 1.04167           | Not Viable                               |"
            ]
          },
          "metadata": {
            "tags": []
          }
        },
        {
          "output_type": "display_data",
          "data": {
            "text/html": [
              "<pre>| 3       | 0.260417          | Not Viable                               |</pre>"
            ],
            "text/plain": [
              "| 3       | 0.260417          | Not Viable                               |"
            ]
          },
          "metadata": {
            "tags": []
          }
        },
        {
          "output_type": "display_data",
          "data": {
            "text/html": [
              "<pre>| 4       | 0.0651042         | No Decrease (15.614 >= 2.37079)          |</pre>"
            ],
            "text/plain": [
              "| 4       | 0.0651042         | No Decrease (15.614 >= 2.37079)          |"
            ]
          },
          "metadata": {
            "tags": []
          }
        },
        {
          "output_type": "display_data",
          "data": {
            "text/html": [
              "<pre>| 5       | 0.016276          | No Decrease (2.77361 >= 2.37079)         |</pre>"
            ],
            "text/plain": [
              "| 5       | 0.016276          | No Decrease (2.77361 >= 2.37079)         |"
            ]
          },
          "metadata": {
            "tags": []
          }
        },
        {
          "output_type": "display_data",
          "data": {
            "text/html": [
              "<pre>| 6       | 0.00406901        | 2.33444                                  |</pre>"
            ],
            "text/plain": [
              "| 6       | 0.00406901        | 2.33444                                  |"
            ]
          },
          "metadata": {
            "tags": []
          }
        },
        {
          "output_type": "display_data",
          "data": {
            "text/html": [
              "<pre>| 7       | 0.00203451        | 2.34383                                  |</pre>"
            ],
            "text/plain": [
              "| 7       | 0.00203451        | 2.34383                                  |"
            ]
          },
          "metadata": {
            "tags": []
          }
        },
        {
          "output_type": "display_data",
          "data": {
            "text/html": [
              "<pre>| 8       | 0.00101725        | 2.35989                                  |</pre>"
            ],
            "text/plain": [
              "| 8       | 0.00101725        | 2.35989                                  |"
            ]
          },
          "metadata": {
            "tags": []
          }
        },
        {
          "output_type": "display_data",
          "data": {
            "text/html": [
              "<pre>| 9       | 0.000508626       | 2.36515                                  |</pre>"
            ],
            "text/plain": [
              "| 9       | 0.000508626       | 2.36515                                  |"
            ]
          },
          "metadata": {
            "tags": []
          }
        },
        {
          "output_type": "display_data",
          "data": {
            "text/html": [
              "<pre>+---------+-------------------+------------------------------------------+</pre>"
            ],
            "text/plain": [
              "+---------+-------------------+------------------------------------------+"
            ]
          },
          "metadata": {
            "tags": []
          }
        },
        {
          "output_type": "display_data",
          "data": {
            "text/html": [
              "<pre>| Final   | 0.00406901        | 2.33444                                  |</pre>"
            ],
            "text/plain": [
              "| Final   | 0.00406901        | 2.33444                                  |"
            ]
          },
          "metadata": {
            "tags": []
          }
        },
        {
          "output_type": "display_data",
          "data": {
            "text/html": [
              "<pre>+---------+-------------------+------------------------------------------+</pre>"
            ],
            "text/plain": [
              "+---------+-------------------+------------------------------------------+"
            ]
          },
          "metadata": {
            "tags": []
          }
        },
        {
          "output_type": "display_data",
          "data": {
            "text/html": [
              "<pre>Starting Optimization.</pre>"
            ],
            "text/plain": [
              "Starting Optimization."
            ]
          },
          "metadata": {
            "tags": []
          }
        },
        {
          "output_type": "display_data",
          "data": {
            "text/html": [
              "<pre>+---------+--------------+-------------------+-----------------------+-------------+</pre>"
            ],
            "text/plain": [
              "+---------+--------------+-------------------+-----------------------+-------------+"
            ]
          },
          "metadata": {
            "tags": []
          }
        },
        {
          "output_type": "display_data",
          "data": {
            "text/html": [
              "<pre>| Iter.   | Elapsed Time | Approx. Objective | Approx. Training RMSE | Step Size   |</pre>"
            ],
            "text/plain": [
              "| Iter.   | Elapsed Time | Approx. Objective | Approx. Training RMSE | Step Size   |"
            ]
          },
          "metadata": {
            "tags": []
          }
        },
        {
          "output_type": "display_data",
          "data": {
            "text/html": [
              "<pre>+---------+--------------+-------------------+-----------------------+-------------+</pre>"
            ],
            "text/plain": [
              "+---------+--------------+-------------------+-----------------------+-------------+"
            ]
          },
          "metadata": {
            "tags": []
          }
        },
        {
          "output_type": "display_data",
          "data": {
            "text/html": [
              "<pre>| Initial | 93us         | 2.38863           | 1.10375               |             |</pre>"
            ],
            "text/plain": [
              "| Initial | 93us         | 2.38863           | 1.10375               |             |"
            ]
          },
          "metadata": {
            "tags": []
          }
        },
        {
          "output_type": "display_data",
          "data": {
            "text/html": [
              "<pre>+---------+--------------+-------------------+-----------------------+-------------+</pre>"
            ],
            "text/plain": [
              "+---------+--------------+-------------------+-----------------------+-------------+"
            ]
          },
          "metadata": {
            "tags": []
          }
        },
        {
          "output_type": "display_data",
          "data": {
            "text/html": [
              "<pre>| 1       | 1.09s        | 2.36855           | 1.1029                | 0.00406901  |</pre>"
            ],
            "text/plain": [
              "| 1       | 1.09s        | 2.36855           | 1.1029                | 0.00406901  |"
            ]
          },
          "metadata": {
            "tags": []
          }
        },
        {
          "output_type": "display_data",
          "data": {
            "text/html": [
              "<pre>| 2       | 2.16s        | 2.36303           | 1.09821               | 0.00406901  |</pre>"
            ],
            "text/plain": [
              "| 2       | 2.16s        | 2.36303           | 1.09821               | 0.00406901  |"
            ]
          },
          "metadata": {
            "tags": []
          }
        },
        {
          "output_type": "display_data",
          "data": {
            "text/html": [
              "<pre>| 3       | 3.25s        | 2.34787           | 1.09683               | 0.00406901  |</pre>"
            ],
            "text/plain": [
              "| 3       | 3.25s        | 2.34787           | 1.09683               | 0.00406901  |"
            ]
          },
          "metadata": {
            "tags": []
          }
        },
        {
          "output_type": "display_data",
          "data": {
            "text/html": [
              "<pre>| 4       | 4.34s        | 2.3259            | 1.09221               | 0.00406901  |</pre>"
            ],
            "text/plain": [
              "| 4       | 4.34s        | 2.3259            | 1.09221               | 0.00406901  |"
            ]
          },
          "metadata": {
            "tags": []
          }
        },
        {
          "output_type": "display_data",
          "data": {
            "text/html": [
              "<pre>| 5       | 5.46s        | 2.34262           | 1.09523               | 0.00406901  |</pre>"
            ],
            "text/plain": [
              "| 5       | 5.46s        | 2.34262           | 1.09523               | 0.00406901  |"
            ]
          },
          "metadata": {
            "tags": []
          }
        },
        {
          "output_type": "display_data",
          "data": {
            "text/html": [
              "<pre>| 10      | 10.84s       | 2.29861           | 1.08846               | 0.00406901  |</pre>"
            ],
            "text/plain": [
              "| 10      | 10.84s       | 2.29861           | 1.08846               | 0.00406901  |"
            ]
          },
          "metadata": {
            "tags": []
          }
        },
        {
          "output_type": "display_data",
          "data": {
            "text/html": [
              "<pre>| 15      | 16.30s       | 2.28176           | 1.08498               | 0.00406901  |</pre>"
            ],
            "text/plain": [
              "| 15      | 16.30s       | 2.28176           | 1.08498               | 0.00406901  |"
            ]
          },
          "metadata": {
            "tags": []
          }
        },
        {
          "output_type": "display_data",
          "data": {
            "text/html": [
              "<pre>| 20      | 21.71s       | 2.25674           | 1.08037               | 0.00406901  |</pre>"
            ],
            "text/plain": [
              "| 20      | 21.71s       | 2.25674           | 1.08037               | 0.00406901  |"
            ]
          },
          "metadata": {
            "tags": []
          }
        },
        {
          "output_type": "display_data",
          "data": {
            "text/html": [
              "<pre>| 25      | 27.31s       | 2.24297           | 1.07796               | 0.00406901  |</pre>"
            ],
            "text/plain": [
              "| 25      | 27.31s       | 2.24297           | 1.07796               | 0.00406901  |"
            ]
          },
          "metadata": {
            "tags": []
          }
        },
        {
          "output_type": "display_data",
          "data": {
            "text/html": [
              "<pre>| 30      | 32.70s       | 2.21246           | 1.07228               | 0.00406901  |</pre>"
            ],
            "text/plain": [
              "| 30      | 32.70s       | 2.21246           | 1.07228               | 0.00406901  |"
            ]
          },
          "metadata": {
            "tags": []
          }
        },
        {
          "output_type": "display_data",
          "data": {
            "text/html": [
              "<pre>| 35      | 38.17s       | 2.20638           | 1.07236               | 0.00406901  |</pre>"
            ],
            "text/plain": [
              "| 35      | 38.17s       | 2.20638           | 1.07236               | 0.00406901  |"
            ]
          },
          "metadata": {
            "tags": []
          }
        },
        {
          "output_type": "display_data",
          "data": {
            "text/html": [
              "<pre>| 40      | 43.61s       | 2.19675           | 1.0708                | 0.00406901  |</pre>"
            ],
            "text/plain": [
              "| 40      | 43.61s       | 2.19675           | 1.0708                | 0.00406901  |"
            ]
          },
          "metadata": {
            "tags": []
          }
        },
        {
          "output_type": "display_data",
          "data": {
            "text/html": [
              "<pre>+---------+--------------+-------------------+-----------------------+-------------+</pre>"
            ],
            "text/plain": [
              "+---------+--------------+-------------------+-----------------------+-------------+"
            ]
          },
          "metadata": {
            "tags": []
          }
        },
        {
          "output_type": "display_data",
          "data": {
            "text/html": [
              "<pre>Optimization Complete: Maximum number of passes through the data reached.</pre>"
            ],
            "text/plain": [
              "Optimization Complete: Maximum number of passes through the data reached."
            ]
          },
          "metadata": {
            "tags": []
          }
        },
        {
          "output_type": "display_data",
          "data": {
            "text/html": [
              "<pre>Computing final objective value and training RMSE.</pre>"
            ],
            "text/plain": [
              "Computing final objective value and training RMSE."
            ]
          },
          "metadata": {
            "tags": []
          }
        },
        {
          "output_type": "display_data",
          "data": {
            "text/html": [
              "<pre>       Final objective value: 2.19304</pre>"
            ],
            "text/plain": [
              "       Final objective value: 2.19304"
            ]
          },
          "metadata": {
            "tags": []
          }
        },
        {
          "output_type": "display_data",
          "data": {
            "text/html": [
              "<pre>       Final training RMSE: 1.06943</pre>"
            ],
            "text/plain": [
              "       Final training RMSE: 1.06943"
            ]
          },
          "metadata": {
            "tags": []
          }
        }
      ]
    },
    {
      "cell_type": "code",
      "metadata": {
        "id": "js3pR1akRuq7",
        "colab_type": "code",
        "colab": {
          "base_uri": "https://localhost:8080/",
          "height": 797
        },
        "outputId": "8121d1f8-748c-4235-ed23-2cca78faf903"
      },
      "source": [
        "# with price only\n",
        "m1.evaluate_precision_recall(sf_test, cutoffs=[10, 20, 30, 40, 50], exclude_known=False)"
      ],
      "execution_count": null,
      "outputs": [
        {
          "output_type": "execute_result",
          "data": {
            "text/plain": [
              "{'precision_recall_by_user': Columns:\n",
              " \tuser_id\tstr\n",
              " \tcutoff\tint\n",
              " \tprecision\tfloat\n",
              " \trecall\tfloat\n",
              " \tcount\tint\n",
              " \n",
              " Rows: 2640\n",
              " \n",
              " Data:\n",
              " +----------------+--------+-----------+--------+-------+\n",
              " |    user_id     | cutoff | precision | recall | count |\n",
              " +----------------+--------+-----------+--------+-------+\n",
              " | A1JC50F14SLAEV |   10   |    0.0    |  0.0   |   2   |\n",
              " | A1JC50F14SLAEV |   20   |    0.0    |  0.0   |   2   |\n",
              " | A1JC50F14SLAEV |   30   |    0.0    |  0.0   |   2   |\n",
              " | A1JC50F14SLAEV |   40   |    0.0    |  0.0   |   2   |\n",
              " | A1JC50F14SLAEV |   50   |    0.0    |  0.0   |   2   |\n",
              " | A2TF7DBCIBQQ7D |   10   |    0.0    |  0.0   |   1   |\n",
              " | A2TF7DBCIBQQ7D |   20   |    0.0    |  0.0   |   1   |\n",
              " | A2TF7DBCIBQQ7D |   30   |    0.0    |  0.0   |   1   |\n",
              " | A2TF7DBCIBQQ7D |   40   |    0.0    |  0.0   |   1   |\n",
              " | A2TF7DBCIBQQ7D |   50   |    0.0    |  0.0   |   1   |\n",
              " +----------------+--------+-----------+--------+-------+\n",
              " [2640 rows x 5 columns]\n",
              " Note: Only the head of the SFrame is printed.\n",
              " You can use print_rows(num_rows=m, num_columns=n) to print more rows and columns.,\n",
              " 'precision_recall_overall': Columns:\n",
              " \tcutoff\tint\n",
              " \tprecision\tfloat\n",
              " \trecall\tfloat\n",
              " \n",
              " Rows: 5\n",
              " \n",
              " Data:\n",
              " +--------+------------------------+-----------------------+\n",
              " | cutoff |       precision        |         recall        |\n",
              " +--------+------------------------+-----------------------+\n",
              " |   10   | 0.00037878787878787884 | 0.0028409090909090914 |\n",
              " |   20   | 0.00028409090909090913 |  0.004734848484848485 |\n",
              " |   30   | 0.0004419191919191919  |  0.010416666666666663 |\n",
              " |   40   | 0.0004734848484848485  |  0.016098484848484848 |\n",
              " |   50   | 0.00041666666666666675 |  0.017045454545454548 |\n",
              " +--------+------------------------+-----------------------+\n",
              " [5 rows x 3 columns]}"
            ]
          },
          "metadata": {
            "tags": []
          },
          "execution_count": 95
        }
      ]
    },
    {
      "cell_type": "code",
      "metadata": {
        "id": "x_q8hDCRSLcI",
        "colab_type": "code",
        "colab": {
          "base_uri": "https://localhost:8080/",
          "height": 1000
        },
        "outputId": "87d4a568-ec22-4724-be16-7b56c4d6394e"
      },
      "source": [
        "# with embedding only\n",
        "m1 = ranking_factorization_recommender.create(sf_train, user_id=\"user_id\", item_id=\"item_id\", \n",
        "                                              target=\"rating\", item_data = item_sf,\n",
        "                                             max_iterations=150, num_factors=128)"
      ],
      "execution_count": null,
      "outputs": [
        {
          "output_type": "display_data",
          "data": {
            "text/html": [
              "<pre>Preparing data set.</pre>"
            ],
            "text/plain": [
              "Preparing data set."
            ]
          },
          "metadata": {
            "tags": []
          }
        },
        {
          "output_type": "display_data",
          "data": {
            "text/html": [
              "<pre>    Data has 277950 observations with 39387 users and 23033 items.</pre>"
            ],
            "text/plain": [
              "    Data has 277950 observations with 39387 users and 23033 items."
            ]
          },
          "metadata": {
            "tags": []
          }
        },
        {
          "output_type": "display_data",
          "data": {
            "text/html": [
              "<pre>    Data prepared in: 0.429429s</pre>"
            ],
            "text/plain": [
              "    Data prepared in: 0.429429s"
            ]
          },
          "metadata": {
            "tags": []
          }
        },
        {
          "output_type": "display_data",
          "data": {
            "text/html": [
              "<pre>Training ranking_factorization_recommender for recommendations.</pre>"
            ],
            "text/plain": [
              "Training ranking_factorization_recommender for recommendations."
            ]
          },
          "metadata": {
            "tags": []
          }
        },
        {
          "output_type": "display_data",
          "data": {
            "text/html": [
              "<pre>+--------------------------------+--------------------------------------------------+----------+</pre>"
            ],
            "text/plain": [
              "+--------------------------------+--------------------------------------------------+----------+"
            ]
          },
          "metadata": {
            "tags": []
          }
        },
        {
          "output_type": "display_data",
          "data": {
            "text/html": [
              "<pre>| Parameter                      | Description                                      | Value    |</pre>"
            ],
            "text/plain": [
              "| Parameter                      | Description                                      | Value    |"
            ]
          },
          "metadata": {
            "tags": []
          }
        },
        {
          "output_type": "display_data",
          "data": {
            "text/html": [
              "<pre>+--------------------------------+--------------------------------------------------+----------+</pre>"
            ],
            "text/plain": [
              "+--------------------------------+--------------------------------------------------+----------+"
            ]
          },
          "metadata": {
            "tags": []
          }
        },
        {
          "output_type": "display_data",
          "data": {
            "text/html": [
              "<pre>| num_factors                    | Factor Dimension                                 | 128      |</pre>"
            ],
            "text/plain": [
              "| num_factors                    | Factor Dimension                                 | 128      |"
            ]
          },
          "metadata": {
            "tags": []
          }
        },
        {
          "output_type": "display_data",
          "data": {
            "text/html": [
              "<pre>| regularization                 | L2 Regularization on Factors                     | 1e-09    |</pre>"
            ],
            "text/plain": [
              "| regularization                 | L2 Regularization on Factors                     | 1e-09    |"
            ]
          },
          "metadata": {
            "tags": []
          }
        },
        {
          "output_type": "display_data",
          "data": {
            "text/html": [
              "<pre>| solver                         | Solver used for training                         | adagrad  |</pre>"
            ],
            "text/plain": [
              "| solver                         | Solver used for training                         | adagrad  |"
            ]
          },
          "metadata": {
            "tags": []
          }
        },
        {
          "output_type": "display_data",
          "data": {
            "text/html": [
              "<pre>| linear_regularization          | L2 Regularization on Linear Coefficients         | 1e-09    |</pre>"
            ],
            "text/plain": [
              "| linear_regularization          | L2 Regularization on Linear Coefficients         | 1e-09    |"
            ]
          },
          "metadata": {
            "tags": []
          }
        },
        {
          "output_type": "display_data",
          "data": {
            "text/html": [
              "<pre>| ranking_regularization         | Rank-based Regularization Weight                 | 0.25     |</pre>"
            ],
            "text/plain": [
              "| ranking_regularization         | Rank-based Regularization Weight                 | 0.25     |"
            ]
          },
          "metadata": {
            "tags": []
          }
        },
        {
          "output_type": "display_data",
          "data": {
            "text/html": [
              "<pre>| side_data_factorization        | Assign Factors for Side Data                     | True     |</pre>"
            ],
            "text/plain": [
              "| side_data_factorization        | Assign Factors for Side Data                     | True     |"
            ]
          },
          "metadata": {
            "tags": []
          }
        },
        {
          "output_type": "display_data",
          "data": {
            "text/html": [
              "<pre>| max_iterations                 | Maximum Number of Iterations                     | 150      |</pre>"
            ],
            "text/plain": [
              "| max_iterations                 | Maximum Number of Iterations                     | 150      |"
            ]
          },
          "metadata": {
            "tags": []
          }
        },
        {
          "output_type": "display_data",
          "data": {
            "text/html": [
              "<pre>+--------------------------------+--------------------------------------------------+----------+</pre>"
            ],
            "text/plain": [
              "+--------------------------------+--------------------------------------------------+----------+"
            ]
          },
          "metadata": {
            "tags": []
          }
        },
        {
          "output_type": "display_data",
          "data": {
            "text/html": [
              "<pre>  Optimizing model using SGD; tuning step size.</pre>"
            ],
            "text/plain": [
              "  Optimizing model using SGD; tuning step size."
            ]
          },
          "metadata": {
            "tags": []
          }
        },
        {
          "output_type": "display_data",
          "data": {
            "text/html": [
              "<pre>  Using 34743 / 277950 points for tuning the step size.</pre>"
            ],
            "text/plain": [
              "  Using 34743 / 277950 points for tuning the step size."
            ]
          },
          "metadata": {
            "tags": []
          }
        },
        {
          "output_type": "display_data",
          "data": {
            "text/html": [
              "<pre>+---------+-------------------+------------------------------------------+</pre>"
            ],
            "text/plain": [
              "+---------+-------------------+------------------------------------------+"
            ]
          },
          "metadata": {
            "tags": []
          }
        },
        {
          "output_type": "display_data",
          "data": {
            "text/html": [
              "<pre>| Attempt | Initial Step Size | Estimated Objective Value                |</pre>"
            ],
            "text/plain": [
              "| Attempt | Initial Step Size | Estimated Objective Value                |"
            ]
          },
          "metadata": {
            "tags": []
          }
        },
        {
          "output_type": "display_data",
          "data": {
            "text/html": [
              "<pre>+---------+-------------------+------------------------------------------+</pre>"
            ],
            "text/plain": [
              "+---------+-------------------+------------------------------------------+"
            ]
          },
          "metadata": {
            "tags": []
          }
        },
        {
          "output_type": "display_data",
          "data": {
            "text/html": [
              "<pre>| 0       | 4.16667           | Not Viable                               |</pre>"
            ],
            "text/plain": [
              "| 0       | 4.16667           | Not Viable                               |"
            ]
          },
          "metadata": {
            "tags": []
          }
        },
        {
          "output_type": "display_data",
          "data": {
            "text/html": [
              "<pre>| 1       | 1.04167           | Not Viable                               |</pre>"
            ],
            "text/plain": [
              "| 1       | 1.04167           | Not Viable                               |"
            ]
          },
          "metadata": {
            "tags": []
          }
        },
        {
          "output_type": "display_data",
          "data": {
            "text/html": [
              "<pre>| 2       | 0.260417          | Not Viable                               |</pre>"
            ],
            "text/plain": [
              "| 2       | 0.260417          | Not Viable                               |"
            ]
          },
          "metadata": {
            "tags": []
          }
        },
        {
          "output_type": "display_data",
          "data": {
            "text/html": [
              "<pre>| 3       | 0.0651042         | No Decrease (8.23789 >= 2.39603)         |</pre>"
            ],
            "text/plain": [
              "| 3       | 0.0651042         | No Decrease (8.23789 >= 2.39603)         |"
            ]
          },
          "metadata": {
            "tags": []
          }
        },
        {
          "output_type": "display_data",
          "data": {
            "text/html": [
              "<pre>| 4       | 0.016276          | Not Viable                               |</pre>"
            ],
            "text/plain": [
              "| 4       | 0.016276          | Not Viable                               |"
            ]
          },
          "metadata": {
            "tags": []
          }
        },
        {
          "output_type": "display_data",
          "data": {
            "text/html": [
              "<pre>| 5       | 0.00406901        | 2.33873                                  |</pre>"
            ],
            "text/plain": [
              "| 5       | 0.00406901        | 2.33873                                  |"
            ]
          },
          "metadata": {
            "tags": []
          }
        },
        {
          "output_type": "display_data",
          "data": {
            "text/html": [
              "<pre>| 6       | 0.00203451        | 2.3847                                   |</pre>"
            ],
            "text/plain": [
              "| 6       | 0.00203451        | 2.3847                                   |"
            ]
          },
          "metadata": {
            "tags": []
          }
        },
        {
          "output_type": "display_data",
          "data": {
            "text/html": [
              "<pre>| 7       | 0.00101725        | 2.38829                                  |</pre>"
            ],
            "text/plain": [
              "| 7       | 0.00101725        | 2.38829                                  |"
            ]
          },
          "metadata": {
            "tags": []
          }
        },
        {
          "output_type": "display_data",
          "data": {
            "text/html": [
              "<pre>| 8       | 0.000508626       | 2.39036                                  |</pre>"
            ],
            "text/plain": [
              "| 8       | 0.000508626       | 2.39036                                  |"
            ]
          },
          "metadata": {
            "tags": []
          }
        },
        {
          "output_type": "display_data",
          "data": {
            "text/html": [
              "<pre>+---------+-------------------+------------------------------------------+</pre>"
            ],
            "text/plain": [
              "+---------+-------------------+------------------------------------------+"
            ]
          },
          "metadata": {
            "tags": []
          }
        },
        {
          "output_type": "display_data",
          "data": {
            "text/html": [
              "<pre>| Final   | 0.00406901        | 2.33873                                  |</pre>"
            ],
            "text/plain": [
              "| Final   | 0.00406901        | 2.33873                                  |"
            ]
          },
          "metadata": {
            "tags": []
          }
        },
        {
          "output_type": "display_data",
          "data": {
            "text/html": [
              "<pre>+---------+-------------------+------------------------------------------+</pre>"
            ],
            "text/plain": [
              "+---------+-------------------+------------------------------------------+"
            ]
          },
          "metadata": {
            "tags": []
          }
        },
        {
          "output_type": "display_data",
          "data": {
            "text/html": [
              "<pre>Starting Optimization.</pre>"
            ],
            "text/plain": [
              "Starting Optimization."
            ]
          },
          "metadata": {
            "tags": []
          }
        },
        {
          "output_type": "display_data",
          "data": {
            "text/html": [
              "<pre>+---------+--------------+-------------------+-----------------------+-------------+</pre>"
            ],
            "text/plain": [
              "+---------+--------------+-------------------+-----------------------+-------------+"
            ]
          },
          "metadata": {
            "tags": []
          }
        },
        {
          "output_type": "display_data",
          "data": {
            "text/html": [
              "<pre>| Iter.   | Elapsed Time | Approx. Objective | Approx. Training RMSE | Step Size   |</pre>"
            ],
            "text/plain": [
              "| Iter.   | Elapsed Time | Approx. Objective | Approx. Training RMSE | Step Size   |"
            ]
          },
          "metadata": {
            "tags": []
          }
        },
        {
          "output_type": "display_data",
          "data": {
            "text/html": [
              "<pre>+---------+--------------+-------------------+-----------------------+-------------+</pre>"
            ],
            "text/plain": [
              "+---------+--------------+-------------------+-----------------------+-------------+"
            ]
          },
          "metadata": {
            "tags": []
          }
        },
        {
          "output_type": "display_data",
          "data": {
            "text/html": [
              "<pre>| Initial | 218us        | 2.38911           | 1.10374               |             |</pre>"
            ],
            "text/plain": [
              "| Initial | 218us        | 2.38911           | 1.10374               |             |"
            ]
          },
          "metadata": {
            "tags": []
          }
        },
        {
          "output_type": "display_data",
          "data": {
            "text/html": [
              "<pre>+---------+--------------+-------------------+-----------------------+-------------+</pre>"
            ],
            "text/plain": [
              "+---------+--------------+-------------------+-----------------------+-------------+"
            ]
          },
          "metadata": {
            "tags": []
          }
        },
        {
          "output_type": "display_data",
          "data": {
            "text/html": [
              "<pre>| 1       | 7.62s        | DIVERGED          | DIVERGED              | 0.00406901  |</pre>"
            ],
            "text/plain": [
              "| 1       | 7.62s        | DIVERGED          | DIVERGED              | 0.00406901  |"
            ]
          },
          "metadata": {
            "tags": []
          }
        },
        {
          "output_type": "display_data",
          "data": {
            "text/html": [
              "<pre>| RESET   | 9.78s        | 2.38906           | 1.10371               |             |</pre>"
            ],
            "text/plain": [
              "| RESET   | 9.78s        | 2.38906           | 1.10371               |             |"
            ]
          },
          "metadata": {
            "tags": []
          }
        },
        {
          "output_type": "display_data",
          "data": {
            "text/html": [
              "<pre>| 1       | 15.59s       | 2.40034           | 1.10524               | 0.00203451  |</pre>"
            ],
            "text/plain": [
              "| 1       | 15.59s       | 2.40034           | 1.10524               | 0.00203451  |"
            ]
          },
          "metadata": {
            "tags": []
          }
        },
        {
          "output_type": "display_data",
          "data": {
            "text/html": [
              "<pre>| 2       | 21.45s       | 2.39877           | 1.10134               | 0.00203451  |</pre>"
            ],
            "text/plain": [
              "| 2       | 21.45s       | 2.39877           | 1.10134               | 0.00203451  |"
            ]
          },
          "metadata": {
            "tags": []
          }
        },
        {
          "output_type": "display_data",
          "data": {
            "text/html": [
              "<pre>| 3       | 27.26s       | 2.3923            | 1.09939               | 0.00203451  |</pre>"
            ],
            "text/plain": [
              "| 3       | 27.26s       | 2.3923            | 1.09939               | 0.00203451  |"
            ]
          },
          "metadata": {
            "tags": []
          }
        },
        {
          "output_type": "display_data",
          "data": {
            "text/html": [
              "<pre>| 4       | 33.02s       | 2.36208           | 1.09666               | 0.00203451  |</pre>"
            ],
            "text/plain": [
              "| 4       | 33.02s       | 2.36208           | 1.09666               | 0.00203451  |"
            ]
          },
          "metadata": {
            "tags": []
          }
        },
        {
          "output_type": "display_data",
          "data": {
            "text/html": [
              "<pre>| 5       | 38.76s       | 2.35242           | 1.09634               | 0.00203451  |</pre>"
            ],
            "text/plain": [
              "| 5       | 38.76s       | 2.35242           | 1.09634               | 0.00203451  |"
            ]
          },
          "metadata": {
            "tags": []
          }
        },
        {
          "output_type": "display_data",
          "data": {
            "text/html": [
              "<pre>| 7       | 50.28s       | 2.36771           | 1.09695               | 0.00203451  |</pre>"
            ],
            "text/plain": [
              "| 7       | 50.28s       | 2.36771           | 1.09695               | 0.00203451  |"
            ]
          },
          "metadata": {
            "tags": []
          }
        },
        {
          "output_type": "display_data",
          "data": {
            "text/html": [
              "<pre>| 8       | 56.11s       | 2.37531           | 1.09719               | 0.00203451  |</pre>"
            ],
            "text/plain": [
              "| 8       | 56.11s       | 2.37531           | 1.09719               | 0.00203451  |"
            ]
          },
          "metadata": {
            "tags": []
          }
        },
        {
          "output_type": "display_data",
          "data": {
            "text/html": [
              "<pre>| 9       | 1m 1s        | 2.38228           | 1.09739               | 0.00203451  |</pre>"
            ],
            "text/plain": [
              "| 9       | 1m 1s        | 2.38228           | 1.09739               | 0.00203451  |"
            ]
          },
          "metadata": {
            "tags": []
          }
        },
        {
          "output_type": "display_data",
          "data": {
            "text/html": [
              "<pre>| 10      | 1m 7s        | 2.381             | 1.09701               | 0.00203451  |</pre>"
            ],
            "text/plain": [
              "| 10      | 1m 7s        | 2.381             | 1.09701               | 0.00203451  |"
            ]
          },
          "metadata": {
            "tags": []
          }
        },
        {
          "output_type": "display_data",
          "data": {
            "text/html": [
              "<pre>| 11      | 1m 13s       | 2.37682           | 1.09647               | 0.00203451  |</pre>"
            ],
            "text/plain": [
              "| 11      | 1m 13s       | 2.37682           | 1.09647               | 0.00203451  |"
            ]
          },
          "metadata": {
            "tags": []
          }
        },
        {
          "output_type": "display_data",
          "data": {
            "text/html": [
              "<pre>| 12      | 1m 19s       | 2.3715            | 1.0958                | 0.00203451  |</pre>"
            ],
            "text/plain": [
              "| 12      | 1m 19s       | 2.3715            | 1.0958                | 0.00203451  |"
            ]
          },
          "metadata": {
            "tags": []
          }
        },
        {
          "output_type": "display_data",
          "data": {
            "text/html": [
              "<pre>| 13      | 1m 25s       | 2.36161           | 1.09493               | 0.00203451  |</pre>"
            ],
            "text/plain": [
              "| 13      | 1m 25s       | 2.36161           | 1.09493               | 0.00203451  |"
            ]
          },
          "metadata": {
            "tags": []
          }
        },
        {
          "output_type": "display_data",
          "data": {
            "text/html": [
              "<pre>| 14      | 1m 30s       | 2.35425           | 1.09411               | 0.00203451  |</pre>"
            ],
            "text/plain": [
              "| 14      | 1m 30s       | 2.35425           | 1.09411               | 0.00203451  |"
            ]
          },
          "metadata": {
            "tags": []
          }
        },
        {
          "output_type": "display_data",
          "data": {
            "text/html": [
              "<pre>| 15      | 1m 36s       | 2.34555           | 1.09329               | 0.00203451  |</pre>"
            ],
            "text/plain": [
              "| 15      | 1m 36s       | 2.34555           | 1.09329               | 0.00203451  |"
            ]
          },
          "metadata": {
            "tags": []
          }
        },
        {
          "output_type": "display_data",
          "data": {
            "text/html": [
              "<pre>| 16      | 1m 42s       | 2.3374            | 1.09268               | 0.00203451  |</pre>"
            ],
            "text/plain": [
              "| 16      | 1m 42s       | 2.3374            | 1.09268               | 0.00203451  |"
            ]
          },
          "metadata": {
            "tags": []
          }
        },
        {
          "output_type": "display_data",
          "data": {
            "text/html": [
              "<pre>| 17      | 1m 47s       | 2.33145           | 1.09204               | 0.00203451  |</pre>"
            ],
            "text/plain": [
              "| 17      | 1m 47s       | 2.33145           | 1.09204               | 0.00203451  |"
            ]
          },
          "metadata": {
            "tags": []
          }
        },
        {
          "output_type": "display_data",
          "data": {
            "text/html": [
              "<pre>| 18      | 1m 53s       | 2.32584           | 1.09159               | 0.00203451  |</pre>"
            ],
            "text/plain": [
              "| 18      | 1m 53s       | 2.32584           | 1.09159               | 0.00203451  |"
            ]
          },
          "metadata": {
            "tags": []
          }
        },
        {
          "output_type": "display_data",
          "data": {
            "text/html": [
              "<pre>| 19      | 1m 59s       | 2.32176           | 1.09122               | 0.00203451  |</pre>"
            ],
            "text/plain": [
              "| 19      | 1m 59s       | 2.32176           | 1.09122               | 0.00203451  |"
            ]
          },
          "metadata": {
            "tags": []
          }
        },
        {
          "output_type": "display_data",
          "data": {
            "text/html": [
              "<pre>| 20      | 2m 4s        | 2.31822           | 1.09078               | 0.00203451  |</pre>"
            ],
            "text/plain": [
              "| 20      | 2m 4s        | 2.31822           | 1.09078               | 0.00203451  |"
            ]
          },
          "metadata": {
            "tags": []
          }
        },
        {
          "output_type": "display_data",
          "data": {
            "text/html": [
              "<pre>| 21      | 2m 10s       | 2.3159            | 1.09052               | 0.00203451  |</pre>"
            ],
            "text/plain": [
              "| 21      | 2m 10s       | 2.3159            | 1.09052               | 0.00203451  |"
            ]
          },
          "metadata": {
            "tags": []
          }
        },
        {
          "output_type": "display_data",
          "data": {
            "text/html": [
              "<pre>| 22      | 2m 16s       | 2.31427           | 1.09021               | 0.00203451  |</pre>"
            ],
            "text/plain": [
              "| 22      | 2m 16s       | 2.31427           | 1.09021               | 0.00203451  |"
            ]
          },
          "metadata": {
            "tags": []
          }
        },
        {
          "output_type": "display_data",
          "data": {
            "text/html": [
              "<pre>| 23      | 2m 21s       | 2.31299           | 1.08991               | 0.00203451  |</pre>"
            ],
            "text/plain": [
              "| 23      | 2m 21s       | 2.31299           | 1.08991               | 0.00203451  |"
            ]
          },
          "metadata": {
            "tags": []
          }
        },
        {
          "output_type": "display_data",
          "data": {
            "text/html": [
              "<pre>| 24      | 2m 27s       | 2.31202           | 1.0897                | 0.00203451  |</pre>"
            ],
            "text/plain": [
              "| 24      | 2m 27s       | 2.31202           | 1.0897                | 0.00203451  |"
            ]
          },
          "metadata": {
            "tags": []
          }
        },
        {
          "output_type": "display_data",
          "data": {
            "text/html": [
              "<pre>| 25      | 2m 33s       | 2.31261           | 1.08959               | 0.00203451  |</pre>"
            ],
            "text/plain": [
              "| 25      | 2m 33s       | 2.31261           | 1.08959               | 0.00203451  |"
            ]
          },
          "metadata": {
            "tags": []
          }
        },
        {
          "output_type": "display_data",
          "data": {
            "text/html": [
              "<pre>| 26      | 2m 38s       | 2.31422           | 1.08952               | 0.00203451  |</pre>"
            ],
            "text/plain": [
              "| 26      | 2m 38s       | 2.31422           | 1.08952               | 0.00203451  |"
            ]
          },
          "metadata": {
            "tags": []
          }
        },
        {
          "output_type": "display_data",
          "data": {
            "text/html": [
              "<pre>| 27      | 2m 44s       | 2.31597           | 1.0894                | 0.00203451  |</pre>"
            ],
            "text/plain": [
              "| 27      | 2m 44s       | 2.31597           | 1.0894                | 0.00203451  |"
            ]
          },
          "metadata": {
            "tags": []
          }
        },
        {
          "output_type": "display_data",
          "data": {
            "text/html": [
              "<pre>| 28      | 2m 50s       | 2.31985           | 1.08948               | 0.00203451  |</pre>"
            ],
            "text/plain": [
              "| 28      | 2m 50s       | 2.31985           | 1.08948               | 0.00203451  |"
            ]
          },
          "metadata": {
            "tags": []
          }
        },
        {
          "output_type": "display_data",
          "data": {
            "text/html": [
              "<pre>| 29      | 2m 55s       | 2.32317           | 1.08944               | 0.00203451  |</pre>"
            ],
            "text/plain": [
              "| 29      | 2m 55s       | 2.32317           | 1.08944               | 0.00203451  |"
            ]
          },
          "metadata": {
            "tags": []
          }
        },
        {
          "output_type": "display_data",
          "data": {
            "text/html": [
              "<pre>| 30      | 3m 1s        | 2.32444           | 1.08939               | 0.00203451  |</pre>"
            ],
            "text/plain": [
              "| 30      | 3m 1s        | 2.32444           | 1.08939               | 0.00203451  |"
            ]
          },
          "metadata": {
            "tags": []
          }
        },
        {
          "output_type": "display_data",
          "data": {
            "text/html": [
              "<pre>| 31      | 3m 7s        | 2.32421           | 1.08917               | 0.00203451  |</pre>"
            ],
            "text/plain": [
              "| 31      | 3m 7s        | 2.32421           | 1.08917               | 0.00203451  |"
            ]
          },
          "metadata": {
            "tags": []
          }
        },
        {
          "output_type": "display_data",
          "data": {
            "text/html": [
              "<pre>| 32      | 3m 12s       | 2.32486           | 1.08906               | 0.00203451  |</pre>"
            ],
            "text/plain": [
              "| 32      | 3m 12s       | 2.32486           | 1.08906               | 0.00203451  |"
            ]
          },
          "metadata": {
            "tags": []
          }
        },
        {
          "output_type": "display_data",
          "data": {
            "text/html": [
              "<pre>| 33      | 3m 18s       | 2.32854           | 1.08906               | 0.00203451  |</pre>"
            ],
            "text/plain": [
              "| 33      | 3m 18s       | 2.32854           | 1.08906               | 0.00203451  |"
            ]
          },
          "metadata": {
            "tags": []
          }
        },
        {
          "output_type": "display_data",
          "data": {
            "text/html": [
              "<pre>| 34      | 3m 23s       | 2.32787           | 1.08879               | 0.00203451  |</pre>"
            ],
            "text/plain": [
              "| 34      | 3m 23s       | 2.32787           | 1.08879               | 0.00203451  |"
            ]
          },
          "metadata": {
            "tags": []
          }
        },
        {
          "output_type": "display_data",
          "data": {
            "text/html": [
              "<pre>| 35      | 3m 29s       | 2.32804           | 1.08871               | 0.00203451  |</pre>"
            ],
            "text/plain": [
              "| 35      | 3m 29s       | 2.32804           | 1.08871               | 0.00203451  |"
            ]
          },
          "metadata": {
            "tags": []
          }
        },
        {
          "output_type": "display_data",
          "data": {
            "text/html": [
              "<pre>| 36      | 3m 35s       | 2.32839           | 1.08859               | 0.00203451  |</pre>"
            ],
            "text/plain": [
              "| 36      | 3m 35s       | 2.32839           | 1.08859               | 0.00203451  |"
            ]
          },
          "metadata": {
            "tags": []
          }
        },
        {
          "output_type": "display_data",
          "data": {
            "text/html": [
              "<pre>| 37      | 3m 40s       | 2.3321            | 1.08863               | 0.00203451  |</pre>"
            ],
            "text/plain": [
              "| 37      | 3m 40s       | 2.3321            | 1.08863               | 0.00203451  |"
            ]
          },
          "metadata": {
            "tags": []
          }
        },
        {
          "output_type": "display_data",
          "data": {
            "text/html": [
              "<pre>| 38      | 3m 46s       | 2.33046           | 1.08838               | 0.00203451  |</pre>"
            ],
            "text/plain": [
              "| 38      | 3m 46s       | 2.33046           | 1.08838               | 0.00203451  |"
            ]
          },
          "metadata": {
            "tags": []
          }
        },
        {
          "output_type": "display_data",
          "data": {
            "text/html": [
              "<pre>| 39      | 3m 51s       | 2.33542           | 1.08853               | 0.00203451  |</pre>"
            ],
            "text/plain": [
              "| 39      | 3m 51s       | 2.33542           | 1.08853               | 0.00203451  |"
            ]
          },
          "metadata": {
            "tags": []
          }
        },
        {
          "output_type": "display_data",
          "data": {
            "text/html": [
              "<pre>| 40      | 3m 57s       | 2.33677           | 1.08855               | 0.00203451  |</pre>"
            ],
            "text/plain": [
              "| 40      | 3m 57s       | 2.33677           | 1.08855               | 0.00203451  |"
            ]
          },
          "metadata": {
            "tags": []
          }
        },
        {
          "output_type": "display_data",
          "data": {
            "text/html": [
              "<pre>| 41      | 4m 3s        | 2.33919           | 1.08863               | 0.00203451  |</pre>"
            ],
            "text/plain": [
              "| 41      | 4m 3s        | 2.33919           | 1.08863               | 0.00203451  |"
            ]
          },
          "metadata": {
            "tags": []
          }
        },
        {
          "output_type": "display_data",
          "data": {
            "text/html": [
              "<pre>| 42      | 4m 8s        | 2.34092           | 1.08851               | 0.00203451  |</pre>"
            ],
            "text/plain": [
              "| 42      | 4m 8s        | 2.34092           | 1.08851               | 0.00203451  |"
            ]
          },
          "metadata": {
            "tags": []
          }
        },
        {
          "output_type": "display_data",
          "data": {
            "text/html": [
              "<pre>| 43      | 4m 14s       | 2.34537           | 1.08879               | 0.00203451  |</pre>"
            ],
            "text/plain": [
              "| 43      | 4m 14s       | 2.34537           | 1.08879               | 0.00203451  |"
            ]
          },
          "metadata": {
            "tags": []
          }
        },
        {
          "output_type": "display_data",
          "data": {
            "text/html": [
              "<pre>| 44      | 4m 20s       | 2.34843           | 1.08876               | 0.00203451  |</pre>"
            ],
            "text/plain": [
              "| 44      | 4m 20s       | 2.34843           | 1.08876               | 0.00203451  |"
            ]
          },
          "metadata": {
            "tags": []
          }
        },
        {
          "output_type": "display_data",
          "data": {
            "text/html": [
              "<pre>| 45      | 4m 25s       | 2.34985           | 1.08862               | 0.00203451  |</pre>"
            ],
            "text/plain": [
              "| 45      | 4m 25s       | 2.34985           | 1.08862               | 0.00203451  |"
            ]
          },
          "metadata": {
            "tags": []
          }
        },
        {
          "output_type": "display_data",
          "data": {
            "text/html": [
              "<pre>| 46      | 4m 31s       | 2.35154           | 1.08873               | 0.00203451  |</pre>"
            ],
            "text/plain": [
              "| 46      | 4m 31s       | 2.35154           | 1.08873               | 0.00203451  |"
            ]
          },
          "metadata": {
            "tags": []
          }
        },
        {
          "output_type": "display_data",
          "data": {
            "text/html": [
              "<pre>| 47      | 4m 36s       | 2.35179           | 1.08848               | 0.00203451  |</pre>"
            ],
            "text/plain": [
              "| 47      | 4m 36s       | 2.35179           | 1.08848               | 0.00203451  |"
            ]
          },
          "metadata": {
            "tags": []
          }
        },
        {
          "output_type": "display_data",
          "data": {
            "text/html": [
              "<pre>| 48      | 4m 42s       | 2.35255           | 1.08853               | 0.00203451  |</pre>"
            ],
            "text/plain": [
              "| 48      | 4m 42s       | 2.35255           | 1.08853               | 0.00203451  |"
            ]
          },
          "metadata": {
            "tags": []
          }
        },
        {
          "output_type": "display_data",
          "data": {
            "text/html": [
              "<pre>| 49      | 4m 48s       | 2.35261           | 1.08834               | 0.00203451  |</pre>"
            ],
            "text/plain": [
              "| 49      | 4m 48s       | 2.35261           | 1.08834               | 0.00203451  |"
            ]
          },
          "metadata": {
            "tags": []
          }
        },
        {
          "output_type": "display_data",
          "data": {
            "text/html": [
              "<pre>| 50      | 4m 53s       | 2.35202           | 1.08812               | 0.00203451  |</pre>"
            ],
            "text/plain": [
              "| 50      | 4m 53s       | 2.35202           | 1.08812               | 0.00203451  |"
            ]
          },
          "metadata": {
            "tags": []
          }
        },
        {
          "output_type": "display_data",
          "data": {
            "text/html": [
              "<pre>| 51      | 4m 59s       | 2.35437           | 1.08816               | 0.00203451  |</pre>"
            ],
            "text/plain": [
              "| 51      | 4m 59s       | 2.35437           | 1.08816               | 0.00203451  |"
            ]
          },
          "metadata": {
            "tags": []
          }
        },
        {
          "output_type": "display_data",
          "data": {
            "text/html": [
              "<pre>| 52      | 5m 5s        | 2.35296           | 1.08788               | 0.00203451  |</pre>"
            ],
            "text/plain": [
              "| 52      | 5m 5s        | 2.35296           | 1.08788               | 0.00203451  |"
            ]
          },
          "metadata": {
            "tags": []
          }
        },
        {
          "output_type": "display_data",
          "data": {
            "text/html": [
              "<pre>| 53      | 5m 10s       | 2.35244           | 1.08772               | 0.00203451  |</pre>"
            ],
            "text/plain": [
              "| 53      | 5m 10s       | 2.35244           | 1.08772               | 0.00203451  |"
            ]
          },
          "metadata": {
            "tags": []
          }
        },
        {
          "output_type": "display_data",
          "data": {
            "text/html": [
              "<pre>| 54      | 5m 16s       | 2.35234           | 1.08747               | 0.00203451  |</pre>"
            ],
            "text/plain": [
              "| 54      | 5m 16s       | 2.35234           | 1.08747               | 0.00203451  |"
            ]
          },
          "metadata": {
            "tags": []
          }
        },
        {
          "output_type": "display_data",
          "data": {
            "text/html": [
              "<pre>| 55      | 5m 22s       | 2.35062           | 1.08715               | 0.00203451  |</pre>"
            ],
            "text/plain": [
              "| 55      | 5m 22s       | 2.35062           | 1.08715               | 0.00203451  |"
            ]
          },
          "metadata": {
            "tags": []
          }
        },
        {
          "output_type": "display_data",
          "data": {
            "text/html": [
              "<pre>| 56      | 5m 27s       | 2.34903           | 1.0868                | 0.00203451  |</pre>"
            ],
            "text/plain": [
              "| 56      | 5m 27s       | 2.34903           | 1.0868                | 0.00203451  |"
            ]
          },
          "metadata": {
            "tags": []
          }
        },
        {
          "output_type": "display_data",
          "data": {
            "text/html": [
              "<pre>| 57      | 5m 33s       | 2.34654           | 1.08639               | 0.00203451  |</pre>"
            ],
            "text/plain": [
              "| 57      | 5m 33s       | 2.34654           | 1.08639               | 0.00203451  |"
            ]
          },
          "metadata": {
            "tags": []
          }
        },
        {
          "output_type": "display_data",
          "data": {
            "text/html": [
              "<pre>| 58      | 5m 38s       | 2.34568           | 1.08608               | 0.00203451  |</pre>"
            ],
            "text/plain": [
              "| 58      | 5m 38s       | 2.34568           | 1.08608               | 0.00203451  |"
            ]
          },
          "metadata": {
            "tags": []
          }
        },
        {
          "output_type": "display_data",
          "data": {
            "text/html": [
              "<pre>| 59      | 5m 44s       | 2.3418            | 1.08526               | 0.00203451  |</pre>"
            ],
            "text/plain": [
              "| 59      | 5m 44s       | 2.3418            | 1.08526               | 0.00203451  |"
            ]
          },
          "metadata": {
            "tags": []
          }
        },
        {
          "output_type": "display_data",
          "data": {
            "text/html": [
              "<pre>| 60      | 5m 50s       | 2.34105           | 1.08468               | 0.00203451  |</pre>"
            ],
            "text/plain": [
              "| 60      | 5m 50s       | 2.34105           | 1.08468               | 0.00203451  |"
            ]
          },
          "metadata": {
            "tags": []
          }
        },
        {
          "output_type": "display_data",
          "data": {
            "text/html": [
              "<pre>| 61      | 5m 55s       | 2.3357            | 1.08401               | 0.00203451  |</pre>"
            ],
            "text/plain": [
              "| 61      | 5m 55s       | 2.3357            | 1.08401               | 0.00203451  |"
            ]
          },
          "metadata": {
            "tags": []
          }
        },
        {
          "output_type": "display_data",
          "data": {
            "text/html": [
              "<pre>| 62      | 6m 1s        | 2.33331           | 1.0833                | 0.00203451  |</pre>"
            ],
            "text/plain": [
              "| 62      | 6m 1s        | 2.33331           | 1.0833                | 0.00203451  |"
            ]
          },
          "metadata": {
            "tags": []
          }
        },
        {
          "output_type": "display_data",
          "data": {
            "text/html": [
              "<pre>| 63      | 6m 6s        | 2.33038           | 1.08246               | 0.00203451  |</pre>"
            ],
            "text/plain": [
              "| 63      | 6m 6s        | 2.33038           | 1.08246               | 0.00203451  |"
            ]
          },
          "metadata": {
            "tags": []
          }
        },
        {
          "output_type": "display_data",
          "data": {
            "text/html": [
              "<pre>| 64      | 6m 12s       | 2.32519           | 1.08179               | 0.00203451  |</pre>"
            ],
            "text/plain": [
              "| 64      | 6m 12s       | 2.32519           | 1.08179               | 0.00203451  |"
            ]
          },
          "metadata": {
            "tags": []
          }
        },
        {
          "output_type": "display_data",
          "data": {
            "text/html": [
              "<pre>| 65      | 6m 18s       | 2.32296           | 1.08109               | 0.00203451  |</pre>"
            ],
            "text/plain": [
              "| 65      | 6m 18s       | 2.32296           | 1.08109               | 0.00203451  |"
            ]
          },
          "metadata": {
            "tags": []
          }
        },
        {
          "output_type": "display_data",
          "data": {
            "text/html": [
              "<pre>| 66      | 6m 23s       | 2.31948           | 1.08049               | 0.00203451  |</pre>"
            ],
            "text/plain": [
              "| 66      | 6m 23s       | 2.31948           | 1.08049               | 0.00203451  |"
            ]
          },
          "metadata": {
            "tags": []
          }
        },
        {
          "output_type": "display_data",
          "data": {
            "text/html": [
              "<pre>| 67      | 6m 29s       | 2.31789           | 1.07992               | 0.00203451  |</pre>"
            ],
            "text/plain": [
              "| 67      | 6m 29s       | 2.31789           | 1.07992               | 0.00203451  |"
            ]
          },
          "metadata": {
            "tags": []
          }
        },
        {
          "output_type": "display_data",
          "data": {
            "text/html": [
              "<pre>| 68      | 6m 35s       | 2.31369           | 1.07956               | 0.00203451  |</pre>"
            ],
            "text/plain": [
              "| 68      | 6m 35s       | 2.31369           | 1.07956               | 0.00203451  |"
            ]
          },
          "metadata": {
            "tags": []
          }
        },
        {
          "output_type": "display_data",
          "data": {
            "text/html": [
              "<pre>| 69      | 6m 41s       | 2.31275           | 1.07895               | 0.00203451  |</pre>"
            ],
            "text/plain": [
              "| 69      | 6m 41s       | 2.31275           | 1.07895               | 0.00203451  |"
            ]
          },
          "metadata": {
            "tags": []
          }
        },
        {
          "output_type": "display_data",
          "data": {
            "text/html": [
              "<pre>| 70      | 6m 46s       | 2.31075           | 1.07861               | 0.00203451  |</pre>"
            ],
            "text/plain": [
              "| 70      | 6m 46s       | 2.31075           | 1.07861               | 0.00203451  |"
            ]
          },
          "metadata": {
            "tags": []
          }
        },
        {
          "output_type": "display_data",
          "data": {
            "text/html": [
              "<pre>| 71      | 6m 52s       | 2.30925           | 1.07826               | 0.00203451  |</pre>"
            ],
            "text/plain": [
              "| 71      | 6m 52s       | 2.30925           | 1.07826               | 0.00203451  |"
            ]
          },
          "metadata": {
            "tags": []
          }
        },
        {
          "output_type": "display_data",
          "data": {
            "text/html": [
              "<pre>| 72      | 6m 57s       | 2.30679           | 1.07796               | 0.00203451  |</pre>"
            ],
            "text/plain": [
              "| 72      | 6m 57s       | 2.30679           | 1.07796               | 0.00203451  |"
            ]
          },
          "metadata": {
            "tags": []
          }
        },
        {
          "output_type": "display_data",
          "data": {
            "text/html": [
              "<pre>| 73      | 7m 3s        | 2.30422           | 1.07753               | 0.00203451  |</pre>"
            ],
            "text/plain": [
              "| 73      | 7m 3s        | 2.30422           | 1.07753               | 0.00203451  |"
            ]
          },
          "metadata": {
            "tags": []
          }
        },
        {
          "output_type": "display_data",
          "data": {
            "text/html": [
              "<pre>| 74      | 7m 9s        | 2.30248           | 1.07739               | 0.00203451  |</pre>"
            ],
            "text/plain": [
              "| 74      | 7m 9s        | 2.30248           | 1.07739               | 0.00203451  |"
            ]
          },
          "metadata": {
            "tags": []
          }
        },
        {
          "output_type": "display_data",
          "data": {
            "text/html": [
              "<pre>| 75      | 7m 14s       | 2.30058           | 1.07703               | 0.00203451  |</pre>"
            ],
            "text/plain": [
              "| 75      | 7m 14s       | 2.30058           | 1.07703               | 0.00203451  |"
            ]
          },
          "metadata": {
            "tags": []
          }
        },
        {
          "output_type": "display_data",
          "data": {
            "text/html": [
              "<pre>| 76      | 7m 20s       | 2.29986           | 1.07662               | 0.00203451  |</pre>"
            ],
            "text/plain": [
              "| 76      | 7m 20s       | 2.29986           | 1.07662               | 0.00203451  |"
            ]
          },
          "metadata": {
            "tags": []
          }
        },
        {
          "output_type": "display_data",
          "data": {
            "text/html": [
              "<pre>| 77      | 7m 25s       | 2.29794           | 1.07644               | 0.00203451  |</pre>"
            ],
            "text/plain": [
              "| 77      | 7m 25s       | 2.29794           | 1.07644               | 0.00203451  |"
            ]
          },
          "metadata": {
            "tags": []
          }
        },
        {
          "output_type": "display_data",
          "data": {
            "text/html": [
              "<pre>| 78      | 7m 31s       | 2.29614           | 1.07626               | 0.00203451  |</pre>"
            ],
            "text/plain": [
              "| 78      | 7m 31s       | 2.29614           | 1.07626               | 0.00203451  |"
            ]
          },
          "metadata": {
            "tags": []
          }
        },
        {
          "output_type": "display_data",
          "data": {
            "text/html": [
              "<pre>| 79      | 7m 37s       | 2.29451           | 1.07588               | 0.00203451  |</pre>"
            ],
            "text/plain": [
              "| 79      | 7m 37s       | 2.29451           | 1.07588               | 0.00203451  |"
            ]
          },
          "metadata": {
            "tags": []
          }
        },
        {
          "output_type": "display_data",
          "data": {
            "text/html": [
              "<pre>| 80      | 7m 42s       | 2.29411           | 1.07552               | 0.00203451  |</pre>"
            ],
            "text/plain": [
              "| 80      | 7m 42s       | 2.29411           | 1.07552               | 0.00203451  |"
            ]
          },
          "metadata": {
            "tags": []
          }
        },
        {
          "output_type": "display_data",
          "data": {
            "text/html": [
              "<pre>| 81      | 7m 48s       | 2.2918            | 1.07541               | 0.00203451  |</pre>"
            ],
            "text/plain": [
              "| 81      | 7m 48s       | 2.2918            | 1.07541               | 0.00203451  |"
            ]
          },
          "metadata": {
            "tags": []
          }
        },
        {
          "output_type": "display_data",
          "data": {
            "text/html": [
              "<pre>| 82      | 7m 53s       | 2.29088           | 1.07522               | 0.00203451  |</pre>"
            ],
            "text/plain": [
              "| 82      | 7m 53s       | 2.29088           | 1.07522               | 0.00203451  |"
            ]
          },
          "metadata": {
            "tags": []
          }
        },
        {
          "output_type": "display_data",
          "data": {
            "text/html": [
              "<pre>| 83      | 7m 59s       | 2.29001           | 1.07501               | 0.00203451  |</pre>"
            ],
            "text/plain": [
              "| 83      | 7m 59s       | 2.29001           | 1.07501               | 0.00203451  |"
            ]
          },
          "metadata": {
            "tags": []
          }
        },
        {
          "output_type": "display_data",
          "data": {
            "text/html": [
              "<pre>| 84      | 8m 5s        | 2.2893            | 1.07479               | 0.00203451  |</pre>"
            ],
            "text/plain": [
              "| 84      | 8m 5s        | 2.2893            | 1.07479               | 0.00203451  |"
            ]
          },
          "metadata": {
            "tags": []
          }
        },
        {
          "output_type": "display_data",
          "data": {
            "text/html": [
              "<pre>| 85      | 8m 10s       | 2.28966           | 1.0746                | 0.00203451  |</pre>"
            ],
            "text/plain": [
              "| 85      | 8m 10s       | 2.28966           | 1.0746                | 0.00203451  |"
            ]
          },
          "metadata": {
            "tags": []
          }
        },
        {
          "output_type": "display_data",
          "data": {
            "text/html": [
              "<pre>| 86      | 8m 16s       | 2.28896           | 1.0746                | 0.00203451  |</pre>"
            ],
            "text/plain": [
              "| 86      | 8m 16s       | 2.28896           | 1.0746                | 0.00203451  |"
            ]
          },
          "metadata": {
            "tags": []
          }
        },
        {
          "output_type": "display_data",
          "data": {
            "text/html": [
              "<pre>| 87      | 8m 21s       | 2.2908            | 1.07456               | 0.00203451  |</pre>"
            ],
            "text/plain": [
              "| 87      | 8m 21s       | 2.2908            | 1.07456               | 0.00203451  |"
            ]
          },
          "metadata": {
            "tags": []
          }
        },
        {
          "output_type": "display_data",
          "data": {
            "text/html": [
              "<pre>| 88      | 8m 27s       | 2.29162           | 1.07436               | 0.00203451  |</pre>"
            ],
            "text/plain": [
              "| 88      | 8m 27s       | 2.29162           | 1.07436               | 0.00203451  |"
            ]
          },
          "metadata": {
            "tags": []
          }
        },
        {
          "output_type": "display_data",
          "data": {
            "text/html": [
              "<pre>| 89      | 8m 32s       | 2.29312           | 1.07454               | 0.00203451  |</pre>"
            ],
            "text/plain": [
              "| 89      | 8m 32s       | 2.29312           | 1.07454               | 0.00203451  |"
            ]
          },
          "metadata": {
            "tags": []
          }
        },
        {
          "output_type": "display_data",
          "data": {
            "text/html": [
              "<pre>| 90      | 8m 38s       | 2.29528           | 1.07475               | 0.00203451  |</pre>"
            ],
            "text/plain": [
              "| 90      | 8m 38s       | 2.29528           | 1.07475               | 0.00203451  |"
            ]
          },
          "metadata": {
            "tags": []
          }
        },
        {
          "output_type": "display_data",
          "data": {
            "text/html": [
              "<pre>| 91      | 8m 43s       | 2.29856           | 1.07493               | 0.00203451  |</pre>"
            ],
            "text/plain": [
              "| 91      | 8m 43s       | 2.29856           | 1.07493               | 0.00203451  |"
            ]
          },
          "metadata": {
            "tags": []
          }
        },
        {
          "output_type": "display_data",
          "data": {
            "text/html": [
              "<pre>| 92      | 8m 49s       | 2.30286           | 1.07551               | 0.00203451  |</pre>"
            ],
            "text/plain": [
              "| 92      | 8m 49s       | 2.30286           | 1.07551               | 0.00203451  |"
            ]
          },
          "metadata": {
            "tags": []
          }
        },
        {
          "output_type": "display_data",
          "data": {
            "text/html": [
              "<pre>| 93      | 8m 54s       | 2.30716           | 1.07602               | 0.00203451  |</pre>"
            ],
            "text/plain": [
              "| 93      | 8m 54s       | 2.30716           | 1.07602               | 0.00203451  |"
            ]
          },
          "metadata": {
            "tags": []
          }
        },
        {
          "output_type": "display_data",
          "data": {
            "text/html": [
              "<pre>| 94      | 8m 59s       | 2.316             | 1.07714               | 0.00203451  |</pre>"
            ],
            "text/plain": [
              "| 94      | 8m 59s       | 2.316             | 1.07714               | 0.00203451  |"
            ]
          },
          "metadata": {
            "tags": []
          }
        },
        {
          "output_type": "display_data",
          "data": {
            "text/html": [
              "<pre>| 95      | 9m 5s        | 2.32516           | 1.07833               | 0.00203451  |</pre>"
            ],
            "text/plain": [
              "| 95      | 9m 5s        | 2.32516           | 1.07833               | 0.00203451  |"
            ]
          },
          "metadata": {
            "tags": []
          }
        },
        {
          "output_type": "display_data",
          "data": {
            "text/html": [
              "<pre>| 96      | 9m 11s       | 2.33652           | 1.08012               | 0.00203451  |</pre>"
            ],
            "text/plain": [
              "| 96      | 9m 11s       | 2.33652           | 1.08012               | 0.00203451  |"
            ]
          },
          "metadata": {
            "tags": []
          }
        },
        {
          "output_type": "display_data",
          "data": {
            "text/html": [
              "<pre>| 97      | 9m 16s       | 2.35201           | 1.08244               | 0.00203451  |</pre>"
            ],
            "text/plain": [
              "| 97      | 9m 16s       | 2.35201           | 1.08244               | 0.00203451  |"
            ]
          },
          "metadata": {
            "tags": []
          }
        },
        {
          "output_type": "display_data",
          "data": {
            "text/html": [
              "<pre>| 98      | 9m 22s       | 2.37127           | 1.08559               | 0.00203451  |</pre>"
            ],
            "text/plain": [
              "| 98      | 9m 22s       | 2.37127           | 1.08559               | 0.00203451  |"
            ]
          },
          "metadata": {
            "tags": []
          }
        },
        {
          "output_type": "display_data",
          "data": {
            "text/html": [
              "<pre>| 99      | 9m 27s       | 2.39163           | 1.0892                | 0.00203451  |</pre>"
            ],
            "text/plain": [
              "| 99      | 9m 27s       | 2.39163           | 1.0892                | 0.00203451  |"
            ]
          },
          "metadata": {
            "tags": []
          }
        },
        {
          "output_type": "display_data",
          "data": {
            "text/html": [
              "<pre>| 100     | 9m 33s       | 2.41885           | 1.09405               | 0.00203451  |</pre>"
            ],
            "text/plain": [
              "| 100     | 9m 33s       | 2.41885           | 1.09405               | 0.00203451  |"
            ]
          },
          "metadata": {
            "tags": []
          }
        },
        {
          "output_type": "display_data",
          "data": {
            "text/html": [
              "<pre>| 101     | 9m 38s       | 2.45193           | 1.10033               | 0.00203451  |</pre>"
            ],
            "text/plain": [
              "| 101     | 9m 38s       | 2.45193           | 1.10033               | 0.00203451  |"
            ]
          },
          "metadata": {
            "tags": []
          }
        },
        {
          "output_type": "display_data",
          "data": {
            "text/html": [
              "<pre>| 102     | 9m 44s       | 2.48888           | 1.1076                | 0.00203451  |</pre>"
            ],
            "text/plain": [
              "| 102     | 9m 44s       | 2.48888           | 1.1076                | 0.00203451  |"
            ]
          },
          "metadata": {
            "tags": []
          }
        },
        {
          "output_type": "display_data",
          "data": {
            "text/html": [
              "<pre>| 103     | 9m 49s       | 2.5363            | 1.11714               | 0.00203451  |</pre>"
            ],
            "text/plain": [
              "| 103     | 9m 49s       | 2.5363            | 1.11714               | 0.00203451  |"
            ]
          },
          "metadata": {
            "tags": []
          }
        },
        {
          "output_type": "display_data",
          "data": {
            "text/html": [
              "<pre>| 104     | 9m 56s       | DIVERGED          | DIVERGED              | 0.00203451  |</pre>"
            ],
            "text/plain": [
              "| 104     | 9m 56s       | DIVERGED          | DIVERGED              | 0.00203451  |"
            ]
          },
          "metadata": {
            "tags": []
          }
        },
        {
          "output_type": "display_data",
          "data": {
            "text/html": [
              "<pre>| RESET   | 9m 58s       | 2.389             | 1.10377               |             |</pre>"
            ],
            "text/plain": [
              "| RESET   | 9m 58s       | 2.389             | 1.10377               |             |"
            ]
          },
          "metadata": {
            "tags": []
          }
        },
        {
          "output_type": "display_data",
          "data": {
            "text/html": [
              "<pre>| 1       | 10m 4s       | 2.41584           | 1.1041                | 0.00101725  |</pre>"
            ],
            "text/plain": [
              "| 1       | 10m 4s       | 2.41584           | 1.1041                | 0.00101725  |"
            ]
          },
          "metadata": {
            "tags": []
          }
        },
        {
          "output_type": "display_data",
          "data": {
            "text/html": [
              "<pre>| 2       | 10m 10s      | 2.38396           | 1.10002               | 0.00101725  |</pre>"
            ],
            "text/plain": [
              "| 2       | 10m 10s      | 2.38396           | 1.10002               | 0.00101725  |"
            ]
          },
          "metadata": {
            "tags": []
          }
        },
        {
          "output_type": "display_data",
          "data": {
            "text/html": [
              "<pre>| 3       | 10m 15s      | 2.3759            | 1.09804               | 0.00101725  |</pre>"
            ],
            "text/plain": [
              "| 3       | 10m 15s      | 2.3759            | 1.09804               | 0.00101725  |"
            ]
          },
          "metadata": {
            "tags": []
          }
        },
        {
          "output_type": "display_data",
          "data": {
            "text/html": [
              "<pre>| 4       | 10m 21s      | 2.36831           | 1.09634               | 0.00101725  |</pre>"
            ],
            "text/plain": [
              "| 4       | 10m 21s      | 2.36831           | 1.09634               | 0.00101725  |"
            ]
          },
          "metadata": {
            "tags": []
          }
        },
        {
          "output_type": "display_data",
          "data": {
            "text/html": [
              "<pre>| 5       | 10m 26s      | 2.36099           | 1.09497               | 0.00101725  |</pre>"
            ],
            "text/plain": [
              "| 5       | 10m 26s      | 2.36099           | 1.09497               | 0.00101725  |"
            ]
          },
          "metadata": {
            "tags": []
          }
        },
        {
          "output_type": "display_data",
          "data": {
            "text/html": [
              "<pre>| 6       | 10m 32s      | 2.35545           | 1.09394               | 0.00101725  |</pre>"
            ],
            "text/plain": [
              "| 6       | 10m 32s      | 2.35545           | 1.09394               | 0.00101725  |"
            ]
          },
          "metadata": {
            "tags": []
          }
        },
        {
          "output_type": "display_data",
          "data": {
            "text/html": [
              "<pre>| 7       | 10m 38s      | 2.35011           | 1.09303               | 0.00101725  |</pre>"
            ],
            "text/plain": [
              "| 7       | 10m 38s      | 2.35011           | 1.09303               | 0.00101725  |"
            ]
          },
          "metadata": {
            "tags": []
          }
        },
        {
          "output_type": "display_data",
          "data": {
            "text/html": [
              "<pre>| 8       | 10m 43s      | 2.34577           | 1.09238               | 0.00101725  |</pre>"
            ],
            "text/plain": [
              "| 8       | 10m 43s      | 2.34577           | 1.09238               | 0.00101725  |"
            ]
          },
          "metadata": {
            "tags": []
          }
        },
        {
          "output_type": "display_data",
          "data": {
            "text/html": [
              "<pre>| 9       | 10m 49s      | 2.34221           | 1.09184               | 0.00101725  |</pre>"
            ],
            "text/plain": [
              "| 9       | 10m 49s      | 2.34221           | 1.09184               | 0.00101725  |"
            ]
          },
          "metadata": {
            "tags": []
          }
        },
        {
          "output_type": "display_data",
          "data": {
            "text/html": [
              "<pre>| 10      | 10m 55s      | 2.33964           | 1.09148               | 0.00101725  |</pre>"
            ],
            "text/plain": [
              "| 10      | 10m 55s      | 2.33964           | 1.09148               | 0.00101725  |"
            ]
          },
          "metadata": {
            "tags": []
          }
        },
        {
          "output_type": "display_data",
          "data": {
            "text/html": [
              "<pre>| 11      | 11m 0s       | 2.33721           | 1.09122               | 0.00101725  |</pre>"
            ],
            "text/plain": [
              "| 11      | 11m 0s       | 2.33721           | 1.09122               | 0.00101725  |"
            ]
          },
          "metadata": {
            "tags": []
          }
        },
        {
          "output_type": "display_data",
          "data": {
            "text/html": [
              "<pre>| 12      | 11m 6s       | 2.33519           | 1.09102               | 0.00101725  |</pre>"
            ],
            "text/plain": [
              "| 12      | 11m 6s       | 2.33519           | 1.09102               | 0.00101725  |"
            ]
          },
          "metadata": {
            "tags": []
          }
        },
        {
          "output_type": "display_data",
          "data": {
            "text/html": [
              "<pre>| 13      | 11m 12s      | 2.33367           | 1.09097               | 0.00101725  |</pre>"
            ],
            "text/plain": [
              "| 13      | 11m 12s      | 2.33367           | 1.09097               | 0.00101725  |"
            ]
          },
          "metadata": {
            "tags": []
          }
        },
        {
          "output_type": "display_data",
          "data": {
            "text/html": [
              "<pre>| 14      | 11m 17s      | 2.33256           | 1.09094               | 0.00101725  |</pre>"
            ],
            "text/plain": [
              "| 14      | 11m 17s      | 2.33256           | 1.09094               | 0.00101725  |"
            ]
          },
          "metadata": {
            "tags": []
          }
        },
        {
          "output_type": "display_data",
          "data": {
            "text/html": [
              "<pre>| 15      | 11m 23s      | 2.33152           | 1.09092               | 0.00101725  |</pre>"
            ],
            "text/plain": [
              "| 15      | 11m 23s      | 2.33152           | 1.09092               | 0.00101725  |"
            ]
          },
          "metadata": {
            "tags": []
          }
        },
        {
          "output_type": "display_data",
          "data": {
            "text/html": [
              "<pre>| 16      | 11m 29s      | 2.33051           | 1.09084               | 0.00101725  |</pre>"
            ],
            "text/plain": [
              "| 16      | 11m 29s      | 2.33051           | 1.09084               | 0.00101725  |"
            ]
          },
          "metadata": {
            "tags": []
          }
        },
        {
          "output_type": "display_data",
          "data": {
            "text/html": [
              "<pre>| 17      | 11m 34s      | 2.33024           | 1.091                 | 0.00101725  |</pre>"
            ],
            "text/plain": [
              "| 17      | 11m 34s      | 2.33024           | 1.091                 | 0.00101725  |"
            ]
          },
          "metadata": {
            "tags": []
          }
        },
        {
          "output_type": "display_data",
          "data": {
            "text/html": [
              "<pre>| 18      | 11m 40s      | 2.3301            | 1.09115               | 0.00101725  |</pre>"
            ],
            "text/plain": [
              "| 18      | 11m 40s      | 2.3301            | 1.09115               | 0.00101725  |"
            ]
          },
          "metadata": {
            "tags": []
          }
        },
        {
          "output_type": "display_data",
          "data": {
            "text/html": [
              "<pre>| 19      | 11m 46s      | 2.32932           | 1.09105               | 0.00101725  |</pre>"
            ],
            "text/plain": [
              "| 19      | 11m 46s      | 2.32932           | 1.09105               | 0.00101725  |"
            ]
          },
          "metadata": {
            "tags": []
          }
        },
        {
          "output_type": "display_data",
          "data": {
            "text/html": [
              "<pre>| 20      | 11m 51s      | 2.32938           | 1.09122               | 0.00101725  |</pre>"
            ],
            "text/plain": [
              "| 20      | 11m 51s      | 2.32938           | 1.09122               | 0.00101725  |"
            ]
          },
          "metadata": {
            "tags": []
          }
        },
        {
          "output_type": "display_data",
          "data": {
            "text/html": [
              "<pre>| 21      | 11m 57s      | 2.32922           | 1.09128               | 0.00101725  |</pre>"
            ],
            "text/plain": [
              "| 21      | 11m 57s      | 2.32922           | 1.09128               | 0.00101725  |"
            ]
          },
          "metadata": {
            "tags": []
          }
        },
        {
          "output_type": "display_data",
          "data": {
            "text/html": [
              "<pre>| 22      | 12m 3s       | 2.32919           | 1.09136               | 0.00101725  |</pre>"
            ],
            "text/plain": [
              "| 22      | 12m 3s       | 2.32919           | 1.09136               | 0.00101725  |"
            ]
          },
          "metadata": {
            "tags": []
          }
        },
        {
          "output_type": "display_data",
          "data": {
            "text/html": [
              "<pre>| 23      | 12m 8s       | 2.32931           | 1.09148               | 0.00101725  |</pre>"
            ],
            "text/plain": [
              "| 23      | 12m 8s       | 2.32931           | 1.09148               | 0.00101725  |"
            ]
          },
          "metadata": {
            "tags": []
          }
        },
        {
          "output_type": "display_data",
          "data": {
            "text/html": [
              "<pre>| 24      | 12m 14s      | 2.3294            | 1.09155               | 0.00101725  |</pre>"
            ],
            "text/plain": [
              "| 24      | 12m 14s      | 2.3294            | 1.09155               | 0.00101725  |"
            ]
          },
          "metadata": {
            "tags": []
          }
        },
        {
          "output_type": "display_data",
          "data": {
            "text/html": [
              "<pre>| 25      | 12m 20s      | 2.32922           | 1.09157               | 0.00101725  |</pre>"
            ],
            "text/plain": [
              "| 25      | 12m 20s      | 2.32922           | 1.09157               | 0.00101725  |"
            ]
          },
          "metadata": {
            "tags": []
          }
        },
        {
          "output_type": "display_data",
          "data": {
            "text/html": [
              "<pre>| 26      | 12m 25s      | 2.32969           | 1.09172               | 0.00101725  |</pre>"
            ],
            "text/plain": [
              "| 26      | 12m 25s      | 2.32969           | 1.09172               | 0.00101725  |"
            ]
          },
          "metadata": {
            "tags": []
          }
        },
        {
          "output_type": "display_data",
          "data": {
            "text/html": [
              "<pre>| 27      | 12m 31s      | 2.32897           | 1.09163               | 0.00101725  |</pre>"
            ],
            "text/plain": [
              "| 27      | 12m 31s      | 2.32897           | 1.09163               | 0.00101725  |"
            ]
          },
          "metadata": {
            "tags": []
          }
        },
        {
          "output_type": "display_data",
          "data": {
            "text/html": [
              "<pre>| 28      | 12m 37s      | 2.32959           | 1.09179               | 0.00101725  |</pre>"
            ],
            "text/plain": [
              "| 28      | 12m 37s      | 2.32959           | 1.09179               | 0.00101725  |"
            ]
          },
          "metadata": {
            "tags": []
          }
        },
        {
          "output_type": "display_data",
          "data": {
            "text/html": [
              "<pre>| 29      | 12m 42s      | 2.3296            | 1.09184               | 0.00101725  |</pre>"
            ],
            "text/plain": [
              "| 29      | 12m 42s      | 2.3296            | 1.09184               | 0.00101725  |"
            ]
          },
          "metadata": {
            "tags": []
          }
        },
        {
          "output_type": "display_data",
          "data": {
            "text/html": [
              "<pre>| 30      | 12m 48s      | 2.32879           | 1.09173               | 0.00101725  |</pre>"
            ],
            "text/plain": [
              "| 30      | 12m 48s      | 2.32879           | 1.09173               | 0.00101725  |"
            ]
          },
          "metadata": {
            "tags": []
          }
        },
        {
          "output_type": "display_data",
          "data": {
            "text/html": [
              "<pre>| 31      | 12m 54s      | 2.32952           | 1.0919                | 0.00101725  |</pre>"
            ],
            "text/plain": [
              "| 31      | 12m 54s      | 2.32952           | 1.0919                | 0.00101725  |"
            ]
          },
          "metadata": {
            "tags": []
          }
        },
        {
          "output_type": "display_data",
          "data": {
            "text/html": [
              "<pre>| 32      | 12m 59s      | 2.32952           | 1.09193               | 0.00101725  |</pre>"
            ],
            "text/plain": [
              "| 32      | 12m 59s      | 2.32952           | 1.09193               | 0.00101725  |"
            ]
          },
          "metadata": {
            "tags": []
          }
        },
        {
          "output_type": "display_data",
          "data": {
            "text/html": [
              "<pre>| 33      | 13m 5s       | 2.32954           | 1.09196               | 0.00101725  |</pre>"
            ],
            "text/plain": [
              "| 33      | 13m 5s       | 2.32954           | 1.09196               | 0.00101725  |"
            ]
          },
          "metadata": {
            "tags": []
          }
        },
        {
          "output_type": "display_data",
          "data": {
            "text/html": [
              "<pre>| 34      | 13m 11s      | 2.3297            | 1.09202               | 0.00101725  |</pre>"
            ],
            "text/plain": [
              "| 34      | 13m 11s      | 2.3297            | 1.09202               | 0.00101725  |"
            ]
          },
          "metadata": {
            "tags": []
          }
        },
        {
          "output_type": "display_data",
          "data": {
            "text/html": [
              "<pre>| 35      | 13m 17s      | 2.32995           | 1.09208               | 0.00101725  |</pre>"
            ],
            "text/plain": [
              "| 35      | 13m 17s      | 2.32995           | 1.09208               | 0.00101725  |"
            ]
          },
          "metadata": {
            "tags": []
          }
        },
        {
          "output_type": "display_data",
          "data": {
            "text/html": [
              "<pre>| 36      | 13m 22s      | 2.32912           | 1.09198               | 0.00101725  |</pre>"
            ],
            "text/plain": [
              "| 36      | 13m 22s      | 2.32912           | 1.09198               | 0.00101725  |"
            ]
          },
          "metadata": {
            "tags": []
          }
        },
        {
          "output_type": "display_data",
          "data": {
            "text/html": [
              "<pre>| 37      | 13m 28s      | 2.33032           | 1.09219               | 0.00101725  |</pre>"
            ],
            "text/plain": [
              "| 37      | 13m 28s      | 2.33032           | 1.09219               | 0.00101725  |"
            ]
          },
          "metadata": {
            "tags": []
          }
        },
        {
          "output_type": "display_data",
          "data": {
            "text/html": [
              "<pre>| 38      | 13m 34s      | 2.3297            | 1.09212               | 0.00101725  |</pre>"
            ],
            "text/plain": [
              "| 38      | 13m 34s      | 2.3297            | 1.09212               | 0.00101725  |"
            ]
          },
          "metadata": {
            "tags": []
          }
        },
        {
          "output_type": "display_data",
          "data": {
            "text/html": [
              "<pre>| 39      | 13m 39s      | 2.33015           | 1.09221               | 0.00101725  |</pre>"
            ],
            "text/plain": [
              "| 39      | 13m 39s      | 2.33015           | 1.09221               | 0.00101725  |"
            ]
          },
          "metadata": {
            "tags": []
          }
        },
        {
          "output_type": "display_data",
          "data": {
            "text/html": [
              "<pre>| 40      | 13m 45s      | 2.32995           | 1.0922                | 0.00101725  |</pre>"
            ],
            "text/plain": [
              "| 40      | 13m 45s      | 2.32995           | 1.0922                | 0.00101725  |"
            ]
          },
          "metadata": {
            "tags": []
          }
        },
        {
          "output_type": "display_data",
          "data": {
            "text/html": [
              "<pre>| 41      | 13m 50s      | 2.32996           | 1.09223               | 0.00101725  |</pre>"
            ],
            "text/plain": [
              "| 41      | 13m 50s      | 2.32996           | 1.09223               | 0.00101725  |"
            ]
          },
          "metadata": {
            "tags": []
          }
        },
        {
          "output_type": "display_data",
          "data": {
            "text/html": [
              "<pre>| 42      | 13m 56s      | 2.32967           | 1.09219               | 0.00101725  |</pre>"
            ],
            "text/plain": [
              "| 42      | 13m 56s      | 2.32967           | 1.09219               | 0.00101725  |"
            ]
          },
          "metadata": {
            "tags": []
          }
        },
        {
          "output_type": "display_data",
          "data": {
            "text/html": [
              "<pre>| 43      | 14m 2s       | 2.32988           | 1.09224               | 0.00101725  |</pre>"
            ],
            "text/plain": [
              "| 43      | 14m 2s       | 2.32988           | 1.09224               | 0.00101725  |"
            ]
          },
          "metadata": {
            "tags": []
          }
        },
        {
          "output_type": "display_data",
          "data": {
            "text/html": [
              "<pre>| 44      | 14m 7s       | 2.32948           | 1.09221               | 0.00101725  |</pre>"
            ],
            "text/plain": [
              "| 44      | 14m 7s       | 2.32948           | 1.09221               | 0.00101725  |"
            ]
          },
          "metadata": {
            "tags": []
          }
        },
        {
          "output_type": "display_data",
          "data": {
            "text/html": [
              "<pre>| 45      | 14m 13s      | 2.33003           | 1.09228               | 0.00101725  |</pre>"
            ],
            "text/plain": [
              "| 45      | 14m 13s      | 2.33003           | 1.09228               | 0.00101725  |"
            ]
          },
          "metadata": {
            "tags": []
          }
        },
        {
          "output_type": "display_data",
          "data": {
            "text/html": [
              "<pre>| 46      | 14m 18s      | 2.33              | 1.09228               | 0.00101725  |</pre>"
            ],
            "text/plain": [
              "| 46      | 14m 18s      | 2.33              | 1.09228               | 0.00101725  |"
            ]
          },
          "metadata": {
            "tags": []
          }
        },
        {
          "output_type": "display_data",
          "data": {
            "text/html": [
              "<pre>| 47      | 14m 24s      | 2.33024           | 1.0923                | 0.00101725  |</pre>"
            ],
            "text/plain": [
              "| 47      | 14m 24s      | 2.33024           | 1.0923                | 0.00101725  |"
            ]
          },
          "metadata": {
            "tags": []
          }
        },
        {
          "output_type": "display_data",
          "data": {
            "text/html": [
              "<pre>| 48      | 14m 29s      | 2.32998           | 1.09227               | 0.00101725  |</pre>"
            ],
            "text/plain": [
              "| 48      | 14m 29s      | 2.32998           | 1.09227               | 0.00101725  |"
            ]
          },
          "metadata": {
            "tags": []
          }
        },
        {
          "output_type": "display_data",
          "data": {
            "text/html": [
              "<pre>| 49      | 14m 35s      | 2.32989           | 1.09226               | 0.00101725  |</pre>"
            ],
            "text/plain": [
              "| 49      | 14m 35s      | 2.32989           | 1.09226               | 0.00101725  |"
            ]
          },
          "metadata": {
            "tags": []
          }
        },
        {
          "output_type": "display_data",
          "data": {
            "text/html": [
              "<pre>| 50      | 14m 41s      | 2.32977           | 1.09225               | 0.00101725  |</pre>"
            ],
            "text/plain": [
              "| 50      | 14m 41s      | 2.32977           | 1.09225               | 0.00101725  |"
            ]
          },
          "metadata": {
            "tags": []
          }
        },
        {
          "output_type": "display_data",
          "data": {
            "text/html": [
              "<pre>+---------+--------------+-------------------+-----------------------+-------------+</pre>"
            ],
            "text/plain": [
              "+---------+--------------+-------------------+-----------------------+-------------+"
            ]
          },
          "metadata": {
            "tags": []
          }
        },
        {
          "output_type": "display_data",
          "data": {
            "text/html": [
              "<pre>Optimization Complete: Maximum number of passes through the data reached (hard limit).</pre>"
            ],
            "text/plain": [
              "Optimization Complete: Maximum number of passes through the data reached (hard limit)."
            ]
          },
          "metadata": {
            "tags": []
          }
        },
        {
          "output_type": "display_data",
          "data": {
            "text/html": [
              "<pre>Computing final objective value and training RMSE.</pre>"
            ],
            "text/plain": [
              "Computing final objective value and training RMSE."
            ]
          },
          "metadata": {
            "tags": []
          }
        },
        {
          "output_type": "display_data",
          "data": {
            "text/html": [
              "<pre>       Final objective value: 2.32956</pre>"
            ],
            "text/plain": [
              "       Final objective value: 2.32956"
            ]
          },
          "metadata": {
            "tags": []
          }
        },
        {
          "output_type": "display_data",
          "data": {
            "text/html": [
              "<pre>       Final training RMSE: 1.09217</pre>"
            ],
            "text/plain": [
              "       Final training RMSE: 1.09217"
            ]
          },
          "metadata": {
            "tags": []
          }
        }
      ]
    },
    {
      "cell_type": "code",
      "metadata": {
        "id": "xQy9Enp8SN_k",
        "colab_type": "code",
        "colab": {
          "base_uri": "https://localhost:8080/",
          "height": 1000
        },
        "outputId": "d36ed817-e653-4e8d-aa3f-1b8942c4645f"
      },
      "source": [
        "# with embedding only\n",
        "m1.evaluate_precision_recall(sf_train, cutoffs=[10, 20, 30, 40, 50], exclude_known=False)"
      ],
      "execution_count": null,
      "outputs": [
        {
          "output_type": "display_data",
          "data": {
            "text/html": [
              "<pre>recommendations finished on 1000/39387 queries. users per second: 44.5174</pre>"
            ],
            "text/plain": [
              "recommendations finished on 1000/39387 queries. users per second: 44.5174"
            ]
          },
          "metadata": {
            "tags": []
          }
        },
        {
          "output_type": "display_data",
          "data": {
            "text/html": [
              "<pre>recommendations finished on 2000/39387 queries. users per second: 44.5083</pre>"
            ],
            "text/plain": [
              "recommendations finished on 2000/39387 queries. users per second: 44.5083"
            ]
          },
          "metadata": {
            "tags": []
          }
        },
        {
          "output_type": "display_data",
          "data": {
            "text/html": [
              "<pre>recommendations finished on 3000/39387 queries. users per second: 44.619</pre>"
            ],
            "text/plain": [
              "recommendations finished on 3000/39387 queries. users per second: 44.619"
            ]
          },
          "metadata": {
            "tags": []
          }
        },
        {
          "output_type": "display_data",
          "data": {
            "text/html": [
              "<pre>recommendations finished on 4000/39387 queries. users per second: 44.8777</pre>"
            ],
            "text/plain": [
              "recommendations finished on 4000/39387 queries. users per second: 44.8777"
            ]
          },
          "metadata": {
            "tags": []
          }
        },
        {
          "output_type": "display_data",
          "data": {
            "text/html": [
              "<pre>recommendations finished on 5000/39387 queries. users per second: 45.047</pre>"
            ],
            "text/plain": [
              "recommendations finished on 5000/39387 queries. users per second: 45.047"
            ]
          },
          "metadata": {
            "tags": []
          }
        },
        {
          "output_type": "display_data",
          "data": {
            "text/html": [
              "<pre>recommendations finished on 6000/39387 queries. users per second: 45.0329</pre>"
            ],
            "text/plain": [
              "recommendations finished on 6000/39387 queries. users per second: 45.0329"
            ]
          },
          "metadata": {
            "tags": []
          }
        },
        {
          "output_type": "display_data",
          "data": {
            "text/html": [
              "<pre>recommendations finished on 7000/39387 queries. users per second: 45.1295</pre>"
            ],
            "text/plain": [
              "recommendations finished on 7000/39387 queries. users per second: 45.1295"
            ]
          },
          "metadata": {
            "tags": []
          }
        },
        {
          "output_type": "display_data",
          "data": {
            "text/html": [
              "<pre>recommendations finished on 8000/39387 queries. users per second: 45.212</pre>"
            ],
            "text/plain": [
              "recommendations finished on 8000/39387 queries. users per second: 45.212"
            ]
          },
          "metadata": {
            "tags": []
          }
        },
        {
          "output_type": "display_data",
          "data": {
            "text/html": [
              "<pre>recommendations finished on 9000/39387 queries. users per second: 45.29</pre>"
            ],
            "text/plain": [
              "recommendations finished on 9000/39387 queries. users per second: 45.29"
            ]
          },
          "metadata": {
            "tags": []
          }
        },
        {
          "output_type": "display_data",
          "data": {
            "text/html": [
              "<pre>recommendations finished on 10000/39387 queries. users per second: 45.3586</pre>"
            ],
            "text/plain": [
              "recommendations finished on 10000/39387 queries. users per second: 45.3586"
            ]
          },
          "metadata": {
            "tags": []
          }
        },
        {
          "output_type": "display_data",
          "data": {
            "text/html": [
              "<pre>recommendations finished on 11000/39387 queries. users per second: 45.5156</pre>"
            ],
            "text/plain": [
              "recommendations finished on 11000/39387 queries. users per second: 45.5156"
            ]
          },
          "metadata": {
            "tags": []
          }
        },
        {
          "output_type": "display_data",
          "data": {
            "text/html": [
              "<pre>recommendations finished on 12000/39387 queries. users per second: 45.6508</pre>"
            ],
            "text/plain": [
              "recommendations finished on 12000/39387 queries. users per second: 45.6508"
            ]
          },
          "metadata": {
            "tags": []
          }
        },
        {
          "output_type": "display_data",
          "data": {
            "text/html": [
              "<pre>recommendations finished on 13000/39387 queries. users per second: 45.7513</pre>"
            ],
            "text/plain": [
              "recommendations finished on 13000/39387 queries. users per second: 45.7513"
            ]
          },
          "metadata": {
            "tags": []
          }
        },
        {
          "output_type": "display_data",
          "data": {
            "text/html": [
              "<pre>recommendations finished on 14000/39387 queries. users per second: 45.8522</pre>"
            ],
            "text/plain": [
              "recommendations finished on 14000/39387 queries. users per second: 45.8522"
            ]
          },
          "metadata": {
            "tags": []
          }
        },
        {
          "output_type": "display_data",
          "data": {
            "text/html": [
              "<pre>recommendations finished on 15000/39387 queries. users per second: 45.97</pre>"
            ],
            "text/plain": [
              "recommendations finished on 15000/39387 queries. users per second: 45.97"
            ]
          },
          "metadata": {
            "tags": []
          }
        },
        {
          "output_type": "display_data",
          "data": {
            "text/html": [
              "<pre>recommendations finished on 16000/39387 queries. users per second: 46.0589</pre>"
            ],
            "text/plain": [
              "recommendations finished on 16000/39387 queries. users per second: 46.0589"
            ]
          },
          "metadata": {
            "tags": []
          }
        },
        {
          "output_type": "display_data",
          "data": {
            "text/html": [
              "<pre>recommendations finished on 17000/39387 queries. users per second: 46.1317</pre>"
            ],
            "text/plain": [
              "recommendations finished on 17000/39387 queries. users per second: 46.1317"
            ]
          },
          "metadata": {
            "tags": []
          }
        },
        {
          "output_type": "display_data",
          "data": {
            "text/html": [
              "<pre>recommendations finished on 18000/39387 queries. users per second: 46.2241</pre>"
            ],
            "text/plain": [
              "recommendations finished on 18000/39387 queries. users per second: 46.2241"
            ]
          },
          "metadata": {
            "tags": []
          }
        },
        {
          "output_type": "display_data",
          "data": {
            "text/html": [
              "<pre>recommendations finished on 19000/39387 queries. users per second: 46.3169</pre>"
            ],
            "text/plain": [
              "recommendations finished on 19000/39387 queries. users per second: 46.3169"
            ]
          },
          "metadata": {
            "tags": []
          }
        },
        {
          "output_type": "display_data",
          "data": {
            "text/html": [
              "<pre>recommendations finished on 20000/39387 queries. users per second: 46.3891</pre>"
            ],
            "text/plain": [
              "recommendations finished on 20000/39387 queries. users per second: 46.3891"
            ]
          },
          "metadata": {
            "tags": []
          }
        },
        {
          "output_type": "display_data",
          "data": {
            "text/html": [
              "<pre>recommendations finished on 21000/39387 queries. users per second: 46.4274</pre>"
            ],
            "text/plain": [
              "recommendations finished on 21000/39387 queries. users per second: 46.4274"
            ]
          },
          "metadata": {
            "tags": []
          }
        },
        {
          "output_type": "display_data",
          "data": {
            "text/html": [
              "<pre>recommendations finished on 22000/39387 queries. users per second: 46.4823</pre>"
            ],
            "text/plain": [
              "recommendations finished on 22000/39387 queries. users per second: 46.4823"
            ]
          },
          "metadata": {
            "tags": []
          }
        },
        {
          "output_type": "display_data",
          "data": {
            "text/html": [
              "<pre>recommendations finished on 23000/39387 queries. users per second: 46.5534</pre>"
            ],
            "text/plain": [
              "recommendations finished on 23000/39387 queries. users per second: 46.5534"
            ]
          },
          "metadata": {
            "tags": []
          }
        },
        {
          "output_type": "display_data",
          "data": {
            "text/html": [
              "<pre>recommendations finished on 24000/39387 queries. users per second: 46.6297</pre>"
            ],
            "text/plain": [
              "recommendations finished on 24000/39387 queries. users per second: 46.6297"
            ]
          },
          "metadata": {
            "tags": []
          }
        },
        {
          "output_type": "display_data",
          "data": {
            "text/html": [
              "<pre>recommendations finished on 25000/39387 queries. users per second: 46.6799</pre>"
            ],
            "text/plain": [
              "recommendations finished on 25000/39387 queries. users per second: 46.6799"
            ]
          },
          "metadata": {
            "tags": []
          }
        },
        {
          "output_type": "display_data",
          "data": {
            "text/html": [
              "<pre>recommendations finished on 26000/39387 queries. users per second: 46.7584</pre>"
            ],
            "text/plain": [
              "recommendations finished on 26000/39387 queries. users per second: 46.7584"
            ]
          },
          "metadata": {
            "tags": []
          }
        },
        {
          "output_type": "display_data",
          "data": {
            "text/html": [
              "<pre>recommendations finished on 27000/39387 queries. users per second: 46.8059</pre>"
            ],
            "text/plain": [
              "recommendations finished on 27000/39387 queries. users per second: 46.8059"
            ]
          },
          "metadata": {
            "tags": []
          }
        },
        {
          "output_type": "display_data",
          "data": {
            "text/html": [
              "<pre>recommendations finished on 28000/39387 queries. users per second: 46.8377</pre>"
            ],
            "text/plain": [
              "recommendations finished on 28000/39387 queries. users per second: 46.8377"
            ]
          },
          "metadata": {
            "tags": []
          }
        },
        {
          "output_type": "display_data",
          "data": {
            "text/html": [
              "<pre>recommendations finished on 29000/39387 queries. users per second: 46.8767</pre>"
            ],
            "text/plain": [
              "recommendations finished on 29000/39387 queries. users per second: 46.8767"
            ]
          },
          "metadata": {
            "tags": []
          }
        },
        {
          "output_type": "display_data",
          "data": {
            "text/html": [
              "<pre>recommendations finished on 30000/39387 queries. users per second: 46.9106</pre>"
            ],
            "text/plain": [
              "recommendations finished on 30000/39387 queries. users per second: 46.9106"
            ]
          },
          "metadata": {
            "tags": []
          }
        },
        {
          "output_type": "display_data",
          "data": {
            "text/html": [
              "<pre>recommendations finished on 31000/39387 queries. users per second: 46.9494</pre>"
            ],
            "text/plain": [
              "recommendations finished on 31000/39387 queries. users per second: 46.9494"
            ]
          },
          "metadata": {
            "tags": []
          }
        },
        {
          "output_type": "display_data",
          "data": {
            "text/html": [
              "<pre>recommendations finished on 32000/39387 queries. users per second: 46.9918</pre>"
            ],
            "text/plain": [
              "recommendations finished on 32000/39387 queries. users per second: 46.9918"
            ]
          },
          "metadata": {
            "tags": []
          }
        },
        {
          "output_type": "display_data",
          "data": {
            "text/html": [
              "<pre>recommendations finished on 33000/39387 queries. users per second: 47.0243</pre>"
            ],
            "text/plain": [
              "recommendations finished on 33000/39387 queries. users per second: 47.0243"
            ]
          },
          "metadata": {
            "tags": []
          }
        },
        {
          "output_type": "display_data",
          "data": {
            "text/html": [
              "<pre>recommendations finished on 34000/39387 queries. users per second: 47.0594</pre>"
            ],
            "text/plain": [
              "recommendations finished on 34000/39387 queries. users per second: 47.0594"
            ]
          },
          "metadata": {
            "tags": []
          }
        },
        {
          "output_type": "display_data",
          "data": {
            "text/html": [
              "<pre>recommendations finished on 35000/39387 queries. users per second: 47.0758</pre>"
            ],
            "text/plain": [
              "recommendations finished on 35000/39387 queries. users per second: 47.0758"
            ]
          },
          "metadata": {
            "tags": []
          }
        },
        {
          "output_type": "display_data",
          "data": {
            "text/html": [
              "<pre>recommendations finished on 36000/39387 queries. users per second: 47.1002</pre>"
            ],
            "text/plain": [
              "recommendations finished on 36000/39387 queries. users per second: 47.1002"
            ]
          },
          "metadata": {
            "tags": []
          }
        },
        {
          "output_type": "display_data",
          "data": {
            "text/html": [
              "<pre>recommendations finished on 37000/39387 queries. users per second: 47.1293</pre>"
            ],
            "text/plain": [
              "recommendations finished on 37000/39387 queries. users per second: 47.1293"
            ]
          },
          "metadata": {
            "tags": []
          }
        },
        {
          "output_type": "display_data",
          "data": {
            "text/html": [
              "<pre>recommendations finished on 38000/39387 queries. users per second: 47.1611</pre>"
            ],
            "text/plain": [
              "recommendations finished on 38000/39387 queries. users per second: 47.1611"
            ]
          },
          "metadata": {
            "tags": []
          }
        },
        {
          "output_type": "display_data",
          "data": {
            "text/html": [
              "<pre>recommendations finished on 39000/39387 queries. users per second: 47.19</pre>"
            ],
            "text/plain": [
              "recommendations finished on 39000/39387 queries. users per second: 47.19"
            ]
          },
          "metadata": {
            "tags": []
          }
        },
        {
          "output_type": "execute_result",
          "data": {
            "text/plain": [
              "{'precision_recall_by_user': Columns:\n",
              " \tuser_id\tstr\n",
              " \tcutoff\tint\n",
              " \tprecision\tfloat\n",
              " \trecall\tfloat\n",
              " \tcount\tint\n",
              " \n",
              " Rows: 196935\n",
              " \n",
              " Data:\n",
              " +----------------+--------+-----------+--------+-------+\n",
              " |    user_id     | cutoff | precision | recall | count |\n",
              " +----------------+--------+-----------+--------+-------+\n",
              " | A1KLRMWW2FWPL4 |   10   |    0.0    |  0.0   |   7   |\n",
              " | A1KLRMWW2FWPL4 |   20   |    0.0    |  0.0   |   7   |\n",
              " | A1KLRMWW2FWPL4 |   30   |    0.0    |  0.0   |   7   |\n",
              " | A1KLRMWW2FWPL4 |   40   |    0.0    |  0.0   |   7   |\n",
              " | A1KLRMWW2FWPL4 |   50   |    0.0    |  0.0   |   7   |\n",
              " | A2G5TCU2WDFZ65 |   10   |    0.0    |  0.0   |   10  |\n",
              " | A2G5TCU2WDFZ65 |   20   |    0.0    |  0.0   |   10  |\n",
              " | A2G5TCU2WDFZ65 |   30   |    0.0    |  0.0   |   10  |\n",
              " | A2G5TCU2WDFZ65 |   40   |    0.0    |  0.0   |   10  |\n",
              " | A2G5TCU2WDFZ65 |   50   |    0.0    |  0.0   |   10  |\n",
              " +----------------+--------+-----------+--------+-------+\n",
              " [196935 rows x 5 columns]\n",
              " Note: Only the head of the SFrame is printed.\n",
              " You can use print_rows(num_rows=m, num_columns=n) to print more rows and columns.,\n",
              " 'precision_recall_overall': Columns:\n",
              " \tcutoff\tint\n",
              " \tprecision\tfloat\n",
              " \trecall\tfloat\n",
              " \n",
              " Rows: 5\n",
              " \n",
              " Data:\n",
              " +--------+-----------------------+----------------------+\n",
              " | cutoff |       precision       |        recall        |\n",
              " +--------+-----------------------+----------------------+\n",
              " |   10   |  0.003709345723208142 | 0.005385395316148465 |\n",
              " |   20   | 0.0033881737629166664 | 0.009930079752239753 |\n",
              " |   30   |  0.00300352908320001  | 0.013197535796307294 |\n",
              " |   40   | 0.0026823571229085894 | 0.015712885217921822 |\n",
              " |   50   |  0.002498286236575533 | 0.018247943592789494 |\n",
              " +--------+-----------------------+----------------------+\n",
              " [5 rows x 3 columns]}"
            ]
          },
          "metadata": {
            "tags": []
          },
          "execution_count": 108
        }
      ]
    }
  ]
}