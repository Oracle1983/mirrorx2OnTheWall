{
  "nbformat": 4,
  "nbformat_minor": 0,
  "metadata": {
    "colab": {
      "name": "turicreate final.ipynb",
      "provenance": [],
      "collapsed_sections": [],
      "toc_visible": true
    },
    "kernelspec": {
      "name": "python3",
      "display_name": "Python 3"
    }
  },
  "cells": [
    {
      "cell_type": "code",
      "metadata": {
        "id": "o4ataPO58eWi",
        "colab_type": "code",
        "colab": {
          "base_uri": "https://localhost:8080/",
          "height": 1000
        },
        "outputId": "9a7e7a72-13fd-4f9c-e026-fb4f8602b11a"
      },
      "source": [
        "!pip install turicreate"
      ],
      "execution_count": null,
      "outputs": [
        {
          "output_type": "stream",
          "text": [
            "Collecting turicreate\n",
            "\u001b[?25l  Downloading https://files.pythonhosted.org/packages/e4/76/76c624d7ae1116b22cd559288596a1f9aa7a50f8f43f4481033fc047f5e9/turicreate-6.3-cp36-cp36m-manylinux1_x86_64.whl (91.9MB)\n",
            "\u001b[K     |████████████████████████████████| 91.9MB 89kB/s \n",
            "\u001b[?25hRequirement already satisfied: prettytable==0.7.2 in /usr/local/lib/python3.6/dist-packages (from turicreate) (0.7.2)\n",
            "Requirement already satisfied: numpy in /usr/local/lib/python3.6/dist-packages (from turicreate) (1.18.5)\n",
            "Collecting coremltools==3.3\n",
            "\u001b[?25l  Downloading https://files.pythonhosted.org/packages/77/19/611916d1ef326d38857d93af5ba184f6ad7491642e0fa4f9082e7d82f034/coremltools-3.3-cp36-none-manylinux1_x86_64.whl (3.4MB)\n",
            "\u001b[K     |████████████████████████████████| 3.4MB 40.9MB/s \n",
            "\u001b[?25hRequirement already satisfied: pandas>=0.23.2 in /usr/local/lib/python3.6/dist-packages (from turicreate) (1.0.5)\n",
            "Requirement already satisfied: decorator>=4.0.9 in /usr/local/lib/python3.6/dist-packages (from turicreate) (4.4.2)\n",
            "Requirement already satisfied: pillow>=5.2.0 in /usr/local/lib/python3.6/dist-packages (from turicreate) (7.0.0)\n",
            "Requirement already satisfied: scipy>=1.1.0 in /usr/local/lib/python3.6/dist-packages (from turicreate) (1.4.1)\n",
            "Collecting tensorflow<=2.0.1,>=2.0.0\n",
            "\u001b[?25l  Downloading https://files.pythonhosted.org/packages/43/16/b07e3f7a4a024b47918f7018967eb984b0c542458a6141d8c48515aa81d4/tensorflow-2.0.1-cp36-cp36m-manylinux2010_x86_64.whl (86.3MB)\n",
            "\u001b[K     |████████████████████████████████| 86.3MB 50kB/s \n",
            "\u001b[?25hRequirement already satisfied: six>=1.10.0 in /usr/local/lib/python3.6/dist-packages (from turicreate) (1.15.0)\n",
            "Collecting resampy==0.2.1\n",
            "\u001b[?25l  Downloading https://files.pythonhosted.org/packages/14/b6/66a06d85474190b50aee1a6c09cdc95bb405ac47338b27e9b21409da1760/resampy-0.2.1.tar.gz (322kB)\n",
            "\u001b[K     |████████████████████████████████| 327kB 38.8MB/s \n",
            "\u001b[?25hRequirement already satisfied: requests>=2.9.1 in /usr/local/lib/python3.6/dist-packages (from turicreate) (2.23.0)\n",
            "Requirement already satisfied: protobuf>=3.1.0 in /usr/local/lib/python3.6/dist-packages (from coremltools==3.3->turicreate) (3.12.2)\n",
            "Requirement already satisfied: python-dateutil>=2.6.1 in /usr/local/lib/python3.6/dist-packages (from pandas>=0.23.2->turicreate) (2.8.1)\n",
            "Requirement already satisfied: pytz>=2017.2 in /usr/local/lib/python3.6/dist-packages (from pandas>=0.23.2->turicreate) (2018.9)\n",
            "Collecting tensorflow-estimator<2.1.0,>=2.0.0\n",
            "\u001b[?25l  Downloading https://files.pythonhosted.org/packages/fc/08/8b927337b7019c374719145d1dceba21a8bb909b93b1ad6f8fb7d22c1ca1/tensorflow_estimator-2.0.1-py2.py3-none-any.whl (449kB)\n",
            "\u001b[K     |████████████████████████████████| 450kB 38.6MB/s \n",
            "\u001b[?25hRequirement already satisfied: astor>=0.6.0 in /usr/local/lib/python3.6/dist-packages (from tensorflow<=2.0.1,>=2.0.0->turicreate) (0.8.1)\n",
            "Requirement already satisfied: google-pasta>=0.1.6 in /usr/local/lib/python3.6/dist-packages (from tensorflow<=2.0.1,>=2.0.0->turicreate) (0.2.0)\n",
            "Requirement already satisfied: wheel>=0.26; python_version >= \"3\" in /usr/local/lib/python3.6/dist-packages (from tensorflow<=2.0.1,>=2.0.0->turicreate) (0.34.2)\n",
            "Requirement already satisfied: keras-applications>=1.0.8 in /usr/local/lib/python3.6/dist-packages (from tensorflow<=2.0.1,>=2.0.0->turicreate) (1.0.8)\n",
            "Requirement already satisfied: termcolor>=1.1.0 in /usr/local/lib/python3.6/dist-packages (from tensorflow<=2.0.1,>=2.0.0->turicreate) (1.1.0)\n",
            "Requirement already satisfied: grpcio>=1.8.6 in /usr/local/lib/python3.6/dist-packages (from tensorflow<=2.0.1,>=2.0.0->turicreate) (1.30.0)\n",
            "Requirement already satisfied: wrapt>=1.11.1 in /usr/local/lib/python3.6/dist-packages (from tensorflow<=2.0.1,>=2.0.0->turicreate) (1.12.1)\n",
            "Collecting gast==0.2.2\n",
            "  Downloading https://files.pythonhosted.org/packages/4e/35/11749bf99b2d4e3cceb4d55ca22590b0d7c2c62b9de38ac4a4a7f4687421/gast-0.2.2.tar.gz\n",
            "Collecting tensorboard<2.1.0,>=2.0.0\n",
            "\u001b[?25l  Downloading https://files.pythonhosted.org/packages/76/54/99b9d5d52d5cb732f099baaaf7740403e83fe6b0cedde940fabd2b13d75a/tensorboard-2.0.2-py3-none-any.whl (3.8MB)\n",
            "\u001b[K     |████████████████████████████████| 3.8MB 41.4MB/s \n",
            "\u001b[?25hRequirement already satisfied: keras-preprocessing>=1.0.5 in /usr/local/lib/python3.6/dist-packages (from tensorflow<=2.0.1,>=2.0.0->turicreate) (1.1.2)\n",
            "Requirement already satisfied: opt-einsum>=2.3.2 in /usr/local/lib/python3.6/dist-packages (from tensorflow<=2.0.1,>=2.0.0->turicreate) (3.2.1)\n",
            "Requirement already satisfied: absl-py>=0.7.0 in /usr/local/lib/python3.6/dist-packages (from tensorflow<=2.0.1,>=2.0.0->turicreate) (0.9.0)\n",
            "Requirement already satisfied: numba>=0.32 in /usr/local/lib/python3.6/dist-packages (from resampy==0.2.1->turicreate) (0.48.0)\n",
            "Requirement already satisfied: chardet<4,>=3.0.2 in /usr/local/lib/python3.6/dist-packages (from requests>=2.9.1->turicreate) (3.0.4)\n",
            "Requirement already satisfied: idna<3,>=2.5 in /usr/local/lib/python3.6/dist-packages (from requests>=2.9.1->turicreate) (2.10)\n",
            "Requirement already satisfied: certifi>=2017.4.17 in /usr/local/lib/python3.6/dist-packages (from requests>=2.9.1->turicreate) (2020.6.20)\n",
            "Requirement already satisfied: urllib3!=1.25.0,!=1.25.1,<1.26,>=1.21.1 in /usr/local/lib/python3.6/dist-packages (from requests>=2.9.1->turicreate) (1.24.3)\n",
            "Requirement already satisfied: setuptools in /usr/local/lib/python3.6/dist-packages (from protobuf>=3.1.0->coremltools==3.3->turicreate) (49.1.0)\n",
            "Requirement already satisfied: h5py in /usr/local/lib/python3.6/dist-packages (from keras-applications>=1.0.8->tensorflow<=2.0.1,>=2.0.0->turicreate) (2.10.0)\n",
            "Requirement already satisfied: google-auth-oauthlib<0.5,>=0.4.1 in /usr/local/lib/python3.6/dist-packages (from tensorboard<2.1.0,>=2.0.0->tensorflow<=2.0.1,>=2.0.0->turicreate) (0.4.1)\n",
            "Requirement already satisfied: markdown>=2.6.8 in /usr/local/lib/python3.6/dist-packages (from tensorboard<2.1.0,>=2.0.0->tensorflow<=2.0.1,>=2.0.0->turicreate) (3.2.2)\n",
            "Requirement already satisfied: werkzeug>=0.11.15 in /usr/local/lib/python3.6/dist-packages (from tensorboard<2.1.0,>=2.0.0->tensorflow<=2.0.1,>=2.0.0->turicreate) (1.0.1)\n",
            "Requirement already satisfied: google-auth<2,>=1.6.3 in /usr/local/lib/python3.6/dist-packages (from tensorboard<2.1.0,>=2.0.0->tensorflow<=2.0.1,>=2.0.0->turicreate) (1.17.2)\n",
            "Requirement already satisfied: llvmlite<0.32.0,>=0.31.0dev0 in /usr/local/lib/python3.6/dist-packages (from numba>=0.32->resampy==0.2.1->turicreate) (0.31.0)\n",
            "Requirement already satisfied: requests-oauthlib>=0.7.0 in /usr/local/lib/python3.6/dist-packages (from google-auth-oauthlib<0.5,>=0.4.1->tensorboard<2.1.0,>=2.0.0->tensorflow<=2.0.1,>=2.0.0->turicreate) (1.3.0)\n",
            "Requirement already satisfied: importlib-metadata; python_version < \"3.8\" in /usr/local/lib/python3.6/dist-packages (from markdown>=2.6.8->tensorboard<2.1.0,>=2.0.0->tensorflow<=2.0.1,>=2.0.0->turicreate) (1.7.0)\n",
            "Requirement already satisfied: rsa<5,>=3.1.4; python_version >= \"3\" in /usr/local/lib/python3.6/dist-packages (from google-auth<2,>=1.6.3->tensorboard<2.1.0,>=2.0.0->tensorflow<=2.0.1,>=2.0.0->turicreate) (4.6)\n",
            "Requirement already satisfied: cachetools<5.0,>=2.0.0 in /usr/local/lib/python3.6/dist-packages (from google-auth<2,>=1.6.3->tensorboard<2.1.0,>=2.0.0->tensorflow<=2.0.1,>=2.0.0->turicreate) (4.1.1)\n",
            "Requirement already satisfied: pyasn1-modules>=0.2.1 in /usr/local/lib/python3.6/dist-packages (from google-auth<2,>=1.6.3->tensorboard<2.1.0,>=2.0.0->tensorflow<=2.0.1,>=2.0.0->turicreate) (0.2.8)\n",
            "Requirement already satisfied: oauthlib>=3.0.0 in /usr/local/lib/python3.6/dist-packages (from requests-oauthlib>=0.7.0->google-auth-oauthlib<0.5,>=0.4.1->tensorboard<2.1.0,>=2.0.0->tensorflow<=2.0.1,>=2.0.0->turicreate) (3.1.0)\n",
            "Requirement already satisfied: zipp>=0.5 in /usr/local/lib/python3.6/dist-packages (from importlib-metadata; python_version < \"3.8\"->markdown>=2.6.8->tensorboard<2.1.0,>=2.0.0->tensorflow<=2.0.1,>=2.0.0->turicreate) (3.1.0)\n",
            "Requirement already satisfied: pyasn1>=0.1.3 in /usr/local/lib/python3.6/dist-packages (from rsa<5,>=3.1.4; python_version >= \"3\"->google-auth<2,>=1.6.3->tensorboard<2.1.0,>=2.0.0->tensorflow<=2.0.1,>=2.0.0->turicreate) (0.4.8)\n",
            "Building wheels for collected packages: resampy, gast\n",
            "  Building wheel for resampy (setup.py) ... \u001b[?25l\u001b[?25hdone\n",
            "  Created wheel for resampy: filename=resampy-0.2.1-cp36-none-any.whl size=320850 sha256=a6f204bbfc2e4aa0e2d9c7583b70bb7276cc76749ef2349749486441bedc7cd3\n",
            "  Stored in directory: /root/.cache/pip/wheels/ff/4f/ed/2e6c676c23efe5394bb40ade50662e90eb46e29b48324c5f9b\n",
            "  Building wheel for gast (setup.py) ... \u001b[?25l\u001b[?25hdone\n",
            "  Created wheel for gast: filename=gast-0.2.2-cp36-none-any.whl size=7540 sha256=ce3cc6f438a7fb34a87e3073c140397e31af5c480be2fb62db68ef4304a87bf4\n",
            "  Stored in directory: /root/.cache/pip/wheels/5c/2e/7e/a1d4d4fcebe6c381f378ce7743a3ced3699feb89bcfbdadadd\n",
            "Successfully built resampy gast\n",
            "\u001b[31mERROR: tensorflow-probability 0.10.0 has requirement gast>=0.3.2, but you'll have gast 0.2.2 which is incompatible.\u001b[0m\n",
            "Installing collected packages: coremltools, tensorflow-estimator, gast, tensorboard, tensorflow, resampy, turicreate\n",
            "  Found existing installation: tensorflow-estimator 2.2.0\n",
            "    Uninstalling tensorflow-estimator-2.2.0:\n",
            "      Successfully uninstalled tensorflow-estimator-2.2.0\n",
            "  Found existing installation: gast 0.3.3\n",
            "    Uninstalling gast-0.3.3:\n",
            "      Successfully uninstalled gast-0.3.3\n",
            "  Found existing installation: tensorboard 2.2.2\n",
            "    Uninstalling tensorboard-2.2.2:\n",
            "      Successfully uninstalled tensorboard-2.2.2\n",
            "  Found existing installation: tensorflow 2.2.0\n",
            "    Uninstalling tensorflow-2.2.0:\n",
            "      Successfully uninstalled tensorflow-2.2.0\n",
            "  Found existing installation: resampy 0.2.2\n",
            "    Uninstalling resampy-0.2.2:\n",
            "      Successfully uninstalled resampy-0.2.2\n",
            "Successfully installed coremltools-3.3 gast-0.2.2 resampy-0.2.1 tensorboard-2.0.2 tensorflow-2.0.1 tensorflow-estimator-2.0.1 turicreate-6.3\n"
          ],
          "name": "stdout"
        }
      ]
    },
    {
      "cell_type": "code",
      "metadata": {
        "id": "ZT1Ciig58TVb",
        "colab_type": "code",
        "colab": {}
      },
      "source": [
        "import pandas as pd\n",
        "import turicreate as tc\n",
        "from turicreate import SFrame, SArray\n",
        "from turicreate import ranking_factorization_recommender\n",
        "import numpy as np\n",
        "from sklearn.decomposition import *"
      ],
      "execution_count": null,
      "outputs": []
    },
    {
      "cell_type": "code",
      "metadata": {
        "id": "zVClpQup4NyE",
        "colab_type": "code",
        "colab": {
          "base_uri": "https://localhost:8080/",
          "height": 35
        },
        "outputId": "98897939-b2a9-4211-caf6-adbb33539963"
      },
      "source": [
        "%cd \"/content/drive/My Drive/Recommender Systems/Data\""
      ],
      "execution_count": null,
      "outputs": [
        {
          "output_type": "stream",
          "text": [
            "/content/drive/My Drive/Recommender Systems/Data\n"
          ],
          "name": "stdout"
        }
      ]
    },
    {
      "cell_type": "markdown",
      "metadata": {
        "id": "8P94ZPBA3x2j",
        "colab_type": "text"
      },
      "source": [
        "## Preprocessing"
      ]
    },
    {
      "cell_type": "code",
      "metadata": {
        "id": "fMlsk7658UqB",
        "colab_type": "code",
        "colab": {}
      },
      "source": [
        "df = pd.read_pickle(\"final_dataset_merged_S2V.pkl\")\n",
        "tags = pd.read_csv(\"occasion_tags.csv\")"
      ],
      "execution_count": null,
      "outputs": []
    },
    {
      "cell_type": "code",
      "metadata": {
        "id": "3dwhI_Yv8Wgh",
        "colab_type": "code",
        "colab": {}
      },
      "source": [
        "def transform_cat(x):\n",
        "  y = x.strip(\"['\").strip(\"]'\").split(\"', '\")\n",
        "  # print(x)\n",
        "  y.remove(\"Clothing\")\n",
        "  y.remove(\"Shoes & Jewelry\")\n",
        "  return y"
      ],
      "execution_count": null,
      "outputs": []
    },
    {
      "cell_type": "code",
      "metadata": {
        "id": "iGl-w9r48X9T",
        "colab_type": "code",
        "colab": {}
      },
      "source": [
        "df[\"categories\"] = df[\"categories\"].apply(transform_cat)\n",
        "tags = tags.rename(columns={\"Unnamed: 0\": \"item_id\"})"
      ],
      "execution_count": null,
      "outputs": []
    },
    {
      "cell_type": "code",
      "metadata": {
        "id": "JtzLmLyY8bNZ",
        "colab_type": "code",
        "colab": {}
      },
      "source": [
        "df = pd.merge(df, tags, how=\"left\", on=\"item_id\")"
      ],
      "execution_count": null,
      "outputs": []
    },
    {
      "cell_type": "markdown",
      "metadata": {
        "id": "yfZ1vQvu8no6",
        "colab_type": "text"
      },
      "source": [
        "## PCA"
      ]
    },
    {
      "cell_type": "code",
      "metadata": {
        "id": "A9n8_qGdI0uK",
        "colab_type": "code",
        "colab": {}
      },
      "source": [
        "records = df[[\"embedding\", \"item_id\"]].to_records(index=False)"
      ],
      "execution_count": null,
      "outputs": []
    },
    {
      "cell_type": "code",
      "metadata": {
        "id": "BASyv1YBJz96",
        "colab_type": "code",
        "colab": {
          "base_uri": "https://localhost:8080/",
          "height": 35
        },
        "outputId": "1db57899-4fbc-49ff-e6c6-2ce8720f3375"
      },
      "source": [
        "# e stores 2048 embeddings and i_id stores the item_ids from all the interactions\n",
        "e = []\n",
        "i_id = []\n",
        "\n",
        "# this is to remove duplicated item_ids and pairings. \n",
        "# there are 23033 items in total\n",
        "for i in records:\n",
        "  if i[1] not in i_id:\n",
        "    i_id.append(i[1])\n",
        "    e.append(np.array(i[0]))\n",
        "\n",
        "e = np.array(e)\n",
        "print(f\"There are {len(e)} items and each item has {len(e[0])} embeddings\")"
      ],
      "execution_count": null,
      "outputs": [
        {
          "output_type": "stream",
          "text": [
            "There are 23033 items and each item has 2048 embeddings\n"
          ],
          "name": "stdout"
        }
      ]
    },
    {
      "cell_type": "code",
      "metadata": {
        "id": "Dt3gZ96RcYBV",
        "colab_type": "code",
        "colab": {}
      },
      "source": [
        "pca1 = KernelPCA(n_components=200, kernel=\"cosine\")\n",
        "e3 = pca1.fit_transform(e)\n",
        "\n",
        "# temp would store all the 200 embeddings of each item in a dictionary format\n",
        "temp = []\n",
        "for i in e3:\n",
        "  d = {}\n",
        "  for x in range(len(i)):\n",
        "    d[x] = i[x]\n",
        "  temp.append(d)"
      ],
      "execution_count": null,
      "outputs": []
    },
    {
      "cell_type": "markdown",
      "metadata": {
        "id": "n7FQr0xm9d1d",
        "colab_type": "text"
      },
      "source": [
        "# Ranking Factorisation Machine"
      ]
    },
    {
      "cell_type": "code",
      "metadata": {
        "id": "rFpH_yIY-jcG",
        "colab_type": "code",
        "colab": {}
      },
      "source": [
        "df[\"price\"] = df[\"price\"].fillna(0)\n",
        "df[\"title\"] = df[\"title\"].fillna(\"missing\")\n",
        "df[\"brand\"] = df[\"brand\"].fillna(\"missing\")\n",
        "df[\"occasion_tag\"] = df[\"occasion_tag\"].fillna(\"missing\")"
      ],
      "execution_count": null,
      "outputs": []
    },
    {
      "cell_type": "markdown",
      "metadata": {
        "id": "D1-319as9o5j",
        "colab_type": "text"
      },
      "source": [
        "## Main Model (with Style2Vec Embeddings + Occasion & Mood"
      ]
    },
    {
      "cell_type": "code",
      "metadata": {
        "id": "i5Ljqt12-P-W",
        "colab_type": "code",
        "colab": {}
      },
      "source": [
        "# interactions to sframe\n",
        "user_id = SArray(df.user_id.tolist())\n",
        "item_id = SArray(df.item_id.tolist())\n",
        "label = SArray(df.rating.tolist())\n",
        "occasion_tag = SArray(df.occasion_tag.tolist())"
      ],
      "execution_count": null,
      "outputs": []
    },
    {
      "cell_type": "code",
      "metadata": {
        "id": "-bC6pFmP-SSO",
        "colab_type": "code",
        "colab": {}
      },
      "source": [
        "sf_w_occasion = SFrame({'user_id':user_id,'item_id':item_id, 'rating': label, \n",
        "                        'occasion_tag': occasion_tag})"
      ],
      "execution_count": null,
      "outputs": []
    },
    {
      "cell_type": "code",
      "metadata": {
        "id": "ue0u6MbL9NUS",
        "colab_type": "code",
        "colab": {}
      },
      "source": [
        "item_dict = {'item_id': i_id, \"embed\": SArray(temp)}\n",
        "item_sf = SFrame(item_dict)"
      ],
      "execution_count": null,
      "outputs": []
    },
    {
      "cell_type": "code",
      "metadata": {
        "id": "UCkpL9hPjcGx",
        "colab_type": "code",
        "colab": {
          "base_uri": "https://localhost:8080/",
          "height": 449
        },
        "outputId": "88df882a-115c-40ad-bfcb-39c559f27e94"
      },
      "source": [
        "item_sf"
      ],
      "execution_count": null,
      "outputs": [
        {
          "output_type": "execute_result",
          "data": {
            "text/html": [
              "<div style=\"max-height:1000px;max-width:1500px;overflow:auto;\"><table frame=\"box\" rules=\"cols\">\n",
              "    <tr>\n",
              "        <th style=\"padding-left: 1em; padding-right: 1em; text-align: center\">item_id</th>\n",
              "        <th style=\"padding-left: 1em; padding-right: 1em; text-align: center\">embed</th>\n",
              "    </tr>\n",
              "    <tr>\n",
              "        <td style=\"padding-left: 1em; padding-right: 1em; text-align: center; vertical-align: top\">0000031887</td>\n",
              "        <td style=\"padding-left: 1em; padding-right: 1em; text-align: center; vertical-align: top\">{0: -0.41994696855545044,<br>1: 0.035373806953430176, ...</td>\n",
              "    </tr>\n",
              "    <tr>\n",
              "        <td style=\"padding-left: 1em; padding-right: 1em; text-align: center; vertical-align: top\">0123456479</td>\n",
              "        <td style=\"padding-left: 1em; padding-right: 1em; text-align: center; vertical-align: top\">{0: -0.2087264508008957,<br>1: -0.04172654449939728, ...</td>\n",
              "    </tr>\n",
              "    <tr>\n",
              "        <td style=\"padding-left: 1em; padding-right: 1em; text-align: center; vertical-align: top\">1608299953</td>\n",
              "        <td style=\"padding-left: 1em; padding-right: 1em; text-align: center; vertical-align: top\">{0: 0.4019678831100464,<br>1: 0.6715244054794312 ...</td>\n",
              "    </tr>\n",
              "    <tr>\n",
              "        <td style=\"padding-left: 1em; padding-right: 1em; text-align: center; vertical-align: top\">1617160377</td>\n",
              "        <td style=\"padding-left: 1em; padding-right: 1em; text-align: center; vertical-align: top\">{0: 0.40174588561058044,<br>1: 0.6386615633964539 ...</td>\n",
              "    </tr>\n",
              "    <tr>\n",
              "        <td style=\"padding-left: 1em; padding-right: 1em; text-align: center; vertical-align: top\">B00001W0KA</td>\n",
              "        <td style=\"padding-left: 1em; padding-right: 1em; text-align: center; vertical-align: top\">{0: -0.29907581210136414,<br>1: -0.03397293761372566, ...</td>\n",
              "    </tr>\n",
              "    <tr>\n",
              "        <td style=\"padding-left: 1em; padding-right: 1em; text-align: center; vertical-align: top\">B00001WRHJ</td>\n",
              "        <td style=\"padding-left: 1em; padding-right: 1em; text-align: center; vertical-align: top\">{0: -0.370714396238327,<br>1: -0.005181174725294 ...</td>\n",
              "    </tr>\n",
              "    <tr>\n",
              "        <td style=\"padding-left: 1em; padding-right: 1em; text-align: center; vertical-align: top\">B00004SR8W</td>\n",
              "        <td style=\"padding-left: 1em; padding-right: 1em; text-align: center; vertical-align: top\">{0: 0.22734412550926208,<br>1: 0.22161072492599487, ...</td>\n",
              "    </tr>\n",
              "    <tr>\n",
              "        <td style=\"padding-left: 1em; padding-right: 1em; text-align: center; vertical-align: top\">B00004SR8Z</td>\n",
              "        <td style=\"padding-left: 1em; padding-right: 1em; text-align: center; vertical-align: top\">{0: -0.330423504114151,<br>1: -0.05777539312839508, ...</td>\n",
              "    </tr>\n",
              "    <tr>\n",
              "        <td style=\"padding-left: 1em; padding-right: 1em; text-align: center; vertical-align: top\">B00004SR9P</td>\n",
              "        <td style=\"padding-left: 1em; padding-right: 1em; text-align: center; vertical-align: top\">{0: -0.1753242015838623,<br>1: -0.1168707087635994, ...</td>\n",
              "    </tr>\n",
              "    <tr>\n",
              "        <td style=\"padding-left: 1em; padding-right: 1em; text-align: center; vertical-align: top\">B00004U1J2</td>\n",
              "        <td style=\"padding-left: 1em; padding-right: 1em; text-align: center; vertical-align: top\">{0: 0.048044417053461075,<br>1: -0.20292368531227112, ...</td>\n",
              "    </tr>\n",
              "</table>\n",
              "[23033 rows x 2 columns]<br/>Note: Only the head of the SFrame is printed.<br/>You can use print_rows(num_rows=m, num_columns=n) to print more rows and columns.\n",
              "</div>"
            ],
            "text/plain": [
              "Columns:\n",
              "\titem_id\tstr\n",
              "\tembed\tdict\n",
              "\n",
              "Rows: 23033\n",
              "\n",
              "Data:\n",
              "+------------+-------------------------------+\n",
              "|  item_id   |             embed             |\n",
              "+------------+-------------------------------+\n",
              "| 0000031887 | {0: -0.41994696855545044, ... |\n",
              "| 0123456479 | {0: -0.2087264508008957, 1... |\n",
              "| 1608299953 | {0: 0.4019678831100464, 1:... |\n",
              "| 1617160377 | {0: 0.40174588561058044, 1... |\n",
              "| B00001W0KA | {0: -0.29907581210136414, ... |\n",
              "| B00001WRHJ | {0: -0.370714396238327, 1:... |\n",
              "| B00004SR8W | {0: 0.22734412550926208, 1... |\n",
              "| B00004SR8Z | {0: -0.330423504114151, 1:... |\n",
              "| B00004SR9P | {0: -0.1753242015838623, 1... |\n",
              "| B00004U1J2 | {0: 0.048044417053461075, ... |\n",
              "+------------+-------------------------------+\n",
              "[23033 rows x 2 columns]\n",
              "Note: Only the head of the SFrame is printed.\n",
              "You can use print_rows(num_rows=m, num_columns=n) to print more rows and columns."
            ]
          },
          "metadata": {
            "tags": []
          },
          "execution_count": 17
        }
      ]
    },
    {
      "cell_type": "code",
      "metadata": {
        "id": "PVkiplLE9c4K",
        "colab_type": "code",
        "colab": {}
      },
      "source": [
        "# Create a recommender-friendly train-test split of the provided data set.\n",
        "sf_train, sf_test = tc.recommender.util.random_split_by_user(sf_w_occasion,item_test_proportion=0.2, \n",
        "                                                             random_seed =10)"
      ],
      "execution_count": null,
      "outputs": []
    },
    {
      "cell_type": "markdown",
      "metadata": {
        "id": "9ODQffn-4LEf",
        "colab_type": "text"
      },
      "source": [
        "### Training "
      ]
    },
    {
      "cell_type": "code",
      "metadata": {
        "id": "jPl8Rg6b9r06",
        "colab_type": "code",
        "colab": {
          "base_uri": "https://localhost:8080/",
          "height": 1000
        },
        "outputId": "7df009d4-6023-4abc-fc4c-d9d9fbc7e4c1"
      },
      "source": [
        "m1 = ranking_factorization_recommender.create(sf_train, user_id=\"user_id\", item_id=\"item_id\", \n",
        "                                              item_data=item_sf,\n",
        "                                              target=\"rating\",side_data_factorization=True,\n",
        "                                             max_iterations=50, num_factors=64, ranking_regularization=0.1)"
      ],
      "execution_count": null,
      "outputs": [
        {
          "output_type": "display_data",
          "data": {
            "text/html": [
              "<pre>Preparing data set.</pre>"
            ],
            "text/plain": [
              "Preparing data set."
            ]
          },
          "metadata": {
            "tags": []
          }
        },
        {
          "output_type": "display_data",
          "data": {
            "text/html": [
              "<pre>    Data has 277936 observations with 39387 users and 23033 items.</pre>"
            ],
            "text/plain": [
              "    Data has 277936 observations with 39387 users and 23033 items."
            ]
          },
          "metadata": {
            "tags": []
          }
        },
        {
          "output_type": "display_data",
          "data": {
            "text/html": [
              "<pre>    Data prepared in: 1.08993s</pre>"
            ],
            "text/plain": [
              "    Data prepared in: 1.08993s"
            ]
          },
          "metadata": {
            "tags": []
          }
        },
        {
          "output_type": "display_data",
          "data": {
            "text/html": [
              "<pre>Training ranking_factorization_recommender for recommendations.</pre>"
            ],
            "text/plain": [
              "Training ranking_factorization_recommender for recommendations."
            ]
          },
          "metadata": {
            "tags": []
          }
        },
        {
          "output_type": "display_data",
          "data": {
            "text/html": [
              "<pre>+--------------------------------+--------------------------------------------------+----------+</pre>"
            ],
            "text/plain": [
              "+--------------------------------+--------------------------------------------------+----------+"
            ]
          },
          "metadata": {
            "tags": []
          }
        },
        {
          "output_type": "display_data",
          "data": {
            "text/html": [
              "<pre>| Parameter                      | Description                                      | Value    |</pre>"
            ],
            "text/plain": [
              "| Parameter                      | Description                                      | Value    |"
            ]
          },
          "metadata": {
            "tags": []
          }
        },
        {
          "output_type": "display_data",
          "data": {
            "text/html": [
              "<pre>+--------------------------------+--------------------------------------------------+----------+</pre>"
            ],
            "text/plain": [
              "+--------------------------------+--------------------------------------------------+----------+"
            ]
          },
          "metadata": {
            "tags": []
          }
        },
        {
          "output_type": "display_data",
          "data": {
            "text/html": [
              "<pre>| num_factors                    | Factor Dimension                                 | 64       |</pre>"
            ],
            "text/plain": [
              "| num_factors                    | Factor Dimension                                 | 64       |"
            ]
          },
          "metadata": {
            "tags": []
          }
        },
        {
          "output_type": "display_data",
          "data": {
            "text/html": [
              "<pre>| regularization                 | L2 Regularization on Factors                     | 1e-09    |</pre>"
            ],
            "text/plain": [
              "| regularization                 | L2 Regularization on Factors                     | 1e-09    |"
            ]
          },
          "metadata": {
            "tags": []
          }
        },
        {
          "output_type": "display_data",
          "data": {
            "text/html": [
              "<pre>| solver                         | Solver used for training                         | adagrad  |</pre>"
            ],
            "text/plain": [
              "| solver                         | Solver used for training                         | adagrad  |"
            ]
          },
          "metadata": {
            "tags": []
          }
        },
        {
          "output_type": "display_data",
          "data": {
            "text/html": [
              "<pre>| linear_regularization          | L2 Regularization on Linear Coefficients         | 1e-09    |</pre>"
            ],
            "text/plain": [
              "| linear_regularization          | L2 Regularization on Linear Coefficients         | 1e-09    |"
            ]
          },
          "metadata": {
            "tags": []
          }
        },
        {
          "output_type": "display_data",
          "data": {
            "text/html": [
              "<pre>| ranking_regularization         | Rank-based Regularization Weight                 | 0.1      |</pre>"
            ],
            "text/plain": [
              "| ranking_regularization         | Rank-based Regularization Weight                 | 0.1      |"
            ]
          },
          "metadata": {
            "tags": []
          }
        },
        {
          "output_type": "display_data",
          "data": {
            "text/html": [
              "<pre>| side_data_factorization        | Assign Factors for Side Data                     | True     |</pre>"
            ],
            "text/plain": [
              "| side_data_factorization        | Assign Factors for Side Data                     | True     |"
            ]
          },
          "metadata": {
            "tags": []
          }
        },
        {
          "output_type": "display_data",
          "data": {
            "text/html": [
              "<pre>| max_iterations                 | Maximum Number of Iterations                     | 50       |</pre>"
            ],
            "text/plain": [
              "| max_iterations                 | Maximum Number of Iterations                     | 50       |"
            ]
          },
          "metadata": {
            "tags": []
          }
        },
        {
          "output_type": "display_data",
          "data": {
            "text/html": [
              "<pre>+--------------------------------+--------------------------------------------------+----------+</pre>"
            ],
            "text/plain": [
              "+--------------------------------+--------------------------------------------------+----------+"
            ]
          },
          "metadata": {
            "tags": []
          }
        },
        {
          "output_type": "display_data",
          "data": {
            "text/html": [
              "<pre>  Optimizing model using SGD; tuning step size.</pre>"
            ],
            "text/plain": [
              "  Optimizing model using SGD; tuning step size."
            ]
          },
          "metadata": {
            "tags": []
          }
        },
        {
          "output_type": "display_data",
          "data": {
            "text/html": [
              "<pre>  Using 34742 / 277936 points for tuning the step size.</pre>"
            ],
            "text/plain": [
              "  Using 34742 / 277936 points for tuning the step size."
            ]
          },
          "metadata": {
            "tags": []
          }
        },
        {
          "output_type": "display_data",
          "data": {
            "text/html": [
              "<pre>+---------+-------------------+------------------------------------------+</pre>"
            ],
            "text/plain": [
              "+---------+-------------------+------------------------------------------+"
            ]
          },
          "metadata": {
            "tags": []
          }
        },
        {
          "output_type": "display_data",
          "data": {
            "text/html": [
              "<pre>| Attempt | Initial Step Size | Estimated Objective Value                |</pre>"
            ],
            "text/plain": [
              "| Attempt | Initial Step Size | Estimated Objective Value                |"
            ]
          },
          "metadata": {
            "tags": []
          }
        },
        {
          "output_type": "display_data",
          "data": {
            "text/html": [
              "<pre>+---------+-------------------+------------------------------------------+</pre>"
            ],
            "text/plain": [
              "+---------+-------------------+------------------------------------------+"
            ]
          },
          "metadata": {
            "tags": []
          }
        },
        {
          "output_type": "display_data",
          "data": {
            "text/html": [
              "<pre>| 0       | 12.5              | Not Viable                               |</pre>"
            ],
            "text/plain": [
              "| 0       | 12.5              | Not Viable                               |"
            ]
          },
          "metadata": {
            "tags": []
          }
        },
        {
          "output_type": "display_data",
          "data": {
            "text/html": [
              "<pre>| 1       | 3.125             | Not Viable                               |</pre>"
            ],
            "text/plain": [
              "| 1       | 3.125             | Not Viable                               |"
            ]
          },
          "metadata": {
            "tags": []
          }
        },
        {
          "output_type": "display_data",
          "data": {
            "text/html": [
              "<pre>| 2       | 0.78125           | Not Viable                               |</pre>"
            ],
            "text/plain": [
              "| 2       | 0.78125           | Not Viable                               |"
            ]
          },
          "metadata": {
            "tags": []
          }
        },
        {
          "output_type": "display_data",
          "data": {
            "text/html": [
              "<pre>| 3       | 0.195312          | 0.384395                                 |</pre>"
            ],
            "text/plain": [
              "| 3       | 0.195312          | 0.384395                                 |"
            ]
          },
          "metadata": {
            "tags": []
          }
        },
        {
          "output_type": "display_data",
          "data": {
            "text/html": [
              "<pre>| 4       | 0.0976562         | 0.384644                                 |</pre>"
            ],
            "text/plain": [
              "| 4       | 0.0976562         | 0.384644                                 |"
            ]
          },
          "metadata": {
            "tags": []
          }
        },
        {
          "output_type": "display_data",
          "data": {
            "text/html": [
              "<pre>| 5       | 0.0488281         | 0.685053                                 |</pre>"
            ],
            "text/plain": [
              "| 5       | 0.0488281         | 0.685053                                 |"
            ]
          },
          "metadata": {
            "tags": []
          }
        },
        {
          "output_type": "display_data",
          "data": {
            "text/html": [
              "<pre>| 6       | 0.0244141         | 0.947988                                 |</pre>"
            ],
            "text/plain": [
              "| 6       | 0.0244141         | 0.947988                                 |"
            ]
          },
          "metadata": {
            "tags": []
          }
        },
        {
          "output_type": "display_data",
          "data": {
            "text/html": [
              "<pre>+---------+-------------------+------------------------------------------+</pre>"
            ],
            "text/plain": [
              "+---------+-------------------+------------------------------------------+"
            ]
          },
          "metadata": {
            "tags": []
          }
        },
        {
          "output_type": "display_data",
          "data": {
            "text/html": [
              "<pre>| Final   | 0.195312          | 0.384395                                 |</pre>"
            ],
            "text/plain": [
              "| Final   | 0.195312          | 0.384395                                 |"
            ]
          },
          "metadata": {
            "tags": []
          }
        },
        {
          "output_type": "display_data",
          "data": {
            "text/html": [
              "<pre>+---------+-------------------+------------------------------------------+</pre>"
            ],
            "text/plain": [
              "+---------+-------------------+------------------------------------------+"
            ]
          },
          "metadata": {
            "tags": []
          }
        },
        {
          "output_type": "display_data",
          "data": {
            "text/html": [
              "<pre>Starting Optimization.</pre>"
            ],
            "text/plain": [
              "Starting Optimization."
            ]
          },
          "metadata": {
            "tags": []
          }
        },
        {
          "output_type": "display_data",
          "data": {
            "text/html": [
              "<pre>+---------+--------------+-------------------+-----------------------+-------------+</pre>"
            ],
            "text/plain": [
              "+---------+--------------+-------------------+-----------------------+-------------+"
            ]
          },
          "metadata": {
            "tags": []
          }
        },
        {
          "output_type": "display_data",
          "data": {
            "text/html": [
              "<pre>| Iter.   | Elapsed Time | Approx. Objective | Approx. Training RMSE | Step Size   |</pre>"
            ],
            "text/plain": [
              "| Iter.   | Elapsed Time | Approx. Objective | Approx. Training RMSE | Step Size   |"
            ]
          },
          "metadata": {
            "tags": []
          }
        },
        {
          "output_type": "display_data",
          "data": {
            "text/html": [
              "<pre>+---------+--------------+-------------------+-----------------------+-------------+</pre>"
            ],
            "text/plain": [
              "+---------+--------------+-------------------+-----------------------+-------------+"
            ]
          },
          "metadata": {
            "tags": []
          }
        },
        {
          "output_type": "display_data",
          "data": {
            "text/html": [
              "<pre>| Initial | 126us        | 1.68638           | 1.1038                |             |</pre>"
            ],
            "text/plain": [
              "| Initial | 126us        | 1.68638           | 1.1038                |             |"
            ]
          },
          "metadata": {
            "tags": []
          }
        },
        {
          "output_type": "display_data",
          "data": {
            "text/html": [
              "<pre>+---------+--------------+-------------------+-----------------------+-------------+</pre>"
            ],
            "text/plain": [
              "+---------+--------------+-------------------+-----------------------+-------------+"
            ]
          },
          "metadata": {
            "tags": []
          }
        },
        {
          "output_type": "display_data",
          "data": {
            "text/html": [
              "<pre>| 1       | 56.82s       | 2.99816           | 1.53176               | 0.195312    |</pre>"
            ],
            "text/plain": [
              "| 1       | 56.82s       | 2.99816           | 1.53176               | 0.195312    |"
            ]
          },
          "metadata": {
            "tags": []
          }
        },
        {
          "output_type": "display_data",
          "data": {
            "text/html": [
              "<pre>| 2       | 1m 53s       | 2.02138           | 1.2227                | 0.195312    |</pre>"
            ],
            "text/plain": [
              "| 2       | 1m 53s       | 2.02138           | 1.2227                | 0.195312    |"
            ]
          },
          "metadata": {
            "tags": []
          }
        },
        {
          "output_type": "display_data",
          "data": {
            "text/html": [
              "<pre>| 3       | 2m 50s       | 1.00427           | 0.736864              | 0.195312    |</pre>"
            ],
            "text/plain": [
              "| 3       | 2m 50s       | 1.00427           | 0.736864              | 0.195312    |"
            ]
          },
          "metadata": {
            "tags": []
          }
        },
        {
          "output_type": "display_data",
          "data": {
            "text/html": [
              "<pre>| 4       | 3m 47s       | 0.809624          | 0.606085              | 0.195312    |</pre>"
            ],
            "text/plain": [
              "| 4       | 3m 47s       | 0.809624          | 0.606085              | 0.195312    |"
            ]
          },
          "metadata": {
            "tags": []
          }
        },
        {
          "output_type": "display_data",
          "data": {
            "text/html": [
              "<pre>| 5       | 4m 44s       | 0.714347          | 0.535492              | 0.195312    |</pre>"
            ],
            "text/plain": [
              "| 5       | 4m 44s       | 0.714347          | 0.535492              | 0.195312    |"
            ]
          },
          "metadata": {
            "tags": []
          }
        },
        {
          "output_type": "display_data",
          "data": {
            "text/html": [
              "<pre>| 7       | 6m 38s       | 0.61588           | 0.454464              | 0.195312    |</pre>"
            ],
            "text/plain": [
              "| 7       | 6m 38s       | 0.61588           | 0.454464              | 0.195312    |"
            ]
          },
          "metadata": {
            "tags": []
          }
        },
        {
          "output_type": "display_data",
          "data": {
            "text/html": [
              "<pre>| 8       | 7m 35s       | 0.585867          | 0.42731               | 0.195312    |</pre>"
            ],
            "text/plain": [
              "| 8       | 7m 35s       | 0.585867          | 0.42731               | 0.195312    |"
            ]
          },
          "metadata": {
            "tags": []
          }
        },
        {
          "output_type": "display_data",
          "data": {
            "text/html": [
              "<pre>| 9       | 8m 32s       | 0.561715          | 0.405969              | 0.195312    |</pre>"
            ],
            "text/plain": [
              "| 9       | 8m 32s       | 0.561715          | 0.405969              | 0.195312    |"
            ]
          },
          "metadata": {
            "tags": []
          }
        },
        {
          "output_type": "display_data",
          "data": {
            "text/html": [
              "<pre>| 10      | 9m 29s       | 0.540681          | 0.387701              | 0.195312    |</pre>"
            ],
            "text/plain": [
              "| 10      | 9m 29s       | 0.540681          | 0.387701              | 0.195312    |"
            ]
          },
          "metadata": {
            "tags": []
          }
        },
        {
          "output_type": "display_data",
          "data": {
            "text/html": [
              "<pre>| 11      | 10m 25s      | 0.524623          | 0.372187              | 0.195312    |</pre>"
            ],
            "text/plain": [
              "| 11      | 10m 25s      | 0.524623          | 0.372187              | 0.195312    |"
            ]
          },
          "metadata": {
            "tags": []
          }
        },
        {
          "output_type": "display_data",
          "data": {
            "text/html": [
              "<pre>| 12      | 11m 22s      | 0.510462          | 0.358962              | 0.195312    |</pre>"
            ],
            "text/plain": [
              "| 12      | 11m 22s      | 0.510462          | 0.358962              | 0.195312    |"
            ]
          },
          "metadata": {
            "tags": []
          }
        },
        {
          "output_type": "display_data",
          "data": {
            "text/html": [
              "<pre>| 13      | 12m 18s      | 0.49705           | 0.346982              | 0.195312    |</pre>"
            ],
            "text/plain": [
              "| 13      | 12m 18s      | 0.49705           | 0.346982              | 0.195312    |"
            ]
          },
          "metadata": {
            "tags": []
          }
        },
        {
          "output_type": "display_data",
          "data": {
            "text/html": [
              "<pre>| 14      | 13m 16s      | 0.485842          | 0.336206              | 0.195312    |</pre>"
            ],
            "text/plain": [
              "| 14      | 13m 16s      | 0.485842          | 0.336206              | 0.195312    |"
            ]
          },
          "metadata": {
            "tags": []
          }
        },
        {
          "output_type": "display_data",
          "data": {
            "text/html": [
              "<pre>| 15      | 14m 12s      | 0.475387          | 0.32704               | 0.195312    |</pre>"
            ],
            "text/plain": [
              "| 15      | 14m 12s      | 0.475387          | 0.32704               | 0.195312    |"
            ]
          },
          "metadata": {
            "tags": []
          }
        },
        {
          "output_type": "display_data",
          "data": {
            "text/html": [
              "<pre>| 16      | 15m 9s       | 0.466555          | 0.31816               | 0.195312    |</pre>"
            ],
            "text/plain": [
              "| 16      | 15m 9s       | 0.466555          | 0.31816               | 0.195312    |"
            ]
          },
          "metadata": {
            "tags": []
          }
        },
        {
          "output_type": "display_data",
          "data": {
            "text/html": [
              "<pre>| 17      | 16m 6s       | 0.457236          | 0.310192              | 0.195312    |</pre>"
            ],
            "text/plain": [
              "| 17      | 16m 6s       | 0.457236          | 0.310192              | 0.195312    |"
            ]
          },
          "metadata": {
            "tags": []
          }
        },
        {
          "output_type": "display_data",
          "data": {
            "text/html": [
              "<pre>| 18      | 17m 2s       | 0.44936           | 0.303536              | 0.195312    |</pre>"
            ],
            "text/plain": [
              "| 18      | 17m 2s       | 0.44936           | 0.303536              | 0.195312    |"
            ]
          },
          "metadata": {
            "tags": []
          }
        },
        {
          "output_type": "display_data",
          "data": {
            "text/html": [
              "<pre>| 19      | 17m 59s      | 0.443074          | 0.296974              | 0.195312    |</pre>"
            ],
            "text/plain": [
              "| 19      | 17m 59s      | 0.443074          | 0.296974              | 0.195312    |"
            ]
          },
          "metadata": {
            "tags": []
          }
        },
        {
          "output_type": "display_data",
          "data": {
            "text/html": [
              "<pre>| 20      | 18m 56s      | 0.435409          | 0.290799              | 0.195312    |</pre>"
            ],
            "text/plain": [
              "| 20      | 18m 56s      | 0.435409          | 0.290799              | 0.195312    |"
            ]
          },
          "metadata": {
            "tags": []
          }
        },
        {
          "output_type": "display_data",
          "data": {
            "text/html": [
              "<pre>| 21      | 19m 53s      | 0.429144          | 0.285053              | 0.195312    |</pre>"
            ],
            "text/plain": [
              "| 21      | 19m 53s      | 0.429144          | 0.285053              | 0.195312    |"
            ]
          },
          "metadata": {
            "tags": []
          }
        },
        {
          "output_type": "display_data",
          "data": {
            "text/html": [
              "<pre>| 22      | 20m 50s      | 0.422756          | 0.279976              | 0.195312    |</pre>"
            ],
            "text/plain": [
              "| 22      | 20m 50s      | 0.422756          | 0.279976              | 0.195312    |"
            ]
          },
          "metadata": {
            "tags": []
          }
        },
        {
          "output_type": "display_data",
          "data": {
            "text/html": [
              "<pre>| 23      | 21m 47s      | 0.417265          | 0.275303              | 0.195312    |</pre>"
            ],
            "text/plain": [
              "| 23      | 21m 47s      | 0.417265          | 0.275303              | 0.195312    |"
            ]
          },
          "metadata": {
            "tags": []
          }
        },
        {
          "output_type": "display_data",
          "data": {
            "text/html": [
              "<pre>| 24      | 22m 44s      | 0.412291          | 0.27142               | 0.195312    |</pre>"
            ],
            "text/plain": [
              "| 24      | 22m 44s      | 0.412291          | 0.27142               | 0.195312    |"
            ]
          },
          "metadata": {
            "tags": []
          }
        },
        {
          "output_type": "display_data",
          "data": {
            "text/html": [
              "<pre>| 25      | 23m 40s      | 0.407197          | 0.267208              | 0.195312    |</pre>"
            ],
            "text/plain": [
              "| 25      | 23m 40s      | 0.407197          | 0.267208              | 0.195312    |"
            ]
          },
          "metadata": {
            "tags": []
          }
        },
        {
          "output_type": "display_data",
          "data": {
            "text/html": [
              "<pre>| 26      | 24m 37s      | 0.403329          | 0.264126              | 0.195312    |</pre>"
            ],
            "text/plain": [
              "| 26      | 24m 37s      | 0.403329          | 0.264126              | 0.195312    |"
            ]
          },
          "metadata": {
            "tags": []
          }
        },
        {
          "output_type": "display_data",
          "data": {
            "text/html": [
              "<pre>| 27      | 25m 34s      | 0.398566          | 0.260713              | 0.195312    |</pre>"
            ],
            "text/plain": [
              "| 27      | 25m 34s      | 0.398566          | 0.260713              | 0.195312    |"
            ]
          },
          "metadata": {
            "tags": []
          }
        },
        {
          "output_type": "display_data",
          "data": {
            "text/html": [
              "<pre>| 28      | 26m 31s      | 0.395132          | 0.257866              | 0.195312    |</pre>"
            ],
            "text/plain": [
              "| 28      | 26m 31s      | 0.395132          | 0.257866              | 0.195312    |"
            ]
          },
          "metadata": {
            "tags": []
          }
        },
        {
          "output_type": "display_data",
          "data": {
            "text/html": [
              "<pre>| 29      | 27m 27s      | 0.390602          | 0.254647              | 0.195312    |</pre>"
            ],
            "text/plain": [
              "| 29      | 27m 27s      | 0.390602          | 0.254647              | 0.195312    |"
            ]
          },
          "metadata": {
            "tags": []
          }
        },
        {
          "output_type": "display_data",
          "data": {
            "text/html": [
              "<pre>| 30      | 28m 24s      | 0.386363          | 0.251783              | 0.195312    |</pre>"
            ],
            "text/plain": [
              "| 30      | 28m 24s      | 0.386363          | 0.251783              | 0.195312    |"
            ]
          },
          "metadata": {
            "tags": []
          }
        },
        {
          "output_type": "display_data",
          "data": {
            "text/html": [
              "<pre>| 31      | 29m 21s      | 0.383365          | 0.249472              | 0.195312    |</pre>"
            ],
            "text/plain": [
              "| 31      | 29m 21s      | 0.383365          | 0.249472              | 0.195312    |"
            ]
          },
          "metadata": {
            "tags": []
          }
        },
        {
          "output_type": "display_data",
          "data": {
            "text/html": [
              "<pre>| 32      | 30m 17s      | 0.379087          | 0.246804              | 0.195312    |</pre>"
            ],
            "text/plain": [
              "| 32      | 30m 17s      | 0.379087          | 0.246804              | 0.195312    |"
            ]
          },
          "metadata": {
            "tags": []
          }
        },
        {
          "output_type": "display_data",
          "data": {
            "text/html": [
              "<pre>| 33      | 31m 14s      | 0.375712          | 0.244728              | 0.195312    |</pre>"
            ],
            "text/plain": [
              "| 33      | 31m 14s      | 0.375712          | 0.244728              | 0.195312    |"
            ]
          },
          "metadata": {
            "tags": []
          }
        },
        {
          "output_type": "display_data",
          "data": {
            "text/html": [
              "<pre>| 34      | 32m 10s      | 0.372535          | 0.242666              | 0.195312    |</pre>"
            ],
            "text/plain": [
              "| 34      | 32m 10s      | 0.372535          | 0.242666              | 0.195312    |"
            ]
          },
          "metadata": {
            "tags": []
          }
        },
        {
          "output_type": "display_data",
          "data": {
            "text/html": [
              "<pre>| 35      | 33m 7s       | 0.368885          | 0.240116              | 0.195312    |</pre>"
            ],
            "text/plain": [
              "| 35      | 33m 7s       | 0.368885          | 0.240116              | 0.195312    |"
            ]
          },
          "metadata": {
            "tags": []
          }
        },
        {
          "output_type": "display_data",
          "data": {
            "text/html": [
              "<pre>| 36      | 34m 3s       | 0.365762          | 0.238132              | 0.195312    |</pre>"
            ],
            "text/plain": [
              "| 36      | 34m 3s       | 0.365762          | 0.238132              | 0.195312    |"
            ]
          },
          "metadata": {
            "tags": []
          }
        },
        {
          "output_type": "display_data",
          "data": {
            "text/html": [
              "<pre>| 37      | 35m 0s       | 0.36335           | 0.235954              | 0.195312    |</pre>"
            ],
            "text/plain": [
              "| 37      | 35m 0s       | 0.36335           | 0.235954              | 0.195312    |"
            ]
          },
          "metadata": {
            "tags": []
          }
        },
        {
          "output_type": "display_data",
          "data": {
            "text/html": [
              "<pre>| 38      | 35m 56s      | 0.359074          | 0.233873              | 0.195312    |</pre>"
            ],
            "text/plain": [
              "| 38      | 35m 56s      | 0.359074          | 0.233873              | 0.195312    |"
            ]
          },
          "metadata": {
            "tags": []
          }
        },
        {
          "output_type": "display_data",
          "data": {
            "text/html": [
              "<pre>| 39      | 36m 53s      | 0.357767          | 0.233034              | 0.195312    |</pre>"
            ],
            "text/plain": [
              "| 39      | 36m 53s      | 0.357767          | 0.233034              | 0.195312    |"
            ]
          },
          "metadata": {
            "tags": []
          }
        },
        {
          "output_type": "display_data",
          "data": {
            "text/html": [
              "<pre>| 40      | 37m 49s      | 0.354434          | 0.231156              | 0.195312    |</pre>"
            ],
            "text/plain": [
              "| 40      | 37m 49s      | 0.354434          | 0.231156              | 0.195312    |"
            ]
          },
          "metadata": {
            "tags": []
          }
        },
        {
          "output_type": "display_data",
          "data": {
            "text/html": [
              "<pre>| 41      | 38m 46s      | 0.350741          | 0.22839               | 0.195312    |</pre>"
            ],
            "text/plain": [
              "| 41      | 38m 46s      | 0.350741          | 0.22839               | 0.195312    |"
            ]
          },
          "metadata": {
            "tags": []
          }
        },
        {
          "output_type": "display_data",
          "data": {
            "text/html": [
              "<pre>| 42      | 39m 42s      | 0.348051          | 0.227299              | 0.195312    |</pre>"
            ],
            "text/plain": [
              "| 42      | 39m 42s      | 0.348051          | 0.227299              | 0.195312    |"
            ]
          },
          "metadata": {
            "tags": []
          }
        },
        {
          "output_type": "display_data",
          "data": {
            "text/html": [
              "<pre>| 43      | 40m 38s      | 0.346804          | 0.228                 | 0.195312    |</pre>"
            ],
            "text/plain": [
              "| 43      | 40m 38s      | 0.346804          | 0.228                 | 0.195312    |"
            ]
          },
          "metadata": {
            "tags": []
          }
        },
        {
          "output_type": "display_data",
          "data": {
            "text/html": [
              "<pre>| 44      | 41m 35s      | 0.343746          | 0.226502              | 0.195312    |</pre>"
            ],
            "text/plain": [
              "| 44      | 41m 35s      | 0.343746          | 0.226502              | 0.195312    |"
            ]
          },
          "metadata": {
            "tags": []
          }
        },
        {
          "output_type": "display_data",
          "data": {
            "text/html": [
              "<pre>| 45      | 42m 31s      | 0.341749          | 0.22464               | 0.195312    |</pre>"
            ],
            "text/plain": [
              "| 45      | 42m 31s      | 0.341749          | 0.22464               | 0.195312    |"
            ]
          },
          "metadata": {
            "tags": []
          }
        },
        {
          "output_type": "display_data",
          "data": {
            "text/html": [
              "<pre>| 46      | 43m 27s      | 0.339682          | 0.224105              | 0.195312    |</pre>"
            ],
            "text/plain": [
              "| 46      | 43m 27s      | 0.339682          | 0.224105              | 0.195312    |"
            ]
          },
          "metadata": {
            "tags": []
          }
        },
        {
          "output_type": "display_data",
          "data": {
            "text/html": [
              "<pre>| 47      | 44m 24s      | 0.336052          | 0.2206                | 0.195312    |</pre>"
            ],
            "text/plain": [
              "| 47      | 44m 24s      | 0.336052          | 0.2206                | 0.195312    |"
            ]
          },
          "metadata": {
            "tags": []
          }
        },
        {
          "output_type": "display_data",
          "data": {
            "text/html": [
              "<pre>| 48      | 45m 20s      | 0.335452          | 0.222198              | 0.195312    |</pre>"
            ],
            "text/plain": [
              "| 48      | 45m 20s      | 0.335452          | 0.222198              | 0.195312    |"
            ]
          },
          "metadata": {
            "tags": []
          }
        },
        {
          "output_type": "display_data",
          "data": {
            "text/html": [
              "<pre>| 49      | 46m 16s      | 0.330946          | 0.218147              | 0.195312    |</pre>"
            ],
            "text/plain": [
              "| 49      | 46m 16s      | 0.330946          | 0.218147              | 0.195312    |"
            ]
          },
          "metadata": {
            "tags": []
          }
        },
        {
          "output_type": "display_data",
          "data": {
            "text/html": [
              "<pre>| 50      | 47m 13s      | 0.329368          | 0.218107              | 0.195312    |</pre>"
            ],
            "text/plain": [
              "| 50      | 47m 13s      | 0.329368          | 0.218107              | 0.195312    |"
            ]
          },
          "metadata": {
            "tags": []
          }
        },
        {
          "output_type": "display_data",
          "data": {
            "text/html": [
              "<pre>+---------+--------------+-------------------+-----------------------+-------------+</pre>"
            ],
            "text/plain": [
              "+---------+--------------+-------------------+-----------------------+-------------+"
            ]
          },
          "metadata": {
            "tags": []
          }
        },
        {
          "output_type": "display_data",
          "data": {
            "text/html": [
              "<pre>Optimization Complete: Maximum number of passes through the data reached.</pre>"
            ],
            "text/plain": [
              "Optimization Complete: Maximum number of passes through the data reached."
            ]
          },
          "metadata": {
            "tags": []
          }
        },
        {
          "output_type": "display_data",
          "data": {
            "text/html": [
              "<pre>Computing final objective value and training RMSE.</pre>"
            ],
            "text/plain": [
              "Computing final objective value and training RMSE."
            ]
          },
          "metadata": {
            "tags": []
          }
        },
        {
          "output_type": "display_data",
          "data": {
            "text/html": [
              "<pre>       Final objective value: 0.325898</pre>"
            ],
            "text/plain": [
              "       Final objective value: 0.325898"
            ]
          },
          "metadata": {
            "tags": []
          }
        },
        {
          "output_type": "display_data",
          "data": {
            "text/html": [
              "<pre>       Final training RMSE: 0.212812</pre>"
            ],
            "text/plain": [
              "       Final training RMSE: 0.212812"
            ]
          },
          "metadata": {
            "tags": []
          }
        }
      ]
    },
    {
      "cell_type": "markdown",
      "metadata": {
        "id": "NMycZeQE4XxH",
        "colab_type": "text"
      },
      "source": [
        "### Score"
      ]
    },
    {
      "cell_type": "code",
      "metadata": {
        "id": "dGzU9ci4M7VD",
        "colab_type": "code",
        "colab": {
          "base_uri": "https://localhost:8080/",
          "height": 797
        },
        "outputId": "2b3c726f-d71f-424a-879a-f6fd4f84f6b9"
      },
      "source": [
        "m1.evaluate_precision_recall(sf_test, cutoffs=[10,20,30,40,50])"
      ],
      "execution_count": null,
      "outputs": [
        {
          "output_type": "execute_result",
          "data": {
            "text/plain": [
              "{'precision_recall_by_user': Columns:\n",
              " \tuser_id\tstr\n",
              " \tcutoff\tint\n",
              " \tprecision\tfloat\n",
              " \trecall\tfloat\n",
              " \tcount\tint\n",
              " \n",
              " Rows: 2580\n",
              " \n",
              " Data:\n",
              " +----------------+--------+-----------+--------+-------+\n",
              " |    user_id     | cutoff | precision | recall | count |\n",
              " +----------------+--------+-----------+--------+-------+\n",
              " | A2L7K5U87UVHJ7 |   10   |    0.0    |  0.0   |   1   |\n",
              " | A2L7K5U87UVHJ7 |   20   |    0.0    |  0.0   |   1   |\n",
              " | A2L7K5U87UVHJ7 |   30   |    0.0    |  0.0   |   1   |\n",
              " | A2L7K5U87UVHJ7 |   40   |    0.0    |  0.0   |   1   |\n",
              " | A2L7K5U87UVHJ7 |   50   |    0.0    |  0.0   |   1   |\n",
              " | A279F26TAKYWMA |   10   |    0.0    |  0.0   |   1   |\n",
              " | A279F26TAKYWMA |   20   |    0.0    |  0.0   |   1   |\n",
              " | A279F26TAKYWMA |   30   |    0.0    |  0.0   |   1   |\n",
              " | A279F26TAKYWMA |   40   |    0.0    |  0.0   |   1   |\n",
              " | A279F26TAKYWMA |   50   |    0.0    |  0.0   |   1   |\n",
              " +----------------+--------+-----------+--------+-------+\n",
              " [2580 rows x 5 columns]\n",
              " Note: Only the head of the SFrame is printed.\n",
              " You can use print_rows(num_rows=m, num_columns=n) to print more rows and columns.,\n",
              " 'precision_recall_overall': Columns:\n",
              " \tcutoff\tint\n",
              " \tprecision\tfloat\n",
              " \trecall\tfloat\n",
              " \n",
              " Rows: 5\n",
              " \n",
              " Data:\n",
              " +--------+------------------------+-----------------------+\n",
              " | cutoff |       precision        |         recall        |\n",
              " +--------+------------------------+-----------------------+\n",
              " |   10   | 0.0003875968992248063  | 0.0024224806201550383 |\n",
              " |   20   | 0.00019379844961240315 | 0.0024224806201550387 |\n",
              " |   30   | 0.0001937984496124031  |  0.00436046511627907  |\n",
              " |   40   | 0.00014534883720930238 |  0.00436046511627907  |\n",
              " |   50   | 0.0001550387596899225  |  0.006298449612403101 |\n",
              " +--------+------------------------+-----------------------+\n",
              " [5 rows x 3 columns]}"
            ]
          },
          "metadata": {
            "tags": []
          },
          "execution_count": 55
        }
      ]
    },
    {
      "cell_type": "markdown",
      "metadata": {
        "id": "7VIcESI-9x11",
        "colab_type": "text"
      },
      "source": [
        "### Recommendation"
      ]
    },
    {
      "cell_type": "code",
      "metadata": {
        "id": "9G-2vAil8jWi",
        "colab_type": "code",
        "colab": {}
      },
      "source": [
        "# save model weights\n",
        "m1.save(\"final_model\")"
      ],
      "execution_count": null,
      "outputs": []
    },
    {
      "cell_type": "code",
      "metadata": {
        "id": "_65kWhFA8m1v",
        "colab_type": "code",
        "colab": {}
      },
      "source": [
        "# load back saved model\n",
        "m1 = tc.load_model('final_model')"
      ],
      "execution_count": null,
      "outputs": []
    },
    {
      "cell_type": "code",
      "metadata": {
        "id": "xVxsgR4c9xGY",
        "colab_type": "code",
        "colab": {}
      },
      "source": [
        "obs_dict = {'user_id': SArray([\"A2NOW4U7W3F7RI\"]),'occasion_tag': SArray([\"occasion_neutral_sports\"])}\n",
        "obs = SFrame(obs_dict)"
      ],
      "execution_count": null,
      "outputs": []
    },
    {
      "cell_type": "code",
      "metadata": {
        "id": "hA-Y2LuS92ef",
        "colab_type": "code",
        "colab": {
          "base_uri": "https://localhost:8080/",
          "height": 241
        },
        "outputId": "f6cbd645-872f-42b1-dd09-18856828a3db"
      },
      "source": [
        "m1.recommend(obs, k=10, diversity=0)"
      ],
      "execution_count": null,
      "outputs": [
        {
          "output_type": "execute_result",
          "data": {
            "text/html": [
              "<div style=\"max-height:1000px;max-width:1500px;overflow:auto;\"><table frame=\"box\" rules=\"cols\">\n",
              "    <tr>\n",
              "        <th style=\"padding-left: 1em; padding-right: 1em; text-align: center\">user_id</th>\n",
              "        <th style=\"padding-left: 1em; padding-right: 1em; text-align: center\">item_id</th>\n",
              "        <th style=\"padding-left: 1em; padding-right: 1em; text-align: center\">score</th>\n",
              "        <th style=\"padding-left: 1em; padding-right: 1em; text-align: center\">rank</th>\n",
              "    </tr>\n",
              "    <tr>\n",
              "        <td style=\"padding-left: 1em; padding-right: 1em; text-align: center; vertical-align: top\">A2NOW4U7W3F7RI</td>\n",
              "        <td style=\"padding-left: 1em; padding-right: 1em; text-align: center; vertical-align: top\">B001Q5QLP6</td>\n",
              "        <td style=\"padding-left: 1em; padding-right: 1em; text-align: center; vertical-align: top\">5.92846608351257</td>\n",
              "        <td style=\"padding-left: 1em; padding-right: 1em; text-align: center; vertical-align: top\">1</td>\n",
              "    </tr>\n",
              "    <tr>\n",
              "        <td style=\"padding-left: 1em; padding-right: 1em; text-align: center; vertical-align: top\">A2NOW4U7W3F7RI</td>\n",
              "        <td style=\"padding-left: 1em; padding-right: 1em; text-align: center; vertical-align: top\">B00178UOLY</td>\n",
              "        <td style=\"padding-left: 1em; padding-right: 1em; text-align: center; vertical-align: top\">5.717870354995661</td>\n",
              "        <td style=\"padding-left: 1em; padding-right: 1em; text-align: center; vertical-align: top\">2</td>\n",
              "    </tr>\n",
              "    <tr>\n",
              "        <td style=\"padding-left: 1em; padding-right: 1em; text-align: center; vertical-align: top\">A2NOW4U7W3F7RI</td>\n",
              "        <td style=\"padding-left: 1em; padding-right: 1em; text-align: center; vertical-align: top\">B002NY1OJW</td>\n",
              "        <td style=\"padding-left: 1em; padding-right: 1em; text-align: center; vertical-align: top\">5.6348506544272965</td>\n",
              "        <td style=\"padding-left: 1em; padding-right: 1em; text-align: center; vertical-align: top\">3</td>\n",
              "    </tr>\n",
              "    <tr>\n",
              "        <td style=\"padding-left: 1em; padding-right: 1em; text-align: center; vertical-align: top\">A2NOW4U7W3F7RI</td>\n",
              "        <td style=\"padding-left: 1em; padding-right: 1em; text-align: center; vertical-align: top\">B000EX15NY</td>\n",
              "        <td style=\"padding-left: 1em; padding-right: 1em; text-align: center; vertical-align: top\">5.571941606512072</td>\n",
              "        <td style=\"padding-left: 1em; padding-right: 1em; text-align: center; vertical-align: top\">4</td>\n",
              "    </tr>\n",
              "    <tr>\n",
              "        <td style=\"padding-left: 1em; padding-right: 1em; text-align: center; vertical-align: top\">A2NOW4U7W3F7RI</td>\n",
              "        <td style=\"padding-left: 1em; padding-right: 1em; text-align: center; vertical-align: top\">B004NDOIJ4</td>\n",
              "        <td style=\"padding-left: 1em; padding-right: 1em; text-align: center; vertical-align: top\">5.571692540372526</td>\n",
              "        <td style=\"padding-left: 1em; padding-right: 1em; text-align: center; vertical-align: top\">5</td>\n",
              "    </tr>\n",
              "    <tr>\n",
              "        <td style=\"padding-left: 1em; padding-right: 1em; text-align: center; vertical-align: top\">A2NOW4U7W3F7RI</td>\n",
              "        <td style=\"padding-left: 1em; padding-right: 1em; text-align: center; vertical-align: top\">B00BNB36ZG</td>\n",
              "        <td style=\"padding-left: 1em; padding-right: 1em; text-align: center; vertical-align: top\">5.544816355288212</td>\n",
              "        <td style=\"padding-left: 1em; padding-right: 1em; text-align: center; vertical-align: top\">6</td>\n",
              "    </tr>\n",
              "    <tr>\n",
              "        <td style=\"padding-left: 1em; padding-right: 1em; text-align: center; vertical-align: top\">A2NOW4U7W3F7RI</td>\n",
              "        <td style=\"padding-left: 1em; padding-right: 1em; text-align: center; vertical-align: top\">B002JCSX4M</td>\n",
              "        <td style=\"padding-left: 1em; padding-right: 1em; text-align: center; vertical-align: top\">5.532332963165972</td>\n",
              "        <td style=\"padding-left: 1em; padding-right: 1em; text-align: center; vertical-align: top\">7</td>\n",
              "    </tr>\n",
              "    <tr>\n",
              "        <td style=\"padding-left: 1em; padding-right: 1em; text-align: center; vertical-align: top\">A2NOW4U7W3F7RI</td>\n",
              "        <td style=\"padding-left: 1em; padding-right: 1em; text-align: center; vertical-align: top\">B00874LMGW</td>\n",
              "        <td style=\"padding-left: 1em; padding-right: 1em; text-align: center; vertical-align: top\">5.513080568282296</td>\n",
              "        <td style=\"padding-left: 1em; padding-right: 1em; text-align: center; vertical-align: top\">8</td>\n",
              "    </tr>\n",
              "    <tr>\n",
              "        <td style=\"padding-left: 1em; padding-right: 1em; text-align: center; vertical-align: top\">A2NOW4U7W3F7RI</td>\n",
              "        <td style=\"padding-left: 1em; padding-right: 1em; text-align: center; vertical-align: top\">B00AW80P28</td>\n",
              "        <td style=\"padding-left: 1em; padding-right: 1em; text-align: center; vertical-align: top\">5.454299512365724</td>\n",
              "        <td style=\"padding-left: 1em; padding-right: 1em; text-align: center; vertical-align: top\">9</td>\n",
              "    </tr>\n",
              "    <tr>\n",
              "        <td style=\"padding-left: 1em; padding-right: 1em; text-align: center; vertical-align: top\">A2NOW4U7W3F7RI</td>\n",
              "        <td style=\"padding-left: 1em; padding-right: 1em; text-align: center; vertical-align: top\">B005GYGD7O</td>\n",
              "        <td style=\"padding-left: 1em; padding-right: 1em; text-align: center; vertical-align: top\">5.445043895746476</td>\n",
              "        <td style=\"padding-left: 1em; padding-right: 1em; text-align: center; vertical-align: top\">10</td>\n",
              "    </tr>\n",
              "</table>\n",
              "[10 rows x 4 columns]<br/>\n",
              "</div>"
            ],
            "text/plain": [
              "Columns:\n",
              "\tuser_id\tstr\n",
              "\titem_id\tstr\n",
              "\tscore\tfloat\n",
              "\trank\tint\n",
              "\n",
              "Rows: 10\n",
              "\n",
              "Data:\n",
              "+----------------+------------+--------------------+------+\n",
              "|    user_id     |  item_id   |       score        | rank |\n",
              "+----------------+------------+--------------------+------+\n",
              "| A2NOW4U7W3F7RI | B001Q5QLP6 |  5.92846608351257  |  1   |\n",
              "| A2NOW4U7W3F7RI | B00178UOLY | 5.717870354995661  |  2   |\n",
              "| A2NOW4U7W3F7RI | B002NY1OJW | 5.6348506544272965 |  3   |\n",
              "| A2NOW4U7W3F7RI | B000EX15NY | 5.571941606512072  |  4   |\n",
              "| A2NOW4U7W3F7RI | B004NDOIJ4 | 5.571692540372526  |  5   |\n",
              "| A2NOW4U7W3F7RI | B00BNB36ZG | 5.544816355288212  |  6   |\n",
              "| A2NOW4U7W3F7RI | B002JCSX4M | 5.532332963165972  |  7   |\n",
              "| A2NOW4U7W3F7RI | B00874LMGW | 5.513080568282296  |  8   |\n",
              "| A2NOW4U7W3F7RI | B00AW80P28 | 5.454299512365724  |  9   |\n",
              "| A2NOW4U7W3F7RI | B005GYGD7O | 5.445043895746476  |  10  |\n",
              "+----------------+------------+--------------------+------+\n",
              "[10 rows x 4 columns]"
            ]
          },
          "metadata": {
            "tags": []
          },
          "execution_count": 16
        }
      ]
    },
    {
      "cell_type": "code",
      "metadata": {
        "id": "K8fuQ8PIFSuZ",
        "colab_type": "code",
        "colab": {}
      },
      "source": [
        "obs_dict = {'user_id': SArray([\"A3NHUQ33CFH3VM\"]),'occasion_tag': SArray([\"occasion_neutral_casual\"])}\n",
        "obs = SFrame(obs_dict)"
      ],
      "execution_count": null,
      "outputs": []
    },
    {
      "cell_type": "code",
      "metadata": {
        "id": "qaReIrRHFWOH",
        "colab_type": "code",
        "colab": {
          "base_uri": "https://localhost:8080/",
          "height": 241
        },
        "outputId": "169a31a9-72ea-460b-e58a-70b320210f74"
      },
      "source": [
        "m1.recommend(obs, k=10, diversity=0)"
      ],
      "execution_count": null,
      "outputs": [
        {
          "output_type": "execute_result",
          "data": {
            "text/html": [
              "<div style=\"max-height:1000px;max-width:1500px;overflow:auto;\"><table frame=\"box\" rules=\"cols\">\n",
              "    <tr>\n",
              "        <th style=\"padding-left: 1em; padding-right: 1em; text-align: center\">user_id</th>\n",
              "        <th style=\"padding-left: 1em; padding-right: 1em; text-align: center\">item_id</th>\n",
              "        <th style=\"padding-left: 1em; padding-right: 1em; text-align: center\">score</th>\n",
              "        <th style=\"padding-left: 1em; padding-right: 1em; text-align: center\">rank</th>\n",
              "    </tr>\n",
              "    <tr>\n",
              "        <td style=\"padding-left: 1em; padding-right: 1em; text-align: center; vertical-align: top\">A3NHUQ33CFH3VM</td>\n",
              "        <td style=\"padding-left: 1em; padding-right: 1em; text-align: center; vertical-align: top\">B004LKXG9W</td>\n",
              "        <td style=\"padding-left: 1em; padding-right: 1em; text-align: center; vertical-align: top\">4.6070249203717974</td>\n",
              "        <td style=\"padding-left: 1em; padding-right: 1em; text-align: center; vertical-align: top\">1</td>\n",
              "    </tr>\n",
              "    <tr>\n",
              "        <td style=\"padding-left: 1em; padding-right: 1em; text-align: center; vertical-align: top\">A3NHUQ33CFH3VM</td>\n",
              "        <td style=\"padding-left: 1em; padding-right: 1em; text-align: center; vertical-align: top\">B005UVM368</td>\n",
              "        <td style=\"padding-left: 1em; padding-right: 1em; text-align: center; vertical-align: top\">4.29332266097938</td>\n",
              "        <td style=\"padding-left: 1em; padding-right: 1em; text-align: center; vertical-align: top\">2</td>\n",
              "    </tr>\n",
              "    <tr>\n",
              "        <td style=\"padding-left: 1em; padding-right: 1em; text-align: center; vertical-align: top\">A3NHUQ33CFH3VM</td>\n",
              "        <td style=\"padding-left: 1em; padding-right: 1em; text-align: center; vertical-align: top\">B007RXN6J0</td>\n",
              "        <td style=\"padding-left: 1em; padding-right: 1em; text-align: center; vertical-align: top\">4.2368252267428455</td>\n",
              "        <td style=\"padding-left: 1em; padding-right: 1em; text-align: center; vertical-align: top\">3</td>\n",
              "    </tr>\n",
              "    <tr>\n",
              "        <td style=\"padding-left: 1em; padding-right: 1em; text-align: center; vertical-align: top\">A3NHUQ33CFH3VM</td>\n",
              "        <td style=\"padding-left: 1em; padding-right: 1em; text-align: center; vertical-align: top\">B003H10ORI</td>\n",
              "        <td style=\"padding-left: 1em; padding-right: 1em; text-align: center; vertical-align: top\">4.224797956459736</td>\n",
              "        <td style=\"padding-left: 1em; padding-right: 1em; text-align: center; vertical-align: top\">4</td>\n",
              "    </tr>\n",
              "    <tr>\n",
              "        <td style=\"padding-left: 1em; padding-right: 1em; text-align: center; vertical-align: top\">A3NHUQ33CFH3VM</td>\n",
              "        <td style=\"padding-left: 1em; padding-right: 1em; text-align: center; vertical-align: top\">B002IY1WEE</td>\n",
              "        <td style=\"padding-left: 1em; padding-right: 1em; text-align: center; vertical-align: top\">4.124827817978886</td>\n",
              "        <td style=\"padding-left: 1em; padding-right: 1em; text-align: center; vertical-align: top\">5</td>\n",
              "    </tr>\n",
              "    <tr>\n",
              "        <td style=\"padding-left: 1em; padding-right: 1em; text-align: center; vertical-align: top\">A3NHUQ33CFH3VM</td>\n",
              "        <td style=\"padding-left: 1em; padding-right: 1em; text-align: center; vertical-align: top\">B000U83I1A</td>\n",
              "        <td style=\"padding-left: 1em; padding-right: 1em; text-align: center; vertical-align: top\">4.099490174740814</td>\n",
              "        <td style=\"padding-left: 1em; padding-right: 1em; text-align: center; vertical-align: top\">6</td>\n",
              "    </tr>\n",
              "    <tr>\n",
              "        <td style=\"padding-left: 1em; padding-right: 1em; text-align: center; vertical-align: top\">A3NHUQ33CFH3VM</td>\n",
              "        <td style=\"padding-left: 1em; padding-right: 1em; text-align: center; vertical-align: top\">B008O7UPKG</td>\n",
              "        <td style=\"padding-left: 1em; padding-right: 1em; text-align: center; vertical-align: top\">4.052719112381711</td>\n",
              "        <td style=\"padding-left: 1em; padding-right: 1em; text-align: center; vertical-align: top\">7</td>\n",
              "    </tr>\n",
              "    <tr>\n",
              "        <td style=\"padding-left: 1em; padding-right: 1em; text-align: center; vertical-align: top\">A3NHUQ33CFH3VM</td>\n",
              "        <td style=\"padding-left: 1em; padding-right: 1em; text-align: center; vertical-align: top\">B005KSZHHI</td>\n",
              "        <td style=\"padding-left: 1em; padding-right: 1em; text-align: center; vertical-align: top\">3.983750823936118</td>\n",
              "        <td style=\"padding-left: 1em; padding-right: 1em; text-align: center; vertical-align: top\">8</td>\n",
              "    </tr>\n",
              "    <tr>\n",
              "        <td style=\"padding-left: 1em; padding-right: 1em; text-align: center; vertical-align: top\">A3NHUQ33CFH3VM</td>\n",
              "        <td style=\"padding-left: 1em; padding-right: 1em; text-align: center; vertical-align: top\">B0072J72AI</td>\n",
              "        <td style=\"padding-left: 1em; padding-right: 1em; text-align: center; vertical-align: top\">3.9665752048170777</td>\n",
              "        <td style=\"padding-left: 1em; padding-right: 1em; text-align: center; vertical-align: top\">9</td>\n",
              "    </tr>\n",
              "    <tr>\n",
              "        <td style=\"padding-left: 1em; padding-right: 1em; text-align: center; vertical-align: top\">A3NHUQ33CFH3VM</td>\n",
              "        <td style=\"padding-left: 1em; padding-right: 1em; text-align: center; vertical-align: top\">B001LNIL7E</td>\n",
              "        <td style=\"padding-left: 1em; padding-right: 1em; text-align: center; vertical-align: top\">3.938680668092707</td>\n",
              "        <td style=\"padding-left: 1em; padding-right: 1em; text-align: center; vertical-align: top\">10</td>\n",
              "    </tr>\n",
              "</table>\n",
              "[10 rows x 4 columns]<br/>\n",
              "</div>"
            ],
            "text/plain": [
              "Columns:\n",
              "\tuser_id\tstr\n",
              "\titem_id\tstr\n",
              "\tscore\tfloat\n",
              "\trank\tint\n",
              "\n",
              "Rows: 10\n",
              "\n",
              "Data:\n",
              "+----------------+------------+--------------------+------+\n",
              "|    user_id     |  item_id   |       score        | rank |\n",
              "+----------------+------------+--------------------+------+\n",
              "| A3NHUQ33CFH3VM | B004LKXG9W | 4.6070249203717974 |  1   |\n",
              "| A3NHUQ33CFH3VM | B005UVM368 |  4.29332266097938  |  2   |\n",
              "| A3NHUQ33CFH3VM | B007RXN6J0 | 4.2368252267428455 |  3   |\n",
              "| A3NHUQ33CFH3VM | B003H10ORI | 4.224797956459736  |  4   |\n",
              "| A3NHUQ33CFH3VM | B002IY1WEE | 4.124827817978886  |  5   |\n",
              "| A3NHUQ33CFH3VM | B000U83I1A | 4.099490174740814  |  6   |\n",
              "| A3NHUQ33CFH3VM | B008O7UPKG | 4.052719112381711  |  7   |\n",
              "| A3NHUQ33CFH3VM | B005KSZHHI | 3.983750823936118  |  8   |\n",
              "| A3NHUQ33CFH3VM | B0072J72AI | 3.9665752048170777 |  9   |\n",
              "| A3NHUQ33CFH3VM | B001LNIL7E | 3.938680668092707  |  10  |\n",
              "+----------------+------------+--------------------+------+\n",
              "[10 rows x 4 columns]"
            ]
          },
          "metadata": {
            "tags": []
          },
          "execution_count": 19
        }
      ]
    },
    {
      "cell_type": "code",
      "metadata": {
        "id": "43tYjX0NRf9z",
        "colab_type": "code",
        "colab": {}
      },
      "source": [
        "obs_dict = {'user_id': SArray([\"A1KLRMWW2FWPL4\"]),'occasion_tag': SArray([\"occasion_happy_casual\"])}\n",
        "obs = SFrame(obs_dict)"
      ],
      "execution_count": null,
      "outputs": []
    },
    {
      "cell_type": "code",
      "metadata": {
        "id": "PSrZR1WPSXCu",
        "colab_type": "code",
        "colab": {
          "base_uri": "https://localhost:8080/",
          "height": 241
        },
        "outputId": "5e65c7ee-dce8-481a-f303-e47a53051865"
      },
      "source": [
        "m1.recommend(obs, k=10, diversity=0)"
      ],
      "execution_count": null,
      "outputs": [
        {
          "output_type": "execute_result",
          "data": {
            "text/html": [
              "<div style=\"max-height:1000px;max-width:1500px;overflow:auto;\"><table frame=\"box\" rules=\"cols\">\n",
              "    <tr>\n",
              "        <th style=\"padding-left: 1em; padding-right: 1em; text-align: center\">user_id</th>\n",
              "        <th style=\"padding-left: 1em; padding-right: 1em; text-align: center\">item_id</th>\n",
              "        <th style=\"padding-left: 1em; padding-right: 1em; text-align: center\">score</th>\n",
              "        <th style=\"padding-left: 1em; padding-right: 1em; text-align: center\">rank</th>\n",
              "    </tr>\n",
              "    <tr>\n",
              "        <td style=\"padding-left: 1em; padding-right: 1em; text-align: center; vertical-align: top\">A1KLRMWW2FWPL4</td>\n",
              "        <td style=\"padding-left: 1em; padding-right: 1em; text-align: center; vertical-align: top\">B008B0ZWTA</td>\n",
              "        <td style=\"padding-left: 1em; padding-right: 1em; text-align: center; vertical-align: top\">5.407314690571187</td>\n",
              "        <td style=\"padding-left: 1em; padding-right: 1em; text-align: center; vertical-align: top\">1</td>\n",
              "    </tr>\n",
              "    <tr>\n",
              "        <td style=\"padding-left: 1em; padding-right: 1em; text-align: center; vertical-align: top\">A1KLRMWW2FWPL4</td>\n",
              "        <td style=\"padding-left: 1em; padding-right: 1em; text-align: center; vertical-align: top\">B000ARPN5A</td>\n",
              "        <td style=\"padding-left: 1em; padding-right: 1em; text-align: center; vertical-align: top\">5.262056657456979</td>\n",
              "        <td style=\"padding-left: 1em; padding-right: 1em; text-align: center; vertical-align: top\">2</td>\n",
              "    </tr>\n",
              "    <tr>\n",
              "        <td style=\"padding-left: 1em; padding-right: 1em; text-align: center; vertical-align: top\">A1KLRMWW2FWPL4</td>\n",
              "        <td style=\"padding-left: 1em; padding-right: 1em; text-align: center; vertical-align: top\">B002SG8E98</td>\n",
              "        <td style=\"padding-left: 1em; padding-right: 1em; text-align: center; vertical-align: top\">5.1906631018972895</td>\n",
              "        <td style=\"padding-left: 1em; padding-right: 1em; text-align: center; vertical-align: top\">3</td>\n",
              "    </tr>\n",
              "    <tr>\n",
              "        <td style=\"padding-left: 1em; padding-right: 1em; text-align: center; vertical-align: top\">A1KLRMWW2FWPL4</td>\n",
              "        <td style=\"padding-left: 1em; padding-right: 1em; text-align: center; vertical-align: top\">B0001DYW64</td>\n",
              "        <td style=\"padding-left: 1em; padding-right: 1em; text-align: center; vertical-align: top\">5.10275008800193</td>\n",
              "        <td style=\"padding-left: 1em; padding-right: 1em; text-align: center; vertical-align: top\">4</td>\n",
              "    </tr>\n",
              "    <tr>\n",
              "        <td style=\"padding-left: 1em; padding-right: 1em; text-align: center; vertical-align: top\">A1KLRMWW2FWPL4</td>\n",
              "        <td style=\"padding-left: 1em; padding-right: 1em; text-align: center; vertical-align: top\">B001CGW432</td>\n",
              "        <td style=\"padding-left: 1em; padding-right: 1em; text-align: center; vertical-align: top\">5.056280234511952</td>\n",
              "        <td style=\"padding-left: 1em; padding-right: 1em; text-align: center; vertical-align: top\">5</td>\n",
              "    </tr>\n",
              "    <tr>\n",
              "        <td style=\"padding-left: 1em; padding-right: 1em; text-align: center; vertical-align: top\">A1KLRMWW2FWPL4</td>\n",
              "        <td style=\"padding-left: 1em; padding-right: 1em; text-align: center; vertical-align: top\">B002Q7CDR8</td>\n",
              "        <td style=\"padding-left: 1em; padding-right: 1em; text-align: center; vertical-align: top\">5.05239823865958</td>\n",
              "        <td style=\"padding-left: 1em; padding-right: 1em; text-align: center; vertical-align: top\">6</td>\n",
              "    </tr>\n",
              "    <tr>\n",
              "        <td style=\"padding-left: 1em; padding-right: 1em; text-align: center; vertical-align: top\">A1KLRMWW2FWPL4</td>\n",
              "        <td style=\"padding-left: 1em; padding-right: 1em; text-align: center; vertical-align: top\">B0009GA6SQ</td>\n",
              "        <td style=\"padding-left: 1em; padding-right: 1em; text-align: center; vertical-align: top\">4.998737648908038</td>\n",
              "        <td style=\"padding-left: 1em; padding-right: 1em; text-align: center; vertical-align: top\">7</td>\n",
              "    </tr>\n",
              "    <tr>\n",
              "        <td style=\"padding-left: 1em; padding-right: 1em; text-align: center; vertical-align: top\">A1KLRMWW2FWPL4</td>\n",
              "        <td style=\"padding-left: 1em; padding-right: 1em; text-align: center; vertical-align: top\">B0021ID9IY</td>\n",
              "        <td style=\"padding-left: 1em; padding-right: 1em; text-align: center; vertical-align: top\">4.992569272110135</td>\n",
              "        <td style=\"padding-left: 1em; padding-right: 1em; text-align: center; vertical-align: top\">8</td>\n",
              "    </tr>\n",
              "    <tr>\n",
              "        <td style=\"padding-left: 1em; padding-right: 1em; text-align: center; vertical-align: top\">A1KLRMWW2FWPL4</td>\n",
              "        <td style=\"padding-left: 1em; padding-right: 1em; text-align: center; vertical-align: top\">B008BTO8RI</td>\n",
              "        <td style=\"padding-left: 1em; padding-right: 1em; text-align: center; vertical-align: top\">4.972753321505589</td>\n",
              "        <td style=\"padding-left: 1em; padding-right: 1em; text-align: center; vertical-align: top\">9</td>\n",
              "    </tr>\n",
              "    <tr>\n",
              "        <td style=\"padding-left: 1em; padding-right: 1em; text-align: center; vertical-align: top\">A1KLRMWW2FWPL4</td>\n",
              "        <td style=\"padding-left: 1em; padding-right: 1em; text-align: center; vertical-align: top\">B00DV9XRPM</td>\n",
              "        <td style=\"padding-left: 1em; padding-right: 1em; text-align: center; vertical-align: top\">4.933755069133988</td>\n",
              "        <td style=\"padding-left: 1em; padding-right: 1em; text-align: center; vertical-align: top\">10</td>\n",
              "    </tr>\n",
              "</table>\n",
              "[10 rows x 4 columns]<br/>\n",
              "</div>"
            ],
            "text/plain": [
              "Columns:\n",
              "\tuser_id\tstr\n",
              "\titem_id\tstr\n",
              "\tscore\tfloat\n",
              "\trank\tint\n",
              "\n",
              "Rows: 10\n",
              "\n",
              "Data:\n",
              "+----------------+------------+--------------------+------+\n",
              "|    user_id     |  item_id   |       score        | rank |\n",
              "+----------------+------------+--------------------+------+\n",
              "| A1KLRMWW2FWPL4 | B008B0ZWTA | 5.407314690571187  |  1   |\n",
              "| A1KLRMWW2FWPL4 | B000ARPN5A | 5.262056657456979  |  2   |\n",
              "| A1KLRMWW2FWPL4 | B002SG8E98 | 5.1906631018972895 |  3   |\n",
              "| A1KLRMWW2FWPL4 | B0001DYW64 |  5.10275008800193  |  4   |\n",
              "| A1KLRMWW2FWPL4 | B001CGW432 | 5.056280234511952  |  5   |\n",
              "| A1KLRMWW2FWPL4 | B002Q7CDR8 |  5.05239823865958  |  6   |\n",
              "| A1KLRMWW2FWPL4 | B0009GA6SQ | 4.998737648908038  |  7   |\n",
              "| A1KLRMWW2FWPL4 | B0021ID9IY | 4.992569272110135  |  8   |\n",
              "| A1KLRMWW2FWPL4 | B008BTO8RI | 4.972753321505589  |  9   |\n",
              "| A1KLRMWW2FWPL4 | B00DV9XRPM | 4.933755069133988  |  10  |\n",
              "+----------------+------------+--------------------+------+\n",
              "[10 rows x 4 columns]"
            ]
          },
          "metadata": {
            "tags": []
          },
          "execution_count": 24
        }
      ]
    },
    {
      "cell_type": "markdown",
      "metadata": {
        "id": "o_yxWls69oJa",
        "colab_type": "text"
      },
      "source": [
        "## Comparison Model (without Style2Vec Embeddings + Occasion & Mood)"
      ]
    },
    {
      "cell_type": "code",
      "metadata": {
        "id": "IA02VpkjbQYZ",
        "colab_type": "code",
        "colab": {}
      },
      "source": [
        "# interactions to sframe\n",
        "user_id = SArray(df.user_id.tolist())\n",
        "item_id = SArray(df.item_id.tolist())\n",
        "label = SArray(df.rating.tolist())\n",
        "sf = SFrame({'user_id':user_id,'item_id':item_id, 'rating': label})"
      ],
      "execution_count": null,
      "outputs": []
    },
    {
      "cell_type": "code",
      "metadata": {
        "id": "kAfZAjwdbYy8",
        "colab_type": "code",
        "colab": {}
      },
      "source": [
        "# Create a recommender-friendly train-test split of the provided data set.\n",
        "sf_train, sf_test = tc.recommender.util.random_split_by_user(sf,item_test_proportion=0.1, random_seed =10)"
      ],
      "execution_count": null,
      "outputs": []
    },
    {
      "cell_type": "markdown",
      "metadata": {
        "id": "0F4wn_TS4wYj",
        "colab_type": "text"
      },
      "source": [
        "### Training"
      ]
    },
    {
      "cell_type": "code",
      "metadata": {
        "id": "4vG78z7A9kgj",
        "colab_type": "code",
        "colab": {
          "base_uri": "https://localhost:8080/",
          "height": 971
        },
        "outputId": "b6df3653-352c-4638-de6b-2f7a9cea11ca"
      },
      "source": [
        "m2 = tc.ranking_factorization_recommender.create(sf_train, user_id=\"user_id\", item_id=\"item_id\", \n",
        "                                              target=\"rating\", max_iterations=50, num_factors=64,\n",
        "                                              ranking_regularization = 0.1, solver=\"adagrad\", random_seed=10)"
      ],
      "execution_count": null,
      "outputs": [
        {
          "output_type": "display_data",
          "data": {
            "text/html": [
              "<pre>Preparing data set.</pre>"
            ],
            "text/plain": [
              "Preparing data set."
            ]
          },
          "metadata": {
            "tags": []
          }
        },
        {
          "output_type": "display_data",
          "data": {
            "text/html": [
              "<pre>    Data has 277936 observations with 39387 users and 23033 items.</pre>"
            ],
            "text/plain": [
              "    Data has 277936 observations with 39387 users and 23033 items."
            ]
          },
          "metadata": {
            "tags": []
          }
        },
        {
          "output_type": "display_data",
          "data": {
            "text/html": [
              "<pre>    Data prepared in: 0.556697s</pre>"
            ],
            "text/plain": [
              "    Data prepared in: 0.556697s"
            ]
          },
          "metadata": {
            "tags": []
          }
        },
        {
          "output_type": "display_data",
          "data": {
            "text/html": [
              "<pre>Training ranking_factorization_recommender for recommendations.</pre>"
            ],
            "text/plain": [
              "Training ranking_factorization_recommender for recommendations."
            ]
          },
          "metadata": {
            "tags": []
          }
        },
        {
          "output_type": "display_data",
          "data": {
            "text/html": [
              "<pre>+--------------------------------+--------------------------------------------------+----------+</pre>"
            ],
            "text/plain": [
              "+--------------------------------+--------------------------------------------------+----------+"
            ]
          },
          "metadata": {
            "tags": []
          }
        },
        {
          "output_type": "display_data",
          "data": {
            "text/html": [
              "<pre>| Parameter                      | Description                                      | Value    |</pre>"
            ],
            "text/plain": [
              "| Parameter                      | Description                                      | Value    |"
            ]
          },
          "metadata": {
            "tags": []
          }
        },
        {
          "output_type": "display_data",
          "data": {
            "text/html": [
              "<pre>+--------------------------------+--------------------------------------------------+----------+</pre>"
            ],
            "text/plain": [
              "+--------------------------------+--------------------------------------------------+----------+"
            ]
          },
          "metadata": {
            "tags": []
          }
        },
        {
          "output_type": "display_data",
          "data": {
            "text/html": [
              "<pre>| num_factors                    | Factor Dimension                                 | 64       |</pre>"
            ],
            "text/plain": [
              "| num_factors                    | Factor Dimension                                 | 64       |"
            ]
          },
          "metadata": {
            "tags": []
          }
        },
        {
          "output_type": "display_data",
          "data": {
            "text/html": [
              "<pre>| regularization                 | L2 Regularization on Factors                     | 1e-09    |</pre>"
            ],
            "text/plain": [
              "| regularization                 | L2 Regularization on Factors                     | 1e-09    |"
            ]
          },
          "metadata": {
            "tags": []
          }
        },
        {
          "output_type": "display_data",
          "data": {
            "text/html": [
              "<pre>| solver                         | Solver used for training                         | adagrad  |</pre>"
            ],
            "text/plain": [
              "| solver                         | Solver used for training                         | adagrad  |"
            ]
          },
          "metadata": {
            "tags": []
          }
        },
        {
          "output_type": "display_data",
          "data": {
            "text/html": [
              "<pre>| linear_regularization          | L2 Regularization on Linear Coefficients         | 1e-09    |</pre>"
            ],
            "text/plain": [
              "| linear_regularization          | L2 Regularization on Linear Coefficients         | 1e-09    |"
            ]
          },
          "metadata": {
            "tags": []
          }
        },
        {
          "output_type": "display_data",
          "data": {
            "text/html": [
              "<pre>| ranking_regularization         | Rank-based Regularization Weight                 | 0.1      |</pre>"
            ],
            "text/plain": [
              "| ranking_regularization         | Rank-based Regularization Weight                 | 0.1      |"
            ]
          },
          "metadata": {
            "tags": []
          }
        },
        {
          "output_type": "display_data",
          "data": {
            "text/html": [
              "<pre>| max_iterations                 | Maximum Number of Iterations                     | 50       |</pre>"
            ],
            "text/plain": [
              "| max_iterations                 | Maximum Number of Iterations                     | 50       |"
            ]
          },
          "metadata": {
            "tags": []
          }
        },
        {
          "output_type": "display_data",
          "data": {
            "text/html": [
              "<pre>+--------------------------------+--------------------------------------------------+----------+</pre>"
            ],
            "text/plain": [
              "+--------------------------------+--------------------------------------------------+----------+"
            ]
          },
          "metadata": {
            "tags": []
          }
        },
        {
          "output_type": "display_data",
          "data": {
            "text/html": [
              "<pre>  Optimizing model using SGD; tuning step size.</pre>"
            ],
            "text/plain": [
              "  Optimizing model using SGD; tuning step size."
            ]
          },
          "metadata": {
            "tags": []
          }
        },
        {
          "output_type": "display_data",
          "data": {
            "text/html": [
              "<pre>  Using 34742 / 277936 points for tuning the step size.</pre>"
            ],
            "text/plain": [
              "  Using 34742 / 277936 points for tuning the step size."
            ]
          },
          "metadata": {
            "tags": []
          }
        },
        {
          "output_type": "display_data",
          "data": {
            "text/html": [
              "<pre>+---------+-------------------+------------------------------------------+</pre>"
            ],
            "text/plain": [
              "+---------+-------------------+------------------------------------------+"
            ]
          },
          "metadata": {
            "tags": []
          }
        },
        {
          "output_type": "display_data",
          "data": {
            "text/html": [
              "<pre>| Attempt | Initial Step Size | Estimated Objective Value                |</pre>"
            ],
            "text/plain": [
              "| Attempt | Initial Step Size | Estimated Objective Value                |"
            ]
          },
          "metadata": {
            "tags": []
          }
        },
        {
          "output_type": "display_data",
          "data": {
            "text/html": [
              "<pre>+---------+-------------------+------------------------------------------+</pre>"
            ],
            "text/plain": [
              "+---------+-------------------+------------------------------------------+"
            ]
          },
          "metadata": {
            "tags": []
          }
        },
        {
          "output_type": "display_data",
          "data": {
            "text/html": [
              "<pre>| 0       | 25                | Not Viable                               |</pre>"
            ],
            "text/plain": [
              "| 0       | 25                | Not Viable                               |"
            ]
          },
          "metadata": {
            "tags": []
          }
        },
        {
          "output_type": "display_data",
          "data": {
            "text/html": [
              "<pre>| 1       | 6.25              | Not Viable                               |</pre>"
            ],
            "text/plain": [
              "| 1       | 6.25              | Not Viable                               |"
            ]
          },
          "metadata": {
            "tags": []
          }
        },
        {
          "output_type": "display_data",
          "data": {
            "text/html": [
              "<pre>| 2       | 1.5625            | Not Viable                               |</pre>"
            ],
            "text/plain": [
              "| 2       | 1.5625            | Not Viable                               |"
            ]
          },
          "metadata": {
            "tags": []
          }
        },
        {
          "output_type": "display_data",
          "data": {
            "text/html": [
              "<pre>| 3       | 0.390625          | Not Viable                               |</pre>"
            ],
            "text/plain": [
              "| 3       | 0.390625          | Not Viable                               |"
            ]
          },
          "metadata": {
            "tags": []
          }
        },
        {
          "output_type": "display_data",
          "data": {
            "text/html": [
              "<pre>| 4       | 0.0976562         | 0.428311                                 |</pre>"
            ],
            "text/plain": [
              "| 4       | 0.0976562         | 0.428311                                 |"
            ]
          },
          "metadata": {
            "tags": []
          }
        },
        {
          "output_type": "display_data",
          "data": {
            "text/html": [
              "<pre>| 5       | 0.0488281         | 0.493312                                 |</pre>"
            ],
            "text/plain": [
              "| 5       | 0.0488281         | 0.493312                                 |"
            ]
          },
          "metadata": {
            "tags": []
          }
        },
        {
          "output_type": "display_data",
          "data": {
            "text/html": [
              "<pre>| 6       | 0.0244141         | 0.835368                                 |</pre>"
            ],
            "text/plain": [
              "| 6       | 0.0244141         | 0.835368                                 |"
            ]
          },
          "metadata": {
            "tags": []
          }
        },
        {
          "output_type": "display_data",
          "data": {
            "text/html": [
              "<pre>| 7       | 0.012207          | 1.29412                                  |</pre>"
            ],
            "text/plain": [
              "| 7       | 0.012207          | 1.29412                                  |"
            ]
          },
          "metadata": {
            "tags": []
          }
        },
        {
          "output_type": "display_data",
          "data": {
            "text/html": [
              "<pre>+---------+-------------------+------------------------------------------+</pre>"
            ],
            "text/plain": [
              "+---------+-------------------+------------------------------------------+"
            ]
          },
          "metadata": {
            "tags": []
          }
        },
        {
          "output_type": "display_data",
          "data": {
            "text/html": [
              "<pre>| Final   | 0.0976562         | 0.428311                                 |</pre>"
            ],
            "text/plain": [
              "| Final   | 0.0976562         | 0.428311                                 |"
            ]
          },
          "metadata": {
            "tags": []
          }
        },
        {
          "output_type": "display_data",
          "data": {
            "text/html": [
              "<pre>+---------+-------------------+------------------------------------------+</pre>"
            ],
            "text/plain": [
              "+---------+-------------------+------------------------------------------+"
            ]
          },
          "metadata": {
            "tags": []
          }
        },
        {
          "output_type": "display_data",
          "data": {
            "text/html": [
              "<pre>Starting Optimization.</pre>"
            ],
            "text/plain": [
              "Starting Optimization."
            ]
          },
          "metadata": {
            "tags": []
          }
        },
        {
          "output_type": "display_data",
          "data": {
            "text/html": [
              "<pre>+---------+--------------+-------------------+-----------------------+-------------+</pre>"
            ],
            "text/plain": [
              "+---------+--------------+-------------------+-----------------------+-------------+"
            ]
          },
          "metadata": {
            "tags": []
          }
        },
        {
          "output_type": "display_data",
          "data": {
            "text/html": [
              "<pre>| Iter.   | Elapsed Time | Approx. Objective | Approx. Training RMSE | Step Size   |</pre>"
            ],
            "text/plain": [
              "| Iter.   | Elapsed Time | Approx. Objective | Approx. Training RMSE | Step Size   |"
            ]
          },
          "metadata": {
            "tags": []
          }
        },
        {
          "output_type": "display_data",
          "data": {
            "text/html": [
              "<pre>+---------+--------------+-------------------+-----------------------+-------------+</pre>"
            ],
            "text/plain": [
              "+---------+--------------+-------------------+-----------------------+-------------+"
            ]
          },
          "metadata": {
            "tags": []
          }
        },
        {
          "output_type": "display_data",
          "data": {
            "text/html": [
              "<pre>| Initial | 112us        | 1.68655           | 1.1038                |             |</pre>"
            ],
            "text/plain": [
              "| Initial | 112us        | 1.68655           | 1.1038                |             |"
            ]
          },
          "metadata": {
            "tags": []
          }
        },
        {
          "output_type": "display_data",
          "data": {
            "text/html": [
              "<pre>+---------+--------------+-------------------+-----------------------+-------------+</pre>"
            ],
            "text/plain": [
              "+---------+--------------+-------------------+-----------------------+-------------+"
            ]
          },
          "metadata": {
            "tags": []
          }
        },
        {
          "output_type": "display_data",
          "data": {
            "text/html": [
              "<pre>| 1       | 746.963ms    | 1.67204           | 1.09776               | 0.0976562   |</pre>"
            ],
            "text/plain": [
              "| 1       | 746.963ms    | 1.67204           | 1.09776               | 0.0976562   |"
            ]
          },
          "metadata": {
            "tags": []
          }
        },
        {
          "output_type": "display_data",
          "data": {
            "text/html": [
              "<pre>| 2       | 1.49s        | 0.758695          | 0.507589              | 0.0976562   |</pre>"
            ],
            "text/plain": [
              "| 2       | 1.49s        | 0.758695          | 0.507589              | 0.0976562   |"
            ]
          },
          "metadata": {
            "tags": []
          }
        },
        {
          "output_type": "display_data",
          "data": {
            "text/html": [
              "<pre>| 3       | 2.22s        | 0.534874          | 0.258528              | 0.0976562   |</pre>"
            ],
            "text/plain": [
              "| 3       | 2.22s        | 0.534874          | 0.258528              | 0.0976562   |"
            ]
          },
          "metadata": {
            "tags": []
          }
        },
        {
          "output_type": "display_data",
          "data": {
            "text/html": [
              "<pre>| 4       | 2.96s        | 0.470705          | 0.158213              | 0.0976562   |</pre>"
            ],
            "text/plain": [
              "| 4       | 2.96s        | 0.470705          | 0.158213              | 0.0976562   |"
            ]
          },
          "metadata": {
            "tags": []
          }
        },
        {
          "output_type": "display_data",
          "data": {
            "text/html": [
              "<pre>| 5       | 3.75s        | 0.440442          | 0.131899              | 0.0976562   |</pre>"
            ],
            "text/plain": [
              "| 5       | 3.75s        | 0.440442          | 0.131899              | 0.0976562   |"
            ]
          },
          "metadata": {
            "tags": []
          }
        },
        {
          "output_type": "display_data",
          "data": {
            "text/html": [
              "<pre>| 10      | 7.43s        | 0.348905          | 0.106319              | 0.0976562   |</pre>"
            ],
            "text/plain": [
              "| 10      | 7.43s        | 0.348905          | 0.106319              | 0.0976562   |"
            ]
          },
          "metadata": {
            "tags": []
          }
        },
        {
          "output_type": "display_data",
          "data": {
            "text/html": [
              "<pre>| 15      | 11.13s       | 0.284465          | 0.0949697             | 0.0976562   |</pre>"
            ],
            "text/plain": [
              "| 15      | 11.13s       | 0.284465          | 0.0949697             | 0.0976562   |"
            ]
          },
          "metadata": {
            "tags": []
          }
        },
        {
          "output_type": "display_data",
          "data": {
            "text/html": [
              "<pre>| 20      | 14.82s       | 0.235607          | 0.0855844             | 0.0976562   |</pre>"
            ],
            "text/plain": [
              "| 20      | 14.82s       | 0.235607          | 0.0855844             | 0.0976562   |"
            ]
          },
          "metadata": {
            "tags": []
          }
        },
        {
          "output_type": "display_data",
          "data": {
            "text/html": [
              "<pre>| 25      | 18.49s       | 0.196071          | 0.0785258             | 0.0976562   |</pre>"
            ],
            "text/plain": [
              "| 25      | 18.49s       | 0.196071          | 0.0785258             | 0.0976562   |"
            ]
          },
          "metadata": {
            "tags": []
          }
        },
        {
          "output_type": "display_data",
          "data": {
            "text/html": [
              "<pre>| 30      | 22.17s       | 0.162982          | 0.0724096             | 0.0976562   |</pre>"
            ],
            "text/plain": [
              "| 30      | 22.17s       | 0.162982          | 0.0724096             | 0.0976562   |"
            ]
          },
          "metadata": {
            "tags": []
          }
        },
        {
          "output_type": "display_data",
          "data": {
            "text/html": [
              "<pre>| 35      | 25.91s       | 0.135706          | 0.0672918             | 0.0976562   |</pre>"
            ],
            "text/plain": [
              "| 35      | 25.91s       | 0.135706          | 0.0672918             | 0.0976562   |"
            ]
          },
          "metadata": {
            "tags": []
          }
        },
        {
          "output_type": "display_data",
          "data": {
            "text/html": [
              "<pre>| 40      | 29.62s       | 0.112576          | 0.0635694             | 0.0976562   |</pre>"
            ],
            "text/plain": [
              "| 40      | 29.62s       | 0.112576          | 0.0635694             | 0.0976562   |"
            ]
          },
          "metadata": {
            "tags": []
          }
        },
        {
          "output_type": "display_data",
          "data": {
            "text/html": [
              "<pre>| 45      | 33.27s       | 0.0928487         | 0.0599494             | 0.0976562   |</pre>"
            ],
            "text/plain": [
              "| 45      | 33.27s       | 0.0928487         | 0.0599494             | 0.0976562   |"
            ]
          },
          "metadata": {
            "tags": []
          }
        },
        {
          "output_type": "display_data",
          "data": {
            "text/html": [
              "<pre>| 50      | 36.91s       | 0.0766109         | 0.0568685             | 0.0976562   |</pre>"
            ],
            "text/plain": [
              "| 50      | 36.91s       | 0.0766109         | 0.0568685             | 0.0976562   |"
            ]
          },
          "metadata": {
            "tags": []
          }
        },
        {
          "output_type": "display_data",
          "data": {
            "text/html": [
              "<pre>+---------+--------------+-------------------+-----------------------+-------------+</pre>"
            ],
            "text/plain": [
              "+---------+--------------+-------------------+-----------------------+-------------+"
            ]
          },
          "metadata": {
            "tags": []
          }
        },
        {
          "output_type": "display_data",
          "data": {
            "text/html": [
              "<pre>Optimization Complete: Maximum number of passes through the data reached.</pre>"
            ],
            "text/plain": [
              "Optimization Complete: Maximum number of passes through the data reached."
            ]
          },
          "metadata": {
            "tags": []
          }
        },
        {
          "output_type": "display_data",
          "data": {
            "text/html": [
              "<pre>Computing final objective value and training RMSE.</pre>"
            ],
            "text/plain": [
              "Computing final objective value and training RMSE."
            ]
          },
          "metadata": {
            "tags": []
          }
        },
        {
          "output_type": "display_data",
          "data": {
            "text/html": [
              "<pre>       Final objective value: 0.073706</pre>"
            ],
            "text/plain": [
              "       Final objective value: 0.073706"
            ]
          },
          "metadata": {
            "tags": []
          }
        },
        {
          "output_type": "display_data",
          "data": {
            "text/html": [
              "<pre>       Final training RMSE: 0.0405556</pre>"
            ],
            "text/plain": [
              "       Final training RMSE: 0.0405556"
            ]
          },
          "metadata": {
            "tags": []
          }
        }
      ]
    },
    {
      "cell_type": "markdown",
      "metadata": {
        "id": "QOCQdRmK4zfQ",
        "colab_type": "text"
      },
      "source": [
        "### Score"
      ]
    },
    {
      "cell_type": "code",
      "metadata": {
        "id": "OQsMxl839vRR",
        "colab_type": "code",
        "colab": {
          "base_uri": "https://localhost:8080/",
          "height": 797
        },
        "outputId": "800cfc79-fcce-4525-8d61-a603c11c3dfc"
      },
      "source": [
        "m2.evaluate_precision_recall(sf_test, cutoffs=[10,20,30,40,50])"
      ],
      "execution_count": null,
      "outputs": [
        {
          "output_type": "execute_result",
          "data": {
            "text/plain": [
              "{'precision_recall_by_user': Columns:\n",
              " \tuser_id\tstr\n",
              " \tcutoff\tint\n",
              " \tprecision\tfloat\n",
              " \trecall\tfloat\n",
              " \tcount\tint\n",
              " \n",
              " Rows: 2580\n",
              " \n",
              " Data:\n",
              " +----------------+--------+-----------+--------+-------+\n",
              " |    user_id     | cutoff | precision | recall | count |\n",
              " +----------------+--------+-----------+--------+-------+\n",
              " | A2L7K5U87UVHJ7 |   10   |    0.0    |  0.0   |   1   |\n",
              " | A2L7K5U87UVHJ7 |   20   |    0.0    |  0.0   |   1   |\n",
              " | A2L7K5U87UVHJ7 |   30   |    0.0    |  0.0   |   1   |\n",
              " | A2L7K5U87UVHJ7 |   40   |    0.0    |  0.0   |   1   |\n",
              " | A2L7K5U87UVHJ7 |   50   |    0.0    |  0.0   |   1   |\n",
              " | A279F26TAKYWMA |   10   |    0.0    |  0.0   |   1   |\n",
              " | A279F26TAKYWMA |   20   |    0.0    |  0.0   |   1   |\n",
              " | A279F26TAKYWMA |   30   |    0.0    |  0.0   |   1   |\n",
              " | A279F26TAKYWMA |   40   |    0.0    |  0.0   |   1   |\n",
              " | A279F26TAKYWMA |   50   |    0.0    |  0.0   |   1   |\n",
              " +----------------+--------+-----------+--------+-------+\n",
              " [2580 rows x 5 columns]\n",
              " Note: Only the head of the SFrame is printed.\n",
              " You can use print_rows(num_rows=m, num_columns=n) to print more rows and columns.,\n",
              " 'precision_recall_overall': Columns:\n",
              " \tcutoff\tint\n",
              " \tprecision\tfloat\n",
              " \trecall\tfloat\n",
              " \n",
              " Rows: 5\n",
              " \n",
              " Data:\n",
              " +--------+-----------------------+----------------------+\n",
              " | cutoff |       precision       |        recall        |\n",
              " +--------+-----------------------+----------------------+\n",
              " |   10   | 0.0017441860465116285 | 0.012661498708010336 |\n",
              " |   20   | 0.0012596899224806204 | 0.01847545219638243  |\n",
              " |   30   | 0.0011627906976744184 | 0.023804909560723515 |\n",
              " |   40   |  0.000920542635658915 | 0.025742894056847543 |\n",
              " |   50   | 0.0007751937984496128 | 0.02768087855297158  |\n",
              " +--------+-----------------------+----------------------+\n",
              " [5 rows x 3 columns]}"
            ]
          },
          "metadata": {
            "tags": []
          },
          "execution_count": 41
        }
      ]
    },
    {
      "cell_type": "markdown",
      "metadata": {
        "id": "aLVMhw-142LC",
        "colab_type": "text"
      },
      "source": [
        "### Recommendation"
      ]
    },
    {
      "cell_type": "code",
      "metadata": {
        "id": "jKF10kFyuaLL",
        "colab_type": "code",
        "colab": {}
      },
      "source": [
        "# save model weights\n",
        "m2.save(\"baseline_factorisation\")"
      ],
      "execution_count": null,
      "outputs": []
    },
    {
      "cell_type": "code",
      "metadata": {
        "id": "T9qxL-i3W7FZ",
        "colab_type": "code",
        "colab": {}
      },
      "source": [
        "# load back saved model\n",
        "m2 = tc.load_model(\"baseline_factorisation\")"
      ],
      "execution_count": null,
      "outputs": []
    },
    {
      "cell_type": "code",
      "metadata": {
        "id": "HkvQsagAWueO",
        "colab_type": "code",
        "colab": {}
      },
      "source": [
        "obs_dict = {'user_id': SArray([\"A2NOW4U7W3F7RI\"])}\n",
        "obs = SFrame(obs_dict)"
      ],
      "execution_count": null,
      "outputs": []
    },
    {
      "cell_type": "code",
      "metadata": {
        "id": "D2oc0fpxWvPM",
        "colab_type": "code",
        "colab": {
          "base_uri": "https://localhost:8080/",
          "height": 241
        },
        "outputId": "d4892e70-d28d-4676-a9c5-c6255c062d4f"
      },
      "source": [
        "m2.recommend(obs, k=10, diversity=0)"
      ],
      "execution_count": null,
      "outputs": [
        {
          "output_type": "execute_result",
          "data": {
            "text/html": [
              "<div style=\"max-height:1000px;max-width:1500px;overflow:auto;\"><table frame=\"box\" rules=\"cols\">\n",
              "    <tr>\n",
              "        <th style=\"padding-left: 1em; padding-right: 1em; text-align: center\">user_id</th>\n",
              "        <th style=\"padding-left: 1em; padding-right: 1em; text-align: center\">item_id</th>\n",
              "        <th style=\"padding-left: 1em; padding-right: 1em; text-align: center\">score</th>\n",
              "        <th style=\"padding-left: 1em; padding-right: 1em; text-align: center\">rank</th>\n",
              "    </tr>\n",
              "    <tr>\n",
              "        <td style=\"padding-left: 1em; padding-right: 1em; text-align: center; vertical-align: top\">A2NOW4U7W3F7RI</td>\n",
              "        <td style=\"padding-left: 1em; padding-right: 1em; text-align: center; vertical-align: top\">B000O32MLI</td>\n",
              "        <td style=\"padding-left: 1em; padding-right: 1em; text-align: center; vertical-align: top\">5.5408727939480915</td>\n",
              "        <td style=\"padding-left: 1em; padding-right: 1em; text-align: center; vertical-align: top\">1</td>\n",
              "    </tr>\n",
              "    <tr>\n",
              "        <td style=\"padding-left: 1em; padding-right: 1em; text-align: center; vertical-align: top\">A2NOW4U7W3F7RI</td>\n",
              "        <td style=\"padding-left: 1em; padding-right: 1em; text-align: center; vertical-align: top\">B000AYYIYU</td>\n",
              "        <td style=\"padding-left: 1em; padding-right: 1em; text-align: center; vertical-align: top\">4.881638270174898</td>\n",
              "        <td style=\"padding-left: 1em; padding-right: 1em; text-align: center; vertical-align: top\">2</td>\n",
              "    </tr>\n",
              "    <tr>\n",
              "        <td style=\"padding-left: 1em; padding-right: 1em; text-align: center; vertical-align: top\">A2NOW4U7W3F7RI</td>\n",
              "        <td style=\"padding-left: 1em; padding-right: 1em; text-align: center; vertical-align: top\">B000AOZJZM</td>\n",
              "        <td style=\"padding-left: 1em; padding-right: 1em; text-align: center; vertical-align: top\">4.713524442469515</td>\n",
              "        <td style=\"padding-left: 1em; padding-right: 1em; text-align: center; vertical-align: top\">3</td>\n",
              "    </tr>\n",
              "    <tr>\n",
              "        <td style=\"padding-left: 1em; padding-right: 1em; text-align: center; vertical-align: top\">A2NOW4U7W3F7RI</td>\n",
              "        <td style=\"padding-left: 1em; padding-right: 1em; text-align: center; vertical-align: top\">B00075ZYRW</td>\n",
              "        <td style=\"padding-left: 1em; padding-right: 1em; text-align: center; vertical-align: top\">4.6987402255887165</td>\n",
              "        <td style=\"padding-left: 1em; padding-right: 1em; text-align: center; vertical-align: top\">4</td>\n",
              "    </tr>\n",
              "    <tr>\n",
              "        <td style=\"padding-left: 1em; padding-right: 1em; text-align: center; vertical-align: top\">A2NOW4U7W3F7RI</td>\n",
              "        <td style=\"padding-left: 1em; padding-right: 1em; text-align: center; vertical-align: top\">B00DMZOSXK</td>\n",
              "        <td style=\"padding-left: 1em; padding-right: 1em; text-align: center; vertical-align: top\">4.669031601702608</td>\n",
              "        <td style=\"padding-left: 1em; padding-right: 1em; text-align: center; vertical-align: top\">5</td>\n",
              "    </tr>\n",
              "    <tr>\n",
              "        <td style=\"padding-left: 1em; padding-right: 1em; text-align: center; vertical-align: top\">A2NOW4U7W3F7RI</td>\n",
              "        <td style=\"padding-left: 1em; padding-right: 1em; text-align: center; vertical-align: top\">B009ZQ3XE0</td>\n",
              "        <td style=\"padding-left: 1em; padding-right: 1em; text-align: center; vertical-align: top\">4.630698662554659</td>\n",
              "        <td style=\"padding-left: 1em; padding-right: 1em; text-align: center; vertical-align: top\">6</td>\n",
              "    </tr>\n",
              "    <tr>\n",
              "        <td style=\"padding-left: 1em; padding-right: 1em; text-align: center; vertical-align: top\">A2NOW4U7W3F7RI</td>\n",
              "        <td style=\"padding-left: 1em; padding-right: 1em; text-align: center; vertical-align: top\">B004AFNM7O</td>\n",
              "        <td style=\"padding-left: 1em; padding-right: 1em; text-align: center; vertical-align: top\">4.621831637179293</td>\n",
              "        <td style=\"padding-left: 1em; padding-right: 1em; text-align: center; vertical-align: top\">7</td>\n",
              "    </tr>\n",
              "    <tr>\n",
              "        <td style=\"padding-left: 1em; padding-right: 1em; text-align: center; vertical-align: top\">A2NOW4U7W3F7RI</td>\n",
              "        <td style=\"padding-left: 1em; padding-right: 1em; text-align: center; vertical-align: top\">B00401VJ32</td>\n",
              "        <td style=\"padding-left: 1em; padding-right: 1em; text-align: center; vertical-align: top\">4.607583623682894</td>\n",
              "        <td style=\"padding-left: 1em; padding-right: 1em; text-align: center; vertical-align: top\">8</td>\n",
              "    </tr>\n",
              "    <tr>\n",
              "        <td style=\"padding-left: 1em; padding-right: 1em; text-align: center; vertical-align: top\">A2NOW4U7W3F7RI</td>\n",
              "        <td style=\"padding-left: 1em; padding-right: 1em; text-align: center; vertical-align: top\">B009OKPR96</td>\n",
              "        <td style=\"padding-left: 1em; padding-right: 1em; text-align: center; vertical-align: top\">4.599393111025728</td>\n",
              "        <td style=\"padding-left: 1em; padding-right: 1em; text-align: center; vertical-align: top\">9</td>\n",
              "    </tr>\n",
              "    <tr>\n",
              "        <td style=\"padding-left: 1em; padding-right: 1em; text-align: center; vertical-align: top\">A2NOW4U7W3F7RI</td>\n",
              "        <td style=\"padding-left: 1em; padding-right: 1em; text-align: center; vertical-align: top\">B0011ZX636</td>\n",
              "        <td style=\"padding-left: 1em; padding-right: 1em; text-align: center; vertical-align: top\">4.5913557823056355</td>\n",
              "        <td style=\"padding-left: 1em; padding-right: 1em; text-align: center; vertical-align: top\">10</td>\n",
              "    </tr>\n",
              "</table>\n",
              "[10 rows x 4 columns]<br/>\n",
              "</div>"
            ],
            "text/plain": [
              "Columns:\n",
              "\tuser_id\tstr\n",
              "\titem_id\tstr\n",
              "\tscore\tfloat\n",
              "\trank\tint\n",
              "\n",
              "Rows: 10\n",
              "\n",
              "Data:\n",
              "+----------------+------------+--------------------+------+\n",
              "|    user_id     |  item_id   |       score        | rank |\n",
              "+----------------+------------+--------------------+------+\n",
              "| A2NOW4U7W3F7RI | B000O32MLI | 5.5408727939480915 |  1   |\n",
              "| A2NOW4U7W3F7RI | B000AYYIYU | 4.881638270174898  |  2   |\n",
              "| A2NOW4U7W3F7RI | B000AOZJZM | 4.713524442469515  |  3   |\n",
              "| A2NOW4U7W3F7RI | B00075ZYRW | 4.6987402255887165 |  4   |\n",
              "| A2NOW4U7W3F7RI | B00DMZOSXK | 4.669031601702608  |  5   |\n",
              "| A2NOW4U7W3F7RI | B009ZQ3XE0 | 4.630698662554659  |  6   |\n",
              "| A2NOW4U7W3F7RI | B004AFNM7O | 4.621831637179293  |  7   |\n",
              "| A2NOW4U7W3F7RI | B00401VJ32 | 4.607583623682894  |  8   |\n",
              "| A2NOW4U7W3F7RI | B009OKPR96 | 4.599393111025728  |  9   |\n",
              "| A2NOW4U7W3F7RI | B0011ZX636 | 4.5913557823056355 |  10  |\n",
              "+----------------+------------+--------------------+------+\n",
              "[10 rows x 4 columns]"
            ]
          },
          "metadata": {
            "tags": []
          },
          "execution_count": 8
        }
      ]
    },
    {
      "cell_type": "code",
      "metadata": {
        "id": "OhKAChDUgHNj",
        "colab_type": "code",
        "colab": {}
      },
      "source": [
        "obs_dict = {'user_id': SArray([\"A3NHUQ33CFH3VM\"])}\n",
        "obs = SFrame(obs_dict)"
      ],
      "execution_count": null,
      "outputs": []
    },
    {
      "cell_type": "code",
      "metadata": {
        "id": "etkjoxKZgKmB",
        "colab_type": "code",
        "colab": {
          "base_uri": "https://localhost:8080/",
          "height": 241
        },
        "outputId": "f575db9d-633b-4779-a430-b229daf81046"
      },
      "source": [
        "m2.recommend(obs, k=10, diversity=0)"
      ],
      "execution_count": null,
      "outputs": [
        {
          "output_type": "execute_result",
          "data": {
            "text/html": [
              "<div style=\"max-height:1000px;max-width:1500px;overflow:auto;\"><table frame=\"box\" rules=\"cols\">\n",
              "    <tr>\n",
              "        <th style=\"padding-left: 1em; padding-right: 1em; text-align: center\">user_id</th>\n",
              "        <th style=\"padding-left: 1em; padding-right: 1em; text-align: center\">item_id</th>\n",
              "        <th style=\"padding-left: 1em; padding-right: 1em; text-align: center\">score</th>\n",
              "        <th style=\"padding-left: 1em; padding-right: 1em; text-align: center\">rank</th>\n",
              "    </tr>\n",
              "    <tr>\n",
              "        <td style=\"padding-left: 1em; padding-right: 1em; text-align: center; vertical-align: top\">A3NHUQ33CFH3VM</td>\n",
              "        <td style=\"padding-left: 1em; padding-right: 1em; text-align: center; vertical-align: top\">B00422MCUS</td>\n",
              "        <td style=\"padding-left: 1em; padding-right: 1em; text-align: center; vertical-align: top\">5.597339373385347</td>\n",
              "        <td style=\"padding-left: 1em; padding-right: 1em; text-align: center; vertical-align: top\">1</td>\n",
              "    </tr>\n",
              "    <tr>\n",
              "        <td style=\"padding-left: 1em; padding-right: 1em; text-align: center; vertical-align: top\">A3NHUQ33CFH3VM</td>\n",
              "        <td style=\"padding-left: 1em; padding-right: 1em; text-align: center; vertical-align: top\">B000ARPN46</td>\n",
              "        <td style=\"padding-left: 1em; padding-right: 1em; text-align: center; vertical-align: top\">5.191772204195894</td>\n",
              "        <td style=\"padding-left: 1em; padding-right: 1em; text-align: center; vertical-align: top\">2</td>\n",
              "    </tr>\n",
              "    <tr>\n",
              "        <td style=\"padding-left: 1em; padding-right: 1em; text-align: center; vertical-align: top\">A3NHUQ33CFH3VM</td>\n",
              "        <td style=\"padding-left: 1em; padding-right: 1em; text-align: center; vertical-align: top\">B005VNFCZO</td>\n",
              "        <td style=\"padding-left: 1em; padding-right: 1em; text-align: center; vertical-align: top\">5.139370184695162</td>\n",
              "        <td style=\"padding-left: 1em; padding-right: 1em; text-align: center; vertical-align: top\">3</td>\n",
              "    </tr>\n",
              "    <tr>\n",
              "        <td style=\"padding-left: 1em; padding-right: 1em; text-align: center; vertical-align: top\">A3NHUQ33CFH3VM</td>\n",
              "        <td style=\"padding-left: 1em; padding-right: 1em; text-align: center; vertical-align: top\">B0051U15E4</td>\n",
              "        <td style=\"padding-left: 1em; padding-right: 1em; text-align: center; vertical-align: top\">5.011927347933687</td>\n",
              "        <td style=\"padding-left: 1em; padding-right: 1em; text-align: center; vertical-align: top\">4</td>\n",
              "    </tr>\n",
              "    <tr>\n",
              "        <td style=\"padding-left: 1em; padding-right: 1em; text-align: center; vertical-align: top\">A3NHUQ33CFH3VM</td>\n",
              "        <td style=\"padding-left: 1em; padding-right: 1em; text-align: center; vertical-align: top\">B007WNWEFC</td>\n",
              "        <td style=\"padding-left: 1em; padding-right: 1em; text-align: center; vertical-align: top\">4.827659350191988</td>\n",
              "        <td style=\"padding-left: 1em; padding-right: 1em; text-align: center; vertical-align: top\">5</td>\n",
              "    </tr>\n",
              "    <tr>\n",
              "        <td style=\"padding-left: 1em; padding-right: 1em; text-align: center; vertical-align: top\">A3NHUQ33CFH3VM</td>\n",
              "        <td style=\"padding-left: 1em; padding-right: 1em; text-align: center; vertical-align: top\">B0047N0ZYW</td>\n",
              "        <td style=\"padding-left: 1em; padding-right: 1em; text-align: center; vertical-align: top\">4.8116740997189655</td>\n",
              "        <td style=\"padding-left: 1em; padding-right: 1em; text-align: center; vertical-align: top\">6</td>\n",
              "    </tr>\n",
              "    <tr>\n",
              "        <td style=\"padding-left: 1em; padding-right: 1em; text-align: center; vertical-align: top\">A3NHUQ33CFH3VM</td>\n",
              "        <td style=\"padding-left: 1em; padding-right: 1em; text-align: center; vertical-align: top\">B0030CM2YC</td>\n",
              "        <td style=\"padding-left: 1em; padding-right: 1em; text-align: center; vertical-align: top\">4.779813032900728</td>\n",
              "        <td style=\"padding-left: 1em; padding-right: 1em; text-align: center; vertical-align: top\">7</td>\n",
              "    </tr>\n",
              "    <tr>\n",
              "        <td style=\"padding-left: 1em; padding-right: 1em; text-align: center; vertical-align: top\">A3NHUQ33CFH3VM</td>\n",
              "        <td style=\"padding-left: 1em; padding-right: 1em; text-align: center; vertical-align: top\">B0010ODJNK</td>\n",
              "        <td style=\"padding-left: 1em; padding-right: 1em; text-align: center; vertical-align: top\">4.751229744707979</td>\n",
              "        <td style=\"padding-left: 1em; padding-right: 1em; text-align: center; vertical-align: top\">8</td>\n",
              "    </tr>\n",
              "    <tr>\n",
              "        <td style=\"padding-left: 1em; padding-right: 1em; text-align: center; vertical-align: top\">A3NHUQ33CFH3VM</td>\n",
              "        <td style=\"padding-left: 1em; padding-right: 1em; text-align: center; vertical-align: top\">B0015MN8QU</td>\n",
              "        <td style=\"padding-left: 1em; padding-right: 1em; text-align: center; vertical-align: top\">4.648667317187227</td>\n",
              "        <td style=\"padding-left: 1em; padding-right: 1em; text-align: center; vertical-align: top\">9</td>\n",
              "    </tr>\n",
              "    <tr>\n",
              "        <td style=\"padding-left: 1em; padding-right: 1em; text-align: center; vertical-align: top\">A3NHUQ33CFH3VM</td>\n",
              "        <td style=\"padding-left: 1em; padding-right: 1em; text-align: center; vertical-align: top\">B00BZHXRPC</td>\n",
              "        <td style=\"padding-left: 1em; padding-right: 1em; text-align: center; vertical-align: top\">4.647022705828585</td>\n",
              "        <td style=\"padding-left: 1em; padding-right: 1em; text-align: center; vertical-align: top\">10</td>\n",
              "    </tr>\n",
              "</table>\n",
              "[10 rows x 4 columns]<br/>\n",
              "</div>"
            ],
            "text/plain": [
              "Columns:\n",
              "\tuser_id\tstr\n",
              "\titem_id\tstr\n",
              "\tscore\tfloat\n",
              "\trank\tint\n",
              "\n",
              "Rows: 10\n",
              "\n",
              "Data:\n",
              "+----------------+------------+--------------------+------+\n",
              "|    user_id     |  item_id   |       score        | rank |\n",
              "+----------------+------------+--------------------+------+\n",
              "| A3NHUQ33CFH3VM | B00422MCUS | 5.597339373385347  |  1   |\n",
              "| A3NHUQ33CFH3VM | B000ARPN46 | 5.191772204195894  |  2   |\n",
              "| A3NHUQ33CFH3VM | B005VNFCZO | 5.139370184695162  |  3   |\n",
              "| A3NHUQ33CFH3VM | B0051U15E4 | 5.011927347933687  |  4   |\n",
              "| A3NHUQ33CFH3VM | B007WNWEFC | 4.827659350191988  |  5   |\n",
              "| A3NHUQ33CFH3VM | B0047N0ZYW | 4.8116740997189655 |  6   |\n",
              "| A3NHUQ33CFH3VM | B0030CM2YC | 4.779813032900728  |  7   |\n",
              "| A3NHUQ33CFH3VM | B0010ODJNK | 4.751229744707979  |  8   |\n",
              "| A3NHUQ33CFH3VM | B0015MN8QU | 4.648667317187227  |  9   |\n",
              "| A3NHUQ33CFH3VM | B00BZHXRPC | 4.647022705828585  |  10  |\n",
              "+----------------+------------+--------------------+------+\n",
              "[10 rows x 4 columns]"
            ]
          },
          "metadata": {
            "tags": []
          },
          "execution_count": 10
        }
      ]
    }
  ]
}