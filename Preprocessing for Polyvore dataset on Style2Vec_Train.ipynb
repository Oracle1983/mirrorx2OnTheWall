{
 "cells": [
  {
   "cell_type": "code",
   "execution_count": 1,
   "metadata": {},
   "outputs": [],
   "source": [
    "import json\n",
    "from collections import defaultdict, Counter\n",
    "import matplotlib.pyplot as plt"
   ]
  },
  {
   "cell_type": "code",
   "execution_count": 13,
   "metadata": {},
   "outputs": [],
   "source": [
    "with open('./Style2Vec/data/label/train_no_dup.json') as data:\n",
    "    data = data.read()\n",
    "    data = json.loads(data)"
   ]
  },
  {
   "cell_type": "code",
   "execution_count": 14,
   "metadata": {},
   "outputs": [
    {
     "data": {
      "text/plain": [
       "17316"
      ]
     },
     "execution_count": 14,
     "metadata": {},
     "output_type": "execute_result"
    }
   ],
   "source": [
    "# no of sets\n",
    "len(data)"
   ]
  },
  {
   "cell_type": "code",
   "execution_count": 15,
   "metadata": {},
   "outputs": [
    {
     "data": {
      "text/plain": [
       "{'name': 'Casual',\n",
       " 'views': 8743,\n",
       " 'items': [{'index': 1,\n",
       "   'name': 'mock neck embroidery suede sweatshirt',\n",
       "   'price': 24.0,\n",
       "   'likes': 10,\n",
       "   'image': 'http://img2.polyvoreimg.com/cgi/img-thing?.out=jpg&size=m&tid=194508109',\n",
       "   'categoryid': 4495},\n",
       "  {'index': 2,\n",
       "   'name': 'luxe double zip hooded jacket',\n",
       "   'price': 150.0,\n",
       "   'likes': 2250,\n",
       "   'image': 'http://img2.polyvoreimg.com/cgi/img-thing?.out=jpg&size=m&tid=188778349',\n",
       "   'categoryid': 25},\n",
       "  {'index': 3,\n",
       "   'name': 'citizens humanity high rise rocket hem jean',\n",
       "   'price': 248.0,\n",
       "   'likes': 2437,\n",
       "   'image': 'http://img1.polyvoreimg.com/cgi/img-thing?.out=jpg&size=m&tid=188977857',\n",
       "   'categoryid': 27},\n",
       "  {'index': 4,\n",
       "   'name': 'suede tie short boots',\n",
       "   'price': 37.0,\n",
       "   'likes': 2,\n",
       "   'image': 'http://img1.polyvoreimg.com/cgi/img-thing?.out=jpg&size=m&tid=194942557',\n",
       "   'categoryid': 261},\n",
       "  {'index': 5,\n",
       "   'name': 'cloth travel school backpack',\n",
       "   'price': 22.0,\n",
       "   'likes': 2,\n",
       "   'image': 'http://img2.polyvoreimg.com/cgi/img-thing?.out=jpg&size=m&tid=194941874',\n",
       "   'categoryid': 259},\n",
       "  {'index': 6,\n",
       "   'name': '',\n",
       "   'price': 160.0,\n",
       "   'likes': 3,\n",
       "   'image': 'http://img1.polyvoreimg.com/cgi/img-thing?.out=jpg&size=m&tid=194578327',\n",
       "   'categoryid': 1967},\n",
       "  {'index': 7,\n",
       "   'name': 'polyvore',\n",
       "   'price': -1,\n",
       "   'likes': 51,\n",
       "   'image': 'http://img2.polyvoreimg.com/cgi/img-thing?.out=jpg&size=m&tid=190204630',\n",
       "   'categoryid': 2}],\n",
       " 'image': 'http://ak1.polyvoreimg.com/cgi/img-set/cid/214181831/id/El8a99fQ5hG4HrPFO4xqOQ/size/y.jpg',\n",
       " 'likes': 394,\n",
       " 'date': 'One month',\n",
       " 'set_url': 'http://www.polyvore.com/casual/set?id=214181831',\n",
       " 'set_id': '214181831',\n",
       " 'desc': 'A fashion look from January 2017 by beebeely-look featuring Fuji, Citizens of Humanity, casual, casualoutfit, Packandgo, winterjacket and gearbest'}"
      ]
     },
     "execution_count": 15,
     "metadata": {},
     "output_type": "execute_result"
    }
   ],
   "source": [
    "data[0]"
   ]
  },
  {
   "cell_type": "code",
   "execution_count": 16,
   "metadata": {},
   "outputs": [],
   "source": [
    "results = defaultdict(int)\n",
    "\n",
    "for d in data:\n",
    "    for item in d['items']:\n",
    "        results[item['categoryid']] += 1"
   ]
  },
  {
   "cell_type": "code",
   "execution_count": 17,
   "metadata": {},
   "outputs": [
    {
     "data": {
      "application/vnd.plotly.v1+json": {
       "config": {
        "plotlyServerURL": "https://plot.ly"
       },
       "data": [
        {
         "alignmentgroup": "True",
         "hovertemplate": "index=%{x}<br>0=%{y}<extra></extra>",
         "legendgroup": "",
         "marker": {
          "color": "#636efa"
         },
         "name": "",
         "offsetgroup": "",
         "orientation": "v",
         "showlegend": false,
         "textposition": "auto",
         "type": "bar",
         "x": [
          4495,
          25,
          27,
          261,
          259,
          1967,
          2,
          21,
          237,
          49,
          106,
          104,
          37,
          55,
          11,
          28,
          65,
          52,
          200,
          186,
          76,
          236,
          9,
          64,
          62,
          241,
          47,
          196,
          19,
          41,
          38,
          140,
          4438,
          8,
          222,
          4,
          17,
          24,
          43,
          318,
          105,
          58,
          188,
          171,
          18,
          46,
          4428,
          61,
          5,
          95,
          310,
          4426,
          57,
          4496,
          240,
          67,
          36,
          74,
          7,
          197,
          199,
          50,
          189,
          93,
          29,
          201,
          198,
          4441,
          42,
          229,
          3336,
          316,
          110,
          303,
          40,
          275,
          283,
          297,
          300,
          227,
          182,
          23,
          10,
          132,
          123,
          4503,
          159,
          179,
          144,
          195,
          26,
          221,
          314,
          194,
          266,
          39,
          77,
          190,
          319,
          332,
          263,
          108,
          51,
          6,
          53,
          60,
          187,
          214,
          265,
          251,
          258,
          342,
          4458,
          295,
          305,
          4520,
          4463,
          4472,
          211,
          107,
          278,
          4456,
          56,
          4452,
          4244,
          4517,
          333,
          220,
          252,
          335,
          71,
          4487,
          340,
          141,
          35,
          3,
          69,
          78,
          245,
          4479,
          304,
          4454,
          291,
          1605,
          4497,
          244,
          223,
          4429,
          4448,
          4267,
          59,
          264,
          204,
          213,
          1606,
          208,
          4500,
          4499,
          313,
          177,
          238,
          299,
          33,
          309,
          231,
          246,
          139,
          253,
          4518,
          224,
          257,
          256,
          218,
          184,
          193,
          97,
          292,
          302,
          48,
          250,
          4478,
          271,
          163,
          202,
          4459,
          4455,
          296,
          4462,
          338,
          243,
          260,
          4498,
          4461,
          4477,
          308,
          98,
          281,
          4513,
          262,
          160,
          4447,
          203,
          115,
          118,
          135,
          4240,
          205,
          290,
          162,
          268,
          949,
          176,
          94,
          315,
          191,
          116,
          4506,
          4507,
          136,
          15,
          4512,
          4254,
          217,
          185,
          4258,
          126,
          4446,
          99,
          311,
          4431,
          4433,
          301,
          122,
          147,
          102,
          4467,
          4257,
          146,
          129,
          4504,
          167,
          161,
          1607,
          192,
          219,
          75,
          4432,
          143,
          209,
          334,
          321,
          174,
          247,
          4523,
          4484,
          150,
          206,
          155,
          113,
          4450,
          164,
          248,
          4440,
          255,
          31,
          178,
          317,
          130,
          4466,
          4437,
          280,
          4292,
          180,
          4525,
          4521,
          4505,
          4516,
          68,
          4439,
          96,
          267,
          4246,
          124,
          4508,
          4522,
          4524,
          4501,
          339,
          4464,
          307,
          239,
          4488,
          4476,
          249,
          170,
          207,
          279,
          4248,
          272,
          4475,
          4460,
          4457,
          4486,
          4435,
          4465,
          4510,
          341,
          277,
          4269,
          152,
          228,
          4451,
          4242,
          4247,
          270,
          4470,
          4473,
          4443,
          4509,
          172,
          4526,
          225,
          4514,
          287,
          173,
          127,
          4468,
          4442,
          306,
          216,
          298,
          151,
          154,
          4436,
          4480,
          120,
          4276,
          226,
          273,
          294,
          4511,
          276,
          343,
          293,
          286,
          4483,
          153,
          4492,
          288,
          181,
          169,
          175,
          101,
          282,
          4449,
          4430,
          337,
          336,
          4445,
          320,
          4482,
          4481,
          4493
         ],
         "xaxis": "x",
         "y": [
          573,
          2652,
          807,
          3313,
          1529,
          2398,
          1249,
          1813,
          2371,
          2616,
          2906,
          1583,
          4119,
          1804,
          3528,
          1315,
          2674,
          379,
          2346,
          516,
          193,
          712,
          1793,
          4216,
          3881,
          524,
          960,
          1486,
          2453,
          930,
          2788,
          93,
          673,
          1031,
          1015,
          2388,
          1703,
          2277,
          3245,
          2092,
          738,
          860,
          66,
          112,
          551,
          3235,
          388,
          1403,
          1031,
          1182,
          183,
          40,
          3497,
          258,
          580,
          229,
          1617,
          450,
          243,
          909,
          663,
          81,
          210,
          540,
          1933,
          492,
          143,
          108,
          643,
          59,
          349,
          307,
          115,
          109,
          434,
          147,
          6,
          196,
          54,
          362,
          482,
          244,
          232,
          2,
          48,
          45,
          9,
          54,
          96,
          98,
          263,
          27,
          18,
          297,
          234,
          163,
          312,
          281,
          304,
          270,
          211,
          26,
          374,
          288,
          150,
          454,
          304,
          143,
          290,
          183,
          178,
          16,
          118,
          17,
          186,
          51,
          90,
          113,
          207,
          125,
          228,
          120,
          20,
          67,
          144,
          54,
          101,
          38,
          7,
          80,
          77,
          2,
          96,
          54,
          206,
          363,
          226,
          252,
          222,
          68,
          141,
          133,
          62,
          81,
          6,
          146,
          204,
          4,
          44,
          55,
          24,
          213,
          74,
          123,
          64,
          54,
          10,
          11,
          23,
          146,
          46,
          16,
          8,
          14,
          83,
          99,
          45,
          103,
          29,
          10,
          45,
          6,
          10,
          142,
          57,
          55,
          61,
          34,
          80,
          14,
          20,
          47,
          5,
          66,
          34,
          26,
          33,
          11,
          18,
          93,
          18,
          4,
          24,
          19,
          22,
          67,
          7,
          9,
          99,
          14,
          38,
          20,
          68,
          111,
          29,
          52,
          32,
          6,
          87,
          41,
          118,
          24,
          8,
          76,
          25,
          81,
          39,
          5,
          90,
          85,
          9,
          73,
          47,
          11,
          1,
          18,
          2,
          22,
          110,
          5,
          13,
          9,
          3,
          7,
          98,
          27,
          58,
          8,
          4,
          10,
          36,
          4,
          18,
          19,
          17,
          31,
          17,
          29,
          19,
          24,
          9,
          6,
          23,
          41,
          3,
          5,
          9,
          1,
          5,
          5,
          5,
          2,
          9,
          10,
          17,
          20,
          6,
          14,
          7,
          1,
          9,
          15,
          18,
          20,
          17,
          33,
          8,
          6,
          17,
          20,
          18,
          6,
          4,
          1,
          20,
          14,
          3,
          14,
          8,
          4,
          30,
          2,
          4,
          21,
          7,
          42,
          9,
          10,
          12,
          5,
          8,
          10,
          3,
          31,
          1,
          1,
          37,
          9,
          5,
          4,
          19,
          6,
          3,
          1,
          4,
          7,
          3,
          5,
          2,
          2,
          2,
          2,
          6,
          4,
          4,
          8,
          7,
          4,
          6,
          1,
          9,
          4,
          3,
          8,
          4,
          10,
          6,
          2,
          15,
          2,
          3,
          6,
          8,
          3,
          1,
          3,
          1,
          1,
          1,
          1,
          3,
          2,
          2,
          2,
          2,
          1,
          2,
          1,
          3,
          4,
          1,
          1,
          1
         ],
         "yaxis": "y"
        }
       ],
       "layout": {
        "barmode": "relative",
        "legend": {
         "tracegroupgap": 0
        },
        "margin": {
         "t": 60
        },
        "template": {
         "data": {
          "bar": [
           {
            "error_x": {
             "color": "#2a3f5f"
            },
            "error_y": {
             "color": "#2a3f5f"
            },
            "marker": {
             "line": {
              "color": "#E5ECF6",
              "width": 0.5
             }
            },
            "type": "bar"
           }
          ],
          "barpolar": [
           {
            "marker": {
             "line": {
              "color": "#E5ECF6",
              "width": 0.5
             }
            },
            "type": "barpolar"
           }
          ],
          "carpet": [
           {
            "aaxis": {
             "endlinecolor": "#2a3f5f",
             "gridcolor": "white",
             "linecolor": "white",
             "minorgridcolor": "white",
             "startlinecolor": "#2a3f5f"
            },
            "baxis": {
             "endlinecolor": "#2a3f5f",
             "gridcolor": "white",
             "linecolor": "white",
             "minorgridcolor": "white",
             "startlinecolor": "#2a3f5f"
            },
            "type": "carpet"
           }
          ],
          "choropleth": [
           {
            "colorbar": {
             "outlinewidth": 0,
             "ticks": ""
            },
            "type": "choropleth"
           }
          ],
          "contour": [
           {
            "colorbar": {
             "outlinewidth": 0,
             "ticks": ""
            },
            "colorscale": [
             [
              0,
              "#0d0887"
             ],
             [
              0.1111111111111111,
              "#46039f"
             ],
             [
              0.2222222222222222,
              "#7201a8"
             ],
             [
              0.3333333333333333,
              "#9c179e"
             ],
             [
              0.4444444444444444,
              "#bd3786"
             ],
             [
              0.5555555555555556,
              "#d8576b"
             ],
             [
              0.6666666666666666,
              "#ed7953"
             ],
             [
              0.7777777777777778,
              "#fb9f3a"
             ],
             [
              0.8888888888888888,
              "#fdca26"
             ],
             [
              1,
              "#f0f921"
             ]
            ],
            "type": "contour"
           }
          ],
          "contourcarpet": [
           {
            "colorbar": {
             "outlinewidth": 0,
             "ticks": ""
            },
            "type": "contourcarpet"
           }
          ],
          "heatmap": [
           {
            "colorbar": {
             "outlinewidth": 0,
             "ticks": ""
            },
            "colorscale": [
             [
              0,
              "#0d0887"
             ],
             [
              0.1111111111111111,
              "#46039f"
             ],
             [
              0.2222222222222222,
              "#7201a8"
             ],
             [
              0.3333333333333333,
              "#9c179e"
             ],
             [
              0.4444444444444444,
              "#bd3786"
             ],
             [
              0.5555555555555556,
              "#d8576b"
             ],
             [
              0.6666666666666666,
              "#ed7953"
             ],
             [
              0.7777777777777778,
              "#fb9f3a"
             ],
             [
              0.8888888888888888,
              "#fdca26"
             ],
             [
              1,
              "#f0f921"
             ]
            ],
            "type": "heatmap"
           }
          ],
          "heatmapgl": [
           {
            "colorbar": {
             "outlinewidth": 0,
             "ticks": ""
            },
            "colorscale": [
             [
              0,
              "#0d0887"
             ],
             [
              0.1111111111111111,
              "#46039f"
             ],
             [
              0.2222222222222222,
              "#7201a8"
             ],
             [
              0.3333333333333333,
              "#9c179e"
             ],
             [
              0.4444444444444444,
              "#bd3786"
             ],
             [
              0.5555555555555556,
              "#d8576b"
             ],
             [
              0.6666666666666666,
              "#ed7953"
             ],
             [
              0.7777777777777778,
              "#fb9f3a"
             ],
             [
              0.8888888888888888,
              "#fdca26"
             ],
             [
              1,
              "#f0f921"
             ]
            ],
            "type": "heatmapgl"
           }
          ],
          "histogram": [
           {
            "marker": {
             "colorbar": {
              "outlinewidth": 0,
              "ticks": ""
             }
            },
            "type": "histogram"
           }
          ],
          "histogram2d": [
           {
            "colorbar": {
             "outlinewidth": 0,
             "ticks": ""
            },
            "colorscale": [
             [
              0,
              "#0d0887"
             ],
             [
              0.1111111111111111,
              "#46039f"
             ],
             [
              0.2222222222222222,
              "#7201a8"
             ],
             [
              0.3333333333333333,
              "#9c179e"
             ],
             [
              0.4444444444444444,
              "#bd3786"
             ],
             [
              0.5555555555555556,
              "#d8576b"
             ],
             [
              0.6666666666666666,
              "#ed7953"
             ],
             [
              0.7777777777777778,
              "#fb9f3a"
             ],
             [
              0.8888888888888888,
              "#fdca26"
             ],
             [
              1,
              "#f0f921"
             ]
            ],
            "type": "histogram2d"
           }
          ],
          "histogram2dcontour": [
           {
            "colorbar": {
             "outlinewidth": 0,
             "ticks": ""
            },
            "colorscale": [
             [
              0,
              "#0d0887"
             ],
             [
              0.1111111111111111,
              "#46039f"
             ],
             [
              0.2222222222222222,
              "#7201a8"
             ],
             [
              0.3333333333333333,
              "#9c179e"
             ],
             [
              0.4444444444444444,
              "#bd3786"
             ],
             [
              0.5555555555555556,
              "#d8576b"
             ],
             [
              0.6666666666666666,
              "#ed7953"
             ],
             [
              0.7777777777777778,
              "#fb9f3a"
             ],
             [
              0.8888888888888888,
              "#fdca26"
             ],
             [
              1,
              "#f0f921"
             ]
            ],
            "type": "histogram2dcontour"
           }
          ],
          "mesh3d": [
           {
            "colorbar": {
             "outlinewidth": 0,
             "ticks": ""
            },
            "type": "mesh3d"
           }
          ],
          "parcoords": [
           {
            "line": {
             "colorbar": {
              "outlinewidth": 0,
              "ticks": ""
             }
            },
            "type": "parcoords"
           }
          ],
          "pie": [
           {
            "automargin": true,
            "type": "pie"
           }
          ],
          "scatter": [
           {
            "marker": {
             "colorbar": {
              "outlinewidth": 0,
              "ticks": ""
             }
            },
            "type": "scatter"
           }
          ],
          "scatter3d": [
           {
            "line": {
             "colorbar": {
              "outlinewidth": 0,
              "ticks": ""
             }
            },
            "marker": {
             "colorbar": {
              "outlinewidth": 0,
              "ticks": ""
             }
            },
            "type": "scatter3d"
           }
          ],
          "scattercarpet": [
           {
            "marker": {
             "colorbar": {
              "outlinewidth": 0,
              "ticks": ""
             }
            },
            "type": "scattercarpet"
           }
          ],
          "scattergeo": [
           {
            "marker": {
             "colorbar": {
              "outlinewidth": 0,
              "ticks": ""
             }
            },
            "type": "scattergeo"
           }
          ],
          "scattergl": [
           {
            "marker": {
             "colorbar": {
              "outlinewidth": 0,
              "ticks": ""
             }
            },
            "type": "scattergl"
           }
          ],
          "scattermapbox": [
           {
            "marker": {
             "colorbar": {
              "outlinewidth": 0,
              "ticks": ""
             }
            },
            "type": "scattermapbox"
           }
          ],
          "scatterpolar": [
           {
            "marker": {
             "colorbar": {
              "outlinewidth": 0,
              "ticks": ""
             }
            },
            "type": "scatterpolar"
           }
          ],
          "scatterpolargl": [
           {
            "marker": {
             "colorbar": {
              "outlinewidth": 0,
              "ticks": ""
             }
            },
            "type": "scatterpolargl"
           }
          ],
          "scatterternary": [
           {
            "marker": {
             "colorbar": {
              "outlinewidth": 0,
              "ticks": ""
             }
            },
            "type": "scatterternary"
           }
          ],
          "surface": [
           {
            "colorbar": {
             "outlinewidth": 0,
             "ticks": ""
            },
            "colorscale": [
             [
              0,
              "#0d0887"
             ],
             [
              0.1111111111111111,
              "#46039f"
             ],
             [
              0.2222222222222222,
              "#7201a8"
             ],
             [
              0.3333333333333333,
              "#9c179e"
             ],
             [
              0.4444444444444444,
              "#bd3786"
             ],
             [
              0.5555555555555556,
              "#d8576b"
             ],
             [
              0.6666666666666666,
              "#ed7953"
             ],
             [
              0.7777777777777778,
              "#fb9f3a"
             ],
             [
              0.8888888888888888,
              "#fdca26"
             ],
             [
              1,
              "#f0f921"
             ]
            ],
            "type": "surface"
           }
          ],
          "table": [
           {
            "cells": {
             "fill": {
              "color": "#EBF0F8"
             },
             "line": {
              "color": "white"
             }
            },
            "header": {
             "fill": {
              "color": "#C8D4E3"
             },
             "line": {
              "color": "white"
             }
            },
            "type": "table"
           }
          ]
         },
         "layout": {
          "annotationdefaults": {
           "arrowcolor": "#2a3f5f",
           "arrowhead": 0,
           "arrowwidth": 1
          },
          "coloraxis": {
           "colorbar": {
            "outlinewidth": 0,
            "ticks": ""
           }
          },
          "colorscale": {
           "diverging": [
            [
             0,
             "#8e0152"
            ],
            [
             0.1,
             "#c51b7d"
            ],
            [
             0.2,
             "#de77ae"
            ],
            [
             0.3,
             "#f1b6da"
            ],
            [
             0.4,
             "#fde0ef"
            ],
            [
             0.5,
             "#f7f7f7"
            ],
            [
             0.6,
             "#e6f5d0"
            ],
            [
             0.7,
             "#b8e186"
            ],
            [
             0.8,
             "#7fbc41"
            ],
            [
             0.9,
             "#4d9221"
            ],
            [
             1,
             "#276419"
            ]
           ],
           "sequential": [
            [
             0,
             "#0d0887"
            ],
            [
             0.1111111111111111,
             "#46039f"
            ],
            [
             0.2222222222222222,
             "#7201a8"
            ],
            [
             0.3333333333333333,
             "#9c179e"
            ],
            [
             0.4444444444444444,
             "#bd3786"
            ],
            [
             0.5555555555555556,
             "#d8576b"
            ],
            [
             0.6666666666666666,
             "#ed7953"
            ],
            [
             0.7777777777777778,
             "#fb9f3a"
            ],
            [
             0.8888888888888888,
             "#fdca26"
            ],
            [
             1,
             "#f0f921"
            ]
           ],
           "sequentialminus": [
            [
             0,
             "#0d0887"
            ],
            [
             0.1111111111111111,
             "#46039f"
            ],
            [
             0.2222222222222222,
             "#7201a8"
            ],
            [
             0.3333333333333333,
             "#9c179e"
            ],
            [
             0.4444444444444444,
             "#bd3786"
            ],
            [
             0.5555555555555556,
             "#d8576b"
            ],
            [
             0.6666666666666666,
             "#ed7953"
            ],
            [
             0.7777777777777778,
             "#fb9f3a"
            ],
            [
             0.8888888888888888,
             "#fdca26"
            ],
            [
             1,
             "#f0f921"
            ]
           ]
          },
          "colorway": [
           "#636efa",
           "#EF553B",
           "#00cc96",
           "#ab63fa",
           "#FFA15A",
           "#19d3f3",
           "#FF6692",
           "#B6E880",
           "#FF97FF",
           "#FECB52"
          ],
          "font": {
           "color": "#2a3f5f"
          },
          "geo": {
           "bgcolor": "white",
           "lakecolor": "white",
           "landcolor": "#E5ECF6",
           "showlakes": true,
           "showland": true,
           "subunitcolor": "white"
          },
          "hoverlabel": {
           "align": "left"
          },
          "hovermode": "closest",
          "mapbox": {
           "style": "light"
          },
          "paper_bgcolor": "white",
          "plot_bgcolor": "#E5ECF6",
          "polar": {
           "angularaxis": {
            "gridcolor": "white",
            "linecolor": "white",
            "ticks": ""
           },
           "bgcolor": "#E5ECF6",
           "radialaxis": {
            "gridcolor": "white",
            "linecolor": "white",
            "ticks": ""
           }
          },
          "scene": {
           "xaxis": {
            "backgroundcolor": "#E5ECF6",
            "gridcolor": "white",
            "gridwidth": 2,
            "linecolor": "white",
            "showbackground": true,
            "ticks": "",
            "zerolinecolor": "white"
           },
           "yaxis": {
            "backgroundcolor": "#E5ECF6",
            "gridcolor": "white",
            "gridwidth": 2,
            "linecolor": "white",
            "showbackground": true,
            "ticks": "",
            "zerolinecolor": "white"
           },
           "zaxis": {
            "backgroundcolor": "#E5ECF6",
            "gridcolor": "white",
            "gridwidth": 2,
            "linecolor": "white",
            "showbackground": true,
            "ticks": "",
            "zerolinecolor": "white"
           }
          },
          "shapedefaults": {
           "line": {
            "color": "#2a3f5f"
           }
          },
          "ternary": {
           "aaxis": {
            "gridcolor": "white",
            "linecolor": "white",
            "ticks": ""
           },
           "baxis": {
            "gridcolor": "white",
            "linecolor": "white",
            "ticks": ""
           },
           "bgcolor": "#E5ECF6",
           "caxis": {
            "gridcolor": "white",
            "linecolor": "white",
            "ticks": ""
           }
          },
          "title": {
           "x": 0.05
          },
          "xaxis": {
           "automargin": true,
           "gridcolor": "white",
           "linecolor": "white",
           "ticks": "",
           "title": {
            "standoff": 15
           },
           "zerolinecolor": "white",
           "zerolinewidth": 2
          },
          "yaxis": {
           "automargin": true,
           "gridcolor": "white",
           "linecolor": "white",
           "ticks": "",
           "title": {
            "standoff": 15
           },
           "zerolinecolor": "white",
           "zerolinewidth": 2
          }
         }
        },
        "xaxis": {
         "anchor": "y",
         "domain": [
          0,
          1
         ],
         "title": {
          "text": "index"
         }
        },
        "yaxis": {
         "anchor": "x",
         "domain": [
          0,
          1
         ],
         "title": {
          "text": "0"
         }
        }
       }
      },
      "text/html": [
       "<div>\n",
       "        \n",
       "        \n",
       "            <div id=\"6fb3d626-b653-4819-92f6-d0f75da51727\" class=\"plotly-graph-div\" style=\"height:525px; width:100%;\"></div>\n",
       "            <script type=\"text/javascript\">\n",
       "                require([\"plotly\"], function(Plotly) {\n",
       "                    window.PLOTLYENV=window.PLOTLYENV || {};\n",
       "                    \n",
       "                if (document.getElementById(\"6fb3d626-b653-4819-92f6-d0f75da51727\")) {\n",
       "                    Plotly.newPlot(\n",
       "                        '6fb3d626-b653-4819-92f6-d0f75da51727',\n",
       "                        [{\"alignmentgroup\": \"True\", \"hovertemplate\": \"index=%{x}<br>0=%{y}<extra></extra>\", \"legendgroup\": \"\", \"marker\": {\"color\": \"#636efa\"}, \"name\": \"\", \"offsetgroup\": \"\", \"orientation\": \"v\", \"showlegend\": false, \"textposition\": \"auto\", \"type\": \"bar\", \"x\": [4495, 25, 27, 261, 259, 1967, 2, 21, 237, 49, 106, 104, 37, 55, 11, 28, 65, 52, 200, 186, 76, 236, 9, 64, 62, 241, 47, 196, 19, 41, 38, 140, 4438, 8, 222, 4, 17, 24, 43, 318, 105, 58, 188, 171, 18, 46, 4428, 61, 5, 95, 310, 4426, 57, 4496, 240, 67, 36, 74, 7, 197, 199, 50, 189, 93, 29, 201, 198, 4441, 42, 229, 3336, 316, 110, 303, 40, 275, 283, 297, 300, 227, 182, 23, 10, 132, 123, 4503, 159, 179, 144, 195, 26, 221, 314, 194, 266, 39, 77, 190, 319, 332, 263, 108, 51, 6, 53, 60, 187, 214, 265, 251, 258, 342, 4458, 295, 305, 4520, 4463, 4472, 211, 107, 278, 4456, 56, 4452, 4244, 4517, 333, 220, 252, 335, 71, 4487, 340, 141, 35, 3, 69, 78, 245, 4479, 304, 4454, 291, 1605, 4497, 244, 223, 4429, 4448, 4267, 59, 264, 204, 213, 1606, 208, 4500, 4499, 313, 177, 238, 299, 33, 309, 231, 246, 139, 253, 4518, 224, 257, 256, 218, 184, 193, 97, 292, 302, 48, 250, 4478, 271, 163, 202, 4459, 4455, 296, 4462, 338, 243, 260, 4498, 4461, 4477, 308, 98, 281, 4513, 262, 160, 4447, 203, 115, 118, 135, 4240, 205, 290, 162, 268, 949, 176, 94, 315, 191, 116, 4506, 4507, 136, 15, 4512, 4254, 217, 185, 4258, 126, 4446, 99, 311, 4431, 4433, 301, 122, 147, 102, 4467, 4257, 146, 129, 4504, 167, 161, 1607, 192, 219, 75, 4432, 143, 209, 334, 321, 174, 247, 4523, 4484, 150, 206, 155, 113, 4450, 164, 248, 4440, 255, 31, 178, 317, 130, 4466, 4437, 280, 4292, 180, 4525, 4521, 4505, 4516, 68, 4439, 96, 267, 4246, 124, 4508, 4522, 4524, 4501, 339, 4464, 307, 239, 4488, 4476, 249, 170, 207, 279, 4248, 272, 4475, 4460, 4457, 4486, 4435, 4465, 4510, 341, 277, 4269, 152, 228, 4451, 4242, 4247, 270, 4470, 4473, 4443, 4509, 172, 4526, 225, 4514, 287, 173, 127, 4468, 4442, 306, 216, 298, 151, 154, 4436, 4480, 120, 4276, 226, 273, 294, 4511, 276, 343, 293, 286, 4483, 153, 4492, 288, 181, 169, 175, 101, 282, 4449, 4430, 337, 336, 4445, 320, 4482, 4481, 4493], \"xaxis\": \"x\", \"y\": [573, 2652, 807, 3313, 1529, 2398, 1249, 1813, 2371, 2616, 2906, 1583, 4119, 1804, 3528, 1315, 2674, 379, 2346, 516, 193, 712, 1793, 4216, 3881, 524, 960, 1486, 2453, 930, 2788, 93, 673, 1031, 1015, 2388, 1703, 2277, 3245, 2092, 738, 860, 66, 112, 551, 3235, 388, 1403, 1031, 1182, 183, 40, 3497, 258, 580, 229, 1617, 450, 243, 909, 663, 81, 210, 540, 1933, 492, 143, 108, 643, 59, 349, 307, 115, 109, 434, 147, 6, 196, 54, 362, 482, 244, 232, 2, 48, 45, 9, 54, 96, 98, 263, 27, 18, 297, 234, 163, 312, 281, 304, 270, 211, 26, 374, 288, 150, 454, 304, 143, 290, 183, 178, 16, 118, 17, 186, 51, 90, 113, 207, 125, 228, 120, 20, 67, 144, 54, 101, 38, 7, 80, 77, 2, 96, 54, 206, 363, 226, 252, 222, 68, 141, 133, 62, 81, 6, 146, 204, 4, 44, 55, 24, 213, 74, 123, 64, 54, 10, 11, 23, 146, 46, 16, 8, 14, 83, 99, 45, 103, 29, 10, 45, 6, 10, 142, 57, 55, 61, 34, 80, 14, 20, 47, 5, 66, 34, 26, 33, 11, 18, 93, 18, 4, 24, 19, 22, 67, 7, 9, 99, 14, 38, 20, 68, 111, 29, 52, 32, 6, 87, 41, 118, 24, 8, 76, 25, 81, 39, 5, 90, 85, 9, 73, 47, 11, 1, 18, 2, 22, 110, 5, 13, 9, 3, 7, 98, 27, 58, 8, 4, 10, 36, 4, 18, 19, 17, 31, 17, 29, 19, 24, 9, 6, 23, 41, 3, 5, 9, 1, 5, 5, 5, 2, 9, 10, 17, 20, 6, 14, 7, 1, 9, 15, 18, 20, 17, 33, 8, 6, 17, 20, 18, 6, 4, 1, 20, 14, 3, 14, 8, 4, 30, 2, 4, 21, 7, 42, 9, 10, 12, 5, 8, 10, 3, 31, 1, 1, 37, 9, 5, 4, 19, 6, 3, 1, 4, 7, 3, 5, 2, 2, 2, 2, 6, 4, 4, 8, 7, 4, 6, 1, 9, 4, 3, 8, 4, 10, 6, 2, 15, 2, 3, 6, 8, 3, 1, 3, 1, 1, 1, 1, 3, 2, 2, 2, 2, 1, 2, 1, 3, 4, 1, 1, 1], \"yaxis\": \"y\"}],\n",
       "                        {\"barmode\": \"relative\", \"legend\": {\"tracegroupgap\": 0}, \"margin\": {\"t\": 60}, \"template\": {\"data\": {\"bar\": [{\"error_x\": {\"color\": \"#2a3f5f\"}, \"error_y\": {\"color\": \"#2a3f5f\"}, \"marker\": {\"line\": {\"color\": \"#E5ECF6\", \"width\": 0.5}}, \"type\": \"bar\"}], \"barpolar\": [{\"marker\": {\"line\": {\"color\": \"#E5ECF6\", \"width\": 0.5}}, \"type\": \"barpolar\"}], \"carpet\": [{\"aaxis\": {\"endlinecolor\": \"#2a3f5f\", \"gridcolor\": \"white\", \"linecolor\": \"white\", \"minorgridcolor\": \"white\", \"startlinecolor\": \"#2a3f5f\"}, \"baxis\": {\"endlinecolor\": \"#2a3f5f\", \"gridcolor\": \"white\", \"linecolor\": \"white\", \"minorgridcolor\": \"white\", \"startlinecolor\": \"#2a3f5f\"}, \"type\": \"carpet\"}], \"choropleth\": [{\"colorbar\": {\"outlinewidth\": 0, \"ticks\": \"\"}, \"type\": \"choropleth\"}], \"contour\": [{\"colorbar\": {\"outlinewidth\": 0, \"ticks\": \"\"}, \"colorscale\": [[0.0, \"#0d0887\"], [0.1111111111111111, \"#46039f\"], [0.2222222222222222, \"#7201a8\"], [0.3333333333333333, \"#9c179e\"], [0.4444444444444444, \"#bd3786\"], [0.5555555555555556, \"#d8576b\"], [0.6666666666666666, \"#ed7953\"], [0.7777777777777778, \"#fb9f3a\"], [0.8888888888888888, \"#fdca26\"], [1.0, \"#f0f921\"]], \"type\": \"contour\"}], \"contourcarpet\": [{\"colorbar\": {\"outlinewidth\": 0, \"ticks\": \"\"}, \"type\": \"contourcarpet\"}], \"heatmap\": [{\"colorbar\": {\"outlinewidth\": 0, \"ticks\": \"\"}, \"colorscale\": [[0.0, \"#0d0887\"], [0.1111111111111111, \"#46039f\"], [0.2222222222222222, \"#7201a8\"], [0.3333333333333333, \"#9c179e\"], [0.4444444444444444, \"#bd3786\"], [0.5555555555555556, \"#d8576b\"], [0.6666666666666666, \"#ed7953\"], [0.7777777777777778, \"#fb9f3a\"], [0.8888888888888888, \"#fdca26\"], [1.0, \"#f0f921\"]], \"type\": \"heatmap\"}], \"heatmapgl\": [{\"colorbar\": {\"outlinewidth\": 0, \"ticks\": \"\"}, \"colorscale\": [[0.0, \"#0d0887\"], [0.1111111111111111, \"#46039f\"], [0.2222222222222222, \"#7201a8\"], [0.3333333333333333, \"#9c179e\"], [0.4444444444444444, \"#bd3786\"], [0.5555555555555556, \"#d8576b\"], [0.6666666666666666, \"#ed7953\"], [0.7777777777777778, \"#fb9f3a\"], [0.8888888888888888, \"#fdca26\"], [1.0, \"#f0f921\"]], \"type\": \"heatmapgl\"}], \"histogram\": [{\"marker\": {\"colorbar\": {\"outlinewidth\": 0, \"ticks\": \"\"}}, \"type\": \"histogram\"}], \"histogram2d\": [{\"colorbar\": {\"outlinewidth\": 0, \"ticks\": \"\"}, \"colorscale\": [[0.0, \"#0d0887\"], [0.1111111111111111, \"#46039f\"], [0.2222222222222222, \"#7201a8\"], [0.3333333333333333, \"#9c179e\"], [0.4444444444444444, \"#bd3786\"], [0.5555555555555556, \"#d8576b\"], [0.6666666666666666, \"#ed7953\"], [0.7777777777777778, \"#fb9f3a\"], [0.8888888888888888, \"#fdca26\"], [1.0, \"#f0f921\"]], \"type\": \"histogram2d\"}], \"histogram2dcontour\": [{\"colorbar\": {\"outlinewidth\": 0, \"ticks\": \"\"}, \"colorscale\": [[0.0, \"#0d0887\"], [0.1111111111111111, \"#46039f\"], [0.2222222222222222, \"#7201a8\"], [0.3333333333333333, \"#9c179e\"], [0.4444444444444444, \"#bd3786\"], [0.5555555555555556, \"#d8576b\"], [0.6666666666666666, \"#ed7953\"], [0.7777777777777778, \"#fb9f3a\"], [0.8888888888888888, \"#fdca26\"], [1.0, \"#f0f921\"]], \"type\": \"histogram2dcontour\"}], \"mesh3d\": [{\"colorbar\": {\"outlinewidth\": 0, \"ticks\": \"\"}, \"type\": \"mesh3d\"}], \"parcoords\": [{\"line\": {\"colorbar\": {\"outlinewidth\": 0, \"ticks\": \"\"}}, \"type\": \"parcoords\"}], \"pie\": [{\"automargin\": true, \"type\": \"pie\"}], \"scatter\": [{\"marker\": {\"colorbar\": {\"outlinewidth\": 0, \"ticks\": \"\"}}, \"type\": \"scatter\"}], \"scatter3d\": [{\"line\": {\"colorbar\": {\"outlinewidth\": 0, \"ticks\": \"\"}}, \"marker\": {\"colorbar\": {\"outlinewidth\": 0, \"ticks\": \"\"}}, \"type\": \"scatter3d\"}], \"scattercarpet\": [{\"marker\": {\"colorbar\": {\"outlinewidth\": 0, \"ticks\": \"\"}}, \"type\": \"scattercarpet\"}], \"scattergeo\": [{\"marker\": {\"colorbar\": {\"outlinewidth\": 0, \"ticks\": \"\"}}, \"type\": \"scattergeo\"}], \"scattergl\": [{\"marker\": {\"colorbar\": {\"outlinewidth\": 0, \"ticks\": \"\"}}, \"type\": \"scattergl\"}], \"scattermapbox\": [{\"marker\": {\"colorbar\": {\"outlinewidth\": 0, \"ticks\": \"\"}}, \"type\": \"scattermapbox\"}], \"scatterpolar\": [{\"marker\": {\"colorbar\": {\"outlinewidth\": 0, \"ticks\": \"\"}}, \"type\": \"scatterpolar\"}], \"scatterpolargl\": [{\"marker\": {\"colorbar\": {\"outlinewidth\": 0, \"ticks\": \"\"}}, \"type\": \"scatterpolargl\"}], \"scatterternary\": [{\"marker\": {\"colorbar\": {\"outlinewidth\": 0, \"ticks\": \"\"}}, \"type\": \"scatterternary\"}], \"surface\": [{\"colorbar\": {\"outlinewidth\": 0, \"ticks\": \"\"}, \"colorscale\": [[0.0, \"#0d0887\"], [0.1111111111111111, \"#46039f\"], [0.2222222222222222, \"#7201a8\"], [0.3333333333333333, \"#9c179e\"], [0.4444444444444444, \"#bd3786\"], [0.5555555555555556, \"#d8576b\"], [0.6666666666666666, \"#ed7953\"], [0.7777777777777778, \"#fb9f3a\"], [0.8888888888888888, \"#fdca26\"], [1.0, \"#f0f921\"]], \"type\": \"surface\"}], \"table\": [{\"cells\": {\"fill\": {\"color\": \"#EBF0F8\"}, \"line\": {\"color\": \"white\"}}, \"header\": {\"fill\": {\"color\": \"#C8D4E3\"}, \"line\": {\"color\": \"white\"}}, \"type\": \"table\"}]}, \"layout\": {\"annotationdefaults\": {\"arrowcolor\": \"#2a3f5f\", \"arrowhead\": 0, \"arrowwidth\": 1}, \"coloraxis\": {\"colorbar\": {\"outlinewidth\": 0, \"ticks\": \"\"}}, \"colorscale\": {\"diverging\": [[0, \"#8e0152\"], [0.1, \"#c51b7d\"], [0.2, \"#de77ae\"], [0.3, \"#f1b6da\"], [0.4, \"#fde0ef\"], [0.5, \"#f7f7f7\"], [0.6, \"#e6f5d0\"], [0.7, \"#b8e186\"], [0.8, \"#7fbc41\"], [0.9, \"#4d9221\"], [1, \"#276419\"]], \"sequential\": [[0.0, \"#0d0887\"], [0.1111111111111111, \"#46039f\"], [0.2222222222222222, \"#7201a8\"], [0.3333333333333333, \"#9c179e\"], [0.4444444444444444, \"#bd3786\"], [0.5555555555555556, \"#d8576b\"], [0.6666666666666666, \"#ed7953\"], [0.7777777777777778, \"#fb9f3a\"], [0.8888888888888888, \"#fdca26\"], [1.0, \"#f0f921\"]], \"sequentialminus\": [[0.0, \"#0d0887\"], [0.1111111111111111, \"#46039f\"], [0.2222222222222222, \"#7201a8\"], [0.3333333333333333, \"#9c179e\"], [0.4444444444444444, \"#bd3786\"], [0.5555555555555556, \"#d8576b\"], [0.6666666666666666, \"#ed7953\"], [0.7777777777777778, \"#fb9f3a\"], [0.8888888888888888, \"#fdca26\"], [1.0, \"#f0f921\"]]}, \"colorway\": [\"#636efa\", \"#EF553B\", \"#00cc96\", \"#ab63fa\", \"#FFA15A\", \"#19d3f3\", \"#FF6692\", \"#B6E880\", \"#FF97FF\", \"#FECB52\"], \"font\": {\"color\": \"#2a3f5f\"}, \"geo\": {\"bgcolor\": \"white\", \"lakecolor\": \"white\", \"landcolor\": \"#E5ECF6\", \"showlakes\": true, \"showland\": true, \"subunitcolor\": \"white\"}, \"hoverlabel\": {\"align\": \"left\"}, \"hovermode\": \"closest\", \"mapbox\": {\"style\": \"light\"}, \"paper_bgcolor\": \"white\", \"plot_bgcolor\": \"#E5ECF6\", \"polar\": {\"angularaxis\": {\"gridcolor\": \"white\", \"linecolor\": \"white\", \"ticks\": \"\"}, \"bgcolor\": \"#E5ECF6\", \"radialaxis\": {\"gridcolor\": \"white\", \"linecolor\": \"white\", \"ticks\": \"\"}}, \"scene\": {\"xaxis\": {\"backgroundcolor\": \"#E5ECF6\", \"gridcolor\": \"white\", \"gridwidth\": 2, \"linecolor\": \"white\", \"showbackground\": true, \"ticks\": \"\", \"zerolinecolor\": \"white\"}, \"yaxis\": {\"backgroundcolor\": \"#E5ECF6\", \"gridcolor\": \"white\", \"gridwidth\": 2, \"linecolor\": \"white\", \"showbackground\": true, \"ticks\": \"\", \"zerolinecolor\": \"white\"}, \"zaxis\": {\"backgroundcolor\": \"#E5ECF6\", \"gridcolor\": \"white\", \"gridwidth\": 2, \"linecolor\": \"white\", \"showbackground\": true, \"ticks\": \"\", \"zerolinecolor\": \"white\"}}, \"shapedefaults\": {\"line\": {\"color\": \"#2a3f5f\"}}, \"ternary\": {\"aaxis\": {\"gridcolor\": \"white\", \"linecolor\": \"white\", \"ticks\": \"\"}, \"baxis\": {\"gridcolor\": \"white\", \"linecolor\": \"white\", \"ticks\": \"\"}, \"bgcolor\": \"#E5ECF6\", \"caxis\": {\"gridcolor\": \"white\", \"linecolor\": \"white\", \"ticks\": \"\"}}, \"title\": {\"x\": 0.05}, \"xaxis\": {\"automargin\": true, \"gridcolor\": \"white\", \"linecolor\": \"white\", \"ticks\": \"\", \"title\": {\"standoff\": 15}, \"zerolinecolor\": \"white\", \"zerolinewidth\": 2}, \"yaxis\": {\"automargin\": true, \"gridcolor\": \"white\", \"linecolor\": \"white\", \"ticks\": \"\", \"title\": {\"standoff\": 15}, \"zerolinecolor\": \"white\", \"zerolinewidth\": 2}}}, \"xaxis\": {\"anchor\": \"y\", \"domain\": [0.0, 1.0], \"title\": {\"text\": \"index\"}}, \"yaxis\": {\"anchor\": \"x\", \"domain\": [0.0, 1.0], \"title\": {\"text\": \"0\"}}},\n",
       "                        {\"responsive\": true}\n",
       "                    ).then(function(){\n",
       "                            \n",
       "var gd = document.getElementById('6fb3d626-b653-4819-92f6-d0f75da51727');\n",
       "var x = new MutationObserver(function (mutations, observer) {{\n",
       "        var display = window.getComputedStyle(gd).display;\n",
       "        if (!display || display === 'none') {{\n",
       "            console.log([gd, 'removed!']);\n",
       "            Plotly.purge(gd);\n",
       "            observer.disconnect();\n",
       "        }}\n",
       "}});\n",
       "\n",
       "// Listen for the removal of the full notebook cells\n",
       "var notebookContainer = gd.closest('#notebook-container');\n",
       "if (notebookContainer) {{\n",
       "    x.observe(notebookContainer, {childList: true});\n",
       "}}\n",
       "\n",
       "// Listen for the clearing of the current output cell\n",
       "var outputEl = gd.closest('.output');\n",
       "if (outputEl) {{\n",
       "    x.observe(outputEl, {childList: true});\n",
       "}}\n",
       "\n",
       "                        })\n",
       "                };\n",
       "                });\n",
       "            </script>\n",
       "        </div>"
      ]
     },
     "metadata": {},
     "output_type": "display_data"
    },
    {
     "data": {
      "text/plain": [
       "<Figure size 1152x1008 with 0 Axes>"
      ]
     },
     "metadata": {},
     "output_type": "display_data"
    }
   ],
   "source": [
    "# Shows original item category counts distribution\n",
    "import plotly.express as px\n",
    "import pandas as pd\n",
    "\n",
    "df = pd.DataFrame.from_dict(results, orient = 'index')\n",
    "\n",
    "fig = px.bar(df, x=df.index, y=df[0])\n",
    "plt.figure(figsize=(16,14))\n",
    "fig.show()\n"
   ]
  },
  {
   "cell_type": "code",
   "execution_count": 18,
   "metadata": {},
   "outputs": [
    {
     "data": {
      "text/plain": [
       "114806"
      ]
     },
     "execution_count": 18,
     "metadata": {},
     "output_type": "execute_result"
    }
   ],
   "source": [
    "# no.of images\n",
    "df[0].sum()"
   ]
  },
  {
   "cell_type": "code",
   "execution_count": 58,
   "metadata": {},
   "outputs": [],
   "source": [
    "for item in data:\n",
    "    for i in item['items']:\n",
    "        # Filter out lists of items that are not fashion related\n",
    "        # Refer to list below\n",
    "        if i['categoryid'] in [102,51,74,76,77,78,113,115,116,118,122,123,124,\n",
    "                               93,94,95,96,97,98,99,\n",
    "                               126,127,129,130,132,135,136,139,140,\n",
    "                               141,143,144,4241,4242,147,4244,150,\n",
    "                               4247,4248,153,154,155,157,4254,159,\n",
    "                               160,4257,162,163,164,166,167,168,169,\n",
    "                               170,4267,172,173,174,175,176,177,178,\n",
    "                               179,180,181,182,4292,\n",
    "                               184,185,186,187,189,190,191,192,193,194,\n",
    "                               195,197,198,199,200,201,202,203,204,205,\n",
    "                               206,207,208,209,211,213,214,216,217,218,\n",
    "                               219,220,221,222,223,224,225,226,227,228,229,\n",
    "                               308,311,313,314,316,317,319,320,321,\n",
    "                               4433,338,339,340,4439,4440,4443,4445,4446,\n",
    "                               4448,4449,4450,4451,4480,4481,4482,4483,\n",
    "                               4484,4485,4486,4487,4488,4489,4490,4492,\n",
    "                               4493,4499,4500,4501,4502,4503,4504,4505,\n",
    "                               4506,4507,4508,4509,4510,4511,4512,4513,\n",
    "                               4514,4438,4240,146,148,4246,151,152,949,\n",
    "                               161,4258,171,4269,196,3336,1967,4429,4430,\n",
    "                               4431,336,337,4434,4435,4436]:\n",
    "            \n",
    "            # So image can't be fetched into training the model\n",
    "            item['items'].remove(i)\n",
    "        # Copy set_id from original set to each context image item as path to img is set_id/index\n",
    "        i['set_id'] = item['set_id']"
   ]
  },
  {
   "cell_type": "raw",
   "metadata": {},
   "source": [
    "# List of item categories excluded from training Style2Vec\n",
    "74 Beauty Products\n",
    "76 Electronics\n",
    "77 Font\n",
    "78 Food & Drink\n",
    "93 Makeup\n",
    "94 Skincare\n",
    "95 Fragrance\n",
    "96 Bath & Body\n",
    "97 Haircare\n",
    "98 Nail Care\n",
    "99 Beauty Accessories\n",
    "113 Furniture\n",
    "115 Sofas\n",
    "116 Accent Chairs\n",
    "118 Accent Tables\n",
    "122 Tables\n",
    "123 Chairs\n",
    "124 Barstools\n",
    "126 Beds\n",
    "127 Dressers\n",
    "129 Storage & Shelves\n",
    "130 Bookcases\n",
    "132 Entertainment Units\n",
    "135 Lighting\n",
    "136 Rugs\n",
    "139 Vases\n",
    "140 Candles & Candleholders\n",
    "141 Frames\n",
    "143 Mirrors\n",
    "144 Throw Pillows\n",
    "4241 Fabric\n",
    "4242 Flooring\n",
    "147 Office Chairs\n",
    "4244 Holiday Decorations\n",
    "150 Hammocks & Swings\n",
    "4247 Decorative Hardware\n",
    "4248 Home Fragrance\n",
    "153 Outdoor Loungers & Day Beds\n",
    "154 Patio Umbrellas\n",
    "155 Outdoor Benches\n",
    "157 Garden Fountains\n",
    "4254 Small Storage\n",
    "159 Bedding\n",
    "160 Sheets & Pillowcases\n",
    "4257 Wallpaper\n",
    "162 Blankets\n",
    "163 Duvet Covers\n",
    "164 Bed Pillows\n",
    "166 Bath\n",
    "167 Bath Towels\n",
    "168 Shower Curtains\n",
    "169 Bath Rugs & Mats\n",
    "170 Bath Accessories\n",
    "4267 Outdoor Decor\n",
    "172 Bakeware\n",
    "173 Cutlery\n",
    "174 Small Appliances\n",
    "175 Cookware\n",
    "176 Kitchen Gadgets & Tools\n",
    "177 Drinkware\n",
    "178 Flatware\n",
    "179 Serveware\n",
    "180 Table Linens\n",
    "181 Panel Screens\n",
    "182 Home Decor\n",
    "184 Face Makeup\n",
    "185 Cheek Makeup\n",
    "186 Eye Makeup\n",
    "187 Lip Makeup\n",
    "188 Concealer\n",
    "189 Foundation\n",
    "190 Face Powder\n",
    "191 Tinted Moisturizer\n",
    "192 Makeup Remover\n",
    "193 Makeup Primer\n",
    "194 Blush\n",
    "195 Cheek Bronzer\n",
    "4292 Beach Towels\n",
    "197 Mascara\n",
    "198 False Eyelashes\n",
    "199 Eyeliner\n",
    "200 Lipstick\n",
    "201 Lip Gloss\n",
    "202 Lip Pencils\n",
    "203 Lip Stain\n",
    "204 Face Care\n",
    "205 Face Cleansers\n",
    "206 Face Toners\n",
    "207 Face Moisturizers\n",
    "208 Face Masks\n",
    "209 Eye Care\n",
    "211 Lip Treatments\n",
    "213 Body Cleansers\n",
    "214 Body Moisturizers\n",
    "216 Hair Removal\n",
    "217 Sun Care\n",
    "218 Hair Shampoo\n",
    "219 Hair Conditioner\n",
    "220 Styling Products\n",
    "221 Hair Color\n",
    "222 Nail Polish\n",
    "223 Nail Treatments\n",
    "224 Eyelash Curlers\n",
    "225 Tweezers & Brow Tools\n",
    "226 Sharpeners\n",
    "227 Hair Styling Tools\n",
    "228 Blow Dryers & Irons\n",
    "229 Brushes & Combs\n",
    "308 Pets\n",
    "311 Books\n",
    "313 Dinnerware\n",
    "314 Curtains\n",
    "316 Office Accessories\n",
    "317 Garden Tools\n",
    "319 Makeup Brushes\n",
    "320 Deodorant\n",
    "321 Gift Cards\n",
    "4433 Bed Accessories\n",
    "338 Makeup Tools\n",
    "339 Manicure Tools\n",
    "340 Gift Sets & Kits\n",
    "4439 Food Storage Containers\n",
    "4440 Teapots\n",
    "4443 Jewelry Storage\n",
    "4445 Cleaning\n",
    "4446 Cabinets\n",
    "4448 Media\n",
    "4449 Benches\n",
    "4450 Kitchen Linens\n",
    "4451 Party Supplies\n",
    "4480 Health\n",
    "4481 Oral Care\n",
    "4482 Supplements\n",
    "4483 Napkin Rings\n",
    "4484 Stools\n",
    "4485 Outdoor Stools\n",
    "4486 Aprons\n",
    "4487 Bedspreads\n",
    "4488 Children's Furniture\n",
    "4489 Nursery Furniture\n",
    "4490 Baby Bedding\n",
    "4492 Window Blinds\n",
    "4493 Outdoor Patio Sets\n",
    "4499 Dining Chairs\n",
    "4500 Dining Tables\n",
    "4501 Bar Cabinets\n",
    "4502 Standing Fans\n",
    "4503 Ceiling Lights\n",
    "4504 Desk Lamps\n",
    "4505 Floor Lamps\n",
    "4506 Table Lamps\n",
    "4507 Wall Lights\n",
    "4508 Curtain Rods\n",
    "4509 Children's Room\n",
    "4510 Children's Bedding\n",
    "4511 Children's Decor\n",
    "4512 Home Improvement\n",
    "4513 Paint\n",
    "4514 Storage & Organization"
   ]
  },
  {
   "cell_type": "code",
   "execution_count": 59,
   "metadata": {
    "scrolled": true
   },
   "outputs": [
    {
     "data": {
      "text/plain": [
       "{'name': 'Enjoy your own company',\n",
       " 'views': 1142,\n",
       " 'items': [{'index': 1,\n",
       "   'name': 'valentino pleated cotton-blend dress',\n",
       "   'price': 405.0,\n",
       "   'likes': 73,\n",
       "   'image': 'http://img2.polyvoreimg.com/cgi/img-thing?.out=jpg&size=m&tid=138670420',\n",
       "   'categoryid': 4,\n",
       "   'set_id': '185225843'},\n",
       "  {'index': 2,\n",
       "   'name': 'valentino red ruffle detail blouse',\n",
       "   'price': 224.0,\n",
       "   'likes': 1686,\n",
       "   'image': 'http://img2.polyvoreimg.com/cgi/img-thing?.out=jpg&size=m&tid=143242359',\n",
       "   'categoryid': 17,\n",
       "   'set_id': '185225843'},\n",
       "  {'index': 3,\n",
       "   'name': 'valentino wool-blend coat',\n",
       "   'price': 3040.0,\n",
       "   'likes': 214,\n",
       "   'image': 'http://img2.polyvoreimg.com/cgi/img-thing?.out=jpg&size=m&tid=148238250',\n",
       "   'categoryid': 24,\n",
       "   'set_id': '185225843'},\n",
       "  {'index': 4,\n",
       "   'name': 'valentino rockstud metallic leather pumps',\n",
       "   'price': 845.0,\n",
       "   'likes': 1159,\n",
       "   'image': 'http://img1.polyvoreimg.com/cgi/img-thing?.out=jpg&size=m&tid=151390452',\n",
       "   'categoryid': 43,\n",
       "   'set_id': '185225843'},\n",
       "  {'index': 5,\n",
       "   'name': 'valentino small striped leather satchel',\n",
       "   'price': 3175.0,\n",
       "   'likes': 479,\n",
       "   'image': 'http://img1.polyvoreimg.com/cgi/img-thing?.out=jpg&size=m&tid=149989963',\n",
       "   'categoryid': 318,\n",
       "   'set_id': '185225843'},\n",
       "  {'index': 6,\n",
       "   'name': 'valentino printed cashmere silk scarf',\n",
       "   'price': 880.0,\n",
       "   'likes': 1116,\n",
       "   'image': 'http://img2.polyvoreimg.com/cgi/img-thing?.out=jpg&size=m&tid=150037467',\n",
       "   'categoryid': 105,\n",
       "   'set_id': '185225843'}],\n",
       " 'image': 'http://ak1.polyvoreimg.com/cgi/img-set/cid/185225843/id/olEArgem5RGjmTCmGhGRpA/size/y.jpg',\n",
       " 'likes': 239,\n",
       " 'date': 'One year',\n",
       " 'set_url': 'http://www.polyvore.com/enjoy_your_own_company/set?id=185225843',\n",
       " 'set_id': '185225843',\n",
       " 'desc': 'A fashion look from December 2015 by mcheffer featuring Valentino, RED Valentino, valentino, fashiontrend and runwaylook'}"
      ]
     },
     "execution_count": 59,
     "metadata": {},
     "output_type": "execute_result"
    }
   ],
   "source": [
    "data[8]"
   ]
  },
  {
   "cell_type": "code",
   "execution_count": 60,
   "metadata": {},
   "outputs": [],
   "source": [
    "img_results = defaultdict(int)\n",
    "\n",
    "for d in data:\n",
    "    for item in d['items']:\n",
    "        img_results[d['set_id']] += 1"
   ]
  },
  {
   "cell_type": "code",
   "execution_count": 61,
   "metadata": {},
   "outputs": [
    {
     "name": "stdout",
     "output_type": "stream",
     "text": [
      "Remaining images: 91244\n"
     ]
    }
   ],
   "source": [
    "print(\"Remaining images: {}\".format(sum(list(img_results.values()))))"
   ]
  },
  {
   "cell_type": "code",
   "execution_count": 62,
   "metadata": {},
   "outputs": [],
   "source": [
    "remain_list = []\n",
    "\n",
    "# Inspect remaining items\n",
    "for d in data:\n",
    "    if d['set_id'] in img_results.keys():\n",
    "        for i in d['items']:\n",
    "            remain_list.append(i['categoryid'])"
   ]
  },
  {
   "cell_type": "code",
   "execution_count": 63,
   "metadata": {
    "scrolled": true
   },
   "outputs": [
    {
     "data": {
      "text/plain": [
       "dict_keys(['214181831', '120161271', '143656996', '186627934', '206969379', '201969694', '216470135', '216220312', '185225843', '213824660', '118117317', '196794889', '192203629', '194797482', '211763424', '162246887', '215293689', '206960557', '152669888', '215196328', '212866780', '215963491', '212745062', '158068564', '186569522', '215224271', '206144854', '214333201', '199683429', '216661833', '214478843', '167870137', '216601452', '212749574', '200282569', '216527510', '216890354', '214964957', '104793371', '216960118', '132440126', '196207399', '191351163', '132081114', '205802546', '216725521', '216057523', '122754559', '138431148', '207437487', '179583174', '202255709', '110629024', '100774542', '188480725', '212381804', '183266525', '175232162', '214768398', '210548859', '212812915', '211687168', '217006074', '214394737', '213950601', '216191457', '212285137', '205932272', '191904127', '210321457', '204256557', '186446024', '216341850', '156117458', '214160678', '156269352', '212554716', '140836593', '175581450', '107617926', '216696386', '157383815', '215351346', '216369946', '183150999', '191309586', '214229253', '208210915', '184580594', '216092150', '194711828', '106355827', '198214690', '193571464', '216886673', '216886671', '139151321', '204688868', '192593813', '186665156', '136759878', '213960031', '211610841', '216775771', '101676130', '214205841', '184939111', '193698180', '216679696', '216742247', '211873043', '118417134', '210474806', '212431988', '197593425', '213743727', '215426321', '196498522', '212630740', '190778892', '171792279', '216884637', '180986567', '180096224', '214721420', '173289428', '208810170', '203669264', '209480577', '216856099', '216671099', '191393116', '147301197', '189093476', '201220287', '216481581', '187686973', '216355981', '121558278', '109117243', '216946446', '216946445', '189423542', '138699308', '189815453', '215389208', '213296951', '188336402', '216843048', '214381891', '177686634', '124740952', '215530261', '216988897', '216831984', '178815436', '216364199', '213826361', '211868598', '212923466', '211540953', '215305762', '216692815', '213990802', '216601900', '146830699', '151553803', '210121889', '192271007', '131190186', '211590381', '204012896', '216946990', '216946224', '212824273', '212341506', '113601627', '216656083', '181799515', '124355770', '216835455', '212659017', '138759690', '196105298', '184531546', '138748478', '212350236', '216560480', '207512310', '110998417', '216944599', '166295907', '214199631', '215314998', '216667624', '212530767', '143734075', '216950055', '205211881', '121252725', '211648398', '183449357', '202019542', '207654961', '216954217', '213075417', '107745842', '216803487', '214735804', '206191734', '154022376', '121676446', '129068772', '215882403', '202121334', '211251895', '198766684', '109160224', '216737371', '117196812', '216644235', '188540911', '215520043', '200719002', '210184223', '134693679', '149979536', '216249415', '209649107', '134900761', '114151081', '153416487', '215960600', '214243931', '117951688', '195794235', '201991907', '175252143', '209709151', '194498150', '190644199', '212655211', '216680731', '207559887', '208712377', '202233533', '209018116', '216406434', '185637068', '216000558', '147697775', '205387305', '216007276', '155280983', '193509097', '133365695', '216474144', '216895730', '198792929', '173632399', '179532277', '216298496', '176186432', '168440588', '181576038', '171066673', '193390328', '214413998', '126833297', '216536302', '214186339', '216644942', '203294118', '180608101', '199108552', '121146750', '216854378', '215129970', '149210908', '156057610', '210862186', '216916800', '134823113', '206996085', '181965747', '164129844', '216978188', '209048281', '170340245', '127618301', '126767952', '166844577', '211712146', '201997191', '164808617', '126348698', '197334104', '173892447', '134166403', '202630390', '214769254', '217013956', '146746566', '214837202', '194596184', '212459275', '149720063', '208168526', '187424760', '205226100', '213089469', '201342056', '198782082', '215343472', '165102841', '133357708', '196202607', '124957387', '117117728', '216540297', '211982901', '213336899', '216616852', '136908007', '146309485', '216484610', '211833528', '214964893', '184157081', '215481437', '199450023', '136674961', '187488943', '208049788', '115895453', '173061735', '215205566', '215399004', '209957521', '210705205', '216790081', '194163506', '202334122', '198517429', '214075905', '212846643', '115632028', '132676081', '180050708', '216835849', '196403993', '174762890', '207266399', '144788089', '164353996', '148114712', '209799799', '214546623', '198099973', '151157087', '212977634', '213917420', '212165322', '171934381', '216341333', '203448288', '115731369', '174417852', '216706155', '201372553', '210882167', '171187122', '208341500', '201834431', '214823594', '214484094', '127186658', '210006729', '214830853', '210153864', '212447467', '146824893', '188932164', '195852775', '215318050', '191649191', '211500079', '194608641', '212440203', '211097399', '211770215', '195317678', '200491645', '207003090', '135399361', '147750403', '176469013', '216947113', '204334171', '183241959', '217006076', '215921101', '207477999', '215776763', '181101646', '196956004', '216808432', '205659285', '216731262', '216122492', '172898560', '213331156', '165868882', '155982538', '144386338', '202131758', '197745401', '172696094', '185131813', '206465009', '202955567', '205994148', '122415242', '216834853', '171294003', '205599237', '176343720', '184315586', '216974703', '194245282', '213099183', '213326437', '142501813', '173223871', '215809256', '214547935', '171743577', '201926823', '196613091', '203346901', '207813477', '164218392', '204013818', '212376509', '137925960', '191646419', '212651223', '204169674', '205778825', '132901784', '193708479', '212623056', '208352687', '216646636', '216416972', '214068959', '120974207', '212002532', '213404273', '216856135', '198027587', '152942414', '215234611', '209115033', '173078634', '164393640', '213741393', '202068836', '215201846', '216935479', '215011893', '178613744', '128911622', '207495079', '195419772', '213138837', '206867893', '215620806', '213075065', '198470144', '171294961', '190339414', '136655126', '216966603', '205189071', '216321868', '214729210', '128996587', '216501634', '207901560', '215195642', '210123821', '191172477', '120464605', '205929493', '168772033', '213942423', '214441309', '102898975', '212152220', '197177319', '184717372', '213224700', '155356345', '183061345', '207832871', '206504186', '210393986', '203940501', '182409902', '204696486', '208412745', '199016399', '216053421', '215569834', '204175672', '216560541', '168327351', '216657470', '212985720', '109232892', '210609175', '216674632', '203971844', '207509064', '190289157', '215260364', '214300030', '194078667', '216939659', '207303103', '128428498', '209110664', '207471675', '110679103', '210745923', '204482279', '215867745', '195996408', '155620180', '215335508', '187591334', '162370146', '209175535', '216342205', '216342204', '157478696', '187890818', '109811636', '203338168', '113777542', '165608819', '206458440', '209898368', '135119666', '216092117', '213139301', '213630992', '199386631', '175304839', '215716977', '210422791', '216961378', '203568151', '216965181', '139287545', '154236547', '121470260', '207629724', '165901587', '210321437', '198202729', '204091092', '194697769', '212434095', '127566490', '190438666', '216700719', '213783106', '184689362', '200399973', '204100673', '216080585', '120624561', '209684363', '206706910', '213671740', '211902681', '193640388', '203787230', '216193266', '176283955', '165140882', '208267911', '216794880', '214542264', '200717545', '212626962', '193189184', '195171708', '216498060', '204293281', '205756779', '162003346', '180591902', '209286737', '178131353', '189141161', '216886202', '214067870', '215211356', '182284048', '117483804', '204291822', '149382460', '215646921', '196147387', '141667699', '203858865', '215187056', '215984728', '214642851', '196053633', '215967059', '215481601', '216947132', '184260047', '216947134', '164105971', '195754507', '195635689', '214946112', '215478175', '206021457', '211258850', '127490588', '216381600', '171493759', '159165208', '180873360', '182063928', '182588055', '154265269', '210824148', '212699007', '206218062', '200418569', '164211423', '214660290', '216645754', '213629827', '191263269', '207584858', '214306772', '191628098', '121380943', '212600571', '216642765', '214611223', '166159799', '216592952', '213864200', '192280347', '198095091', '181338902', '215300279', '197034076', '214185225', '194154111', '110937180', '207503552', '174820812', '184958537', '216735025', '213126693', '125183386', '216114328', '178429056', '139805456', '216885547', '109630056', '212845869', '201353422', '216527396', '196299119', '211887300', '165526405', '118663013', '216260542', '110857388', '199961386', '172870082', '195185356', '215717402', '213449174', '120299302', '216665175', '105437605', '189527100', '193309875', '115612642', '135525868', '206507409', '216090055', '205501317', '124458232', '196652649', '183955895', '174415916', '192869283', '110740725', '146551992', '216946425', '216355968', '173948288', '208749214', '212235412', '207755754', '204590205', '194832566', '116477566', '216490628', '192072218', '216671874', '212659251', '216783396', '204417319', '195389555', '214942478', '211194368', '211682691', '197523954', '213771074', '155003683', '188749252', '215146737', '216674134', '216616717', '171205716', '215900769', '196133445', '216421308', '192217323', '127999811', '216627278', '185631456', '216011476', '215662564', '201126615', '183539038', '210332787', '216604034', '163250936', '128080870', '200199511', '215724285', '152772545', '211324564', '199195516', '129392215', '195017942', '216691209', '204449689', '216580249', '145787887', '214660751', '215668984', '215320296', '211357025', '215951530', '106368572', '195540373', '109429906', '167747966', '212724690', '135366198', '156145812', '175178745', '209155995', '215261777', '102851974', '210096489', '215364485', '205736516', '216031039', '213234305', '121715381', '216826791', '131555016', '187512417', '212151688', '214622706', '198822124', '203956583', '128609795', '202415044', '107951030', '185326141', '212697091', '187611736', '215994786', '166757246', '198824930', '168519807', '205391527', '214005885', '168835126', '217036847', '216061489', '205033260', '207262902', '151549214', '106208892', '139434766', '136242712', '209668421', '214977612', '210241809', '207602996', '213877291', '185202779', '198807164', '151202511', '214825829', '193878256', '179909778', '201731981', '208347910', '115717710', '188802213', '214944989', '174110793', '166190298', '154928549', '172025416', '172113365', '196117329', '206713644', '193930524', '216255846', '174939473', '172796306', '134024623', '179465371', '165228703', '216188298', '113892416', '216968729', '209283642', '198148459', '216889097', '129209791', '208966444', '216542011', '127336681', '216725337', '178889008', '216725333', '178199817', '214683778', '209045121', '216165844', '161879500', '215111176', '112941334', '148661140', '211427445', '121189755', '215552033', '203695163', '165748703', '177551660', '213126066', '194095560', '214687458', '188753816', '208053101', '141781954', '197032039', '203166816', '164463991', '201574910', '207733392', '194072534', '196009178', '211775982', '183302760', '125473436', '216229576', '211948524', '213996394', '216672967', '192154196', '215453912', '203132978', '216098367', '152789817', '186473108', '182535523', '215078885', '213850745', '215564125', '215248265', '143173381', '190919763', '162657466', '116200417', '108056615', '206867645', '103867717', '215247217', '196873345', '135213618', '177384304', '216120877', '172040715', '216884944', '216560364', '198580120', '183129922', '215236992', '181826154', '215673425', '193646713', '153650058', '208509207', '126015728', '186912670', '216369782', '141917962', '173762930', '216898043', '194416879', '215344148', '215706242', '166123232', '214929483', '199863344', '201458282', '212278415', '186903500', '171050937', '212795823', '203601785', '201821054', '108999997', '145568513', '169356149', '111779449', '127995377', '211290738', '207182195', '197898816', '196236418', '148480489', '216119474', '163126855', '202339876', '119682728', '215551921', '153189907', '216968742', '200306450', '210848516', '198359315', '203965291', '206304182', '207215567', '125583057', '216604834', '139699930', '213284798', '173531177', '195354662', '216778427', '190204038', '201828243', '215659882', '199133155', '192865161', '168951105', '188852948', '202704151', '211685188', '188710586', '216718280', '105917711', '193768616', '216888112', '208427340', '180855319', '215803819', '204169657', '194383955', '215242999', '132523847', '100119147', '208906753', '209645787', '196879269', '208713960', '216686827', '204799157', '209149676', '211130092', '211451175', '216883492', '189026626', '212902942', '207742163', '190834024', '195223862', '113336938', '187318546', '199610968', '199976155', '194889827', '216584536', '158441944', '212598818', '209223216', '216663342', '214650035', '169409001', '119118828', '215659228', '216946228', '184053841', '173168411', '207366601', '177838651', '114613707', '214623722', '185041293', '195834755', '215014285', '214652540', '203758442', '152858771', '181277074', '200334663', '111291869', '209260279', '139069134', '187543132', '216945389', '201474925', '206225794', '197554794', '216939412', '208426346', '202626185', '184071475', '215367342', '216389191', '208999936', '177950152', '123787967', '134263576', '198530215', '216568504', '209608639', '210199697', '196888504', '190896275', '178150280', '216800259', '116164803', '207291789', '216087950', '198654691', '150445471', '211172374', '192263496', '118477346', '216625685', '119034040', '135295605', '119994959', '203185387', '163556307', '204292135', '216691341', '208784035', '197808771', '179686192', '123096933', '194797911', '216408660', '210365537', '166704566', '214158111', '193741044', '168237634', '203184526', '177768907', '188550549', '209708184', '211208280', '214608583', '215076077', '216634091', '194458075', '116638553', '209773936', '212830777', '141240727', '216670153', '104146882', '216670158', '214045079', '205790274', '145433339', '207003214', '190389806', '216725296', '204150178', '215231248', '191257933', '214118986', '202273709', '131589348', '130352159', '198012147', '120324962', '216306292', '163142094', '142488573', '212315675', '215599686', '216706060', '193302775', '208467831', '198549129', '154762252', '216491028', '192267704', '119173623', '164818950', '206682042', '187718547', '211628557', '213397019', '130274214', '208476747', '213563509', '215200433', '137134596', '211952693', '205310002', '188426480', '174771180', '157325270', '206107536', '123858476', '207989156', '179683584', '204670394', '215180020', '183622431', '194622826', '216487574', '211167852', '206303602', '130518565', '214073923', '141161689', '113349068', '211320124', '206967797', '214323661', '198359817', '116897708', '216403909', '212819134', '216986012', '216710836', '204078429', '213529508', '189665210', '213428269', '194672716', '215359362', '175047302', '210865326', '109114035', '206046915', '202235165', '215074379', '197481002', '216275428', '209104006', '215516570', '187321303', '112318312', '168391205', '207057472', '192934133', '215831170', '216835497', '214625379', '136749813', '213889529', '211350370', '130674165', '194634269', '123543352', '125775845', '215551737', '212479819', '208932898', '161637988', '215507554', '211210673', '214017814', '202867631', '215652264', '185994900', '212552697', '215924480', '200322621', '198368677', '132272412', '216043008', '173498816', '210010260', '207942187', '216268594', '201982958', '213024134', '195911842', '175547124', '174573493', '170931769', '214044305', '200567742', '216501424', '147811030', '215105099', '111169398', '207089947', '193652437', '215479283', '192556813', '214661432', '158352919', '188965408', '216946155', '147949249', '216946408', '194678028', '120757954', '204640768', '207040926', '215238121', '203889633', '210765030', '108184411', '215850285', '215599117', '196793846', '208048721', '211110950', '208764468', '206172934', '133640220', '176066489', '213792330', '202235836', '198230403', '192072230', '214337308', '135838752', '134426620', '216779277', '214545661', '155180019', '172847170', '202793219', '194523697', '212341703', '215309098', '158459429', '213304275', '197030228', '208529620', '190407869', '156235702', '216040021', '131777428', '190561086', '194502090', '120188322', '215662503', '212594158', '209591062', '207688664', '216427204', '201393597', '172655934', '197958659', '170113489', '208875270', '216666184', '213177393', '206102619', '175217753', '207603778', '216425533', '215510629', '216897157', '149184565', '215431748', '215350421', '214026445', '140223280', '216667854', '103840360', '182236886', '158954841', '201630952', '163116873', '215607429', '215512628', '209048219', '216988324', '118079977', '132407598', '209379144', '194080381', '209658443', '215420408', '214717489', '143118861', '195432012', '211681296', '210181654', '207806153', '188285088', '173052428', '127410664', '215177525', '117137743', '214454604', '203345065', '182207809', '206696475', '118573892', '174312163', '137511096', '216128739', '194606643', '154193331', '182467189', '167673647', '210376423', '187786640', '216070471', '212658367', '204003216', '110990575', '215180902', '204060018', '189200747', '205512838', '194107275', '215718248', '181598786', '173192126', '173776859', '194780393', '133165194', '110314710', '214769073', '150534799', '216966147', '209599058', '213287532', '215247908', '204380138', '152394425', '166077492', '216309538', '210487303', '213615957', '216322605', '195926189', '213625111', '214822398', '112857628', '209628907', '148496268', '197138247', '204170870', '215649450', '216939753', '215240028', '195836633', '216820936', '147057565', '216947438', '206151370', '200106777', '212847230', '177854078', '170843847', '216947430', '209250091', '216491237', '197562640', '211585652', '209623956', '195213527', '197547736', '215872924', '196887853', '215627706', '206392033', '201083043', '162990213', '149659872', '149897283', '193245413', '196711842', '143678318', '163393977', '215665362', '215852269', '216685928', '215423711', '126595117', '200751879', '207603669', '216111512', '216947384', '208279988', '129825023', '185047729', '196621602', '168627013', '203184263', '210118981', '216248465', '212652497', '215548784', '205552948', '196915232', '216679970', '107032573', '216098436', '201919787', '215913242', '108372003', '210259604', '103540418', '157227347', '194598638', '191957529', '152074444', '213469669', '215036404', '195483424', '216858456', '213771811', '200717137', '211829468', '183845867', '187523367', '215610598', '207497258', '174407882', '211663158', '189131055', '216642958', '216480260', '198563053', '197100084', '213347003', '207664904', '192027655', '211683928', '108054676', '174378460', '203614678', '215782335', '213889316', '193036139', '216776050', '105648632', '217002435', '203453311', '212474143', '191450425', '214723663', '215879528', '203238582', '182487707', '186674223', '189671416', '138499956', '156246974', '131547874', '210126226', '202631485', '197596398', '215541750', '215100879', '132210067', '199164006', '208714196', '216791394', '143018228', '191909391', '216842006', '204087135', '205237949', '151914536', '207463765', '210687128', '216914694', '213852158', '184969446', '171596029', '184767184', '216626501', '205718809', '112783889', '143997915', '210896026', '199284008', '215700159', '216692356', '216631886', '199862148', '212028783', '215292963', '216692358', '205092757', '214078109', '212154978', '131959075', '143453081', '214641046', '200348040', '215800372', '185442298', '129751655', '216300486', '216603933', '215500062', '209645761', '112927034', '216696525', '200504932', '200504933', '184129389', '166630759', '191915401', '216266472', '191367416', '206358197', '205571688', '215138205', '141956125', '215611311', '205660486', '194302921', '121171968', '214979067', '216186549', '183020457', '182569743', '216369502', '134360097', '169129219', '209389223', '212741881', '173720829', '179870347', '212614076', '211605968', '216970569', '214721235', '215158660', '211718134', '198510905', '134869502', '174573260', '216636168', '212428752', '216884094', '214335858', '116931316', '215238975', '176561979', '176280275', '194231843', '216347290', '203032575', '175224715', '170430813', '191252174', '153771764', '212382031', '208524998', '193472465', '204762561', '206450931', '108042622', '209652972', '179019163', '205715248', '216083013', '194787117', '106894554', '186274307', '215843051', '104681363', '215856802', '172524605', '162381438', '205590040', '200706550', '204533830', '167867652', '194271847', '143725608', '216457943', '181770649', '210578417', '210603630', '207155784', '141117290', '214658775', '151038314', '216699014', '202953153', '216836385', '107082267', '193895244', '164201229', '135441026', '189294824', '209444959', '202231452', '205414365', '205247836', '198170257', '195843226', '198680681', '204161635', '179791687', '206559119', '215591664', '134547739', '193932917', '109556157', '150527390', '115869333', '104154009', '184765614', '216670174', '213162804', '175481186', '181502643', '212698887', '179933383', '167771073', '195850831', '133262188', '216548924', '214023664', '214888314', '215900009', '175347737', '158270038', '215994191', '126368052', '213520452', '187480564', '207673626', '125368926', '213142631', '211254519', '216784830', '214968979', '120104119', '211145171', '193215218', '206876260', '216203372', '214843708', '214472556', '210662971', '210096690', '198809593', '158287621', '214630129', '213841431', '215649847', '168752215', '122902498', '102348301', '213841387', '198828545', '209927655', '200726327', '216505942', '169265443', '184973765', '155231528', '213621837', '214668891', '211550202', '196183759', '113509826', '141375054', '155935165', '194847222', '188320547', '187572740', '216944851', '215683358', '214944372', '152401671', '200637020', '213357987', '193405026', '213337667', '192211962', '215850998', '189299853', '201379318', '217012985', '189666010', '103937198', '149277216', '100761192', '207103586', '176320601', '209108767', '216693745', '201640185', '195384368', '140485931', '216073380', '106736554', '176660514', '126163980', '215537175', '174122996', '215246312', '170348709', '214203394', '166780993', '216704819', '193567865', '197040321', '155911406', '173194176', '198904429', '216825997', '211086877', '184841489', '201684111', '216193834', '208131372', '201087514', '195793319', '215306311', '164473871', '192704830', '197096812', '104803013', '195150612', '201940081', '182035361', '195908514', '156451533', '200716181', '216618533', '202365232', '208884082', '166279070', '216825198', '212900576', '174242387', '141383462', '135098212', '100963093', '196681324', '216775798', '195831115', '194151728', '212762157', '212263903', '207696830', '208415516', '216723942', '216849097', '124618811', '209983592', '191743414', '131804240', '212973985', '194702354', '173334907', '202406742', '212747406', '210441062', '184519296', '214203978', '212733834', '216243970', '211742314', '135348673', '165254976', '215596265', '197368074', '153508541', '216787911', '101858430', '118955282', '148104786', '202786553', '216116955', '214369662', '135788392', '104637661', '192031869', '206321763', '200274569', '108422966', '206377699', '194607755', '216832967', '216869712', '100119331', '203768772', '214773506', '197306312', '210795649', '212700259', '104217338', '206474660', '192453296', '216260036', '158874833', '120882569', '153154823', '155045445', '180562136', '212368542', '216946287', '202073590', '215598422', '119535896', '206296319', '214551384', '216794661', '149833616', '214433637', '216304026', '163891537', '166012122', '123182219', '152744377', '199291651', '214626449', '216330938', '215559213', '187672400', '212309187', '191094895', '214368041', '209155407', '209342264', '143819173', '207554535', '106478536', '211047387', '215651946', '181524880', '212358966', '112016272', '212525009', '216250730', '211447085', '204418996', '211892684', '215368541', '190663738', '194787275', '193787025', '179088066', '214009328', '180844755', '177686921', '108495682', '211562382', '198130649', '136878750', '195325348', '211293072', '216510167', '216762431', '207737600', '216629803', '209461564', '178387775', '199145694', '216694559', '123233896', '216911431', '104443919', '216255745', '208571965', '174151846', '198663489', '204588522', '216751946', '214858870', '194025055', '209604947', '181408380', '105936285', '135185515', '213680458', '202674143', '192820897', '115787969', '216472417', '131233602', '152897237', '149944666', '170044023', '156555498', '216398471', '165370325', '195993367', '156362891', '198813635', '158273919', '216534702', '215715216', '215104890', '205483516', '153773886', '153187389', '209448062', '212769361', '212218265', '188177044', '200340746', '216680966', '112583657', '118414628', '208528235', '213511682', '216325307', '214420024', '170912100', '212486239', '110459945', '215565375', '214543093', '208873688', '185885573', '216611835', '195972014', '183644383', '189868875', '208369861', '212215775', '203191061', '216060575', '214604879', '120330853', '216729025', '198904639', '216062495', '187485265', '208649336', '152247792', '214124387', '216947415', '213051792', '166701493', '181345376', '166435679', '209704754', '179859646', '215975685', '213083723', '206756107', '215708252', '214761192', '215646681', '156937041', '110491874', '201604389', '189741381', '161792920', '211015570', '212161844', '194453989', '214436463', '109953188', '183419619', '186768559', '217014584', '214584086', '109325780', '198463887', '166391964', '209492400', '109760120', '163430161', '126930358', '195100371', '150571586', '182347552', '115589149', '202224101', '215361894', '214415180', '202421024', '152369046', '216644923', '215293275', '196268383', '172914594', '177812041', '215679697', '216835352', '192394145', '208364043', '172714401', '216679919', '213100564', '191204154', '206147800', '188361500', '155208486', '216884986', '206810313', '116701675', '211829446', '144582660', '213624303', '108201711', '211583377', '215577229', '216208852', '197940112', '173457064', '130829169', '192418681', '166546072', '206422925', '202888657', '207477136', '212589133', '203596125', '203351828', '149163461', '188512170', '216683152', '195660298', '112607120', '209586856', '212105775', '216683158', '153002351', '127257136', '214198093', '131111210', '207511046', '167510667', '154550520', '212280489', '196077848', '209557874', '216976389', '213418651', '209736177', '214786513', '214283144', '109291933', '208717543', '212512001', '187721154', '212913300', '195818295', '162989590', '196986111', '210159957', '153228840', '213532817', '147102318', '206636433', '146525451', '202756585', '172757052', '214373129', '110190220', '197034151', '208420305', '162664734', '216832048', '131814427', '193999749', '162895111', '216833173', '113318702', '200587349', '157751856', '212402106', '157657639', '189678656', '212391515', '210118281', '212010978', '210269748', '123143356', '216143352', '216838856', '215867942', '123982878', '203772158', '156221915', '212668943', '151823631', '172444115', '213985349', '193043410', '193732238', '113356622', '187176338', '189581656', '193251699', '178670052', '216739417', '189698226', '176152752', '215898147', '202608853', '207664589', '184384238', '213095756', '209648246', '213577692', '194229161', '158923583', '210010033', '212106953', '214906215', '206198492', '215553900', '200537960', '130947764', '216628643', '206553709', '211050868', '203457740', '193965914', '171903790', '200486042', '196185311', '210306088', '130218929', '203380507', '124521523', '212987118', '146604909', '216921736', '215547502', '217001001', '208855662', '215358663', '215837065', '210977577', '106473397', '214382469', '216946343', '216316439', '216946349', '214840534', '155573194', '164619118', '208784210', '212876631', '152223342', '207331636', '214225648', '205629313', '214841956', '206518823', '216777983', '208814184', '212746255', '194545966', '214273564', '194752739', '135190347', '189974929', '123889257', '216838123', '204144088', '154528828', '177112755', '212800020', '181092191', '101424740', '102617016', '197177116', '185043634', '216201392', '201657333', '216708977', '216159131', '196881082', '207494363', '214311982', '215183482', '214825746', '183906184', '214973320', '215825553', '171200754', '215767224', '216599185', '193120939', '201183939', '214843888', '216670190', '201731713', '216602928', '211211001', '193154035', '192416276', '206623458', '209598534', '215568104', '194856608', '216190502', '103578775', '106602306', '209390457', '202605217', '115779149', '216498222', '112193044', '178770290', '215768571', '207937848', '212394365', '122376088', '215241540', '196857944', '206181395', '209118486', '212003862', '183312203', '172817096', '144883830', '215646754', '216885072', '115881860', '216419561', '211615919', '216132181', '103739079', '216279946', '200218362', '213344155', '214223947', '145305537', '209795677', '212294858', '201566063', '216673314', '216262704', '182576053', '113838012', '108527635', '151700819', '182893032', '119173217', '213563893', '214700364', '120953347', '128279319', '123699170', '119115935', '215982525', '190234379', '215857526', '213079274', '216615632', '216605405', '212587894', '216751149', '213775754', '216410408', '213480403', '166143380', '156612301', '216379689', '216564523', '204356305', '211079369', '216146405', '188311600', '194196999', '204538587', '104793667', '209283741', '139127293', '216626142', '200716470', '111074203', '193649180', '212667493', '153325819', '209239070', '103375468', '216888986', '193562834', '113863394', '186917611', '148046411', '212381195', '203676644', '133260370', '216806708', '216439375', '125422483', '201006757', '200208516', '111059798', '209091536', '113301179', '175243060', '215749698', '181440904', '215393313', '187957707', '215438875', '194959971', '208773708', '216619641', '105463639', '214542204', '177537334', '166865843', '216613277', '199683062', '197034092', '216775047', '147341134', '206777475', '162695626', '172053435', '183629743', '215483247', '216682418', '209973651', '214545963', '198682647', '130797126', '202547664', '204338112', '164577682', '197833815', '111255211', '185083963', '189987254', '122796244', '213024415', '214880791', '194737519', '213950863', '158833072', '200277215', '196899645', '188836898', '209332326', '196625737', '139593313', '165610571', '152952281', '201850004', '212980590', '200315953', '216143990', '209172362', '212426176', '206154091', '202552851', '215503296', '203565615', '210434455', '176034574', '138882182', '125801698', '108465025', '195104640', '195628226', '174021184', '142180636', '154604174', '215477376', '210337771', '195530362', '215500927', '214528990', '208411186', '216615935', '114011333', '181741671', '214366835', '100347538', '210028134', '151142839', '136170334', '169365390', '134756787', '216723348', '188279370', '216668892', '214680381', '216690776', '211140679', '216681974', '216297479', '194723853', '182776913', '207110885', '114247971', '170061200', '107222824', '216778856', '212378195', '153175950', '174874580', '200562006', '215166709', '150726325', '216480833', '110410691', '120828773', '176156916', '109937530', '214923481', '209319708', '177229358', '137655798', '194618112', '216897115', '110219386', '215841481', '198644708', '214677164', '216964029', '216752550', '203888780', '216981770', '212049592', '140756007', '171501334', '216981778', '208402209', '215481260', '201679026', '131836437', '216669324', '186182258', '152761947', '214191916', '174610930', '210078160', '215203615', '214874940', '215537753', '213892037', '216848096', '197696831', '200931340', '186247744', '214563788', '212846097', '168538017', '147760012', '135633514', '154224471', '197337187', '139322655', '211316424', '213801917', '213029134', '103583711', '214681031', '214520608', '194948010', '131238145', '207472252', '207232559', '207405059', '216581207', '186843256', '212076214', '216757230', '206027648', '198114699', '215881682', '188358609', '216840152', '207545834', '209030784', '194734794', '205999777', '194961852', '199299697', '192647585', '216536982', '187384020', '187488409', '125814922', '216630749', '214825882', '216741096', '198422398', '189511116', '207452805', '197889979', '150433617', '215606737', '216449626', '216013187', '216200632', '216947371', '214442007', '180179122', '214113057', '216516330', '216722250', '193190247', '198000913', '129282781', '207873151', '208116282', '113468503', '189035913', '174128709', '214734049', '201155500', '212525551', '215457153', '212476241', '162384268', '216716493', '214176163', '123334335', '216092290', '114120563', '215862368', '204438878', '211948467', '151198329', '196070319', '209036802', '201251467', '206160747', '216632526', '163792971', '191543890', '176398052', '184643432', '149313251', '153406149', '194322952', '216921472', '215870839', '216783893', '215964234', '216957586', '189220569', '115640030', '204341918', '182850881', '203829918', '216704663', '216667432', '215078734', '206231673', '109592576', '115676766', '215188082', '147926413', '195663544', '189008658', '140028642', '216308191', '215771684', '194947220', '165555594', '203092060', '204106272', '202417590', '216793354', '129641591', '154564008', '206656564', '210825295', '215711790', '206692633', '187526870', '216034448', '216883881', '212872604', '215961814', '116120931', '216192844', '148541546', '187566293', '215100267', '180195164', '106183090', '207703690', '194115816', '111902073', '203648917', '205461126', '216840057', '213080446', '179316880', '216947035', '207483286', '208453370', '215561429', '204594660', '178096975', '213706102', '165173803', '216702890', '216382917', '165625144', '212352752', '180094086', '189422609', '197696603', '182673329', '164233474', '203849267', '154340432', '184810882', '163786446', '212594993', '155127252', '216679286', '187656328', '122122149', '216636798', '212879871', '179935285', '215627154', '213529150', '216950192', '215622401', '126478641', '169344785', '208795733', '120878836', '216702095', '157294589', '216886116', '216494359', '202628034', '142023304', '215359512', '216702099', '110360117', '196387800', '142337666', '198050741', '215192196', '163284166', '183040000', '189931037', '216008084', '215197900', '215665907', '214377681', '200235151', '176314170', '202945533', '176868760', '208345460', '170401240', '214902550', '210956721', '207035447', '187525218', '110824538', '216624579', '123921995', '216684485', '123921996', '199357883', '136829703', '131429335', '173880214', '214661996', '208406874', '216657548', '189502224', '184782282', '216903628', '198769543', '210683517', '118573781', '196125045', '206576706', '209957202', '206154174', '124979719', '214537614', '195515496', '195437501', '205006214', '209820018', '198284072', '204581356', '147399806', '122630926', '141933120', '212721880', '172516934', '214374082', '174612393', '199691348', '124385778', '214383776', '202593902', '172405896', '217018897', '209617337', '211812569', '190895512', '212300471', '142176992', '203785379', '206764534', '108976070', '210367757', '214641087', '216159488', '214718671', '216946328', '119268447', '185354538', '215843011', '216844513', '216254179', '216715415', '208249751', '215867438', '155808850', '212838643', '209365504', '152329409', '201794851', '210332154', '212390265', '206345435', '210238163', '216028215', '205854383', '213792981', '204689725', '194694732', '203904675', '181516879', '106859641', '162874442', '196863330', '164168029', '215014333', '210453109', '107394815', '205701959', '196960525', '214014026', '212816977', '212820214', '201551190', '127878704', '201360471', '193091266', '175866345', '197965045', '193221977', '117134264', '207667593', '174995334', '201216246', '118814667', '210906284', '215316744', '216945672', '143579471', '216201118', '214379138', '215617577', '171196153', '210147662', '137658327', '206656799', '191172037', '200711335', '212045904', '201954977', '206598720', '194232075', '215646777', '201546900', '184765731', '212668118', '181748003', '111925132', '216799556', '216713810', '164123615', '203295701', '211329545', '213200649', '216666861', '216588188', '123444189', '213762957', '111473853', '180451686', '216973541', '128275197', '197077422', '210809032', '187965615', '214580066', '177771653', '216557797', '201368277', '187595299', '214386614', '215351052', '215306238', '215062119', '213862901', '213281194', '193628478', '164869371', '216423354', '208449533', '113305639', '181913869', '139512660', '213172914', '115459594', '115947746', '209940512', '162876403', '109342991', '147696491', '184632964', '151572805', '174515925', '146300205', '138772053', '211491501', '215941045', '123811135', '216377932', '173539605', '136144667', '111071476', '208631334', '139080321', '214256379', '215446892', '212677701', '173305954', '166088212', '216654459', '196202215', '172433146', '210835164', '216335745', '150965094', '196065075', '211982495', '208624736', '192439644', '145579821', '216947201', '171134534', '216770784', '123217204', '176199865', '138504767', '210871551', '216720336', '212868895', '165038331', '198731712', '183630083', '216687115', '180589205', '179200046', '215616816', '187403830', '110025886', '207263801', '215184763', '216668523', '208008978', '216357319', '167650683', '139715919', '186294850', '135553795', '203113798', '216636166', '199738051', '200953524', '201650628', '208722066', '116422943', '216963623', '214946663', '214047143', '205075464', '212012126', '196884140', '182600432', '143637256', '197485364', '210748383', '215774469', '205896937', '161413640', '215295410', '203675780', '174056694', '199555987', '177400529', '216056520', '165461841', '203675061', '207351049', '214680852', '215839850', '202233403', '174915966', '108701471', '140203332', '126382223', '214018840', '142098656', '152871944', '215790891', '212330962', '172363503', '202496916', '181214345', '180757248', '215667060', '177666653', '206286258', '198082303', '125401510', '215016957', '120907464', '147323407', '216810883', '188093639', '192306763', '216019280', '206101170', '202375868', '145364654', '194509957', '168543517', '212969410', '163129080', '153031853', '166304888', '207685717', '112683833', '216749749', '216736849', '215720820', '208177616', '123685305', '216778832', '215664099', '172654583', '126818277', '162215167', '177013186', '197185052', '194810091', '213770759', '102251694', '216782336', '134984716', '147728033', '108412910', '213512969', '198362890', '197252769', '197132838', '208245627', '157740534', '216143700', '203704812', '206871425', '156023103', '184963880', '113236085', '214220606', '176975531', '202180553', '212657945', '208989982', '214281661', '167809632', '201839649', '208398885', '196738331', '165853222', '211483122', '204975141', '209809769', '209835664', '214008858', '191255898', '215506508', '216946862', '214224277', '216694515', '175831848', '122861550', '216895826', '216832073', '205715690', '207886047', '209661876', '216829898', '127282193', '216729417', '207218382', '215239490', '204000056', '216671120', '197646677', '165683179', '208303635', '197439114', '211489238', '171226312', '206981681', '206361783', '198477858', '116416353', '199437474', '215874463', '187912083', '133750357', '152108826', '158564983', '216967875', '214808501', '215898953', '216773920', '163378941', '154125397', '199061274', '167120993', '206072219', '154856984', '181037642', '216663539', '210306960', '188099974', '205060103', '198969812', '216783425', '217013467', '108469117', '212764574', '216414071', '215746615', '216684121', '216944795', '214717466', '216081958', '133259116', '214717461', '107207281', '186628670', '215365803', '161632598', '191955148', '215365806', '201695209', '152309022', '203594137', '199252719', '217045140', '163172304', '185802455', '207446259', '200565360', '164436373', '194679717', '217008714', '207489349', '215554661', '147903961', '156050736', '207753928', '196487744', '216217027', '185082221', '216483008', '216689744', '212738305', '216831254', '196429787', '112530063', '186765237', '202445768', '126129429', '214976615', '119653130', '201686624', '195844488', '215862382', '216071646', '203574071', '202079898', '214941466', '189076122', '216137830', '199209259', '186448257', '214662693', '209320968', '215335811', '208857800', '214311557', '202501327', '213701470', '216443401', '208810983', '198516521', '127104879', '196463097', '199058458', '214208674', '122038237', '205530613', '207348549', '157444301', '215205936', '174397190', '211619877', '191083531', '215720225', '133289227', '207086285', '216945982', '191821836', '201180831', '178476125', '194778155', '202850775', '176264537', '101799974', '191926468', '215897527', '209346062', '179285159', '198206017', '181731948', '202047304', '163832328', '216835314', '171460293', '216417498', '216332732', '216619562', '216528449', '214673901', '194130580', '207497237', '183211392', '215477162', '182871474', '207995702', '116012431', '216781340', '209157409', '207368009', '199999952', '164439525', '216494722', '163207054', '214837557', '207730524', '214793307', '203818846', '216825729', '130659531', '216074259', '216940546', '216996720', '216062514', '214877329', '216683116', '204922316', '214789253', '214166113', '209006528', '214247770', '182645622', '212751512', '200557416', '181554922', '209668698', '154517134', '212097982', '184452375', '216848510', '179305726', '216970572', '212558500', '216503695', '211592075', '210119476', '193935416', '156294335', '215594026', '216852321', '185168090', '216642667', '148265989', '214946412', '212969399', '216447520', '191502287', '212536780', '216886318', '216158444', '108461067', '216740584', '213863965', '216011420', '178044331', '216632321', '153098474', '208301542', '213250197', '201820353', '215526106', '217014637', '202629094', '125362709', '213732908', '177252942', '180737538', '215551545', '216182153', '175750664', '110308546', '151413956', '156883409', '214831385', '212611224', '197580660', '152302448', '184095391', '203710963', '178772641', '121754678', '203040025', '212639491', '215252754', '215775592', '166169835', '215252757', '216747020', '208615063', '172748069', '202205497', '198830827', '189808846', '175938099', '104184027', '216612952', '202079094', '106185023', '128701410', '153125236', '152781845', '176849509', '210287815', '203705349', '100863944', '151599462', '214632717', '208531594', '204968926', '216748421', '214476945', '206187291', '215206614', '208245316', '174029569', '177525796', '198249507', '133869056', '216788699', '205087270', '215968547', '211633594', '197234294', '191376831', '204348842', '214579548', '145719959', '202577483', '161633672', '118517564', '148952404', '212832086', '188190463', '172662343', '121598675', '212746218', '148095972', '128792114', '211618502', '180490298', '209207473', '182543127', '213983730', '216475136', '213451422', '110579506', '197169432', '187663974', '216859409', '208902699', '215617369', '209494188', '216670404', '175944002', '195799552', '186424565', '216670408', '215773572', '209491787', '165917029', '166845419', '119642893', '207067525', '214636380', '215610292', '175450515', '206572861', '106115187', '198608275', '136152829', '213495833', '169812893', '214331411', '216872511', '169924247', '210083041', '166944370', '209427194', '216958470', '214651653', '191715400', '215537659', '129314569', '216629987', '153703611', '201087910', '191309959', '170950241', '147618275', '213687090', '209933184', '117102381', '104201622', '211357675', '106178658', '199588302', '209594649', '190243051', '214034798', '216945657', '216445835', '122932841', '216209293', '102090373', '190128961', '210241776', '214441016', '216383679', '176750933', '215425153', '215261431', '175629960', '110284013', '199512099', '187532677', '171899703', '216605372', '211807737', '215646797', '213588335', '126311771', '138894795', '217017979', '210831689', '130757739', '216691756', '209329374', '112900414', '212253446', '214454456', '200273228', '194699973', '216197533', '215301484', '166568358', '180514874', '179897183', '216659140', '207197929', '214822258', '216772705', '215028843', '213853330', '208518681', '143445591', '216249160', '213888822', '211292056', '174055277', '145256642', '131072127', '211827603', '216653875', '122851069', '192475603', '216758967', '214492230', '213035376', '213285877', '216758497', '216619355', '215253241', '205660741', '213420060', '116855269', '161931460', '215910740', '211951273', '211951272', '212114726', '135272752', '206223215', '215423303', '214661003', '215556239', '216427179', '207678410', '204425593', '213243902', '148609366', '211349149', '216183726', '214022400', '162332727', '201964251', '216947224', '209193713', '207669242', '209053796', '157608192', '213039282', '127545837', '203766948', '206849831', '192918686', '195552999', '214768241', '147033087', '204366957', '209752567', '214665750', '105859829', '216641782', '132249513', '195768148', '164182855', '216979845', '214616194', '181169946', '193862685', '128040565', '208357467', '216746971', '177750783', '215210467', '209805530', '136509760', '131104484', '203655321', '216582154', '120712604', '178860802', '207469011', '117253202', '164397191', '209275558', '208506135', '199783168', '148459221', '208008198', '216026350', '213137485', '215782232', '207152724', '188711026', '209103532', '119891031', '193393992', '174981822', '208356685', '200132806', '111360463', '201865994', '170406530', '135365408', '112734817', '177533492', '211184176', '128846898', '210952501', '146035097', '214900560', '211927143', '216602231', '178470458', '134394973', '137863222', '216612014', '184014669', '198667277', '205860308', '207826404', '216334525', '214872462', '125689027', '207550853', '149117076', '187524374', '214718868', '132681698', '154692983', '111753063', '209530924', '187374001', '111734507', '216886843', '209290659', '214516202', '120772905', '177911116', '216607265', '215707316', '164597880', '113337015', '214547878', '120800331', '109676190', '212453729', '209707893', '204041496', '193830767', '158091465', '216832274', '125339911', '204180195', '128420515', '202574692', '202507440', '206178549', '213395301', '212719542', '103890381', '204181822', '208673098', '114223930', '194690141', '151823244', '209599424', '215300304', '215904143', '199146183', '205946981', '212299778', '201729149', '175515023', '216709294', '215849985', '115799368', '194463445', '195820657', '196851303', '216694067', '182053040', '216263673', '214003822', '170366160', '216421906', '206281229', '213029175', '142680772', '187552785', '196615366', '214823505', '213633014', '217013508', '194693108', '215648793', '161409794', '206179288', '177418654', '191054691', '211707585', '200286474', '202459546', '138240622', '212382131', '210333283', '163823549', '213278913', '124367736', '205536137', '194437650', '214739300', '177180012', '211678167', '209648936', '105916586', '128958545', '213883738', '216844142', '214175215', '205567547', '189047405', '181361391', '197625073', '198068455', '216946518', '213226281', '144322228', '203001823', '154341491', '212294425', '185806266', '202849278', '209866475', '215601983', '100841439', '216783507', '195369991', '216670295', '217013995', '217013994', '188266310', '207278301', '207000507', '213125389', '204828728', '137910014', '214978437', '212298187', '216626401', '187344016', '213848193', '198472548', '216121962', '132572529', '203799838', '188312679', '216906609', '216670675', '114373208', '212317057', '212477079', '210333583', '211633825', '152106566', '202329202', '202684642', '208422414', '208660798', '215955534', '216901056', '213370295', '209774568', '142491458', '216554971', '184475518', '205702859', '194714542', '186903136', '183766650', '203011261', '172276579', '110903785', '213347227', '186667787', '172812451', '212174362', '177978653', '214363853', '212805852', '185893284', '216905594', '128771724', '118294616', '209635066', '216606850', '212581471', '180533037', '213886773', '215940071', '206831288', '215013599', '211367032', '153784709', '191277604', '215566506', '187045406', '146150223', '213481989', '209183034', '200985188', '122108282', '128106847', '167765957', '199287279', '206027792', '206190227', '207132909', '206629909', '215434838', '216825704', '193639690', '190504085', '215209330', '199769446', '132158561', '106078040', '213631146', '136372956', '194797125', '203699845', '206506781', '212612004', '177586438', '202080723', '179487123', '197071129', '153932902', '138760384', '214711940', '213839558', '152792508', '205202744', '216813291', '216846736', '216739006', '158750669', '172850005', '215503003', '210377194', '207505281', '213533737', '214604945', '203901757', '159186375', '185352838', '186802689', '126114055', '210271218', '114533491', '205544914', '198986566', '214900915', '128058885', '190885762', '117601761', '212477346', '118843789', '216260832', '196538680', '197965161', '205897189', '214965764', '215660156', '203140801', '216780413', '176178243', '200296137', '100928249', '161752976', '117848839', '214779873', '144119575', '214307836', '216723827', '215207744', '215278980', '191757267', '216890693', '216922363', '172173012', '163561341', '128572701', '216559673', '216437909', '209889832', '215963824', '202813042', '148552303', '120115880', '206071780', '215572304', '185102281', '216891809', '188107353', '211234302', '214780018', '196643225', '198511713', '118080140', '202161772', '100176564', '203852014', '180299753', '156341564', '214631904', '214074363', '205773403', '162236439', '182417348', '215376968', '193825392', '116284006', '209363622', '206437619', '111280187', '209606747', '209900097', '216958989', '216727235', '196569953', '215443575', '155143608', '183630351', '204041489', '165959035', '216590139', '210765645', '215017109', '203014450', '174940610', '165655914', '216864317', '214975241', '128940633', '194633304', '216254606', '199514778', '147423220', '113595149', '193492615', '187757811', '216161775', '204755887', '183318544', '203985945', '197502023', '172807422', '214320992', '104958496', '195523127', '130957723', '203758509', '215883103', '100648742', '215773082', '214434033', '216778592', '216297179', '209308432', '194951112', '216061704', '147563768', '216903226', '145738914', '205468763', '215937823', '201508217', '213590799', '204930101', '110502025', '153253880', '180827789', '216598764', '216460558', '216899700', '208804339', '193781551', '215072941', '212677928', '209951913', '207447956', '208475727', '185085970', '216915233', '207557804', '216945320', '216969923', '198653849', '216925724', '213397250', '189750498', '212657404', '214978259', '200414157', '115479516', '204166494', '195313134', '216818546', '174921749', '145945951', '201918089', '216215885', '207045547', '208725012', '211528547', '193928435', '176016660', '207494691', '204688414', '109602500', '162874510', '190381943', '214966020', '130897623', '213645854', '207408831', '202430207', '188351712', '216101089', '216730985', '138910341', '151358827', '212328691', '146789964', '203021370', '205357486', '132104855', '163464714', '208863497', '208362560', '128786733', '123006374', '206696345', '207997470', '213176817', '102911771', '132990592', '211311066', '216619377', '195502713', '189795216', '208346653', '215428516', '209045245', '109120613', '214612075', '211899269', '212452172', '216801090', '216601299', '115850050', '120715230', '164225451', '216387076', '194696640', '178988927', '212485805', '180812551', '170912754', '213973925', '205087986', '215950125', '172215553', '206869607', '213591981', '216188021', '211100917', '216947244', '134607495', '211628286', '199548142', '177723985', '213180397', '214124946', '150520527', '216732739', '157158712', '104406514', '214938438', '117150140', '132756925', '188389033', '216788953', '213541967', '188339153', '197933942', '195558365', '213850665', '156719740', '216376040', '131155893', '216849010', '174401997', '206611299', '215335183', '199100954', '216424332', '206591846', '211330602', '215283921', '201529386', '207435977', '215356740', '216171519', '169435828', '157384378', '213040302', '203966976', '216604571', '216474898', '175495337', '207941721', '216268394', '216472646', '106288251', '124056065', '216058981', '216204232', '134515928', '112421108', '216622461', '215249728', '215649894', '210159251', '174056291', '106304281', '110209606', '120521201', '191188526', '214772063', '180191729', '126627820', '211927615', '211564351', '197712235', '216547899', '214396486', '217016371', '210727520', '130288117', '204154950', '185462948', '114726071', '177136125', '211041339', '210178312', '207550875', '209655522', '213353903', '111165272', '198641668', '216990920', '172287493', '213509497', '216386031', '204124974', '216743068', '132777966', '110605054', '164149552', '173666744', '216778749', '216452932', '210746286', '166167271', '104847207', '204187156', '111381248', '115728622', '166948296', '204667429', '214928819', '146579167', '214641102', '215487065', '211528297', '209133034', '199400553', '210372908', '188190830', '204839502', '136812224', '214589834', '213777965', '188138908', '192385760', '214195521', '211431724', '211195544', '194563822', '214482183', '200356779', '215712655', '201095283', '199663346', '216272749', '209349990', '180606956', '199433351', '202235893', '192381446', '216837971', '215705874', '117924660', '141490433', '213451323', '115872609', '197172119', '210576081', '148453054', '203517378', '136198889', '198815950', '213823710', '194054967', '201682341', '212534991', '197956502', '205002070', '216896366', '189671261', '168961052', '115584714', '210896535', '163565058', '181964764', '179579196', '144450299', '205617570', '213193243', '201678812', '194429051', '216938934', '201085881', '210539105', '211299045', '204115597', '187714991', '216511078', '124782308', '136463757', '144749332', '199889851', '212232744', '206922759', '124215073', '210117203', '112707086', '120059400', '133437626', '214072564', '216628795', '206030911', '180319337', '216997715', '215748179', '121890778', '211359520', '211166413', '216619728', '212476199', '210068343', '216727003', '213156852', '196862565', '216468947', '210544116', '194605209', '210691301', '216677220', '204030137', '194515899', '210742877', '214819373', '108609984', '214716339', '215292819', '172319021', '208674936', '206449474', '212963445', '199627775', '180763430', '181491771', '205862982', '215186625', '182964386', '177011397', '215501457', '100099673', '208746784', '156674198', '216618845', '199899261', '213173941', '155395271', '216553760', '118862891', '202919887', '175498862', '215597302', '216139593', '199818479', '213192047', '140343842', '168325018', '210275033', '216569044', '166536619', '205048849', '107781291', '201546493', '216921369', '200329950', '119010333', '115704278', '130170086', '208812546', '121857523', '213413835', '151541594', '171411228', '216655668', '215191950', '125840835', '211702965', '214137192', '128436297', '165793172', '215803026', '214363875', '144328716', '214445562', '215108878', '198838963', '213506088', '213226374', '188408686', '198204343', '165102531', '127669670', '201666211', '216088103', '189384459', '216069553', '124448909', '214443338', '125483006', '156201994', '202471645', '208923473', '216783572', '209286658', '118887749', '216862083', '163907502', '181977491', '205307856', '214822592', '215955456', '193592759', '208293773', '216309089', '172790926', '157024045', '141092339', '210499062', '210321193', '211981716', '203604490', '215200685', '197060986', '172414873', '216601338', '187424168', '194111021', '215845839', '215131401', '124061222', '154198232', '146027224', '214691723', '213253042', '215308646', '122324103', '207306692', '207587343', '213371359', '103654741', '216264695', '168613656', '215505900', '213195096', '199528453', '180801877', '121079123', '215713358', '124554544', '155044107', '211900581', '183820184', '214367685', '141762969', '215359025', '207466530', '164947204', '113297135', '214719751', '216891636', '151219709', '194753069', '214843529', '202944681', '200266125', '203212363', '172030290', '171398376', '129939616', '216824345', '213611984', '130918274', '110231570', '212101174', '212001253', '216321516', '207294835', '141663679', '105731628', '124785795', '216619949', '198664991', '182971300', '154459852', '208379850', '172787400', '180972918', '216854965', '214030757', '216325608', '211154979', '149955027', '199909804', '216206958', '212224664', '155558644', '216341919', '205648131', '202838338', '215855841', '134699753', '216599983', '216971669', '216857578', '169238456', '195949828', '182136611', '168109397', '212715001', '184483862', '176443244', '214527741', '215644160', '216675671', '118244882', '138680723', '195304254', '199990108', '192476192', '214662742', '211684096', '117104919', '178259192', '216971007', '146338069', '214316103', '214776540', '215600792', '209457075', '216907057', '206220784', '125150419', '182797818', '216733793', '207838754', '125261097', '216728973', '216475171', '165779667', '215876587', '202226137', '193487465', '178779668', '173355209', '112050586', '216546931', '206505787', '215984060', '182528722', '180279776', '170114425', '215773537', '157854455', '174440533', '188915299', '206157463', '212327484', '214994384', '172803571', '212436016', '157967285', '214874087', '112357799', '109456606', '214559868', '214981831', '132684416', '111163196', '117417014', '201310297', '216629945', '211211081', '187493124', '216277450', '178174244', '198611407', '111469183', '169439892', '210251962', '195352042', '195949176', '206173504', '131846497', '211584401', '199543945', '210467891', '132423790', '216534502', '192124906', '178358939', '175517710', '200168076', '107260011', '189781425', '216348211', '201366306', '146642641', '216830805', '175152313', '214362545', '215133474', '207737522', '202863942', '171877406', '216146339', '210481815', '213263489', '216363219', '201130707', '207513564', '127963660', '213199418', '198670656', '214609751', '215347817', '216621762', '211340944', '207900744', '210366645', '217014070', '109215216', '208348355', '182723664', '216018030', '213552111', '149618374', '108810477', '163903465', '150712368', '194690749', '216902047', '216902045', '207431672', '216947111', '131131518', '190619360', '216284210', '119508197', '113392970', '193257957', '128617290', '212048293', '210082711', '175893922', '197587682', '199445300', '184079130', '216727612', '121450600', '214199995', '216779533', '190177802', '211216089', '121967671', '187412894', '188947880', '164006521', '209233531', '207962094', '203439387', '215668328', '207741946', '196994147', '156963535', '149091014', '216947260', '153418227', '207229512', '216733933', '204189492', '208912875', '107214879', '209955139', '200046954', '215591796', '215076471', '125588049', '183836187', '192880247', '152757309', '127425958', '208424293', '216835270', '193857735', '165638058', '212847999', '210761440', '108974511', '214806824', '202329018', '212634761', '216536329', '168743380', '113310620', '114178211', '213543658', '216599334', '210863494', '216781240', '118368410', '216963932', '147554579', '193058429', '211420028', '208127799', '176137416', '182118422', '168585620', '199178379', '211131389', '207637295', '215668851', '114898562', '155101336', '216707034', '203396149', '193207288', '197195656', '208392052', '215846569', '106460632', '188440563', '164855177', '109431463', '216608508', '203811044', '212494831', '150672030', '205336988', '214511670', '104587309', '206710259', '210245290', '215646858', '213847601', '202996919', '212432250', '148618769', '216482347', '151812740', '178846990', '216678125', '112870456', '198730427', '216030706', '115979349', '194893100', '209840333', '177890155', '215001692', '207669390', '176975664', '213732796', '216070851', '111531509', '211453964', '210274156', '212141382', '185743652', '169912988', '102335870', '208046442', '216970271', '112933091', '202315828', '216837009', '158356111', '175899328', '204895876', '208435082', '214021038', '198150148', '173195174', '156027890', '127149756', '206142541', '212061554', '216945427', '212707125', '200235783', '215548854', '105985421', '121601528', '207870844', '139930044', '214191996', '213776504', '102970373', '191561430', '202575385', '214590823', '216953167', '132760918', '101752035', '183620791', '152604051', '213890391', '154290066', '194263646', '182544778', '205967929', '204115201', '215893330', '178880958', '212534400', '198453268', '206188989', '193210065', '216477481', '182841653', '196141498', '171191072', '171981278', '193426884', '194101448', '217013540', '193796191', '216677922', '198517343', '212155789', '210037189', '212426242', '214874475', '205160038', '188390942', '216946086', '216946085', '196882163', '151287844', '210769811', '112156610', '101687203', '194780608', '194601299', '106100312', '125830040', '111217138', '216844457', '212812797', '217013400', '217016926', '140829151', '216877969', '216923841', '208324020', '106239920', '216067092', '205185009', '216475091', '212706295', '215534820', '216670053', '216198725', '184784135', '133111484', '216972602', '214003869', '112254474', '187597512', '212274792', '214840673', '216832093', '204251529', '158531754', '209880047', '215984263', '204283257', '207474886', '142744538', '215259761', '208700477', '211959805', '176131159', '206625421', '216600198', '215239259', '181533464', '215255920', '201678691', '213572593', '204835580', '216589423', '135618906', '173218181', '151899830', '189793943', '200258367', '214925246', '201480107', '183039064', '214319780', '130772434', '215642583', '189328962', '209075110', '175963243', '193511799', '179065819', '166048394', '129309186', '205484751', '204098420', '183636393', '202848982', '209945892', '189971644', '216687179', '216633566', '192638963', '203042377', '212219325', '216596797', '214551911', '182062140', '215574272', '214768877', '191108309', '198231687', '113656645', '215756318', '210544790', '213082214', '150741014', '214687307', '186232955', '201363267', '124219098', '215596946', '216272559', '199129724', '130044274', '217004662', '166505161', '132364373', '131184965', '143905246', '210094793', '100050716', '216574131', '187678403', '202500654', '208873085', '118984121', '158110225', '201012391', '206391834', '179703105', '125802704', '168203352', '111681621', '203705424', '214323075', '127363762', '166838764', '197398931', '123906693', '211325019', '215718283', '201449594', '119219199', '205238330', '203320298', '188802672', '215294352', '208462219', '212872572', '201014206', '195359156', '192542160', '216137419', '207318235', '214147658', '199486885', '216609122', '216264672', '104932446', '216275723', '216768274', '147962869', '146699164', '113818575', '202872371', '217006402', '208305100', '124350291', '200059943', '206010434', '213238651', '154338738', '143421278', '120978801', '177645191', '216059424', '195926855', '171548124', '137053989', '128142477', '216069436', '166013153', '135408179', '212237825', '207636441', '213577809', '168952825', '169824620', '205167805', '188548213', '104579719', '104687983', '216689329', '210073145', '211779392', '143419062', '196893824', '201476067', '212611244', '189599743', '216724485', '215426259', '201597374', '199743933', '194906277', '214685746', '214349357', '213337506', '133768636', '215145044', '216657090', '214502209', '216672482', '179405808', '213309386', '121848211', '214421287', '119649059', '214987941', '145183651', '206425116', '215293179', '147740881', '116217887', '216702017', '216693555', '216314353', '215849263', '147107099', '206312945', '121964642', '135526113', '216657893', '211206138', '168588586', '191714795', '208652587', '113497356', '156702363', '215900606', '179443107', '212340982', '214586350', '212043992', '200571484', '213788762', '214307744', '215913135', '214964456', '208775081', '212865694', '112527419', '105935414', '215238282', '214512108', '202999046', '188928710', '213277403', '212895370', '215437017', '208185341', '216915290', '214874710', '102970521', '164574102', '170046081', '209342302', '202930516', '208353997', '112613936', '216553950', '153431248', '135064637', '208720280', '165989840', '188569551', '216642978', '145398157', '203788321', '198203059', '139188682', '216806790', '208297792', '176998871', '197902194', '138808243', '210550270', '216628525', '147525103', '216763956', '216778423', '215239732', '134586268', '199744114', '197285937', '196584427', '145402812', '208004975', '168474774', '215815598', '157326623', '179946495', '145670068', '120717008', '181555602', '181555600', '203178964', '215082029', '206389381', '195842796', '184660995', '200580091', '209112429', '106152753', '213756869', '203227257', '154715567', '151183957', '211634089', '108116910', '120583686', '188933276', '108120935', '171200477', '213899018', '216844841', '169767897', '137031841', '155430324', '187085200', '109293274', '207159426', '212076489', '212753076', '196499024', '196286789', '166591360', '157529048', '202255537', '206794457', '200049454', '162060038', '138626514', '118219325', '205891422', '198609748', '216298533', '157205734', '202284784', '191951864', '165915769', '182024416', '198482913', '154826473', '175295406', '209659944', '216542333', '183846808', '181752680', '195300765', '189462113', '187497502', '216780333', '216780332', '215838327', '216549454', '200148688', '209958688', '217009202', '158291197', '168780833', '213155972', '175200062', '163938525', '202282845', '209608253', '203767204', '216335213', '144809219', '215843184', '185853824', '165633244', '217029588', '204419322', '113550940', '123917074', '214588426', '188707909', '155133321', '188673842', '216904025', '215460699', '138292431', '182783716', '175791834', '202135673', '188682936', '178943374', '212497105', '209610193', '212280059', '122584649', '213877573', '216495685', '210429041', '173318062', '166736963', '166819881', '206997895', '199286339', '180226477', '205774175', '189186756', '215825285', '215076103', '185522444', '206637222', '183328835', '208667172', '207562067', '178803300', '214911710', '195858372', '206912049', '214408461', '199004196', '212910506', '135701402', '212887006', '169086173', '100245868', '210328935', '214497680', '172086694', '156959294', '213223392', '216782483', '180682954', '116662242', '126479369', '215025485', '213292813', '150201082', '109930520', '215720453', '216618557', '191451051', '210550474', '216259953', '212900020', '214308112', '167955444', '197950503', '211299414', '198217428', '211694308', '216794337', '138537804', '113315045', '195862791', '120651635', '200532931', '216793525', '184601087', '202692238', '216636384', '193641749', '216734332', '163243670', '175629664', '216494151', '146803304', '207065097', '204033477', '208972813', '194851686', '208314486', '216813646', '145243492', '187686119', '150452950', '215322816', '173418850', '209177917', '161571542', '189040207', '210178354', '214283890', '209537812', '216027778', '216804950', '212920208', '129791426', '187720068', '158100278', '215481716', '214789951', '198405590', '131960201', '216696196', '130492819', '174160203', '175870706', '201462885', '183724373', '113431806', '215444144', '210585640', '208663966', '197028288', '216848769', '161763672', '201621254', '195502612', '140654426', '201921394', '140111083', '210428633', '197696473', '215992125', '176069114', '155911220', '213253659', '209060708', '148513854', '172997644', '203352498', '194416594', '214582680', '216009474', '208169736', '205141456', '214123469', '216561801', '181799398', '216533523', '214898478', '216896637', '213907077', '164226715', '165800834', '141531665', '200504159', '213049965', '216853725', '214951778', '215323522', '170451264', '215061502', '200336032', '105011977', '131088051', '179298607', '198040758', '212912430', '207447034', '210189270', '205642741', '111190373', '207932266', '110738493', '209480192', '112111704', '150991778', '217033490', '216472189', '132516367', '206071553', '194541691', '128724179', '171405569', '175936097', '169641320', '132924947', '215358783', '134672318', '168332889', '216917999', '205515848', '214164553', '211415406', '215671864', '211590107', '209652761', '182830288', '206727304', '132375766', '139741365', '149298468', '131730874', '214879718', '185152765', '212262398', '216445938', '181728295', '176438268', '213776382', '194707054', '216698109', '169207543', '206008798', '173236853', '216886094', '212967712', '216336986', '214661897', '211944858', '216674065', '135041819', '184675144', '172072467', '216098504', '204139735', '210156563', '157167657', '208989859', '214821707', '210864620', '216473850', '194416040', '205547845', '216595091', '176882754', '215014253', '193816928', '213404712', '214562057', '214741622', '215790385', '216792048', '194536729', '214483727', '135845544', '197957766', '215028306', '118254973', '150870929', '215844091', '111038563', '186433037', '203603783', '178968615', '215891917', '172270403', '215568792', '207126674', '151561983', '212803154', '105778715', '189175576', '214955342', '198776063', '213510969', '214961539', '176716041', '107795125', '216725195', '105091965', '213462383', '151558556', '215364596', '202532120', '116824647', '200126450', '202402915', '156762323', '210931298', '196705804', '205088392', '215311430', '205931308', '200517984', '216726710', '109308611', '214484091', '202237988', '213542664', '207270152', '113781918', '145437544', '181774157', '216716258', '216165951', '198109283', '207026128', '209517654', '214062610', '203945741', '112164986', '200340348', '175152127', '131331883', '208593748', '126036997', '173807979', '194962447', '208932351', '206768484', '182588253', '181176335', '214073801', '190046637', '175315508', '209123430', '189672619', '191215052', '216621267', '171090610', '207176913', '140919182', '214187193', '213128060', '216974832', '190423025', '216377037', '197145582', '210865915', '216854723', '208769308', '212411929', '212850549', '185567192', '163762378', '215785205', '182103365', '125126139', '108418439', '208014608', '206008134', '216695756', '207928569', '209279796', '150601540', '183447590', '216284005', '206600388', '215235576', '156226147', '212434939', '216947898', '117328068', '200993823', '205426957', '196220571', '145884732', '216538189', '173947472', '211695224', '120107561', '195542093', '186380465', '215007306', '206244462', '195173709', '202469723', '208360524', '131105439', '216679150', '204030115', '214933819', '210377280', '207605154', '142226019', '180584121', '212474449', '126692576', '199389191', '209123249', '216951979', '214451935', '109538556', '208054048', '216668131', '214196331', '216947095', '179719486', '216371666', '215305864', '119204019', '212217900', '216946668', '197639772', '210077661', '199808040', '110145606', '209354340', '107632462', '207038255', '188657520', '216972021', '212713867', '199130973', '216131734', '204612912', '205079184', '209513081', '208666075', '216734789', '184766198', '190510915', '214946496', '150058846', '209805050', '188944226', '207949502', '152820253', '128612250', '202250148', '202059762', '163296370', '171267774', '212701823', '216463701', '216695129', '203311088', '180280972', '180768705', '215663283', '107169220', '214094497', '164906512', '110853106', '136521291', '203624032', '199759978', '214434764', '181102053', '110771182', '189317980', '216730587', '212760376', '214446278', '196584398', '209410602', '191561004', '170082509', '128713035', '112776203', '110243958', '197027101', '167737505', '152113727', '150727400', '201841843', '216186303', '198250728', '154754035', '140855283', '211738738', '215191132', '101058733', '201704689', '206240127', '108971671', '200774722', '216723151', '216832379', '211279165', '191246984', '199432858', '206895060', '212722480', '113383132', '183576918', '212748292', '143769319', '194805019', '177009264', '189895061', '187731943', '200671645', '117382543', '216907085', '108439581', '200664553', '213571516', '212426965', '198654031', '199276304', '185874655', '202021605', '216888267', '109858606', '181640012', '111792050', '154440278', '153609780', '206970536', '208098614', '215662082', '214278628', '215121658', '203619414', '204050327', '194695772', '216844868', '213084434', '180680092', '197744480', '163340472', '168357542', '180836205', '210417212', '119926936', '191822124', '215010165', '163379401', '111065517', '211635916', '177463913', '179979932', '198114935', '198411259', '216906760', '196789482', '209780507', '195751815', '206794473', '188921015', '155890415', '187672969', '215556602', '201739546', '140890817', '104197217', '208919109', '214774522', '205939941', '205084584', '143585763', '204752443', '214217327', '215358958', '156804324', '216306766', '167774113', '144132157', '199128284', '172756279', '195543916', '209577368', '199258933', '215644071', '215754876', '213858760', '205513467', '205269232', '166052204', '211792210', '203788702', '210715921', '208209497', '196489391', '206970481', '212937333', '187573727', '216117212', '145549309', '211921159', '139062630', '205448287', '186942740', '163994767', '192380836', '215183338', '136528270', '212788258', '191046519', '212097333', '216547498', '213260796', '179806303', '202929398', '216373057', '216712164', '205705747', '123820563', '208805841', '205630023', '216077044', '132474744', '200950269', '194205742', '199807213', '215089255', '200268714', '173101918', '207217985', '211755009', '184404154', '215680930', '192820714', '208454872', '207298437', '205969693', '212242943', '195089384', '197212941', '166056690', '118159690', '194417722', '216700594', '154322809', '175506563', '207668840', '195423559', '214838305', '213286307', '213885006', '196143862', '216751092', '214108699', '215852497', '187797126', '124900721', '213906509', '106100743', '216378772', '213885009', '205260565', '123483219', '138276233', '216725383', '212477774', '216841096', '216332672', '215918137', '127996242', '214068192', '201050130', '214427129', '216862475', '207372331', '208773391', '208664889', '195021206', '105661523', '205431809', '216775803', '216399839', '199834205', '199076545', '202461099', '197626737', '211539367', '185594108', '202149099', '146513607', '203507410', '216664574', '210471729', '212856787', '216770322', '196621385', '214844203', '215250231', '198905461', '162892446', '216681814', '215014493', '216469487', '178627872', '101055065', '209562054', '216886370', '207059401', '214639035', '176297123', '194103767', '216931256', '209600923', '180970642', '209793982', '216328407', '209272137', '213568571', '212875038', '121326042', '211713866', '105727703', '211746528', '214288346', '211320811', '191683910', '215460883', '139991040', '137657965', '215712583', '194698679', '214784268', '214121859', '193755840', '184522337', '216211597', '165967433', '207205898', '209052193', '210936100', '193572994', '171489882', '114576357', '194457963', '207617564', '209272354', '205697374', '215496935', '214019190', '206530715', '115000678', '152963693', '215237528', '210522678', '216232193', '121106815', '214482654', '181125159', '126394136', '193386761', '196143421', '180756793', '120655048', '114528106', '114689401', '216624439', '216766455', '208416411', '138878267', '135967249', '175133992', '215196961', '195749500', '213770999', '212760837', '131102839', '216612096', '192418850', '213249301', '113386044', '214975146', '168769374', '215226875', '124322021', '209480601', '113254661', '216032636', '119130274', '123752242', '143998192', '196024863', '208047998', '209650524', '100950405', '194577048', '119137868', '215102817', '207462752', '210555010', '203453276', '215152434', '216244970', '213795348', '194160827', '204857670', '119601600', '211447713', '172187960', '216591762', '142756314', '216671942', '195577262', '154242009', '210608582', '213771157', '209314280', '210858157', '213121682', '216789296', '199592348', '204698783', '213302775', '216670544', '166540890', '216670019', '194051195', '215620697', '111621082', '140015466', '214821721', '212558316', '212444362', '194710925', '200369506', '191884911', '203801735', '170113597', '197900892', '213854814', '130240662', '104030233', '216946841', '216644545', '114205498', '145646879', '135512659', '203849505', '177074126', '116854364', '215983006', '211044817', '214936009', '168764328', '195993624', '201670735', '121363813', '216121275', '211486390', '216949211', '171148758', '215535446', '140696797', '215314106', '196703428', '185416835', '216684184', '207372524', '123837595', '213969966', '163498832', '172705412', '194781516', '164824594', '116925966', '148705767', '209799391', '211503888', '115736073', '214478943', '197533713', '208786251', '181971389', '214843102', '200109441', '215471443', '214682110', '177398141', '126652331', '216673893', '123926558', '216973118', '170624091', '201742286', '207604775', '212784932', '210452772', '199670082', '215708411', '216984111', '180421125', '216830672', '206523127', '211582385', '216372597', '216530257', '212358544', '215684262', '216830678', '192234192', '215151640', '158786087', '145311227', '205077345', '205090205', '173011749', '129300847', '148786632', '212249384', '132664539', '207883136', '174021132', '200593312', '197505677', '193150048', '200288576', '180793421', '207049208', '216617361', '111743633', '190671530', '198553944', '188680828', '196789417', '215910482', '165645922', '112964455', '194902158', '201112013', '212589953', '187666085', '129813763', '216436934', '216689725', '206186923', '166965146', '171179577', '205945695', '216847008', '168677146', '215481256', '186930096', '215935925', '215488612', '146152015', '203848759', '212001072', '216498185', '215575398', '109692625', '191564575', '149143127', '208319006', '206288602', '179637400', '191942536', '216431589', '201827828', '208631651', '207805112', '205226505', '188781739', '215639044', '164430411', '132460912', '215360787', '153051129', '212096564', '216689581', '211767568', '216597624', '196570931', '210905730', '131552659', '215132770', '139982991', '125698638', '193585629', '120628694', '204252169', '215594886', '216672862', '172595728', '213716101', '171098184', '201291264', '215866821', '214404338', '216626735', '216253761', '187356659', '131631851', '108939082', '206788275', '175297274', '118781815', '199377475', '166837087', '206874020', '124349316', '215618094', '149259297', '207494683', '181045484', '105403646', '215817782', '214877696', '146000943', '215553569', '215672954', '215891236', '216603958', '211603454', '209065746', '213295582', '200855897', '128056098', '146120075', '186650870', '214514049', '216703761', '132494575', '209405955', '166300042', '216361626', '200119131', '212812985', '169944771', '216393454', '209299010', '187109782', '152173462', '192535961', '110307144', '216753394', '210017637', '205421198', '141116264', '192021744', '192146349', '188171196', '203843909', '172465813', '202861919', '189445521', '102027839', '158364490', '200647984', '216064314', '216308951', '127300781', '177867114', '215657268', '211633799', '107713729', '181764306', '215925738', '212384866', '198208048', '209598662', '212874406', '210381576', '209279847', '180431386', '102965473', '157434328', '196588393', '216942048', '216915128', '200358548', '197074951', '215296965', '216974506', '139369831', '216915123', '134851507', '186677282', '164045055', '215900090', '168774077', '212068779', '216343446', '211480345', '209902795', '202941107', '210751932', '144238857', '188827951', '182631407', '107855810', '215505452', '214909456', '194122162', '148760346', '152357061', '183520035', '183520034', '213832037', '214774443', '188556072', '208644952', '216369369', '156152845', '215167004', '216666040', '195977690', '205468090', '191269483', '195473753', '117520505', '141310143', '215244317', '112596910', '214433172', '216369990', '124116221', '174935345', '214860606', '198841405', '216010566', '128242315', '172592520', '208275570', '199144176', '216536881', '157755342', '173911437', '137055767', '211864215', '163374486', '129291853', '175844129', '217001177', '158973806', '204569382', '202036482', '202233165', '158756614', '174233277', '214385493', '180795233', '212007704', '211601922', '216773422', '215424592', '216621855', '216680781', '176496616', '203704004', '196057337', '196596149', '198732395', '207508993', '209706273', '212311441', '109632777', '174722578', '157534544', '100669789', '216969677', '162204730', '158862863', '216728885', '187913878', '100909042', '179301675', '150474546', '196712716', '213294857', '106230600', '216747252', '183306389', '206160999', '146464549', '212702206', '211825944', '183179294', '214797230', '211982881', '144890275', '163718001', '191250666', '147927803', '215247663', '119151484', '203590045', '123150742', '184482412', '208347308', '174995109', '214837639', '212015468', '216871237', '208018035', '209508247', '198367331', '212587250', '117510714', '216601167', '114883090', '214363192', '192189024', '197097496', '215384656', '208299985', '214262833', '120640826', '208704637', '216692998', '152610796', '216968075', '114244674', '205489118', '157928188', '216324442', '204186281', '212602632', '193408203', '206756480', '169612523', '156393012', '216261043', '136112507', '194803458', '217017805', '214642189', '150664008', '216160407', '180649071', '212850997', '217000408', '210080664', '213024195', '148906484', '188347509', '178824501', '216937998', '210681464', '205502151', '135850379', '216381907', '203595033', '115906281', '216088357', '108453986', '182774752', '165793144', '216975246', '196962654', '209728941', '216697154', '144157590', '175065191', '211810446', '105692718', '216902604', '185614336', '208665513', '216721741', '215458256', '185392139', '145069358', '216703227', '201130324', '131165029', '154262635', '200953210', '207052190', '167473053', '163248533', '195362049', '211534974', '207631083', '115675450', '180712582', '195647065', '103541423', '207189493', '215426194', '209034414', '215237059', '200944135', '175471727', '216369622', '216799530', '161237586', '171546915', '174716678', '201088608', '216646006', '216179614', '189938140', '215505601', '191578752', '201717795', '216608736', '214629935', '100824468', '204176450', '130211161', '216219671', '214876154', '103811377', '214989727', '211313819', '214597241', '141115405', '216927217', '154301313', '205315304', '197020781', '156164477', '124469306', '201217168', '136996331', '103801263', '175397423', '209934310', '136871845', '215233190', '215181206', '216009256', '184488061', '166619209', '183350099', '214077224', '203866590', '185260659', '155251497', '119205156', '216846873', '201668434', '216931909', '139723619', '117098194', '212744464', '212770591', '195440099', '211147440', '212818774', '193896434', '216159053', '213507193', '175583449', '165294585', '185253486', '164609255', '137756325', '216254811', '210493423', '210692731', '216842379', '192915531', '134324144', '114603268', '211509014', '207862964', '207060983', '215592605', '166326420', '173170033', '188064109', '207436007', '206904724', '216364067', '209222081', '198992813', '136827240', '215784432', '151782564', '151441554', '205549122', '185678887', '120444410', '214369453', '156782307', '216320759', '215656455', '215968865', '210526001', '213908924', '215026744', '216040332', '185028857', '206150061', '215430858', '216628856', '210587167', '180706785', '215259297', '172513192', '107632002', '198202351', '196261175', '216045019', '215245475', '216135775', '209294667', '181523895', '207706901', '216782225', '134859869', '217009779', '215826463', '186563025', '121557358', '146390713', '128081378', '211339806', '216385370', '101931782', '134012427', '133527831', '109421311', '208316263', '189976879', '198724870', '211530837', '213080767', '206599374', '210713491', '173905212', '215481525', '129262894', '212178669', '214028086', '166164102', '215277381', '216810542', '119943898', '201167103', '215606601', '199845500', '199206637', '199217168', '210817826', '211799527', '163585296', '204251499', '175198798', '151470341', '212399728', '197097553', '134422076', '101894494', '202234826', '171346698', '194165613', '203227085', '126981608', '188427972', '100186518', '124940609', '213969055', '193300560', '196063035', '179735593', '175807677', '210865537', '172832520', '210987253', '215449383', '205700704', '213340978', '215076086', '215648722', '175705449', '148102238', '144826067', '191998292', '147682745', '212699475', '166564046', '193581024', '216129124', '215187174', '163214052', '215616786', '216778522', '183686836', '215556417', '216335375', '192510644', '187408408', '214305645', '211891347', '173453140', '214961576', '180263406', '151771877', '196803083', '204814578', '202583239', '215797521', '208773219', '214982394', '210151890', '130919766', '205974732', '162839618', '192097556', '215197125', '215365138', '209652126', '163534305', '215533236', '203420997', '203441807', '120723067', '165125598', '216947506', '215717655', '206515025', '196696287', '216417485', '215852952', '207093705', '197360820', '212057564', '200693898', '121593611', '216941766', '152358104', '200620650', '140153862', '195779528', '121270655', '112831170', '174148473', '191273094', '212434593', '111581944', '120877043', '216720419', '213960059', '191487522', '206502510', '172851531', '186530585', '198256132', '113405001', '191204373', '215481581', '215400756', '214713832', '207437634', '173288986', '166291864', '105854283', '187777525', '176841985', '214043869', '210813234', '216672879', '205888718', '213539630', '216969588', '114498036', '198067737', '190989999', '216282142', '212875772', '216643989', '146041048', '183125189', '195317952', '216847847', '114712512', '198808167', '213341229', '216913430', '162952072', '214920687', '216776658', '216265566', '212509322', '197181192', '164812124', '125535571', '210069586', '215738019', '132194763', '139557070', '203435882', '215306928', '208709698', '216031886', '171052171', '216863575', '203638021', '179352034', '208270304', '191383943', '213507505', '192543456', '208063278', '216898379', '213475091', '216990824', '216683046', '212185136', '114768243', '190214671', '134986094', '102032735', '212628066', '118881121', '211700245', '216545622', '216168119', '194155580', '107668434', '211450731', '155844150', '210254028', '113251375', '197361642', '199914086', '212307894', '216950354', '194786510', '158425067', '215976768', '198280174', '105908716', '185549932', '175707441', '201472834', '199901557', '155890029', '216376867', '208345665', '208457077', '216781487', '170396630', '175628383', '111942982', '194201620', '117246315', '202674559', '213482382', '213993513', '214336910', '215305443', '216657789', '215133292', '215604021', '215154417', '152058831', '216858661', '210961567', '174219723', '213620777', '189287626', '194416349', '201885432', '170627791', '211171891', '183413129', '207428917', '120820239', '210522551', '215919965', '163927193', '195745764', '216534588', '204585436', '122538749', '181092405', '216440284', '214663469', '217013269', '212158880', '212861023', '164106880', '216032788', '214932031', '216953719', '216481220', '182034865', '191983124', '204840775', '211268182', '146339228', '211486050', '150215427', '216550750', '216201280', '214291558', '216746518', '207650278', '198758998', '193569448', '199995069', '209595315', '183044568', '178012039', '214543171', '158019141', '177447785', '205207438', '155118014', '206906867', '194689826', '203098063', '216347895', '205923435', '216243439', '214778383', '171868856', '139751212', '215296328', '164692496', '108081525', '156435268', '143375299', '137005842', '182141128', '211111829', '205061070', '202939249', '212389794', '216680810', '211564170', '214716216', '187727378', '203942845', '211781056', '214955755', '195020040', '152547091', '115515833', '147663213', '211838880', '215902689', '183207992', '214001217', '176878379', '210068068', '178778730', '213025228', '105270540', '113537721', '144485359', '212003605', '215018210', '147763469', '215990471', '214893221', '215597718', '188425705', '216418092', '213125467', '195346028', '215680979', '194715487', '174836316', '214101493', '111444236', '215661922', '214490568', '170161333', '203399459', '155657540', '199126999', '211021737', '216118548', '118876651', '215261786', '199429859', '130097033', '171189753', '148549453', '216009257', '195723617', '169514514', '169420368', '112593616', '204515361', '209631371', '185622284', '216685944', '197170719', '172906373', '215283982', '114429620', '211417363', '200559288', '203253793', '216778334', '211265412', '191902308', '142920410', '199088605', '116372133', '216734470', '214381482', '198443571', '215073831', '205735846', '200422647', '183115904', '148140830', '216804005', '208098217', '176646300', '169968307', '202996411', '213950066', '163150338', '108373549', '189381382', '202015776', '117985080', '111064652', '216930293', '206506669', '216734354', '179563847', '214552660', '214304989', '207493019', '178786132', '168898746', '214944936', '216207883', '133070674', '211351931', '201877442', '153178061', '216902623', '182291976', '157643693', '190917647', '215235259', '180998309', '114316633', '173242985', '216707254', '176153923', '216751855', '107313598', '213631952', '214418916', '195764404', '142022479', '136543194', '143850963', '173120195', '154945475', '174053567', '205486114', '115822955', '216862566', '189817221', '206922074', '215048988', '217003282', '129669079', '213853003', '210431962', '169685114', '216253355', '216780517', '214414022', '178848256', '216612850', '175011680', '108958022', '206970293', '200267739', '168993615', '205521262', '217014554', '195034976', '129795952', '195519801', '208649650', '144108791', '194591807', '188926742', '216187757', '215437409', '196652007', '158366779', '175549477', '179293852', '152130081', '156910488', '200986645', '201001814', '212339358', '155819141', '214194181', '186556653', '185158309', '165879176', '199821559', '203955931', '122238495', '199825072', '158902722', '214181341', '127237993', '154415686', '215202296', '213920107', '201596873', '212504695', '214174838', '209127255', '200633853', '216783154', '205629787', '210303393', '210904103', '216783153', '179208445', '216695486', '205927977', '120122680', '212282058', '142242920', '216450489', '191158410', '216946003', '216946001', '153574449', '110329657', '190407178', '216662634', '198808622', '209285401', '216493757', '121883700', '213129099', '215929389', '187583597', '201367245', '215336360', '216756057', '216879394', '213826234', '153353591', '164214942', '201776971', '106934211', '204379962', '216692102', '203662461', '216969863', '213193195', '212776176', '186855894', '174068577', '216073558', '193401798', '148803772', '138679009', '165654562', '216133669', '120250266', '182490248', '216273684', '195319394', '115821369', '216012263', '194944379', '172067662', '216908025', '120801741', '205649948', '200466154', '201108210', '205475880', '158254427', '215515618', '214028246', '112543923', '193290825', '121842294', '113937512', '192411594', '191559056', '211482035', '119486725', '216007760', '196572577', '126653273', '209707037', '115908188', '155699051', '203090502', '184307148', '181675449', '214076158', '216386913', '206988400', '211971171', '161405783', '197519696', '192768294', '205243321', '215244858', '191477140', '215480127', '178990190', '180854144', '197571396', '206082710', '215217082', '212682022', '216071722', '141170139', '171472308', '216329782', '105471890', '208353140', '208243066', '215481442', '211140071', '209511350', '203850953', '216948128', '141043474', '194510506', '215780719', '124106188', '209775432', '211021394', '214008924', '187491498', '116615113', '173164510', '201082884', '216732920', '216635840', '188132321', '215702757', '185622871', '198748096', '205776824', '216604412', '216604146', '216472037', '210199990', '213058297', '208243283', '135259716', '141422110', '208244173', '207533345', '204627282', '121102913', '123580357', '215326840', '216457389', '204608653', '216179665', '212248226', '119349744', '187032521', '206054645', '152106431', '216610369', '208060029', '206636382', '212540619', '205857004', '211574778', '216831093', '116651562', '108926692', '216024275', '212896980', '207552622', '214444323', '205871144', '216948434', '200599762', '211898345', '183795449', '213451661', '182893236', '135574326', '216865819', '190696228', '212291643', '153400104', '214805950', '197173413', '211478511', '216785265', '108957718', '189390430', '191076067', '213519622', '216836036', '208453218', '204123364', '203258202', '210880500', '175879460', '215288883', '173188313', '204754140', '188563094', '194627086', '166096311', '206647423', '213092219', '188950893', '215293032', '128146791', '204924153', '208477596', '188180228', '216687210', '207267278', '171513411', '155614552', '216317485', '203049048', '202661891', '156311865', '109604378', '157011276', '142098491', '211815111', '200671556', '212346661', '210409851', '216536441', '192116390', '123372556', '200651656', '113418550', '216607944', '216607946', '215918692', '200666077', '216720250', '214828138', '208778557', '196268277', '199430105', '176529269', '190775421', '185229549', '125760032', '195045979', '169267008', '216828150', '156297732', '216537839', '216965426', '109925055', '216122146', '190687130', '216204869', '208399619', '118911307', '182750333', '164822902', '151572722', '190687132', '138502499', '214434916', '216646906', '208311954', '216461083', '111889336', '215223740', '157458702', '191188643', '164441992', '196617489', '195320510', '215480162', '142793118', '179889431', '216260388', '130853092', '201184227', '208551998', '183289404', '197564477', '194252145', '198542123', '209410655', '113495377', '205936897', '204770578', '116619555', '210604618', '179997937', '166377448', '210754783', '215303004', '200040495', '202514878', '189696088', '206343852', '175168659', '215085293', '204117098', '189030918', '212247152', '216627338', '133066406', '180430383', '198446240', '151898349', '208386016', '203665512', '131736089', '123650732', '207268922', '189594946', '200544910', '163480158', '216358318', '134590005', '201306624', '213829233', '216094650', '198392150', '129178784', '213975680', '211083432', '152918179', '215934788', '214567619', '212177194', '216733941', '167894800', '216138441', '193328946', '193211187', '202059703', '194711971', '142602404', '201610100', '194231531', '206178393', '154791757', '213000937', '126816467', '216861937', '139282978', '213654829', '181730097', '197956423', '212393683', '175332106', '216027368', '210633315', '112538289', '194418036', '214659136', '188481044', '165620003', '215518225', '190062743', '216693789', '212654635', '118076213', '195041348', '144792160', '199078609', '208978009', '214981093', '212042046', '157443130', '212477249', '174394556', '176119181', '171401612', '215896009', '209545545', '198501817', '206216479', '215799917', '213970479', '213177099', '215606858', '216779206', '212903005', '176094040', '215358535', '216854932', '216370106', '216946272', '216946274', '167760904', '203943085', '197174495', '109723783', '123646614', '107513524', '182150594', '199033793', '215843105', '174286211', '211811966', '205183676', '215498892', '208574032', '172820930', '188846651', '216856795', '214569690', '156717875', '198446813', '213188929', '172921723', '214775755', '216129623', '215391149', '136098106', '196011296', '171984581', '172664657', '195850699', '146475803', '216786580', '109174431', '129211490', '138053439', '201862950', '216551868', '207439281', '216062936', '198208412', '207621641', '216136954', '216947497', '193758130', '109497155', '152842649', '214471937', '190929615', '178058446', '215202874', '215076664', '215663852', '138362418', '211503668', '107503273', '111075536', '104070198', '214125044', '182244834', '212450687', '216436077', '214796655', '214796878', '213176856', '117257084', '196220907', '216498577', '206190793', '153957958', '201847755', '215468310', '194499566', '198612570', '215548177', '197102336', '205484997', '212227135', '198578999', '208687165', '215560094', '194095399', '207502835', '216074317', '216885727', '100534615', '173565929', '211651649', '214543286', '213396655', '201829623', '216209100', '101781258', '209178319', '205917232', '214384417', '216840619', '213023453', '210310114', '166946287', '178804550', '216886390', '216886391', '190885367', '197683758', '121822652', '216377133', '194618888', '209497457', '133764374', '157409609', '176185513', '171046823', '212376869', '215541836', '207234576', '112333253', '200714452', '172296576', '214328958', '216679894', '201152183', '149103101', '184506246', '167993698', '173776595', '209288850', '179366822', '210492307', '216588540', '207202114', '180755714', '150223442', '194028479', '194649719', '197335536', '207766193', '196529604', '216911329', '206287788', '139439214', '188550060', '213853796', '210067686', '201119836', '153553148', '205255654', '212047274', '203039436', '118273360', '208631770', '204760336', '100191721', '215613522', '170484562', '208424493', '211735341', '215649331', '200589304', '146854913', '170071752', '189577324', '216493926', '139952453', '216670167', '211779275', '106428193', '216359033', '197944047', '177480872', '196874695', '214171573', '111585287', '144592724', '216619822', '209339875', '215318640', '194801396', '215573606', '214218897', '187405696', '213071847', '168463905', '214953341', '129258161', '216305373', '215038372', '215451825', '215693517', '179192157', '142082269', '216849544', '216141936', '213225319', '195662377', '203017201', '188963718', '216447603', '164001260', '173534594', '211326100', '214806917', '158777802', '215979655', '212313326', '216634543', '192463070', '215243361', '102103873', '188937453', '149241022', '133224833', '216181305', '210094889', '187337364', '141430368', '215080621', '210335462', '212336233', '200292241', '128542978', '214074680', '206880162', '214604426', '169298014', '202250645', '215425311', '212202858', '187859877', '215661541', '200262099', '200806345', '213600778', '213132033', '200296900', '142817237', '215550373', '128869345', '200268019', '204264879', '216616686', '216308555', '199749768', '193433725', '114342826', '214492479', '205663407', '180578214', '213908966', '215531080', '148165544', '196050949', '150697545', '207361323', '110310853', '199064314', '193035280', '214879535', '148083753', '172889351', '125285727', '216952105', '215703093', '144810176', '215606463', '159305903', '215606460', '177012493', '152137068', '102090426', '200995154', '147515342', '212997204', '213146587', '168541293', '216890961', '174303088', '210908128', '106256674', '216129008', '100705014', '200635248', '200088657', '209122680', '121770447', '196867180', '216620841', '213016084', '148472790', '213802452', '105865939', '216628206', '216624580', '213153973', '194187694', '216880133', '175253703', '199287527', '216972774', '216363883', '193742818', '190202326', '202945874', '212300742', '175774131', '216685856', '105786968', '144942984', '181871872', '215702778', '116097923', '139691728', '198194788', '158752453', '214913306', '176408739', '203348638', '215256865', '144278034', '112214017', '127742702', '207196448', '136107640', '130169389', '195280663', '183844436', '210544594', '191725521', '206712460', '216977698', '186994821', '216778565', '214662894', '210432216', '177200658', '202608315', '148730879', '214234876', '216959023', '216121960', '139794688', '216060717', '212614227', '116366202', '134547299', '204921988', '154954727', '194797185', '145925522', '176692932', '122790372', '215899935', '182730654', '157801793', '215091688', '204665878', '188486041', '200971907', '181591977', '198207369', '185882290', '197547538', '209646644', '170148163', '119336445', '152852895', '205974777', '215489183', '208888958', '128981320', '209742192', '212385060', '208053721', '177212025', '216071941', '156179764', '113912615', '212838172', '211881028', '179068696', '182857721', '206597484', '208510590', '213148891', '212278843', '216783300', '139686711', '175367206', '216646858', '195815557', '131229405', '215591340', '156237325', '205029483', '208040801', '215094305', '216698213', '216970551', '155086808', '202382024', '206497392', '205350741', '121329235', '155887283', '213451655', '215728352', '180351769', '141359853', '216212189', '216069539', '119064232', '213505490', '213798026', '156657235', '216599072', '205966638', '212647749', '213948754', '133465899', '213451847', '141417607', '175319498', '175867280', '172167835', '213967097', '216633638', '210869080', '179887937', '216835425', '216616303', '186974572', '195358709', '120716828', '209524354', '203761731', '211136601', '215422132', '193191028', '207552200', '188189696', '214673637', '169261774', '209090433', '144752711', '177971016', '111497727', '156023475', '216485235', '209162884', '211895423', '215837341', '216955613', '106144669', '203679853', '192022352', '205938121', '153586677', '114808211', '215499933', '114990098', '117127659', '216947108', '193433005', '116378532', '146567482', '142430618', '210178238', '175248892', '127746363', '190186887', '193653736', '208325808', '199851716', '216207571', '207460039', '207512420', '211639190', '193947662', '216959947', '115274512', '117160988', '207024458', '198630085', '210537810', '211436410', '212433514', '208751616', '113362123', '214532827', '203834249', '181223242', '157856685', '215482786', '164807766', '208399098', '207483333', '118459622', '214823195', '216778576', '172958468', '216494267', '212748214', '145273620', '215729223', '196913108', '155891250', '216452436', '197995643', '192680579', '187431318', '199508548', '162398861', '195970019', '214989377', '209764379', '141225514', '203810455', '201221441', '215353899', '203268389', '213161965', '216446649', '206237480', '209775324', '214576789', '216603512', '216421489', '216220262', '200891069', '214879490', '113995270', '124442694', '208151968', '194484651', '205731222', '216060624', '214879441', '213140452', '201673564', '214360912', '109752933', '216039610', '216953759', '177896516', '147720861', '199104057', '173791142', '207508599', '114986752', '216946471', '214341518', '209918306', '117255977', '198736906', '194731357', '215419565', '215207789', '132954849', '208309454', '132290951', '180599878', '187393430', '144061815', '214353884', '187122699', '214879672', '181645918', '210306335', '164952858', '165589237', '206128094', '205497040', '214032932', '101473375', '216202919', '215799970', '144268766', '131160700', '216256917', '215500452', '188381168', '142064207', '215148507', '178716849', '192843915', '203946584', '148706068', '166183013', '211083906', '215163189', '198483229', '201235192', '215349367', '117102832', '216694675', '129908763', '216832193', '212983401', '112415035', '192087509', '205390977', '181985100', '135769599', '216895952', '208820296', '216254043', '110798282', '202916526', '183470552', '207039244', '144443744', '207526898', '211482460', '216800699', '216604018', '182061335', '203218941', '135710097', '215589937', '216480882', '167854922', '118276915', '170780353', '187107697', '128769927', '141465840', '216667880', '167888368', '217019343', '215656668', '209272732', '166203954', '207494270', '212593600', '114568697', '215431754', '209609762', '200348230', '209379445', '208706164', '214737858', '210468670', '216795488', '200250440', '216814415', '192646688', '209204359', '212097475', '208437213', '215615711', '200222593', '171513395', '209437861', '180072621', '122656254', '207223787', '209477757', '178465587', '215006345', '188176107', '216667089', '175258611', '155231056', '195320748', '209504008', '158495691', '180283457', '216781282', '195313559', '108711986', '193383529', '194726911', '156326864', '216697209', '216845048', '116830072', '128480457', '214752646', '199093602', '175528916', '198075526', '173470081', '106274895', '216460384', '186317120', '101557560', '102949794', '194576633', '135705542', '200673366', '216099333', '214247102', '206209793', '119028729', '209900950', '205011769', '212403143', '214944206', '212709715', '104788974', '198674410', '216780881', '216678215', '208751862', '207743701', '212381370', '209157439', '167674491', '178155703', '208366867', '216641076', '173670639', '121238471', '216313008', '209168102', '209076909', '216185921', '204612290', '177888763', '206972785', '202797951', '206152984', '115917892', '195977457', '214834034', '184291853', '178674715', '211632500', '202575743', '215255091', '106919531', '201663126', '207301306', '216862529', '209476392', '140390817', '198899113', '118243407', '114944399', '135933754', '216033701', '141472250', '182932214', '200055862', '211301964', '194687575', '119240257', '214844072', '135535239', '203795896', '195020992', '131207070', '214665787', '211538096', '117494988', '110420732', '207885005', '215612158', '216724212', '209858163', '183782700', '130283203', '209557371', '128928407', '101347010', '208045515', '204338045', '182285622', '216960593', '214953322', '214569382', '175950376', '216376604', '200405730', '216979262', '188260035', '208327675', '128276911', '206430270', '214377233', '216560316', '174417848', '174554269', '171904688', '197837086', '210662741', '207531145', '211708462', '172583387', '134003622', '186773947', '216619701', '119045508', '194430683', '216946049', '215006044', '205482215', '115383798', '155658919', '200371636', '214867060', '172004336', '216971455', '174570475', '213827762', '213821328', '197775282', '188789219', '176797841', '135798163', '140411520', '105547670', '216187711', '155286874', '188315785', '216047258', '216481679', '197617439', '209648980', '206222264', '215733143', '194420137', '214827229', '201175316', '216782035', '204096948', '216019648', '199138879', '195963724', '152965540', '214816475', '216603180', '216196888', '198543642', '199019961', '208297855', '194431080', '175213960', '154026449', '211269400', '205966052', '216886183', '204180096', '184429221', '216718940', '174298031', '215952320', '207607918', '170703623', '216783148', '216953562', '205860297', '216441059', '192964149', '214508428', '194731013', '210707454', '194420707', '214196420', '186492083', '216599545', '119550897', '207563216', '209629386', '213837769', '214763444', '216009942', '214302450', '216981047', '192968536', '202239088', '202721077', '203921695', '212711680', '215112329', '200671126', '199616543', '151270728', '209254848', '216856146', '140272112', '215555282', '214901424', '101429446', '215211656', '115844028', '216674334', '214329582', '216094636', '212683330', '204907456', '189374982', '214320341', '143624391', '165546591', '118786521', '211906196', '146918878', '201724657', '214285565', '216753063', '205642816', '143685143', '213128551', '112505148', '106338319', '204623786', '204585620', '120792076', '215085314', '216107712', '214507995', '120658020', '212309620', '180061156', '204849137', '212483955', '127405583', '203518516', '164161861', '209592998', '143433435', '198363393', '215923404', '213514536', '208471964', '122596792', '216896176', '208578128', '204427485', '118070808', '214769121', '200347008', '216491417', '109325471', '123654917', '176707180', '112349080', '170543053', '144690994', '206598441', '170810511', '201668051', '137422326', '201557937', '209508182', '208917452', '215491454', '210200077', '189583495', '199151659', '107523429', '100079699', '166926109', '115107675', '198522099', '216889473', '203120908', '177458529', '199711458', '150053875', '158059272', '208455916', '194633424', '149655620', '216748456', '180607115', '208307716', '190147992', '108710403', '185481849', '214194936', '193213668', '215716949', '213824065', '209955562', '208600282', '204551388', '201300039', '213541003', '203922822', '117912375', '142136711', '189836394', '165815982', '104220125', '216326158', '210742902', '125460827', '216621425', '214362891', '158395131', '215292617', '134606635', '189633070', '216901633', '188645376', '206147397', '135452116', '214545753', '216705955', '194803359', '213498898', '200910306', '213821004', '198936669', '198240771', '211684571', '215881289', '202617834', '216025547', '215916836', '216023918', '200641419', '194807111', '216755528', '117028502', '207295980', '156217117', '177106361', '213352506', '216835448', '209985661', '195312250', '107668990', '143792793', '188932932', '105938897', '132900157', '215646934', '216211619', '112835709', '213074136', '171069982', '120712627', '157588419', '209752357', '205931760', '133162703', '214256933', '190814340', '155618244', '197581846', '190666806', '211779718', '170358389', '112679155', '215488707', '120553339', '175164929', '205632702', '177502475', '206150631', '205237233', '186580365', '200386764', '214486781', '191901284', '211332966', '216447450', '207513401', '216846156', '181288661', '214704730', '190067162', '208751635', '216848643', '216008375', '199902881', '208576202', '216987199', '145138478', '207434745', '184907475', '154097633', '157196448', '206299429', '182360432', '140832626', '206872945', '200426915', '156523146', '204290397', '156813211', '216009021', '216834710', '194530742', '212748233', '208066038', '216693154', '213503132', '216437457', '171362314', '140632470', '212748722', '112102941', '200404741', '210918220', '188627486', '149394243', '118940247', '165500940', '172324079', '177418265', '186434745', '214293265', '188588831', '214274988', '144251563', '140630904', '215503194', '135145919', '206691024', '214650839', '171483707', '116988585', '197423181', '195927237', '216904421', '187560846', '212708565', '216957090', '127746929', '145568971', '211739155', '198018165', '166093595', '191679527', '204604200', '214239422', '215194716', '196134520', '216813922', '214735717', '121548529', '182429794', '213025635', '196455515', '118906085', '216679534', '188943313', '204338982', '216943973', '216946455', '189147328', '206390298', '133473247', '131359112', '174044238', '215601316', '194354473', '216244859', '203428719', '201568370', '188919323', '212931531', '216988310', '194492046', '215262893', '209184153', '106404230', '214556482', '216805896', '169229197', '121980515', '195378002', '158214130', '152730946', '214185946', '215094973', '140620997', '199507879', '201201983', '195830123', '206417530', '211086649', '213296851', '197382447', '123293385', '164138824', '183300970', '207613900', '123413805', '207739367', '214579340', '126081985', '159159803', '135583390', '215362645', '141904738', '213297101', '190127522', '197487335', '171270255', '206667381', '167685915', '210422752', '190402777', '114324935', '209708783', '216331568', '110309075', '141367321', '209900710', '198467608', '184773061', '128344469', '211705466', '209297360', '213616747', '153267385', '215967606', '194406014', '164425892', '211822938', '203788234', '205433462', '213510364', '209048243', '162368029', '216706494', '209632696', '186510801', '154335938', '216600216', '205231911', '195048653', '165360259', '182387207', '109584439', '215745337', '205782890', '187216487', '201767691', '216064205', '176920547', '211813879', '188349434', '204884692', '211898154', '176277983', '216786726', '212746648', '177337462', '171075476', '215546197', '216680701', '215347566', '182887401', '212661545', '118498301', '152833459', '161759842', '201941483', '215951789', '194163208', '210312847', '188304905', '152002870', '136968349', '213956927', '212508633', '207460563', '216702275', '196312082', '210361856', '190821174', '187091170', '215174481', '114045676', '215182888', '207857942', '215709171', '183980304', '194696369', '216764655', '200565194', '174465698', '126480114', '110708319', '214121413', '190661912', '210898129', '183779261', '196096796', '200193283', '151557324', '180640100', '214852313', '204242885', '119786559', '204039377', '173147102', '113411201', '211292169', '144175686', '153161467', '132836158', '196341564', '181452762', '216190920', '115302182', '191810031', '189407811', '212214592', '214546283', '212686880', '214774944', '214834011', '216432248', '216947464', '112326045', '168998949', '203200010', '216721606', '214769246', '215243255', '212733674', '211307958', '207301323', '207448152', '201954064', '184522394', '181659311', '213565390', '216900681', '213231922', '215934118', '212095395', '116936632', '175756012', '207605521', '172005441', '215058460', '109857769', '207605298', '207057099', '216713410', '159230551', '138995456', '188776525', '187666510', '215181539', '154804327', '199779320', '216853841', '215846022', '212356196', '213223607', '215870930', '216787432', '188066456', '208510387', '215366394', '177086782', '213395916', '132156661', '212280321', '206090246', '173043603', '202307392', '188937949', '216987037', '162979145', '163013001', '211872647', '204858961', '216876284', '186734640', '216376667', '209546423', '109341840', '213219054', '200807564', '126202082', '137731776', '205546895', '181876544', '216862503', '106088185', '197769825', '144803207', '124635284', '214979296', '153885041', '164509404', '213970887', '198899346', '208367555', '126011179', '208296694', '210148681', '181170286', '132571517', '212762720', '146755710', '158272069', '117149332', '216822784', '214662625', '138829838', '127876042', '211526863', '216064590', '216618462', '196381153', '214035295', '152579576', '188665562', '211275048', '216602301', '213239330', '117421777', '213097813', '208917612', '178855622', '212602822', '194506363', '122130307', '216699096', '216778927', '183014617', '207362942', '145513385', '211483276', '212482973', '207480535', '162445054', '105918196', '211339329', '213897592', '204013222', '216116597', '216718299', '214954895', '211743779', '210379767', '210856081', '213128186', '129816294', '179736869', '215773295', '149227362', '215773298', '173427797', '215863693', '192933148', '111216932', '215486902', '216883322', '205971499', '212747992', '108276755', '207436089', '191645210', '214564193', '204240882', '153220861', '161152297', '216258083', '104624379', '216957938', '214399067', '117258575', '205603326', '152090920', '197572879', '110689846', '138515441', '216957936', '207395450', '179554191', '110506668', '210786710', '101561266', '212687720', '125059488', '216383410', '216727770', '176057726', '196586593', '211660583', '194324742', '154872071', '212489639', '148378059', '133883957', '173920897', '197888798', '210163073', '177369548', '207555558', '111128622', '216785716', '216866433', '184050392', '212116736', '200796406', '166577457', '188639793', '216889278', '201742486', '216117318', '214009584', '215008617', '191275566', '187238247', '214193914', '172909547', '215143896', '215231642', '206499023', '213029213', '216868779', '214337818', '207155264', '216629441', '208306815', '187726875', '214545469', '124966166', '174894703', '216677566', '129518267', '216779033', '208053278', '200206859', '213396779', '125800060', '216342210', '205408331', '216473653', '128022301', '211208569', '138944226', '203516796', '216689611', '106526856', '215900266', '216199184', '215358617', '215129779', '212015728', '203428199', '215591658', '216614024', '215129770', '197719197', '194417195', '216961343', '189788649', '183819542', '188439096', '216739867', '214364573', '142044010', '209625506', '183835530', '209578286', '178540203', '206180631', '206964477', '175434513', '178081518', '175250386', '182362504', '165319585', '216021446', '216021445', '121437833', '208676699', '216841194', '100946606', '216061007', '169550182', '167877441', '207688315', '190610828', '214847198', '215815858', '184564247', '216596081', '204532624', '207449051', '207194063', '214866495', '186875557', '202495534', '214591135', '215456487', '212904608', '215618037', '211546604', '206361107', '208470556', '206867798', '215960873', '156099264', '207694155', '140937497', '210172251', '215833068', '176623437', '146288033', '193667121', '214638310', '211145489', '211911509', '171622311', '207604357', '212597084', '188131862', '207548753', '189605174', '136364632', '200380741', '216720493', '166390435', '183977995', '140149177', '165492191', '203133205', '209931240', '204690989', '113228254', '195070979', '210706200', '216926803', '210252337', '216760120', '208279677', '180020079', '150060917', '190299080', '214433917', '215294772', '181749369', '215454642', '215359354', '203610085', '194698209', '206505908', '142308533', '199609480', '209674111', '187214265', '165138449', '210409798', '216970600', '214832156', '165559275', '163525536', '169992374', '216675692', '216537855', '110506377', '205398491', '141730373', '216599947', '176292212', '168413200', '195557750', '205613937', '167907443', '214482043', '173194168', '174722219', '214183026', '176905076', '170496234', '206697445', '214479500', '212540924', '145507004', '108587430', '208549473', '156747780', '201275573', '126087367', '216724643', '210635666', '207314798', '143760327', '217012542', '169197014', '196516080', '196816215', '216357801', '214478450', '190335784', '153210929', '216119258', '188283574', '149848683', '174529215', '148283704', '196112310', '200417063', '215250159', '216112200', '216269369', '216665160', '176134686', '216321663', '216689856', '180695924', '204051429', '216256483', '153000507', '216675032', '195978114', '215044652', '210912474', '112045068', '209714904', '217012093', '217012092', '183889997', '216946437', '123031920', '176329668', '216644632', '211973742', '199843899', '215081918', '194943469', '191255383', '118210570', '216809921', '168239796', '203458590', '216535909', '204246156', '204000286', '213522675', '207004470', '143493337', '216831979', '154372161', '141030673', '195096455', '212089052', '215920808', '151299726', '215534942', '120301208', '214321739', '206285441', '213525083', '214337314', '215194183', '214871098', '173270888', '190216983', '179042912', '215809702', '195678737', '137415268', '186486675', '216418779', '186583394', '206367220', '190087522', '210115440', '198847002', '216010338', '195050291', '192540520', '214266395', '216216860', '128094849', '203920422', '187143772', '198400537', '192194138', '216877968', '211951116', '102516908', '170147035', '214867517', '201820937', '106647551', '215773607', '199255054', '215105558', '110407334', '212329367', '198151494', '216608196', '197326699', '205059296', '203672128', '124665605', '214094318', '216711996', '212802549', '185355130', '215343384', '213096699', '216832770', '157019880', '111933242', '146888914', '163599257', '195785227', '208422847', '213148034', '209709100', '216827235', '136899823', '208452356', '215967127', '205247667', '206621139', '214596822', '140679690', '198796267', '120269809', '194770716', '213594954', '204985346', '205775177', '208730894', '136176716', '214154028', '166262413', '215343030', '214981721', '200206028', '176875259', '199353550', '116064847', '208138409', '216850194', '213605446', '217014124', '213719843', '176792135', '180499783', '203521795', '142148700', '193866722', '207657445', '203923817', '214268139', '202435815', '214822381', '215906384', '213049008', '116485480', '190386876', '199325546', '216928692', '115786770', '195142772', '134638962', '205861327', '156168053', '206236814', '212527789', '199902473', '201088120', '207840869', '214834788', '143179968', '179549303', '206151363', '194073646', '216893644', '209609010', '201497314', '203347515', '208340688', '124442497', '216721375', '212113186', '217013963', '114358895', '111118010', '196979415', '213338191', '216720537', '216720531', '215955485', '114738124', '214490799', '201117879', '210591329', '203594987', '213461061', '154048743', '128563794', '197639177', '216150277', '216950435', '216673570', '216209314', '195746185', '209969397', '179178337', '216606790', '212705321', '203107406', '102246367', '199740317', '210263068', '214047307', '181028698', '202005525', '212005367', '201304924', '215013835', '214621626', '130985473', '171799503', '139698894', '205143461', '188371342', '135242694', '136969546', '158931502', '210379838', '216978396', '196455642', '130669383', '208041248', '142670797', '193057158', '213850759', '176246737', '216847900', '176010298', '172010028', '203618558', '188189244', '122770236', '206211007', '213146555', '107831835', '194943456', '201273218', '188760895', '216633000', '193801534', '213131541', '215260491', '176145776', '208162981', '216602542', '210174396', '137512625', '212677930', '207244302', '132268339', '212246517', '184413432', '211692849', '147977382', '213898865', '203675153', '217005496', '181142603', '213245220', '204412076', '212777226', '216952306', '148316567', '199535357', '202287636', '199079415', '216042024', '213486217', '209538770', '190518034', '119429961', '212699039', '215522941', '216728059', '216905987', '142913478', '195968534', '175964897', '177446841', '211309358', '142178010', '131616114', '202853630', '216693589', '192294162', '181348942', '210432589', '207463779', '117842421', '210991525', '212260033', '163604721', '214197810', '216883312', '214664697', '207740848', '214314759', '187030988', '163676726', '181259739', '158429166', '157002640', '214136673', '175905331', '170748809', '126223568', '216648601', '198323629', '209972967', '184279871', '216836642', '128145569', '216762926', '214137093', '189910345', '216252775', '208323202', '216823506', '214950187', '195099935', '130225819', '157826131', '208403132', '196576355', '163562739', '211777369', '163419271', '206282709', '216671457', '156230337', '215426530', '105965063', '135053591', '188191092', '202668630', '211934588', '110053512', '201091097', '213791668', '206299344', '211997972', '193115083', '216255097', '205813024', '216263140', '114064584', '148881795', '124076664', '199105193', '121180356', '174710491', '179401442', '162331098', '195980978', '193790845', '198016244', '194517837', '187519048', '138876133', '206359134', '216727756', '215917838', '186543304', '191645735', '216845501', '180592297', '128560545', '212237330', '216666855', '196588117', '193376022', '139944056', '175199979', '194070428', '180744806', '179465962', '205868705', '206600471', '215081451', '130085653', '189852790', '118477757', '114951000', '214072451', '216811479', '165329931', '194510084', '206761647', '197358169', '213775436', '216259403', '196062103', '198979636', '193399509', '198654681', '118335950', '216670497', '143728914', '204257860', '179081472', '166088183', '113303445', '115737695', '158085705', '216680044', '215012718', '212593252', '113839873', '213338166', '176813757', '214247868', '181496613', '116504201', '125833933', '216896358', '215356310', '215333796', '215355766', '134262180', '103593515', '216890850', '204229269', '203873318', '215053175', '189011276', '189386908', '205858956', '208829781', '215163466', '125944936', '215495763', '216919839', '121722156', '189106183', '107471921', '213730445', '139818568', '196956515', '148206199', '122793318', '146213732', '214678252', '215900368', '216265683', '194012855', '214905971', '118351813', '211026925', '176230433', '125811667', '188376232', '142361756', '214272958', '187408898', '216541079', '204450692', '206856259', '213226283', '155435457', '202495884', '132121064', '120968188', '194826337', '200281730', '216488227', '170509090', '190604868', '109829463', '183429149', '107842956', '213236568', '187528811', '215498572', '138699527', '196753961', '173559431', '216336193', '209798218', '215374569', '199937660', '182036311', '193190779', '154274804', '216317403', '202340544', '187177721', '216641154', '112217727', '216960326', '202063376', '216699844', '157903090', '179929802', '213765200', '164143045', '201737617', '193034716', '215971889', '200570446', '133470419', '148473361', '211993568', '205614359', '214312404', '216671331', '187478156', '215507724', '205944741', '205457211', '215778097', '214822170', '135550490', '171985385', '216130805', '210635396', '121901641', '179750395', '209653188', '214005933', '214561160', '190798315', '214731631', '167919971', '210391492', '168196720', '100346741', '213654267', '213136900', '212749091', '216745599', '212907417', '216960491', '215503400', '215771242', '216946054', '216308977', '216861530', '196937897', '188926157', '216862712', '154064117', '197851201', '215783209', '134476202', '212704635', '182074661', '214147560', '130820301', '216424176', '206596110', '187481765', '214821991', '187079942', '184616924', '215954740', '208943300', '214397092', '216956322', '157512802', '180220552', '210419959', '121820717', '215459130', '216947167', '216947166', '147572670', '216443062', '196846168', '206233593', '213238295', '181865932', '215437670', '102785451', '173462377', '213244711', '179293000', '203630423', '216827485', '201542571', '185801986', '215966844', '216758822', '216325733', '206029282', '214313202', '204118136', '191343581', '105928058', '216946142', '210090454', '216946410', '208511289', '212500316', '215474350', '169267217', '209670327', '200725496', '133237863', '215233700', '121045145', '210716616', '203363810', '192758202', '185796813', '215134672', '102756174', '212311772', '126527752', '202676434', '171251929', '212136307', '213451620', '209952794', '201538126', '215355936', '205856915', '213558543', '204168233', '214429378', '208597474', '214971925', '215630767', '215630766', '205087564', '182505088', '153849799', '213141693', '163297997', '205125704', '138733886', '194416632', '148674154', '180934772', '214338164', '214626459', '213461357', '110376336', '206198836', '198636426', '189036066', '216778886', '112945697', '207528039', '213914603', '197611425', '182355676', '186998290', '207710248', '115788426', '130474696', '216744517', '187135231', '127757871', '189500501', '216614723', '189759266', '164808504', '107102730', '210733231', '216444417', '126967439', '214859993', '153453148', '209050161', '203166718', '110049426', '196877886', '206591024', '216203066', '216787309', '130057603', '205728069', '112996371', '202595710', '157885165', '184134752', '212529018', '206440830', '147880010', '173491847', '164369292', '213153652', '216885233', '212309872', '204663115', '214747396', '174360311', '194412080', '110573915', '216093608', '168022224', '111104287', '216964250', '164209218', '200818359', '114262879', '216615233', '200883183', '199766283', '194761940', '209619179', '191679291', '176103228', '191992093', '135837977', '214542342', '214997444', '143554268', '186733115', '204435813', '193814117', '168057740', '216972505', '213791721', '201330652', '200198636', '216180138', '208479251', '176941921', '215571372', '155561123', '135639996', '115910440', '216886733', '216659253', '152008436', '216227414', '119851999', '194784860', '191575868', '199833185', '216604267', '210505419', '119629266', '213340031', '207672864', '143351807', '215562460', '216661415', '216046672', '208719176', '132164469', '217014248', '213151569', '137863770', '127082463', '206638364', '169355989', '101681957', '124749818', '181109866', '188722917', '124916758', '182173233', '111793830', '152015705', '216619445', '148548472', '216947423', '184651683', '114337989', '205975814', '161952797', '183838509', '134864608', '215088414', '212057402', '189398151', '201459503', '206643201', '137690515', '216322928', '186311552', '180846219', '203841750', '192405121', '215495400', '203775025', '200940120', '165448388', '216947396', '216136404', '209199697', '173707928', '207323679', '203765641', '213330841', '205242447', '198671497', '200858761', '143632285', '100283482', '216634293', '140795430', '192122604', '216448978', '206143543', '211297686', '211152098', '214000686', '192323350', '214419854', '208088294', '128941289', '203431732', '213035675', '215876168', '190585050', '213054216', '213611661', '110259108', '181175072', '196005863', '138081613', '131210498', '103049951', '215678480', '214154230', '202969928', '216801187', '213882165', '114382844', '158011539', '110019410', '195852877', '212900977', '214607007', '174774204', '207761460', '216532382', '176135323', '136223343', '213318008', '206696922', '210153838', '208667669', '188063480', '209163192', '200570603', '212973137', '213227038', '190275104', '210638633', '195262432', '125159532', '216963887', '163551458', '135648823', '195903909', '165041215', '202768026', '216885599', '214788200', '175953266', '214177771', '216921897', '131739839', '118179495', '208816149', '123819201', '204870664', '212901808', '137227423', '205240833', '215860720', '151732192', '215202635', '216736954', '215917992', '185182327', '129561295', '190987227', '201295573', '216778477', '207756045', '215025842', '176657734', '216886167', '136886949', '112432013', '215557856', '111936908', '209836208', '198611633', '206690182', '206905830', '216631566', '212299062', '121097306', '193669594', '212478298', '215785723', '203834140', '114289016', '138541913', '192390909', '126635846', '205710441', '111173312', '163874349', '123049754', '136100908', '215139290', '110477215', '200586912', '202270083', '201306453', '216686874', '212553136', '196885969', '126483445', '212926565', '112735539', '208429592', '216891876', '216628289', '215510133', '175149885', '213249948', '203115291', '216958002', '156103883', '212218492', '111556750', '198746924', '187058111', '212426592', '201088287', '216951568', '216304936', '194263771', '216732769', '108017987', '205642305', '148046234', '212797963', '216360342', '216684306', '107126501', '216793085', '102004691', '133054517', '183015527', '115924742', '202338397', '216946603', '132704477', '213523808', '197525770', '174382919', '217018849', '204433977', '216060795', '164436137', '206992764', '196281647', '197630545', '194338037', '215669816', '150977274', '216946004', '132754049', '212682157', '189167117', '204555211', '216422294', '117125554', '216638657', '214241119', '195740479', '118689689', '193886342', '203485259', '214736785', '184695477', '215455938', '215681321', '124619571', '106662239', '189950724', '176802003', '215676779', '212698092', '211611953', '198675991', '212771203', '157637472', '197048973', '152952950', '216974032', '214882141', '194515496', '126111820', '208822737', '214480865', '196810800', '192481909', '207838857', '202946069', '217009480', '214024143', '198362175', '194693913', '214380829', '161744517', '187504854', '196755235', '122061420', '214238198', '105149979', '187430877', '216187828', '195419880', '171337578', '204091028', '213634238', '216050765', '216129198', '216619385', '188954206', '202497581', '194256512', '214997256', '213852567', '215512421', '120631641', '213978973', '215617031', '115571775', '147186281', '158203221', '186420717', '215918638', '104635033', '112009516', '137489932', '193155714', '212530228', '210238838', '216456532', '173772158', '216054607', '195436149', '210065795', '150451528', '203373351', '215901277', '189754890', '216850527', '215616142', '215592665', '141209010', '216053231', '211943905', '192039836', '215236335', '211021109', '216080081', '189531936', '203689031', '166378092', '197484112', '188800880', '200407767', '214962959', '212169142', '190213626', '182170892', '173712905', '214073915', '212673962', '213897068', '133655124', '193212000', '216189600', '193649110', '215709472', '215235351', '212845930', '196831590', '216910027', '142185948', '151613277', '209947096', '214587601', '136044089', '215025128', '164176078', '210610257', '197622483', '211647857', '216705645', '215436057', '216862408', '212039398', '216544126', '216317443', '184135315', '216862241', '207298818', '212230305', '203935779', '190014246', '216183026', '188798572', '201200986', '208167853', '202465599', '215783858', '180332938', '120658497', '203454843', '183827780', '180143811', '183425359', '215007564', '207111093', '146081854', '195861987', '197622737', '122986572', '216179945', '181433819', '202599777', '209716548', '216668200', '216876305', '153324939', '114043867', '214925240', '208419082', '202538884', '101316371', '116283814', '148684536', '214129495', '215481104', '203829207', '119427752', '207043988', '216789526', '185095759', '143466578', '193599074', '173450089', '155254308', '208758738', '211451533', '207990921', '115313135', '190161340', '208253119', '208837347', '196516599', '181423419', '215424098', '209216266', '190565140', '132690816', '121266804', '145813948', '122998264', '210008141', '212279367', '176832933', '184296417', '125667810', '189078408', '214302941', '211981816', '126819600', '214377488', '209643395', '140437039', '213409923', '207014648', '216643469', '215880453', '216648169', '135885813', '194463497', '200582585', '215134389', '202610533', '111490122', '123383612', '215479412', '216808014', '169639080', '216851601', '192512661', '205761915', '213632241', '193923561', '143271805', '205315403', '207495809', '214361060', '216732517', '207297250', '100945650', '211291644', '211684073', '161737425', '216570998', '216788929', '174816948', '210230030', '215245795', '213538540', '143999238', '212692070', '164861796', '205789060', '211700359', '213786316', '197769018', '191053810', '216847449', '194450363', '202294660', '173509806', '207543127', '108993023', '215628691', '216327902', '216085045', '215074884', '215260453', '112331154', '216344940', '108982958', '216949114', '142557314', '113413262', '207579257', '215141160', '214828690', '216671822', '209131777', '167760162', '117133593', '126775757', '213177162', '109084885', '132463076', '216946836', '181502882', '122100527', '213339208', '213582975', '210010044', '190002770', '211651587', '215469391', '215236549', '196356882', '186422029', '203661258', '115562374', '174501989', '210966359', '169895730', '208430317', '202749701', '215586244', '213122862', '216655216', '212357422', '190938131', '156890080', '113340828', '207150536', '115514097', '205444132', '209145578', '209958558', '206710813', '195813617', '117590170', '204277465', '213892954', '205316845', '209076186', '189777533', '215496394', '172413037', '106786068', '209595240', '122418428', '150738588', '179268511', '209574024', '197238219', '212164812', '163565433', '151929398', '215973430', '216619449', '124520377', '211827851', '215614551', '215534899', '177866078', '214290794', '212475419', '216948574', '213227057', '216604289', '189514448', '182078612', '172782453', '198589834', '216549522', '164992050', '213658721', '207596465', '194712207', '216695801', '110493303', '214506896', '137097912', '100443358', '114187325', '216703824', '170153284', '154675821', '193728321', '210240317', '205270936', '112348264', '100926139', '200991539', '180203635', '171053127', '150784965', '214668160', '210551646', '208381193', '196299531', '215718967', '203592966', '215757626', '114723343', '129474128', '216948795', '152830123', '120471443', '197314060', '165365611', '216800708', '201283503', '213949947', '107890017', '215649397', '158617045', '212284447', '202234015', '214637586', '215584243', '182499485', '214196384', '217014590', '114082532', '200039645', '215482151', '140753829', '182263689', '145823281', '189110373', '217014241', '209152397', '213297564', '163295240', '137257912', '209157887', '206423726', '205238072', '190127149', '172275080', '209395026', '123613557', '211087674', '198670566', '216900954', '155527280', '190657335', '211494158', '195507499', '213630020', '166462262', '211957395', '214947739', '156361285', '214570704', '214945329', '112048914', '187428564', '207552971', '215422147', '184811345', '125459537', '196950188', '165066812', '213208045', '215765809', '122718607', '215499503', '157729433', '216851361', '199171467', '216061236', '212986222', '216675343', '211593208', '216712837', '213857095', '211191882', '215031132', '215939119', '198999896', '215955915', '124532702', '138539890', '110887973', '216361507', '114564425', '115828738', '141532998', '156379846', '210471413', '126656742', '215950360', '200342890', '214736751', '120603031', '197444453', '215459955', '214565268', '122642606', '119348289', '139695886', '194606043', '208785433', '105955848', '216665335', '174683377', '206074815', '172679455', '216709100', '209609527', '216792117', '214211789', '216682096', '216970586', '201649820', '120758480', '168754901', '165374098', '193658552', '118736625', '205917822', '154238125', '190398527', '194821887', '213294865', '199378849', '132759354', '208577903', '158611982', '207797508', '213802746', '202709481', '182240664', '106184534', '153767668', '207581466', '201869327', '194447374', '201274802', '216835715', '213165031', '173418966', '165673888', '175307449', '209478544', '207219759', '190233680', '216631850', '178204308', '177464801', '212154924', '209743806', '185293343', '153568525', '191090771', '203429447', '213450214', '211861761', '179568102', '216063698', '216027730', '186770035', '128894196', '213160716', '152547521', '182053442', '213350529', '120649307', '209222711', '172998296', '205336219', '144480801', '201213397', '210456185', '159139764', '167402185', '168727888', '212833109', '199555694', '196631448', '200689741', '216832223', '217030410', '167792977', '183579141', '173918864', '207253105', '100330191', '158681939', '135348437', '105830857', '205235168', '171908388', '119677258', '207040403', '184080479', '203671993', '120034377', '206578911', '215146353', '208450129', '173280935', '196804834', '216278586', '191073056', '216946621', '176084008', '212159385', '207426476', '215579859', '214252980', '178446954', '166829428', '205316517', '208858264', '125920836', '216621002', '213391508', '166011093', '189131597', '204552476', '108853405', '175943729', '152190363', '207745604', '213183177', '194171325', '216367192', '137996677', '143828376', '216698034', '205871188', '214608783', '209456954', '149462557', '215862585', '115563761', '212816180', '110309170', '216537369', '206779732', '136170801', '196791334', '186994083', '206188656', '100333714', '216133821', '208010109', '106218398', '155905321', '172172405', '197657888', '213899550', '194975714', '215790506', '216254363', '142101616', '212854996', '215425874', '212613887', '193683753', '201629742', '208286586', '215669468', '216187802', '198362153', '203204213', '145527800', '187429427', '216901076', '210685206', '163501313', '136728410', '178821703', '170039662', '198898212', '216204816', '203518845', '195498757', '114433031', '212677997', '201837040', '216085673', '211477418', '215492072', '216726048', '211480612', '119850949', '135846579', '106795159', '201218346', '118818364', '207548458', '203328554', '207416148', '180623367', '215669007', '197701563', '204621726', '211839434', '123952249', '213126940', '210872790', '216801151', '207506018', '154545263', '203831247', '216385169', '196147574', '210028043', '215474104', '208703399', '195467008', '136013660', '205701898', '116874895', '216587984', '187508664', '211586945', '126621619', '115496525', '201343586', '203840639', '109306728', '208246168', '205085134', '215339367', '215336815', '178605953', '214423619', '169839134', '207190237', '216126295', '216249625', '184496447', '213281181', '139307493', '139469820', '216164407', '183124036', '216481968', '148548291', '193055866', '155858118', '214609683', '110929808', '123146617', '212096046', '109196027', '194414998', '214969013', '173424932', '134782789', '216866585', '146662335', '115547218', '207604947', '190780597', '149973788', '114159393', '121977346', '215778055', '197185071', '214005977', '188944136', '211768304', '109621748', '177301406', '178229870', '216888999', '212095961', '175349720', '156516181', '176857981', '207290424', '109549443', '214303772', '166947141', '115384492', '214810749', '216091088', '217006375', '216947216', '216729269', '181804609', '216899555', '100167523', '203510875', '204818611', '186842747', '109391889', '209424554', '216787883', '216014411', '208644932', '119313937', '208919898', '193812696', '216887520', '215408357', '209568199', '201071979', '181113760', '195315608', '215950284', '212272872', '171470111', '211589853', '163505555', '209135120', '148785149', '157054767', '208349482', '216672581', '214946612', '131283967', '196359138', '158304930', '200525412', '198610667', '126839690', '210383094', '215706158', '207435676', '209479923', '214479207', '216946107', '138060975', '204693120', '215665043', '150080053', '120791017', '153603696', '119210348', '213962289', '204630090', '201173767', '209453990', '187609455', '212535788', '214904756', '156002378', '195732783', '125072483', '204730779', '216915563', '171101937', '190550842', '117625177', '152604023', '113199771', '137855275', '216898204', '207531931', '178475690', '171466584', '138116628', '211522311', '174272213', '213240138', '216956949', '215796335', '179570501', '216304543', '216064379', '126560791', '110530077', '125695572', '216784272', '216361254', '178819934', '214621377', '216952063', '110060867', '200261083', '213608840', '112502977', '188240576', '216063260', '214483471', '213790109', '209001062', '215433881', '210569570', '137174035', '213888132', '209526571', '147016199', '198865640', '154456320', '213850807', '129964887', '212544147', '188798617', '216244230', '206448401', '207516359', '216393629', '177173457', '191653017', '215462726', '103937874', '215505184', '198359153', '180419624', '213532617', '214097391', '213221226', '205381568', '186230814', '214143393', '175317298', '181018001', '155903789', '134534633', '167147673', '151364825', '180021499', '212227977', '216946811', '200045633', '213961808', '173545184', '214324782', '199515771', '187307106', '109821019', '164082060', '113673879', '115641357', '216346525', '115412426', '216694521', '186522113', '203935042', '190142193', '115382276', '105626422', '208770369', '166772076', '193117028', '173281272', '216365672', '194199484', '172052970', '128601538', '176279508', '195176214', '214901901', '111478461', '196941445', '195884215', '216273830', '213458022', '189056529', '189872842', '210743915', '216609519', '212771415', '206624854', '216121843', '156899508', '214361957', '216667687', '177976821', '210510996', '173245354', '177001501', '143086537', '210726316', '158460768', '109175202', '213595144', '194539501', '156991110', '156433893', '175173581', '216214951', '201678595', '207554383', '128156386', '104404042', '209261789', '208719131', '187214799', '210065052', '204957162', '210769132', '195977059', '145120476', '216685194', '184546991', '120361526', '169201389', '119597337', '202808651', '186240206', '114980247', '213693238', '189955090', '213905054', '159043939', '181805927', '194627784', '129969446', '177145869', '209236670', '196866046', '207493523', '175702000', '118066747', '216417951', '211324667', '103959690', '206160750', '165686020', '193765902', '177018199', '187520132', '212010478', '216417604', '181796427', '216717139', '188851362', '214631515', '216531514', '216974263', '216675221', '205048819', '182589237', '214032742', '151731427', '215901129', '216695803', '212102052', '133054879', '183764179', '106659726', '213386512', '191037571', '208253897', '210194720', '210136321', '213401887', '211047181', '123511341', '213853826', '200598571', '210238978', '205485274', '202176198', '171396256', '205390542', '192517153', '175602077', '215474145', '210272772', '113949866', '208798679', '210610978', '207468073', '194694931', '172783307', '213902722', '108788073', '215960157', '163124462', '174504078', '139456864', '182086224', '144230224', '107469356', '216061253', '101331604', '187495473', '179684242', '216755376', '213529534', '162760646', '208531233', '216668889', '201856411', '215324960', '195358677', '133026809', '165798136', '124144890', '124371028', '213549577', '182571688', '211136891', '175918823', '130891089', '200532824', '152588334', '214453874', '214844662', '208839499', '186377626', '128047829', '193371249', '121937914', '181276003', '146349052', '170115093', '210676759', '165939696', '215537026', '166016567', '107786733', '191488440', '216492059', '215100352', '215044042', '193485301', '212654684', '207738112', '110303565', '103120121', '153896208', '143621251', '109109394', '203186767', '214018999', '109344853', '170289964', '132035266', '175494795', '215357723', '207195364', '194519413', '216778474', '194823074', '120070238', '152844073', '199815551', '211821870', '209350747', '175494248', '216694869', '216325539', '194453244', '164330944', '173291095', '152628842', '216694867', '131596499', '209160754', '174740089', '216905124', '201175155', '210154647', '210953122', '216751476', '207664602', '209224736', '103984893', '216598354', '180547609', '216946526', '216947104', '174193908', '213884910', '138778089', '213884912', '151897044', '213851644', '207707857', '130017753', '213540043', '216724417', '211917825', '182120575', '151907227', '213244113', '208745771', '111095846', '200296723', '216509353', '214435717', '201521834', '205232484', '127431194', '199717061', '103684076', '215872829', '214546588', '216668740', '212287959', '215397340', '214109105', '109433395', '216210339', '216886382', '190419074', '201679670', '197122661', '216862530', '210180973', '200988806', '207830956', '214157788', '208124716', '216797864', '216937420', '118772085', '154403102', '216413974', '214301690', '215020164', '123825767', '216880971', '191558747', '142091788', '215536043', '214378844', '208474552', '117801311', '213751317', '170950982', '137181255', '212018840', '128821586', '216694736', '202317448', '131385515', '214485470', '214822645', '200549161', '199510399', '206724472', '188266449', '209500831', '216577207', '213188867', '130083021', '214360381', '214018809', '214037101', '195384321', '213621592', '131663494', '204011608', '175302851', '194512764', '200643982', '163334027', '212400198', '188542186', '211572183', '214829428', '176830214', '123851231', '216159144', '207311718', '199879525', '183586375', '101037004', '209556820', '212344580', '216746345', '192648120', '161690733', '194239656', '215014305', '207148645', '213279360', '203214114', '179072173', '148570722', '215472312', '180592986', '193139818', '182898031', '213428538', '147938382', '208753791', '192864423', '179884967', '214662856', '200658282', '204932881', '202683715', '122063300', '198902204', '152701451', '216517829', '202580258', '146931699', '140958258', '214716446', '207457943', '133833621', '216061084', '207415158', '189266864', '216960898', '202704785', '216830307', '214168813', '130231028', '186073939', '193723724', '114265965', '210178522', '162229256', '207906412', '216550785', '125920900', '163664657', '216591389', '212356619', '216921676', '213962119', '175308774', '209729733', '212956042', '213765605', '113227928', '207577685', '129812040', '163773750', '215076191', '216697747', '212491632', '192242981', '169446375', '214564752', '209321161', '198283045', '216258651', '163695775', '215384687', '214946071', '208171608', '121438002', '153546003', '212096068', '215248762', '216947409', '216653806', '216131530', '129216693', '129013940', '204913946', '208640606', '216754769', '127215369', '209840910', '168517651', '130353701', '212425769', '193411396', '135919930', '200455564', '216965421', '211380740', '200130430', '207171433', '216617781', '212037333', '215190681', '205294253', '187519450', '145804716', '188790655', '190410865', '209927971', '192768610', '214419481', '187475883', '179505081', '210405660', '173906018', '215297796', '215254026', '136236333', '215913958', '216947237', '150931565', '215746613', '148281335', '208111883', '216610788', '205529088', '211404113', '109645276', '142986517', '188955802', '197130589', '216025129', '161135965', '155857603', '128095521', '216775171', '212864850', '216673709', '173234062', '214648213', '214662004', '171997535', '207566281', '194501550', '196357296', '196212149', '196303193', '211016600', '209339654', '216668243', '119410552', '211161886', '212617187', '142640681', '149761337', '207452463', '212013532', '216915484', '216560056', '212082681', '214946672', '157638747', '169748823', '216474517', '115083459', '207328927', '216964082', '137784087', '186997489', '101405067', '208737596', '216005453', '178436834', '216882148', '210324566', '207559852', '211922790', '216627177', '125839718', '177576894', '197516356', '215553416', '214523530', '200359345', '214433830', '111467416', '216744910', '188353382', '216742551', '113344772', '175249360', '208194044', '186373745', '164538542', '175468888', '206837674', '215776301', '106020377', '203792619', '117680241', '198232985', '206417977', '132279925', '207916646', '216862072', '215846512', '207495946', '112709775', '202177867', '198011037', '182528060', '122380995', '214946098', '210706826', '126757512', '195361185', '190502262', '102761280', '201487237', '212482857', '110510237', '216778792', '211146450', '131394621', '216783524', '188387282', '216946780', '204127845', '145807920', '183627006', '194500041', '110331718', '209133775', '194700985', '118120938', '207828411', '166825205', '205247203', '197402035', '215773176', '118536754', '205256913', '211595923', '216664529', '105969133', '197309010', '203411350', '215417367', '210005705', '145185350', '193681505', '125590231', '215359716', '216669376', '214493425', '216837949', '175802388', '204992522', '129360731', '196667422', '189891671', '214169776', '136072173', '131116821', '173710105', '216072822', '207496942', '215705801', '216640210', '192379599', '201562089', '154773851', '201635375', '216627824', '161308291', '154030422', '215546136', '201779594', '214246637', '209116469', '199896763', '214270621', '203869410', '215505301', '195519491', '192717687', '216076738', '200514499', '210664626', '133415168', '216947221', '212694076', '130740470', '214990864', '162840133', '204099346', '195847297', '106617227', '204193493', '203984922', '142550998', '216379199', '183581921', '216908850', '204151197', '108192978', '216753232', '194763802', '174489908', '212733162', '212398443', '190839664', '187516799', '198207229', '217006044', '210255200', '208193735', '214722010', '185533979', '201927358', '148966321', '196410810', '198729977', '206085938', '106688404', '188267471', '213220519', '108646169', '200038069', '207117560', '146243942', '212275589', '216667407', '178891717', '135644089', '203383795', '204527978', '190021389', '212563936', '166026776', '139682120', '215093254', '170900818', '151907514', '215183222', '215966295', '212796523', '203964436', '212431182', '211187475', '216710536', '169302437', '203690094', '129930320', '171524284', '215015158', '178194918', '136062958', '216625460', '168654011', '204403145', '154547530', '214304564', '110191980', '216901026', '209283385', '216179560', '177175875', '194697038', '196617839', '118511060', '215108955', '100786280', '212024456', '213180045', '216859190', '213180731', '204127331', '213279426', '208089547', '216633262', '200280146', '215499704', '185155844', '206150945', '215775027', '212347023', '215192887', '205408621', '127764351', '216972950', '200052543', '214877558', '172998856', '215216058', '153708117', '205816916', '214835635', '216945803', '188573397', '113788543', '216706867', '215488684', '125727876', '138539404', '201847629', '191848793', '199899084', '139063016', '161893367', '129699090', '204919146', '192986586', '203723832', '215249767', '214304099', '106372803', '216725609', '216625934', '204930533', '120735172', '191233574', '214545380', '213337584', '135174174', '146887363', '215039371', '208811420', '215874631', '195876679', '200509261', '196183994', '214748204', '215013748', '134858451', '181482328', '212523061', '211683908', '215548007', '197410216', '122167058', '115632585', '181288748', '200548368', '190425078', '211503359', '155741353', '154388442', '214424743', '216835328', '213830227', '214181691', '110938030', '104815041', '196911423', '120858298', '216646355', '173255899', '186802692', '154550234', '191021875', '143720494', '191666931', '188499848', '216900082', '201170381', '215729367', '209104024', '131075179', '212661208', '104675153', '211945452', '200157392', '108780674', '176705428', '126236626', '210245652', '206694726', '195026246', '216649686', '206029697', '104372191', '204595305', '200283162', '181402214', '207553109', '188610788', '213185061', '216895064', '214580552', '201202402', '196141378', '201941046', '207987721', '216668185', '185596100', '215760937', '175896720', '118426834', '204237140', '213884937', '213294179', '216798311', '216437242', '196912670', '208760893', '116265986', '216856186', '211992389', '200214702', '130185278', '216032181', '213458966', '165350387', '215844629', '216262892', '216835067', '131187779', '216047298', '209413254', '216731294', '213797382', '193591002', '210553774', '142079750', '197742655', '193873727', '177873953', '172207779', '205001939', '100862002', '209605873', '215026513', '213036926', '215600032', '207683383', '183435064', '199131899', '216063037', '203597959', '187548459', '210152052', '209229240', '215650955', '216695226', '215348485', '181678118', '214301676', '215081871', '156052954', '142169019', '154095191', '142152454', '116577158', '177623241', '206798314', '171710687', '199054832', '109290516', '158510309', '171558961', '194434834', '204902658', '198269853', '216692687', '216627343', '216419629', '214687688', '216368996', '210085219', '207056657', '180674914', '165108906', '214317821', '172714017', '214364751', '192440019', '207465856', '152862281', '211043697', '152063579', '193804314', '128919571', '178476454', '213970686', '125837182', '190512151', '214608476', '207300431', '207094099', '188300179', '148845491', '212856758', '172541353', '113753680', '213726371', '215773095', '210960446', '165917018', '216949525', '214934809', '123673557', '210672857', '216597233', '184475263', '216323000', '169639784', '128634728', '215063290', '212451901', '198207945', '176057690', '197632479', '134954944', '216976333', '213721637', '199915784', '157519145', '207449740', '194534204', '180528190', '164233046', '118967805', '211052493', '184655542', '175970933', '216967494', '175694581', '116071306', '216201126', '214914225', '214821687', '199836166', '123450547', '209543534', '215412457', '197704201', '169309235', '180880216', '194780797', '149192010', '183333704', '215814127', '208938763', '203945900', '186135184', '198840324', '208349110', '189297696', '214478891', '209433550', '174076061', '125834211', '203887800', '217017968', '178781936', '216881283', '140034238', '214609708', '214703617', '211149680', '207249993', '215665666', '201631636', '216191313', '189003658', '201657930', '192218270', '182122115', '111692872', '127613050', '172716767', '216600625', '144751382', '199769988', '106444833', '216568040', '216978095', '201809357', '214914751', '200798377', '165604570', '161929959', '202607791', '216915348', '216033469', '194699154', '215974981', '181740116', '152843418', '116027686', '114328959', '129867984', '128095975', '201938917', '216631009', '216796329', '127862392', '216339599', '195522462', '191472339', '180004812', '206288315', '210683486', '121901702', '216890064', '216130888', '209667310', '216189942', '198209090', '165961775', '131349571', '213393415', '177734903', '216557742', '149015417', '216637082', '118848086', '108726974', '209296127', '215484229', '215938431', '217014431', '216947255', '161718353', '159026188', '216091044', '197628569', '136040704', '212510791', '202930114', '214247576', '156944379', '202349713', '215143347', '127663328', '210928191', '141448976', '207608019', '210495402', '205308062', '212900272', '178854508', '175882649', '207250998', '212875532', '112253812', '216620932', '113384435', '197774383', '155750113', '195882845', '200755067', '214859210', '173416955', '122489868', '142376183', '154900905', '198978308', '153367212', '186683849', '216838253', '207673765', '194615702', '216782521', '216648875', '167682749', '146708980', '216890835', '214887777', '129767410', '133885524', '214887774', '106885621', '155097869', '216539960', '113312576', '152413641', '216687383', '181460043', '192493267', '179272365', '214766737', '214942938', '207486698', '212703197', '123902736', '195045822', '204563469', '188625886', '193813650', '216023249', '108590779', '211764655', '113321874', '194805577', '216438079', '210403524', '216702907', '211529525', '202384917', '210236185', '110573301', '190061718', '203796778', '201939794', '213169094', '216775095', '163344514', '190834951', '192808530', '216791428', '199815493', '111244525', '198589681', '106579758', '156841563', '216847394', '216552076', '216678113', '121350436', '187472397', '204518605', '152759852', '157656893', '185113534', '118106532', '120614484', '200480969', '164702829', '148159012', '210900100', '112748345', '207437595', '199542600', '197655615', '215957124', '214005862', '216340023', '171656243', '201774754', '101559810', '119628790', '215601538', '140284847', '216357933', '203852765', '211006886', '191079922', '188184313', '216533570', '157470076', '214841532', '214700677', '148564420', '214447166', '216547241', '204432712', '216862404', '205850038', '176185295', '211339174', '201284025', '216017270', '165805569', '209889118', '216602737', '206083215', '214254364', '174380696', '211066171', '132484153', '212949307', '215226153', '194699777', '215328079', '171208446', '193811483', '206066142', '198564170', '195025707', '198417887', '198118847', '149971569', '124791354', '216276980', '210320503', '130672321', '120883813', '179630694', '213169951', '187686767', '215235281', '205567435', '216072205', '216010462', '194993354', '213317836', '169673416', '216747777', '216739658', '140401766', '216139351', '208159977', '216991016', '128254878', '191908666', '204022735', '216947044', '194338424', '158114991', '215876626', '172970978', '214327748', '209268874', '213617439', '205301876', '208756871', '214646360', '211827834', '213768203', '205995092', '110550868', '189393054', '194621170', '214947888', '108529211', '215990105', '216946854', '179512724', '216946857', '216946506', '136057135', '200737946', '212803290', '157031076', '196665006', '155308886', '195284950', '175703972', '193810554', '189673783', '216599356', '209538044', '185367716', '215200810', '105934093', '217008363', '216858039', '198140336', '120690014', '195843481', '217013981', '216982938', '183060556', '216789424', '215915137', '210904649', '199670102', '201682965', '183623109', '200841577', '214292539', '214369351', '130714241', '116638465', '196889248', '216757373', '130189947', '216542599', '204177270', '210606914', '205032097', '172928589', '173413354', '209593124', '215157904', '133410713', '213452346', '216660011', '207459842', '199141996', '206161310', '174814754', '211356833', '216427302', '215552879', '165827925', '189279145', '174237379', '216700356', '206382531', '215646041', '113747579', '214874249', '148171578', '206623682', '212112389', '126805550', '194328554', '169686601', '191021411', '199356869', '213387974', '192471711', '214724060', '166428408', '195496448', '165680556', '206469404', '119702034', '111042587', '193440081', '197195850', '205463556', '174696913', '216215464', '211683860', '216177888', '212663512', '204368351', '211077833', '204026739', '197622096', '158287530', '174105484', '197791788', '209873614', '205002177', '216561682', '201296082', '210702138', '204002155', '205197355', '212631645', '216084096', '216947062', '103483570', '216778909', '214687146', '212333172', '217008753', '216386259', '175456443', '216900310', '200193744', '216924466', '215294320', '208104710', '215209335', '202847518', '181347489', '215626599', '215222673', '167158078', '213794577', '118496737', '213050179', '188080724', '110099429', '209764215', '209592073', '214003428', '215623503', '144820799', '200221875', '186437500', '215505911', '189496768', '173214441', '140782516', '216673522', '182709150', '209680436', '210746572', '215917772', '215934042', '198445121', '143129700', '202822489', '171344352', '208314041', '159264885', '216282684', '200303998', '120450636', '209359823', '216679180', '215326155', '104450226', '208642820', '153964785', '216668161', '175809393', '216029683', '198360351', '202057403', '111902556', '216956229', '106103066', '125295693', '216664660', '199711332', '191838635', '196225943', '216879230', '204746358', '210011400', '107204346', '215551579', '174223177', '192310501', '197274068', '214117779', '195119099', '188968296', '216087408', '216832681', '171775506', '105888198', '215247783', '212567567', '216439610', '188962667', '216210379', '169493152', '190702643', '214182495', '133992300', '165974481', '213209078', '208041333', '214433233', '153574061', '213021949', '108365651', '216502176', '166955472', '213229575', '212873723', '214072217', '114956214', '207986064', '214951339', '173174358', '216698363', '207395499', '216670217', '210363120', '216911163', '139273606', '154400176', '204547784', '216055223', '203052737', '216868776', '215706301', '216972005', '126788716', '207594639', '182241194', '214749854', '115371925', '207500591', '137208459', '216732452', '109795403', '175429464', '214978963', '211795309', '202897065', '216733190', '213295649', '108198974', '188318542', '216733276', '215014162', '208355309', '198670613', '215181891', '139694000', '209165248', '212746559', '124593600', '205934442', '111690098', '125352243', '216113291', '216131352', '193042393', '212301163', '216729740', '216757147', '216724639', '185066208', '216543368', '212539977', '165491640', '155465487', '200343347', '215535752', '168045148', '114118028', '202048470', '182989810', '184310602', '214833919', '213174642', '110139710', '158159405', '168064113', '197030748', '196722071', '216727484', '163373296', '197022600', '196609595', '170331832', '214781863', '207307290', '213910360', '212107250', '171130000', '216860557', '127054937', '190491481', '130862567', '215506494', '216945338', '211582337', '214980138', '213414734', '216548991', '214855977', '141545913', '215479538', '184494157', '193803866', '205412059', '205018641', '214716403', '150800311', '213521749', '187533861', '216737503', '171162031', '199975188', '209618638', '127881199', '208423250', '200582992', '205588385', '215058893', '211636960', '193497458', '178802221', '124947832', '216688654', '214772520', '208914803', '195696615', '165302531', '200460495', '151896016', '208511757', '207774930', '141039913', '214875432', '214830997', '120360907', '204074652', '217009070', '215675838', '170640753', '182126637', '216737970', '122523406', '216472671', '216697787', '207124053', '163109353', '100095342', '178647420', '184234695', '165089521', '100815191', '196568047', '216865696', '106911153', '216704718', '211598895', '213246578', '195827912', '199736483', '208467199', '179283858', '103253901', '205080509', '213379114', '213542596', '124193495', '212614446', '156864623', '201497216', '189678162', '199506875', '214987352', '214121155', '216729758', '161693600', '131311345', '214961685', '188365964', '216795918', '203641149', '206147400', '198897617', '205997829', '112016985', '197359227', '109569873', '214661481', '199886661', '190667626', '142781052', '213286135', '211899277', '177195969', '197456838', '197592726', '141543718', '110124332', '154197809', '202614585', '216376291', '155168606', '165434556', '211531893', '113957824', '203057435', '101311946', '109845611', '216947270', '215484207', '125245087', '203903230', '114592169', '180841232', '201972624', '215602563', '124557825', '138518291', '144006675', '106220757', '190508711', '208768877', '215678342', '216975347', '183764015', '208859330', '216859013', '167965338', '215126839', '216687147', '131174822', '215970372', '207780661', '133833351', '193186861', '206173043', '213964050', '214328984', '101830913', '216633460', '213962519', '106816573', '216583748', '207122713', '212624435', '142117819', '123234365', '103913418', '212905950', '187123468', '148930919', '189339944', '204086912', '207510088', '155360439', '101370154', '183302543', '211732776', '216025309', '200821251', '215293181', '216362119', '216416181', '216633985', '216892659', '184709163', '115610276', '113634417', '122333232', '195857851', '197050238', '153929658', '148270835', '152243722', '207390236', '216723486', '180375987', '105215533', '177193117', '198625086', '204959096', '200889910', '152039662', '208980745', '213919572', '202227680', '188347328', '116548627', '210986639', '209286838', '174251984', '198168472', '216947463', '201396106', '136035704', '216454998', '206001758', '134060523', '209338698', '206314809', '194535597', '187531326', '162976042', '177368192', '204080897', '147185996', '194728278', '155828130', '165230668', '214611926', '198168550', '216062731', '202108332', '216664344', '173460328', '216062737', '214658836', '213518778', '179108235', '216222484', '215741961', '217013514', '108303340', '195422802', '210287671', '190366884', '216886065', '136726994', '207391834', '212801081', '216843709', '216846573', '212478915', '207352760', '216898959', '216692008', '184463890', '146053460', '215471559', '137476516', '215593529', '207865918', '205138899', '216152511', '213021088', '208220767', '215233672', '119464470', '107318088', '210577123', '202129800', '208007425', '214633667', '209849715', '197810338', '154608523', '141435735', '212425042', '216682730', '200637266', '216829754', '182281038', '129041209', '127582622', '183327204', '181969289', '194255813', '131361405', '216799217', '113402628', '192037922', '212650088', '195835488', '216525130', '174817818', '123656890', '104286765', '216869433', '198989056', '191331286', '213780136', '216822695', '115447225', '216134456', '107190721', '214879582', '180169459', '206163935', '198134481', '130956617', '214567422', '212433167', '211924363', '208977998', '186677159', '212283131', '123606896', '213214855', '213573272', '212961311', '216843113', '209597955', '136827090', '212790895', '212921808', '200044240', '178981564', '197212431', '210559040', '214164506', '216133823', '187532660', '211266230', '212697661', '152286970', '215517795', '215927996', '163116202', '201318701', '205716730', '216712949', '216669843', '214762015', '216947045', '145298325', '215177759', '169029020', '137139133', '216833936', '191684876', '213001463', '216887000', '215862660', '214686330', '216214648', '216670046', '201288793', '151496188', '134723908', '177392424', '194356231', '214766758', '172661415', '156025783', '207576764', '100302025', '210214647', '213998821', '185255553', '177470464', '210981072', '148473412', '215407904', '190038743', '142139743', '199499858', '180034495', '172655270', '197450704', '114866363', '195311953', '207294583', '203743898', '204399240', '210483672', '149895123', '216375407', '175911481', '216190102', '207061866', '152092288', '192476480', '184232760', '216757354', '207191979', '211292942', '209766723', '214049122', '187520342', '125622771', '117107352', '121814991', '206556557', '139083506', '139755268', '127691245', '173519420', '204033141', '202418155', '173835806', '164582086', '155186275', '136166659', '132917265', '189207003', '207894999', '216654389', '214076658', '207776957', '127296591', '203010575', '215905486', '147547758', '145695327', '211598210', '124619552', '216170474', '208930470', '136029885', '208461478', '105273824', '215183598', '154378951', '204059761', '122264735', '198002013', '198693820', '125839758', '189773528', '200192642', '115053165', '192280424', '177030490', '101895103', '186702657', '207488108', '209286649', '209618177', '201141678', '193521831', '215851404', '212156554', '120185259', '193044406', '203539843', '212236514', '185727877', '172578909', '216643282', '118484723', '188646585', '206206376', '198078159', '212291191', '212956749', '214946205', '189190624', '212561995', '112834886', '207890630', '127792561', '183861284', '175483307', '214336687', '203566034', '180912739', '214822704', '124378292', '214719655', '174567724', '114193594', '176902416', '175024727', '215718690', '140896509', '215050075', '124471686', '205393025', '132546182', '206278950', '203701439', '205178129', '206765050', '200416340', '110343578', '101092542', '166286187', '216745494', '217006476', '215777752', '102935647', '186125634', '201959348', '161941481', '216608982', '196096177', '196469154', '216899412', '216607770', '216899410', '180528787', '142518820', '196958152', '185579925', '216947162', '145811724', '196160970', '215455096', '206624356', '214545874', '215455092', '166907211', '176922153', '170607768', '185982579', '163563731', '195999662', '191839033', '216685825', '189874178', '124261551', '214940985', '206091713', '197121899', '210679226', '174165961', '205932679', '171320567', '215181993', '214104668', '216088399', '209045799', '216789931', '154202531', '216616297', '104765714', '215966496', '152472715', '204360473', '206330843', '179863387', '196593738', '198209348', '158059673', '198461292', '215733497', '202233830', '172158044', '215184577', '215900576', '215537314', '214750235', '128898620', '214941068', '175239048', '189146230', '188452843', '193010905', '157593512', '213100281', '173870094', '170551292', '209863023', '104358881', '194070214', '215150127', '216855346', '209332583', '216923191', '208735255', '172706506', '139263857', '216931875', '210576423', '206048344', '214979587', '138404223', '208224398', '189584220', '215237967', '196964639', '198749543', '215778294', '206540729', '195954623', '200794234', '173635455', '201816896', '215931999', '216946216', '156181773', '194176152', '166151307', '173580433', '216062697', '201574563', '208849940', '213885558', '134751600', '137677235', '193112748', '152976869', '194158212', '216644347', '176009923', '213884972', '211635611', '156822315', '166996953', '192496686', '168847248', '209497809', '171853132', '104218196', '185862282', '216906797', '215434203', '105142320', '215922206', '206628447', '216587329', '214364805', '208127000', '215224610', '158277562', '207433746', '206245471', '210156943', '133069781', '191954129', '181308242', '216688269', '105260425', '210496952', '216533187', '211565434', '216213318', '217005683', '196333398', '200758798', '208182381', '134954907', '194560236', '172566985', '153521376', '214780402', '215537603', '191594791', '123079857', '208267073', '174776889', '216832148', '215595818', '216877412', '204036255', '211279036', '216252805', '122918751', '153124751', '214334211', '156252765', '216496511', '216093524', '211461858', '190602898', '197722134', '214769156', '211526485', '216844587', '184645794', '201965569', '212165964', '203127707', '216807508', '206979642', '118817426', '214770525', '215134443', '209901148', '196614859', '206353728', '162238483', '174611370', '216697811', '216596063', '214159526', '211114525', '216670909', '189798148', '192738125', '203927035', '203007761', '216688675', '216352960', '215258361', '213024218', '182084137', '216880195', '216919708', '216963345', '216117086', '198740396', '147724035', '156930694', '152872751', '202323544', '118259739', '216540578', '187078297', '206180302', '203674097', '213476001', '212796323', '170579198', '208355584', '182728212', '124902246', '125139042', '196429458', '101570167', '181650329', '187269624', '214835350', '211292080', '176476328', '202328378', '204522045', '209477894', '214364332', '120618885', '202272574', '177602401', '209652895', '169488937', '178069915', '106160555', '207406523', '213905199', '216120419', '216619321', '213099961', '145130232', '211926732', '122095922', '209923231', '209276964', '214666513', '110281811', '203695328', '216944005', '216946290', '216817636', '215088514', '190684153', '207736141', '162343946', '207459796', '203695324', '188389594', '172907501', '215485288', '161171455', '109977748', '124862679', '125309209', '198824176', '196039488', '177292874', '211349130', '158450419', '148145958', '144680767', '205003341', '194820180', '108287520', '175695791', '102414649', '115665885', '198350683', '156047720', '133084310', '176890001', '211547117', '204131631', '114045094', '179743929', '194607832', '213885039', '143826562', '180854633', '135458434', '142886969', '102894800', '215719804', '215645070', '210917652', '199359991', '209769702', '125251638', '215192507', '212698635', '216548269', '208397237', '191223521', '204017191', '216538528', '175117827', '210231597', '173151264', '216438382', '215945698', '216314423', '216910777', '213041485', '210550444', '132194477', '203355722', '194463814', '213134120', '206105110', '216700679', '215007679', '209901667', '216176422', '216119805', '216260162', '210892094', '181097682', '125497440', '163600364', '216778171', '195235317', '214657145', '210919469', '185744352', '104313006', '205464905', '201814060', '216473312', '198764122', '216498674', '214836728', '176626573', '195694679', '215385249', '122824982', '203182286', '171773788', '215924208', '213366492', '173070988', '210918591', '216618583', '216534181', '208290235', '215974394', '196538242', '216074019', '185159930', '145086468', '206503721', '212649641', '214786932', '197001912', '109860292', '119806751', '201925402', '213337270', '207444395', '198838340', '184069397', '105287597', '154777439', '182410616', '130141925', '196690329', '215202770', '216693952', '211558335', '213383941', '178804257', '171052985', '143536419', '201291911', '203338726', '132047558', '193492349', '176745338', '185171017', '215131351', '213835172', '209385732', '143937009', '117957436', '171077986', '217026804', '205080929', '100475925', '216369674', '216694906', '116695084', '203268857', '211344070', '177117161', '178220054', '104344148', '216419210', '118826783', '216708843', '196153349', '193986529', '180938088', '216208973', '166253006', '214074899', '216812748', '157668894', '189203357', '106466417', '139611402', '215359774', '202025934', '116264666', '193215645', '147881366', '216547202', '204194185', '148801197', '216947310', '216552978', '194818701', '117675164', '154884856', '213585262', '111795382', '182503837', '212664730', '159029183', '169066561', '215029573', '215763129', '214823575', '216615816', '194903156', '215795600', '212387804', '201105645', '216671192', '215091959', '216684317', '168052300', '191259015', '213662647', '215437337', '208301614', '212328940', '216179191', '216467177', '212429915', '175103083', '209590945', '202335065', '214783015', '189670756', '216244945', '214253627', '130102626', '189985356', '187895840', '213396166', '201841428', '129141375', '194694962', '128104147', '176327078', '207369823', '203380382', '195448011', '213871812', '121096869', '207060688', '164422443', '205727532', '209898228', '181454080', '194703034', '215534501', '214062224', '216845861', '144188665', '183052453', '177966691', '216686023', '215990142', '205479735', '207746442', '158905646', '192201682', '201285737', '213151544', '215442765', '216476693', '198175424', '215780812', '214375288', '214008206', '195284478', '213408361', '212596211', '207508804', '189019364', '212282310', '176197514', '216371703', '214574862', '164825002', '216929362', '203718692', '203511773', '124222676', '145529815', '214001589', '215255916', '215247582', '200461137', '215982884', '196491631', '211052048', '215900395', '210473519', '199818426', '187576602', '210751066', '187312961', '209490988', '211669387', '138059653', '216806663', '213943001', '187752974', '107736270', '118351488', '174147264', '122919893', '216741112', '173579299', '213747383', '200561742', '113048665', '106557677', '190879810', '107795112', '204120433', '176405336', '198722826', '133969933', '213443042', '208400856', '130675795', '208405434', '212955301', '200110199', '216885144', '214363887', '213050589', '216727656', '201669426', '196972812', '209511639', '193526131', '216606672', '200751794', '128428815', '181503082', '201138153', '158326060', '208572972', '215729351', '120751492', '212537770', '186932999', '158451938', '121873634', '192962815', '180226870', '171696120', '182865147', '140937105', '202280843', '120444045', '152154818', '195466636', '213337592', '215831599', '214332537', '201829995', '206693569', '216026611', '173224726', '216917342', '212881097', '141097156', '117677864', '187443873', '208974796', '125201694', '164276469', '216932102', '120554517', '214525878', '153951900', '123540961', '215294368', '116338783', '188592961', '130321181', '144015202', '187656447', '214825621', '203450133', '212756818', '190002232', '147418272', '211724835', '121188291', '150851158', '214529999', '135019766', '137388479', '205903513', '212392705', '192549859', '170674052', '215388733', '146278991', '106002103', '205567641', '139421624', '213224605', '159312906', '110048537', '176311173', '186981014', '190968351', '214479460', '216068985', '174708275', '151585006', '209172077', '213293268', '196295534', '162792653', '215419886', '170430707', '193908475', '215928010', '118946033', '207327694', '215658960', '188178604', '214394823', '215181467', '216678817', '201101550', '217013762', '204687293', '212826153', '202842818', '209175241', '204042802', '168810306', '206461193', '203213422', '140075168', '211599400', '104666711', '165240281', '216787536', '206030663', '216852175', '158760533', '118496993', '203362771', '215130767', '213525472', '124683723', '216703486', '216616396', '175043555', '205338043', '181332409', '212748201', '188560902', '189963087', '216307304', '186446923', '216971652', '154556270', '163297819', '214080824', '215076467', '213509069', '214682304', '124227108', '214826737', '216910521', '193216466', '127198658', '115557428', '215979782', '113824490', '214880323', '216648734', '176285649', '152191134', '188922081', '208907218', '216657881', '216122358', '124722346', '111061507', '216833207', '208642680', '106504156', '204952993', '151866138', '158171086', '191603060', '195980193', '215844858', '112368422', '216359923', '164580353', '212747480', '112832052', '212588706', '211156924', '210402804', '208177211', '171109338', '189350547', '175314613', '175549371', '134797914', '101204936', '205480895', '200984416', '215536592', '181544439', '209648654', '182308752', '198964434', '214011244', '216808577', '211327573', '208771514', '211633740', '148387198', '171390907', '204293051', '208451580', '174265181', '214633143', '101748084', '215512884', '209279873', '202756444', '168886998', '216665792', '216166329', '186453824', '132953872', '124220693', '198092727', '199885654', '215680317', '217009336', '208373269', '206105390', '207628921', '209353358', '207534837', '216701861', '161240856', '172663624', '200810083', '216832168', '132686520', '174050717', '131511661', '213674458', '180834198', '176846905', '216855007', '138245066', '151227522', '199056725', '208750775', '216798585', '104759733', '216604303', '216013316', '190494757', '215559164', '122542728', '132759709', '197733719', '213916668', '209776248', '216907023', '209782069', '121635965', '125997584', '216013212', '213897823', '206526207', '173657716', '208734367', '116102316', '212753048', '200584255', '201501718', '215847525', '202234975', '161887534', '216809158', '209795337', '152380231', '123323845', '206632302', '204198031', '199641307', '211551034', '200266779', '206074709', '202165899', '138355748', '215647271', '216061318', '203799377', '168257984', '101310439', '210064739', '216600825', '152932381', '188484944', '195442116', '216779292', '188178649', '196839551', '206797010', '215015472', '146656466', '212215333', '214639375', '189398991', '174623597', '216945953', '207116133', '147045301', '212686294', '211938474', '184689734', '216450695', '208511320', '191752528', '178479405', '214668042', '211222123', '177323592', '135351092', '205522468', '121211376', '196137059', '216391563', '185873626', '209159610', '125536980', '175525022', '200123066', '212497442', '215830593', '156762698', '194518557', '131560786', '202296756', '216575975', '205377132', '207741420', '193853759', '213804173', '197699662', '187407623', '211208342', '216587746', '100767852', '213590306', '210923658', '211585498', '190996636', '191460864', '215076441', '202417598', '215356262', '152394229', '201545853', '213620719', '177256779', '216312298', '208419531', '198473680', '193111469', '106816208', '210435543', '204941371', '216917153', '119008387', '209242519', '179670628', '216604071', '214115487', '216884898', '216019820', '196658860', '207465357', '208032495', '199835252', '216780209', '133244186', '213291799', '194364586', '216862443', '215927459', '117813640', '173571733', '177195258', '188442294', '208012494', '199824087', '211546711', '215750573', '113685606', '132952667', '210469762', '200371578', '199249159', '200282461', '124043614', '208172882', '156441712', '216021557', '151487498', '188429466', '196068179', '214500002', '214900260', '152683770', '216778675', '214613919', '201363596', '118464047', '117305811', '215953421', '195832035', '173897569', '216771594', '114494857', '215184363', '196269336', '216928647', '214822375', '209557924', '209862621', '126280028', '118825291', '210415812', '199888436', '207546825', '207605086', '132387097', '215805323', '162989481', '183630180', '211758472', '188178548', '216143026', '214018586', '200572125', '140344186', '191987446', '205872381', '212711029', '214946543', '216066061', '188066951', '215478587', '177245272', '111561813', '203647913', '172728317', '138176880', '202079732', '207405416', '198594109', '181711492', '176106307', '175648544', '157205268', '139603810', '157265904', '216898117', '191557448', '189545207', '151384203', '205394755', '203432142', '205646971', '136427639', '212154776', '204501590', '168124311', '106418956', '216330105', '135106758', '214569646', '214689015', '212536079', '150726682', '216220301', '215063720', '204089374', '188760048', '216187677', '202665127', '216665969', '154896617', '210594429', '185016518', '216889579', '133430349', '212900501', '205767676', '113636075', '174477965', '206229686', '198903719', '208468825', '216779104', '216507168', '216799703', '151983128', '211749190', '121809525', '212432203', '215868983', '143143221', '196262187', '168488505', '128120253', '215242407', '214482485', '211531777', '216669087', '199691275', '211566779', '216032624', '204589635', '164340611', '204030900', '194077502', '214069911', '213177924', '180670199', '194595785', '182873495', '176243379', '216862676', '215130022', '216718172', '107531005', '206657786', '216889916', '168028402', '175306054', '134776317', '207683860', '114514993', '215804589', '128225446', '196657021', '208754749', '209791775', '215976196', '215494910', '174157071', '174124605', '195945356', '212923296', '113369657', '195872844', '117181519', '201502750', '215241981', '209944499', '125817810', '189947581', '167778033', '115325055', '200786981', '105700103', '211803560', '213443419', '194546560', '195331279', '213408344', '188379001', '214824924', '189878456', '105834966', '102503835', '174241762', '215804246', '213073986', '208100197', '183892219', '216374063', '175341603', '215014247', '216604465', '216859264', '111580929', '217013922', '205643158', '196182990', '153272371', '181808734', '148352932', '215981377', '216190411', '186557626', '214118709', '198304158', '214734540', '208316236', '102209009', '181428651', '214481116', '214613068', '207994174', '193826696', '130057517', '215667159', '187522071', '216779212', '215975700', '199954974', '194804455', '201500032', '209498617', '200632031', '201769702', '145278012', '210191375', '205950113', '213876578', '202800536', '135248781', '211948234', '128179677', '215964848', '139021608', '212540254', '193064575', '216906983', '204530373', '129631208', '207449133', '196687119', '110910699', '215543270', '191819925', '209459743', '140021202', '151974857', '107771204', '146934692', '201306389', '187772910', '203954483', '107280525', '119296542', '173189367', '215486968', '174132764', '138664356', '182632703', '189089031', '117114711', '137821631', '174611612', '123867502', '170901480', '134158499', '105762194', '206218405', '168842040', '214222813', '122378897', '152184746', '155569403', '139692178', '213298502', '130263846', '216700171', '212491969', '213350998', '215235706', '194658649', '137073799', '214079997', '126240835', '206738267', '200822159', '216883111', '196280321', '214309191', '154930418', '216613066', '212597859', '175939353', '216015828', '109889396', '214486480', '214420107', '214490425', '215436664', '181426505', '194158671', '216953912', '216835584', '132790154', '216391724', '214149175', '171256069', '203374357', '214071347', '126089442', '178957448', '216590874', '194937820', '199281412', '216093335', '198867292', '191010335', '204085072', '193637426', '208237096', '195446865', '207697011', '216613634', '122693754', '174145696', '214716292', '216434056', '189850827', '216208919', '215174867', '195747946', '215939224', '215418847', '205706704', '198603127', '216713747', '209982785', '204656536', '213884950', '214607729', '216947080', '172132690', '216947082', '153877694', '162918653', '189036139', '198305612', '217011079', '215856125', '195252843', '199181736', '215127229', '208247379', '135757773', '216853285', '215540501', '212430785', '203856417', '151337160', '191306708', '187009555', '216679343', '216253793', '214687337', '177644683', '215383448', '216960441', '215658579', '193066323', '190567332', '137069800', '212444635', '185191706', '148041025', '212746177', '199147182', '216608941', '194961656', '207872143', '130371135', '121612520', '192082428', '165957576', '216582447', '184417931', '216149152', '205394419', '213181680', '188700418', '131235511', '216602637', '210269143', '215358326', '216632867', '207166525', '101461933', '177391153', '214158677', '110451047', '207444216', '173174001', '212684754', '150053142', '214785894', '194727641', '204938220', '191715220', '203304185', '191192245', '201201356', '210723862', '215983242', '216746109', '216196661', '195166799', '149347327', '114435173', '214512135', '215953365', '196107170', '186271806', '212616716', '200606161', '199519385', '213512493', '151110374', '197748559', '216982613', '142830610', '202127919', '191678943', '112366314', '214005191', '145802042', '184885161', '213837982', '157386116', '196975085', '212384818', '107290521', '122842563', '176999668', '216683235', '192982996', '143549867', '216448729', '215182228', '214440048', '191803130', '206064472', '135767906', '216702590', '194571286', '208563990', '194462457', '211161410', '191733627', '216714358', '216000917', '216946910', '216946913', '215506434', '207572109', '216946919', '116883782', '147590980', '215928287', '187655322', '148521778', '186647314', '136310318', '135039108', '141731628', '135793210', '207263428', '198844834', '204853000', '203188650', '211482926', '181327983', '216671011', '199138852', '216671543', '216330739', '175969327', '188275253', '206187733', '205859798', '191257083', '210151369', '178229101', '216978748', '144306765', '202202521', '216605987', '216694392', '100832916', '109723023', '216226425', '212036062', '216266234', '208243959', '216749895', '121893742', '209308798', '199745831', '157844228', '215822709', '196048690', '176003635', '129734043', '216477160', '216758158', '128779540', '209796478', '184990881', '195308586', '208268948', '209359181', '156785433', '189652672', '195130794', '216948349', '212879623', '189439628', '216953472', '213792045', '216080617', '217008378', '156853850', '212906267', '200343720', '198908469', '180598274', '215428907', '110173326', '216757949', '211435730', '130886253', '212165650', '213617288', '126173056', '214753376', '211814372', '135705666', '210716979', '166949166', '200673719', '216944510', '192588118', '184968800', '138514196', '182643541', '215346448', '216712170', '204823002', '214885082', '122394005', '213387122', '209449249', '111988818', '148832228', '122505108', '198812702', '211843685', '201631013', '204509820', '184121911', '180921858', '216213209', '211388127', '211258839', '193813977', '182935798', '215552974', '145667456', '215714270', '214525668', '212329641', '211219437', '216633121', '106700653', '100658683', '214431450', '203089195', '206935109', '193213997', '214919180', '157293876', '216541650', '216437942', '214820936', '111693061', '215629793', '213100411', '187907745', '216939447', '212541857', '207900330', '215357910', '104682681', '207788912', '208650544', '184549708', '194866551', '137097523', '113263483', '211911771', '194247332', '200225435', '208630475', '216061356', '188099333', '114953986', '199516121', '206072652', '196730605', '216610186', '204617059', '211420560', '130673253', '216924289', '214076407', '165924647', '216388019', '214786463', '132635904', '174444951', '103739467', '191287980', '212327989', '136842582', '191101438', '113923427', '135651515', '128813362', '184677577', '157982850', '201994007', '216947343', '122112196', '135894098', '192288027', '209651850', '189588473', '125203851', '216975276', '216886346', '146343439', '132629302', '129366526', '190277886', '215670482', '148946471', '202112099', '130467261', '212161539', '182682915', '203841181', '200523367', '205308570', '213126804', '216707201', '193233353', '112513973', '214538069', '145146189', '205696692', '204922197', '216212651', '185428727', '115056961', '105097600', '216791146', '215758491', '150695149', '195033161', '215591946', '195294108', '216607766', '100631293', '187093048', '175220161', '150866269', '168984426', '109002265', '197795618', '211729424', '188357852', '212018673', '215789201', '195929318', '212776632', '216970222', '150941188', '194603320', '216317599', '155859153', '197050256', '203843543', '213356487', '149729475', '213646569', '186650353', '157221601', '212708309', '166476562', '192140625', '212111142', '190467593', '216790008', '215778109', '205385004', '192140596', '204096138', '145090625', '113600871', '173941667', '216867859', '177002552', '198805803', '133650861', '212218806', '202248860', '166551145', '127708246', '198204631', '169571071', '123587731', '111583592', '207607811', '157569496', '214677209', '214846890', '147813197', '194322157', '211155200', '127638761', '216275783', '216879422', '216778995', '104187176', '207584994', '216559585', '200272215', '183736402', '196361062', '200946295', '172266406', '176243534', '174760417', '207363284', '208063331', '198699834', '183040568', '216859635', '213173685', '210729885', '213512790', '161357587', '194030782', '194561041', '210571821', '216946767', '133266928', '193987789', '216946720', '214845124', '113403512', '216946093', '214478949', '216594724', '198168399', '114258325', '214189096', '121386065', '168917055', '162989607', '114588622', '211537302', '212476168', '113467427', '104189945', '216628253', '134281888', '112589081', '216623659', '156860216', '214483510', '193283422', '216777622', '216972673', '214692877', '211997898', '174394809', '216946589', '213961261', '187713478', '121561605', '164847995', '191816274', '208059519', '134602919', '174741145', '216732606', '166529236', '205935906', '109551610', '215918498', '117176782', '216604116', '180207962', '200332838', '210243023', '216614186', '216277349', '204600007', '109547695', '200441552', '216792760', '189195395', '202585013', '115006965', '116621276', '210972338', '208294712', '209696439', '174574672', '171019359', '202683618', '215016071', '215981300', '196505243', '119993094', '216009936', '149124648', '212855494', '105916575', '214974531', '215814534', '157984038', '206169166', '198251471', '210636586', '174759890', '187592687', '216326803', '141279783', '102093227', '214070109', '176526633', '204526060', '177136535', '215646612', '181298307', '215536614', '214478979', '118367746', '209333466', '216902395', '216691664', '201856352', '145415490', '163552515', '216505817', '216914044', '216981196', '215766591', '114846418', '215476301', '208804552', '130056944', '151547753', '216093717', '148452882', '194179231', '216690820', '194713076', '214740871', '200342341', '216829347', '204746039', '169399463', '188275677', '170908522', '110508734', '120784359', '207039610', '157167848', '208483626', '216363723', '216139925', '211678638', '196951536', '216902171', '216828872', '213723955', '187310901', '110715262', '214698927', '216974594', '199525063', '216629481', '211767109', '187550004', '216973358', '169520447', '209594460', '148130627', '168595684', '216671999', '146122294', '187270029', '212901221', '198594801', '193151387', '121518803', '204069954', '131646147', '197919018', '203148848', '213977352', '216309272', '208888383', '207447995', '216086020', '204092041', '116449121', '205182165', '215723439', '215823168', '102804150', '194513397', '123101436', '135620635', '205974720', '211489172', '187099255', '126478227', '216745920', '206499880', '203795656', '211100841', '182640541', '110368753', '183083216', '212814702', '214255505', '102112619', '216676103', '200727452', '102788479', '184211479', '144932019', '174336234', '205650028', '127649462', '124682638', '205542592', '216471645', '206509995', '117115464', '216620855', '120652540', '211454449', '102895043', '216835694', '122121915', '198406843', '174148449', '212650852', '207669190', '216086965', '123943527', '201467900', '215181937', '189124652', '216446376', '211039089', '109068720', '205945979', '152738018', '211201979', '215131499', '216910306', '163594491', '181220291', '206235921', '184125541', '103694080', '198279295', '216946543', '209125742', '191328360', '214244293', '216671046', '141826433', '207199270', '150709345', '204420265', '108200814', '215487972', '179110184', '153458782', '208874722', '201733998', '108377468', '213740698', '126675850', '108567518', '138768112', '147793514', '197135457', '192745476', '109593142', '194460742', '192281509', '151888978', '212125427', '161507432', '203999715', '185058744', '207285306', '135960069', '213935423', '102865564', '104464144', '209809961', '116409150', '212038617', '215503107', '216791526', '157554454', '195929555', '197606699', '180356139', '209954361', '200577651', '199236419', '212800873', '142018011', '199974425', '205570612', '191609995', '215299170', '216872944', '180599171', '214946192', '154868915', '214977755', '195577711', '213199812', '199133747', '198870708', '208688675', '205992406', '204013042', '142692346', '213342206', '216950343', '212997466', '146014747', '213720861', '153478020', '215699275', '216885092', '144371986', '211582953', '110432039', '210905964', '193553601', '163566032', '194805674', '207770945', '180086199', '136567399', '216696373', '200820586', '208098832', '216829459', '208018961', '203176553', '208595028', '216886614', '213179360', '216879521', '207434818', '216253678', '216635053', '165590480', '101271343', '206894116', '172718734', '187297596', '213836873', '198212627', '205116145', '130533303', '214321850', '213371850', '207882134', '207933702', '163786794', '194437541', '194699454', '201293645', '214248337', '215201621', '166047241', '207361133', '197942707', '213511895', '138543998', '216661079', '204000491', '176012622', '171489483', '194357398', '207530783', '216893178', '216856033', '119908849', '196382982', '177484655', '215213766', '101421001', '102861910', '175435958', '198025603', '216666031', '197336345', '212595735', '216835995', '214601923', '211880848', '175932608', '194437726', '167771869', '188219096', '185843500', '216488536', '188646716', '216988389', '205209087', '200983549', '203035118', '133912733', '157529806', '204029472', '190988480', '103663397', '210915132', '105384678', '216783317', '157988755', '212454134', '216022806', '132720085', '215804623', '216956592', '195982994', '216819049', '191955636', '193669540', '211868534', '198995177', '112162066', '112322036', '194958489', '196645351', '161987120', '195723937', '187597462', '210900288', '104389752', '217002715', '203756748', '195162014', '131888113', '211266483', '198438823', '212697645', '216582406', '213176312', '216680824', '149977528', '113340770', '127576244', '209127878', '211788034', '121986373', '176044859', '206711487', '190542270', '153646669', '207507637', '192082583', '216142256', '204437071', '216214411', '214686148', '213680905', '193399471', '167867755', '200895629', '208668648', '202160405', '109079492', '204185474', '174580041', '214363964', '216670214', '181910762', '210676084', '216883477', '209246770', '216991822', '173111777', '140053560', '216334943', '204173181', '162917392', '215254247', '198157356', '206425421', '177632810', '213126662', '201625722', '155870936', '127003057', '125705184', '106980326', '196849172', '204674586', '190426751', '213999099', '202131938', '199670397', '211253067', '167985718', '208061309', '199809246', '106471918', '147658842', '216372687', '212743301', '203721842', '193146361', '203675701', '182852152', '200360149', '192023502', '106929869', '215796832', '212401976', '203519084', '167914086', '183530329', '215873048', '216721850', '171490626', '192962448', '199551205', '216969276', '187087901', '210478968', '214117626', '212446132', '215420937', '208367700', '190406051', '194157500', '120624686', '131664167', '169943994', '213720760', '172011843', '173808693', '207760590', '212850980', '216881158', '116950601', '216735730', '120736583', '197699081', '216898504', '200402672', '147674744', '109978876', '208010370', '216946540', '216786277', '122801120', '196850644', '122508833', '209410135', '187740870', '194953131', '112150597', '193649886', '216546852', '200039187', '177494284', '181096390', '212872260', '216902612', '188562659', '216258875', '208104679', '205188967', '215235249', '211350039', '113823505', '170388957', '175297075', '212653409', '172287745', '216100465', '205397736', '215301834', '133780143', '108445465', '141435550', '211956205', '213026296', '216314599', '175274785', '204186819', '216004893', '207848157', '208101189', '189207282', '208518894', '146841886', '194624105', '213737556', '193156718', '162864483', '213089198', '127225052', '208348378', '188641509', '213613984', '204033122', '163498785', '124400135', '192963242', '216637686', '217005812', '202712978', '212910257', '208038430', '216650939', '211361847', '180663896', '132357281', '195377488', '214517682', '193510788', '108959175', '200562819', '137042879', '216665691', '208412266', '146035176', '216724574', '195903015', '174853350', '185310306', '216482927', '195354313', '131340409', '216821770', '202602345', '215900477', '192657698', '191578769', '213845348', '125421960', '113066774', '156782467', '210709006', '201753844', '216847992', '165408639', '180052808', '199132607', '209431202', '127198736', '211411023', '212054320', '113791124', '216353091', '162570658', '161251787', '196675667', '156277533', '155197895', '216695497', '205867204', '205698747', '198794934', '125261879', '189707783', '202964259', '215148366', '216560880', '212871245', '181203813', '114671329', '205851413', '214716369', '146244942', '214028582', '206679105', '215594287', '212504068', '213461846', '212621951', '118011516', '214793452', '176129904', '182960313', '205396145', '216939788', '213905874', '215447134', '197425667', '215501972', '142092135', '186475119', '210683675', '216626632', '215229517', '195350844', '196438849', '192185650', '215900041', '201835542', '199380555', '216308507', '189096866', '216620377', '216578455', '216954442', '189143394', '175156624', '193723250', '216869921', '196122452', '216551792', '204909223', '213845570', '174487521', '138494048', '215690094', '215970512', '216267098', '212369118', '216705547', '174486128', '157319987', '209591324', '203448689', '183214066', '180406458', '216621984', '138499516', '213740918', '212868452', '214077738', '134461552', '165087502', '214731742', '141501802', '208361209', '142777321', '201710516', '196240479', '207268052', '215922709', '112746075', '203949106', '187404117', '214672215', '209692086', '138333439', '211085172', '204588797', '188569714', '216484025', '134450769', '216942936', '216493769', '203578146', '200531358', '216843341', '216886425', '204578212', '216449031', '145459795', '215640100', '211717288', '129607111', '207252085', '180497382', '174267600', '169252247', '194510511', '172525602', '214482249', '217003125', '181186829', '196043856', '215475948', '215804396', '187032532', '101869708', '216085489', '208397753', '128002161', '207270183', '214315532', '135734181', '195011769', '204350354', '154646270', '216093221', '215852613', '195598525', '164789920', '157012906', '214133471', '215799247', '197958463', '144018705', '214822526', '105925440', '200122942', '138734245', '212532832', '190293450', '175768907', '200236091', '215513741', '212382311', '182993707', '204340771', '211809777', '173718762', '216052659', '195291109', '100232826', '161923843', '189587828', '215109951', '105881838', '211356674', '151354388', '196148134', '170637707', '213969087', '148041939', '177881912', '156158649', '211607014', '143113813', '215307898', '192799769', '216891335', '211534017', '193640897', '205436321', '216891448', '215506132', '216720248', '211885950', '216946125', '216722867', '215147479', '208053204', '132462533', '204459060', '188219513', '214715620', '216680584', '136776317', '197026331', '215251603', '212863457', '126061700', '216395654', '208392570', '216690514', '214542353', '209867282', '215258108', '214735527', '199548524', '178410322', '182341062', '215497631', '195358921', '209518490', '210699286', '214377159', '193645767', '216364894', '197076069', '215981918', '143325111', '200495420', '212815457', '191061085', '216165016', '130517323', '203588954', '176717860', '212106561', '122482463', '208083092', '143890943', '164508166', '129314397', '212156539', '192502311', '175482126', '194179966', '135546543', '215481591', '122112812', '202883352', '110988043', '170407251', '216853156', '164359478', '189400348', '162872366', '206053259', '205042712', '215683085', '180024043', '214075023', '137412525', '213040058', '207003166', '203961109', '216839740', '216679389', '149097795', '213075979', '212346513', '212041804', '210634164', '215177926', '216725563', '211918315', '212099672', '216332835', '214485321', '168377319', '216777562', '215312445', '182952000', '216949034', '171247598', '129549401', '132560185', '105103873', '196110659', '193747860', '199816784', '208414663', '215646987', '216025627', '210721463', '207600167', '109327885', '142869379', '212339579', '207942109', '216189404', '216750845', '209584170', '176012643', '172971109', '211688603', '190189479', '198527225', '123231560', '209589471', '184959747', '209107950', '216505581', '178445576', '216066765', '200770907', '120578868', '213618244', '216834891', '216669234', '200407210', '216282158', '119844885', '110071890', '215153966', '216934042', '216965215', '131959802', '158241348', '211951380', '215726085', '207875138', '195381106', '216832328', '212722369', '121083583', '126627806', '216621838', '167846099', '102165114', '192571104', '120252969', '180684819', '128999958', '201174955', '212989055', '212043961', '216829434', '205795910', '153767169', '126857972', '207604584', '215705902', '213074144', '114707162', '215017468', '113282518', '203666632', '117620712', '111236372', '206794737', '187537732', '194889473', '136830846', '155210270', '204416640', '138450257', '210795333', '171953008', '214003978', '216615672', '216686982', '113343000', '210823926', '215314129', '208039384', '193051836', '184417330', '202177361', '213196854', '101635841', '206449173', '215392069', '208412034', '216431269', '172121650', '207104210', '214510036', '215129759', '183275594', '106677003', '211868733', '216946489', '172736228', '143385054', '213720966', '118009074', '216746914', '215266705', '132093395', '212098071', '103843159', '196896316', '206210724', '216651745', '214501763', '215479583', '141309971', '215314694', '216991513', '186645091', '212798378', '195478781', '216689537', '204928645', '215648246', '136411916', '214960996', '206168488', '114470098', '153594002', '171357894', '216779945', '164787976', '216787421', '163571642', '211472731', '187780068', '139007016', '209603968', '210524648', '214537640', '201475781', '201277142', '214879690', '209540433', '112875866', '216391357', '198732902', '214252893', '215266011', '214846337', '216374943', '206667483', '207298375', '206496893', '212499119', '149715092', '214372800', '193389364', '198601673', '213747794', '189665955', '113178902', '204100060', '201627743', '214199452', '134533176', '194454381', '206966295', '187119370', '170905190', '216650746', '216848412', '188355554', '204583578', '209766463', '102266652', '213774761', '124069666', '170752198', '201878528', '195429981', '204946190', '151610138', '216418719', '216199032', '199220358', '212705913', '195657213', '216422106', '200217266', '215975821', '177536328', '216600738', '206598084', '213079461', '109699398', '171709143', '206923534', '126708954', '195859659', '216118553', '216888383', '216794783', '216168034', '198461938', '206503468', '200745437', '215935843', '194746715', '215235692', '216726336', '212399550', '203925725', '214769037', '131511577', '199134832', '211247943', '216725353', '214966108', '204518252', '196528489', '216793759', '216660283', '215596259', '211038941', '110532046', '130861318', '131290025', '208052610', '135166041', '116009391', '192484283', '165824207', '200712200', '199683876', '172128188', '204256646', '106925027', '213720746', '167730777', '216797458', '109932449', '205223424', '209502712', '215201208', '162388411', '195053025', '196852751', '206156329', '216533030', '214213476', '212489439', '215898494', '216171261', '154784156', '215983079', '196685271', '200112365', '216686615', '205774696', '207441559', '216916848', '216603190', '164431983', '206564402', '216121328', '215340967', '214039518', '198277809', '122466625', '157683187', '103569864', '214081817', '206002524', '205168065', '162739692', '157815702', '212505532', '128902031', '120835615', '210869286', '210823317', '216699919', '213787140', '142100474', '216536528', '215376100', '127115071', '121376795', '215299099', '214384225', '213784145', '214057821', '191479853', '204473361', '215048975', '210591357', '216355040', '216633540', '216386348', '132769509', '189813922', '212701113', '193365976', '207608930', '209600686', '190572367', '122946693', '173252028', '141396794', '165158845', '134061492', '117105911', '214780706', '216305041', '217006736', '171700572', '106919542', '198699202', '206158065', '216744213', '122234035', '154435955', '182949130', '167872412', '212228240', '196100298', '151982595', '189717666', '216082920', '216687564', '210022286', '168010907', '115690050', '209652263', '208415435', '201944371', '126111772', '216842103', '187700102', '206091164', '112495082', '215972268', '215800737', '206207673', '212013330', '215081289', '167967538', '162616653', '216440374', '206212514', '172706116', '215988515', '203133901', '181978103', '215264051', '215875359', '198134179', '211998244', '202914093', '154349271', '211169349', '213964799', '208130650', '213477509', '215968307', '133127326', '124316874', '118038424', '122387164', '200362945', '206359241', '204889482', '216904350', '187224669', '113394622', '212916455', '197096373', '207614395', '112166828', '201129420', '138881351', '164128829', '208180793', '206703497', '211977649', '182563486', '203084719', '193017310', '109651991', '213451558', '193493468', '197453367', '164701178', '208706727', '199501921', '210312503', '179650099', '214254492', '212749822', '215900069', '216616672', '132767050', '102032127', '215780896', '196305578', '216443974', '212361705', '216482294', '199824686', '198991860', '208877843', '209518841', '216988535', '217033407', '176731940', '214994500', '195206015', '214564962', '208819480', '150316729', '212802703', '212216765', '136402713', '100285829', '106741882', '199949024', '209857904', '121505010', '215674727', '216278862', '205959832', '214840597', '112747840', '208868412', '214283548', '216639918', '201090170', '133887538', '125531459', '212525413', '216920706', '129766098', '198010882', '215484619', '123255922', '216886405', '148878751', '204210846', '147722888', '201637046', '103514617', '151906111', '216666593', '211563793', '196197132', '195509670', '216106497', '214718808', '216670394', '208020097', '213704016', '201724669', '112437389', '175005710', '166630266', '123009761', '208351050', '179369576', '215513182', '184834270', '204748292', '126610288', '119424019', '210655634', '213406501', '212673000', '206099215', '209604687', '175713999', '139273722', '214520792', '102286240', '216600121', '101478878', '122342892', '209901621', '204444760', '123269369', '200204979', '154324303', '194457587', '216307981', '215358167', '198385791', '206184908', '176275944', '216830681', '209063866', '197761950', '202226919', '200714276', '215474587', '187510678', '142071799', '207920193', '216121958', '214768956', '174826430', '199017627', '211777277', '139699377', '204675148', '209363558', '193881745', '213430106', '171522766', '209053523', '127114256', '166447772', '200806277', '136082723', '176982396', '216251925', '214062402', '118994899', '137083751', '151908423', '107207380', '186643005', '119305587', '199472017', '208478726', '216671008', '206718069', '210089251', '205387004', '216677810', '207053288', '211889299', '131511960', '138590370', '109408332', '117516562', '170941899', '215544730', '214843069', '187097590', '216858343', '205330682', '124963567', '187939627', '108115246', '188429177', '213840031', '148929844', '129279139', '200731869', '216681435', '162182134', '131379186', '215548575', '171763536', '204259343', '204508087', '209233778', '216687770', '169861357', '207151533', '213567134', '207151535', '169398378', '206722086', '153276344', '191597926', '195034550', '100985962', '202231184', '212099476', '209615491', '215452093', '208430924', '205036056', '208953357', '184043607', '201341176', '216884714', '172281619', '214252330', '108898918', '213539397', '172449037', '197884076', '214478861', '203633683', '216633318', '209302821', '206767858', '195940748', '216203886', '173961927', '215668964', '216365405', '213544495', '182611689', '208772574', '216308095', '216561708', '205670861', '174364977', '102665177', '180436823', '216021253', '204255997', '216600094', '216622718', '182917914', '211831084', '190077062', '209481915', '186917019', '215619979', '216964091', '211021346', '213449867', '148593141', '207577676', '195863620', '201548873', '134952492', '107802320', '216790690', '197420714', '181125660', '214532705', '209707324', '129154836', '183113460', '204475499', '202425608', '210074048', '142283391', '212812428', '203481744', '210545552', '192009906', '201700934', '195660806', '215935797', '174309359', '120699061', '216839122', '217018163', '215690647', '186738329', '198750014', '216669741', '199535261', '108781190', '212310935', '204432802', '208400158', '216665249', '211591106', '168579248', '216833650', '156915549', '216168653', '151905758', '141345151', '207482071', '214690511', '109597224', '214880050', '215017939', '212293052', '145062751', '204963109', '170773033', '216638569', '161717929', '216777573', '213508366', '167602442', '104817210', '216493576', '196517924', '109929466', '215094135', '197630984', '217023051', '212455724', '214951881', '216555778', '199514037', '216260931', '101716429', '213831378', '188811443', '216946390', '162372589', '214890771', '147327055', '187844000', '157072073', '174571454', '206771012', '215258077', '105858090', '165687823', '187647381', '141127437', '216646770', '126819533', '155931803', '134551897', '185807370', '128694763', '212968797', '202423768', '186684861', '184826882', '213883589', '147843532', '213454356', '125443061', '137225534', '210820940', '205767351', '121424616', '156112100', '216946463', '174607618', '214934752', '195749610', '216788427', '170250551', '209550082', '124656577', '130976721', '187584456', '215496489', '161222052', '216276223', '135802110', '215958802', '208865105', '217014089', '195883528', '178625095', '212325149', '157608756', '214875346', '216831657', '203045836', '158733112', '216442905', '196314949', '181781327', '210950727', '144295523', '102878697', '216497477', '192290869', '200301443', '212450833', '215558703', '203938848', '205021979', '216674172', '206608977', '196060927', '208781817', '210092072', '210800323', '196615961', '205852739', '123255263', '207010683', '174526908', '211545895', '205341293', '113174278', '178032835', '207571521', '200698486', '118114402', '173073430', '206559341', '203676653', '206301238', '181894654', '193621987', '206711933', '139693451', '166284263', '216113428', '107502005', '196197583', '209611854', '139346701', '108775566', '103797865', '215597747', '216444481', '215289729', '120860686', '199820790', '206817566', '214662883', '107799782', '216604219', '179295278', '215517121', '172434980', '114008478', '114973420', '110257468', '207751746', '189003010', '123034869', '180205485', '215932467', '216259654', '203686198', '215663843', '213696334', '213177624', '164572475', '202126553', '102871703', '110895284', '109122226', '215958365', '128473213', '216984345', '199230589', '131352444', '203227440', '199700171', '215935897', '190378908', '200789169', '201934806', '203677672', '212843209', '216695534', '213753426', '216066492', '199240303', '207438518', '215537268', '205123299', '214776447', '216557250', '177235375', '146572438', '112873955', '214807421', '203673144', '149503515', '214650283', '216648490', '188458878', '195718099', '216973428', '136385999', '214946929', '163778704', '193183010', '189025666', '195846033', '123480450', '215766786', '137498920', '198242404', '157697893', '209125916', '154585409', '216793793', '198228744', '190175521', '189065507', '216783127', '119411777', '140082482', '211043282', '192883887', '130249685', '181339884', '112416019', '209863011', '190379056', '207832665', '123241289', '186437402', '127270559', '138833727', '204428645', '211350073', '216783228', '215793805', '216947491', '215394451', '201270713', '214834027', '215426148', '194816760', '172922166', '161232458', '170646743', '126062977', '203687772', '188499275', '171465285', '195708918', '211765685', '116642040', '185659906', '201174701', '216200520', '109754101', '106089310', '193003510', '216081535', '212489391', '212549154', '126948996', '131159333', '216616879', '106361675', '104582957', '214569049', '153695100', '216383776', '200416151', '110606357', '207510379', '204153939', '216613269', '215869769', '203682482', '129199871', '176024976', '155016064', '194890977', '214624929', '174321419', '202582426', '205319005', '188731353', '208751297', '216724200', '209051017', '198281485', '216682064', '216779187', '157095904', '216560867', '146288004', '141172279', '148040717', '205648570', '212025009', '212983279', '216979219', '181507572', '216563357', '211505551', '181162551', '215735835', '123143865', '120786432', '119451708', '214372619', '217014060', '154388407', '191443876', '177496696', '198021586', '106587188', '134053665', '111381414', '207606382', '106345656', '177960862', '214306202', '215621008', '180418303', '169474311', '155530507', '128384040', '215356974', '213591655', '199821699', '194946823', '216946073', '216946071', '111058389', '164795419', '215252952', '214662655', '214223983', '214773136', '180967526', '216196097', '207063974', '147840181', '203597836', '216702879', '216559075', '216777962', '112415841', '215760838', '184276606', '213578020', '191451688', '174552099', '119202106', '216778372', '118048628', '165662928', '216369211', '193922062', '215947508', '199428498', '127052858', '119800127', '198850665', '215298886', '180186397', '216668971', '113258657', '199760100', '107563830', '197656244', '201216663', '216273652', '171143289', '151591850', '115918750', '207378772', '174174617', '197721159', '210955185', '216848862', '134234691', '200227915', '216879484', '213174748', '181975898', '196338968', '212942030', '198644588', '214959271', '116641893', '200387165', '121899981', '165725083', '128421144', '215249372', '134863685', '200404814', '210181007', '209055579', '216786968', '198100667', '198744639', '214547037', '207904849', '206173410', '203760289', '211085135', '216998057', '214384164', '200504955', '214611033', '202237176', '216811915', '216570420', '153610702', '211110878', '212662371', '170482236', '109680470', '216629243', '194601867', '179382700', '122345596', '214078853', '174156388', '192153762', '205826335', '120664752', '119257921', '156262697', '125888718', '103781141', '176551078', '146782898', '178953171', '104627092', '215258537', '165491388', '105182376', '203397683', '201759660', '214414037', '210525509', '143829333', '213715463', '216690883', '183071257', '216684810', '158415784', '169528630', '216681411', '193320238', '208121400', '183774763', '197706910', '214791999', '215005348', '215761726', '216779341', '216559819', '195580149', '193610425', '213135756', '175823592', '208659502', '139086524', '208927892', '214629145', '216121693', '181740058', '202577606', '107113917', '216124188', '174070362', '194553574', '189110672', '176134321', '122606475', '130851024', '215253313', '194789354', '170752070', '207736744', '199080406', '116644446', '194780392', '210950890', '207688855', '216845738', '192692956', '144428802', '199084537', '154664071', '214760432', '215448888', '216275972', '132043688', '190698062', '214064458', '121014862', '156032190', '214223412', '205954235', '190540449', '212750453', '214716197', '156764428', '203185962', '155772208', '198276658', '123313037', '178793345', '134072489', '165395242', '201476760', '215856653', '216913043', '211347325', '210902408', '156233734', '208349669', '215872550', '216427095', '100937795', '214120163', '213533318', '216801059', '190488700', '187504514', '211085207', '211686294'])"
      ]
     },
     "execution_count": 63,
     "metadata": {},
     "output_type": "execute_result"
    }
   ],
   "source": [
    "img_results.keys()"
   ]
  },
  {
   "cell_type": "code",
   "execution_count": 67,
   "metadata": {},
   "outputs": [
    {
     "name": "stdout",
     "output_type": "stream",
     "text": [
      "{'index': 1, 'name': 'shoulder casual loose tassel solid mini women dress', 'price': 21.0, 'likes': 1931, 'image': 'http://img1.polyvoreimg.com/cgi/img-thing?.out=jpg&size=m&tid=178765444', 'categoryid': 4, 'set_id': '206697445'}\n",
      "4\n",
      "{'index': 2, 'name': 'jimmy choo suede platform sandals', 'price': 670.0, 'likes': 7620, 'image': 'http://img2.polyvoreimg.com/cgi/img-thing?.out=jpg&size=m&tid=172308194', 'categoryid': 46, 'set_id': '206697445'}\n",
      "46\n",
      "{'index': 3, 'name': \"women's michael michael kors leather wallet\", 'price': 160.0, 'likes': 103, 'image': 'http://img1.polyvoreimg.com/cgi/img-thing?.out=jpg&size=m&tid=126265039', 'categoryid': 40, 'set_id': '206697445'}\n",
      "40\n",
      "{'index': 4, 'name': 'jewelry gold coral bead stacking bracelets set', 'price': 315.0, 'likes': 1703, 'image': 'http://img1.polyvoreimg.com/cgi/img-thing?.out=jpg&size=m&tid=160475009', 'categoryid': 106, 'set_id': '206697445'}\n",
      "106\n",
      "{'index': 5, 'name': 'fire swing back earrings', 'price': 35.0, 'likes': 517, 'image': 'http://img1.polyvoreimg.com/cgi/img-thing?.out=jpg&size=m&tid=168366390', 'categoryid': 64, 'set_id': '206697445'}\n",
      "64\n"
     ]
    }
   ],
   "source": [
    "for d in data:\n",
    "    if d['set_id'] in '206697445':\n",
    "        for i in d['items']:\n",
    "            print(i)\n",
    "            print(i['categoryid'])"
   ]
  },
  {
   "cell_type": "code",
   "execution_count": 68,
   "metadata": {},
   "outputs": [],
   "source": [
    "with open('./Style2Vec/data/label/train_no_dup_clean.json',\"w\") as output_file:\n",
    "    json.dump(data, output_file)"
   ]
  },
  {
   "cell_type": "code",
   "execution_count": 2,
   "metadata": {},
   "outputs": [],
   "source": [
    "import numpy as np\n",
    "import seaborn as sns\n",
    "import matplotlib.pyplot as plt"
   ]
  },
  {
   "cell_type": "code",
   "execution_count": 4,
   "metadata": {},
   "outputs": [],
   "source": [
    "embed = np.load('./Style2Vec/models/embeding.npy', allow_pickle=True)"
   ]
  },
  {
   "cell_type": "code",
   "execution_count": 8,
   "metadata": {},
   "outputs": [],
   "source": [
    "ref = [74,76,77,78,113,115,116,118,122,123,124,\n",
    "                               93,94,95,96,97,98,99,\n",
    "                               126,127,129,130,132,135,136,139,140,\n",
    "                               141,143,144,4241,4242,147,4244,150,\n",
    "                               4247,4248,153,154,155,157,4254,159,\n",
    "                               160,4257,162,163,164,166,167,168,169,\n",
    "                               170,4267,172,173,174,175,176,177,178,\n",
    "                               179,180,181,182,4292,\n",
    "                               184,185,186,187,189,190,191,192,193,194,\n",
    "                               195,197,198,199,200,201,202,203,204,205,\n",
    "                               206,207,208,209,211,213,214,216,217,218,\n",
    "                               219,220,221,222,223,224,225,226,227,228,229,\n",
    "                               308,311,313,314,316,317,318,319,320,321,\n",
    "                               4433,338,339,340,4439,4440,4443,4445,4446,\n",
    "                               4448,4449,4450,4451,4480,4481,4482,4483,\n",
    "                               4484,4485,4486,4487,4488,4489,4490,4492,\n",
    "                               4493,4499,4500,4501,4502,4503,4504,4505,\n",
    "                               4506,4507,4508,4509,4510,4511,4512,4513,\n",
    "                               4514,4438,4240,146,148,4246,151,152,949,\n",
    "                               161,4258,171,4269,196,3336,1967,4429,4430,\n",
    "                               4431,336,337,4434,4435,4436]"
   ]
  },
  {
   "cell_type": "code",
   "execution_count": 8,
   "metadata": {},
   "outputs": [],
   "source": [
    "new_embed = [e for e in embed if e[1] not in ref]"
   ]
  },
  {
   "cell_type": "code",
   "execution_count": 9,
   "metadata": {},
   "outputs": [
    {
     "data": {
      "text/plain": [
       "6791"
      ]
     },
     "execution_count": 9,
     "metadata": {},
     "output_type": "execute_result"
    }
   ],
   "source": [
    "# removed non-fashion items\n",
    "len(new_embed)"
   ]
  },
  {
   "cell_type": "code",
   "execution_count": null,
   "metadata": {},
   "outputs": [],
   "source": [
    "np.save('')"
   ]
  },
  {
   "cell_type": "code",
   "execution_count": 7,
   "metadata": {},
   "outputs": [
    {
     "data": {
      "image/png": "[encoded data removed]",
      "text/plain": [
       "<Figure size 432x288 with 1 Axes>"
      ]
     },
     "metadata": {
      "needs_background": "light"
     },
     "output_type": "display_data"
    }
   ],
   "source": [
    "# Distribution of values in embeddings shows values beyond 1\n",
    "sns.distplot(results, kde=False);"
   ]
  },
  {
   "cell_type": "code",
   "execution_count": 9,
   "metadata": {},
   "outputs": [
    {
     "data": {
      "text/plain": [
       "6.3018074"
      ]
     },
     "execution_count": 9,
     "metadata": {},
     "output_type": "execute_result"
    }
   ],
   "source": [
    "max(results)"
   ]
  },
  {
   "cell_type": "code",
   "execution_count": 10,
   "metadata": {},
   "outputs": [
    {
     "data": {
      "text/plain": [
       "1.0000014"
      ]
     },
     "execution_count": 10,
     "metadata": {},
     "output_type": "execute_result"
    }
   ],
   "source": [
    "min(results)"
   ]
  },
  {
   "cell_type": "code",
   "execution_count": null,
   "metadata": {},
   "outputs": [],
   "source": []
  }
 ],
 "metadata": {
  "kernelspec": {
   "display_name": "Python 3",
   "language": "python",
   "name": "python3"
  },
  "language_info": {
   "codemirror_mode": {
    "name": "ipython",
    "version": 3
   },
   "file_extension": ".py",
   "mimetype": "text/x-python",
   "name": "python",
   "nbconvert_exporter": "python",
   "pygments_lexer": "ipython3",
   "version": "3.6.10"
  },
  "toc": {
   "base_numbering": 1,
   "nav_menu": {},
   "number_sections": true,
   "sideBar": true,
   "skip_h1_title": false,
   "title_cell": "Table of Contents",
   "title_sidebar": "Contents",
   "toc_cell": false,
   "toc_position": {},
   "toc_section_display": true,
   "toc_window_display": false
  }
 },
 "nbformat": 4,
 "nbformat_minor": 4
}
